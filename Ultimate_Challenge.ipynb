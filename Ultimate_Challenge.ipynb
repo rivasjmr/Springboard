{
 "cells": [
  {
   "cell_type": "markdown",
   "metadata": {},
   "source": [
    "# Read in json file and do initial data exploration"
   ]
  },
  {
   "cell_type": "code",
   "execution_count": 1,
   "metadata": {
    "collapsed": true
   },
   "outputs": [],
   "source": [
    "# Import  packages\n",
    "import pandas as pd\n",
    "import numpy as np"
   ]
  },
  {
   "cell_type": "code",
   "execution_count": 2,
   "metadata": {},
   "outputs": [
    {
     "data": {
      "text/html": [
       "<div>\n",
       "<style>\n",
       "    .dataframe thead tr:only-child th {\n",
       "        text-align: right;\n",
       "    }\n",
       "\n",
       "    .dataframe thead th {\n",
       "        text-align: left;\n",
       "    }\n",
       "\n",
       "    .dataframe tbody tr th {\n",
       "        vertical-align: top;\n",
       "    }\n",
       "</style>\n",
       "<table border=\"1\" class=\"dataframe\">\n",
       "  <thead>\n",
       "    <tr style=\"text-align: right;\">\n",
       "      <th></th>\n",
       "      <th>login_time</th>\n",
       "    </tr>\n",
       "  </thead>\n",
       "  <tbody>\n",
       "    <tr>\n",
       "      <th>0</th>\n",
       "      <td>1970-01-01 20:13:18</td>\n",
       "    </tr>\n",
       "    <tr>\n",
       "      <th>1</th>\n",
       "      <td>1970-01-01 20:16:10</td>\n",
       "    </tr>\n",
       "    <tr>\n",
       "      <th>2</th>\n",
       "      <td>1970-01-01 20:16:37</td>\n",
       "    </tr>\n",
       "    <tr>\n",
       "      <th>3</th>\n",
       "      <td>1970-01-01 20:16:36</td>\n",
       "    </tr>\n",
       "    <tr>\n",
       "      <th>4</th>\n",
       "      <td>1970-01-01 20:26:21</td>\n",
       "    </tr>\n",
       "  </tbody>\n",
       "</table>\n",
       "</div>"
      ],
      "text/plain": [
       "           login_time\n",
       "0 1970-01-01 20:13:18\n",
       "1 1970-01-01 20:16:10\n",
       "2 1970-01-01 20:16:37\n",
       "3 1970-01-01 20:16:36\n",
       "4 1970-01-01 20:26:21"
      ]
     },
     "execution_count": 2,
     "metadata": {},
     "output_type": "execute_result"
    }
   ],
   "source": [
    "# Load json file into pandas dataframe (DF)\n",
    "df_logins = pd.read_json('logins.json')\n",
    "df_logins.head()"
   ]
  },
  {
   "cell_type": "code",
   "execution_count": 6,
   "metadata": {},
   "outputs": [
    {
     "name": "stdout",
     "output_type": "stream",
     "text": [
      "Describe\n",
      "                 login_time\n",
      "count                 93142\n",
      "unique                92265\n",
      "top     1970-02-12 11:16:53\n",
      "freq                      3\n",
      "first   1970-01-01 20:12:16\n",
      "last    1970-04-13 18:57:38\n",
      " \n",
      "Shape: (93142, 1)\n",
      " \n",
      "Info:\n",
      "<class 'pandas.core.frame.DataFrame'>\n",
      "RangeIndex: 93142 entries, 0 to 93141\n",
      "Data columns (total 1 columns):\n",
      "login_time    93142 non-null datetime64[ns]\n",
      "dtypes: datetime64[ns](1)\n",
      "memory usage: 727.8 KB\n",
      "None\n"
     ]
    }
   ],
   "source": [
    "# Inspect DF\n",
    "\n",
    "print('Describe')\n",
    "print(df_logins.describe()) #describe\n",
    "print(' ')\n",
    "print('Shape:',df_logins.shape)  #shape\n",
    "print(' ')\n",
    "print('Info:')\n",
    "print(df_logins.info())"
   ]
  },
  {
   "cell_type": "markdown",
   "metadata": {},
   "source": [
    "# Part One\n",
    "\n",
    "Aggregate these login counts based on 15minute time intervals, and visualize and describe the resulting time series of login counts in ways that best characterize the underlying patterns of the demand. Please report/illustrate important features of the demand,such as daily cycles.  If there are data quality issues, please report them."
   ]
  },
  {
   "cell_type": "code",
   "execution_count": 7,
   "metadata": {},
   "outputs": [
    {
     "data": {
      "text/html": [
       "<div>\n",
       "<style>\n",
       "    .dataframe thead tr:only-child th {\n",
       "        text-align: right;\n",
       "    }\n",
       "\n",
       "    .dataframe thead th {\n",
       "        text-align: left;\n",
       "    }\n",
       "\n",
       "    .dataframe tbody tr th {\n",
       "        vertical-align: top;\n",
       "    }\n",
       "</style>\n",
       "<table border=\"1\" class=\"dataframe\">\n",
       "  <thead>\n",
       "    <tr style=\"text-align: right;\">\n",
       "      <th></th>\n",
       "    </tr>\n",
       "    <tr>\n",
       "      <th>login_time</th>\n",
       "    </tr>\n",
       "  </thead>\n",
       "  <tbody>\n",
       "    <tr>\n",
       "      <th>1970-01-01 20:13:18</th>\n",
       "    </tr>\n",
       "    <tr>\n",
       "      <th>1970-01-01 20:16:10</th>\n",
       "    </tr>\n",
       "    <tr>\n",
       "      <th>1970-01-01 20:16:37</th>\n",
       "    </tr>\n",
       "    <tr>\n",
       "      <th>1970-01-01 20:16:36</th>\n",
       "    </tr>\n",
       "    <tr>\n",
       "      <th>1970-01-01 20:26:21</th>\n",
       "    </tr>\n",
       "  </tbody>\n",
       "</table>\n",
       "</div>"
      ],
      "text/plain": [
       "Empty DataFrame\n",
       "Columns: []\n",
       "Index: [1970-01-01 20:13:18, 1970-01-01 20:16:10, 1970-01-01 20:16:37, 1970-01-01 20:16:36, 1970-01-01 20:26:21]"
      ]
     },
     "execution_count": 7,
     "metadata": {},
     "output_type": "execute_result"
    }
   ],
   "source": [
    "# Setting the index to be 'login_time'\n",
    "df_logins_indx = df_logins.set_index(['login_time'])\n",
    "df_logins_indx.head()"
   ]
  },
  {
   "cell_type": "code",
   "execution_count": 8,
   "metadata": {},
   "outputs": [
    {
     "data": {
      "text/html": [
       "<div>\n",
       "<style>\n",
       "    .dataframe thead tr:only-child th {\n",
       "        text-align: right;\n",
       "    }\n",
       "\n",
       "    .dataframe thead th {\n",
       "        text-align: left;\n",
       "    }\n",
       "\n",
       "    .dataframe tbody tr th {\n",
       "        vertical-align: top;\n",
       "    }\n",
       "</style>\n",
       "<table border=\"1\" class=\"dataframe\">\n",
       "  <thead>\n",
       "    <tr style=\"text-align: right;\">\n",
       "      <th></th>\n",
       "    </tr>\n",
       "    <tr>\n",
       "      <th>login_time</th>\n",
       "    </tr>\n",
       "  </thead>\n",
       "  <tbody>\n",
       "    <tr>\n",
       "      <th>1970-04-13 18:50:19</th>\n",
       "    </tr>\n",
       "    <tr>\n",
       "      <th>1970-04-13 18:43:56</th>\n",
       "    </tr>\n",
       "    <tr>\n",
       "      <th>1970-04-13 18:54:02</th>\n",
       "    </tr>\n",
       "    <tr>\n",
       "      <th>1970-04-13 18:57:38</th>\n",
       "    </tr>\n",
       "    <tr>\n",
       "      <th>1970-04-13 18:54:23</th>\n",
       "    </tr>\n",
       "  </tbody>\n",
       "</table>\n",
       "</div>"
      ],
      "text/plain": [
       "Empty DataFrame\n",
       "Columns: []\n",
       "Index: [1970-04-13 18:50:19, 1970-04-13 18:43:56, 1970-04-13 18:54:02, 1970-04-13 18:57:38, 1970-04-13 18:54:23]"
      ]
     },
     "execution_count": 8,
     "metadata": {},
     "output_type": "execute_result"
    }
   ],
   "source": [
    "df_logins_indx.tail()"
   ]
  },
  {
   "cell_type": "code",
   "execution_count": 9,
   "metadata": {},
   "outputs": [
    {
     "name": "stdout",
     "output_type": "stream",
     "text": [
      "           login_time  count\n",
      "0 1970-01-01 20:00:00      2\n",
      "1 1970-01-01 20:15:00      6\n",
      "2 1970-01-01 20:30:00      9\n",
      "3 1970-01-01 20:45:00      7\n",
      "4 1970-01-01 21:00:00      1\n",
      "5 1970-01-01 21:15:00      4\n",
      "6 1970-01-01 21:30:00      0\n",
      "7 1970-01-01 21:45:00      4\n",
      "8 1970-01-01 22:00:00      9\n",
      "9 1970-01-01 22:15:00      8\n",
      "              login_time  count\n",
      "9778 1970-04-13 16:30:00      4\n",
      "9779 1970-04-13 16:45:00      3\n",
      "9780 1970-04-13 17:00:00      5\n",
      "9781 1970-04-13 17:15:00      3\n",
      "9782 1970-04-13 17:30:00      9\n",
      "9783 1970-04-13 17:45:00      5\n",
      "9784 1970-04-13 18:00:00      5\n",
      "9785 1970-04-13 18:15:00      2\n",
      "9786 1970-04-13 18:30:00      7\n",
      "9787 1970-04-13 18:45:00      6\n"
     ]
    }
   ],
   "source": [
    "# 15-minute interval\n",
    "df_logins_indx['count'] = 1\n",
    "df_logins_indx_15T = df_logins_indx.resample('15T').count()\n",
    "df_logins_indx_15T = df_logins_indx_15T.reset_index()\n",
    "print(df_logins_indx_15T.head(10))\n",
    "print(df_logins_indx_15T.tail(10))"
   ]
  },
  {
   "cell_type": "code",
   "execution_count": null,
   "metadata": {
    "collapsed": true
   },
   "outputs": [],
   "source": [
    "# Lets look at the data visually"
   ]
  },
  {
   "cell_type": "code",
   "execution_count": 10,
   "metadata": {
    "collapsed": true
   },
   "outputs": [],
   "source": [
    "# import packages\n",
    "import matplotlib.pyplot as plt\n",
    "%matplotlib inline"
   ]
  },
  {
   "cell_type": "code",
   "execution_count": 11,
   "metadata": {},
   "outputs": [
    {
     "data": {
      "image/png": "[encoded data removed]",
      "text/plain": [
       "<matplotlib.figure.Figure at 0x2803f42ae10>"
      ]
     },
     "metadata": {},
     "output_type": "display_data"
    }
   ],
   "source": [
    "# \n",
    "x = df_logins_indx_15T['login_time']\n",
    "y = df_logins_indx_15T['count']\n",
    "plt.plot(x, y)\n",
    "plt.title('Count of logins each 15-min')\n",
    "plt.xticks(rotation=45);"
   ]
  },
  {
   "cell_type": "code",
   "execution_count": null,
   "metadata": {
    "collapsed": true
   },
   "outputs": [],
   "source": [
    "# April data is not complete"
   ]
  },
  {
   "cell_type": "code",
   "execution_count": 13,
   "metadata": {},
   "outputs": [
    {
     "name": "stdout",
     "output_type": "stream",
     "text": [
      "  weekday  count\n",
      "0     Mon   8823\n",
      "1    Tues   9268\n",
      "2     Wed  10339\n",
      "3   Thurs  11960\n",
      "4     Fri  15208\n",
      "5     Sat  19377\n",
      "6     Sun  18167\n"
     ]
    }
   ],
   "source": [
    "# Counting per week day\n",
    "df_logins_indx_15T['weekday'] = df_logins_indx_15T['login_time'].dt.dayofweek\n",
    "wkday = df_logins_indx_15T.sort_values(by='count', ascending=False)\n",
    "wkday_counts = wkday[['count', 'weekday']]\n",
    "wkday_count = wkday_counts.groupby('weekday').sum().reset_index()\n",
    "wkday_count['weekday'] = ['Mon', 'Tues', 'Wed','Thurs',\n",
    "                          'Fri', 'Sat', 'Sun']\n",
    "wkday_count = wkday_count[['weekday', 'count']]\n",
    "print(wkday_count)"
   ]
  },
  {
   "cell_type": "code",
   "execution_count": 14,
   "metadata": {},
   "outputs": [
    {
     "data": {
      "text/plain": [
       "Text(0.5,1,'Count of logins by Weekday')"
      ]
     },
     "execution_count": 14,
     "metadata": {},
     "output_type": "execute_result"
    },
    {
     "data": {
      "image/png": "[encoded data removed]",
      "text/plain": [
       "<matplotlib.figure.Figure at 0x2803f5fef28>"
      ]
     },
     "metadata": {},
     "output_type": "display_data"
    }
   ],
   "source": [
    "# Visualizing count of logins by weekday\n",
    "import seaborn as sns\n",
    "sns.barplot(x='weekday', y='count', data=wkday_count)\n",
    "plt.ylabel('Count Logins')\n",
    "plt.xlabel('Weekday')\n",
    "plt.title('Count of logins by Weekday')"
   ]
  },
  {
   "cell_type": "code",
   "execution_count": null,
   "metadata": {
    "collapsed": true
   },
   "outputs": [],
   "source": [
    "# More acitivity as it gets closer to the weekend. It peaks on Saturday with a slight drop off on Sunday and major drop off on Monday"
   ]
  },
  {
   "cell_type": "code",
   "execution_count": 16,
   "metadata": {
    "collapsed": true
   },
   "outputs": [],
   "source": [
    "# Visualizing count of logins per hour of the day\n",
    "# Splitting into hours\n",
    "df_logins_indx_15T['hour'] = df_logins_indx_15T['login_time'].dt.hour\n",
    "hours = df_logins_indx_15T\n",
    "hour = hours[['count', 'hour']]\n",
    "hour = hour.groupby('hour').sum().reset_index()"
   ]
  },
  {
   "cell_type": "code",
   "execution_count": 17,
   "metadata": {},
   "outputs": [
    {
     "data": {
      "text/plain": [
       "Text(0.5,1,'Average count of logins per Hour ')"
      ]
     },
     "execution_count": 17,
     "metadata": {},
     "output_type": "execute_result"
    },
    {
     "data": {
      "image/png": "[encoded data removed]",
      "text/plain": [
       "<matplotlib.figure.Figure at 0x2803f4c1ac8>"
      ]
     },
     "metadata": {},
     "output_type": "display_data"
    }
   ],
   "source": [
    "# Plot\n",
    "sns.barplot(x='hour', y='count', data=hours)\n",
    "plt.ylabel('Average count ')\n",
    "plt.xlabel('Hour of day')\n",
    "plt.title('Average count of logins per Hour ')"
   ]
  },
  {
   "cell_type": "code",
   "execution_count": null,
   "metadata": {
    "collapsed": true
   },
   "outputs": [],
   "source": [
    "# Peak times 8:00pm - 4:00am and 11:0am - 12:00pm"
   ]
  },
  {
   "cell_type": "markdown",
   "metadata": {},
   "source": [
    "# Part 2 ‑ Experiment and metrics design\n",
    "\n",
    "The neighboring cities of Gotham and Metropolis have complementary circadian rhythms: on weekdays, Ultimate Gotham is most active at night, and Ultimate Metropolis is most active during the day. On weekends, there is reasonable activity in both cities. However, a toll bridge, with a two way\n",
    "toll, between the two cities causes driver partners to tend\n",
    "to be exclusive to each city. The Ultimate managers of city operations for the two cities have\n",
    "proposed an experiment to encourage driver partners to be available in both cities, by\n",
    "reimbursing all toll costs.\n",
    "1. What would you choose as the key measure of success of this experiment in\n",
    "encouraging driver partners to serve both cities, and why would you choose this metric?\n",
    "2. Describe a practical experiment you would design to compare the effectiveness of the\n",
    "proposed change in relation to the key measure of success. Please provide details on:\n",
    "a. how you will implement the experiment\n",
    "b. what statistical test(s) you will conduct to verify the significance of the\n",
    "observation\n",
    "c. how you would interpret the results and provide recommendations to the city\n",
    "operations team along with any caveats."
   ]
  },
  {
   "cell_type": "code",
   "execution_count": 20,
   "metadata": {},
   "outputs": [
    {
     "name": "stdout",
     "output_type": "stream",
     "text": [
      "Describe\n",
      "           avg_dist  avg_rating_by_driver  avg_rating_of_driver     avg_surge  \\\n",
      "count  50000.000000          49799.000000          41878.000000  50000.000000   \n",
      "mean       5.796827              4.778158              4.601559      1.074764   \n",
      "std        5.707357              0.446652              0.617338      0.222336   \n",
      "min        0.000000              1.000000              1.000000      1.000000   \n",
      "25%        2.420000              4.700000              4.300000      1.000000   \n",
      "50%        3.880000              5.000000              4.900000      1.000000   \n",
      "75%        6.940000              5.000000              5.000000      1.050000   \n",
      "max      160.960000              5.000000              5.000000      8.000000   \n",
      "\n",
      "          surge_pct  trips_in_first_30_days   weekday_pct  \n",
      "count  50000.000000            50000.000000  50000.000000  \n",
      "mean       8.849536                2.278200     60.926084  \n",
      "std       19.958811                3.792684     37.081503  \n",
      "min        0.000000                0.000000      0.000000  \n",
      "25%        0.000000                0.000000     33.300000  \n",
      "50%        0.000000                1.000000     66.700000  \n",
      "75%        8.600000                3.000000    100.000000  \n",
      "max      100.000000              125.000000    100.000000  \n",
      " \n",
      "Shape: (50000, 12)\n",
      " \n",
      "Info:\n",
      "<class 'pandas.core.frame.DataFrame'>\n",
      "RangeIndex: 50000 entries, 0 to 49999\n",
      "Data columns (total 12 columns):\n",
      "avg_dist                  50000 non-null float64\n",
      "avg_rating_by_driver      49799 non-null float64\n",
      "avg_rating_of_driver      41878 non-null float64\n",
      "avg_surge                 50000 non-null float64\n",
      "city                      50000 non-null object\n",
      "last_trip_date            50000 non-null object\n",
      "phone                     49604 non-null object\n",
      "signup_date               50000 non-null object\n",
      "surge_pct                 50000 non-null float64\n",
      "trips_in_first_30_days    50000 non-null int64\n",
      "ultimate_black_user       50000 non-null bool\n",
      "weekday_pct               50000 non-null float64\n",
      "dtypes: bool(1), float64(6), int64(1), object(4)\n",
      "memory usage: 4.2+ MB\n",
      "None\n"
     ]
    }
   ],
   "source": [
    "# EDA\n",
    "# Inspect DF\n",
    "\n",
    "print('Describe')\n",
    "print(df_udc.describe()) #describe\n",
    "print(' ')\n",
    "print('Shape:',df_udc.shape)  #shape\n",
    "print(' ')\n",
    "print('Info:')\n",
    "print(df_udc.info())"
   ]
  },
  {
   "cell_type": "code",
   "execution_count": 22,
   "metadata": {},
   "outputs": [
    {
     "data": {
      "text/html": [
       "<div>\n",
       "<style>\n",
       "    .dataframe thead tr:only-child th {\n",
       "        text-align: right;\n",
       "    }\n",
       "\n",
       "    .dataframe thead th {\n",
       "        text-align: left;\n",
       "    }\n",
       "\n",
       "    .dataframe tbody tr th {\n",
       "        vertical-align: top;\n",
       "    }\n",
       "</style>\n",
       "<table border=\"1\" class=\"dataframe\">\n",
       "  <thead>\n",
       "    <tr style=\"text-align: right;\">\n",
       "      <th></th>\n",
       "      <th>avg_dist</th>\n",
       "      <th>avg_rating_by_driver</th>\n",
       "      <th>avg_rating_of_driver</th>\n",
       "      <th>avg_surge</th>\n",
       "      <th>city</th>\n",
       "      <th>last_trip_date</th>\n",
       "      <th>phone</th>\n",
       "      <th>signup_date</th>\n",
       "      <th>surge_pct</th>\n",
       "      <th>trips_in_first_30_days</th>\n",
       "      <th>ultimate_black_user</th>\n",
       "      <th>weekday_pct</th>\n",
       "    </tr>\n",
       "  </thead>\n",
       "  <tbody>\n",
       "    <tr>\n",
       "      <th>0</th>\n",
       "      <td>3.67</td>\n",
       "      <td>5.0</td>\n",
       "      <td>4.7</td>\n",
       "      <td>1.10</td>\n",
       "      <td>King's Landing</td>\n",
       "      <td>2014-06-17</td>\n",
       "      <td>iPhone</td>\n",
       "      <td>2014-01-25</td>\n",
       "      <td>15.4</td>\n",
       "      <td>4</td>\n",
       "      <td>True</td>\n",
       "      <td>46.2</td>\n",
       "    </tr>\n",
       "    <tr>\n",
       "      <th>1</th>\n",
       "      <td>8.26</td>\n",
       "      <td>5.0</td>\n",
       "      <td>5.0</td>\n",
       "      <td>1.00</td>\n",
       "      <td>Astapor</td>\n",
       "      <td>2014-05-05</td>\n",
       "      <td>Android</td>\n",
       "      <td>2014-01-29</td>\n",
       "      <td>0.0</td>\n",
       "      <td>0</td>\n",
       "      <td>False</td>\n",
       "      <td>50.0</td>\n",
       "    </tr>\n",
       "    <tr>\n",
       "      <th>2</th>\n",
       "      <td>0.77</td>\n",
       "      <td>5.0</td>\n",
       "      <td>4.3</td>\n",
       "      <td>1.00</td>\n",
       "      <td>Astapor</td>\n",
       "      <td>2014-01-07</td>\n",
       "      <td>iPhone</td>\n",
       "      <td>2014-01-06</td>\n",
       "      <td>0.0</td>\n",
       "      <td>3</td>\n",
       "      <td>False</td>\n",
       "      <td>100.0</td>\n",
       "    </tr>\n",
       "    <tr>\n",
       "      <th>3</th>\n",
       "      <td>2.36</td>\n",
       "      <td>4.9</td>\n",
       "      <td>4.6</td>\n",
       "      <td>1.14</td>\n",
       "      <td>King's Landing</td>\n",
       "      <td>2014-06-29</td>\n",
       "      <td>iPhone</td>\n",
       "      <td>2014-01-10</td>\n",
       "      <td>20.0</td>\n",
       "      <td>9</td>\n",
       "      <td>True</td>\n",
       "      <td>80.0</td>\n",
       "    </tr>\n",
       "    <tr>\n",
       "      <th>4</th>\n",
       "      <td>3.13</td>\n",
       "      <td>4.9</td>\n",
       "      <td>4.4</td>\n",
       "      <td>1.19</td>\n",
       "      <td>Winterfell</td>\n",
       "      <td>2014-03-15</td>\n",
       "      <td>Android</td>\n",
       "      <td>2014-01-27</td>\n",
       "      <td>11.8</td>\n",
       "      <td>14</td>\n",
       "      <td>False</td>\n",
       "      <td>82.4</td>\n",
       "    </tr>\n",
       "  </tbody>\n",
       "</table>\n",
       "</div>"
      ],
      "text/plain": [
       "   avg_dist  avg_rating_by_driver  avg_rating_of_driver  avg_surge  \\\n",
       "0      3.67                   5.0                   4.7       1.10   \n",
       "1      8.26                   5.0                   5.0       1.00   \n",
       "2      0.77                   5.0                   4.3       1.00   \n",
       "3      2.36                   4.9                   4.6       1.14   \n",
       "4      3.13                   4.9                   4.4       1.19   \n",
       "\n",
       "             city last_trip_date    phone signup_date  surge_pct  \\\n",
       "0  King's Landing     2014-06-17   iPhone  2014-01-25       15.4   \n",
       "1         Astapor     2014-05-05  Android  2014-01-29        0.0   \n",
       "2         Astapor     2014-01-07   iPhone  2014-01-06        0.0   \n",
       "3  King's Landing     2014-06-29   iPhone  2014-01-10       20.0   \n",
       "4      Winterfell     2014-03-15  Android  2014-01-27       11.8   \n",
       "\n",
       "   trips_in_first_30_days  ultimate_black_user  weekday_pct  \n",
       "0                       4                 True         46.2  \n",
       "1                       0                False         50.0  \n",
       "2                       3                False        100.0  \n",
       "3                       9                 True         80.0  \n",
       "4                      14                False         82.4  "
      ]
     },
     "execution_count": 22,
     "metadata": {},
     "output_type": "execute_result"
    }
   ],
   "source": [
    "df_udc.head()"
   ]
  },
  {
   "cell_type": "code",
   "execution_count": null,
   "metadata": {
    "collapsed": true
   },
   "outputs": [],
   "source": [
    "# data cleanup and data organization"
   ]
  },
  {
   "cell_type": "code",
   "execution_count": 23,
   "metadata": {
    "collapsed": true
   },
   "outputs": [],
   "source": [
    "# Convert  to dates\n",
    "df_udc['last_trip_date'] = pd.to_datetime(df_udc['last_trip_date'])\n",
    "df_udc['signup_date'] = pd.to_datetime(df_udc['signup_date'])"
   ]
  },
  {
   "cell_type": "code",
   "execution_count": 24,
   "metadata": {
    "collapsed": true
   },
   "outputs": [],
   "source": [
    "# Impute in missing values\n",
    "df_udc['avg_rating_by_driver'].fillna(df_udc['avg_rating_by_driver'].mean(), inplace=True)\n",
    "df_udc['avg_rating_of_driver'].fillna(df_udc['avg_rating_of_driver'].mean(), inplace=True)\n",
    "df_udc['phone'].fillna('iPhone', inplace=True)"
   ]
  },
  {
   "cell_type": "code",
   "execution_count": 27,
   "metadata": {
    "collapsed": true
   },
   "outputs": [],
   "source": [
    "import datetime\n",
    "last_day = max(df_udc['last_trip_date'])\n",
    "days = [last_day - datetime.timedelta(days=x) for x in range(0, 30)]\n",
    "df_udc['retained_user'] = df_udc['last_trip_date'].map(lambda x: int(x in days))"
   ]
  },
  {
   "cell_type": "code",
   "execution_count": 29,
   "metadata": {},
   "outputs": [
    {
     "name": "stdout",
     "output_type": "stream",
     "text": [
      "Percentage of Retained users: 0.3662\n"
     ]
    }
   ],
   "source": [
    "active_df = df_udc[df_udc['retained_user'] == 1]\n",
    "non_active_df = df_udc[df_udc['retained_user'] == 0]\n",
    "percent_active = len(active_df) / len(df_udc)\n",
    "print('Percentage of Retained users: {0}'.format(percent_active))"
   ]
  },
  {
   "cell_type": "code",
   "execution_count": 30,
   "metadata": {
    "collapsed": true
   },
   "outputs": [],
   "source": [
    "df_udc['active_user'] = ((df_udc['last_trip_date'] - df_udc['signup_date']) / np.timedelta64(1, 'M')).\\\n",
    "        map(lambda x: 'active' if x > 5 else 'inactive')"
   ]
  },
  {
   "cell_type": "code",
   "execution_count": 32,
   "metadata": {},
   "outputs": [
    {
     "data": {
      "text/plain": [
       "Text(0.5,1,'Active Users by City')"
      ]
     },
     "execution_count": 32,
     "metadata": {},
     "output_type": "execute_result"
    },
    {
     "data": {
      "image/png": "[encoded data removed]",
      "text/plain": [
       "<matplotlib.figure.Figure at 0x280434e8358>"
      ]
     },
     "metadata": {},
     "output_type": "display_data"
    }
   ],
   "source": [
    "# Plot\n",
    "sns.countplot(x='city', hue='active_user', data=df_udc)\n",
    "plt.title('Active Users by City')"
   ]
  },
  {
   "cell_type": "code",
   "execution_count": 37,
   "metadata": {},
   "outputs": [
    {
     "data": {
      "text/plain": [
       "Text(0.5,1,'Comparison of Average Surge by City')"
      ]
     },
     "execution_count": 37,
     "metadata": {},
     "output_type": "execute_result"
    },
    {
     "data": {
      "image/png": "[encoded data removed]",
      "text/plain": [
       "<matplotlib.figure.Figure at 0x2804442b0b8>"
      ]
     },
     "metadata": {},
     "output_type": "display_data"
    }
   ],
   "source": [
    "sns.violinplot(x=\"city\", y=\"avg_surge\", hue='active_user', data=df_udc)\n",
    "plt.title('Comparison of Average Surge by City')"
   ]
  },
  {
   "cell_type": "code",
   "execution_count": 38,
   "metadata": {},
   "outputs": [
    {
     "data": {
      "text/plain": [
       "Text(0.5,1,'Trips in First 30 Days')"
      ]
     },
     "execution_count": 38,
     "metadata": {},
     "output_type": "execute_result"
    },
    {
     "data": {
      "image/png": "[encoded data removed]",
      "text/plain": [
       "<matplotlib.figure.Figure at 0x2804352f0f0>"
      ]
     },
     "metadata": {},
     "output_type": "display_data"
    }
   ],
   "source": [
    "sns.boxplot(x='trips_in_first_30_days', y='active_user', data=df_udc)\n",
    "plt.title('Trips in First 30 Days')"
   ]
  },
  {
   "cell_type": "code",
   "execution_count": 33,
   "metadata": {},
   "outputs": [
    {
     "data": {
      "text/plain": [
       "iPhone     34978\n",
       "Android    15022\n",
       "Name: phone, dtype: int64"
      ]
     },
     "execution_count": 33,
     "metadata": {},
     "output_type": "execute_result"
    }
   ],
   "source": [
    "df_udc.phone.value_counts()"
   ]
  },
  {
   "cell_type": "code",
   "execution_count": 34,
   "metadata": {},
   "outputs": [
    {
     "data": {
      "text/plain": [
       "False    31146\n",
       "True     18854\n",
       "Name: ultimate_black_user, dtype: int64"
      ]
     },
     "execution_count": 34,
     "metadata": {},
     "output_type": "execute_result"
    }
   ],
   "source": [
    "df_udc.ultimate_black_user.value_counts()"
   ]
  },
  {
   "cell_type": "markdown",
   "metadata": {},
   "source": [
    "# Exploratory Insights\n",
    "\n",
    "36% of the observed users were retained\n",
    "Most users appear to be in the Winterfell area\n",
    "Surge is more prevalent in Winterfell\n",
    "Active users are more likely to have a trip within their first 30 days of signing up"
   ]
  },
  {
   "cell_type": "markdown",
   "metadata": {},
   "source": [
    "# Part 3 ‑ Predictive modeling\n",
    "\"\"\"\n",
    "Ultimate is interested in predicting rider retention. To help explore this question, we have\n",
    "provided a sample dataset of a cohort of users who signed up for an Ultimate account in\n",
    "January 2014. The data was pulled several months later; we consider a user retained if they\n",
    "were “active” (i.e. took a trip) in the preceding 30 days.\n",
    "We would like you to use this data set to help understand what factors are the best predictors\n",
    "for retention, and offer suggestions to operationalize those insights to help Ultimate.\n",
    "The data is in the attached file ultimate_data_challenge.json. See below for a detailed\n",
    "description of the dataset. Please include any code you wrote for the analysis and delete the\n",
    "dataset when you have finished with the challenge.\n",
    "1. Perform any cleaning, exploratory analysis, and/or visualizations to use the provided\n",
    "data for this analysis (a few sentences/plots describing your approach will suffice). What\n",
    "fraction of the observed users were retained?\n",
    "2. Build a predictive model to help Ultimate determine whether or not a user will be active\n",
    "in their 6th month on the system. Discuss why you chose your approach, what\n",
    "alternatives you considered, and any concerns you have. How valid is your model?\n",
    "Include any key indicators of model performance.\n",
    "3. Briefly discuss how Ultimate might leverage the insights gained from the model to\n",
    "improve its longterm\n",
    "rider \n",
    "\"\"\""
   ]
  },
  {
   "cell_type": "code",
   "execution_count": null,
   "metadata": {
    "collapsed": true
   },
   "outputs": [],
   "source": [
    "# Feature Engineering\n",
    "\"\"\"\n",
    "The goal is now to predict whether or not a user will be active in their 6th month. \n",
    "First we will drop repetitive columns and columns that don't have much value for prediction. \n",
    "These columns are the last trip date, signup date, surge percentage, phone, and ultimate \n",
    "black status. I also combined the average rating by driver and average rating of driver into \n",
    "one column by taking the average of the two.\n",
    "\n",
    "It appears that our features seem to have mostly skewed distributions, scaling will most likely \n",
    "be necessary for our modeling process.\n",
    "\n",
    "Looking at a correlation analysis of our features, it appears that there is not a strong correlation \n",
    "between any two features.\n",
    "\"\"\"\""
   ]
  },
  {
   "cell_type": "code",
   "execution_count": 42,
   "metadata": {},
   "outputs": [
    {
     "data": {
      "text/html": [
       "<div>\n",
       "<style>\n",
       "    .dataframe thead tr:only-child th {\n",
       "        text-align: right;\n",
       "    }\n",
       "\n",
       "    .dataframe thead th {\n",
       "        text-align: left;\n",
       "    }\n",
       "\n",
       "    .dataframe tbody tr th {\n",
       "        vertical-align: top;\n",
       "    }\n",
       "</style>\n",
       "<table border=\"1\" class=\"dataframe\">\n",
       "  <thead>\n",
       "    <tr style=\"text-align: right;\">\n",
       "      <th></th>\n",
       "      <th>avg_dist</th>\n",
       "      <th>avg_surge</th>\n",
       "      <th>city</th>\n",
       "      <th>trips_in_first_30_days</th>\n",
       "      <th>weekday_pct</th>\n",
       "      <th>combined_avg_driver_rating</th>\n",
       "    </tr>\n",
       "  </thead>\n",
       "  <tbody>\n",
       "    <tr>\n",
       "      <th>0</th>\n",
       "      <td>3.67</td>\n",
       "      <td>1.10</td>\n",
       "      <td>1</td>\n",
       "      <td>4</td>\n",
       "      <td>46.2</td>\n",
       "      <td>4.85</td>\n",
       "    </tr>\n",
       "    <tr>\n",
       "      <th>1</th>\n",
       "      <td>8.26</td>\n",
       "      <td>1.00</td>\n",
       "      <td>2</td>\n",
       "      <td>0</td>\n",
       "      <td>50.0</td>\n",
       "      <td>5.00</td>\n",
       "    </tr>\n",
       "    <tr>\n",
       "      <th>2</th>\n",
       "      <td>0.77</td>\n",
       "      <td>1.00</td>\n",
       "      <td>2</td>\n",
       "      <td>3</td>\n",
       "      <td>100.0</td>\n",
       "      <td>4.65</td>\n",
       "    </tr>\n",
       "    <tr>\n",
       "      <th>3</th>\n",
       "      <td>2.36</td>\n",
       "      <td>1.14</td>\n",
       "      <td>1</td>\n",
       "      <td>9</td>\n",
       "      <td>80.0</td>\n",
       "      <td>4.75</td>\n",
       "    </tr>\n",
       "    <tr>\n",
       "      <th>4</th>\n",
       "      <td>3.13</td>\n",
       "      <td>1.19</td>\n",
       "      <td>3</td>\n",
       "      <td>14</td>\n",
       "      <td>82.4</td>\n",
       "      <td>4.65</td>\n",
       "    </tr>\n",
       "  </tbody>\n",
       "</table>\n",
       "</div>"
      ],
      "text/plain": [
       "   avg_dist  avg_surge  city  trips_in_first_30_days  weekday_pct  \\\n",
       "0      3.67       1.10     1                       4         46.2   \n",
       "1      8.26       1.00     2                       0         50.0   \n",
       "2      0.77       1.00     2                       3        100.0   \n",
       "3      2.36       1.14     1                       9         80.0   \n",
       "4      3.13       1.19     3                      14         82.4   \n",
       "\n",
       "   combined_avg_driver_rating  \n",
       "0                        4.85  \n",
       "1                        5.00  \n",
       "2                        4.65  \n",
       "3                        4.75  \n",
       "4                        4.65  "
      ]
     },
     "execution_count": 42,
     "metadata": {},
     "output_type": "execute_result"
    }
   ],
   "source": [
    "df_predict = df_udc.drop(['last_trip_date', 'phone', 'signup_date', 'surge_pct', 'ultimate_black_user', 'retained_user'], axis=1)\n",
    "city_dict = {\"King's Landing\": 1, 'Astapor': 2, 'Winterfell': 3}\n",
    "active_user_dict = {'inactive': 0, 'active': 1}\n",
    "df_predict['city'] = df_udc['city'].replace(city_dict)\n",
    "df_predict['active_user'] = df_udc['active_user'].replace(active_user_dict)\n",
    "df_predict['combined_avg_driver_rating'] = df_udc[['avg_rating_by_driver', 'avg_rating_of_driver']].mean(axis=1)\n",
    "df_predict = df_predict.drop(['avg_rating_by_driver', 'avg_rating_of_driver'], axis=1)\n",
    "cols = list(df_predict.columns.values)\n",
    "feature_cols = [col for col in cols if col != 'active_user']\n",
    "df_predict = df_predict[feature_cols]\n",
    "df_predict.head()"
   ]
  },
  {
   "cell_type": "code",
   "execution_count": 43,
   "metadata": {},
   "outputs": [
    {
     "name": "stdout",
     "output_type": "stream",
     "text": [
      "<class 'pandas.core.frame.DataFrame'>\n",
      "RangeIndex: 50000 entries, 0 to 49999\n",
      "Data columns (total 6 columns):\n",
      "avg_dist                      50000 non-null float64\n",
      "avg_surge                     50000 non-null float64\n",
      "city                          50000 non-null int64\n",
      "trips_in_first_30_days        50000 non-null int64\n",
      "weekday_pct                   50000 non-null float64\n",
      "combined_avg_driver_rating    50000 non-null float64\n",
      "dtypes: float64(4), int64(2)\n",
      "memory usage: 2.3 MB\n"
     ]
    }
   ],
   "source": [
    "df_predict.info()"
   ]
  },
  {
   "cell_type": "code",
   "execution_count": 44,
   "metadata": {
    "collapsed": true
   },
   "outputs": [],
   "source": [
    "df_predict['combined_avg_driver_rating'] = df_predict['combined_avg_driver_rating'].fillna(df_predict['combined_avg_driver_rating'].mean())"
   ]
  },
  {
   "cell_type": "code",
   "execution_count": 45,
   "metadata": {},
   "outputs": [
    {
     "data": {
      "text/html": [
       "<div>\n",
       "<style>\n",
       "    .dataframe thead tr:only-child th {\n",
       "        text-align: right;\n",
       "    }\n",
       "\n",
       "    .dataframe thead th {\n",
       "        text-align: left;\n",
       "    }\n",
       "\n",
       "    .dataframe tbody tr th {\n",
       "        vertical-align: top;\n",
       "    }\n",
       "</style>\n",
       "<table border=\"1\" class=\"dataframe\">\n",
       "  <thead>\n",
       "    <tr style=\"text-align: right;\">\n",
       "      <th></th>\n",
       "      <th>avg_dist</th>\n",
       "      <th>avg_surge</th>\n",
       "      <th>city</th>\n",
       "      <th>trips_in_first_30_days</th>\n",
       "      <th>weekday_pct</th>\n",
       "      <th>combined_avg_driver_rating</th>\n",
       "    </tr>\n",
       "  </thead>\n",
       "  <tbody>\n",
       "    <tr>\n",
       "      <th>count</th>\n",
       "      <td>50000.000000</td>\n",
       "      <td>50000.000000</td>\n",
       "      <td>50000.000000</td>\n",
       "      <td>50000.000000</td>\n",
       "      <td>50000.000000</td>\n",
       "      <td>50000.000000</td>\n",
       "    </tr>\n",
       "    <tr>\n",
       "      <th>mean</th>\n",
       "      <td>5.796827</td>\n",
       "      <td>1.074764</td>\n",
       "      <td>2.264120</td>\n",
       "      <td>2.278200</td>\n",
       "      <td>60.926084</td>\n",
       "      <td>4.689859</td>\n",
       "    </tr>\n",
       "    <tr>\n",
       "      <th>std</th>\n",
       "      <td>5.707357</td>\n",
       "      <td>0.222336</td>\n",
       "      <td>0.774321</td>\n",
       "      <td>3.792684</td>\n",
       "      <td>37.081503</td>\n",
       "      <td>0.377193</td>\n",
       "    </tr>\n",
       "    <tr>\n",
       "      <th>min</th>\n",
       "      <td>0.000000</td>\n",
       "      <td>1.000000</td>\n",
       "      <td>1.000000</td>\n",
       "      <td>0.000000</td>\n",
       "      <td>0.000000</td>\n",
       "      <td>1.000000</td>\n",
       "    </tr>\n",
       "    <tr>\n",
       "      <th>25%</th>\n",
       "      <td>2.420000</td>\n",
       "      <td>1.000000</td>\n",
       "      <td>2.000000</td>\n",
       "      <td>0.000000</td>\n",
       "      <td>33.300000</td>\n",
       "      <td>4.500000</td>\n",
       "    </tr>\n",
       "    <tr>\n",
       "      <th>50%</th>\n",
       "      <td>3.880000</td>\n",
       "      <td>1.000000</td>\n",
       "      <td>2.000000</td>\n",
       "      <td>1.000000</td>\n",
       "      <td>66.700000</td>\n",
       "      <td>4.800780</td>\n",
       "    </tr>\n",
       "    <tr>\n",
       "      <th>75%</th>\n",
       "      <td>6.940000</td>\n",
       "      <td>1.050000</td>\n",
       "      <td>3.000000</td>\n",
       "      <td>3.000000</td>\n",
       "      <td>100.000000</td>\n",
       "      <td>5.000000</td>\n",
       "    </tr>\n",
       "    <tr>\n",
       "      <th>max</th>\n",
       "      <td>160.960000</td>\n",
       "      <td>8.000000</td>\n",
       "      <td>3.000000</td>\n",
       "      <td>125.000000</td>\n",
       "      <td>100.000000</td>\n",
       "      <td>5.000000</td>\n",
       "    </tr>\n",
       "  </tbody>\n",
       "</table>\n",
       "</div>"
      ],
      "text/plain": [
       "           avg_dist     avg_surge          city  trips_in_first_30_days  \\\n",
       "count  50000.000000  50000.000000  50000.000000            50000.000000   \n",
       "mean       5.796827      1.074764      2.264120                2.278200   \n",
       "std        5.707357      0.222336      0.774321                3.792684   \n",
       "min        0.000000      1.000000      1.000000                0.000000   \n",
       "25%        2.420000      1.000000      2.000000                0.000000   \n",
       "50%        3.880000      1.000000      2.000000                1.000000   \n",
       "75%        6.940000      1.050000      3.000000                3.000000   \n",
       "max      160.960000      8.000000      3.000000              125.000000   \n",
       "\n",
       "        weekday_pct  combined_avg_driver_rating  \n",
       "count  50000.000000                50000.000000  \n",
       "mean      60.926084                    4.689859  \n",
       "std       37.081503                    0.377193  \n",
       "min        0.000000                    1.000000  \n",
       "25%       33.300000                    4.500000  \n",
       "50%       66.700000                    4.800780  \n",
       "75%      100.000000                    5.000000  \n",
       "max      100.000000                    5.000000  "
      ]
     },
     "execution_count": 45,
     "metadata": {},
     "output_type": "execute_result"
    }
   ],
   "source": [
    "df_predict.describe()"
   ]
  },
  {
   "cell_type": "code",
   "execution_count": 47,
   "metadata": {},
   "outputs": [
    {
     "data": {
      "text/plain": [
       "array([[<matplotlib.axes._subplots.AxesSubplot object at 0x00000280478656A0>,\n",
       "        <matplotlib.axes._subplots.AxesSubplot object at 0x00000280447F7E80>],\n",
       "       [<matplotlib.axes._subplots.AxesSubplot object at 0x0000028044832A20>,\n",
       "        <matplotlib.axes._subplots.AxesSubplot object at 0x0000028044869A90>],\n",
       "       [<matplotlib.axes._subplots.AxesSubplot object at 0x0000028044CAF390>,\n",
       "        <matplotlib.axes._subplots.AxesSubplot object at 0x0000028044CAF3C8>]],\n",
       "      dtype=object)"
      ]
     },
     "execution_count": 47,
     "metadata": {},
     "output_type": "execute_result"
    },
    {
     "data": {
      "image/png": "[encoded data removed]",
      "text/plain": [
       "<matplotlib.figure.Figure at 0x2804346eeb8>"
      ]
     },
     "metadata": {},
     "output_type": "display_data"
    }
   ],
   "source": [
    "df_predict.hist(sharex=False, sharey=False, xlabelsize=1)"
   ]
  },
  {
   "cell_type": "code",
   "execution_count": 48,
   "metadata": {},
   "outputs": [
    {
     "data": {
      "text/html": [
       "<div>\n",
       "<style>\n",
       "    .dataframe thead tr:only-child th {\n",
       "        text-align: right;\n",
       "    }\n",
       "\n",
       "    .dataframe thead th {\n",
       "        text-align: left;\n",
       "    }\n",
       "\n",
       "    .dataframe tbody tr th {\n",
       "        vertical-align: top;\n",
       "    }\n",
       "</style>\n",
       "<table border=\"1\" class=\"dataframe\">\n",
       "  <thead>\n",
       "    <tr style=\"text-align: right;\">\n",
       "      <th></th>\n",
       "      <th>avg_dist</th>\n",
       "      <th>avg_surge</th>\n",
       "      <th>city</th>\n",
       "      <th>trips_in_first_30_days</th>\n",
       "      <th>weekday_pct</th>\n",
       "      <th>combined_avg_driver_rating</th>\n",
       "    </tr>\n",
       "  </thead>\n",
       "  <tbody>\n",
       "    <tr>\n",
       "      <th>avg_dist</th>\n",
       "      <td>1.000000</td>\n",
       "      <td>-0.081491</td>\n",
       "      <td>0.011120</td>\n",
       "      <td>-0.136329</td>\n",
       "      <td>0.101652</td>\n",
       "      <td>0.068498</td>\n",
       "    </tr>\n",
       "    <tr>\n",
       "      <th>avg_surge</th>\n",
       "      <td>-0.081491</td>\n",
       "      <td>1.000000</td>\n",
       "      <td>-0.013036</td>\n",
       "      <td>-0.001841</td>\n",
       "      <td>-0.110071</td>\n",
       "      <td>-0.010013</td>\n",
       "    </tr>\n",
       "    <tr>\n",
       "      <th>city</th>\n",
       "      <td>0.011120</td>\n",
       "      <td>-0.013036</td>\n",
       "      <td>1.000000</td>\n",
       "      <td>0.011517</td>\n",
       "      <td>-0.026142</td>\n",
       "      <td>-0.140941</td>\n",
       "    </tr>\n",
       "    <tr>\n",
       "      <th>trips_in_first_30_days</th>\n",
       "      <td>-0.136329</td>\n",
       "      <td>-0.001841</td>\n",
       "      <td>0.011517</td>\n",
       "      <td>1.000000</td>\n",
       "      <td>0.050388</td>\n",
       "      <td>-0.031385</td>\n",
       "    </tr>\n",
       "    <tr>\n",
       "      <th>weekday_pct</th>\n",
       "      <td>0.101652</td>\n",
       "      <td>-0.110071</td>\n",
       "      <td>-0.026142</td>\n",
       "      <td>0.050388</td>\n",
       "      <td>1.000000</td>\n",
       "      <td>0.021460</td>\n",
       "    </tr>\n",
       "    <tr>\n",
       "      <th>combined_avg_driver_rating</th>\n",
       "      <td>0.068498</td>\n",
       "      <td>-0.010013</td>\n",
       "      <td>-0.140941</td>\n",
       "      <td>-0.031385</td>\n",
       "      <td>0.021460</td>\n",
       "      <td>1.000000</td>\n",
       "    </tr>\n",
       "  </tbody>\n",
       "</table>\n",
       "</div>"
      ],
      "text/plain": [
       "                            avg_dist  avg_surge      city  \\\n",
       "avg_dist                    1.000000  -0.081491  0.011120   \n",
       "avg_surge                  -0.081491   1.000000 -0.013036   \n",
       "city                        0.011120  -0.013036  1.000000   \n",
       "trips_in_first_30_days     -0.136329  -0.001841  0.011517   \n",
       "weekday_pct                 0.101652  -0.110071 -0.026142   \n",
       "combined_avg_driver_rating  0.068498  -0.010013 -0.140941   \n",
       "\n",
       "                            trips_in_first_30_days  weekday_pct  \\\n",
       "avg_dist                                 -0.136329     0.101652   \n",
       "avg_surge                                -0.001841    -0.110071   \n",
       "city                                      0.011517    -0.026142   \n",
       "trips_in_first_30_days                    1.000000     0.050388   \n",
       "weekday_pct                               0.050388     1.000000   \n",
       "combined_avg_driver_rating               -0.031385     0.021460   \n",
       "\n",
       "                            combined_avg_driver_rating  \n",
       "avg_dist                                      0.068498  \n",
       "avg_surge                                    -0.010013  \n",
       "city                                         -0.140941  \n",
       "trips_in_first_30_days                       -0.031385  \n",
       "weekday_pct                                   0.021460  \n",
       "combined_avg_driver_rating                    1.000000  "
      ]
     },
     "execution_count": 48,
     "metadata": {},
     "output_type": "execute_result"
    }
   ],
   "source": [
    "df_predict.corr()"
   ]
  },
  {
   "cell_type": "code",
   "execution_count": 49,
   "metadata": {},
   "outputs": [
    {
     "data": {
      "text/plain": [
       "0    38806\n",
       "1    11194\n",
       "Name: active_user, dtype: int64"
      ]
     },
     "execution_count": 49,
     "metadata": {},
     "output_type": "execute_result"
    }
   ],
   "source": [
    "df_predict['active_user'] = df_udc['active_user'].replace(active_user_dict)\n",
    "df_predict['active_user'].value_counts()"
   ]
  },
  {
   "cell_type": "markdown",
   "metadata": {},
   "source": [
    "# Modelling\n",
    "Will try a few different model:\n",
    "    LogisticRegression\n",
    "    DecisionTreeClassifier\n",
    "    KNeighborsClassifier\n",
    "    RandomForestClassifier\n",
    "    GradientBoostingClassifier"
   ]
  },
  {
   "cell_type": "code",
   "execution_count": 50,
   "metadata": {
    "collapsed": true
   },
   "outputs": [],
   "source": [
    "# import packages\n",
    "from sklearn.preprocessing import StandardScaler\n",
    "from sklearn.model_selection import train_test_split\n",
    "\n",
    "from sklearn.metrics import classification_report\n",
    "from sklearn.metrics import confusion_matrix\n",
    "from sklearn.metrics import accuracy_score\n",
    "from sklearn.pipeline import Pipeline\n",
    "from sklearn.linear_model import LogisticRegression\n",
    "from sklearn.tree import DecisionTreeClassifier\n",
    "from sklearn.neighbors import KNeighborsClassifier\n",
    "from sklearn.ensemble import RandomForestClassifier\n",
    "from sklearn.ensemble import GradientBoostingClassifier\n"
   ]
  },
  {
   "cell_type": "code",
   "execution_count": 66,
   "metadata": {
    "collapsed": true
   },
   "outputs": [],
   "source": [
    "# Define ml_model_1:\n",
    "# takes in model Instantiate model (model)\n",
    "# fits, predicts, and evaluates (prints results)\n",
    "def ml_model_1(model, modelnm,  X_train, X_test, y_train, y_test):\n",
    "    print('Running ', modelnm)\n",
    "\n",
    "    model.fit(X_train, y_train)\n",
    "    y_pred = model.predict(X_test)\n",
    "\n",
    "    #Evaluate\n",
    "    print(modelnm,' score: ',model.score(X_test, y_test))\n",
    "    print(' ')\n",
    "    # Compute and print the confusion matrix and classification report\n",
    "    print(confusion_matrix(y_test, y_pred))\n",
    "    print(classification_report(y_test, y_pred))\n",
    "    \n",
    "    return y_pred"
   ]
  },
  {
   "cell_type": "code",
   "execution_count": 53,
   "metadata": {
    "collapsed": true
   },
   "outputs": [],
   "source": [
    "# split out into train and test\n",
    "\n",
    "array = df_predict.values\n",
    "\n",
    "X = array[:,0:6].astype(float)\n",
    "y = array[:,6]\n",
    "\n",
    "X_train, X_test, y_train, y_test = train_test_split(X, y, test_size=0.2, random_state=7)"
   ]
  },
  {
   "cell_type": "code",
   "execution_count": 72,
   "metadata": {},
   "outputs": [
    {
     "name": "stdout",
     "output_type": "stream",
     "text": [
      "Running  LogisticRegression\n",
      "LogisticRegression  score:  0.7835\n",
      " \n",
      "[[7702  107]\n",
      " [2058  133]]\n",
      "             precision    recall  f1-score   support\n",
      "\n",
      "        0.0       0.79      0.99      0.88      7809\n",
      "        1.0       0.55      0.06      0.11      2191\n",
      "\n",
      "avg / total       0.74      0.78      0.71     10000\n",
      "\n"
     ]
    }
   ],
   "source": [
    "# Logistic Regression\n",
    "# ml_model_1(model, modelnm,  X_train, X_test, y_train, y_test)\n",
    "from sklearn.linear_model import LogisticRegression\n",
    "lr = LogisticRegression(random_state=0)\n",
    "lr_pred = ml_model_1(lr, 'LogisticRegression', X_train, X_test, y_train, y_test)"
   ]
  },
  {
   "cell_type": "code",
   "execution_count": 73,
   "metadata": {},
   "outputs": [
    {
     "name": "stdout",
     "output_type": "stream",
     "text": [
      "Running  DecisionTreeClassifier\n",
      "DecisionTreeClassifier  score:  0.7322\n",
      " \n",
      "[[6458 1351]\n",
      " [1327  864]]\n",
      "             precision    recall  f1-score   support\n",
      "\n",
      "        0.0       0.83      0.83      0.83      7809\n",
      "        1.0       0.39      0.39      0.39      2191\n",
      "\n",
      "avg / total       0.73      0.73      0.73     10000\n",
      "\n"
     ]
    }
   ],
   "source": [
    "# DecisionTreeClassifier\n",
    "# ml_model_1(model, modelnm,  X_train, X_test, y_train, y_test)\n",
    "# from sklearn.tree import DecisionTreeClassifier\n",
    "dtc = DecisionTreeClassifier()\n",
    "dtc_pred = ml_model_1(dtc, 'DecisionTreeClassifier', X_train, X_test, y_train, y_test)"
   ]
  },
  {
   "cell_type": "code",
   "execution_count": 74,
   "metadata": {},
   "outputs": [
    {
     "name": "stdout",
     "output_type": "stream",
     "text": [
      "Running  KNeighborsClassifier\n",
      "KNeighborsClassifier  score:  0.7617\n",
      " \n",
      "[[6876  933]\n",
      " [1450  741]]\n",
      "             precision    recall  f1-score   support\n",
      "\n",
      "        0.0       0.83      0.88      0.85      7809\n",
      "        1.0       0.44      0.34      0.38      2191\n",
      "\n",
      "avg / total       0.74      0.76      0.75     10000\n",
      "\n"
     ]
    }
   ],
   "source": [
    "# KNeighborsClassifier\n",
    "# ml_model_1(model, modelnm,  X_train, X_test, y_train, y_test)\n",
    "knn = KNeighborsClassifier(n_neighbors=3)\n",
    "knn_pred = ml_model_1(knn, 'KNeighborsClassifier', X_train, X_test, y_train, y_test)"
   ]
  },
  {
   "cell_type": "code",
   "execution_count": 75,
   "metadata": {},
   "outputs": [
    {
     "name": "stdout",
     "output_type": "stream",
     "text": [
      "Running  RandomForestClassifier\n",
      "RandomForestClassifier  score:  0.7648\n",
      " \n",
      "[[6904  905]\n",
      " [1447  744]]\n",
      "             precision    recall  f1-score   support\n",
      "\n",
      "        0.0       0.83      0.88      0.85      7809\n",
      "        1.0       0.45      0.34      0.39      2191\n",
      "\n",
      "avg / total       0.74      0.76      0.75     10000\n",
      "\n"
     ]
    }
   ],
   "source": [
    "# RandomForestClassifier\n",
    "# ml_model_1(model, modelnm,  X_train, X_test, y_train, y_test)\n",
    "rf = RandomForestClassifier(n_estimators = 100, random_state = 42)\n",
    "rf_pred = ml_model_1(rf, 'RandomForestClassifier', X_train, X_test, y_train, y_test)"
   ]
  },
  {
   "cell_type": "code",
   "execution_count": 84,
   "metadata": {},
   "outputs": [
    {
     "name": "stdout",
     "output_type": "stream",
     "text": [
      "Running  GradientBoostingClassifier\n",
      "GradientBoostingClassifier  score:  0.8013\n",
      " \n",
      "[[7381  428]\n",
      " [1559  632]]\n",
      "             precision    recall  f1-score   support\n",
      "\n",
      "        0.0       0.83      0.95      0.88      7809\n",
      "        1.0       0.60      0.29      0.39      2191\n",
      "\n",
      "avg / total       0.78      0.80      0.77     10000\n",
      "\n"
     ]
    }
   ],
   "source": [
    "# GradientBoostingClassifier\n",
    "from sklearn.ensemble import GradientBoostingClassifier\n",
    "\n",
    "gbc = GradientBoostingClassifier(n_estimators=100, random_state=7)\n",
    "gbc_pred = ml_model_1(gbc, 'GradientBoostingClassifier', X_train, X_test, y_train, y_test)"
   ]
  },
  {
   "cell_type": "code",
   "execution_count": null,
   "metadata": {
    "collapsed": true
   },
   "outputs": [],
   "source": [
    "# top performing algorithm \n",
    "GradientBoostingClassifier  score:  0.8013"
   ]
  },
  {
   "cell_type": "code",
   "execution_count": 85,
   "metadata": {},
   "outputs": [
    {
     "data": {
      "text/plain": [
       "Text(0.5,1,'ROC Curve')"
      ]
     },
     "execution_count": 85,
     "metadata": {},
     "output_type": "execute_result"
    },
    {
     "data": {
      "image/png": "[encoded data removed]",
      "text/plain": [
       "<matplotlib.figure.Figure at 0x28048c75e10>"
      ]
     },
     "metadata": {},
     "output_type": "display_data"
    }
   ],
   "source": [
    "from sklearn.metrics import roc_curve\n",
    "\n",
    "# Fit the classifier to the training data\n",
    "gbc.fit(X_train,y_train)\n",
    "\n",
    "# Compute predicted probabilities: y_pred_prob\n",
    "y_pred_prob = gbc.predict_proba(X_test)[:,1]\n",
    "\n",
    "# Generate ROC curve values: fpr, tpr, thresholds\n",
    "fpr, tpr, thresholds = roc_curve(y_test, y_pred_prob)\n",
    "\n",
    "# Plot ROC curve\n",
    "plt.plot([0, 1], [0, 1], 'k--')\n",
    "plt.plot(fpr, tpr)\n",
    "plt.xlabel('False Positive Rate')\n",
    "plt.ylabel('True Positive Rate')\n",
    "plt.title('ROC Curve')"
   ]
  },
  {
   "cell_type": "code",
   "execution_count": 86,
   "metadata": {},
   "outputs": [
    {
     "name": "stdout",
     "output_type": "stream",
     "text": [
      "AUC: 0.7890503818371517\n",
      "AUC scores computed using 5-fold cross-validation: [0.79418944 0.78635171 0.79366111 0.79212872 0.79670324]\n"
     ]
    }
   ],
   "source": [
    "from sklearn.metrics import roc_auc_score\n",
    "from sklearn.model_selection import cross_val_score\n",
    "\n",
    "# Compute predicted probabilities: y_pred_prob\n",
    "y_pred_prob = gbc.predict_proba(X_test)[:,1]\n",
    "\n",
    "# Compute and print AUC score\n",
    "print(\"AUC: {}\".format(roc_auc_score(y_test, y_pred_prob)))\n",
    "\n",
    "# Compute cross-validated AUC scores: cv_auc\n",
    "cv_auc = cross_val_score(gbc, X, y, cv = 5,scoring = 'roc_auc')\n",
    "\n",
    "# Print list of AUC scores\n",
    "print(\"AUC scores computed using 5-fold cross-validation: {}\".format(cv_auc))"
   ]
  },
  {
   "cell_type": "code",
   "execution_count": 90,
   "metadata": {},
   "outputs": [
    {
     "name": "stdout",
     "output_type": "stream",
     "text": [
      "Best: 0.794606 using {'n_estimators': 80}\n",
      "0.786379 (0.009060) with: {'n_estimators': 20}\n",
      "0.789143 (0.008957) with: {'n_estimators': 30}\n",
      "0.790726 (0.008660) with: {'n_estimators': 40}\n",
      "0.792315 (0.008591) with: {'n_estimators': 50}\n",
      "0.793110 (0.008725) with: {'n_estimators': 60}\n",
      "0.794083 (0.008703) with: {'n_estimators': 70}\n",
      "0.794606 (0.008604) with: {'n_estimators': 80}\n"
     ]
    }
   ],
   "source": [
    "# Lets see if we can increase performance of model\n",
    "\n",
    "from sklearn.model_selection import KFold\n",
    "from sklearn.model_selection import GridSearchCV\n",
    "\n",
    "scoring='roc_auc'\n",
    "scaler = StandardScaler().fit(X_train)\n",
    "rescaledX = scaler.transform(X_train)\n",
    "model = GradientBoostingClassifier(learning_rate=0.1, min_samples_split=250,min_samples_leaf=50,\n",
    "                                   max_depth=5,max_features='sqrt',subsample=0.8,random_state=10)\n",
    "\n",
    "param_test1 = {'n_estimators':range(20,81,10)}\n",
    "\n",
    "kfold = KFold(n_splits=10, random_state=7)\n",
    "grid = GridSearchCV(estimator=model, param_grid=param_test1, scoring=scoring, cv=kfold)\n",
    "grid_result = grid.fit(rescaledX, y_train)\n",
    "print('Best: %f using %s' % (grid_result.best_score_, grid_result.best_params_))\n",
    "\n",
    "means = grid_result.cv_results_['mean_test_score']\n",
    "stds = grid_result.cv_results_['std_test_score']\n",
    "params = grid_result.cv_results_['params']\n",
    "for mean, std, param in zip(means, stds, params):\n",
    "    print('%f (%f) with: %r' % (mean, std, param))"
   ]
  },
  {
   "cell_type": "code",
   "execution_count": 92,
   "metadata": {},
   "outputs": [
    {
     "name": "stdout",
     "output_type": "stream",
     "text": [
      "[[7334  475]\n",
      " [1530  661]]\n",
      "             precision    recall  f1-score   support\n",
      "\n",
      "        0.0       0.83      0.94      0.88      7809\n",
      "        1.0       0.58      0.30      0.40      2191\n",
      "\n",
      "avg / total       0.77      0.80      0.77     10000\n",
      "\n"
     ]
    }
   ],
   "source": [
    "# Further Performance Evaluation\n",
    "\n",
    "scaler = StandardScaler().fit(X_train)\n",
    "rescaledX = scaler.transform(X_train)\n",
    "model = GradientBoostingClassifier(n_estimators= 80, max_depth=7, min_samples_split=1000, learning_rate=0.1,\n",
    "                                  min_samples_leaf=50,\n",
    "                                  max_features='sqrt',subsample=0.8,random_state=10)\n",
    "model.fit(rescaledX, y_train)\n",
    "\n",
    "# estimate accuracy on test set\n",
    "\n",
    "rescaledTestX = scaler.transform(X_test)\n",
    "predictions = model.predict(rescaledTestX)\n",
    "print(confusion_matrix(y_test, predictions))\n",
    "print(classification_report(y_test, predictions))"
   ]
  },
  {
   "cell_type": "code",
   "execution_count": null,
   "metadata": {
    "collapsed": true
   },
   "outputs": [],
   "source": []
  },
  {
   "cell_type": "code",
   "execution_count": 93,
   "metadata": {},
   "outputs": [
    {
     "data": {
      "text/plain": [
       "Text(0.5,1,'Feature Importance')"
      ]
     },
     "execution_count": 93,
     "metadata": {},
     "output_type": "execute_result"
    },
    {
     "data": {
      "image/png": "[encoded data removed]",
      "text/plain": [
       "<matplotlib.figure.Figure at 0x28013c67358>"
      ]
     },
     "metadata": {},
     "output_type": "display_data"
    }
   ],
   "source": [
    "#  most important features for prediction using the feature importances attribute of the GBM.\n",
    "y_pos = np.arange(len(feature_cols))\n",
    "\n",
    "plt.barh(y_pos, model.feature_importances_, align='center', alpha=0.4)\n",
    "plt.yticks(y_pos, feature_cols)\n",
    "plt.title('Feature Importance')"
   ]
  },
  {
   "cell_type": "code",
   "execution_count": null,
   "metadata": {
    "collapsed": true
   },
   "outputs": [],
   "source": []
  },
  {
   "cell_type": "markdown",
   "metadata": {},
   "source": [
    "# Conclusion \n",
    "\n",
    "\n",
    "\n",
    "Tried different models.  GradientBoosting provide best results when looking at accurracy (80%).  One way to improve the accuracy could be to normalize the features to minimize any bias from different scales. \n",
    "\n",
    "Week day pct is the most important feature \n",
    "\n",
    "With this model Ultimate is able to predicting non-active users very well, while having more difficulty predicting active users\n",
    "\n",
    "It appears that the percentage used on weekdays is the most important feature, using that knowledge Ultimate can look for ways to get users to drive specifically during the week to prolong activity\n",
    "\n",
    "Active users were more likely to have a trip in their first 30 days, knowing this Ultimate could look for way to incentive users early on after their signup date\n",
    "\n",
    "There are clear market opportunities in King's Landing especially as most of the dataset did not contain users from King's Landing\n",
    "\n",
    "The key is being able to integrate the service into their daily lives, by focusing on their use within their first 30 days of signing up as well as usage during the week, longterm user retention can be retained"
   ]
  },
  {
   "cell_type": "code",
   "execution_count": null,
   "metadata": {
    "collapsed": true
   },
   "outputs": [],
   "source": []
  }
 ],
 "metadata": {
  "kernelspec": {
   "display_name": "Python 3",
   "language": "python",
   "name": "python3"
  },
  "language_info": {
   "codemirror_mode": {
    "name": "ipython",
    "version": 3
   },
   "file_extension": ".py",
   "mimetype": "text/x-python",
   "name": "python",
   "nbconvert_exporter": "python",
   "pygments_lexer": "ipython3",
   "version": "3.6.3"
  }
 },
 "nbformat": 4,
 "nbformat_minor": 2
}
