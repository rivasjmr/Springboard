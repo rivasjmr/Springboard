{
 "cells": [
  {
   "cell_type": "code",
   "execution_count": 1,
   "metadata": {
    "collapsed": true
   },
   "outputs": [],
   "source": [
    "# cross_validation and SVM with MNIST Fashion data using PCA 50 results\n",
    "# loading libraries\n",
    "import pandas as pd\n",
    "import numpy as np\n",
    "from datetime import datetime\n",
    "import matplotlib.pyplot as plt\n",
    "\n",
    "# load dataset\n",
    "#   Training data\n",
    "df_training = pd.read_csv('C:\\\\Users\\\\rivas\\\\OneDrive\\\\Documents\\\\JMR\\\\Education\\\\Springboard\\\\Projects\\\\Capstone1\\\\fashionmnisttrain.csv')\n",
    "\n",
    "#   split data table into data Features (x) and class labels (y)\n",
    "xdf_train = df_training.iloc[:, 1:]\n",
    "ydf_train = df_training.iloc[:, :1]\n",
    "\n",
    "\n",
    "#   Test data\n",
    "#   split data table into data Features (x) and class labels (y)\n",
    "df_test = pd.read_csv('C:\\\\Users\\\\rivas\\\\OneDrive\\\\Documents\\\\JMR\\\\Education\\\\Springboard\\\\Projects\\\\Capstone1\\\\fashionmnisttest.csv')\n",
    "\n",
    "#   split data table into data Features (x) and class labels (y)\n",
    "xdf_test = df_test.iloc[:, 1:]\n",
    "ydf_test = df_test.iloc[:, :1]\n",
    "\n",
    "#   Convert to numpy array\n",
    "x_train = xdf_train.as_matrix()\n",
    "y_train = ydf_train.as_matrix()\n",
    "x_test = xdf_test.as_matrix()\n",
    "y_test = ydf_test.as_matrix()\n",
    "\n",
    "# Reshape array\n",
    "y2_train = np.ravel( y_train[ : , 0] ) \n",
    "y2_test = np.ravel( y_test[ : , 0] ) \n"
   ]
  },
  {
   "cell_type": "code",
   "execution_count": 5,
   "metadata": {},
   "outputs": [
    {
     "name": "stderr",
     "output_type": "stream",
     "text": [
      "C:\\Users\\rivas\\Anaconda3\\lib\\site-packages\\sklearn\\utils\\validation.py:475: DataConversionWarning: Data with input dtype int64 was converted to float64 by StandardScaler.\n",
      "  warnings.warn(msg, DataConversionWarning)\n"
     ]
    }
   ],
   "source": [
    "# PCA - Prepare Test data \n",
    "#\n",
    "X_std = StandardScaler().fit_transform(x_test)"
   ]
  },
  {
   "cell_type": "code",
   "execution_count": 6,
   "metadata": {},
   "outputs": [
    {
     "name": "stdout",
     "output_type": "stream",
     "text": [
      "50 components for Test data: running time 0:00:01.454436\n"
     ]
    }
   ],
   "source": [
    "# Test data - Using 50 components\n",
    "time_strt = datetime.now()\n",
    "sklearn50_pca = PCA(n_components=50)\n",
    "Xtest_50 = sklearn50_pca.fit_transform(X_std)\n",
    "time_fin = datetime.now()\n",
    "print (\"50 components for Test data: running time\", (time_fin - time_strt))"
   ]
  },
  {
   "cell_type": "code",
   "execution_count": 7,
   "metadata": {},
   "outputs": [
    {
     "data": {
      "text/plain": [
       "(10000, 50)"
      ]
     },
     "execution_count": 7,
     "metadata": {},
     "output_type": "execute_result"
    }
   ],
   "source": [
    "Xtest_50.shape"
   ]
  },
  {
   "cell_type": "code",
   "execution_count": 8,
   "metadata": {
    "collapsed": true
   },
   "outputs": [],
   "source": [
    "# loading libraries\n",
    "from sklearn.model_selection import cross_val_score\n",
    "from sklearn import svm"
   ]
  },
  {
   "cell_type": "code",
   "execution_count": 9,
   "metadata": {},
   "outputs": [
    {
     "name": "stdout",
     "output_type": "stream",
     "text": [
      "Cross Validation score: running time:  0:01:48.748608\n"
     ]
    }
   ],
   "source": [
    "# C=1\n",
    "clf = svm.SVC(kernel='linear', C=1)\n",
    "time_strt = datetime.now()\n",
    "scores = cross_val_score(clf, Xtest_50, y2_test, cv=5)\n",
    "time_fin = datetime.now()\n",
    "print (\"Cross Validation score: running time: \", (time_fin - time_strt))\n"
   ]
  },
  {
   "cell_type": "code",
   "execution_count": 10,
   "metadata": {},
   "outputs": [
    {
     "data": {
      "text/plain": [
       "array([ 0.825 ,  0.8285,  0.8415,  0.822 ,  0.847 ])"
      ]
     },
     "execution_count": 10,
     "metadata": {},
     "output_type": "execute_result"
    }
   ],
   "source": [
    "scores"
   ]
  },
  {
   "cell_type": "code",
   "execution_count": 11,
   "metadata": {},
   "outputs": [
    {
     "name": "stdout",
     "output_type": "stream",
     "text": [
      "Accuracy: 0.83 (+/- 0.02)\n"
     ]
    }
   ],
   "source": [
    "print(\"Accuracy: %0.2f (+/- %0.2f)\" % (scores.mean(), scores.std() * 2))"
   ]
  },
  {
   "cell_type": "code",
   "execution_count": 12,
   "metadata": {},
   "outputs": [
    {
     "name": "stdout",
     "output_type": "stream",
     "text": [
      "Cross Validation score: running time:  0:00:18.091674\n"
     ]
    }
   ],
   "source": [
    "# Parameters: gamma=0.001, C=100  \n",
    "clf = svm.SVC(gamma=0.001, C=100.)\n",
    "time_strt = datetime.now()\n",
    "scores = cross_val_score(clf, Xtest_50, y2_test, cv=5)\n",
    "time_fin = datetime.now()\n",
    "print (\"Cross Validation score: running time: \", (time_fin - time_strt))\n"
   ]
  },
  {
   "cell_type": "code",
   "execution_count": 13,
   "metadata": {},
   "outputs": [
    {
     "data": {
      "text/plain": [
       "array([ 0.852 ,  0.862 ,  0.8695,  0.8675,  0.8745])"
      ]
     },
     "execution_count": 13,
     "metadata": {},
     "output_type": "execute_result"
    }
   ],
   "source": [
    "scores"
   ]
  },
  {
   "cell_type": "code",
   "execution_count": 14,
   "metadata": {},
   "outputs": [
    {
     "name": "stdout",
     "output_type": "stream",
     "text": [
      "Accuracy: 0.87 (+/- 0.02)\n"
     ]
    }
   ],
   "source": [
    "print(\"Accuracy: %0.2f (+/- %0.2f)\" % (scores.mean(), scores.std() * 2))"
   ]
  },
  {
   "cell_type": "code",
   "execution_count": null,
   "metadata": {
    "collapsed": true
   },
   "outputs": [],
   "source": []
  }
 ],
 "metadata": {
  "kernelspec": {
   "display_name": "Python 3",
   "language": "python",
   "name": "python3"
  },
  "language_info": {
   "codemirror_mode": {
    "name": "ipython",
    "version": 3
   },
   "file_extension": ".py",
   "mimetype": "text/x-python",
   "name": "python",
   "nbconvert_exporter": "python",
   "pygments_lexer": "ipython3",
   "version": "3.6.3"
  }
 },
 "nbformat": 4,
 "nbformat_minor": 2
}
