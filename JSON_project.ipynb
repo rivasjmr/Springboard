{
 "cells": [
  {
   "cell_type": "code",
   "execution_count": 1,
   "metadata": {
    "collapsed": true
   },
   "outputs": [],
   "source": [
    "# JSON Project\n",
    "# Project: Work on JSON Based Data Exercises and Submit on Your Github\n",
    "#  demonstrates reading in a json file as a string and as a table\n",
    "#  uses small sample file containing data about projects funded by the World Bank \n",
    "# data source: http://jsonstudio.com/resources/\n",
    "\n",
    "\"\"\"\n",
    "Using data in file 'data/world_bank_projects.json' and the techniques demonstrated above,\n",
    " 1-Find the 10 countries with most projects\n",
    " 2-Find the top 10 major project themes (using column 'mjtheme_namecode')\n",
    " 3-In 2. above you will notice that some entries have only the code and the name is missing. \n",
    "   Create a dataframe with the missing names filled in.\n",
    "\"\"\"\n",
    "#"
   ]
  },
  {
   "cell_type": "code",
   "execution_count": 2,
   "metadata": {
    "collapsed": true
   },
   "outputs": [],
   "source": [
    "# Import libraries\n",
    "import pandas as pd\n",
    "import json\n",
    "from pandas.io.json import json_normalize\n"
   ]
  },
  {
   "cell_type": "code",
   "execution_count": 3,
   "metadata": {
    "collapsed": true
   },
   "outputs": [],
   "source": [
    "# Read Data into a DataFrame\n",
    "json_df = pd.read_json('C:/Users/rivas/OneDrive/Documents/JMR/Education/Springboard/Projects/JSON/data_wrangling_json/data/world_bank_projects.json')\n",
    "\n"
   ]
  },
  {
   "cell_type": "code",
   "execution_count": 5,
   "metadata": {},
   "outputs": [
    {
     "name": "stdout",
     "output_type": "stream",
     "text": [
      "<class 'pandas.core.frame.DataFrame'>\n",
      "RangeIndex: 500 entries, 0 to 499\n",
      "Data columns (total 50 columns):\n",
      "_id                         500 non-null object\n",
      "approvalfy                  500 non-null int64\n",
      "board_approval_month        500 non-null object\n",
      "boardapprovaldate           500 non-null object\n",
      "borrower                    485 non-null object\n",
      "closingdate                 370 non-null object\n",
      "country_namecode            500 non-null object\n",
      "countrycode                 500 non-null object\n",
      "countryname                 500 non-null object\n",
      "countryshortname            500 non-null object\n",
      "docty                       446 non-null object\n",
      "envassesmentcategorycode    430 non-null object\n",
      "grantamt                    500 non-null int64\n",
      "ibrdcommamt                 500 non-null int64\n",
      "id                          500 non-null object\n",
      "idacommamt                  500 non-null int64\n",
      "impagency                   472 non-null object\n",
      "lendinginstr                495 non-null object\n",
      "lendinginstrtype            495 non-null object\n",
      "lendprojectcost             500 non-null int64\n",
      "majorsector_percent         500 non-null object\n",
      "mjsector_namecode           500 non-null object\n",
      "mjtheme                     491 non-null object\n",
      "mjtheme_namecode            500 non-null object\n",
      "mjthemecode                 500 non-null object\n",
      "prodline                    500 non-null object\n",
      "prodlinetext                500 non-null object\n",
      "productlinetype             500 non-null object\n",
      "project_abstract            362 non-null object\n",
      "project_name                500 non-null object\n",
      "projectdocs                 446 non-null object\n",
      "projectfinancialtype        500 non-null object\n",
      "projectstatusdisplay        500 non-null object\n",
      "regionname                  500 non-null object\n",
      "sector                      500 non-null object\n",
      "sector1                     500 non-null object\n",
      "sector2                     380 non-null object\n",
      "sector3                     265 non-null object\n",
      "sector4                     174 non-null object\n",
      "sector_namecode             500 non-null object\n",
      "sectorcode                  500 non-null object\n",
      "source                      500 non-null object\n",
      "status                      500 non-null object\n",
      "supplementprojectflg        498 non-null object\n",
      "theme1                      500 non-null object\n",
      "theme_namecode              491 non-null object\n",
      "themecode                   491 non-null object\n",
      "totalamt                    500 non-null int64\n",
      "totalcommamt                500 non-null int64\n",
      "url                         500 non-null object\n",
      "dtypes: int64(7), object(43)\n",
      "memory usage: 195.4+ KB\n",
      "None\n",
      "                                    _id  approvalfy board_approval_month  \\\n",
      "0  {'$oid': '52b213b38594d8a2be17c780'}        1999             November   \n",
      "1  {'$oid': '52b213b38594d8a2be17c781'}        2015             November   \n",
      "2  {'$oid': '52b213b38594d8a2be17c782'}        2014             November   \n",
      "3  {'$oid': '52b213b38594d8a2be17c783'}        2014              October   \n",
      "4  {'$oid': '52b213b38594d8a2be17c784'}        2014              October   \n",
      "\n",
      "      boardapprovaldate                                 borrower  \\\n",
      "0  2013-11-12T00:00:00Z  FEDERAL DEMOCRATIC REPUBLIC OF ETHIOPIA   \n",
      "1  2013-11-04T00:00:00Z                    GOVERNMENT OF TUNISIA   \n",
      "2  2013-11-01T00:00:00Z   MINISTRY OF FINANCE AND ECONOMIC DEVEL   \n",
      "3  2013-10-31T00:00:00Z   MIN. OF PLANNING AND INT'L COOPERATION   \n",
      "4  2013-10-31T00:00:00Z                      MINISTRY OF FINANCE   \n",
      "\n",
      "            closingdate                              country_namecode  \\\n",
      "0  2018-07-07T00:00:00Z  Federal Democratic Republic of Ethiopia!$!ET   \n",
      "1                   NaN                      Republic of Tunisia!$!TN   \n",
      "2                   NaN                                   Tuvalu!$!TV   \n",
      "3                   NaN                        Republic of Yemen!$!RY   \n",
      "4  2019-04-30T00:00:00Z                       Kingdom of Lesotho!$!LS   \n",
      "\n",
      "  countrycode                              countryname    countryshortname  \\\n",
      "0          ET  Federal Democratic Republic of Ethiopia            Ethiopia   \n",
      "1          TN                      Republic of Tunisia             Tunisia   \n",
      "2          TV                                   Tuvalu              Tuvalu   \n",
      "3          RY                        Republic of Yemen  Yemen, Republic of   \n",
      "4          LS                       Kingdom of Lesotho             Lesotho   \n",
      "\n",
      "                         ...                           sectorcode source  \\\n",
      "0                        ...                          ET,BS,ES,EP   IBRD   \n",
      "1                        ...                                BZ,BS   IBRD   \n",
      "2                        ...                                   TI   IBRD   \n",
      "3                        ...                                   JB   IBRD   \n",
      "4                        ...                             FH,YW,YZ   IBRD   \n",
      "\n",
      "   status  supplementprojectflg  \\\n",
      "0  Active                     N   \n",
      "1  Active                     N   \n",
      "2  Active                     Y   \n",
      "3  Active                     N   \n",
      "4  Active                     N   \n",
      "\n",
      "                                              theme1  \\\n",
      "0      {'Percent': 100, 'Name': 'Education for all'}   \n",
      "1  {'Percent': 30, 'Name': 'Other economic manage...   \n",
      "2    {'Percent': 46, 'Name': 'Regional integration'}   \n",
      "3  {'Percent': 50, 'Name': 'Participation and civ...   \n",
      "4  {'Percent': 30, 'Name': 'Export development an...   \n",
      "\n",
      "                                      theme_namecode    themecode   totalamt  \\\n",
      "0      [{'code': '65', 'name': 'Education for all'}]           65  130000000   \n",
      "1  [{'code': '24', 'name': 'Other economic manage...        54,24          0   \n",
      "2  [{'code': '47', 'name': 'Regional integration'...  52,81,25,47    6060000   \n",
      "3  [{'code': '57', 'name': 'Participation and civ...        59,57          0   \n",
      "4  [{'code': '45', 'name': 'Export development an...        41,45   13100000   \n",
      "\n",
      "  totalcommamt                                                url  \n",
      "0    130000000  http://www.worldbank.org/projects/P129828/ethi...  \n",
      "1      4700000  http://www.worldbank.org/projects/P144674?lang=en  \n",
      "2      6060000  http://www.worldbank.org/projects/P145310?lang=en  \n",
      "3      1500000  http://www.worldbank.org/projects/P144665?lang=en  \n",
      "4     13100000  http://www.worldbank.org/projects/P144933/seco...  \n",
      "\n",
      "[5 rows x 50 columns]\n"
     ]
    }
   ],
   "source": [
    "# Data Exploration\n",
    "print(json_df.info())\n",
    "print(json_df.head(5))\n"
   ]
  },
  {
   "cell_type": "code",
   "execution_count": 8,
   "metadata": {},
   "outputs": [
    {
     "data": {
      "text/plain": [
       "countryname\n",
       "People's Republic of China         19\n",
       "Republic of Indonesia              19\n",
       "Socialist Republic of Vietnam      17\n",
       "Republic of India                  16\n",
       "Republic of Yemen                  13\n",
       "Nepal                              12\n",
       "People's Republic of Bangladesh    12\n",
       "Kingdom of Morocco                 12\n",
       "Africa                             11\n",
       "Republic of Mozambique             11\n",
       "dtype: int64"
      ]
     },
     "execution_count": 8,
     "metadata": {},
     "output_type": "execute_result"
    }
   ],
   "source": [
    "# Problem 1- Find the 10 countries with most projects\n",
    "\n",
    "\n",
    "\n",
    "# Subset the data countryname and project_anme\n",
    "cntry_df = json_df[['countryname','project_name']]\n",
    "\n",
    "#Group by countryname, aggregate by size (count country repeating), sort descending, and display top 10 \n",
    "\n",
    "cntry_df.groupby(['countryname']).size().sort_values(ascending=False).head(10)\n"
   ]
  },
  {
   "cell_type": "code",
   "execution_count": null,
   "metadata": {
    "collapsed": true
   },
   "outputs": [],
   "source": [
    "# Above provides answer to Problem 1\n",
    "\n",
    "\n",
    "\n"
   ]
  },
  {
   "cell_type": "code",
   "execution_count": 10,
   "metadata": {
    "collapsed": true
   },
   "outputs": [],
   "source": [
    "# Problem 2 - Find the top 10 major project themes (using column 'mjtheme_namecode')\n",
    "\n",
    "\n",
    "#  open the data as string\n",
    "with open('C:/Users/rivas/OneDrive/Documents/JMR/Education/Springboard/Projects/JSON/data_wrangling_json/data/world_bank_projects.json')as file:\n",
    "    json_str=json.load(file)\n",
    "    "
   ]
  },
  {
   "cell_type": "code",
   "execution_count": 13,
   "metadata": {},
   "outputs": [
    {
     "name": "stdout",
     "output_type": "stream",
     "text": [
      "<class 'list'>\n",
      "500\n",
      "{'sector': [{'Name': 'Primary education'}, {'Name': 'Secondary education'}, {'Name': 'Public administration- Other social services'}, {'Name': 'Tertiary education'}], 'supplementprojectflg': 'N', 'projectfinancialtype': 'IDA', 'prodline': 'PE', 'mjtheme': ['Human development'], 'idacommamt': 130000000, 'impagency': 'MINISTRY OF EDUCATION', 'project_name': 'Ethiopia General Education Quality Improvement Project II', 'mjthemecode': '8,11', 'closingdate': '2018-07-07T00:00:00Z', 'totalcommamt': 130000000, 'id': 'P129828', 'mjsector_namecode': [{'code': 'EX', 'name': 'Education'}, {'code': 'EX', 'name': 'Education'}, {'code': 'BX', 'name': 'Public Administration, Law, and Justice'}, {'code': 'EX', 'name': 'Education'}], 'docty': 'Project Information Document,Indigenous Peoples Plan,Project Information Document', 'sector1': {'Percent': 46, 'Name': 'Primary education'}, 'lendinginstr': 'Investment Project Financing', 'countrycode': 'ET', 'sector2': {'Percent': 26, 'Name': 'Secondary education'}, 'totalamt': 130000000, 'mjtheme_namecode': [{'code': '8', 'name': 'Human development'}, {'code': '11', 'name': ''}], 'boardapprovaldate': '2013-11-12T00:00:00Z', 'countryshortname': 'Ethiopia', 'sector4': {'Percent': 12, 'Name': 'Tertiary education'}, 'prodlinetext': 'IBRD/IDA', 'productlinetype': 'L', 'regionname': 'Africa', 'status': 'Active', 'country_namecode': 'Federal Democratic Republic of Ethiopia!$!ET', 'envassesmentcategorycode': 'C', 'project_abstract': {'cdata': 'The development objective of the Second Phase of General Education Quality Improvement Project for Ethiopia is to improve learning conditions in primary and secondary schools and strengthen institutions at different levels of educational administration. The project has six components. The first component is curriculum, textbooks, assessment, examinations, and inspection. This component will support improvement of learning conditions in grades KG-12 by providing increased access to teaching and learning materials and through improvements to the curriculum by assessing the strengths and weaknesses of the current curriculum. This component has following four sub-components: (i) curriculum reform and implementation; (ii) teaching and learning materials; (iii) assessment and examinations; and (iv) inspection. The second component is teacher development program (TDP). This component will support improvements in learning conditions in both primary and secondary schools by advancing the quality of teaching in general education through: (a) enhancing the training of pre-service teachers in teacher education institutions; and (b) improving the quality of in-service teacher training. This component has following three sub-components: (i) pre-service teacher training; (ii) in-service teacher training; and (iii) licensing and relicensing of teachers and school leaders. The third component is school improvement plan. This component will support the strengthening of school planning in order to improve learning outcomes, and to partly fund the school improvement plans through school grants. It has following two sub-components: (i) school improvement plan; and (ii) school grants. The fourth component is management and capacity building, including education management information systems (EMIS). This component will support management and capacity building aspect of the project. This component has following three sub-components: (i) capacity building for education planning and management; (ii) capacity building for school planning and management; and (iii) EMIS. The fifth component is improving the quality of learning and teaching in secondary schools and universities through the use of information and communications technology (ICT). It has following five sub-components: (i) national policy and institution for ICT in general education; (ii) national ICT infrastructure improvement plan for general education; (iii) develop an integrated monitoring, evaluation, and learning system specifically for the ICT component; (iv) teacher professional development in the use of ICT; and (v) provision of limited number of e-Braille display readers with the possibility to scale up to all secondary education schools based on the successful implementation and usage of the readers. The sixth component is program coordination, monitoring and evaluation, and communication. It will support institutional strengthening by developing capacities in all aspects of program coordination, monitoring and evaluation; a new sub-component on communications will support information sharing for better management and accountability. It has following three sub-components: (i) program coordination; (ii) monitoring and evaluation (M and E); and (iii) communication.'}, 'approvalfy': 1999, 'projectdocs': [{'DocDate': '28-AUG-2013', 'EntityID': '090224b081e545fb_1_0', 'DocURL': 'http://www-wds.worldbank.org/servlet/WDSServlet?pcont=details&eid=090224b081e545fb_1_0', 'DocType': 'PID', 'DocTypeDesc': 'Project Information Document (PID),  Vol.'}, {'DocDate': '01-JUL-2013', 'EntityID': '000442464_20130920111729', 'DocURL': 'http://www-wds.worldbank.org/servlet/WDSServlet?pcont=details&eid=000442464_20130920111729', 'DocType': 'IP', 'DocTypeDesc': 'Indigenous Peoples Plan (IP),  Vol.1 of 1'}, {'DocDate': '22-NOV-2012', 'EntityID': '090224b0817b19e2_1_0', 'DocURL': 'http://www-wds.worldbank.org/servlet/WDSServlet?pcont=details&eid=090224b0817b19e2_1_0', 'DocType': 'PID', 'DocTypeDesc': 'Project Information Document (PID),  Vol.'}], 'lendprojectcost': 550000000, 'lendinginstrtype': 'IN', 'theme1': {'Percent': 100, 'Name': 'Education for all'}, 'grantamt': 0, 'themecode': '65', 'borrower': 'FEDERAL DEMOCRATIC REPUBLIC OF ETHIOPIA', 'sectorcode': 'ET,BS,ES,EP', 'sector3': {'Percent': 16, 'Name': 'Public administration- Other social services'}, 'majorsector_percent': [{'Percent': 46, 'Name': 'Education'}, {'Percent': 26, 'Name': 'Education'}, {'Percent': 16, 'Name': 'Public Administration, Law, and Justice'}, {'Percent': 12, 'Name': 'Education'}], 'board_approval_month': 'November', 'theme_namecode': [{'code': '65', 'name': 'Education for all'}], 'countryname': 'Federal Democratic Republic of Ethiopia', 'url': 'http://www.worldbank.org/projects/P129828/ethiopia-general-education-quality-improvement-project-ii?lang=en', 'source': 'IBRD', 'projectstatusdisplay': 'Active', 'ibrdcommamt': 0, 'sector_namecode': [{'code': 'EP', 'name': 'Primary education'}, {'code': 'ES', 'name': 'Secondary education'}, {'code': 'BS', 'name': 'Public administration- Other social services'}, {'code': 'ET', 'name': 'Tertiary education'}], '_id': {'$oid': '52b213b38594d8a2be17c780'}}\n"
     ]
    }
   ],
   "source": [
    "# Data Exploration\n",
    "print(type(json_str))\n",
    "print(len(json_str))\n",
    "print(json_str[0])\n"
   ]
  },
  {
   "cell_type": "code",
   "execution_count": 14,
   "metadata": {
    "collapsed": true
   },
   "outputs": [],
   "source": [
    "# Use the normalize function \n",
    "mjtheme_df=json_normalize(json_str,'mjtheme_namecode',['project_name'])\n"
   ]
  },
  {
   "cell_type": "code",
   "execution_count": 22,
   "metadata": {},
   "outputs": [
    {
     "name": "stdout",
     "output_type": "stream",
     "text": [
      "Index(['code', 'name', 'project_name'], dtype='object')\n",
      "1499\n"
     ]
    }
   ],
   "source": [
    "# Data Exploration\n",
    "print(mjtheme_df.columns)\n",
    "print(len(mjtheme_df))\n"
   ]
  },
  {
   "cell_type": "code",
   "execution_count": null,
   "metadata": {
    "collapsed": true
   },
   "outputs": [],
   "source": []
  },
  {
   "cell_type": "code",
   "execution_count": 15,
   "metadata": {},
   "outputs": [
    {
     "data": {
      "text/plain": [
       "name\n",
       "Environment and natural resources management    223\n",
       "Rural development                               202\n",
       "Human development                               197\n",
       "Public sector governance                        184\n",
       "Social protection and risk management           158\n",
       "Financial and private sector development        130\n",
       "                                                122\n",
       "Social dev/gender/inclusion                     119\n",
       "Trade and integration                            72\n",
       "Urban development                                47\n",
       "dtype: int64"
      ]
     },
     "execution_count": 15,
     "metadata": {},
     "output_type": "execute_result"
    }
   ],
   "source": [
    "# Investigate different scenarios\n",
    "# 1st scenario - Group by project_name, use name, sort descending, and display top 10\n",
    "mjtheme_df.groupby('name').size().sort_values(ascending=False).head(10)"
   ]
  },
  {
   "cell_type": "code",
   "execution_count": 16,
   "metadata": {},
   "outputs": [
    {
     "data": {
      "text/plain": [
       "code  name                                        \n",
       "11    Environment and natural resources management    223\n",
       "10    Rural development                               202\n",
       "8     Human development                               197\n",
       "2     Public sector governance                        184\n",
       "6     Social protection and risk management           158\n",
       "4     Financial and private sector development        130\n",
       "7     Social dev/gender/inclusion                     119\n",
       "5     Trade and integration                            72\n",
       "9     Urban development                                47\n",
       "1     Economic management                              33\n",
       "dtype: int64"
      ]
     },
     "execution_count": 16,
     "metadata": {},
     "output_type": "execute_result"
    }
   ],
   "source": [
    "# 2nd scenario - Group by code and project_name,  sort descending, and display top 10\n",
    "mjtheme_df.groupby(['code','name']).size().sort_values(ascending=False).head(10)"
   ]
  },
  {
   "cell_type": "code",
   "execution_count": 17,
   "metadata": {},
   "outputs": [
    {
     "data": {
      "text/plain": [
       "code\n",
       "11    250\n",
       "10    216\n",
       "8     210\n",
       "2     199\n",
       "6     168\n",
       "4     146\n",
       "7     130\n",
       "5      77\n",
       "9      50\n",
       "1      38\n",
       "dtype: int64"
      ]
     },
     "execution_count": 17,
     "metadata": {},
     "output_type": "execute_result"
    }
   ],
   "source": [
    "# 3rd  scenario - Group by code,  sort descending, and display top 10\n",
    "mjtheme_df.groupby(['code']).size().sort_values(ascending=False).head(10)\n"
   ]
  },
  {
   "cell_type": "code",
   "execution_count": null,
   "metadata": {
    "collapsed": true
   },
   "outputs": [],
   "source": [
    "# Above provides answer to Problem 2\n",
    "\n",
    "# I would rely on the 3rd scenario to answer Problem 2\n",
    "# since project name has missing entries\n",
    "\n",
    "\n"
   ]
  },
  {
   "cell_type": "code",
   "execution_count": 18,
   "metadata": {},
   "outputs": [
    {
     "data": {
      "text/plain": [
       "code  name                                        \n",
       "11    Environment and natural resources management    223\n",
       "10    Rural development                               202\n",
       "8     Human development                               197\n",
       "2     Public sector governance                        184\n",
       "6     Social protection and risk management           158\n",
       "4     Financial and private sector development        130\n",
       "7     Social dev/gender/inclusion                     119\n",
       "5     Trade and integration                            72\n",
       "9     Urban development                                47\n",
       "1     Economic management                              33\n",
       "11                                                     27\n",
       "4                                                      16\n",
       "2                                                      15\n",
       "10                                                     14\n",
       "8                                                      13\n",
       "3     Rule of law                                      12\n",
       "7                                                      11\n",
       "6                                                      10\n",
       "5                                                       5\n",
       "1                                                       5\n",
       "3                                                       3\n",
       "9                                                       3\n",
       "dtype: int64"
      ]
     },
     "execution_count": 18,
     "metadata": {},
     "output_type": "execute_result"
    }
   ],
   "source": [
    "# Problem 3 - In 2. above you will notice that some entries have only the code and the name is missing.\n",
    "#     Create a dataframe with the missing names filled in.\n",
    "\n",
    "\n",
    "# Query all the code/name to identify how to fill in missing names\n",
    "mjtheme_df.groupby(['code','name']).size().sort_values(ascending=False)\n",
    "\n"
   ]
  },
  {
   "cell_type": "code",
   "execution_count": 19,
   "metadata": {
    "collapsed": true
   },
   "outputs": [],
   "source": [
    "# Updating missing 'name' column based of query above\n",
    "mjtheme_df.loc[mjtheme_df.code == '1', 'name'] = 'Economic management'\n",
    "mjtheme_df.loc[mjtheme_df.code == '2', 'name'] = 'Public sector governance'\n",
    "mjtheme_df.loc[mjtheme_df.code == '3', 'name'] = 'Rule of law'\n",
    "mjtheme_df.loc[mjtheme_df.code == '4', 'name'] = 'Financial and private sector development'\n",
    "mjtheme_df.loc[mjtheme_df.code == '5', 'name'] = 'Trade and integration'\n",
    "mjtheme_df.loc[mjtheme_df.code == '6', 'name'] = 'Social protection and risk management'\n",
    "mjtheme_df.loc[mjtheme_df.code == '7', 'name'] = 'Social dev/gender/inclusion'\n",
    "mjtheme_df.loc[mjtheme_df.code == '8', 'name'] = 'Human development'\n",
    "mjtheme_df.loc[mjtheme_df.code == '9', 'name'] = 'Urban development'\n",
    "mjtheme_df.loc[mjtheme_df.code == '10', 'name'] = 'Rural development'\n",
    "mjtheme_df.loc[mjtheme_df.code == '11', 'name'] = 'Environment and natural resources management'\n"
   ]
  },
  {
   "cell_type": "code",
   "execution_count": 20,
   "metadata": {},
   "outputs": [
    {
     "data": {
      "text/plain": [
       "code  name                                        \n",
       "11    Environment and natural resources management    250\n",
       "10    Rural development                               216\n",
       "8     Human development                               210\n",
       "2     Public sector governance                        199\n",
       "6     Social protection and risk management           168\n",
       "4     Financial and private sector development        146\n",
       "7     Social dev/gender/inclusion                     130\n",
       "5     Trade and integration                            77\n",
       "9     Urban development                                50\n",
       "1     Economic management                              38\n",
       "3     Rule of law                                      15\n",
       "dtype: int64"
      ]
     },
     "execution_count": 20,
     "metadata": {},
     "output_type": "execute_result"
    }
   ],
   "source": [
    "# Validate updates (no missing name) Query all the code/name to identify how to fill in missing names\n",
    "mjtheme_df.groupby(['code','name']).size().sort_values(ascending=False)\n"
   ]
  },
  {
   "cell_type": "code",
   "execution_count": null,
   "metadata": {
    "collapsed": true
   },
   "outputs": [],
   "source": [
    "# Above provides answer to Problem 3\n",
    "\n",
    "\n",
    "\n"
   ]
  },
  {
   "cell_type": "code",
   "execution_count": 21,
   "metadata": {},
   "outputs": [
    {
     "data": {
      "text/plain": [
       "code  name                                        \n",
       "11    Environment and natural resources management    250\n",
       "10    Rural development                               216\n",
       "8     Human development                               210\n",
       "2     Public sector governance                        199\n",
       "6     Social protection and risk management           168\n",
       "4     Financial and private sector development        146\n",
       "7     Social dev/gender/inclusion                     130\n",
       "5     Trade and integration                            77\n",
       "9     Urban development                                50\n",
       "1     Economic management                              38\n",
       "dtype: int64"
      ]
     },
     "execution_count": 21,
     "metadata": {},
     "output_type": "execute_result"
    }
   ],
   "source": [
    "#Rerun Query to Find the top 10 major project themes (using column 'mjtheme_namecode')\n",
    "mjtheme_df.groupby(['code','name']).size().sort_values(ascending=False).head(10)\n"
   ]
  },
  {
   "cell_type": "code",
   "execution_count": null,
   "metadata": {
    "collapsed": true
   },
   "outputs": [],
   "source": [
    "# This output has the same counts as the 3rd scenario"
   ]
  }
 ],
 "metadata": {
  "kernelspec": {
   "display_name": "Python 3",
   "language": "python",
   "name": "python3"
  },
  "language_info": {
   "codemirror_mode": {
    "name": "ipython",
    "version": 3
   },
   "file_extension": ".py",
   "mimetype": "text/x-python",
   "name": "python",
   "nbconvert_exporter": "python",
   "pygments_lexer": "ipython3",
   "version": "3.6.3"
  }
 },
 "nbformat": 4,
 "nbformat_minor": 2
}
