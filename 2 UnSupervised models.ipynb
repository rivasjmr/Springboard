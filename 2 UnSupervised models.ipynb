{
 "cells": [
  {
   "cell_type": "code",
   "execution_count": 1,
   "metadata": {
    "collapsed": true
   },
   "outputs": [],
   "source": [
    "# 2 UnSupervised models\n",
    "#    1 - Kmeans\n",
    "#    2 - Gaussian Mixture\n",
    "#\n",
    "# loading libraries\n",
    "import pandas as pd\n",
    "import numpy as np\n",
    "from datetime import datetime\n",
    "import matplotlib.pyplot as plt\n"
   ]
  },
  {
   "cell_type": "code",
   "execution_count": 3,
   "metadata": {
    "collapsed": true
   },
   "outputs": [],
   "source": [
    "# load dataset\n",
    "#     Training data has one of the following labels:\n",
    "#     0 T-shirt/top  1 Trouser  2 Pullover  3 Dress   4 Coat\n",
    "#     5 Sandal       6 Shirt   7 Sneaker   8 Bag     9 Ankle boot \n",
    "\n",
    "#   Training data\n",
    "df_training = pd.read_csv('C:\\\\Users\\\\rivas\\\\OneDrive\\\\Documents\\\\JMR\\\\Education\\\\Springboard\\\\Projects\\\\Capstone1\\\\fashionmnisttrain.csv')\n",
    "\n",
    "# Select subset of items\n",
    "train_subset = df_training.loc[df_training['label'].isin([1,3,7])]\n",
    "\n",
    "#   split data table into data Features (x) and class labels (y)\n",
    "xdf_train = train_subset.iloc[:, 1:]\n",
    "ydf_train = train_subset.iloc[:, :1]\n"
   ]
  },
  {
   "cell_type": "code",
   "execution_count": 4,
   "metadata": {
    "collapsed": true
   },
   "outputs": [],
   "source": [
    "# Select subset 3 items\n",
    "# 1 Trouser,   3 Dress,  7 Sneaker\n",
    "\n",
    "train_subset = df_training.loc[df_training['label'].isin([1,3,7])]\n"
   ]
  },
  {
   "cell_type": "code",
   "execution_count": 5,
   "metadata": {
    "collapsed": true
   },
   "outputs": [],
   "source": [
    "#   split data table into data Features (x) and class labels (y)\n",
    "xdf_train = train_subset.iloc[:, 1:]\n",
    "ydf_train = train_subset.iloc[:, :1]"
   ]
  },
  {
   "cell_type": "code",
   "execution_count": 6,
   "metadata": {
    "collapsed": true
   },
   "outputs": [],
   "source": [
    "#   Test data\n",
    "#   split data table into data Features (x) and class labels (y)\n",
    "df_test = pd.read_csv('C:\\\\Users\\\\rivas\\\\OneDrive\\\\Documents\\\\JMR\\\\Education\\\\Springboard\\\\Projects\\\\Capstone1\\\\fashionmnisttest.csv')\n",
    "\n",
    "# Select subset 3 items\n",
    "# 1 Trouser,   3 Dress,  7 Sneakers\n",
    "\n",
    "test_subset = df_test.loc[df_test['label'].isin([1,3,7])]\n",
    "\n",
    "#   split data table into data Features (x) and class labels (y)\n",
    "xdf_test = test_subset.iloc[:, 1:]\n",
    "ydf_test = test_subset.iloc[:, :1]\n"
   ]
  },
  {
   "cell_type": "code",
   "execution_count": 7,
   "metadata": {
    "collapsed": true
   },
   "outputs": [],
   "source": [
    "#   Convert to numpy array\n",
    "x_train = xdf_train.as_matrix()\n",
    "y_train = ydf_train.as_matrix()\n",
    "x_test = xdf_test.as_matrix()\n",
    "y_test = ydf_test.as_matrix()\n",
    "\n",
    "# Reshape array\n",
    "y2_train = np.ravel( y_train[ : , 0] ) \n",
    "y2_test = np.ravel( y_test[ : , 0] ) \n"
   ]
  },
  {
   "cell_type": "code",
   "execution_count": 8,
   "metadata": {},
   "outputs": [
    {
     "data": {
      "text/plain": [
       "(18000, 784)"
      ]
     },
     "execution_count": 8,
     "metadata": {},
     "output_type": "execute_result"
    }
   ],
   "source": [
    "x_train.shape\n"
   ]
  },
  {
   "cell_type": "code",
   "execution_count": 9,
   "metadata": {},
   "outputs": [
    {
     "data": {
      "text/plain": [
       "(3000, 784)"
      ]
     },
     "execution_count": 9,
     "metadata": {},
     "output_type": "execute_result"
    }
   ],
   "source": [
    "x_test.shape"
   ]
  },
  {
   "cell_type": "code",
   "execution_count": 10,
   "metadata": {
    "collapsed": true
   },
   "outputs": [],
   "source": [
    "# plot sample of images\n",
    "frst_img = np.where(y2_test==1)[0][0]\n",
    "secnd_img = np.where(y2_test==3)[0][0]\n",
    "thrd_img = np.where(y2_test==7)[0][0]\n",
    "\n",
    "plt.figure(figsize=(20,4))\n",
    "for index, (image, label) in enumerate(zip(x_test[[frst_img, secnd_img, thrd_img]],\n",
    "                                          y2_test[[frst_img, secnd_img, thrd_img]])):\n",
    " plt.subplot(1, 3, index + 1)\n",
    " plt.imshow(np.reshape(image, (28,28)), cmap=plt.cm.gray)\n",
    " plt.title('Image: %i\\n' % label, fontsize = 20)\n"
   ]
  },
  {
   "cell_type": "code",
   "execution_count": 11,
   "metadata": {},
   "outputs": [
    {
     "data": {
      "image/png": "[encoded data removed]",
      "text/plain": [
       "<matplotlib.figure.Figure at 0x2639646eda0>"
      ]
     },
     "metadata": {},
     "output_type": "display_data"
    }
   ],
   "source": [
    "plt.show()\n"
   ]
  },
  {
   "cell_type": "code",
   "execution_count": 12,
   "metadata": {
    "collapsed": true
   },
   "outputs": [],
   "source": [
    "# KMeans\n",
    "# 1 - Import the model \n",
    "from sklearn import cluster\n"
   ]
  },
  {
   "cell_type": "code",
   "execution_count": 13,
   "metadata": {
    "collapsed": true
   },
   "outputs": [],
   "source": [
    "# 2 - Make an instance of the Model with 3 clusters\n",
    "k_means = cluster.KMeans(n_clusters=3)\n"
   ]
  },
  {
   "cell_type": "code",
   "execution_count": 14,
   "metadata": {},
   "outputs": [
    {
     "name": "stdout",
     "output_type": "stream",
     "text": [
      "Fitting model with Trainng data: running time 0:00:17.842985\n"
     ]
    }
   ],
   "source": [
    "# 3 - fitting the model - Training data\n",
    "time_strt = datetime.now()\n",
    "k_means.fit(x_train) \n",
    "time_fin = datetime.now()\n",
    "print (\"Fitting model with Trainng data: running time\", (time_fin - time_strt))\n",
    "y_train = k_means.labels_\n"
   ]
  },
  {
   "cell_type": "code",
   "execution_count": 15,
   "metadata": {},
   "outputs": [
    {
     "name": "stdout",
     "output_type": "stream",
     "text": [
      "Predict with Training data: running time 0:00:00.512230\n"
     ]
    }
   ],
   "source": [
    "# 4 - Predict - Test data\n",
    "time_strt = datetime.now()\n",
    "k_means_predict_train = k_means.predict(x_train)\n",
    "time_fin = datetime.now()\n",
    "print (\"Predict with Training data: running time\", (time_fin - time_strt))\n"
   ]
  },
  {
   "cell_type": "code",
   "execution_count": 16,
   "metadata": {
    "collapsed": true
   },
   "outputs": [],
   "source": [
    "# 5 - Evaluate accuracy\n",
    "import collections"
   ]
  },
  {
   "cell_type": "code",
   "execution_count": 17,
   "metadata": {},
   "outputs": [
    {
     "name": "stdout",
     "output_type": "stream",
     "text": [
      "[0 0 0 2 1 1 2 2 1 2 0 1 1 2 2 0 2 2 0 0 2 1 2 1 2 2 2 2 1 2 1 2 0 0 2 1 1\n",
      " 2 1 2 2 2 2 0 0 1 1 2 2 1 1 1 0 2 1 0 2 1 1 1 1 0 1 2 1 2 1 2 2 2 2 1 2 2\n",
      " 1 1 1 0 0 2 0 2 2 2 1 1 0 2 2 0 2 1 2 0 0 2 1 2 0 1]\n"
     ]
    }
   ],
   "source": [
    "print(k_means.labels_[:100])\n"
   ]
  },
  {
   "cell_type": "code",
   "execution_count": 18,
   "metadata": {},
   "outputs": [
    {
     "name": "stdout",
     "output_type": "stream",
     "text": [
      "[3 3 3 3 7 7 1 3 7 3 1 7 7 1 3 3 1 1 3 3 1 7 1 7 3 3 3 1 7 1 7 3 3 3 3 7 7\n",
      " 3 7 1 3 1 3 3 3 7 7 1 1 7 7 7 3 1 7 3 1 7 7 7 7 3 7 3 7 1 7 3 3 1 3 7 1 1\n",
      " 7 7 7 3 3 1 3 1 1 3 7 7 1 1 1 3 1 7 3 3 3 1 7 3 3 7]\n"
     ]
    }
   ],
   "source": [
    "print(y2_train[:100])"
   ]
  },
  {
   "cell_type": "code",
   "execution_count": 19,
   "metadata": {},
   "outputs": [
    {
     "data": {
      "text/plain": [
       "Counter({0: 4150, 1: 6032, 2: 7818})"
      ]
     },
     "execution_count": 19,
     "metadata": {},
     "output_type": "execute_result"
    }
   ],
   "source": [
    "collections.Counter(k_means_predict_train)"
   ]
  },
  {
   "cell_type": "code",
   "execution_count": 20,
   "metadata": {},
   "outputs": [
    {
     "data": {
      "text/plain": [
       "Counter({1: 6000, 3: 6000, 7: 6000})"
      ]
     },
     "execution_count": 20,
     "metadata": {},
     "output_type": "execute_result"
    }
   ],
   "source": [
    "# True Labels \n",
    "collections.Counter(y2_train)"
   ]
  },
  {
   "cell_type": "code",
   "execution_count": 21,
   "metadata": {},
   "outputs": [
    {
     "data": {
      "text/plain": [
       "7709.0038582470888"
      ]
     },
     "execution_count": 21,
     "metadata": {},
     "output_type": "execute_result"
    }
   ],
   "source": [
    "from sklearn import metrics\n",
    "from sklearn.metrics import pairwise_distances\n",
    "metrics.calinski_harabaz_score(x_train, k_means.labels_)\n"
   ]
  },
  {
   "cell_type": "code",
   "execution_count": 22,
   "metadata": {},
   "outputs": [
    {
     "name": "stdout",
     "output_type": "stream",
     "text": [
      "Fitting model with Test data: running time 0:00:03.047750\n"
     ]
    }
   ],
   "source": [
    "# 3 - fitting the model - Test data\n",
    "time_strt = datetime.now()\n",
    "k_means.fit(x_test) \n",
    "time_fin = datetime.now()\n",
    "print (\"Fitting model with Test data: running time\", (time_fin - time_strt))\n",
    "y_test= k_means.labels_"
   ]
  },
  {
   "cell_type": "code",
   "execution_count": 23,
   "metadata": {},
   "outputs": [
    {
     "name": "stdout",
     "output_type": "stream",
     "text": [
      "Predict with Test data: running time 0:00:00.093679\n"
     ]
    }
   ],
   "source": [
    "# 4 - Predict - Test data\n",
    "time_strt = datetime.now()\n",
    "k_means_predict_test = k_means.predict(x_test)\n",
    "time_fin = datetime.now()\n",
    "print (\"Predict with Test data: running time\", (time_fin - time_strt))\n"
   ]
  },
  {
   "cell_type": "code",
   "execution_count": 24,
   "metadata": {},
   "outputs": [
    {
     "name": "stdout",
     "output_type": "stream",
     "text": [
      "[2 0 0 0 2 1 2 1 1 2 2 0 2 2 2 2 1 2 1 0 2 2 2 0 1 1 0 0 0 1 0 1 1 2 1 0 2\n",
      " 1 0 2 2 2 0 0 0 2 2 0 2 1 1 2 1 1 2 2 2 1 2 2 1 2 1 1 2 1 2 1 2 1 1 2 2 2\n",
      " 2 2 0 1 0 2 2 2 2 0 2 1 1 1 1 1 2 1 1 1 1 2 1 2 2 0]\n"
     ]
    }
   ],
   "source": [
    "# 5 - Evaluate accuracy\n",
    "print(k_means.labels_[:100])"
   ]
  },
  {
   "cell_type": "code",
   "execution_count": 25,
   "metadata": {},
   "outputs": [
    {
     "name": "stdout",
     "output_type": "stream",
     "text": [
      "[1 3 3 3 1 7 1 7 7 1 3 3 3 3 1 1 7 3 7 1 1 1 1 3 7 7 3 3 3 7 3 7 7 1 7 3 1\n",
      " 7 3 3 3 1 3 3 3 1 3 3 3 7 7 3 7 7 1 3 1 7 1 1 7 1 7 7 3 7 1 7 1 7 7 3 3 1\n",
      " 3 3 3 7 3 1 1 1 3 3 1 7 7 7 7 7 1 7 7 7 7 1 7 1 3 3]\n"
     ]
    }
   ],
   "source": [
    "# True Labels\n",
    "print(y2_test[:100])"
   ]
  },
  {
   "cell_type": "code",
   "execution_count": 26,
   "metadata": {},
   "outputs": [
    {
     "data": {
      "text/plain": [
       "Counter({0: 655, 1: 1009, 2: 1336})"
      ]
     },
     "execution_count": 26,
     "metadata": {},
     "output_type": "execute_result"
    }
   ],
   "source": [
    "collections.Counter(k_means_predict_test)"
   ]
  },
  {
   "cell_type": "code",
   "execution_count": 28,
   "metadata": {},
   "outputs": [
    {
     "data": {
      "text/plain": [
       "Counter({1: 1000, 3: 1000, 7: 1000})"
      ]
     },
     "execution_count": 28,
     "metadata": {},
     "output_type": "execute_result"
    }
   ],
   "source": [
    "# True Labels\n",
    "collections.Counter(y2_test)"
   ]
  },
  {
   "cell_type": "code",
   "execution_count": 29,
   "metadata": {},
   "outputs": [
    {
     "data": {
      "text/plain": [
       "1288.951764249304"
      ]
     },
     "execution_count": 29,
     "metadata": {},
     "output_type": "execute_result"
    }
   ],
   "source": [
    "metrics.calinski_harabaz_score(x_test, k_means.labels_)"
   ]
  },
  {
   "cell_type": "code",
   "execution_count": 30,
   "metadata": {
    "collapsed": true
   },
   "outputs": [],
   "source": [
    "# Gaussian Mixture\n",
    "# 1 - Import the model \n",
    "from sklearn.mixture import GaussianMixture\n"
   ]
  },
  {
   "cell_type": "code",
   "execution_count": 31,
   "metadata": {
    "collapsed": true
   },
   "outputs": [],
   "source": [
    "# 2 - Make an instance of the Model with 3 components\n",
    "GMM_model= GaussianMixture(n_components=3, covariance_type='full')\n"
   ]
  },
  {
   "cell_type": "code",
   "execution_count": 32,
   "metadata": {},
   "outputs": [
    {
     "name": "stdout",
     "output_type": "stream",
     "text": [
      "Fitting model with Training data: running time 0:02:26.145255\n"
     ]
    }
   ],
   "source": [
    "# 3 - fitting the model - Training data\n",
    "time_strt = datetime.now()\n",
    "GMM_model.fit(x_train)\n",
    "time_fin = datetime.now()\n",
    "print (\"Fitting model with Training data: running time\", (time_fin - time_strt))\n"
   ]
  },
  {
   "cell_type": "code",
   "execution_count": 33,
   "metadata": {},
   "outputs": [
    {
     "name": "stdout",
     "output_type": "stream",
     "text": [
      "Prediciting model with Training data: running time 0:00:05.087695\n"
     ]
    }
   ],
   "source": [
    "# 4 Predict the Model\n",
    "time_strt = datetime.now()\n",
    "GMM_predict_train = GMM_model.predict(x_train)\n",
    "time_fin = datetime.now()\n",
    "print (\"Prediciting model with Training data: running time\", (time_fin - time_strt))"
   ]
  },
  {
   "cell_type": "code",
   "execution_count": 34,
   "metadata": {},
   "outputs": [
    {
     "name": "stdout",
     "output_type": "stream",
     "text": [
      "[0 0 0 0 2 2 0 0 1 0 0 2 2 0 0 0 0 0 0 0 0 2 0 2 0 0 0 0 2 0 1 0 0 0 0 2 2\n",
      " 0 2 0 0 0 0 0 0 2 2 0 0 1 2 2 0 0 1 0 0 2 2 2 2 0 2 0 2 0 2 0 0 0 0 2 0 0\n",
      " 1 2 2 0 0 0 0 0 0 0 2 2 0 0 0 0 0 2 0 0 0 0 2 0 0 1]\n"
     ]
    }
   ],
   "source": [
    "# 5 - Evaluate accuracy\n",
    "print(GMM_predict_train[:100])"
   ]
  },
  {
   "cell_type": "code",
   "execution_count": 35,
   "metadata": {},
   "outputs": [
    {
     "name": "stdout",
     "output_type": "stream",
     "text": [
      "[3 3 3 3 7 7 1 3 7 3 1 7 7 1 3 3 1 1 3 3 1 7 1 7 3 3 3 1 7 1 7 3 3 3 3 7 7\n",
      " 3 7 1 3 1 3 3 3 7 7 1 1 7 7 7 3 1 7 3 1 7 7 7 7 3 7 3 7 1 7 3 3 1 3 7 1 1\n",
      " 7 7 7 3 3 1 3 1 1 3 7 7 1 1 1 3 1 7 3 3 3 1 7 3 3 7]\n"
     ]
    }
   ],
   "source": [
    "# True Labels\n",
    "print(y2_train[:100])"
   ]
  },
  {
   "cell_type": "code",
   "execution_count": 36,
   "metadata": {},
   "outputs": [
    {
     "data": {
      "text/plain": [
       "Counter({0: 11955, 1: 1664, 2: 4381})"
      ]
     },
     "execution_count": 36,
     "metadata": {},
     "output_type": "execute_result"
    }
   ],
   "source": [
    "collections.Counter(GMM_predict_train)"
   ]
  },
  {
   "cell_type": "code",
   "execution_count": 37,
   "metadata": {},
   "outputs": [
    {
     "data": {
      "text/plain": [
       "Counter({1: 6000, 3: 6000, 7: 6000})"
      ]
     },
     "execution_count": 37,
     "metadata": {},
     "output_type": "execute_result"
    }
   ],
   "source": [
    "# True Labels\n",
    "collections.Counter(y2_train)"
   ]
  },
  {
   "cell_type": "code",
   "execution_count": 38,
   "metadata": {},
   "outputs": [
    {
     "name": "stdout",
     "output_type": "stream",
     "text": [
      "Fitting model with Test data: running time 0:00:15.475417\n"
     ]
    }
   ],
   "source": [
    "# 3 - fitting the model - Test data\n",
    "time_strt = datetime.now()\n",
    "GMM_model.fit(x_test)\n",
    "time_fin = datetime.now()\n",
    "print (\"Fitting model with Test data: running time\", (time_fin - time_strt))"
   ]
  },
  {
   "cell_type": "code",
   "execution_count": 39,
   "metadata": {},
   "outputs": [
    {
     "name": "stdout",
     "output_type": "stream",
     "text": [
      "Prediciting model with Test data: running time 0:00:00.858419\n"
     ]
    }
   ],
   "source": [
    "# 4 Predict the Model\n",
    "time_strt = datetime.now()\n",
    "GMM_predict_test = GMM_model.predict(x_test)\n",
    "time_fin = datetime.now()\n",
    "print (\"Prediciting model with Test data: running time\", (time_fin - time_strt))"
   ]
  },
  {
   "cell_type": "code",
   "execution_count": 41,
   "metadata": {},
   "outputs": [
    {
     "name": "stdout",
     "output_type": "stream",
     "text": [
      "[1 0 0 0 1 2 1 2 2 1 1 0 1 1 1 1 2 1 2 1 1 1 1 0 2 2 0 0 1 2 0 2 2 1 2 0 1\n",
      " 2 0 1 1 1 0 0 1 1 1 0 1 2 2 1 2 2 1 1 1 2 1 1 2 1 2 2 1 2 1 2 1 2 2 1 1 1\n",
      " 1 1 1 2 0 1 1 1 1 0 1 2 2 2 2 2 1 2 2 2 2 1 2 1 1 1]\n"
     ]
    }
   ],
   "source": [
    "# 5 - Evaluate accuracy\n",
    "print(GMM_predict_test[:100])"
   ]
  },
  {
   "cell_type": "code",
   "execution_count": 42,
   "metadata": {},
   "outputs": [
    {
     "name": "stdout",
     "output_type": "stream",
     "text": [
      "[1 3 3 3 1 7 1 7 7 1 3 3 3 3 1 1 7 3 7 1 1 1 1 3 7 7 3 3 3 7 3 7 7 1 7 3 1\n",
      " 7 3 3 3 1 3 3 3 1 3 3 3 7 7 3 7 7 1 3 1 7 1 1 7 1 7 7 3 7 1 7 1 7 7 3 3 1\n",
      " 3 3 3 7 3 1 1 1 3 3 1 7 7 7 7 7 1 7 7 7 7 1 7 1 3 3]\n"
     ]
    }
   ],
   "source": [
    "# True Labels\n",
    "print(y2_test[:100])"
   ]
  },
  {
   "cell_type": "code",
   "execution_count": 43,
   "metadata": {},
   "outputs": [
    {
     "data": {
      "text/plain": [
       "Counter({0: 549, 1: 1442, 2: 1009})"
      ]
     },
     "execution_count": 43,
     "metadata": {},
     "output_type": "execute_result"
    }
   ],
   "source": [
    "collections.Counter(GMM_predict_test)"
   ]
  },
  {
   "cell_type": "code",
   "execution_count": 44,
   "metadata": {},
   "outputs": [
    {
     "data": {
      "text/plain": [
       "Counter({1: 1000, 3: 1000, 7: 1000})"
      ]
     },
     "execution_count": 44,
     "metadata": {},
     "output_type": "execute_result"
    }
   ],
   "source": [
    "# True Labels\n",
    "collections.Counter(y2_test)"
   ]
  },
  {
   "cell_type": "code",
   "execution_count": 47,
   "metadata": {},
   "outputs": [
    {
     "data": {
      "text/plain": [
       "1257.8053696562531"
      ]
     },
     "execution_count": 47,
     "metadata": {},
     "output_type": "execute_result"
    }
   ],
   "source": [
    "metrics.calinski_harabaz_score(x_test, GMM_predict_test)"
   ]
  },
  {
   "cell_type": "code",
   "execution_count": null,
   "metadata": {
    "collapsed": true
   },
   "outputs": [],
   "source": []
  }
 ],
 "metadata": {
  "kernelspec": {
   "display_name": "Python 3",
   "language": "python",
   "name": "python3"
  },
  "language_info": {
   "codemirror_mode": {
    "name": "ipython",
    "version": 3
   },
   "file_extension": ".py",
   "mimetype": "text/x-python",
   "name": "python",
   "nbconvert_exporter": "python",
   "pygments_lexer": "ipython3",
   "version": "3.6.3"
  }
 },
 "nbformat": 4,
 "nbformat_minor": 2
}
