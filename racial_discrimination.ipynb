{
 "cells": [
  {
   "cell_type": "markdown",
   "metadata": {},
   "source": [
    "Examining Racial Discrimination in the US Job Market\n",
    "\n",
    "Background\n",
    "Racial discrimination continues to be pervasive in cultures throughout the world.\n",
    "Researchers examined the level of racial discrimination in the United States labor market\n",
    "by randomly assigning identical résumés to black-sounding or white-sounding names and observing\n",
    "the impact on requests for interviews from employers.\n",
    "\n",
    "Data\n",
    "In the dataset provided, each row represents a resume. The 'race' column has two values,\n",
    "'b' and 'w', indicating black-sounding and white-sounding. The column 'call' has two values,\n",
    "1 and 0, indicating whether the resume received a call from employers or not.\n",
    "\n",
    "Note that the 'b' and 'w' values in race are assigned randomly to the resumes when presented to the employer.\n"
   ]
  },
  {
   "cell_type": "markdown",
   "metadata": {},
   "source": [
    "Exercises\n",
    "\n",
    "You will perform a statistical analysis to establish whether race has a significant\n",
    "impact on the rate of callbacks for resumes.\n",
    "\n",
    "Answer the following questions in this notebook below and submit to your Github account. \n",
    "What test is appropriate for this problem? Does CLT apply?\n",
    "What are the null and alternate hypotheses?\n",
    "Compute margin of error, confidence interval, and p-value. Try using both the bootstrapping and\n",
    "the frequentist statistical approaches.\n",
    "\n",
    "Write a story describing the statistical significance in the context or the original problem.\n",
    "\n",
    "Does your analysis mean that race/name is the most important factor in callback success? Why or why not?\n",
    "If not, how would you amend your analysis?\n"
   ]
  },
  {
   "cell_type": "code",
   "execution_count": 1,
   "metadata": {
    "collapsed": true
   },
   "outputs": [],
   "source": [
    "# import libraries\n",
    "import pandas as pd\n",
    "import numpy as np\n",
    "from scipy import stats\n"
   ]
  },
  {
   "cell_type": "code",
   "execution_count": 2,
   "metadata": {},
   "outputs": [
    {
     "name": "stdout",
     "output_type": "stream",
     "text": [
      "Index(['id', 'ad', 'education', 'ofjobs', 'yearsexp', 'honors', 'volunteer',\n",
      "       'military', 'empholes', 'occupspecific', 'occupbroad', 'workinschool',\n",
      "       'email', 'computerskills', 'specialskills', 'firstname', 'sex', 'race',\n",
      "       'h', 'l', 'call', 'city', 'kind', 'adid', 'fracblack', 'fracwhite',\n",
      "       'lmedhhinc', 'fracdropout', 'fraccolp', 'linc', 'col', 'expminreq',\n",
      "       'schoolreq', 'eoe', 'parent_sales', 'parent_emp', 'branch_sales',\n",
      "       'branch_emp', 'fed', 'fracblack_empzip', 'fracwhite_empzip',\n",
      "       'lmedhhinc_empzip', 'fracdropout_empzip', 'fraccolp_empzip',\n",
      "       'linc_empzip', 'manager', 'supervisor', 'secretary', 'offsupport',\n",
      "       'salesrep', 'retailsales', 'req', 'expreq', 'comreq', 'educreq',\n",
      "       'compreq', 'orgreq', 'manuf', 'transcom', 'bankreal', 'trade',\n",
      "       'busservice', 'othservice', 'missind', 'ownership'],\n",
      "      dtype='object')\n",
      "(4870, 65)\n",
      "count    4870.000000\n",
      "mean        0.080493\n",
      "std         0.272079\n",
      "min         0.000000\n",
      "25%         0.000000\n",
      "50%         0.000000\n",
      "75%         0.000000\n",
      "max         1.000000\n",
      "Name: call, dtype: float64\n"
     ]
    }
   ],
   "source": [
    "# Read data file\n",
    "data = pd.io.stata.read_stata('C:/Users/rivas/OneDrive/Documents/JMR/Education/Springboard/Projects/EDA_racial_discrimination/data/us_job_market_discrimination.dta')\n",
    "\n",
    "# EDA\n",
    "print(data.columns)\n",
    "print(data.shape)\n",
    "print(data.call.describe())\n"
   ]
  },
  {
   "cell_type": "code",
   "execution_count": 8,
   "metadata": {
    "collapsed": true
   },
   "outputs": [],
   "source": [
    "# define 2 functions\n",
    "\n",
    "##############################################\n",
    "# Define a function stats_computation\n",
    "def stats_computation(w, b):\n",
    "    \"\"\" stats_computatio\n",
    "    Parameters\n",
    "    ----------\n",
    "    w : np array\n",
    "    b : np array\n",
    "    -------\n",
    "    a two-sample z-test\n",
    "    \n",
    "    null and alternate hypotheses:\n",
    "           H0: W = B  (call back rate)\n",
    "           H1: W ≠ B  (call back rate)\n",
    " \n",
    "    -------\n",
    "    returns z, pval, moe, ci\n",
    "    \"\"\"\n",
    "# start computation process\n",
    "    n_w = len(w)\n",
    "    n_b = len(b)\n",
    "    \n",
    "    sum_w = np.sum(w)\n",
    "    sum_b = np.sum(b)\n",
    "    \n",
    "    prop_w = sum_w / n_w\n",
    "    prop_b = sum_b / n_b\n",
    "    \n",
    "    prop_diff = prop_w - prop_b\n",
    "    phat = (prop_w + prop_b) /(n_w + n_b)\n",
    "\n",
    "# Zvalue and Pvalue\n",
    "    z = prop_diff / np.sqrt(phat * (1 - phat) * ((1 / n_w) + (1 / n_b)))\n",
    "    pval = stats.norm.cdf(-z) * 2\n",
    "    print(\"Z score: {}\".format(z))\n",
    "    print(\"P-value: {}\".format(pval))\n",
    "# MOE\n",
    "    moe = 1.96 * np.sqrt(phat * (1 - phat) * ((1 / n_w) + (1 / n_b)))\n",
    "    ci = prop_diff + np.array([-1, 1]) * moe\n",
    "    print(\"Margin of Error: {}\".format(moe))\n",
    "    print(\"Confidence interval: {}\".format(ci))\n",
    "#\n",
    "\n",
    "    return z, pval, moe, ci\n"
   ]
  },
  {
   "cell_type": "code",
   "execution_count": 9,
   "metadata": {
    "collapsed": true
   },
   "outputs": [],
   "source": [
    "# Define a function bootstrap_resample\n",
    "\n",
    "def bootstrap_resample(X, n=None):\n",
    "    \"\"\" Bootstrap resample an array_like\n",
    "    Parameters\n",
    "    ----------\n",
    "    X : array_like\n",
    "      data to resample\n",
    "    n : int, optional\n",
    "      length of resampled array, equal to len(X) if n==None\n",
    "    Results\n",
    "    -------\n",
    "    returns X_resamples\n",
    "    \"\"\"\n",
    "    if n == None:\n",
    "        n = len(X)\n",
    "        \n",
    "    resample_i = np.floor(np.random.rand(n)*len(X)).astype(int)\n",
    "    X_resample = X[resample_i]\n",
    "    return X_resample\n",
    "\n",
    "##############################################\n"
   ]
  },
  {
   "cell_type": "markdown",
   "metadata": {},
   "source": [
    "1 - What test is appropriate for this problem:\n",
    "       Answer: a two-sample z-test\n",
    "\n",
    "       \n",
    "    Does CLT apply?\n",
    "       Answer: Yes,  because we assume that the samples are representative of the population. \n",
    "       The dataset size, 4870, is sufficient sample size and by randomly assigning identical \n",
    "       résumés to black-sounding or white-sounding names assumed to be independent\n",
    "\n",
    "    What are the null and alternate hypotheses?\n",
    "       Answer:  null and alternate hypotheses:\n",
    "           H0: W = B  (call back rate)\n",
    "           H1: W ≠ B  (call back rate)\n",
    "           "
   ]
  },
  {
   "cell_type": "code",
   "execution_count": 10,
   "metadata": {},
   "outputs": [
    {
     "name": "stdout",
     "output_type": "stream",
     "text": [
      "2435 2435\n"
     ]
    }
   ],
   "source": [
    "# Split the dataset by race\n",
    "np_w = data[data.race=='w'].call.values\n",
    "np_b = data[data.race=='b'].call.values\n",
    "print(len(np_w), len(np_b))\n"
   ]
  },
  {
   "cell_type": "code",
   "execution_count": 11,
   "metadata": {},
   "outputs": [
    {
     "name": "stdout",
     "output_type": "stream",
     "text": [
      "Z score: 194.40535795127548\n",
      "P-value: 0.0\n",
      "Margin of Error: 0.0003229560898534969\n",
      "Confidence interval: [ 0.0317099   0.03235581]\n"
     ]
    }
   ],
   "source": [
    "# frequentist approach\n",
    "\n",
    "# start computation process\n",
    "f_z, f_pval, f_moe, f_ci = stats_computation(np_w, np_b)\n"
   ]
  },
  {
   "cell_type": "code",
   "execution_count": 12,
   "metadata": {},
   "outputs": [
    {
     "name": "stdout",
     "output_type": "stream",
     "text": [
      "1000 1000\n",
      "Z score: 123.89968282638898\n",
      "P-value: 0.0\n",
      "Margin of Error: 0.0008384202253815207\n",
      "Confidence interval: [ 0.05216158  0.05383842]\n"
     ]
    }
   ],
   "source": [
    "# Bootstrap  approach\n",
    "# split dataset into numpy arrays\n",
    "np_w = data[data.race=='w'].call.values\n",
    "np_b = data[data.race=='b'].call.values\n",
    "\n",
    "# Call boostrap function\n",
    "bs_w = bootstrap_resample(np_w, n=1000)\n",
    "bs_b = bootstrap_resample(np_b, n=1000)\n",
    "print(len(bs_w), len(bs_b))\n",
    "\n",
    "\n",
    "# start computation process\n",
    "bs_z, bs_pval, bs_moe, bs_ci = stats_computation(bs_w, bs_b)\n"
   ]
  },
  {
   "cell_type": "markdown",
   "metadata": {},
   "source": [
    "The low value of the p-value indicates  to reject the H0 hypothesis.\n",
    "It means that there are differences in the call back rate based on race\n"
   ]
  },
  {
   "cell_type": "markdown",
   "metadata": {},
   "source": [
    "Does your analysis mean that race/name is the most important factor in\n",
    "callback success? Why or why not? If not, how would you amend your analysis?\n",
    "\n",
    "Answer:\n",
    "The callback rate differs based on race.  But other factors can also be factors\n",
    "in the callback rate that were not measured i.e. geography, sex, age,...\n",
    "\n",
    "To amend the analysis would look at other factors as mentioned above."
   ]
  }
 ],
 "metadata": {
  "kernelspec": {
   "display_name": "Python 3",
   "language": "python",
   "name": "python3"
  },
  "language_info": {
   "codemirror_mode": {
    "name": "ipython",
    "version": 3
   },
   "file_extension": ".py",
   "mimetype": "text/x-python",
   "name": "python",
   "nbconvert_exporter": "python",
   "pygments_lexer": "ipython3",
   "version": "3.6.3"
  }
 },
 "nbformat": 4,
 "nbformat_minor": 2
}
