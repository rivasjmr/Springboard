{
 "cells": [
  {
   "cell_type": "code",
   "execution_count": 1,
   "metadata": {
    "collapsed": true
   },
   "outputs": [],
   "source": [
    "#\n",
    "# loading libraries\n",
    "import pandas as pd\n",
    "import numpy as np\n",
    "from datetime import datetime\n",
    "import matplotlib.pyplot as plt\n"
   ]
  },
  {
   "cell_type": "code",
   "execution_count": 2,
   "metadata": {
    "collapsed": true
   },
   "outputs": [],
   "source": [
    "# load dataset\n",
    "#   Training data\n",
    "df_training = pd.read_csv('C:\\\\Users\\\\rivas\\\\OneDrive\\\\Documents\\\\JMR\\\\Education\\\\Springboard\\\\Projects\\\\Capstone1\\\\fashionmnisttrain.csv')"
   ]
  },
  {
   "cell_type": "code",
   "execution_count": 3,
   "metadata": {
    "collapsed": true
   },
   "outputs": [],
   "source": [
    "#   split data table into data Features (x) and class labels (y)\n",
    "xdf_train = df_training.iloc[:, 1:]\n",
    "ydf_train = df_training.iloc[:, :1]"
   ]
  },
  {
   "cell_type": "code",
   "execution_count": 4,
   "metadata": {
    "collapsed": true
   },
   "outputs": [],
   "source": [
    "#   Test data\n",
    "#   split data table into data Features (x) and class labels (y)\n",
    "df_test = pd.read_csv('C:\\\\Users\\\\rivas\\\\OneDrive\\\\Documents\\\\JMR\\\\Education\\\\Springboard\\\\Projects\\\\Capstone1\\\\fashionmnisttest.csv')\n",
    "\n",
    "#   split data table into data Features (x) and class labels (y)\n",
    "xdf_test = df_test.iloc[:, 1:]\n",
    "ydf_test = df_test.iloc[:, :1]"
   ]
  },
  {
   "cell_type": "code",
   "execution_count": 6,
   "metadata": {
    "collapsed": true
   },
   "outputs": [],
   "source": [
    "#   Convert to numpy array\n",
    "x_train = xdf_train.as_matrix()\n",
    "y_train = ydf_train.as_matrix()\n",
    "x_test = xdf_test.as_matrix()\n",
    "y_test = ydf_test.as_matrix()\n",
    "\n",
    "# Reshape array\n",
    "y2_train = np.ravel( y_train[ : , 0] ) \n",
    "y2_test = np.ravel( y_test[ : , 0] ) "
   ]
  },
  {
   "cell_type": "code",
   "execution_count": 7,
   "metadata": {},
   "outputs": [
    {
     "data": {
      "text/plain": [
       "(60000, 784)"
      ]
     },
     "execution_count": 7,
     "metadata": {},
     "output_type": "execute_result"
    }
   ],
   "source": [
    "x_train.shape\n"
   ]
  },
  {
   "cell_type": "code",
   "execution_count": 8,
   "metadata": {},
   "outputs": [
    {
     "data": {
      "text/plain": [
       "(60000,)"
      ]
     },
     "execution_count": 8,
     "metadata": {},
     "output_type": "execute_result"
    }
   ],
   "source": [
    "y2_train.shape"
   ]
  },
  {
   "cell_type": "code",
   "execution_count": 9,
   "metadata": {},
   "outputs": [
    {
     "name": "stderr",
     "output_type": "stream",
     "text": [
      "C:\\Users\\rivas\\Anaconda3\\lib\\site-packages\\sklearn\\utils\\validation.py:475: DataConversionWarning: Data with input dtype int64 was converted to float64 by StandardScaler.\n",
      "  warnings.warn(msg, DataConversionWarning)\n"
     ]
    }
   ],
   "source": [
    "# Standardizing\n",
    "from sklearn.preprocessing import StandardScaler\n",
    "X_std = StandardScaler().fit_transform(x_train)"
   ]
  },
  {
   "cell_type": "code",
   "execution_count": 10,
   "metadata": {
    "collapsed": true
   },
   "outputs": [],
   "source": [
    "# PCA in scikit-learn  \n",
    "from sklearn.decomposition import PCA"
   ]
  },
  {
   "cell_type": "code",
   "execution_count": 11,
   "metadata": {},
   "outputs": [
    {
     "name": "stdout",
     "output_type": "stream",
     "text": [
      "50 components: running time 0:00:16.405929\n"
     ]
    }
   ],
   "source": [
    "# Using 50 components\n",
    "time_strt = datetime.now()\n",
    "sklearn50_pca = PCA(n_components=50)\n",
    "X_50 = sklearn50_pca.fit_transform(X_std)\n",
    "time_fin = datetime.now()\n",
    "print (\"50 components: running time\", (time_fin - time_strt))"
   ]
  },
  {
   "cell_type": "code",
   "execution_count": 12,
   "metadata": {},
   "outputs": [
    {
     "name": "stdout",
     "output_type": "stream",
     "text": [
      "600 components: running time 0:01:19.607958\n"
     ]
    }
   ],
   "source": [
    "time_strt = datetime.now()\n",
    "sklearn600_pca = PCA(n_components=600)\n",
    "X_600 = sklearn600_pca.fit_transform(X_std)\n",
    "time_fin = datetime.now()\n",
    "print (\"600 components: running time\", (time_fin - time_strt))"
   ]
  },
  {
   "cell_type": "code",
   "execution_count": 13,
   "metadata": {},
   "outputs": [
    {
     "name": "stderr",
     "output_type": "stream",
     "text": [
      "C:\\Users\\rivas\\Anaconda3\\lib\\site-packages\\sklearn\\utils\\validation.py:475: DataConversionWarning: Data with input dtype int64 was converted to float64 by StandardScaler.\n",
      "  warnings.warn(msg, DataConversionWarning)\n"
     ]
    }
   ],
   "source": [
    "#**********************************************\n",
    "# PCA - Prepare Test data for Predictive models\n",
    "#\n",
    "X_std = StandardScaler().fit_transform(x_test)\n"
   ]
  },
  {
   "cell_type": "code",
   "execution_count": 14,
   "metadata": {},
   "outputs": [
    {
     "name": "stdout",
     "output_type": "stream",
     "text": [
      "50 components for Test data: running time 0:00:01.513616\n"
     ]
    }
   ],
   "source": [
    "# Test data - Using 50 components\n",
    "time_strt = datetime.now()\n",
    "sklearn50_pca = PCA(n_components=50)\n",
    "Xtest_50 = sklearn50_pca.fit_transform(X_std)\n",
    "time_fin = datetime.now()\n",
    "print (\"50 components for Test data: running time\", (time_fin - time_strt))"
   ]
  },
  {
   "cell_type": "code",
   "execution_count": 15,
   "metadata": {},
   "outputs": [
    {
     "name": "stdout",
     "output_type": "stream",
     "text": [
      "600 components for Test data: running time 0:00:11.352489\n"
     ]
    }
   ],
   "source": [
    "# Test data - Using 600 components\n",
    "time_strt = datetime.now()\n",
    "sklearn600_pca = PCA(n_components=600)\n",
    "Xtest_600 = sklearn600_pca.fit_transform(X_std)\n",
    "time_fin = datetime.now()\n",
    "print (\"600 components for Test data: running time\", (time_fin - time_strt))"
   ]
  },
  {
   "cell_type": "code",
   "execution_count": 16,
   "metadata": {},
   "outputs": [
    {
     "data": {
      "text/plain": [
       "(60000, 50)"
      ]
     },
     "execution_count": 16,
     "metadata": {},
     "output_type": "execute_result"
    }
   ],
   "source": [
    "X_50.shape\n"
   ]
  },
  {
   "cell_type": "code",
   "execution_count": 17,
   "metadata": {},
   "outputs": [
    {
     "data": {
      "text/plain": [
       "(60000, 600)"
      ]
     },
     "execution_count": 17,
     "metadata": {},
     "output_type": "execute_result"
    }
   ],
   "source": [
    "X_600.shape"
   ]
  },
  {
   "cell_type": "code",
   "execution_count": 18,
   "metadata": {},
   "outputs": [
    {
     "data": {
      "text/plain": [
       "(10000, 50)"
      ]
     },
     "execution_count": 18,
     "metadata": {},
     "output_type": "execute_result"
    }
   ],
   "source": [
    "Xtest_50.shape\n"
   ]
  },
  {
   "cell_type": "code",
   "execution_count": 19,
   "metadata": {},
   "outputs": [
    {
     "data": {
      "text/plain": [
       "(10000, 600)"
      ]
     },
     "execution_count": 19,
     "metadata": {},
     "output_type": "execute_result"
    }
   ],
   "source": [
    "Xtest_600.shape"
   ]
  },
  {
   "cell_type": "code",
   "execution_count": 20,
   "metadata": {
    "collapsed": true
   },
   "outputs": [],
   "source": [
    "# Random Forest Classifier\n",
    "# 1 - Import the model\n",
    "from sklearn.ensemble import RandomForestClassifier\n"
   ]
  },
  {
   "cell_type": "code",
   "execution_count": 21,
   "metadata": {
    "collapsed": true
   },
   "outputs": [],
   "source": [
    "# 2 - Make an instance of the Model\n",
    "RF_clf = RandomForestClassifier(n_jobs=2, random_state=0)\n"
   ]
  },
  {
   "cell_type": "code",
   "execution_count": 22,
   "metadata": {},
   "outputs": [
    {
     "name": "stdout",
     "output_type": "stream",
     "text": [
      "Fitting Model: running time 0:00:07.005574\n"
     ]
    }
   ],
   "source": [
    "# Using PCA 50 (X_50) for training data\n",
    "#\n",
    "# 3 - Training the model on the Training data\n",
    "#     fitting the model\n",
    "time_strt = datetime.now()\n",
    "RF_clf.fit(X_50, y2_train)\n",
    "time_fin = datetime.now()\n",
    "print (\"Fitting Model: running time\", (time_fin - time_strt))\n"
   ]
  },
  {
   "cell_type": "code",
   "execution_count": 23,
   "metadata": {},
   "outputs": [
    {
     "name": "stdout",
     "output_type": "stream",
     "text": [
      "Predict: running time 0:00:00.421125\n"
     ]
    }
   ],
   "source": [
    "# 4 - Predict the response\n",
    "time_strt = datetime.now()\n",
    "RF_clf_predict = RF_clf.predict(Xtest_50)\n",
    "time_fin = datetime.now()\n",
    "print (\"Predict: running time\", (time_fin - time_strt))\n"
   ]
  },
  {
   "cell_type": "code",
   "execution_count": 24,
   "metadata": {},
   "outputs": [
    {
     "name": "stdout",
     "output_type": "stream",
     "text": [
      "Accuracy: 0.6914\n"
     ]
    }
   ],
   "source": [
    "# 5 - Evaluate accuracy\n",
    "#     loading libraries\n",
    "from sklearn.metrics import precision_score, \\\n",
    "    recall_score, confusion_matrix, classification_report, \\\n",
    "    accuracy_score, f1_score\n",
    "\n",
    "print ('Accuracy:', accuracy_score(y2_test, RF_clf_predict))"
   ]
  },
  {
   "cell_type": "code",
   "execution_count": 25,
   "metadata": {},
   "outputs": [
    {
     "name": "stdout",
     "output_type": "stream",
     "text": [
      "\n",
      " clasification report:\n",
      "              precision    recall  f1-score   support\n",
      "\n",
      "          0       0.68      0.74      0.71      1000\n",
      "          1       0.91      0.91      0.91      1000\n",
      "          2       0.47      0.58      0.52      1000\n",
      "          3       0.75      0.75      0.75      1000\n",
      "          4       0.50      0.44      0.47      1000\n",
      "          5       0.72      0.74      0.73      1000\n",
      "          6       0.40      0.33      0.36      1000\n",
      "          7       0.75      0.76      0.75      1000\n",
      "          8       0.87      0.88      0.88      1000\n",
      "          9       0.84      0.79      0.81      1000\n",
      "\n",
      "avg / total       0.69      0.69      0.69     10000\n",
      "\n"
     ]
    }
   ],
   "source": [
    "print ('\\n clasification report:\\n', classification_report(y2_test,RF_clf_predict))"
   ]
  },
  {
   "cell_type": "code",
   "execution_count": 26,
   "metadata": {},
   "outputs": [
    {
     "name": "stdout",
     "output_type": "stream",
     "text": [
      "\n",
      " confussion matrix:\n",
      " [[745  10  32  66  10   3 116   0  18   0]\n",
      " [ 21 905  15  42   2   0  13   0   2   0]\n",
      " [ 28   2 579   7 223   1 135   0  25   0]\n",
      " [ 76  62  22 747  34   1  52   0   6   0]\n",
      " [ 18   5 312  66 437   3 140   0  19   0]\n",
      " [  3   2  14   2   6 744   4 152  10  63]\n",
      " [182   7 234  63 142   5 330   0  37   0]\n",
      " [  1   0   0   0   0 153   0 755   5  86]\n",
      " [ 15   5  24   6  12  15  27   8 883   5]\n",
      " [  0   0   3   0   0 107   0  92   9 789]]\n"
     ]
    }
   ],
   "source": [
    "print ('\\n confussion matrix:\\n',confusion_matrix(y2_test, RF_clf_predict))"
   ]
  },
  {
   "cell_type": "code",
   "execution_count": 27,
   "metadata": {},
   "outputs": [
    {
     "name": "stdout",
     "output_type": "stream",
     "text": [
      "Fitting Model: running time 0:00:23.764440\n"
     ]
    }
   ],
   "source": [
    "# Using PCA 600 (X_600) for training data\n",
    "#\n",
    "# 3 - Training the model on the Training data\n",
    "#     fitting the model\n",
    "time_strt = datetime.now()\n",
    "RF_clf.fit(X_600, y2_train)\n",
    "time_fin = datetime.now()\n",
    "print (\"Fitting Model: running time\", (time_fin - time_strt))"
   ]
  },
  {
   "cell_type": "code",
   "execution_count": 28,
   "metadata": {},
   "outputs": [
    {
     "name": "stdout",
     "output_type": "stream",
     "text": [
      "Predict: running time 0:00:00.162009\n"
     ]
    }
   ],
   "source": [
    "# 4 - Predict the response\n",
    "time_strt = datetime.now()\n",
    "RF_clf_predict = RF_clf.predict(Xtest_600)\n",
    "time_fin = datetime.now()\n",
    "print (\"Predict: running time\", (time_fin - time_strt))"
   ]
  },
  {
   "cell_type": "code",
   "execution_count": 29,
   "metadata": {},
   "outputs": [
    {
     "name": "stdout",
     "output_type": "stream",
     "text": [
      "Accuracy: 0.5773\n"
     ]
    }
   ],
   "source": [
    "# 5 - Evaluate accuracy\n",
    "print ('Accuracy:', accuracy_score(y2_test, RF_clf_predict))"
   ]
  },
  {
   "cell_type": "code",
   "execution_count": 30,
   "metadata": {},
   "outputs": [
    {
     "name": "stdout",
     "output_type": "stream",
     "text": [
      "\n",
      " clasification report:\n",
      "              precision    recall  f1-score   support\n",
      "\n",
      "          0       0.50      0.69      0.58      1000\n",
      "          1       0.87      0.84      0.86      1000\n",
      "          2       0.35      0.43      0.39      1000\n",
      "          3       0.61      0.63      0.62      1000\n",
      "          4       0.40      0.43      0.41      1000\n",
      "          5       0.61      0.55      0.58      1000\n",
      "          6       0.31      0.21      0.25      1000\n",
      "          7       0.70      0.67      0.69      1000\n",
      "          8       0.69      0.63      0.66      1000\n",
      "          9       0.78      0.69      0.73      1000\n",
      "\n",
      "avg / total       0.58      0.58      0.58     10000\n",
      "\n"
     ]
    }
   ],
   "source": [
    "print ('\\n clasification report:\\n', classification_report(y2_test,RF_clf_predict))"
   ]
  },
  {
   "cell_type": "code",
   "execution_count": 31,
   "metadata": {},
   "outputs": [
    {
     "name": "stdout",
     "output_type": "stream",
     "text": [
      "\n",
      " confussion matrix:\n",
      " [[688   9  55  87  20   9  93   2  33   4]\n",
      " [ 28 845  16  80   8   3  11   0   9   0]\n",
      " [ 89  16 426  25 270  19 109   1  36   9]\n",
      " [146  56  42 634  43   5  56   2  11   5]\n",
      " [ 65   8 268  70 429  11  99   5  42   3]\n",
      " [ 45   7  53  17  27 551  24 166  52  58]\n",
      " [235  14 220  81 174  16 214   5  40   1]\n",
      " [ 14   2  20  11  12 151  14 670  17  89]\n",
      " [ 60  10  73  22  72  40  53  15 629  26]\n",
      " [ 16   2  29  11  13  95  16  85  46 687]]\n"
     ]
    }
   ],
   "source": [
    "print ('\\n confussion matrix:\\n',confusion_matrix(y2_test, RF_clf_predict))"
   ]
  },
  {
   "cell_type": "code",
   "execution_count": 32,
   "metadata": {
    "collapsed": true
   },
   "outputs": [],
   "source": [
    "# Support Vector Machines (SVM)\n",
    "# 1 - Import the model\n",
    "from sklearn import svm\n",
    "\n",
    "# 2 - Make an instance of the Model\n",
    "SVM_clf = svm.SVC(gamma=0.001, C=100.)\n"
   ]
  },
  {
   "cell_type": "code",
   "execution_count": 33,
   "metadata": {},
   "outputs": [
    {
     "name": "stdout",
     "output_type": "stream",
     "text": [
      "Fitting Model: running time 0:02:56.270764\n"
     ]
    }
   ],
   "source": [
    "# 3 - Training the model with PCA - 50 components\n",
    "#     fitting the model\n",
    "time_strt = datetime.now()\n",
    "SVM_clf.fit(X_50, y2_train)\n",
    "time_fin = datetime.now()\n",
    "print (\"Fitting Model: running time\", (time_fin - time_strt))\n"
   ]
  },
  {
   "cell_type": "code",
   "execution_count": 34,
   "metadata": {},
   "outputs": [
    {
     "name": "stdout",
     "output_type": "stream",
     "text": [
      "Predict: running time 0:00:28.331564\n"
     ]
    }
   ],
   "source": [
    "# 4 - Predict the response\n",
    "time_strt = datetime.now()\n",
    "SVM_clf_predict = SVM_clf.predict(Xtest_50)\n",
    "time_fin = datetime.now()\n",
    "print (\"Predict: running time\", (time_fin - time_strt))\n"
   ]
  },
  {
   "cell_type": "code",
   "execution_count": 35,
   "metadata": {},
   "outputs": [
    {
     "name": "stdout",
     "output_type": "stream",
     "text": [
      "Accuracy: 0.5893\n"
     ]
    }
   ],
   "source": [
    "# 5 - Evaluate accuracy\n",
    "print ('Accuracy:', accuracy_score(y2_test, SVM_clf_predict))"
   ]
  },
  {
   "cell_type": "code",
   "execution_count": 36,
   "metadata": {},
   "outputs": [
    {
     "name": "stdout",
     "output_type": "stream",
     "text": [
      "\n",
      " clasification report:\n",
      "              precision    recall  f1-score   support\n",
      "\n",
      "          0       0.54      0.68      0.60      1000\n",
      "          1       0.93      0.85      0.89      1000\n",
      "          2       0.36      0.37      0.37      1000\n",
      "          3       0.62      0.51      0.56      1000\n",
      "          4       0.50      0.29      0.37      1000\n",
      "          5       0.56      0.63      0.59      1000\n",
      "          6       0.29      0.42      0.34      1000\n",
      "          7       0.67      0.64      0.65      1000\n",
      "          8       0.88      0.88      0.88      1000\n",
      "          9       0.73      0.62      0.67      1000\n",
      "\n",
      "avg / total       0.61      0.59      0.59     10000\n",
      "\n"
     ]
    }
   ],
   "source": [
    "print ('\\n clasification report:\\n', classification_report(y2_test,SVM_clf_predict))"
   ]
  },
  {
   "cell_type": "code",
   "execution_count": 37,
   "metadata": {},
   "outputs": [
    {
     "name": "stdout",
     "output_type": "stream",
     "text": [
      "\n",
      " confussion matrix:\n",
      " [[679   3  35  69  11   0 186   0  17   0]\n",
      " [ 89 851   5  42   3   1   9   0   0   0]\n",
      " [ 28   5 367  30 165   0 394   0  11   0]\n",
      " [188  47  54 514  16   0 180   0   1   0]\n",
      " [ 40   2 313  96 295   0 241   0  13   0]\n",
      " [  9   0   7   1   1 634   6 243  16  83]\n",
      " [171   3 214  73  85   0 419   0  35   0]\n",
      " [  0   0   0   0   0 196   0 637  23 144]\n",
      " [ 42   2  11   2  18   8  32   4 877   4]\n",
      " [  2   0   0   0   0 303   0  73   2 620]]\n"
     ]
    }
   ],
   "source": [
    "print ('\\n confussion matrix:\\n',confusion_matrix(y2_test, SVM_clf_predict))"
   ]
  },
  {
   "cell_type": "code",
   "execution_count": 38,
   "metadata": {},
   "outputs": [
    {
     "name": "stdout",
     "output_type": "stream",
     "text": [
      "Fitting Model: running time 0:15:10.329510\n"
     ]
    }
   ],
   "source": [
    "# 3 - Training the model with PCA - 600 components\n",
    "#     fitting the model\n",
    "time_strt = datetime.now()\n",
    "SVM_clf.fit(X_600, y2_train)\n",
    "time_fin = datetime.now()\n",
    "print (\"Fitting Model: running time\", (time_fin - time_strt))"
   ]
  },
  {
   "cell_type": "code",
   "execution_count": 39,
   "metadata": {},
   "outputs": [
    {
     "name": "stdout",
     "output_type": "stream",
     "text": [
      "Predict: running time 0:04:53.874098\n"
     ]
    }
   ],
   "source": [
    "# 4 - Predict the response\n",
    "time_strt = datetime.now()\n",
    "SVM_clf_predict = SVM_clf.predict(Xtest_600)\n",
    "time_fin = datetime.now()\n",
    "print (\"Predict: running time\", (time_fin - time_strt))\n"
   ]
  },
  {
   "cell_type": "code",
   "execution_count": 40,
   "metadata": {},
   "outputs": [
    {
     "name": "stdout",
     "output_type": "stream",
     "text": [
      "Accuracy: 0.6967\n"
     ]
    }
   ],
   "source": [
    "# 5 - Evaluate accuracy\n",
    "print ('Accuracy:', accuracy_score(y2_test, SVM_clf_predict))\n"
   ]
  },
  {
   "cell_type": "code",
   "execution_count": 41,
   "metadata": {},
   "outputs": [
    {
     "name": "stdout",
     "output_type": "stream",
     "text": [
      "\n",
      " clasification report:\n",
      "              precision    recall  f1-score   support\n",
      "\n",
      "          0       0.62      0.78      0.69      1000\n",
      "          1       0.99      0.89      0.94      1000\n",
      "          2       0.42      0.44      0.43      1000\n",
      "          3       0.70      0.71      0.71      1000\n",
      "          4       0.55      0.43      0.49      1000\n",
      "          5       0.83      0.71      0.77      1000\n",
      "          6       0.38      0.37      0.37      1000\n",
      "          7       0.78      0.84      0.81      1000\n",
      "          8       0.88      0.94      0.91      1000\n",
      "          9       0.83      0.85      0.84      1000\n",
      "\n",
      "avg / total       0.70      0.70      0.70     10000\n",
      "\n"
     ]
    }
   ],
   "source": [
    "print ('\\n clasification report:\\n', classification_report(y2_test,SVM_clf_predict))"
   ]
  },
  {
   "cell_type": "code",
   "execution_count": 42,
   "metadata": {},
   "outputs": [
    {
     "name": "stdout",
     "output_type": "stream",
     "text": [
      "\n",
      " confussion matrix:\n",
      " [[777   0  23  39   5   0 134   0  22   0]\n",
      " [ 28 892   8  57   3   0   9   0   2   1]\n",
      " [ 18   1 443  19 196   0 307   0  16   0]\n",
      " [186   9  21 709  19   0  56   0   0   0]\n",
      " [ 17   0 334 131 435   0  72   0  11   0]\n",
      " [  0   0   2   1   2 713   9 171  28  74]\n",
      " [221   0 214  45 123   0 367   0  30   0]\n",
      " [  0   0   0   0   0  64   0 842   3  91]\n",
      " [  8   0   6   9  10   2  15   5 942   3]\n",
      " [  0   0   0   0   0  80   1  59  13 847]]\n"
     ]
    }
   ],
   "source": [
    "print ('\\n confussion matrix:\\n',confusion_matrix(y2_test, SVM_clf_predict))"
   ]
  },
  {
   "cell_type": "code",
   "execution_count": 43,
   "metadata": {
    "collapsed": true
   },
   "outputs": [],
   "source": [
    "# Neural Networks Classifier\n",
    "# 1 - Import the model\n",
    "from sklearn.neural_network import MLPClassifier\n"
   ]
  },
  {
   "cell_type": "code",
   "execution_count": 44,
   "metadata": {
    "collapsed": true
   },
   "outputs": [],
   "source": [
    "# 2 - Make an instance of the Model\n",
    "MLP_clf = MLPClassifier(hidden_layer_sizes=(13,13,13),max_iter=500)"
   ]
  },
  {
   "cell_type": "code",
   "execution_count": 45,
   "metadata": {},
   "outputs": [
    {
     "name": "stdout",
     "output_type": "stream",
     "text": [
      "Fitting Model: running time 0:00:47.391089\n"
     ]
    }
   ],
   "source": [
    "# 3 - Training the model with PCA - 50 components\n",
    "#     fitting the model\n",
    "time_strt = datetime.now()\n",
    "MLP_clf.fit(X_50, y2_train)\n",
    "time_fin = datetime.now()\n",
    "print (\"Fitting Model: running time\", (time_fin - time_strt))"
   ]
  },
  {
   "cell_type": "code",
   "execution_count": 47,
   "metadata": {},
   "outputs": [
    {
     "name": "stdout",
     "output_type": "stream",
     "text": [
      "Predict: running time 0:00:00.046001\n"
     ]
    }
   ],
   "source": [
    "# 4 - Predict the response\n",
    "time_strt = datetime.now()\n",
    "MLP_clf_predict = MLP_clf.predict(Xtest_50)\n",
    "time_fin = datetime.now()\n",
    "print (\"Predict: running time\", (time_fin - time_strt))"
   ]
  },
  {
   "cell_type": "code",
   "execution_count": 48,
   "metadata": {},
   "outputs": [
    {
     "name": "stdout",
     "output_type": "stream",
     "text": [
      "Accuracy: 0.6306\n"
     ]
    }
   ],
   "source": [
    "# 5 - Evaluate accuracy\n",
    "print ('Accuracy:', accuracy_score(y2_test, MLP_clf_predict))\n"
   ]
  },
  {
   "cell_type": "code",
   "execution_count": 49,
   "metadata": {},
   "outputs": [
    {
     "name": "stdout",
     "output_type": "stream",
     "text": [
      "\n",
      " clasification report:\n",
      "              precision    recall  f1-score   support\n",
      "\n",
      "          0       0.66      0.77      0.71      1000\n",
      "          1       0.93      0.90      0.91      1000\n",
      "          2       0.34      0.31      0.32      1000\n",
      "          3       0.79      0.76      0.78      1000\n",
      "          4       0.48      0.48      0.48      1000\n",
      "          5       0.68      0.64      0.66      1000\n",
      "          6       0.29      0.30      0.30      1000\n",
      "          7       0.59      0.82      0.69      1000\n",
      "          8       0.83      0.92      0.87      1000\n",
      "          9       0.76      0.42      0.54      1000\n",
      "\n",
      "avg / total       0.64      0.63      0.63     10000\n",
      "\n"
     ]
    }
   ],
   "source": [
    "print ('\\n clasification report:\\n', classification_report(y2_test,MLP_clf_predict))"
   ]
  },
  {
   "cell_type": "code",
   "execution_count": 50,
   "metadata": {},
   "outputs": [
    {
     "name": "stdout",
     "output_type": "stream",
     "text": [
      "\n",
      " confussion matrix:\n",
      " [[767  10  24  46   4   0 123   1  25   0]\n",
      " [ 22 896  16  51   4   0   9   0   1   1]\n",
      " [ 10   3 306   9 270   0 370   1  31   0]\n",
      " [ 97  26  26 763  23   0  58   0   6   1]\n",
      " [ 22   6 307  39 476   0 136   0  14   0]\n",
      " [  6   6   8   6   0 637   9 194  56  78]\n",
      " [222   4 197  46 200   0 303   0  28   0]\n",
      " [  1   0   0   0   0 119   0 822  13  45]\n",
      " [ 10   1   9   6  16  13  21   3 916   5]\n",
      " [  3  13   1   2   0 174   0 376  11 420]]\n"
     ]
    }
   ],
   "source": [
    "print ('\\n confussion matrix:\\n',confusion_matrix(y2_test, MLP_clf_predict))"
   ]
  },
  {
   "cell_type": "code",
   "execution_count": 51,
   "metadata": {},
   "outputs": [
    {
     "name": "stdout",
     "output_type": "stream",
     "text": [
      "Fitting Model: running time 0:01:41.088657\n"
     ]
    }
   ],
   "source": [
    "# ********************************************************************************\n",
    "# 3 - Training the model with PCA - 600 components\n",
    "#     fitting the model\n",
    "time_strt = datetime.now()\n",
    "MLP_clf.fit(X_600, y2_train)\n",
    "time_fin = datetime.now()\n",
    "print (\"Fitting Model: running time\", (time_fin - time_strt))"
   ]
  },
  {
   "cell_type": "code",
   "execution_count": 52,
   "metadata": {},
   "outputs": [
    {
     "name": "stdout",
     "output_type": "stream",
     "text": [
      "Predict: running time 0:00:00.160863\n"
     ]
    }
   ],
   "source": [
    "# 4 - Predict the response\n",
    "time_strt = datetime.now()\n",
    "MLP_clf_predict = MLP_clf.predict(Xtest_600)\n",
    "time_fin = datetime.now()\n",
    "print (\"Predict: running time\", (time_fin - time_strt))"
   ]
  },
  {
   "cell_type": "code",
   "execution_count": 53,
   "metadata": {},
   "outputs": [
    {
     "name": "stdout",
     "output_type": "stream",
     "text": [
      "Accuracy: 0.6024\n"
     ]
    }
   ],
   "source": [
    "# 5 - Evaluate accuracy\n",
    "print ('Accuracy:', accuracy_score(y2_test, MLP_clf_predict))\n"
   ]
  },
  {
   "cell_type": "code",
   "execution_count": 54,
   "metadata": {},
   "outputs": [
    {
     "name": "stdout",
     "output_type": "stream",
     "text": [
      "\n",
      " clasification report:\n",
      "              precision    recall  f1-score   support\n",
      "\n",
      "          0       0.67      0.69      0.68      1000\n",
      "          1       0.92      0.90      0.91      1000\n",
      "          2       0.42      0.43      0.43      1000\n",
      "          3       0.67      0.76      0.71      1000\n",
      "          4       0.44      0.45      0.44      1000\n",
      "          5       0.54      0.44      0.49      1000\n",
      "          6       0.28      0.27      0.28      1000\n",
      "          7       0.57      0.62      0.60      1000\n",
      "          8       0.81      0.79      0.80      1000\n",
      "          9       0.67      0.68      0.68      1000\n",
      "\n",
      "avg / total       0.60      0.60      0.60     10000\n",
      "\n"
     ]
    }
   ],
   "source": [
    "print ('\\n clasification report:\\n', classification_report(y2_test,MLP_clf_predict))"
   ]
  },
  {
   "cell_type": "code",
   "execution_count": 55,
   "metadata": {},
   "outputs": [
    {
     "name": "stdout",
     "output_type": "stream",
     "text": [
      "\n",
      " confussion matrix:\n",
      " [[687   9  31  90   6   1 156   0  18   2]\n",
      " [ 14 898  12  50   3   0  22   0   1   0]\n",
      " [ 14   3 433  20 262   0 240   1  27   0]\n",
      " [ 83  39  15 757  46   0  50   0  10   0]\n",
      " [ 34  12 261  85 447   2 139   0  20   0]\n",
      " [ 12   2   4  38   4 444  28 270  29 169]\n",
      " [160   4 231  73 228   3 266   0  30   5]\n",
      " [  2   1   2   3   0 223   0 622  50  97]\n",
      " [ 15   5  42   9  12  21  23  20 788  65]\n",
      " [  0   1   6   0   1 125  10 172   3 682]]\n"
     ]
    }
   ],
   "source": [
    "print ('\\n confussion matrix:\\n',confusion_matrix(y2_test, MLP_clf_predict))"
   ]
  },
  {
   "cell_type": "code",
   "execution_count": null,
   "metadata": {
    "collapsed": true
   },
   "outputs": [],
   "source": []
  }
 ],
 "metadata": {
  "kernelspec": {
   "display_name": "Python 3",
   "language": "python",
   "name": "python3"
  },
  "language_info": {
   "codemirror_mode": {
    "name": "ipython",
    "version": 3
   },
   "file_extension": ".py",
   "mimetype": "text/x-python",
   "name": "python",
   "nbconvert_exporter": "python",
   "pygments_lexer": "ipython3",
   "version": "3.6.3"
  }
 },
 "nbformat": 4,
 "nbformat_minor": 2
}
