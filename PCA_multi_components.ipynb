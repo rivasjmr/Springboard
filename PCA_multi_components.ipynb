{
 "cells": [
  {
   "cell_type": "code",
   "execution_count": 1,
   "metadata": {
    "scrolled": false
   },
   "outputs": [
    {
     "data": {
      "image/png": "[encoded data removed]",
      "text/plain": [
       "<matplotlib.figure.Figure at 0xb1049e8>"
      ]
     },
     "metadata": {},
     "output_type": "display_data"
    }
   ],
   "source": [
    "#\n",
    "\"\"\"\n",
    "Labels\n",
    "Each training and test example is assigned to one of the following labels:\n",
    "0 T-shirt/top  1 Trouse  2 Pullover  3 Dress   4 Coat\n",
    "5 Sandal       6 Shirt   7 Sneaker   8 Bag     9 Ankle boot \n",
    "\n",
    "TL;DR\n",
    "Each row is a separate image\n",
    "Column 1 is the class label.\n",
    "Remaining columns are pixel numbers (784 total).\n",
    "Each value is the darkness of the pixel (1 to 255)\n",
    "\n",
    "\"\"\"\n",
    "#\n",
    "import pandas as pd\n",
    "#\n",
    "# Training data\n",
    "df_training = pd.read_csv('C:\\\\Users\\\\rivas\\\\OneDrive\\\\Documents\\\\JMR\\\\Education\\\\Springboard\\\\Projects\\\\Capstone1\\\\fashionmnisttrain.csv')\n",
    "\n",
    "# split data table into data Features (x) and class labels (y)\n",
    "x_train = df_training.iloc[:, 1:]\n",
    "y_train = df_training.iloc[:, :1]\n",
    "\n",
    "x_train.shape\n",
    "y_train.shape\n",
    "\n",
    "# Standardizing\n",
    "from sklearn.preprocessing import StandardScaler\n",
    "X_std = StandardScaler().fit_transform(x_train)\n",
    "\n",
    "# PCA in scikit-learn\n",
    "from sklearn.decomposition import PCA\n",
    "pca = PCA().fit(X_std)\n",
    "\n",
    "# Plot to find Number of components\n",
    "#\n",
    "import matplotlib.pyplot as plt\n",
    "import numpy as np\n",
    "\n",
    "plt.plot(np.cumsum(pca.explained_variance_ratio_))\n",
    "plt.xlim(0,784,1)\n",
    "plt.xlabel('Number of components')\n",
    "plt.ylabel('Cumulative explained variance')\n",
    "plt.grid(True)\n",
    "plt.show()\n"
   ]
  },
  {
   "cell_type": "code",
   "execution_count": 2,
   "metadata": {
    "collapsed": true
   },
   "outputs": [],
   "source": [
    "from datetime import datetime"
   ]
  },
  {
   "cell_type": "code",
   "execution_count": 3,
   "metadata": {},
   "outputs": [
    {
     "name": "stdout",
     "output_type": "stream",
     "text": [
      "Running time: \n",
      "0:00:08.382000\n"
     ]
    },
    {
     "data": {
      "text/plain": [
       "(60000L, 50L)"
      ]
     },
     "execution_count": 3,
     "metadata": {},
     "output_type": "execute_result"
    }
   ],
   "source": [
    "#**********************************************\n",
    "# Using 50 components\n",
    "time_strt = datetime.now()\n",
    "#\n",
    "sklearn50_pca = PCA(n_components=50)\n",
    "X_50 = sklearn50_pca.fit_transform(X_std)\n",
    "#\n",
    "time_fin = datetime.now()\n",
    "print(\"Running time: \")\n",
    "print(time_fin - time_strt)\n",
    "#\n",
    "X_50.shape"
   ]
  },
  {
   "cell_type": "code",
   "execution_count": 4,
   "metadata": {},
   "outputs": [
    {
     "name": "stdout",
     "output_type": "stream",
     "text": [
      "Running time: \n",
      "0:00:10.715000\n"
     ]
    },
    {
     "data": {
      "text/plain": [
       "(60000L, 100L)"
      ]
     },
     "execution_count": 4,
     "metadata": {},
     "output_type": "execute_result"
    }
   ],
   "source": [
    "# Using 100 components\n",
    "time_strt = datetime.now()\n",
    "#\n",
    "sklearn100_pca = PCA(n_components=100)\n",
    "X_100 = sklearn100_pca.fit_transform(X_std)\n",
    "#\n",
    "time_fin = datetime.now()\n",
    "print(\"Running time: \")\n",
    "print(time_fin - time_strt)\n",
    "#\n",
    "X_100.shape\n"
   ]
  },
  {
   "cell_type": "code",
   "execution_count": 5,
   "metadata": {},
   "outputs": [
    {
     "name": "stdout",
     "output_type": "stream",
     "text": [
      "Running time: \n",
      "0:00:26.412000\n"
     ]
    },
    {
     "data": {
      "text/plain": [
       "(60000L, 300L)"
      ]
     },
     "execution_count": 5,
     "metadata": {},
     "output_type": "execute_result"
    }
   ],
   "source": [
    "# Using 300 components\n",
    "time_strt = datetime.now()\n",
    "#\n",
    "sklearn300_pca = PCA(n_components=300)\n",
    "X_300 = sklearn300_pca.fit_transform(X_std)\n",
    "#\n",
    "time_fin = datetime.now()\n",
    "print(\"Running time: \")\n",
    "print(time_fin - time_strt)\n",
    "#\n",
    "X_300.shape\n"
   ]
  },
  {
   "cell_type": "code",
   "execution_count": 6,
   "metadata": {},
   "outputs": [
    {
     "name": "stdout",
     "output_type": "stream",
     "text": [
      "Running time: \n",
      "0:01:03.357000\n"
     ]
    },
    {
     "data": {
      "text/plain": [
       "(60000L, 600L)"
      ]
     },
     "execution_count": 6,
     "metadata": {},
     "output_type": "execute_result"
    }
   ],
   "source": [
    "# Using 600 components\n",
    "time_strt = datetime.now()\n",
    "#\n",
    "sklearn600_pca = PCA(n_components=600)\n",
    "X_600 = sklearn600_pca.fit_transform(X_std)\n",
    "#\n",
    "time_fin = datetime.now()\n",
    "print(\"Running time: \")\n",
    "print(time_fin - time_strt)\n",
    "#\n",
    "X_600.shape\n"
   ]
  },
  {
   "cell_type": "code",
   "execution_count": 7,
   "metadata": {},
   "outputs": [
    {
     "data": {
      "image/png": "[encoded data removed]",
      "text/plain": [
       "<matplotlib.figure.Figure at 0x913f048>"
      ]
     },
     "metadata": {},
     "output_type": "display_data"
    },
    {
     "data": {
      "image/png": "[encoded data removed]",
      "text/plain": [
       "<matplotlib.figure.Figure at 0x20971a20>"
      ]
     },
     "metadata": {},
     "output_type": "display_data"
    },
    {
     "data": {
      "image/png": "[encoded data removed]",
      "text/plain": [
       "<matplotlib.figure.Figure at 0x14d5aef0>"
      ]
     },
     "metadata": {},
     "output_type": "display_data"
    },
    {
     "data": {
      "image/png": "[encoded data removed]",
      "text/plain": [
       "<matplotlib.figure.Figure at 0x19be7550>"
      ]
     },
     "metadata": {},
     "output_type": "display_data"
    }
   ],
   "source": [
    "#Plotting 4 images \n",
    "Fimg = x_train.iloc[0,:]\n",
    "Mimg = Fimg.as_matrix()\n",
    "\n",
    "plt.figure()\n",
    "plt.subplot(2,2,1)\n",
    "plt.imshow(Mimg.reshape(28,28), cmap='gray')\n",
    "plt.title('Original file')\n",
    "\n",
    "plt.figure()\n",
    "plt.subplot(2,2,2)\n",
    "plt.imshow(X_300[0, :].reshape(15,20), cmap='gray')\n",
    "plt.title('PCA: 300 components')\n",
    "\n",
    "plt.figure()\n",
    "plt.subplot(2,2,3)\n",
    "plt.imshow(X_100[0, :].reshape(10,10), cmap='gray')\n",
    "plt.title('PCA: 100 components')\n",
    "\n",
    "plt.figure()\n",
    "plt.subplot(2,2,4)\n",
    "plt.imshow(X_50[0, :].reshape(5,10), cmap='gray')\n",
    "plt.title('PCA: 50 components')\n",
    "\n",
    "plt.show()\n"
   ]
  }
 ],
 "metadata": {
  "kernelspec": {
   "display_name": "Python 2",
   "language": "python",
   "name": "python2"
  },
  "language_info": {
   "codemirror_mode": {
    "name": "ipython",
    "version": 2
   },
   "file_extension": ".py",
   "mimetype": "text/x-python",
   "name": "python",
   "nbconvert_exporter": "python",
   "pygments_lexer": "ipython2",
   "version": "2.7.14"
  }
 },
 "nbformat": 4,
 "nbformat_minor": 2
}
