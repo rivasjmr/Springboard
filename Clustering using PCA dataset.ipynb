{
 "cells": [
  {
   "cell_type": "code",
   "execution_count": 1,
   "metadata": {
    "collapsed": true
   },
   "outputs": [],
   "source": [
    "# clustering models using using MNIST Fashion \n",
    "# Subset the data: pick 3 items from the Test data; 1-Trouser, 3-Dress, 7-sneaker\n",
    "# Use principal component analysis (PCA) is to reduce the dimensionality \n",
    "\n",
    "# loading libraries\n",
    "import pandas as pd\n",
    "import numpy as np\n",
    "from datetime import datetime\n",
    "import matplotlib.pyplot as plt\n",
    "\n",
    "# load dataset\n",
    "#   Training data\n",
    "df_training = pd.read_csv('C:\\\\Users\\\\rivas\\\\OneDrive\\\\Documents\\\\JMR\\\\Education\\\\Springboard\\\\Projects\\\\Capstone1\\\\fashionmnisttrain.csv')\n",
    "\n",
    "# Select subset of items\n",
    "train_subset = df_training.loc[df_training['label'].isin([1,3,7])]\n",
    "\n",
    "#   split data table into data Features (x) and class labels (y)\n",
    "xdf_train = train_subset.iloc[:, 1:]\n",
    "ydf_train = train_subset.iloc[:, :1]\n",
    "\n"
   ]
  },
  {
   "cell_type": "code",
   "execution_count": 2,
   "metadata": {
    "collapsed": true
   },
   "outputs": [],
   "source": [
    "#   Convert to numpy array\n",
    "x_train = xdf_train.as_matrix()\n",
    "y_train = ydf_train.as_matrix()"
   ]
  },
  {
   "cell_type": "code",
   "execution_count": 4,
   "metadata": {
    "collapsed": true
   },
   "outputs": [],
   "source": [
    "# Reshape array\n",
    "y2_train = np.ravel( y_train[ : , 0] ) "
   ]
  },
  {
   "cell_type": "code",
   "execution_count": 5,
   "metadata": {},
   "outputs": [
    {
     "data": {
      "text/plain": [
       "(18000,)"
      ]
     },
     "execution_count": 5,
     "metadata": {},
     "output_type": "execute_result"
    }
   ],
   "source": [
    "y2_train.shape\n"
   ]
  },
  {
   "cell_type": "code",
   "execution_count": 11,
   "metadata": {
    "collapsed": true
   },
   "outputs": [],
   "source": [
    "# plot sample of images\n",
    "frst_img = np.where(y2_train==1)[0][0]\n",
    "secnd_img = np.where(y2_train==3)[0][0]\n",
    "thrd_img = np.where(y2_train==7)[0][0]\n",
    "\n",
    "plt.figure(figsize=(20,4))\n",
    "for index, (image, label) in enumerate(zip(x_train[[frst_img, secnd_img, thrd_img]],\n",
    "                                          y2_train[[frst_img, secnd_img, thrd_img]])):\n",
    " plt.subplot(1, 3, index + 1)\n",
    " plt.imshow(np.reshape(image, (28,28)), cmap=plt.cm.gray)\n",
    " plt.title('Image: %i\\n' % label, fontsize = 20)"
   ]
  },
  {
   "cell_type": "code",
   "execution_count": 12,
   "metadata": {},
   "outputs": [
    {
     "data": {
      "text/plain": [
       "<matplotlib.figure.Figure at 0x18e2e10fcc0>"
      ]
     },
     "metadata": {},
     "output_type": "display_data"
    },
    {
     "data": {
      "image/png": "[encoded data removed]",
      "text/plain": [
       "<matplotlib.figure.Figure at 0x18e2df577f0>"
      ]
     },
     "metadata": {},
     "output_type": "display_data"
    }
   ],
   "source": [
    "plt.show()\n"
   ]
  },
  {
   "cell_type": "code",
   "execution_count": 13,
   "metadata": {},
   "outputs": [
    {
     "name": "stderr",
     "output_type": "stream",
     "text": [
      "C:\\Users\\rivas\\Anaconda3\\lib\\site-packages\\sklearn\\utils\\validation.py:475: DataConversionWarning: Data with input dtype int64 was converted to float64 by StandardScaler.\n",
      "  warnings.warn(msg, DataConversionWarning)\n"
     ]
    }
   ],
   "source": [
    "# Use principal component analysis (PCA) is to reduce the dimensionality\n",
    "# Standardizing\n",
    "from sklearn.preprocessing import StandardScaler\n",
    "X_std = StandardScaler().fit_transform(x_train)\n",
    "\n",
    "# PCA in scikit-learn\n",
    "from sklearn.decomposition import PCA\n",
    "pca = PCA().fit(X_std)\n"
   ]
  },
  {
   "cell_type": "code",
   "execution_count": 14,
   "metadata": {},
   "outputs": [
    {
     "data": {
      "image/png": "[encoded data removed]",
      "text/plain": [
       "<matplotlib.figure.Figure at 0x18e2f06b4e0>"
      ]
     },
     "metadata": {},
     "output_type": "display_data"
    }
   ],
   "source": [
    "# Plot to find Number of components\n",
    "#\n",
    "\n",
    "plt.plot(np.cumsum(pca.explained_variance_ratio_))\n",
    "plt.xlim(0,784,1)\n",
    "plt.xlabel('Number of components')\n",
    "plt.ylabel('Cumulative explained variance')\n",
    "plt.grid(True)\n",
    "plt.show()\n"
   ]
  },
  {
   "cell_type": "code",
   "execution_count": 15,
   "metadata": {},
   "outputs": [
    {
     "name": "stdout",
     "output_type": "stream",
     "text": [
      "Running time: \n",
      "0:00:02.548481\n"
     ]
    }
   ],
   "source": [
    "from datetime import datetime\n",
    "#**********************************************\n",
    "# Using 50 components\n",
    "time_strt = datetime.now()\n",
    "#\n",
    "sklearn50_pca = PCA(n_components=50)\n",
    "X_50 = sklearn50_pca.fit_transform(X_std)\n",
    "#\n",
    "time_fin = datetime.now()\n",
    "print(\"Running time: \")\n",
    "print(time_fin - time_strt)\n"
   ]
  },
  {
   "cell_type": "code",
   "execution_count": 16,
   "metadata": {},
   "outputs": [
    {
     "data": {
      "text/plain": [
       "(18000, 50)"
      ]
     },
     "execution_count": 16,
     "metadata": {},
     "output_type": "execute_result"
    }
   ],
   "source": [
    "X_50.shape"
   ]
  },
  {
   "cell_type": "code",
   "execution_count": 17,
   "metadata": {},
   "outputs": [
    {
     "name": "stdout",
     "output_type": "stream",
     "text": [
      "Running time: \n",
      "0:00:20.166362\n"
     ]
    },
    {
     "data": {
      "text/plain": [
       "(18000, 600)"
      ]
     },
     "execution_count": 17,
     "metadata": {},
     "output_type": "execute_result"
    }
   ],
   "source": [
    "# Using 600 components\n",
    "time_strt = datetime.now()\n",
    "#\n",
    "sklearn600_pca = PCA(n_components=600)\n",
    "X_600 = sklearn600_pca.fit_transform(X_std)\n",
    "#\n",
    "time_fin = datetime.now()\n",
    "print(\"Running time: \")\n",
    "print(time_fin - time_strt)\n",
    "#\n",
    "X_600.shape\n"
   ]
  },
  {
   "cell_type": "code",
   "execution_count": 18,
   "metadata": {
    "collapsed": true
   },
   "outputs": [],
   "source": [
    "# KMeans\n",
    "# 1 - Import the model \n",
    "from sklearn import cluster\n",
    "\n",
    "# 2 - Make an instance of the Model with 3 clusters\n",
    "k_means = cluster.KMeans(n_clusters=3)\n"
   ]
  },
  {
   "cell_type": "code",
   "execution_count": 19,
   "metadata": {},
   "outputs": [
    {
     "name": "stdout",
     "output_type": "stream",
     "text": [
      "Fitting model with Test data: running time 0:00:02.549842\n"
     ]
    }
   ],
   "source": [
    "# 3 - fitting the model - PCA - 50  data\n",
    "time_strt = datetime.now()\n",
    "k_means.fit(X_50) \n",
    "time_fin = datetime.now()\n",
    "print (\"Fitting model with Test data: running time\", (time_fin - time_strt))\n",
    "y_test= k_means.labels_\n"
   ]
  },
  {
   "cell_type": "code",
   "execution_count": 20,
   "metadata": {},
   "outputs": [
    {
     "name": "stdout",
     "output_type": "stream",
     "text": [
      "Predict with Test data: running time 0:00:00.046876\n"
     ]
    }
   ],
   "source": [
    "# 4 - Predict - Test data\n",
    "time_strt = datetime.now()\n",
    "k_means_predict_test = k_means.predict(X_50)\n",
    "time_fin = datetime.now()\n",
    "print (\"Predict with Test data: running time\", (time_fin - time_strt))\n"
   ]
  },
  {
   "cell_type": "code",
   "execution_count": 22,
   "metadata": {},
   "outputs": [
    {
     "name": "stdout",
     "output_type": "stream",
     "text": [
      "[1 1 1 0 2 2 0 0 2 0 1 2 2 0 1 1 0 0 1 1 0 2 0 2 0 0 0 0 2 0 2 0 0 0 0 2 2\n",
      " 0 2 0 0 0 0 1 1 2 2 0 0 2 2 2 1 0 2 1 0 2 2 2 2 1 2 0 2 0 2 0 0 0 0 2 0 0\n",
      " 2 2 2 1 0 0 1 0 0 0 2 2 0 0 0 1 0 2 0 1 0 0 2 0 0 2]\n",
      "[3 3 3 3 7 7 1 3 7 3 1 7 7 1 3 3 1 1 3 3 1 7 1 7 3 3 3 1 7 1 7 3 3 3 3 7 7\n",
      " 3 7 1 3 1 3 3 3 7 7 1 1 7 7 7 3 1 7 3 1 7 7 7 7 3 7 3 7 1 7 3 3 1 3 7 1 1\n",
      " 7 7 7 3 3 1 3 1 1 3 7 7 1 1 1 3 1 7 3 3 3 1 7 3 3 7]\n"
     ]
    },
    {
     "data": {
      "text/plain": [
       "Counter({1: 6000, 3: 6000, 7: 6000})"
      ]
     },
     "execution_count": 22,
     "metadata": {},
     "output_type": "execute_result"
    }
   ],
   "source": [
    "# 5 - Evaluate accuracy\n",
    "import collections\n",
    "\n",
    "print(k_means.labels_[:100])\n",
    "print(y2_train[:100])\n",
    "collections.Counter(k_means_predict_test)\n",
    "collections.Counter(y2_train)\n"
   ]
  },
  {
   "cell_type": "code",
   "execution_count": 25,
   "metadata": {},
   "outputs": [
    {
     "data": {
      "text/plain": [
       "Counter({0: 8882, 1: 3117, 2: 6001})"
      ]
     },
     "execution_count": 25,
     "metadata": {},
     "output_type": "execute_result"
    }
   ],
   "source": [
    "collections.Counter(k_means_predict_test)\n"
   ]
  },
  {
   "cell_type": "code",
   "execution_count": 26,
   "metadata": {},
   "outputs": [
    {
     "data": {
      "text/plain": [
       "7500.2720453093007"
      ]
     },
     "execution_count": 26,
     "metadata": {},
     "output_type": "execute_result"
    }
   ],
   "source": [
    "from sklearn import metrics\n",
    "from sklearn.metrics import pairwise_distances\n",
    "metrics.calinski_harabaz_score(x_train, k_means.labels_)"
   ]
  },
  {
   "cell_type": "code",
   "execution_count": 27,
   "metadata": {},
   "outputs": [
    {
     "name": "stdout",
     "output_type": "stream",
     "text": [
      "Fitting model with Test data: running time 0:00:18.160080\n"
     ]
    }
   ],
   "source": [
    "# 3 - fitting the model - PCA - 600  data\n",
    "time_strt = datetime.now()\n",
    "k_means.fit(X_600) \n",
    "time_fin = datetime.now()\n",
    "print (\"Fitting model with Test data: running time\", (time_fin - time_strt))\n",
    "y_train= k_means.labels_\n"
   ]
  },
  {
   "cell_type": "code",
   "execution_count": 28,
   "metadata": {},
   "outputs": [
    {
     "name": "stdout",
     "output_type": "stream",
     "text": [
      "Predict with PCA 600 data: running time 0:00:00.233738\n"
     ]
    }
   ],
   "source": [
    "# 4 - Predict - Test data\n",
    "time_strt = datetime.now()\n",
    "k_means_predict_600 = k_means.predict(X_600)\n",
    "time_fin = datetime.now()\n",
    "print (\"Predict with PCA 600 data: running time\", (time_fin - time_strt))"
   ]
  },
  {
   "cell_type": "code",
   "execution_count": 29,
   "metadata": {},
   "outputs": [
    {
     "name": "stdout",
     "output_type": "stream",
     "text": [
      "[1 1 1 2 0 0 2 2 0 2 1 0 0 2 1 1 2 2 1 1 2 0 2 0 2 2 2 2 0 2 0 2 2 2 2 0 0\n",
      " 2 0 2 2 2 2 1 1 0 0 2 2 0 0 0 1 2 0 1 2 0 0 0 0 1 0 2 0 2 0 2 2 2 2 0 2 2\n",
      " 0 0 0 1 2 2 1 2 2 2 0 0 2 2 2 1 2 0 2 1 2 2 0 2 2 0]\n",
      "[3 3 3 3 7 7 1 3 7 3 1 7 7 1 3 3 1 1 3 3 1 7 1 7 3 3 3 1 7 1 7 3 3 3 3 7 7\n",
      " 3 7 1 3 1 3 3 3 7 7 1 1 7 7 7 3 1 7 3 1 7 7 7 7 3 7 3 7 1 7 3 3 1 3 7 1 1\n",
      " 7 7 7 3 3 1 3 1 1 3 7 7 1 1 1 3 1 7 3 3 3 1 7 3 3 7]\n"
     ]
    },
    {
     "data": {
      "text/plain": [
       "Counter({1: 6000, 3: 6000, 7: 6000})"
      ]
     },
     "execution_count": 29,
     "metadata": {},
     "output_type": "execute_result"
    }
   ],
   "source": [
    "# 5 - Evaluate accuracy\n",
    "import collections\n",
    "\n",
    "print(k_means.labels_[:100])\n",
    "print(y2_train[:100])\n",
    "collections.Counter(k_means_predict_test)\n",
    "collections.Counter(y2_train)"
   ]
  },
  {
   "cell_type": "code",
   "execution_count": 30,
   "metadata": {},
   "outputs": [
    {
     "data": {
      "text/plain": [
       "Counter({0: 8882, 1: 3117, 2: 6001})"
      ]
     },
     "execution_count": 30,
     "metadata": {},
     "output_type": "execute_result"
    }
   ],
   "source": [
    "collections.Counter(k_means_predict_test)"
   ]
  },
  {
   "cell_type": "code",
   "execution_count": 31,
   "metadata": {
    "collapsed": true
   },
   "outputs": [],
   "source": [
    "y_50 = y_test\n",
    "y_600 = y_train\n"
   ]
  },
  {
   "cell_type": "code",
   "execution_count": 32,
   "metadata": {},
   "outputs": [
    {
     "data": {
      "text/plain": [
       "3573.8677183795489"
      ]
     },
     "execution_count": 32,
     "metadata": {},
     "output_type": "execute_result"
    }
   ],
   "source": [
    "metrics.calinski_harabaz_score(X_600, k_means.labels_)\n"
   ]
  },
  {
   "cell_type": "code",
   "execution_count": 33,
   "metadata": {},
   "outputs": [
    {
     "data": {
      "text/plain": [
       "4832.8869766355647"
      ]
     },
     "execution_count": 33,
     "metadata": {},
     "output_type": "execute_result"
    }
   ],
   "source": [
    "metrics.calinski_harabaz_score(X_50, y_50)"
   ]
  },
  {
   "cell_type": "code",
   "execution_count": 34,
   "metadata": {
    "collapsed": true
   },
   "outputs": [],
   "source": [
    "# Gaussian Mixture\n",
    "# 1 - Import the model \n",
    "from sklearn.mixture import GaussianMixture\n",
    "\n",
    "\n",
    "# 2 - Make an instance of the Model with 3 components\n",
    "GMM_model= GaussianMixture(n_components=3, covariance_type='full')\n"
   ]
  },
  {
   "cell_type": "code",
   "execution_count": 37,
   "metadata": {},
   "outputs": [
    {
     "name": "stdout",
     "output_type": "stream",
     "text": [
      "Fitting model with PCA-50 data: running time 0:00:06.404478\n"
     ]
    }
   ],
   "source": [
    "# 3 - fitting the model - PCA-50 data\n",
    "time_strt = datetime.now()\n",
    "GMM_model.fit(X_50)\n",
    "time_fin = datetime.now()\n",
    "print (\"Fitting model with PCA-50 data: running time\", (time_fin - time_strt))\n"
   ]
  },
  {
   "cell_type": "code",
   "execution_count": 38,
   "metadata": {},
   "outputs": [
    {
     "name": "stdout",
     "output_type": "stream",
     "text": [
      "Prediciting model with PCA-50 data: running time 0:00:00.155202\n"
     ]
    }
   ],
   "source": [
    "# 4 Predict the Model\n",
    "time_strt = datetime.now()\n",
    "GMM_predict_50 = GMM_model.predict(X_50)\n",
    "time_fin = datetime.now()\n",
    "print (\"Prediciting model with PCA-50 data: running time\", (time_fin - time_strt))\n"
   ]
  },
  {
   "cell_type": "code",
   "execution_count": 39,
   "metadata": {},
   "outputs": [
    {
     "name": "stdout",
     "output_type": "stream",
     "text": [
      "[1 0 1 1 2 2 1 1 0 1 1 2 2 1 0 0 1 1 0 1 1 2 1 2 1 1 1 1 2 1 2 1 1 1 1 2 2\n",
      " 1 2 1 1 1 1 1 1 2 2 1 0 2 2 2 0 1 2 1 1 2 2 2 0 1 2 1 2 1 2 1 1 1 1 2 1 1\n",
      " 2 2 2 1 1 1 1 1 1 1 2 2 1 1 1 1 1 2 1 0 1 1 2 1 1 2]\n",
      "[3 3 3 3 7 7 1 3 7 3 1 7 7 1 3 3 1 1 3 3 1 7 1 7 3 3 3 1 7 1 7 3 3 3 3 7 7\n",
      " 3 7 1 3 1 3 3 3 7 7 1 1 7 7 7 3 1 7 3 1 7 7 7 7 3 7 3 7 1 7 3 3 1 3 7 1 1\n",
      " 7 7 7 3 3 1 3 1 1 3 7 7 1 1 1 3 1 7 3 3 3 1 7 3 3 7]\n"
     ]
    },
    {
     "data": {
      "text/plain": [
       "Counter({1: 6000, 3: 6000, 7: 6000})"
      ]
     },
     "execution_count": 39,
     "metadata": {},
     "output_type": "execute_result"
    }
   ],
   "source": [
    "# 5 - Evaluate accuracy\n",
    "print(GMM_predict_50[:100])\n",
    "print(y2_train[:100])\n",
    "collections.Counter(GMM_predict_50)\n",
    "collections.Counter(y2_train)\n"
   ]
  },
  {
   "cell_type": "code",
   "execution_count": 40,
   "metadata": {},
   "outputs": [
    {
     "data": {
      "text/plain": [
       "Counter({0: 2609, 1: 9939, 2: 5452})"
      ]
     },
     "execution_count": 40,
     "metadata": {},
     "output_type": "execute_result"
    }
   ],
   "source": [
    "collections.Counter(GMM_predict_50)\n"
   ]
  },
  {
   "cell_type": "code",
   "execution_count": 41,
   "metadata": {},
   "outputs": [
    {
     "name": "stdout",
     "output_type": "stream",
     "text": [
      "Fitting model with PCA-600 data: running time 0:01:36.315536\n"
     ]
    }
   ],
   "source": [
    "# 3 - fitting the model - PCA-600 data\n",
    "time_strt = datetime.now()\n",
    "GMM_model.fit(X_600)\n",
    "time_fin = datetime.now()\n",
    "print (\"Fitting model with PCA-600 data: running time\", (time_fin - time_strt))\n"
   ]
  },
  {
   "cell_type": "code",
   "execution_count": 42,
   "metadata": {},
   "outputs": [
    {
     "name": "stdout",
     "output_type": "stream",
     "text": [
      "Prediciting model with PCA-600  data: running time 0:00:03.630037\n"
     ]
    }
   ],
   "source": [
    "# 4 Predict the Model\n",
    "time_strt = datetime.now()\n",
    "GMM_predict_600 = GMM_model.predict(X_600)\n",
    "time_fin = datetime.now()\n",
    "print (\"Prediciting model with PCA-600  data: running time\", (time_fin - time_strt))\n"
   ]
  },
  {
   "cell_type": "code",
   "execution_count": 43,
   "metadata": {},
   "outputs": [
    {
     "name": "stdout",
     "output_type": "stream",
     "text": [
      "[2 1 2 2 0 0 2 2 0 2 2 0 0 2 1 1 2 2 1 2 2 0 2 0 2 2 2 2 0 2 0 2 2 2 2 0 0\n",
      " 2 0 2 2 2 2 2 2 0 0 2 1 0 0 0 1 2 0 1 2 0 0 0 0 1 0 2 0 2 0 2 2 2 2 0 2 2\n",
      " 0 0 0 2 2 2 2 2 2 2 0 0 2 2 2 2 2 0 2 1 2 2 0 2 2 0]\n",
      "[3 3 3 3 7 7 1 3 7 3 1 7 7 1 3 3 1 1 3 3 1 7 1 7 3 3 3 1 7 1 7 3 3 3 3 7 7\n",
      " 3 7 1 3 1 3 3 3 7 7 1 1 7 7 7 3 1 7 3 1 7 7 7 7 3 7 3 7 1 7 3 3 1 3 7 1 1\n",
      " 7 7 7 3 3 1 3 1 1 3 7 7 1 1 1 3 1 7 3 3 3 1 7 3 3 7]\n"
     ]
    },
    {
     "data": {
      "text/plain": [
       "Counter({1: 6000, 3: 6000, 7: 6000})"
      ]
     },
     "execution_count": 43,
     "metadata": {},
     "output_type": "execute_result"
    }
   ],
   "source": [
    "# 5 - Evaluate accuracy\n",
    "print(GMM_predict_600[:100])\n",
    "print(y2_train[:100])\n",
    "collections.Counter(GMM_predict_600)\n",
    "collections.Counter(y2_train)"
   ]
  },
  {
   "cell_type": "code",
   "execution_count": 44,
   "metadata": {},
   "outputs": [
    {
     "data": {
      "text/plain": [
       "Counter({0: 5998, 1: 2118, 2: 9884})"
      ]
     },
     "execution_count": 44,
     "metadata": {},
     "output_type": "execute_result"
    }
   ],
   "source": [
    "collections.Counter(GMM_predict_600)"
   ]
  },
  {
   "cell_type": "code",
   "execution_count": 45,
   "metadata": {},
   "outputs": [
    {
     "data": {
      "text/plain": [
       "4012.2393453427967"
      ]
     },
     "execution_count": 45,
     "metadata": {},
     "output_type": "execute_result"
    }
   ],
   "source": [
    "metrics.calinski_harabaz_score(X_50, GMM_predict_50)"
   ]
  },
  {
   "cell_type": "code",
   "execution_count": 46,
   "metadata": {},
   "outputs": [
    {
     "data": {
      "text/plain": [
       "3336.6096145020206"
      ]
     },
     "execution_count": 46,
     "metadata": {},
     "output_type": "execute_result"
    }
   ],
   "source": [
    "metrics.calinski_harabaz_score(X_600, GMM_predict_600)"
   ]
  },
  {
   "cell_type": "code",
   "execution_count": 47,
   "metadata": {
    "collapsed": true
   },
   "outputs": [],
   "source": [
    "from sklearn.metrics import precision_score, \\\n",
    "    recall_score, confusion_matrix, classification_report, \\\n",
    "    accuracy_score, f1_score\n",
    "    "
   ]
  },
  {
   "cell_type": "code",
   "execution_count": 48,
   "metadata": {},
   "outputs": [
    {
     "name": "stdout",
     "output_type": "stream",
     "text": [
      "\n",
      " confussion matrix:\n",
      " [[   0    0    0    0    0]\n",
      " [   1  238 5761    0    0]\n",
      " [   0    0    0    0    0]\n",
      " [   5 1873 4122    0    0]\n",
      " [5992    7    1    0    0]]\n"
     ]
    }
   ],
   "source": [
    "print ('\\n confussion matrix:\\n',confusion_matrix(y2_train, GMM_predict_600))"
   ]
  },
  {
   "cell_type": "code",
   "execution_count": 49,
   "metadata": {},
   "outputs": [
    {
     "name": "stdout",
     "output_type": "stream",
     "text": [
      "\n",
      " confussion matrix:\n",
      " [[   0    0    0    0    0]\n",
      " [ 323 5677    0    0    0]\n",
      " [   0    0    0    0    0]\n",
      " [1739 4261    0    0    0]\n",
      " [ 547    1 5452    0    0]]\n"
     ]
    }
   ],
   "source": [
    "print ('\\n confussion matrix:\\n',confusion_matrix(y2_train, GMM_predict_50))"
   ]
  },
  {
   "cell_type": "code",
   "execution_count": 50,
   "metadata": {
    "collapsed": true
   },
   "outputs": [],
   "source": [
    "# mapping Predict results to 1,3, 7\n",
    "GM_50_map=GMM_predict_50[GMM_predict_50 ==0] = 7\n",
    "GM_50_map=GMM_predict_50[GMM_predict_50 ==2] = 3\n",
    "GM_50_map=GMM_predict_50[GMM_predict_50 ==1] = 1"
   ]
  },
  {
   "cell_type": "code",
   "execution_count": 51,
   "metadata": {},
   "outputs": [
    {
     "data": {
      "text/plain": [
       "Counter({1: 9939, 3: 5452, 7: 2609})"
      ]
     },
     "execution_count": 51,
     "metadata": {},
     "output_type": "execute_result"
    }
   ],
   "source": [
    "collections.Counter(GMM_predict_50)\n"
   ]
  },
  {
   "cell_type": "code",
   "execution_count": 53,
   "metadata": {},
   "outputs": [
    {
     "name": "stdout",
     "output_type": "stream",
     "text": [
      "\n",
      " confussion matrix:\n",
      " [[5677    0  323]\n",
      " [4261    0 1739]\n",
      " [   1 5452  547]]\n"
     ]
    }
   ],
   "source": [
    "print ('\\n confussion matrix:\\n',confusion_matrix(y2_train, GMM_predict_50))"
   ]
  },
  {
   "cell_type": "code",
   "execution_count": 54,
   "metadata": {
    "collapsed": true
   },
   "outputs": [],
   "source": [
    "# mapping Predict results to 1,3, 7\n",
    "GMM_predict_50[GMM_predict_50 ==7] = 3\n",
    "GMM_predict_50[GMM_predict_50 ==2] = 7\n",
    "GMM_predict_50[GMM_predict_50 ==1] = 1"
   ]
  },
  {
   "cell_type": "code",
   "execution_count": 55,
   "metadata": {},
   "outputs": [
    {
     "name": "stdout",
     "output_type": "stream",
     "text": [
      "\n",
      " confussion matrix:\n",
      " [[5677  323    0]\n",
      " [4261 1739    0]\n",
      " [   1 5999    0]]\n"
     ]
    }
   ],
   "source": [
    "print ('\\n confussion matrix:\\n',confusion_matrix(y2_train, GMM_predict_50))"
   ]
  },
  {
   "cell_type": "code",
   "execution_count": 56,
   "metadata": {
    "collapsed": true
   },
   "outputs": [],
   "source": [
    "# mapping Predict results to 1,3, 7\n",
    "GMM_predict_50[GMM_predict_50 ==7] = 7\n",
    "GMM_predict_50[GMM_predict_50 ==3] = 4\n",
    "GMM_predict_50[GMM_predict_50 ==1] = 3\n",
    "GMM_predict_50[GMM_predict_50 ==4] = 1\n"
   ]
  },
  {
   "cell_type": "code",
   "execution_count": 57,
   "metadata": {},
   "outputs": [
    {
     "name": "stdout",
     "output_type": "stream",
     "text": [
      "\n",
      " confussion matrix:\n",
      " [[ 323 5677    0]\n",
      " [1739 4261    0]\n",
      " [5999    1    0]]\n"
     ]
    }
   ],
   "source": [
    "print ('\\n confussion matrix:\\n',confusion_matrix(y2_train, GMM_predict_50))"
   ]
  },
  {
   "cell_type": "code",
   "execution_count": null,
   "metadata": {
    "collapsed": true
   },
   "outputs": [],
   "source": []
  }
 ],
 "metadata": {
  "kernelspec": {
   "display_name": "Python 3",
   "language": "python",
   "name": "python3"
  },
  "language_info": {
   "codemirror_mode": {
    "name": "ipython",
    "version": 3
   },
   "file_extension": ".py",
   "mimetype": "text/x-python",
   "name": "python",
   "nbconvert_exporter": "python",
   "pygments_lexer": "ipython3",
   "version": "3.6.3"
  }
 },
 "nbformat": 4,
 "nbformat_minor": 2
}
