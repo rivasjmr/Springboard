{
 "cells": [
  {
   "cell_type": "markdown",
   "metadata": {},
   "source": [
    "\n",
    "Machine learning is producing increase advantages in business values and efficiencies.  However, we need to be alert of bias in machine learning models that are producing inequalities to large portions of the population.  These bias models can target gender, race, age, income levels, …   The effect can include lost opportunities for employment, financial services, housing, fair judicial system, …\n",
    "\n",
    "This bias and potential inequality can be an unnoticed process but have a powerful impact.  It is up to us to include in our development and maintenance process to look for bias in eradicate it.\n",
    "Machine learning by default is bias, since it relies on statistical bias. This is required to make predictions, classifications, and correlations on new data the model has never seen before. However, focus needs to be put on the bias on the algorithms and training data used to create the models in the first place.\n",
    "\n",
    "We will focus on  research conducted by ProPublica, a non-profit research institution, it was found that COMPAS, a machine learning algorithm used to determine criminal defendants’ likelihood to recommit crimes.  \n",
    "We will:\n",
    "1.\tGet data \n",
    "2.\tInitial - Exploratory data analysis (EDA)\n",
    "3.\tInitial – Data Wrangling\n",
    "4.\tExploratory data analysis (EDA)\n",
    "5.\tFeature Engineering - Prepare the data for Machine Learning Algorithms\n",
    "6.\tTrain, Evaluate, and Select a Model\n",
    "\n",
    "Work in progress\n",
    "\n",
    "7.\tUsing Variant Autoencoder (VAE - tensorflow) \n",
    "   Build  ML transformer of original  dataset , but removes sensitivity (race) while keeping almost    all data\n",
    "   \n",
    "8.\tUsing Variant Fair Autoencoder (VFAE - tensorflow) \n",
    "   Bias is removed\n",
    "\n",
    "\n",
    "Data:\n",
    "•\tCompass dataset - The data set tracks Broward county Florida \n",
    "•\tUS census data for some initial data comparisons\n",
    "\n"
   ]
  },
  {
   "cell_type": "markdown",
   "metadata": {},
   "source": [
    "# Machine Bias\n",
    "# \n",
    "\"\"\"\n",
    "https://www.propublica.org/article/how-we-analyzed-the-compas-recidivism-algorithm\n",
    "\n",
    "Context\n",
    "COMPAS (Correctional Offender Management Profiling for Alternative Sanctions) is a popular commercial algorithm used by judges\n",
    "and parole officers for scoring criminal defendant’s likelihood of reoffending (recidivism). It has been shown that the algorithm\n",
    "is biased in favor of white defendants, and against black inmates, based on a 2 year follow up study (i.e who actually committed\n",
    "crimes or violent crimes after 2 years). The pattern of mistakes, as measured by precision/sensitivity is notable.\n",
    "\n",
    "Quoting from ProPublica: \n",
    "\n",
    "Black defendants were often predicted to be at a higher risk of recidivism than they actually were. Our analysis found that black defendants\n",
    "who did not recidivate over a two-year period were nearly twice as likely to be misclassified as higher risk compared to their white counterparts\n",
    "(45 percent vs. 23 percent). White defendants were often predicted to be less risky than they were. Our analysis found that white defendants who\n",
    "re-offended within the next two years were mistakenly labeled low risk almost twice as often as black re-offenders (48 percent vs. 28 percent).\n",
    "The analysis also showed that even when controlling for prior crimes, future recidivism, age, and gender, black defendants were 45 percent more\n",
    "likely to be assigned higher risk scores than white defendants.\n",
    "\n",
    "Black defendants were also twice as likely as white defendants to be misclassified as being a higher risk of violent recidivism. And white violent\n",
    "recidivists were 63 percent more likely to have been misclassified as a low risk of violent recidivism, compared with black violent recidivists.\n",
    "The violent recidivism analysis also showed that even when controlling for prior crimes, future recidivism, age, and gender, black defendants were\n",
    "77 percent more likely to be assigned higher risk scores than white defendants. \"\n",
    "\n",
    "Content\n",
    "Data contains variables used by the COMPAS algorithm in scoring defendants, along with their outcomes within 2 years of the decision, for over\n",
    "10,000 criminal defendants in Broward County, Florida. 3 subsets of the data are provided, including a subset of only violent\n",
    "recividism (as opposed to, e.g. being reincarcerated for non violent offenses such as vagrancy or Marijuana).\n",
    "\n",
    "Indepth analysis by ProPublica can be found in their data methodology article.\n",
    "\n",
    "\n",
    "\n",
    "Each pretrial defendant received at least three COMPAS scores:  (DisplayText)\n",
    "“Risk of Recidivism,”\n",
    "“Risk of Violence” \n",
    "“Risk of Failure to Appear.”\n",
    "\n",
    "COMPAS scores for each defendant ranged from1 to 10, with ten being the highest risk. Scores (ScoreTex)\n",
    "1 to 4 were labeled by COMPAS as “Low”;\n",
    "5 to 7 were labeled “Medium”; and\n",
    "8 to 10 were labeled “High.”\n",
    "\n",
    "\n",
    "Columns\n",
    "0 - 4  : 'Person_ID','AssessmentID','Case_ID','Agency_Text', 'LastName',\n",
    "5 - 9  : 'FirstName', 'MiddleName', 'Sex_Code_Text', 'Ethnic_Code_Text','DateOfBirth',\n",
    "10 - 14: 'ScaleSet_ID', 'ScaleSet', 'AssessmentReason','Language', 'LegalStatus',\n",
    "15 - 19: 'CustodyStatus', 'MaritalStatus','Screening_Date', 'RecSupervisionLevel', 'RecSupervisionLevelText',\n",
    "20 - 24: 'Scale_ID', 'DisplayText', 'RawScore', 'DecileScore', 'ScoreText',\n",
    "25 - 27: 'AssessmentType', 'IsCompleted', 'IsDeleted'"
   ]
  },
  {
   "cell_type": "code",
   "execution_count": 1,
   "metadata": {
    "collapsed": true
   },
   "outputs": [],
   "source": [
    "# loading libraries\n",
    "import pandas as pd\n",
    "import numpy as np\n",
    "import matplotlib.pyplot as plt\n",
    "# For preprocessing the data\n",
    "from sklearn.preprocessing import Imputer\n",
    "from sklearn import preprocessing\n",
    "# Standardizing\n",
    "from sklearn.preprocessing import StandardScaler\n",
    "# To split the dataset into train and test datasets\n",
    "from sklearn.model_selection import train_test_split\n",
    "# To calculate the accuracy score of the model\n",
    "from sklearn.metrics import classification_report, confusion_matrix, accuracy_score\n",
    "#\n",
    "from datetime import datetime\n",
    "from datetime import date\n",
    "#\n",
    "from sklearn.preprocessing import LabelEncoder\n",
    "from sklearn.preprocessing import OneHotEncoder\n",
    "#\n",
    "import collections\n"
   ]
  },
  {
   "cell_type": "code",
   "execution_count": 2,
   "metadata": {
    "collapsed": true
   },
   "outputs": [],
   "source": [
    "# load dataset\n",
    "pthfnm = \"./compas-scores-raw.csv\"\n",
    "df = pd.read_csv(pthfnm)"
   ]
  },
  {
   "cell_type": "code",
   "execution_count": 3,
   "metadata": {},
   "outputs": [
    {
     "name": "stdout",
     "output_type": "stream",
     "text": [
      "(60843, 28)\n",
      "<class 'pandas.core.frame.DataFrame'>\n",
      "RangeIndex: 60843 entries, 0 to 60842\n",
      "Data columns (total 28 columns):\n",
      "Person_ID                  60843 non-null int64\n",
      "AssessmentID               60843 non-null int64\n",
      "Case_ID                    60843 non-null int64\n",
      "Agency_Text                60843 non-null object\n",
      "LastName                   60843 non-null object\n",
      "FirstName                  60843 non-null object\n",
      "MiddleName                 15648 non-null object\n",
      "Sex_Code_Text              60843 non-null object\n",
      "Ethnic_Code_Text           60843 non-null object\n",
      "DateOfBirth                60843 non-null object\n",
      "ScaleSet_ID                60843 non-null int64\n",
      "ScaleSet                   60843 non-null object\n",
      "AssessmentReason           60843 non-null object\n",
      "Language                   60843 non-null object\n",
      "LegalStatus                60843 non-null object\n",
      "CustodyStatus              60843 non-null object\n",
      "MaritalStatus              60843 non-null object\n",
      "Screening_Date             60843 non-null object\n",
      "RecSupervisionLevel        60843 non-null int64\n",
      "RecSupervisionLevelText    60843 non-null object\n",
      "Scale_ID                   60843 non-null int64\n",
      "DisplayText                60843 non-null object\n",
      "RawScore                   60843 non-null float64\n",
      "DecileScore                60843 non-null int64\n",
      "ScoreText                  60798 non-null object\n",
      "AssessmentType             60843 non-null object\n",
      "IsCompleted                60843 non-null int64\n",
      "IsDeleted                  60843 non-null int64\n",
      "dtypes: float64(1), int64(9), object(18)\n",
      "memory usage: 13.0+ MB\n",
      "None\n"
     ]
    }
   ],
   "source": [
    "# initial EDA\n",
    "print(df.shape)\n",
    "print(df.info())"
   ]
  },
  {
   "cell_type": "code",
   "execution_count": 4,
   "metadata": {},
   "outputs": [
    {
     "name": "stdout",
     "output_type": "stream",
     "text": [
      "['Caucasian' 'African-American' 'Hispanic' 'Other' 'Asian' 'African-Am'\n",
      " 'Native American' 'Oriental' 'Arabic']\n"
     ]
    }
   ],
   "source": [
    "# Review data and Manipulate Data\n",
    "\n",
    "# Ethnic_Code_Text\n",
    "print(df.Ethnic_Code_Text.unique())"
   ]
  },
  {
   "cell_type": "code",
   "execution_count": 5,
   "metadata": {},
   "outputs": [
    {
     "name": "stdout",
     "output_type": "stream",
     "text": [
      "African-American    27069\n",
      "Caucasian           21783\n",
      "Hispanic             8742\n",
      "Other                2592\n",
      "Asian                 324\n",
      "Native American       219\n",
      "Arabic                 75\n",
      "Oriental               39\n",
      "Name: Ethnic_Code_Text, dtype: int64\n"
     ]
    }
   ],
   "source": [
    "# update 'Ethnic_Code_Text' to have conistent values for African Americans\n",
    "df.loc[df['Ethnic_Code_Text'] == 'African-Am', 'Ethnic_Code_Text'] = 'African-American'\n",
    "print(pd.value_counts(df['Ethnic_Code_Text']))"
   ]
  },
  {
   "cell_type": "code",
   "execution_count": 6,
   "metadata": {},
   "outputs": [
    {
     "name": "stdout",
     "output_type": "stream",
     "text": [
      "45\n"
     ]
    }
   ],
   "source": [
    "# DecileScore should be between 1 & 10, delete otherwise\n",
    "df.DecileScore.unique()\n",
    "print((df['DecileScore'] < 1).sum())"
   ]
  },
  {
   "cell_type": "code",
   "execution_count": 7,
   "metadata": {},
   "outputs": [
    {
     "name": "stdout",
     "output_type": "stream",
     "text": [
      "1     18465\n",
      "2      9192\n",
      "3      8492\n",
      "4      5338\n",
      "5      4831\n",
      "6      4319\n",
      "7      3338\n",
      "8      2799\n",
      "9      2386\n",
      "10     1638\n",
      "Name: DecileScore, dtype: int64\n"
     ]
    }
   ],
   "source": [
    "# remove DecileScore < 1\n",
    "df = df[df.DecileScore >= 1]\n",
    "print(pd.value_counts(df['DecileScore']))"
   ]
  },
  {
   "cell_type": "code",
   "execution_count": 8,
   "metadata": {},
   "outputs": [
    {
     "name": "stdout",
     "output_type": "stream",
     "text": [
      "black : (27053, 28)  white:  (21765, 28)  joint:  (48818, 28)\n"
     ]
    }
   ],
   "source": [
    "# slice and dice\n",
    "\n",
    "# Slice by 'Ethnic_Code_Text' for blacks & whites\n",
    "black = df.loc[df['Ethnic_Code_Text'] == 'African-American']\n",
    "white = df.loc[df['Ethnic_Code_Text'] == 'Caucasian']\n",
    "joint = df.loc[df['Ethnic_Code_Text'].isin (['Caucasian','African-American'])]\n",
    "print('black :', black.shape, ' white: ', white.shape, ' joint: ', joint.shape)"
   ]
  },
  {
   "cell_type": "code",
   "execution_count": 9,
   "metadata": {},
   "outputs": [
    {
     "name": "stdout",
     "output_type": "stream",
     "text": [
      "male : (47479, 28)  female:  (13319, 28)\n"
     ]
    }
   ],
   "source": [
    "# Slice by 'Sex_Code_Text' for males & females\n",
    "male = df.loc[df['Sex_Code_Text'] == 'Male']\n",
    "female = df.loc[df['Sex_Code_Text'] == 'Female']\n",
    "print('male :', male.shape, ' female: ', female.shape)"
   ]
  },
  {
   "cell_type": "code",
   "execution_count": 10,
   "metadata": {},
   "outputs": [
    {
     "name": "stdout",
     "output_type": "stream",
     "text": [
      "Appear: (20281, 28)  Violence:  (20272, 28)  Recidivism: (20245, 28)\n"
     ]
    }
   ],
   "source": [
    "# Slice by 'DisplayText' for Risk\n",
    "RiskAppear = df.loc[df['DisplayText'] == 'Risk of Failure to Appear']\n",
    "RiskViolence = df.loc[df['DisplayText'] == 'Risk of Violence']\n",
    "RiskRecidivism = df.loc[df['DisplayText'] == 'Risk of Recidivism']\n",
    "print('Appear:', RiskAppear.shape, ' Violence: ', RiskViolence.shape,  ' Recidivism:',RiskRecidivism.shape)"
   ]
  },
  {
   "cell_type": "code",
   "execution_count": 11,
   "metadata": {},
   "outputs": [
    {
     "name": "stdout",
     "output_type": "stream",
     "text": [
      "Race:  (8, 27)  Gender: (2, 27)\n"
     ]
    }
   ],
   "source": [
    "# Aggregate\n",
    "grprace = df.groupby(['Ethnic_Code_Text']).count()\n",
    "grpgender = df.groupby(['Sex_Code_Text']).count()\n",
    "print('Race: ',grprace.shape, ' Gender:', grpgender.shape)"
   ]
  },
  {
   "cell_type": "markdown",
   "metadata": {},
   "source": [
    "# EDA  - looking at potential bias\n",
    "\n"
   ]
  },
  {
   "cell_type": "code",
   "execution_count": 12,
   "metadata": {},
   "outputs": [
    {
     "data": {
      "text/html": [
       "<div>\n",
       "<style>\n",
       "    .dataframe thead tr:only-child th {\n",
       "        text-align: right;\n",
       "    }\n",
       "\n",
       "    .dataframe thead th {\n",
       "        text-align: left;\n",
       "    }\n",
       "\n",
       "    .dataframe tbody tr th {\n",
       "        vertical-align: top;\n",
       "    }\n",
       "</style>\n",
       "<table border=\"1\" class=\"dataframe\">\n",
       "  <thead>\n",
       "    <tr style=\"text-align: right;\">\n",
       "      <th></th>\n",
       "      <th>DecileScore</th>\n",
       "    </tr>\n",
       "    <tr>\n",
       "      <th>Ethnic_Code_Text</th>\n",
       "      <th></th>\n",
       "    </tr>\n",
       "  </thead>\n",
       "  <tbody>\n",
       "    <tr>\n",
       "      <th>African-American</th>\n",
       "      <td>44.50</td>\n",
       "    </tr>\n",
       "    <tr>\n",
       "      <th>Arabic</th>\n",
       "      <td>0.12</td>\n",
       "    </tr>\n",
       "    <tr>\n",
       "      <th>Asian</th>\n",
       "      <td>0.53</td>\n",
       "    </tr>\n",
       "    <tr>\n",
       "      <th>Caucasian</th>\n",
       "      <td>35.80</td>\n",
       "    </tr>\n",
       "    <tr>\n",
       "      <th>Hispanic</th>\n",
       "      <td>14.36</td>\n",
       "    </tr>\n",
       "    <tr>\n",
       "      <th>Native American</th>\n",
       "      <td>0.36</td>\n",
       "    </tr>\n",
       "    <tr>\n",
       "      <th>Oriental</th>\n",
       "      <td>0.06</td>\n",
       "    </tr>\n",
       "    <tr>\n",
       "      <th>Other</th>\n",
       "      <td>4.26</td>\n",
       "    </tr>\n",
       "  </tbody>\n",
       "</table>\n",
       "</div>"
      ],
      "text/plain": [
       "                  DecileScore\n",
       "Ethnic_Code_Text             \n",
       "African-American        44.50\n",
       "Arabic                   0.12\n",
       "Asian                    0.53\n",
       "Caucasian               35.80\n",
       "Hispanic                14.36\n",
       "Native American          0.36\n",
       "Oriental                 0.06\n",
       "Other                    4.26"
      ]
     },
     "execution_count": 12,
     "metadata": {},
     "output_type": "execute_result"
    }
   ],
   "source": [
    "## Display distribution of group data\n",
    "# % data distribution by Ethnic_Code_Text\n",
    "round(grprace[['DecileScore']]/len(df),4)*100"
   ]
  },
  {
   "cell_type": "code",
   "execution_count": null,
   "metadata": {
    "collapsed": true
   },
   "outputs": [],
   "source": [
    "# There are more African Americans (45%) in the dataset, eventhough in the county African American only make \n",
    "# up (30%) of the population"
   ]
  },
  {
   "cell_type": "code",
   "execution_count": 13,
   "metadata": {},
   "outputs": [
    {
     "data": {
      "text/html": [
       "<div>\n",
       "<style>\n",
       "    .dataframe thead tr:only-child th {\n",
       "        text-align: right;\n",
       "    }\n",
       "\n",
       "    .dataframe thead th {\n",
       "        text-align: left;\n",
       "    }\n",
       "\n",
       "    .dataframe tbody tr th {\n",
       "        vertical-align: top;\n",
       "    }\n",
       "</style>\n",
       "<table border=\"1\" class=\"dataframe\">\n",
       "  <thead>\n",
       "    <tr style=\"text-align: right;\">\n",
       "      <th></th>\n",
       "      <th>DecileScore</th>\n",
       "    </tr>\n",
       "    <tr>\n",
       "      <th>Sex_Code_Text</th>\n",
       "      <th></th>\n",
       "    </tr>\n",
       "  </thead>\n",
       "  <tbody>\n",
       "    <tr>\n",
       "      <th>Female</th>\n",
       "      <td>21.91</td>\n",
       "    </tr>\n",
       "    <tr>\n",
       "      <th>Male</th>\n",
       "      <td>78.09</td>\n",
       "    </tr>\n",
       "  </tbody>\n",
       "</table>\n",
       "</div>"
      ],
      "text/plain": [
       "               DecileScore\n",
       "Sex_Code_Text             \n",
       "Female               21.91\n",
       "Male                 78.09"
      ]
     },
     "execution_count": 13,
     "metadata": {},
     "output_type": "execute_result"
    }
   ],
   "source": [
    "# % data distribution by Sex_Code_Text\n",
    "round(grpgender[['DecileScore']]/len(df),4)*100\n"
   ]
  },
  {
   "cell_type": "code",
   "execution_count": null,
   "metadata": {
    "collapsed": true
   },
   "outputs": [],
   "source": [
    "# There are more males (78%) in the dataset, eventhough in the county males make \n",
    "# up (49%) of the population"
   ]
  },
  {
   "cell_type": "code",
   "execution_count": 14,
   "metadata": {},
   "outputs": [
    {
     "name": "stdout",
     "output_type": "stream",
     "text": [
      "Mean DecileScore by Race\n",
      "Caucasian -  3.11\n",
      "African-American -  4.29\n",
      "Hispanic -  2.86\n",
      "Other -  2.51\n",
      "Asian -  2.37\n",
      "Native American -  4.05\n",
      "Oriental -  2.74\n",
      "Arabic -  3.13\n"
     ]
    }
   ],
   "source": [
    "# DecileScore Mean by race\n",
    "race=df.Ethnic_Code_Text.unique()\n",
    "print('Mean DecileScore by Race')\n",
    "for i in race:\n",
    "    mn = round(df.loc[df['Ethnic_Code_Text'] == i]['DecileScore'].mean(), 2)\n",
    "    print(i,'- ',mn)"
   ]
  },
  {
   "cell_type": "code",
   "execution_count": null,
   "metadata": {
    "collapsed": true
   },
   "outputs": [],
   "source": [
    "# Mean DecileScore is highest for African Americans"
   ]
  },
  {
   "cell_type": "code",
   "execution_count": 15,
   "metadata": {},
   "outputs": [
    {
     "name": "stdout",
     "output_type": "stream",
     "text": [
      "Mean DecileScore by Gender\n",
      "Male -  3.66\n",
      "Female -  3.26\n"
     ]
    }
   ],
   "source": [
    "# DecileScore Mean by gender\n",
    "gender=df.Sex_Code_Text.unique()\n",
    "print('Mean DecileScore by Gender')\n",
    "for i in gender:\n",
    "    mn = round(df.loc[df['Sex_Code_Text'] == i]['DecileScore'].mean(), 2)\n",
    "    print(i,'- ',mn)"
   ]
  },
  {
   "cell_type": "code",
   "execution_count": null,
   "metadata": {
    "collapsed": true
   },
   "outputs": [],
   "source": [
    "# Mean DecileScore is highest for males"
   ]
  },
  {
   "cell_type": "code",
   "execution_count": null,
   "metadata": {
    "collapsed": true
   },
   "outputs": [],
   "source": [
    "# Visualize"
   ]
  },
  {
   "cell_type": "code",
   "execution_count": 16,
   "metadata": {
    "collapsed": true
   },
   "outputs": [],
   "source": [
    "# Define grp_plot_compare:\n",
    "# creates groups and then plot them to compare them\n",
    "def grp_plot_compare(df1, df2, xlabel1, colnm1, total_pop, multby, title,label1, label2):\n",
    "    grp1 = df1.groupby([xlabel1]).count()\n",
    "    grp2 = df2.groupby([xlabel1]).count()\n",
    "    \n",
    "#   to be used for weighted average  \n",
    "    div1 = len(df1)\n",
    "    div2 = len(df2)\n",
    "    \n",
    "    n_groups = len(grp1)\n",
    "# create plot\n",
    "    fig, ax = plt.subplots()\n",
    "    index = np.arange(n_groups)\n",
    "    bar_width = 0.35\n",
    "    opacity = 0.8\n",
    "\n",
    "    rects1 = plt.bar(grp1.index,(round(grp1[colnm1]/div1,2)*multby), bar_width,\n",
    "                 alpha=opacity,\n",
    "                 color='b',\n",
    "                 label=label1)\n",
    "\n",
    "    rects2 = plt.bar(grp2.index+ bar_width, (round(grp2[colnm1]/div2,2)*multby), bar_width,\n",
    "                 alpha=opacity,\n",
    "                 color='g',\n",
    "                 label=label2)\n",
    "\n",
    "    plt.xlabel(xlabel1)\n",
    "    if total_pop > 1:\n",
    "        plt.ylabel('Percentage')\n",
    "    else:\n",
    "        plt.ylabel('Count')\n",
    "    plt.title(title)\n",
    "    plt.legend()\n",
    "    plt.tight_layout()\n",
    "    plt.show()\n",
    "    plt.clf()"
   ]
  },
  {
   "cell_type": "code",
   "execution_count": 17,
   "metadata": {},
   "outputs": [
    {
     "data": {
      "image/png": "[encoded data removed]",
      "text/plain": [
       "<matplotlib.figure.Figure at 0x2a793fb0550>"
      ]
     },
     "metadata": {},
     "output_type": "display_data"
    }
   ],
   "source": [
    "# Comparing White & Black defendants on the  'DecileScore'\n",
    "grp_plot_compare(white, black, 'DecileScore','Ethnic_Code_Text', len(df), 100, \\\n",
    "                 'DecileScore by Blacks & Whites ', \\\n",
    "                 'white','black')"
   ]
  },
  {
   "cell_type": "code",
   "execution_count": null,
   "metadata": {
    "collapsed": true
   },
   "outputs": [],
   "source": [
    "# Whites have lower Decile Scores and Blacks have higher Decile Scores"
   ]
  },
  {
   "cell_type": "code",
   "execution_count": 18,
   "metadata": {},
   "outputs": [
    {
     "data": {
      "text/plain": [
       "<matplotlib.figure.Figure at 0x2a787853d30>"
      ]
     },
     "metadata": {},
     "output_type": "display_data"
    },
    {
     "data": {
      "image/png": "[encoded data removed]",
      "text/plain": [
       "<matplotlib.figure.Figure at 0x2a794b405f8>"
      ]
     },
     "metadata": {},
     "output_type": "display_data"
    }
   ],
   "source": [
    "# Comparing Male & Female defendants on the  'DecileScore'\n",
    "grp_plot_compare(female, male, 'DecileScore','Sex_Code_Text', len(df), 100, \\\n",
    "                 'Scores by Females & Males ', \\\n",
    "                 'Females','Males')\n"
   ]
  },
  {
   "cell_type": "code",
   "execution_count": null,
   "metadata": {
    "collapsed": true
   },
   "outputs": [],
   "source": [
    "# Females have lower Decile Scores and Males have higher Decile Scores"
   ]
  },
  {
   "cell_type": "code",
   "execution_count": 19,
   "metadata": {
    "scrolled": true
   },
   "outputs": [
    {
     "data": {
      "text/plain": [
       "<matplotlib.figure.Figure at 0x2a794d6cda0>"
      ]
     },
     "metadata": {},
     "output_type": "display_data"
    },
    {
     "data": {
      "image/png": "[encoded data removed]",
      "text/plain": [
       "<matplotlib.figure.Figure at 0x2a794d56b38>"
      ]
     },
     "metadata": {},
     "output_type": "display_data"
    }
   ],
   "source": [
    "####################################################################################\n",
    "# Histogram overlay\n",
    "fig, ax = plt.subplots()\n",
    "black['DecileScore'].hist(bins=10, figsize=[14,6],color='g',alpha=.8 )\n",
    "white['DecileScore'].hist(bins=10, figsize=[14,6],color='b',alpha=.5 )\n",
    "plt.title('Histogram overlay of Blacks (green) & Whites (blue)')\n",
    "plt.legend()\n",
    "plt.xlabel('DecileScore')\n",
    "plt.ylabel('Count')\n",
    "plt.show()\n",
    "plt.clf()"
   ]
  },
  {
   "cell_type": "markdown",
   "metadata": {},
   "source": [
    "# Feature Engineering"
   ]
  },
  {
   "cell_type": "code",
   "execution_count": 20,
   "metadata": {
    "collapsed": true
   },
   "outputs": [],
   "source": [
    "# Add column 'Age' from DateofBirth\n",
    "agelist = []\n",
    "currdate = date.today()\n",
    "for dte in df['DateOfBirth']:\n",
    "    brthdte = datetime.strptime(dte, '%m/%d/%y')\n",
    "    mnthday = (currdate.month, currdate.day) < (brthdte.month, brthdte.day)\n",
    "    if currdate.year > brthdte.year:\n",
    "        agelist.append(currdate.year - brthdte.year - (mnthday))\n",
    "    else:\n",
    "        agelist.append(-1)\n",
    "        "
   ]
  },
  {
   "cell_type": "code",
   "execution_count": 21,
   "metadata": {},
   "outputs": [
    {
     "name": "stdout",
     "output_type": "stream",
     "text": [
      "60798 60798\n",
      "Index(['Person_ID', 'AssessmentID', 'Case_ID', 'Agency_Text', 'LastName',\n",
      "       'FirstName', 'MiddleName', 'Sex_Code_Text', 'Ethnic_Code_Text',\n",
      "       'DateOfBirth', 'ScaleSet_ID', 'ScaleSet', 'AssessmentReason',\n",
      "       'Language', 'LegalStatus', 'CustodyStatus', 'MaritalStatus',\n",
      "       'Screening_Date', 'RecSupervisionLevel', 'RecSupervisionLevelText',\n",
      "       'Scale_ID', 'DisplayText', 'RawScore', 'DecileScore', 'ScoreText',\n",
      "       'AssessmentType', 'IsCompleted', 'IsDeleted', 'Age'],\n",
      "      dtype='object')\n"
     ]
    }
   ],
   "source": [
    "print(len(agelist), len(df))\n",
    "df['Age'] = agelist\n",
    "print(df.columns)"
   ]
  },
  {
   "cell_type": "code",
   "execution_count": 22,
   "metadata": {},
   "outputs": [
    {
     "data": {
      "text/plain": [
       "12782"
      ]
     },
     "execution_count": 22,
     "metadata": {},
     "output_type": "execute_result"
    }
   ],
   "source": [
    "# cleanup bad Ages\n",
    "# remove DecileScore < 1\n",
    "(df['Age'] < 1).sum()"
   ]
  },
  {
   "cell_type": "code",
   "execution_count": 23,
   "metadata": {},
   "outputs": [
    {
     "data": {
      "text/plain": [
       "0"
      ]
     },
     "execution_count": 23,
     "metadata": {},
     "output_type": "execute_result"
    }
   ],
   "source": [
    "df = df[df.Age >= 1]\n",
    "(df['Age'] < 1).sum()"
   ]
  },
  {
   "cell_type": "code",
   "execution_count": 24,
   "metadata": {
    "scrolled": true
   },
   "outputs": [
    {
     "data": {
      "text/plain": [
       "count    48016.000000\n",
       "mean        33.053878\n",
       "std          7.185001\n",
       "min         20.000000\n",
       "25%         27.000000\n",
       "50%         32.000000\n",
       "75%         38.000000\n",
       "max         49.000000\n",
       "Name: Age, dtype: float64"
      ]
     },
     "execution_count": 24,
     "metadata": {},
     "output_type": "execute_result"
    }
   ],
   "source": [
    "df['Age'].describe()"
   ]
  },
  {
   "cell_type": "code",
   "execution_count": 25,
   "metadata": {},
   "outputs": [
    {
     "name": "stdout",
     "output_type": "stream",
     "text": [
      "Appear: (16016, 29)  Violence:  (16010, 29)  Recidivism: (15990, 29)\n"
     ]
    }
   ],
   "source": [
    "# Slice by 'DisplayText' for Risk\n",
    "RiskAppear = df.loc[df['DisplayText'] == 'Risk of Failure to Appear']\n",
    "RiskViolence = df.loc[df['DisplayText'] == 'Risk of Violence']\n",
    "RiskRecidivism = df.loc[df['DisplayText'] == 'Risk of Recidivism']\n",
    "print('Appear:', RiskAppear.shape, ' Violence: ', RiskViolence.shape,  ' Recidivism:',RiskRecidivism.shape)"
   ]
  },
  {
   "cell_type": "code",
   "execution_count": null,
   "metadata": {
    "collapsed": true
   },
   "outputs": [],
   "source": [
    "# More feature engineering using Label encoder and One-Hot encoder"
   ]
  },
  {
   "cell_type": "markdown",
   "metadata": {},
   "source": [
    "# Running ML models"
   ]
  },
  {
   "cell_type": "markdown",
   "metadata": {},
   "source": [
    "# Train, Evaluate, and Select a Model"
   ]
  },
  {
   "cell_type": "code",
   "execution_count": 26,
   "metadata": {
    "collapsed": true
   },
   "outputs": [],
   "source": [
    "# Define prepare_data_for_ml_model_1:\n",
    "def prepare_data_for_ml_model_1(dfx, target_loc):\n",
    "    # Create new Dataset of selected columns to get prepare TEST and Training data for  ML model \n",
    "     \n",
    "    \"\"\"\n",
    "    Columns\n",
    "    0 - 4  : 'Person_ID','AssessmentID','Case_ID','Agency_Text', 'LastName',\n",
    "    5 - 9  : 'FirstName', 'MiddleName', 'Sex_Code_Text', 'Ethnic_Code_Text','DateOfBirth',\n",
    "    10 - 14: 'ScaleSet_ID', 'ScaleSet', 'AssessmentReason','Language', 'LegalStatus',\n",
    "    15 - 19: 'CustodyStatus', 'MaritalStatus','Screening_Date', 'RecSupervisionLevel', 'RecSupervisionLevelText',\n",
    "    20 - 24: 'Scale_ID', 'DisplayText', 'RawScore', 'DecileScore', 'ScoreText',\n",
    "    25 - 28: 'AssessmentType', 'IsCompleted', 'IsDeleted','Age'\n",
    "    \"\"\"\n",
    "\n",
    "    x_df = dfx.iloc[:, [7,8,14,15,16,19]] #features\n",
    "    tmp_age = dfx.iloc[:,28].as_matrix() #age feature, convert numpy array\n",
    "    x_age = tmp_age.reshape(tmp_age.size,1)\n",
    "    \n",
    "\n",
    "    y = dfx.iloc[:,target_loc].as_matrix() #target convert numpy array\n",
    "\n",
    "\n",
    "    #  lable encoder. It encodes the data into integers\n",
    "    le = LabelEncoder()\n",
    "\n",
    "    Sex_Code_Text_cat = le.fit_transform(x_df.Sex_Code_Text)\n",
    "    Ethnic_Code_Text_cat = le.fit_transform(x_df.Ethnic_Code_Text)\n",
    "    LegalStatus_cat = le.fit_transform(x_df.LegalStatus)\n",
    "    CustodyStatus_cat = le.fit_transform(x_df.CustodyStatus)\n",
    "    MaritalStatus_cat = le.fit_transform(x_df.MaritalStatus)\n",
    "    RecSupervisionLevelText_cat = le.fit_transform(x_df.RecSupervisionLevelText)\n",
    "\n",
    "    Sex_Code_Text_cat = Sex_Code_Text_cat.reshape(len(Sex_Code_Text_cat),1)\n",
    "    Ethnic_Code_Text_cat = Ethnic_Code_Text_cat.reshape(len(Ethnic_Code_Text_cat),1)\n",
    "    LegalStatus_cat = LegalStatus_cat.reshape(len(LegalStatus_cat),1)\n",
    "    CustodyStatus_cat = CustodyStatus_cat.reshape(len(CustodyStatus_cat),1)\n",
    "    MaritalStatus_cat = MaritalStatus_cat.reshape(len(MaritalStatus_cat),1)\n",
    "    RecSupervisionLevelText_cat = RecSupervisionLevelText_cat.reshape(len(RecSupervisionLevelText_cat),1)\n",
    "\n",
    "#  One-Hot encoder. It encodes the data into binary format\n",
    "    onehote = OneHotEncoder(sparse=False)\n",
    "    \n",
    "    Sex_Code_Text_oh = onehote.fit_transform(Sex_Code_Text_cat)\n",
    "    Ethnic_Code_Text_oh = onehote.fit_transform(Ethnic_Code_Text_cat)\n",
    "    LegalStatus_oh = onehote.fit_transform(LegalStatus_cat)\n",
    "    CustodyStatus_oh = onehote.fit_transform(CustodyStatus_cat)\n",
    "    MaritalStatus_oh = onehote.fit_transform(MaritalStatus_cat)\n",
    "    RecSupervisionLevelText_oh = onehote.fit_transform(RecSupervisionLevelText_cat)\n",
    "\n",
    "# Build out feature dataset as numpy array, since One-Hot encoder creates numpy array\n",
    "    X_feature =  Sex_Code_Text_oh\n",
    "    X_feature = np.concatenate((X_feature,Ethnic_Code_Text_oh), axis=1)\n",
    "    X_feature = np.concatenate((X_feature,LegalStatus_oh), axis=1)\n",
    "    X_feature = np.concatenate((X_feature,CustodyStatus_oh), axis=1)\n",
    "    X_feature = np.concatenate((X_feature,MaritalStatus_oh), axis=1)\n",
    "    X_feature = np.concatenate((X_feature,RecSupervisionLevelText_oh), axis=1)\n",
    "    X_feature = np.concatenate((X_feature,x_age), axis=1)\n",
    "\n",
    "# Split data train and test\n",
    "    X_train, X_test, y_train, y_test = train_test_split(X_feature, y, test_size=0.2)\n",
    "    print('Length for X_train:', len(X_train), ' X_test:',len(X_test), ' y_train:',len(y_train) ,' y_test:',len(y_test))\n",
    "\n",
    "    return X_train, X_test, y_train, y_test"
   ]
  },
  {
   "cell_type": "code",
   "execution_count": 27,
   "metadata": {
    "collapsed": true
   },
   "outputs": [],
   "source": [
    "# Define ml_model_1:\n",
    "# takes in model Instantiate model (model)\n",
    "# fits, predicts, and evaluates (prints results)\n",
    "def ml_model_1(model, modelnm, dfnm, X_train, X_test, y_train, y_test, target):\n",
    "    print('Running ', modelnm, ' model for :', dfnm, ' using target: ', target)\n",
    "\n",
    "    model.fit(X_train, y_train)\n",
    "    y_pred = model.predict(X_test)\n",
    "\n",
    "    #Evaluate\n",
    "    print(modelnm,' score: ',model.score(X_test, y_test))\n",
    "    print(' ')\n",
    "    print('first 10 predicted values: ',y_pred[0:10])\n",
    "    print('first 10 values of target: ')\n",
    "    print(y_test[0:10])\n",
    "    print(' ')\n",
    "\n",
    "    print('mean of predicted of values: ',np.mean(y_pred), ' STD of predicted of values : ', np.std(y_pred) )\n",
    "    print('describe of target')\n",
    "    print('mean of predicted of values: ',np.mean(y_test), ' STD of predicted of values : ', np.std(y_test) )\n",
    "\n",
    "    return y_pred"
   ]
  },
  {
   "cell_type": "code",
   "execution_count": null,
   "metadata": {
    "collapsed": true
   },
   "outputs": [],
   "source": [
    "# MLPRegressor"
   ]
  },
  {
   "cell_type": "code",
   "execution_count": 30,
   "metadata": {
    "collapsed": true
   },
   "outputs": [],
   "source": [
    "from sklearn.neural_network import MLPRegressor\n",
    "\n",
    "clf = MLPRegressor(alpha=0.001, hidden_layer_sizes = (10,), max_iter = 50000, \n",
    "                 activation = 'logistic', verbose = 'True', learning_rate = 'adaptive')"
   ]
  },
  {
   "cell_type": "code",
   "execution_count": 29,
   "metadata": {},
   "outputs": [
    {
     "name": "stdout",
     "output_type": "stream",
     "text": [
      "Length for X_train: 12808  X_test: 3202  y_train: 12808  y_test: 3202\n"
     ]
    }
   ],
   "source": [
    "# MLPRegressor - RiskViolence dataset target RawScore (22)\n",
    "# Preparing the data\n",
    "X_train, X_test, y_train, y_test = prepare_data_for_ml_model_1(RiskViolence,22)"
   ]
  },
  {
   "cell_type": "code",
   "execution_count": 30,
   "metadata": {},
   "outputs": [
    {
     "name": "stdout",
     "output_type": "stream",
     "text": [
      "Running  MLPRegressor  model for : RiskViolence  using target:  RawScore\n",
      "Iteration 1, loss = 2.98883576\n",
      "Iteration 2, loss = 0.74201189\n",
      "Iteration 3, loss = 0.26413695\n",
      "Iteration 4, loss = 0.25026084\n",
      "Iteration 5, loss = 0.23207398\n",
      "Iteration 6, loss = 0.20220697\n",
      "Iteration 7, loss = 0.17667825\n",
      "Iteration 8, loss = 0.14790374\n",
      "Iteration 9, loss = 0.12525257\n",
      "Iteration 10, loss = 0.10971391\n",
      "Iteration 11, loss = 0.09800340\n",
      "Iteration 12, loss = 0.08924755\n",
      "Iteration 13, loss = 0.08286828\n",
      "Iteration 14, loss = 0.07823534\n",
      "Iteration 15, loss = 0.07473552\n",
      "Iteration 16, loss = 0.07215164\n",
      "Iteration 17, loss = 0.07015977\n",
      "Iteration 18, loss = 0.06864968\n",
      "Iteration 19, loss = 0.06750685\n",
      "Iteration 20, loss = 0.06671386\n",
      "Iteration 21, loss = 0.06584817\n",
      "Iteration 22, loss = 0.06531424\n",
      "Iteration 23, loss = 0.06482931\n",
      "Iteration 24, loss = 0.06445568\n",
      "Iteration 25, loss = 0.06399009\n",
      "Iteration 26, loss = 0.06405254\n",
      "Iteration 27, loss = 0.06332068\n",
      "Iteration 28, loss = 0.06322177\n",
      "Iteration 29, loss = 0.06283040\n",
      "Iteration 30, loss = 0.06258251\n",
      "Iteration 31, loss = 0.06249878\n",
      "Iteration 32, loss = 0.06222906\n",
      "Iteration 33, loss = 0.06208358\n",
      "Iteration 34, loss = 0.06184687\n",
      "Iteration 35, loss = 0.06169452\n",
      "Iteration 36, loss = 0.06170276\n",
      "Iteration 37, loss = 0.06137079\n",
      "Iteration 38, loss = 0.06123599\n",
      "Iteration 39, loss = 0.06126991\n",
      "Iteration 40, loss = 0.06112763\n",
      "Iteration 41, loss = 0.06090827\n",
      "Iteration 42, loss = 0.06098638\n",
      "Iteration 43, loss = 0.06069531\n",
      "Iteration 44, loss = 0.06058788\n",
      "Iteration 45, loss = 0.06054012\n",
      "Iteration 46, loss = 0.06062016\n",
      "Iteration 47, loss = 0.06040813\n",
      "Iteration 48, loss = 0.06040315\n",
      "Iteration 49, loss = 0.06043141\n",
      "Iteration 50, loss = 0.06024556\n",
      "Iteration 51, loss = 0.06008352\n",
      "Iteration 52, loss = 0.06037812\n",
      "Iteration 53, loss = 0.05989871\n",
      "Iteration 54, loss = 0.05991714\n",
      "Iteration 55, loss = 0.05984666\n",
      "Iteration 56, loss = 0.05987937\n",
      "Training loss did not improve more than tol=0.000100 for two consecutive epochs. Stopping.\n",
      "MLPRegressor  score:  0.8007348392629005\n",
      " \n",
      "first 10 predicted values:  [-1.82186604 -2.69447506 -1.92605979 -2.72063527 -0.64656961 -2.16465195\n",
      " -2.25783457 -2.58340288 -1.95162423 -2.23094389]\n",
      "first 10 values of target: \n",
      "[-2.32 -2.01 -2.06 -1.9  -0.35 -2.03 -2.09 -2.86 -1.62 -1.84]\n",
      " \n",
      "mean of predicted of values:  -2.2845869900496947  STD of predicted of values :  0.6851742868737196\n",
      "describe of target\n",
      "mean of predicted of values:  -2.2903810118675825  STD of predicted of values :  0.7753735242935278\n"
     ]
    },
    {
     "data": {
      "text/plain": [
       "array([-1.82186604, -2.69447506, -1.92605979, ..., -2.33783544,\n",
       "       -1.58087195, -2.14794373])"
      ]
     },
     "execution_count": 30,
     "metadata": {},
     "output_type": "execute_result"
    }
   ],
   "source": [
    "# Predicting and getting score\n",
    "ml_model_1(clf, 'MLPRegressor', 'RiskViolence', X_train, X_test, y_train, y_test, 'RawScore')"
   ]
  },
  {
   "cell_type": "code",
   "execution_count": null,
   "metadata": {
    "collapsed": true
   },
   "outputs": [],
   "source": [
    "# Running  MLPRegressor  model for : RiskViolence  using target:  RawScore\n",
    "#  score:  0.8007348392629005"
   ]
  },
  {
   "cell_type": "code",
   "execution_count": 31,
   "metadata": {
    "scrolled": false
   },
   "outputs": [
    {
     "name": "stdout",
     "output_type": "stream",
     "text": [
      "Length for X_train: 12792  X_test: 3198  y_train: 12792  y_test: 3198\n"
     ]
    }
   ],
   "source": [
    "# MLPRegressor - RiskRecidivism dataset target RawScore (22)\n",
    "X_train, X_test, y_train, y_test = prepare_data_for_ml_model_1(RiskRecidivism,22)"
   ]
  },
  {
   "cell_type": "code",
   "execution_count": 32,
   "metadata": {
    "scrolled": true
   },
   "outputs": [
    {
     "name": "stdout",
     "output_type": "stream",
     "text": [
      "Running  MLPRegressor  model for : RiskRecidivism  using target:  RawScore\n",
      "Iteration 1, loss = 0.37060787\n",
      "Iteration 2, loss = 0.25702373\n",
      "Iteration 3, loss = 0.22164057\n",
      "Iteration 4, loss = 0.18740374\n",
      "Iteration 5, loss = 0.16034402\n",
      "Iteration 6, loss = 0.13804442\n",
      "Iteration 7, loss = 0.12086234\n",
      "Iteration 8, loss = 0.10723131\n",
      "Iteration 9, loss = 0.09434393\n",
      "Iteration 10, loss = 0.08517670\n",
      "Iteration 11, loss = 0.07888327\n",
      "Iteration 12, loss = 0.07456704\n",
      "Iteration 13, loss = 0.07140171\n",
      "Iteration 14, loss = 0.06933528\n",
      "Iteration 15, loss = 0.06774772\n",
      "Iteration 16, loss = 0.06678251\n",
      "Iteration 17, loss = 0.06611576\n",
      "Iteration 18, loss = 0.06590498\n",
      "Iteration 19, loss = 0.06524134\n",
      "Iteration 20, loss = 0.06495674\n",
      "Iteration 21, loss = 0.06468203\n",
      "Iteration 22, loss = 0.06444429\n",
      "Iteration 23, loss = 0.06427861\n",
      "Iteration 24, loss = 0.06420078\n",
      "Iteration 25, loss = 0.06395157\n",
      "Iteration 26, loss = 0.06341392\n",
      "Iteration 27, loss = 0.06314134\n",
      "Iteration 28, loss = 0.06289898\n",
      "Iteration 29, loss = 0.06260979\n",
      "Iteration 30, loss = 0.06256780\n",
      "Iteration 31, loss = 0.06231991\n",
      "Iteration 32, loss = 0.06207409\n",
      "Iteration 33, loss = 0.06197814\n",
      "Iteration 34, loss = 0.06186612\n",
      "Iteration 35, loss = 0.06157734\n",
      "Iteration 36, loss = 0.06151369\n",
      "Iteration 37, loss = 0.06153943\n",
      "Iteration 38, loss = 0.06122977\n",
      "Iteration 39, loss = 0.06103088\n",
      "Iteration 40, loss = 0.06082058\n",
      "Iteration 41, loss = 0.06056281\n",
      "Iteration 42, loss = 0.06051741\n",
      "Iteration 43, loss = 0.06060267\n",
      "Iteration 44, loss = 0.06028468\n",
      "Iteration 45, loss = 0.06040085\n",
      "Iteration 46, loss = 0.06000506\n",
      "Iteration 47, loss = 0.05998961\n",
      "Iteration 48, loss = 0.05977835\n",
      "Iteration 49, loss = 0.05995638\n",
      "Iteration 50, loss = 0.05972645\n",
      "Iteration 51, loss = 0.05956441\n",
      "Iteration 52, loss = 0.05949335\n",
      "Iteration 53, loss = 0.05967000\n",
      "Iteration 54, loss = 0.05927243\n",
      "Iteration 55, loss = 0.05932604\n",
      "Iteration 56, loss = 0.05917425\n",
      "Iteration 57, loss = 0.05920632\n",
      "Training loss did not improve more than tol=0.000100 for two consecutive epochs. Stopping.\n",
      "MLPRegressor  score:  0.7830659418649881\n",
      " \n",
      "first 10 predicted values:  [ 0.37348362 -0.20332117 -0.21962016 -0.92406285 -0.05976633 -1.23742123\n",
      " -0.46122423 -1.30351558 -1.44860973 -1.50059683]\n",
      "first 10 values of target: \n",
      "[ 0.55 -0.11 -0.07 -1.15 -0.09 -0.96 -0.69 -1.31 -2.3  -1.19]\n",
      " \n",
      "mean of predicted of values:  -0.6063855325985115  STD of predicted of values :  0.6621750486947692\n",
      "describe of target\n",
      "mean of predicted of values:  -0.5848686679174484  STD of predicted of values :  0.7412722728537252\n"
     ]
    },
    {
     "data": {
      "text/plain": [
       "array([ 0.37348362, -0.20332117, -0.21962016, ...,  0.30540186,\n",
       "       -1.12363142, -0.21405308])"
      ]
     },
     "execution_count": 32,
     "metadata": {},
     "output_type": "execute_result"
    }
   ],
   "source": [
    "# Predicting and getting score\n",
    "ml_model_1(clf, 'MLPRegressor', 'RiskRecidivism', X_train, X_test, y_train, y_test, 'RawScore')"
   ]
  },
  {
   "cell_type": "markdown",
   "metadata": {},
   "source": [
    "# Model Best Score \n",
    "Running MLPRegressor model for : RiskRecidivism using target: DecileScore score:  0.8414744125013081"
   ]
  },
  {
   "cell_type": "code",
   "execution_count": null,
   "metadata": {
    "collapsed": true
   },
   "outputs": [],
   "source": [
    "# Preparing for VAE using tensorflow"
   ]
  },
  {
   "cell_type": "code",
   "execution_count": 33,
   "metadata": {
    "collapsed": true
   },
   "outputs": [],
   "source": [
    "class dataReader(object):\n",
    "    # Code provided by Andrei Fajardo\n",
    "    # to substitude for ...train.next_batch\n",
    "\n",
    "    def __init__(self,*arrays,batch_size=1):\n",
    "        self.arrays = arrays\n",
    "        self.__check_equal_shape()\n",
    "        self.num_examples = self.arrays[0].shape[0]\n",
    "        self.batch_number = 0\n",
    "        self.batch_size = batch_size\n",
    "        self.num_batches = int(np.ceil(self.num_examples / batch_size))\n",
    "\n",
    "    def __check_equal_shape(self):\n",
    "        if any(self.arrays[0].shape[0] != arr.shape[0] for arr in self.arrays[1:]):\n",
    "            raise ValueError(\"all arrays must be equal along first dimension\")\n",
    "\n",
    "    def next_batch(self):\n",
    "        low_ix = self.batch_number*self.batch_size\n",
    "        up_ix = (self.batch_number + 1)*self.batch_size\n",
    "        if up_ix >= self.num_examples:\n",
    "            up_ix = self.num_examples\n",
    "            self.batch_number = 0 # reset batch_number to zero\n",
    "        else:\n",
    "            self.batch_number = self.batch_number + 1\n",
    "\n",
    "        return [arr[low_ix:up_ix,:] for arr in self.arrays]\n"
   ]
  },
  {
   "cell_type": "code",
   "execution_count": 34,
   "metadata": {
    "collapsed": true
   },
   "outputs": [],
   "source": [
    "#  Tensorflow  Implementation \n",
    "\n",
    "import tensorflow as tf\n",
    "import os\n",
    "import sys\n",
    "from functools import partial\n",
    "from sklearn.preprocessing import StandardScaler"
   ]
  },
  {
   "cell_type": "code",
   "execution_count": 35,
   "metadata": {
    "collapsed": true
   },
   "outputs": [],
   "source": [
    "# to make this notebook's output stable across runs\n",
    "def reset_graph(seed=42):\n",
    "    tf.reset_default_graph()\n",
    "    tf.set_random_seed(seed)\n",
    "    np.random.seed(seed)"
   ]
  },
  {
   "cell_type": "code",
   "execution_count": 36,
   "metadata": {},
   "outputs": [
    {
     "name": "stdout",
     "output_type": "stream",
     "text": [
      "Length for X_train: 12792  X_test: 3198  y_train: 12792  y_test: 3198\n"
     ]
    }
   ],
   "source": [
    "# RiskRecidivism dataset target RawScore (22)\n",
    "# X_train.shape (12792, 35)\n",
    "X_train, X_test, y_train, y_test = prepare_data_for_ml_model_1(RiskRecidivism,22)"
   ]
  },
  {
   "cell_type": "code",
   "execution_count": 37,
   "metadata": {
    "scrolled": true
   },
   "outputs": [
    {
     "name": "stdout",
     "output_type": "stream",
     "text": [
      "(12792, 35)\n"
     ]
    }
   ],
   "source": [
    "print(X_train.shape)"
   ]
  },
  {
   "cell_type": "code",
   "execution_count": 38,
   "metadata": {},
   "outputs": [
    {
     "name": "stderr",
     "output_type": "stream",
     "text": [
      "C:\\Users\\rivas\\Anaconda3\\lib\\site-packages\\h5py\\__init__.py:34: FutureWarning: Conversion of the second argument of issubdtype from `float` to `np.floating` is deprecated. In future, it will be treated as `np.float64 == np.dtype(float).type`.\n",
      "  from ._conv import register_converters as _register_converters\n"
     ]
    }
   ],
   "source": [
    "scaler = StandardScaler()\n",
    "X_scaler = scaler.fit_transform(X_train)\n",
    "# X = tf.constant(X_scaler, dtype=tf.float32, name=\"X\")\n",
    "X = tf.placeholder(tf.float32, shape=[None, 35], name=\"X\")\n",
    "\n",
    "\n",
    "n_inputs = 35 # 28 * 28\n",
    "n_hidden1 = 300\n",
    "n_hidden2 = 150  \n",
    "n_hidden3 = n_hidden1\n",
    "n_outputs = n_inputs\n",
    "\n",
    "learning_rate = 0.01\n",
    "l2_reg = 0.0001\n",
    "\n",
    "he_init = tf.contrib.layers.variance_scaling_initializer() # He initialization\n",
    "#Equivalent to:\n",
    "#he_init = lambda shape, dtype=tf.float32: tf.truncated_normal(shape, 0., stddev=np.sqrt(2/shape[0]))\n",
    "l2_regularizer = tf.contrib.layers.l2_regularizer(l2_reg)\n",
    "my_dense_layer = partial(tf.layers.dense,\n",
    "                         activation=tf.nn.elu,\n",
    "                         kernel_initializer=he_init,\n",
    "                         kernel_regularizer=l2_regularizer)\n",
    "\n",
    "hidden1 = my_dense_layer(X, n_hidden1)\n",
    "hidden2 = my_dense_layer(hidden1, n_hidden2)\n",
    "hidden3 = my_dense_layer(hidden2, n_hidden3)\n",
    "outputs = my_dense_layer(hidden3, n_outputs, activation=None)\n",
    "\n",
    "reconstruction_loss = tf.reduce_mean(tf.square(outputs - X))\n",
    "\n",
    "reg_losses = tf.get_collection(tf.GraphKeys.REGULARIZATION_LOSSES)\n",
    "loss = tf.add_n([reconstruction_loss] + reg_losses)\n",
    "\n",
    "optimizer = tf.train.AdamOptimizer(learning_rate)\n",
    "training_op = optimizer.minimize(loss)\n",
    "\n",
    "init = tf.global_variables_initializer()\n",
    "saver = tf.train.Saver()"
   ]
  },
  {
   "cell_type": "code",
   "execution_count": 39,
   "metadata": {
    "collapsed": true
   },
   "outputs": [],
   "source": [
    "# instatianate\n",
    "data_reader = dataReader(X_scaler,y_train[:,np.newaxis]\n",
    ", batch_size=150)"
   ]
  },
  {
   "cell_type": "code",
   "execution_count": 40,
   "metadata": {},
   "outputs": [
    {
     "name": "stdout",
     "output_type": "stream",
     "text": [
      "86\n"
     ]
    }
   ],
   "source": [
    "print(data_reader.num_batches)"
   ]
  },
  {
   "cell_type": "code",
   "execution_count": 41,
   "metadata": {},
   "outputs": [
    {
     "name": "stdout",
     "output_type": "stream",
     "text": [
      "08% Train MSE: 0.037109908\n",
      "1 Train MSE: 0.029453315\n",
      "2 Train MSE: 0.02437022\n",
      "3 Train MSE: 0.020707564\n",
      "4 Train MSE: 0.039617613\n",
      "5 Train MSE: 0.02288242\n",
      "6 Train MSE: 0.0487869\n",
      "7 Train MSE: 11.099429\n",
      "8 Train MSE: 0.63306123\n",
      "9 Train MSE: 0.6131373\n",
      "10 Train MSE: 0.535426\n",
      "11 Train MSE: 0.6038917\n",
      "12% Train MSE: 0.5072129\n",
      "13 Train MSE: 0.53795636\n",
      "14% Train MSE: 0.5828473\n",
      "15 Train MSE: 0.5022591\n",
      "16 Train MSE: 0.505577\n",
      "17 Train MSE: 0.4823163\n",
      "18% Train MSE: 0.49494296\n",
      "19% Train MSE: 0.46706817\n",
      "20% Train MSE: 0.46004823\n",
      "21% Train MSE: 0.45608553\n",
      "22 Train MSE: 0.45119458\n",
      "23 Train MSE: 0.44707164\n",
      "24% Train MSE: 0.44393575\n",
      "25% Train MSE: 0.44070184\n",
      "26 Train MSE: 0.4377091\n",
      "27 Train MSE: 0.47975755\n",
      "28 Train MSE: 0.4343702\n",
      "29 Train MSE: 0.4302937\n",
      "30% Train MSE: 0.4288808\n",
      "31 Train MSE: 0.42655864\n",
      "32 Train MSE: 0.42463183\n",
      "33 Train MSE: 0.4221184\n",
      "34 Train MSE: 0.4204234\n",
      "35 Train MSE: 0.42798182\n",
      "36 Train MSE: 0.41317388\n",
      "37 Train MSE: 0.41104007\n",
      "38 Train MSE: 0.4055257\n",
      "39 Train MSE: 0.40446523\n",
      "40 Train MSE: 0.40153733\n",
      "41 Train MSE: 0.39922085\n",
      "42 Train MSE: 0.39605355\n",
      "43 Train MSE: 0.39350685\n",
      "44 Train MSE: 0.39075464\n",
      "45 Train MSE: 0.3886647\n",
      "46 Train MSE: 0.3875743\n",
      "47 Train MSE: 0.3837943\n",
      "48 Train MSE: 0.3754946\n",
      "49 Train MSE: 1.3087084\n"
     ]
    }
   ],
   "source": [
    "n_epochs = 50\n",
    "batch_size = 150\n",
    "\n",
    "with tf.Session() as sess:\n",
    "    init.run()\n",
    "    for epoch in range(n_epochs):\n",
    "        #n_batches = mnist.train.num_examples // batch_size\n",
    "        n_batches = data_reader.num_batches\n",
    "        for iteration in range(n_batches):\n",
    "            print(\"\\r{}%\".format(100 * iteration // n_batches), end=\"\")\n",
    "            sys.stdout.flush()                                          \n",
    "            X_batch, y_batch = data_reader.next_batch()\n",
    "            sess.run(training_op, feed_dict={X: X_batch})\n",
    "\n",
    "        loss_train = reconstruction_loss.eval(feed_dict={X: X_batch})   \n",
    "        print(\"\\r{}\".format(epoch), \"Train MSE:\", loss_train)           \n",
    "        saver.save(sess, \"./my_model_all_layers.ckpt\")\n"
   ]
  },
  {
   "cell_type": "code",
   "execution_count": null,
   "metadata": {
    "collapsed": true
   },
   "outputs": [],
   "source": [
    "# Variational Autoencoder (VAE)"
   ]
  },
  {
   "cell_type": "code",
   "execution_count": 42,
   "metadata": {
    "collapsed": true
   },
   "outputs": [],
   "source": [
    "reset_graph()\n",
    "\n",
    "from functools import partial\n",
    "\n",
    "\n",
    "n_inputs = 35\n",
    "n_hidden1 = 500\n",
    "n_hidden2 = 500\n",
    "n_hidden3 = 20  # codings\n",
    "n_hidden4 = n_hidden2\n",
    "n_hidden5 = n_hidden1\n",
    "n_outputs = n_inputs\n",
    "learning_rate = 0.001\n",
    "\n",
    "initializer = tf.contrib.layers.variance_scaling_initializer()\n",
    "\n",
    "my_dense_layer = partial(\n",
    "    tf.layers.dense,\n",
    "    activation=tf.nn.elu,\n",
    "    kernel_initializer=initializer)\n",
    "\n",
    "#\n",
    "scaler = StandardScaler()\n",
    "X_scaler = scaler.fit_transform(X_train)\n",
    "X = tf.placeholder(tf.float32, shape=[None, 35], name=\"X\")\n",
    "#X = tf.placeholder(tf.float32, [None, n_inputs])\n",
    "\n",
    "#\n",
    "hidden1 = my_dense_layer(X, n_hidden1)\n",
    "hidden2 = my_dense_layer(hidden1, n_hidden2)\n",
    "hidden3_mean = my_dense_layer(hidden2, n_hidden3, activation=None)\n",
    "hidden3_sigma = my_dense_layer(hidden2, n_hidden3, activation=None)\n",
    "noise = tf.random_normal(tf.shape(hidden3_sigma), dtype=tf.float32)\n",
    "hidden3 = hidden3_mean + hidden3_sigma * noise\n",
    "hidden4 = my_dense_layer(hidden3, n_hidden4)\n",
    "hidden5 = my_dense_layer(hidden4, n_hidden5)\n",
    "logits = my_dense_layer(hidden5, n_outputs, activation=None)\n",
    "outputs = tf.sigmoid(logits)\n",
    "\n",
    "xentropy = tf.nn.sigmoid_cross_entropy_with_logits(labels=X, logits=logits)\n",
    "reconstruction_loss = tf.reduce_sum(xentropy)"
   ]
  },
  {
   "cell_type": "code",
   "execution_count": 43,
   "metadata": {
    "collapsed": true
   },
   "outputs": [],
   "source": [
    "# instatianate\n",
    "data_reader = dataReader(X_scaler,y_train[:,np.newaxis]\n",
    ", batch_size=150)"
   ]
  },
  {
   "cell_type": "code",
   "execution_count": 44,
   "metadata": {
    "collapsed": true
   },
   "outputs": [],
   "source": [
    "eps = 1e-10 # smoothing term to avoid computing log(0) which is NaN\n",
    "latent_loss = 0.5 * tf.reduce_sum(\n",
    "    tf.square(hidden3_sigma) + tf.square(hidden3_mean)\n",
    "    - 1 - tf.log(eps + tf.square(hidden3_sigma)))"
   ]
  },
  {
   "cell_type": "code",
   "execution_count": 45,
   "metadata": {
    "collapsed": true
   },
   "outputs": [],
   "source": [
    "loss = reconstruction_loss + latent_loss\n",
    "\n",
    "optimizer = tf.train.AdamOptimizer(learning_rate=learning_rate)\n",
    "training_op = optimizer.minimize(loss)\n",
    "\n",
    "init = tf.global_variables_initializer()\n",
    "saver = tf.train.Saver()"
   ]
  },
  {
   "cell_type": "code",
   "execution_count": 46,
   "metadata": {},
   "outputs": [
    {
     "name": "stdout",
     "output_type": "stream",
     "text": [
      "0 Train total loss: -63952668.0 \tReconstruction loss: -112909144.0 \tLatent loss: 48956476.0\n",
      "1 Train total loss: -21706420000.0 \tReconstruction loss: -41060983000.0 \tLatent loss: 19354563000.0\n",
      "2 Train total loss: -560661270000.0 \tReconstruction loss: -1079831300000.0 \tLatent loss: 519170000000.0\n",
      "3 Train total loss: -4917343300000.0 \tReconstruction loss: -9500744000000.0 \tLatent loss: 4583401000000.0\n",
      "4 Train total loss: -24390759000000.0 \tReconstruction loss: -47347078000000.0 \tLatent loss: 22956320000000.0\n",
      "5 Train total loss: -86488755000000.0 \tReconstruction loss: -167869450000000.0 \tLatent loss: 81380700000000.0\n",
      "6 Train total loss: -241411420000000.0 \tReconstruction loss: -471110700000000.0 \tLatent loss: 229699280000000.0\n",
      "7 Train total loss: -576044400000000.0 \tReconstruction loss: -1125555240000000.0 \tLatent loss: 549510870000000.0\n",
      "8 Train total loss: -1215638400000000.0 \tReconstruction loss: -2379194000000000.0 \tLatent loss: 1163555500000000.0\n",
      "9 Train total loss: -2333881500000000.0 \tReconstruction loss: -4574453000000000.0 \tLatent loss: 2240571700000000.0\n",
      "10 Train total loss: -4171211600000000.0 \tReconstruction loss: -8194918400000000.0 \tLatent loss: 4023706800000000.0\n",
      "11% Train total loss: -7018367400000000.0 \tReconstruction loss: -1.3791939e+16 \tLatent loss: 6773571400000000.0\n",
      "12 Train total loss: -1.1255142e+16 \tReconstruction loss: -2.213115e+16 \tLatent loss: 1.0876008e+16\n",
      "13 Train total loss: -1.7321236e+16 \tReconstruction loss: -3.4100028e+16 \tLatent loss: 1.6778792e+16\n",
      "14 Train total loss: -2.5722138e+16 \tReconstruction loss: -5.056585e+16 \tLatent loss: 2.484371e+16\n",
      "15 Train total loss: -3.706913e+16 \tReconstruction loss: -7.294591e+16 \tLatent loss: 3.5876785e+16\n",
      "16 Train total loss: -5.2014786e+16 \tReconstruction loss: -1.0242268e+17 \tLatent loss: 5.0407892e+16\n",
      "17% Train total loss: -7.1349805e+16 \tReconstruction loss: -1.40582835e+17 \tLatent loss: 6.923303e+16\n",
      "18 Train total loss: -9.587363e+16 \tReconstruction loss: -1.8890826e+17 \tLatent loss: 9.3034635e+16\n",
      "19% Train total loss: -1.2670712e+17 \tReconstruction loss: -2.493111e+17 \tLatent loss: 1.2260398e+17\n",
      "20 Train total loss: -1.6452611e+17 \tReconstruction loss: -3.2399687e+17 \tLatent loss: 1.5947076e+17\n",
      "21 Train total loss: -2.106567e+17 \tReconstruction loss: -4.1501953e+17 \tLatent loss: 2.0436282e+17\n",
      "22% Train total loss: -2.663284e+17 \tReconstruction loss: -5.2499114e+17 \tLatent loss: 2.5866274e+17\n",
      "23 Train total loss: -3.3311643e+17 \tReconstruction loss: -6.5594094e+17 \tLatent loss: 3.228245e+17\n",
      "24% Train total loss: -4.1195406e+17 \tReconstruction loss: -8.1087945e+17 \tLatent loss: 3.989254e+17\n",
      "25 Train total loss: -5.0424737e+17 \tReconstruction loss: -9.925753e+17 \tLatent loss: 4.8832795e+17\n",
      "26 Train total loss: -6.118767e+17 \tReconstruction loss: -1.2045502e+18 \tLatent loss: 5.9267346e+17\n",
      "27 Train total loss: -7.359209e+17 \tReconstruction loss: -1.4487359e+18 \tLatent loss: 7.12815e+17\n",
      "28 Train total loss: -8.7895564e+17 \tReconstruction loss: -1.7301397e+18 \tLatent loss: 8.5118404e+17\n",
      "29 Train total loss: -1.04282404e+18 \tReconstruction loss: -2.0525177e+18 \tLatent loss: 1.0096937e+18\n",
      "30 Train total loss: -1.2281985e+18 \tReconstruction loss: -2.418235e+18 \tLatent loss: 1.1900366e+18\n",
      "31 Train total loss: -1.439659e+18 \tReconstruction loss: -2.8334777e+18 \tLatent loss: 1.3938187e+18\n",
      "32 Train total loss: -1.675792e+18 \tReconstruction loss: -3.298017e+18 \tLatent loss: 1.622225e+18\n",
      "33 Train total loss: -1.9407338e+18 \tReconstruction loss: -3.8197284e+18 \tLatent loss: 1.8789946e+18\n",
      "34 Train total loss: -2.2366973e+18 \tReconstruction loss: -4.4023044e+18 \tLatent loss: 2.165607e+18\n",
      "35 Train total loss: -2.564915e+18 \tReconstruction loss: -5.049017e+18 \tLatent loss: 2.484102e+18\n",
      "36% Train total loss: -2.9307455e+18 \tReconstruction loss: -5.7675993e+18 \tLatent loss: 2.8368538e+18\n",
      "37 Train total loss: -3.3342498e+18 \tReconstruction loss: -6.562041e+18 \tLatent loss: 3.2277912e+18\n",
      "38% Train total loss: -3.7795206e+18 \tReconstruction loss: -7.4370114e+18 \tLatent loss: 3.6574908e+18\n",
      "39% Train total loss: -4.2667016e+18 \tReconstruction loss: -8.396219e+18 \tLatent loss: 4.1295172e+18\n",
      "40 Train total loss: -4.803625e+18 \tReconstruction loss: -9.448345e+18 \tLatent loss: 4.6447203e+18\n",
      "41 Train total loss: -5.3851034e+18 \tReconstruction loss: -1.0594973e+19 \tLatent loss: 5.20987e+18\n",
      "42 Train total loss: -6.020531e+18 \tReconstruction loss: -1.1847293e+19 \tLatent loss: 5.826762e+18\n",
      "43 Train total loss: -6.712282e+18 \tReconstruction loss: -1.3209511e+19 \tLatent loss: 6.4972286e+18\n",
      "44 Train total loss: -7.469073e+18 \tReconstruction loss: -1.4690068e+19 \tLatent loss: 7.220995e+18\n",
      "45 Train total loss: -8.2738085e+18 \tReconstruction loss: -1.6281344e+19 \tLatent loss: 8.0075354e+18\n",
      "46 Train total loss: -9.1606647e+18 \tReconstruction loss: -1.8016571e+19 \tLatent loss: 8.8559065e+18\n",
      "47 Train total loss: -1.0101702e+19 \tReconstruction loss: -1.987659e+19 \tLatent loss: 9.774889e+18\n",
      "48 Train total loss: -1.1123158e+19 \tReconstruction loss: -2.18805e+19 \tLatent loss: 1.0757341e+19\n",
      "49% Train total loss: -1.2218629e+19 \tReconstruction loss: -2.4036776e+19 \tLatent loss: 1.1818147e+19\n"
     ]
    }
   ],
   "source": [
    "n_epochs = 50\n",
    "batch_size = 150\n",
    "\n",
    "with tf.Session() as sess:\n",
    "    init.run()\n",
    "    for epoch in range(n_epochs):\n",
    "        #n_batches = mnist.train.num_examples // batch_size\n",
    "        n_batches = data_reader.num_batches\n",
    "        for iteration in range(n_batches):\n",
    "            print(\"\\r{}%\".format(100 * iteration // n_batches), end=\"\")\n",
    "            sys.stdout.flush()\n",
    "            X_batch, y_batch = data_reader.next_batch()\n",
    "            #X_batch, y_batch = mnist.train.next_batch(batch_size)\n",
    "            sess.run(training_op, feed_dict={X: X_batch})\n",
    "        loss_val, reconstruction_loss_val, latent_loss_val = sess.run([loss, reconstruction_loss, latent_loss], feed_dict={X: X_batch})\n",
    "        print(\"\\r{}\".format(epoch), \"Train total loss:\", loss_val, \"\\tReconstruction loss:\", reconstruction_loss_val, \"\\tLatent loss:\", latent_loss_val)\n",
    "        saver.save(sess, \"./my_model_variational.ckpt\")"
   ]
  },
  {
   "cell_type": "code",
   "execution_count": null,
   "metadata": {
    "collapsed": true
   },
   "outputs": [],
   "source": [
    "# VFAE"
   ]
  },
  {
   "cell_type": "code",
   "execution_count": 47,
   "metadata": {
    "collapsed": true
   },
   "outputs": [],
   "source": [
    "from tensorflow.contrib.layers import fully_connected, batch_norm\n",
    "from datetime import datetime"
   ]
  },
  {
   "cell_type": "markdown",
   "metadata": {},
   "source": [
    "###  Functions"
   ]
  },
  {
   "cell_type": "code",
   "execution_count": 48,
   "metadata": {
    "collapsed": true
   },
   "outputs": [],
   "source": [
    "def show_reconstructed_digits(X, outputs, model_path = None, n_test_digits = 2):\n",
    "    with tf.Session() as sess:\n",
    "        if model_path:\n",
    "            saver.restore(sess, model_path)\n",
    "        X_test = mnist.test.images[:n_test_digits]\n",
    "        outputs_val = outputs.eval(feed_dict={X: X_test})\n",
    "\n",
    "    fig = plt.figure(figsize=(8, 3 * n_test_digits))\n",
    "    for digit_index in range(n_test_digits):\n",
    "        plt.subplot(n_test_digits, 2, digit_index * 2 + 1)\n",
    "        plot_image(X_test[digit_index])\n",
    "        plt.subplot(n_test_digits, 2, digit_index * 2 + 2)\n",
    "        plot_image(outputs_val[digit_index])"
   ]
  },
  {
   "cell_type": "markdown",
   "metadata": {},
   "source": [
    "### Construction Phase\n",
    "\n",
    "We will construct the graph for the VFAE architecture:\n",
    "\n",
    "    Input: X = [X_without_s, s], where s is the sensitive feature\n",
    "\n",
    "    Middle Encodings: We're learning the parameters for the distribution of the encodings. What's different here is that we inject both the response y and the sensitive features in the middle layers.\n",
    "\n",
    "    Output: X_copy"
   ]
  },
  {
   "cell_type": "code",
   "execution_count": 49,
   "metadata": {
    "collapsed": true
   },
   "outputs": [],
   "source": [
    "# Construction phase\n",
    "# n_s = 10 # number of sensitive features\n",
    "# n_inputs = 28*28 - n_s # number of non-sensitive features\n",
    "n_s = 1 # number of sensitive features\n",
    "n_inputs = 35 - n_s # number of non-sensitive features\n",
    "\n",
    "# encoders\n",
    "n_hidden1 = 500\n",
    "n_hidden2 = 20 # codings\n",
    "n_hidden3 = 500\n",
    "n_hidden4 = 20\n",
    "\n",
    "# decoders\n",
    "n_hidden5 = 500\n",
    "n_hidden6 = 20\n",
    "n_hidden7 = 500\n",
    "\n",
    "# final output can take a random sample from the posterior\n",
    "n_outputs = n_inputs + n_s"
   ]
  },
  {
   "cell_type": "code",
   "execution_count": 50,
   "metadata": {
    "collapsed": true
   },
   "outputs": [],
   "source": [
    "### Training rates\n",
    "alpha = 1\n",
    "learning_rate = 0.001"
   ]
  },
  {
   "cell_type": "code",
   "execution_count": 51,
   "metadata": {
    "collapsed": true
   },
   "outputs": [],
   "source": [
    "### Setting up the graph\n",
    "with tf.contrib.framework.arg_scope(\n",
    "        [fully_connected],\n",
    "        activation_fn = tf.nn.elu,\n",
    "        weights_initializer = tf.contrib.layers.variance_scaling_initializer()):\n",
    "    X = tf.placeholder(tf.float32, shape = [None, n_inputs], name=\"X_wo_s\")\n",
    "    s = tf.placeholder(tf.float32, shape = [None, n_s], name=\"s\")\n",
    "    X_full = tf.concat([X,s], axis=1)\n",
    "    y = tf.placeholder(tf.int32, shape = [None, 1], name=\"y\") # for your example, switch this to tf.float32 bc you'll be doing reg\n",
    "    is_unlabelled = tf.placeholder(tf.bool, shape=(), name='is_training') # don't worry about this\n",
    "    with tf.name_scope(\"X_encoder\"):\n",
    "        hidden1 = fully_connected(tf.concat([X, s], axis=1), n_hidden1)\n",
    "        hidden2_mean = fully_connected(hidden1, n_hidden2, activation_fn = None)\n",
    "        hidden2_gamma = fully_connected(hidden1, n_hidden2, activation_fn = None)\n",
    "        hidden2_sigma = tf.exp(0.5 * hidden2_gamma)\n",
    "    noise1 = tf.random_normal(tf.shape(hidden2_sigma), dtype=tf.float32)\n",
    "    hidden2 = hidden2_mean + hidden2_sigma * noise1         # z1\n",
    "    with tf.name_scope(\"Z1_encoder\"):\n",
    "        hidden3_ygz1 = fully_connected(hidden2, n_hidden4, activation_fn = tf.nn.tanh)\n",
    "        hidden4_softmax_mean = fully_connected(hidden3_ygz1, 10, activation_fn = tf.nn.softmax)\n",
    "        if is_unlabelled == True:\n",
    "            # impute by sampling from q(y|z1)\n",
    "            y = tf.assign(y, tf.multinomial(hidden4_softmax_mean, 1,\n",
    "                                output_type = tf.int32))\n",
    "        hidden3 = fully_connected(tf.concat([hidden2, tf.cast(y, tf.float32)], axis=1),\n",
    "                        n_hidden3, activation_fn=tf.nn.tanh)\n",
    "        hidden4_mean = fully_connected(hidden3, n_hidden4, activation_fn = None)\n",
    "        hidden4_gamma = fully_connected(hidden3, n_hidden4, activation_fn = None)\n",
    "        hidden4_sigma = tf.exp(0.5 * hidden4_gamma)\n",
    "    noise2 = tf.random_normal(tf.shape(hidden4_sigma), dtype=tf.float32)\n",
    "    hidden4 = hidden4_mean + hidden4_sigma * noise2     # z2\n",
    "    with tf.name_scope(\"Z1_decoder\"):\n",
    "        hidden5 = fully_connected(tf.concat([hidden4, tf.cast(y, tf.float32)], axis=1 ),\n",
    "                    n_hidden5, activation_fn = tf.nn.tanh)\n",
    "        hidden6_mean = fully_connected(hidden5, n_hidden6, activation_fn = None)\n",
    "        hidden6_gamma = fully_connected(hidden5, n_hidden6, activation_fn = None)\n",
    "        hidden6_sigma = tf.exp(0.5 * hidden6_gamma)\n",
    "    noise3 = tf.random_normal(tf.shape(hidden6_sigma), dtype=tf.float32)\n",
    "    hidden6 = hidden6_mean + hidden6_sigma * noise3     # z1 (decoded)\n",
    "    with tf.name_scope(\"X_decoder\"):\n",
    "        hidden7 = fully_connected(tf.concat([hidden6, s], axis=1), n_hidden7,\n",
    "                                 activation_fn = tf.nn.tanh)\n",
    "        hidden8 = fully_connected(hidden7, n_outputs, activation_fn = None)\n",
    "    outputs = tf.sigmoid(hidden8, name=\"decoded_X\")"
   ]
  },
  {
   "cell_type": "markdown",
   "metadata": {},
   "source": [
    "### Loss Function: ELBO"
   ]
  },
  {
   "cell_type": "code",
   "execution_count": 52,
   "metadata": {
    "collapsed": true
   },
   "outputs": [],
   "source": [
    "# expected lower bound\n",
    "with tf.name_scope(\"ELB\"):\n",
    "    kl_z2 = 0.5 * tf.reduce_sum(\n",
    "                    tf.exp(hidden4_gamma)\n",
    "                    + tf.square(hidden4_mean)\n",
    "                    - 1\n",
    "                    - hidden4_gamma\n",
    "                    )\n",
    "\n",
    "    kl_z1 = 0.5 * (tf.reduce_sum(\n",
    "                    (1 / (1e-10 + tf.exp(hidden6_gamma))) * tf.exp(hidden2_gamma)\n",
    "                    - 1\n",
    "                    + hidden6_gamma\n",
    "                    - hidden2_gamma\n",
    "                    ) + tf.einsum('ij,ji -> i', # this might not work for you depending on version of tflow\n",
    "                        (hidden6_mean-hidden2_mean) * (1 / (1e-10 + tf.exp(hidden6_gamma))),\n",
    "                        tf.transpose((hidden6_mean-hidden2_mean))))\n",
    "\n",
    "    indices = tf.range(tf.shape(y)[0])\n",
    "    indices = tf.concat([indices[:, tf.newaxis], y], axis=1)\n",
    "    eps = 1e-10\n",
    "    log_q_y_z1 = tf.reduce_sum(tf.log(eps + tf.gather_nd(hidden4_softmax_mean, indices)))\n",
    "\n",
    "    # Bernoulli log-likelihood\n",
    "    reconstruction_loss = -(tf.reduce_sum(X_full * tf.log(outputs)\n",
    "                            + (1 - X_full) * tf.log(1 - outputs)))\n",
    "    cost = kl_z2 + kl_z1 + reconstruction_loss + alpha * log_q_y_z1"
   ]
  },
  {
   "cell_type": "code",
   "execution_count": 53,
   "metadata": {
    "collapsed": true
   },
   "outputs": [],
   "source": [
    "optimizer = tf.train.AdamOptimizer(learning_rate=learning_rate)\n",
    "training_op = optimizer.minimize(cost)"
   ]
  },
  {
   "cell_type": "markdown",
   "metadata": {},
   "source": [
    "### Initialize Graph & Load Data"
   ]
  },
  {
   "cell_type": "code",
   "execution_count": 54,
   "metadata": {
    "collapsed": true
   },
   "outputs": [],
   "source": [
    "init = tf.global_variables_initializer()"
   ]
  },
  {
   "cell_type": "code",
   "execution_count": 55,
   "metadata": {},
   "outputs": [
    {
     "name": "stdout",
     "output_type": "stream",
     "text": [
      "\r",
      "0%"
     ]
    },
    {
     "ename": "ValueError",
     "evalue": "Cannot feed value of shape (150, 1, 1) for Tensor 'y:0', which has shape '(?, 1)'",
     "output_type": "error",
     "traceback": [
      "\u001b[1;31m---------------------------------------------------------------------------\u001b[0m",
      "\u001b[1;31mValueError\u001b[0m                                Traceback (most recent call last)",
      "\u001b[1;32m<ipython-input-55-278706b2c350>\u001b[0m in \u001b[0;36m<module>\u001b[1;34m()\u001b[0m\n\u001b[0;32m     16\u001b[0m                                     \u001b[0ms\u001b[0m\u001b[1;33m:\u001b[0m \u001b[0mX_batch\u001b[0m\u001b[1;33m[\u001b[0m\u001b[1;33m:\u001b[0m\u001b[1;33m,\u001b[0m\u001b[1;33m-\u001b[0m\u001b[0mn_s\u001b[0m\u001b[1;33m:\u001b[0m\u001b[1;33m]\u001b[0m\u001b[1;33m,\u001b[0m\u001b[1;33m\u001b[0m\u001b[0m\n\u001b[0;32m     17\u001b[0m                                     \u001b[0my\u001b[0m\u001b[1;33m:\u001b[0m \u001b[0my_batch\u001b[0m\u001b[1;33m[\u001b[0m\u001b[1;33m:\u001b[0m\u001b[1;33m,\u001b[0m\u001b[0mnp\u001b[0m\u001b[1;33m.\u001b[0m\u001b[0mnewaxis\u001b[0m\u001b[1;33m]\u001b[0m\u001b[1;33m,\u001b[0m\u001b[1;33m\u001b[0m\u001b[0m\n\u001b[1;32m---> 18\u001b[1;33m                                     is_unlabelled: False})\n\u001b[0m\u001b[0;32m     19\u001b[0m         kl_z2_val, kl_z1_val, log_q_y_z1_val, reconstruction_loss_val, loss_val = sess.run([\n\u001b[0;32m     20\u001b[0m                 \u001b[0mkl_z2\u001b[0m\u001b[1;33m,\u001b[0m\u001b[1;33m\u001b[0m\u001b[0m\n",
      "\u001b[1;32m~\\Anaconda3\\lib\\site-packages\\tensorflow\\python\\client\\session.py\u001b[0m in \u001b[0;36mrun\u001b[1;34m(self, fetches, feed_dict, options, run_metadata)\u001b[0m\n\u001b[0;32m    787\u001b[0m     \u001b[1;32mtry\u001b[0m\u001b[1;33m:\u001b[0m\u001b[1;33m\u001b[0m\u001b[0m\n\u001b[0;32m    788\u001b[0m       result = self._run(None, fetches, feed_dict, options_ptr,\n\u001b[1;32m--> 789\u001b[1;33m                          run_metadata_ptr)\n\u001b[0m\u001b[0;32m    790\u001b[0m       \u001b[1;32mif\u001b[0m \u001b[0mrun_metadata\u001b[0m\u001b[1;33m:\u001b[0m\u001b[1;33m\u001b[0m\u001b[0m\n\u001b[0;32m    791\u001b[0m         \u001b[0mproto_data\u001b[0m \u001b[1;33m=\u001b[0m \u001b[0mtf_session\u001b[0m\u001b[1;33m.\u001b[0m\u001b[0mTF_GetBuffer\u001b[0m\u001b[1;33m(\u001b[0m\u001b[0mrun_metadata_ptr\u001b[0m\u001b[1;33m)\u001b[0m\u001b[1;33m\u001b[0m\u001b[0m\n",
      "\u001b[1;32m~\\Anaconda3\\lib\\site-packages\\tensorflow\\python\\client\\session.py\u001b[0m in \u001b[0;36m_run\u001b[1;34m(self, handle, fetches, feed_dict, options, run_metadata)\u001b[0m\n\u001b[0;32m    973\u001b[0m                 \u001b[1;34m'Cannot feed value of shape %r for Tensor %r, '\u001b[0m\u001b[1;33m\u001b[0m\u001b[0m\n\u001b[0;32m    974\u001b[0m                 \u001b[1;34m'which has shape %r'\u001b[0m\u001b[1;33m\u001b[0m\u001b[0m\n\u001b[1;32m--> 975\u001b[1;33m                 % (np_val.shape, subfeed_t.name, str(subfeed_t.get_shape())))\n\u001b[0m\u001b[0;32m    976\u001b[0m           \u001b[1;32mif\u001b[0m \u001b[1;32mnot\u001b[0m \u001b[0mself\u001b[0m\u001b[1;33m.\u001b[0m\u001b[0mgraph\u001b[0m\u001b[1;33m.\u001b[0m\u001b[0mis_feedable\u001b[0m\u001b[1;33m(\u001b[0m\u001b[0msubfeed_t\u001b[0m\u001b[1;33m)\u001b[0m\u001b[1;33m:\u001b[0m\u001b[1;33m\u001b[0m\u001b[0m\n\u001b[0;32m    977\u001b[0m             \u001b[1;32mraise\u001b[0m \u001b[0mValueError\u001b[0m\u001b[1;33m(\u001b[0m\u001b[1;34m'Tensor %s may not be fed.'\u001b[0m \u001b[1;33m%\u001b[0m \u001b[0msubfeed_t\u001b[0m\u001b[1;33m)\u001b[0m\u001b[1;33m\u001b[0m\u001b[0m\n",
      "\u001b[1;31mValueError\u001b[0m: Cannot feed value of shape (150, 1, 1) for Tensor 'y:0', which has shape '(?, 1)'"
     ]
    }
   ],
   "source": [
    "# Training\n",
    "n_epochs = 50\n",
    "batch_size = 100\n",
    "n_digits = 60\n",
    "\n",
    "with tf.Session() as sess:\n",
    "    init.run()\n",
    "    for epoch in range(n_epochs):\n",
    "        # n_batches = mnist.train.num_examples // batch_size\n",
    "        n_batches = data_reader.num_batches\n",
    "        for iteration in range(n_batches):\n",
    "            print(\"\\r{}%\".format(100 * iteration // n_batches), end=\"\")\n",
    "            X_batch, y_batch = data_reader.next_batch()\n",
    "            # X_batch, y_batch = mnist.train.next_batch(batch_size)\n",
    "            sess.run(training_op, feed_dict={X: X_batch[:,:-n_s],\n",
    "                                    s: X_batch[:,-n_s:],\n",
    "                                    y: y_batch[:,np.newaxis],\n",
    "                                    is_unlabelled: False})\n",
    "        kl_z2_val, kl_z1_val, log_q_y_z1_val, reconstruction_loss_val, loss_val = sess.run([\n",
    "                kl_z2,\n",
    "                kl_z1,\n",
    "                log_q_y_z1,\n",
    "                reconstruction_loss,\n",
    "                cost],\n",
    "                feed_dict={X: X_batch[:,:-n_s],\n",
    "                        s: X_batch[:,-n_s:],\n",
    "                        y: y_batch[:,np.newaxis]})\n",
    "        print(\"\\r{}\".format(epoch), \"Train total loss:\", loss_val,\n",
    "         \"\\tReconstruction loss:\", reconstruction_loss_val,\n",
    "          \"\\tKL-z1:\", kl_z1_val,\n",
    "          \"\\tKL-z2:\", kl_z2_val,\n",
    "          \"\\tlog_q(y|z1):\", log_q_y_z1_val)"
   ]
  }
 ],
 "metadata": {
  "kernelspec": {
   "display_name": "Python 3",
   "language": "python",
   "name": "python3"
  },
  "language_info": {
   "codemirror_mode": {
    "name": "ipython",
    "version": 3
   },
   "file_extension": ".py",
   "mimetype": "text/x-python",
   "name": "python",
   "nbconvert_exporter": "python",
   "pygments_lexer": "ipython3",
   "version": "3.6.3"
  }
 },
 "nbformat": 4,
 "nbformat_minor": 2
}
