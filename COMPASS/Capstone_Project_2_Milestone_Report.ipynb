{
 "cells": [
  {
   "cell_type": "markdown",
   "metadata": {},
   "source": [
    "# Machine Bias\n",
    "# \n",
    "\"\"\"\n",
    "https://www.propublica.org/article/how-we-analyzed-the-compas-recidivism-algorithm\n",
    "\n",
    "Context\n",
    "COMPAS (Correctional Offender Management Profiling for Alternative Sanctions) is a popular commercial algorithm used by judges\n",
    "and parole officers for scoring criminal defendant’s likelihood of reoffending (recidivism). It has been shown that the algorithm\n",
    "is biased in favor of white defendants, and against black inmates, based on a 2 year follow up study (i.e who actually committed\n",
    "crimes or violent crimes after 2 years). The pattern of mistakes, as measured by precision/sensitivity is notable.\n",
    "\n",
    "Quoting from ProPublica: \n",
    "\n",
    "Black defendants were often predicted to be at a higher risk of recidivism than they actually were. Our analysis found that black defendants\n",
    "who did not recidivate over a two-year period were nearly twice as likely to be misclassified as higher risk compared to their white counterparts\n",
    "(45 percent vs. 23 percent). White defendants were often predicted to be less risky than they were. Our analysis found that white defendants who\n",
    "re-offended within the next two years were mistakenly labeled low risk almost twice as often as black re-offenders (48 percent vs. 28 percent).\n",
    "The analysis also showed that even when controlling for prior crimes, future recidivism, age, and gender, black defendants were 45 percent more\n",
    "likely to be assigned higher risk scores than white defendants.\n",
    "\n",
    "Black defendants were also twice as likely as white defendants to be misclassified as being a higher risk of violent recidivism. And white violent\n",
    "recidivists were 63 percent more likely to have been misclassified as a low risk of violent recidivism, compared with black violent recidivists.\n",
    "The violent recidivism analysis also showed that even when controlling for prior crimes, future recidivism, age, and gender, black defendants were\n",
    "77 percent more likely to be assigned higher risk scores than white defendants. \"\n",
    "\n",
    "Content\n",
    "Data contains variables used by the COMPAS algorithm in scoring defendants, along with their outcomes within 2 years of the decision, for over\n",
    "10,000 criminal defendants in Broward County, Florida. 3 subsets of the data are provided, including a subset of only violent\n",
    "recividism (as opposed to, e.g. being reincarcerated for non violent offenses such as vagrancy or Marijuana).\n",
    "\n",
    "Indepth analysis by ProPublica can be found in their data methodology article.\n",
    "\n",
    "\n",
    "\n",
    "Each pretrial defendant received at least three COMPAS scores:  (DisplayText)\n",
    "“Risk of Recidivism,”\n",
    "“Risk of Violence” \n",
    "“Risk of Failure to Appear.”\n",
    "\n",
    "COMPAS scores for each defendant ranged from1 to 10, with ten being the highest risk. Scores (ScoreTex)\n",
    "1 to 4 were labeled by COMPAS as “Low”;\n",
    "5 to 7 were labeled “Medium”; and\n",
    "8 to 10 were labeled “High.”\n",
    "\n",
    "\n",
    "Columns\n",
    "0 - 4  : 'Person_ID','AssessmentID','Case_ID','Agency_Text', 'LastName',\n",
    "5 - 9  : 'FirstName', 'MiddleName', 'Sex_Code_Text', 'Ethnic_Code_Text','DateOfBirth',\n",
    "10 - 14: 'ScaleSet_ID', 'ScaleSet', 'AssessmentReason','Language', 'LegalStatus',\n",
    "15 - 19: 'CustodyStatus', 'MaritalStatus','Screening_Date', 'RecSupervisionLevel', 'RecSupervisionLevelText',\n",
    "20 - 24: 'Scale_ID', 'DisplayText', 'RawScore', 'DecileScore', 'ScoreText',\n",
    "25 - 27: 'AssessmentType', 'IsCompleted', 'IsDeleted'"
   ]
  },
  {
   "cell_type": "code",
   "execution_count": 1,
   "metadata": {
    "collapsed": true
   },
   "outputs": [],
   "source": [
    "# loading libraries\n",
    "import pandas as pd\n",
    "import numpy as np\n",
    "import matplotlib.pyplot as plt\n",
    "# For preprocessing the data\n",
    "from sklearn.preprocessing import Imputer\n",
    "from sklearn import preprocessing\n",
    "# Standardizing\n",
    "from sklearn.preprocessing import StandardScaler\n",
    "# To split the dataset into train and test datasets\n",
    "from sklearn.model_selection import train_test_split\n",
    "# To calculate the accuracy score of the model\n",
    "from sklearn.metrics import classification_report, confusion_matrix, accuracy_score\n",
    "#\n",
    "from datetime import datetime\n",
    "from datetime import date\n",
    "#\n",
    "from sklearn.preprocessing import LabelEncoder\n",
    "from sklearn.preprocessing import OneHotEncoder\n",
    "#\n",
    "import collections\n"
   ]
  },
  {
   "cell_type": "code",
   "execution_count": 2,
   "metadata": {
    "collapsed": true
   },
   "outputs": [],
   "source": [
    "# load dataset\n",
    "pthfnm = \"./compas-scores-raw.csv\"\n",
    "df = pd.read_csv(pthfnm)"
   ]
  },
  {
   "cell_type": "code",
   "execution_count": 3,
   "metadata": {},
   "outputs": [
    {
     "name": "stdout",
     "output_type": "stream",
     "text": [
      "(60843, 28)\n",
      "<class 'pandas.core.frame.DataFrame'>\n",
      "RangeIndex: 60843 entries, 0 to 60842\n",
      "Data columns (total 28 columns):\n",
      "Person_ID                  60843 non-null int64\n",
      "AssessmentID               60843 non-null int64\n",
      "Case_ID                    60843 non-null int64\n",
      "Agency_Text                60843 non-null object\n",
      "LastName                   60843 non-null object\n",
      "FirstName                  60843 non-null object\n",
      "MiddleName                 15648 non-null object\n",
      "Sex_Code_Text              60843 non-null object\n",
      "Ethnic_Code_Text           60843 non-null object\n",
      "DateOfBirth                60843 non-null object\n",
      "ScaleSet_ID                60843 non-null int64\n",
      "ScaleSet                   60843 non-null object\n",
      "AssessmentReason           60843 non-null object\n",
      "Language                   60843 non-null object\n",
      "LegalStatus                60843 non-null object\n",
      "CustodyStatus              60843 non-null object\n",
      "MaritalStatus              60843 non-null object\n",
      "Screening_Date             60843 non-null object\n",
      "RecSupervisionLevel        60843 non-null int64\n",
      "RecSupervisionLevelText    60843 non-null object\n",
      "Scale_ID                   60843 non-null int64\n",
      "DisplayText                60843 non-null object\n",
      "RawScore                   60843 non-null float64\n",
      "DecileScore                60843 non-null int64\n",
      "ScoreText                  60798 non-null object\n",
      "AssessmentType             60843 non-null object\n",
      "IsCompleted                60843 non-null int64\n",
      "IsDeleted                  60843 non-null int64\n",
      "dtypes: float64(1), int64(9), object(18)\n",
      "memory usage: 13.0+ MB\n",
      "None\n"
     ]
    }
   ],
   "source": [
    "# initial EDA\n",
    "print(df.shape)\n",
    "print(df.info())"
   ]
  },
  {
   "cell_type": "code",
   "execution_count": 4,
   "metadata": {},
   "outputs": [
    {
     "name": "stdout",
     "output_type": "stream",
     "text": [
      "['Caucasian' 'African-American' 'Hispanic' 'Other' 'Asian' 'African-Am'\n",
      " 'Native American' 'Oriental' 'Arabic']\n"
     ]
    }
   ],
   "source": [
    "# Review data and Manipulate Data\n",
    "\n",
    "# Ethnic_Code_Text\n",
    "print(df.Ethnic_Code_Text.unique())"
   ]
  },
  {
   "cell_type": "code",
   "execution_count": 5,
   "metadata": {},
   "outputs": [
    {
     "name": "stdout",
     "output_type": "stream",
     "text": [
      "African-American    27069\n",
      "Caucasian           21783\n",
      "Hispanic             8742\n",
      "Other                2592\n",
      "Asian                 324\n",
      "Native American       219\n",
      "Arabic                 75\n",
      "Oriental               39\n",
      "Name: Ethnic_Code_Text, dtype: int64\n"
     ]
    }
   ],
   "source": [
    "# update 'Ethnic_Code_Text' to have conistent values for African Americans\n",
    "df.loc[df['Ethnic_Code_Text'] == 'African-Am', 'Ethnic_Code_Text'] = 'African-American'\n",
    "print(pd.value_counts(df['Ethnic_Code_Text']))"
   ]
  },
  {
   "cell_type": "code",
   "execution_count": 6,
   "metadata": {},
   "outputs": [
    {
     "name": "stdout",
     "output_type": "stream",
     "text": [
      "45\n"
     ]
    }
   ],
   "source": [
    "# DecileScore should be between 1 & 10, delete otherwise\n",
    "df.DecileScore.unique()\n",
    "print((df['DecileScore'] < 1).sum())"
   ]
  },
  {
   "cell_type": "code",
   "execution_count": 7,
   "metadata": {},
   "outputs": [
    {
     "name": "stdout",
     "output_type": "stream",
     "text": [
      "1     18465\n",
      "2      9192\n",
      "3      8492\n",
      "4      5338\n",
      "5      4831\n",
      "6      4319\n",
      "7      3338\n",
      "8      2799\n",
      "9      2386\n",
      "10     1638\n",
      "Name: DecileScore, dtype: int64\n"
     ]
    }
   ],
   "source": [
    "# remove DecileScore < 1\n",
    "df = df[df.DecileScore >= 1]\n",
    "print(pd.value_counts(df['DecileScore']))"
   ]
  },
  {
   "cell_type": "code",
   "execution_count": 8,
   "metadata": {},
   "outputs": [
    {
     "name": "stdout",
     "output_type": "stream",
     "text": [
      "black : (27053, 28)  white:  (21765, 28)  joint:  (48818, 28)\n"
     ]
    }
   ],
   "source": [
    "# slice and dice\n",
    "\n",
    "# Slice by 'Ethnic_Code_Text' for blacks & whites\n",
    "black = df.loc[df['Ethnic_Code_Text'] == 'African-American']\n",
    "white = df.loc[df['Ethnic_Code_Text'] == 'Caucasian']\n",
    "joint = df.loc[df['Ethnic_Code_Text'].isin (['Caucasian','African-American'])]\n",
    "print('black :', black.shape, ' white: ', white.shape, ' joint: ', joint.shape)"
   ]
  },
  {
   "cell_type": "code",
   "execution_count": 9,
   "metadata": {},
   "outputs": [
    {
     "name": "stdout",
     "output_type": "stream",
     "text": [
      "male : (47479, 28)  female:  (13319, 28)\n"
     ]
    }
   ],
   "source": [
    "# Slice by 'Sex_Code_Text' for males & females\n",
    "male = df.loc[df['Sex_Code_Text'] == 'Male']\n",
    "female = df.loc[df['Sex_Code_Text'] == 'Female']\n",
    "print('male :', male.shape, ' female: ', female.shape)"
   ]
  },
  {
   "cell_type": "code",
   "execution_count": 10,
   "metadata": {},
   "outputs": [
    {
     "name": "stdout",
     "output_type": "stream",
     "text": [
      "Appear: (20281, 28)  Violence:  (20272, 28)  Recidivism: (20245, 28)\n"
     ]
    }
   ],
   "source": [
    "# Slice by 'DisplayText' for Risk\n",
    "RiskAppear = df.loc[df['DisplayText'] == 'Risk of Failure to Appear']\n",
    "RiskViolence = df.loc[df['DisplayText'] == 'Risk of Violence']\n",
    "RiskRecidivism = df.loc[df['DisplayText'] == 'Risk of Recidivism']\n",
    "print('Appear:', RiskAppear.shape, ' Violence: ', RiskViolence.shape,  ' Recidivism:',RiskRecidivism.shape)"
   ]
  },
  {
   "cell_type": "code",
   "execution_count": 11,
   "metadata": {},
   "outputs": [
    {
     "name": "stdout",
     "output_type": "stream",
     "text": [
      "Race:  (8, 27)  Gender: (2, 27)\n"
     ]
    }
   ],
   "source": [
    "# Aggregate\n",
    "grprace = df.groupby(['Ethnic_Code_Text']).count()\n",
    "grpgender = df.groupby(['Sex_Code_Text']).count()\n",
    "print('Race: ',grprace.shape, ' Gender:', grpgender.shape)"
   ]
  },
  {
   "cell_type": "markdown",
   "metadata": {},
   "source": [
    "# EDA  - looking at potential bias\n",
    "\n"
   ]
  },
  {
   "cell_type": "code",
   "execution_count": 12,
   "metadata": {},
   "outputs": [
    {
     "data": {
      "text/html": [
       "<div>\n",
       "<style>\n",
       "    .dataframe thead tr:only-child th {\n",
       "        text-align: right;\n",
       "    }\n",
       "\n",
       "    .dataframe thead th {\n",
       "        text-align: left;\n",
       "    }\n",
       "\n",
       "    .dataframe tbody tr th {\n",
       "        vertical-align: top;\n",
       "    }\n",
       "</style>\n",
       "<table border=\"1\" class=\"dataframe\">\n",
       "  <thead>\n",
       "    <tr style=\"text-align: right;\">\n",
       "      <th></th>\n",
       "      <th>DecileScore</th>\n",
       "    </tr>\n",
       "    <tr>\n",
       "      <th>Ethnic_Code_Text</th>\n",
       "      <th></th>\n",
       "    </tr>\n",
       "  </thead>\n",
       "  <tbody>\n",
       "    <tr>\n",
       "      <th>African-American</th>\n",
       "      <td>44.50</td>\n",
       "    </tr>\n",
       "    <tr>\n",
       "      <th>Arabic</th>\n",
       "      <td>0.12</td>\n",
       "    </tr>\n",
       "    <tr>\n",
       "      <th>Asian</th>\n",
       "      <td>0.53</td>\n",
       "    </tr>\n",
       "    <tr>\n",
       "      <th>Caucasian</th>\n",
       "      <td>35.80</td>\n",
       "    </tr>\n",
       "    <tr>\n",
       "      <th>Hispanic</th>\n",
       "      <td>14.36</td>\n",
       "    </tr>\n",
       "    <tr>\n",
       "      <th>Native American</th>\n",
       "      <td>0.36</td>\n",
       "    </tr>\n",
       "    <tr>\n",
       "      <th>Oriental</th>\n",
       "      <td>0.06</td>\n",
       "    </tr>\n",
       "    <tr>\n",
       "      <th>Other</th>\n",
       "      <td>4.26</td>\n",
       "    </tr>\n",
       "  </tbody>\n",
       "</table>\n",
       "</div>"
      ],
      "text/plain": [
       "                  DecileScore\n",
       "Ethnic_Code_Text             \n",
       "African-American        44.50\n",
       "Arabic                   0.12\n",
       "Asian                    0.53\n",
       "Caucasian               35.80\n",
       "Hispanic                14.36\n",
       "Native American          0.36\n",
       "Oriental                 0.06\n",
       "Other                    4.26"
      ]
     },
     "execution_count": 12,
     "metadata": {},
     "output_type": "execute_result"
    }
   ],
   "source": [
    "## Display distribution of group data\n",
    "# % data distribution by Ethnic_Code_Text\n",
    "round(grprace[['DecileScore']]/len(df),4)*100"
   ]
  },
  {
   "cell_type": "code",
   "execution_count": null,
   "metadata": {
    "collapsed": true
   },
   "outputs": [],
   "source": [
    "# There are more African Americans (45%) in the dataset, eventhough in the county African American only make \n",
    "# up (30%) of the population"
   ]
  },
  {
   "cell_type": "code",
   "execution_count": 13,
   "metadata": {},
   "outputs": [
    {
     "data": {
      "text/html": [
       "<div>\n",
       "<style>\n",
       "    .dataframe thead tr:only-child th {\n",
       "        text-align: right;\n",
       "    }\n",
       "\n",
       "    .dataframe thead th {\n",
       "        text-align: left;\n",
       "    }\n",
       "\n",
       "    .dataframe tbody tr th {\n",
       "        vertical-align: top;\n",
       "    }\n",
       "</style>\n",
       "<table border=\"1\" class=\"dataframe\">\n",
       "  <thead>\n",
       "    <tr style=\"text-align: right;\">\n",
       "      <th></th>\n",
       "      <th>DecileScore</th>\n",
       "    </tr>\n",
       "    <tr>\n",
       "      <th>Sex_Code_Text</th>\n",
       "      <th></th>\n",
       "    </tr>\n",
       "  </thead>\n",
       "  <tbody>\n",
       "    <tr>\n",
       "      <th>Female</th>\n",
       "      <td>21.91</td>\n",
       "    </tr>\n",
       "    <tr>\n",
       "      <th>Male</th>\n",
       "      <td>78.09</td>\n",
       "    </tr>\n",
       "  </tbody>\n",
       "</table>\n",
       "</div>"
      ],
      "text/plain": [
       "               DecileScore\n",
       "Sex_Code_Text             \n",
       "Female               21.91\n",
       "Male                 78.09"
      ]
     },
     "execution_count": 13,
     "metadata": {},
     "output_type": "execute_result"
    }
   ],
   "source": [
    "# % data distribution by Sex_Code_Text\n",
    "round(grpgender[['DecileScore']]/len(df),4)*100\n"
   ]
  },
  {
   "cell_type": "code",
   "execution_count": null,
   "metadata": {
    "collapsed": true
   },
   "outputs": [],
   "source": [
    "# There are more males (78%) in the dataset, eventhough in the county males make \n",
    "# up (49%) of the population"
   ]
  },
  {
   "cell_type": "code",
   "execution_count": 14,
   "metadata": {},
   "outputs": [
    {
     "name": "stdout",
     "output_type": "stream",
     "text": [
      "Mean DecileScore by Race\n",
      "Caucasian -  3.11\n",
      "African-American -  4.29\n",
      "Hispanic -  2.86\n",
      "Other -  2.51\n",
      "Asian -  2.37\n",
      "Native American -  4.05\n",
      "Oriental -  2.74\n",
      "Arabic -  3.13\n"
     ]
    }
   ],
   "source": [
    "# DecileScore Mean by race\n",
    "race=df.Ethnic_Code_Text.unique()\n",
    "print('Mean DecileScore by Race')\n",
    "for i in race:\n",
    "    mn = round(df.loc[df['Ethnic_Code_Text'] == i]['DecileScore'].mean(), 2)\n",
    "    print(i,'- ',mn)"
   ]
  },
  {
   "cell_type": "code",
   "execution_count": null,
   "metadata": {
    "collapsed": true
   },
   "outputs": [],
   "source": [
    "# Mean DecileScore is highest for African Americans"
   ]
  },
  {
   "cell_type": "code",
   "execution_count": 15,
   "metadata": {},
   "outputs": [
    {
     "name": "stdout",
     "output_type": "stream",
     "text": [
      "Mean DecileScore by Gender\n",
      "Male -  3.66\n",
      "Female -  3.26\n"
     ]
    }
   ],
   "source": [
    "# DecileScore Mean by gender\n",
    "gender=df.Sex_Code_Text.unique()\n",
    "print('Mean DecileScore by Gender')\n",
    "for i in gender:\n",
    "    mn = round(df.loc[df['Sex_Code_Text'] == i]['DecileScore'].mean(), 2)\n",
    "    print(i,'- ',mn)"
   ]
  },
  {
   "cell_type": "code",
   "execution_count": null,
   "metadata": {
    "collapsed": true
   },
   "outputs": [],
   "source": [
    "# Mean DecileScore is highest for males"
   ]
  },
  {
   "cell_type": "code",
   "execution_count": null,
   "metadata": {
    "collapsed": true
   },
   "outputs": [],
   "source": [
    "# Visualize"
   ]
  },
  {
   "cell_type": "code",
   "execution_count": 16,
   "metadata": {
    "collapsed": true
   },
   "outputs": [],
   "source": [
    "# Define grp_plot_compare:\n",
    "# creates groups and then plot them to compare them\n",
    "def grp_plot_compare(df1, df2, xlabel1, colnm1, total_pop, multby, title,label1, label2):\n",
    "    grp1 = df1.groupby([xlabel1]).count()\n",
    "    grp2 = df2.groupby([xlabel1]).count()\n",
    "    \n",
    "#   to be used for weighted average  \n",
    "    div1 = len(df1)\n",
    "    div2 = len(df2)\n",
    "    \n",
    "    n_groups = len(grp1)\n",
    "# create plot\n",
    "    fig, ax = plt.subplots()\n",
    "    index = np.arange(n_groups)\n",
    "    bar_width = 0.35\n",
    "    opacity = 0.8\n",
    "\n",
    "    rects1 = plt.bar(grp1.index,(round(grp1[colnm1]/div1,2)*multby), bar_width,\n",
    "                 alpha=opacity,\n",
    "                 color='b',\n",
    "                 label=label1)\n",
    "\n",
    "    rects2 = plt.bar(grp2.index+ bar_width, (round(grp2[colnm1]/div2,2)*multby), bar_width,\n",
    "                 alpha=opacity,\n",
    "                 color='g',\n",
    "                 label=label2)\n",
    "\n",
    "    plt.xlabel(xlabel1)\n",
    "    if total_pop > 1:\n",
    "        plt.ylabel('Percentage')\n",
    "    else:\n",
    "        plt.ylabel('Count')\n",
    "    plt.title(title)\n",
    "    plt.legend()\n",
    "    plt.tight_layout()\n",
    "    plt.show()\n",
    "    plt.clf()"
   ]
  },
  {
   "cell_type": "code",
   "execution_count": 17,
   "metadata": {},
   "outputs": [
    {
     "data": {
      "image/png": "[encoded data removed]",
      "text/plain": [
       "<matplotlib.figure.Figure at 0x166bf4d1d68>"
      ]
     },
     "metadata": {},
     "output_type": "display_data"
    }
   ],
   "source": [
    "# Comparing White & Black defendants on the  'DecileScore'\n",
    "grp_plot_compare(white, black, 'DecileScore','Ethnic_Code_Text', len(df), 100, \\\n",
    "                 'DecileScore by Blacks & Whites ', \\\n",
    "                 'white','black')"
   ]
  },
  {
   "cell_type": "code",
   "execution_count": null,
   "metadata": {
    "collapsed": true
   },
   "outputs": [],
   "source": [
    "# Whites have lower Decile Scores and Blacks have higher Decile Scores"
   ]
  },
  {
   "cell_type": "code",
   "execution_count": 18,
   "metadata": {},
   "outputs": [
    {
     "data": {
      "text/plain": [
       "<matplotlib.figure.Figure at 0x166c00cee80>"
      ]
     },
     "metadata": {},
     "output_type": "display_data"
    },
    {
     "data": {
      "image/png": "[encoded data removed]",
      "text/plain": [
       "<matplotlib.figure.Figure at 0x166c012f080>"
      ]
     },
     "metadata": {},
     "output_type": "display_data"
    }
   ],
   "source": [
    "# Comparing Male & Female defendants on the  'DecileScore'\n",
    "grp_plot_compare(female, male, 'DecileScore','Sex_Code_Text', len(df), 100, \\\n",
    "                 'Scores by Females & Males ', \\\n",
    "                 'Females','Males')\n"
   ]
  },
  {
   "cell_type": "code",
   "execution_count": null,
   "metadata": {
    "collapsed": true
   },
   "outputs": [],
   "source": [
    "# Females have lower Decile Scores and Males have higher Decile Scores"
   ]
  },
  {
   "cell_type": "code",
   "execution_count": 19,
   "metadata": {
    "scrolled": true
   },
   "outputs": [
    {
     "data": {
      "text/plain": [
       "<matplotlib.figure.Figure at 0x166c02b8080>"
      ]
     },
     "metadata": {},
     "output_type": "display_data"
    },
    {
     "data": {
      "image/png": "[encoded data removed]",
      "text/plain": [
       "<matplotlib.figure.Figure at 0x166c02ee9e8>"
      ]
     },
     "metadata": {},
     "output_type": "display_data"
    }
   ],
   "source": [
    "####################################################################################\n",
    "# Histogram overlay\n",
    "fig, ax = plt.subplots()\n",
    "black['DecileScore'].hist(bins=10, figsize=[14,6],color='g',alpha=.8 )\n",
    "white['DecileScore'].hist(bins=10, figsize=[14,6],color='b',alpha=.5 )\n",
    "plt.title('Histogram overlay of Blacks (green) & Whites (blue)')\n",
    "plt.legend()\n",
    "plt.xlabel('DecileScore')\n",
    "plt.ylabel('Count')\n",
    "plt.show()\n",
    "plt.clf()"
   ]
  },
  {
   "cell_type": "markdown",
   "metadata": {},
   "source": [
    "# Feature Engineering"
   ]
  },
  {
   "cell_type": "code",
   "execution_count": 20,
   "metadata": {
    "collapsed": true
   },
   "outputs": [],
   "source": [
    "# Add column 'Age' from DateofBirth\n",
    "agelist = []\n",
    "currdate = date.today()\n",
    "for dte in df['DateOfBirth']:\n",
    "    brthdte = datetime.strptime(dte, '%m/%d/%y')\n",
    "    mnthday = (currdate.month, currdate.day) < (brthdte.month, brthdte.day)\n",
    "    if currdate.year > brthdte.year:\n",
    "        agelist.append(currdate.year - brthdte.year - (mnthday))\n",
    "    else:\n",
    "        agelist.append(-1)\n",
    "        "
   ]
  },
  {
   "cell_type": "code",
   "execution_count": 21,
   "metadata": {},
   "outputs": [
    {
     "name": "stdout",
     "output_type": "stream",
     "text": [
      "60798 60798\n",
      "Index(['Person_ID', 'AssessmentID', 'Case_ID', 'Agency_Text', 'LastName',\n",
      "       'FirstName', 'MiddleName', 'Sex_Code_Text', 'Ethnic_Code_Text',\n",
      "       'DateOfBirth', 'ScaleSet_ID', 'ScaleSet', 'AssessmentReason',\n",
      "       'Language', 'LegalStatus', 'CustodyStatus', 'MaritalStatus',\n",
      "       'Screening_Date', 'RecSupervisionLevel', 'RecSupervisionLevelText',\n",
      "       'Scale_ID', 'DisplayText', 'RawScore', 'DecileScore', 'ScoreText',\n",
      "       'AssessmentType', 'IsCompleted', 'IsDeleted', 'Age'],\n",
      "      dtype='object')\n"
     ]
    }
   ],
   "source": [
    "print(len(agelist), len(df))\n",
    "df['Age'] = agelist\n",
    "print(df.columns)"
   ]
  },
  {
   "cell_type": "code",
   "execution_count": 22,
   "metadata": {},
   "outputs": [
    {
     "data": {
      "text/plain": [
       "12782"
      ]
     },
     "execution_count": 22,
     "metadata": {},
     "output_type": "execute_result"
    }
   ],
   "source": [
    "# cleanup bad Ages\n",
    "# remove DecileScore < 1\n",
    "(df['Age'] < 1).sum()"
   ]
  },
  {
   "cell_type": "code",
   "execution_count": 23,
   "metadata": {},
   "outputs": [
    {
     "data": {
      "text/plain": [
       "0"
      ]
     },
     "execution_count": 23,
     "metadata": {},
     "output_type": "execute_result"
    }
   ],
   "source": [
    "df = df[df.Age >= 1]\n",
    "(df['Age'] < 1).sum()"
   ]
  },
  {
   "cell_type": "code",
   "execution_count": 24,
   "metadata": {},
   "outputs": [
    {
     "data": {
      "text/plain": [
       "count    48016.000000\n",
       "mean        33.030323\n",
       "std          7.185404\n",
       "min         20.000000\n",
       "25%         27.000000\n",
       "50%         32.000000\n",
       "75%         38.000000\n",
       "max         49.000000\n",
       "Name: Age, dtype: float64"
      ]
     },
     "execution_count": 24,
     "metadata": {},
     "output_type": "execute_result"
    }
   ],
   "source": [
    "df['Age'].describe()"
   ]
  },
  {
   "cell_type": "code",
   "execution_count": 33,
   "metadata": {},
   "outputs": [
    {
     "name": "stdout",
     "output_type": "stream",
     "text": [
      "Appear: (16016, 29)  Violence:  (16010, 29)  Recidivism: (15990, 29)\n"
     ]
    }
   ],
   "source": [
    "# Slice by 'DisplayText' for Risk\n",
    "RiskAppear = df.loc[df['DisplayText'] == 'Risk of Failure to Appear']\n",
    "RiskViolence = df.loc[df['DisplayText'] == 'Risk of Violence']\n",
    "RiskRecidivism = df.loc[df['DisplayText'] == 'Risk of Recidivism']\n",
    "print('Appear:', RiskAppear.shape, ' Violence: ', RiskViolence.shape,  ' Recidivism:',RiskRecidivism.shape)"
   ]
  },
  {
   "cell_type": "code",
   "execution_count": null,
   "metadata": {
    "collapsed": true
   },
   "outputs": [],
   "source": [
    "# More feature engineering using Label encoder and One-Hot encoder"
   ]
  },
  {
   "cell_type": "markdown",
   "metadata": {},
   "source": [
    "# Running ML models"
   ]
  },
  {
   "cell_type": "markdown",
   "metadata": {},
   "source": [
    "# Train, Evaluate, and Select a Model"
   ]
  },
  {
   "cell_type": "code",
   "execution_count": 35,
   "metadata": {
    "collapsed": true
   },
   "outputs": [],
   "source": [
    "# Define prepare_data_for_ml_model_1:\n",
    "def prepare_data_for_ml_model_1(dfx, target_loc):\n",
    "    # Create new Dataset of selected columns to get prepare TEST and Training data for  ML model \n",
    "     \n",
    "    \"\"\"\n",
    "    Columns\n",
    "    0 - 4  : 'Person_ID','AssessmentID','Case_ID','Agency_Text', 'LastName',\n",
    "    5 - 9  : 'FirstName', 'MiddleName', 'Sex_Code_Text', 'Ethnic_Code_Text','DateOfBirth',\n",
    "    10 - 14: 'ScaleSet_ID', 'ScaleSet', 'AssessmentReason','Language', 'LegalStatus',\n",
    "    15 - 19: 'CustodyStatus', 'MaritalStatus','Screening_Date', 'RecSupervisionLevel', 'RecSupervisionLevelText',\n",
    "    20 - 24: 'Scale_ID', 'DisplayText', 'RawScore', 'DecileScore', 'ScoreText',\n",
    "    25 - 28: 'AssessmentType', 'IsCompleted', 'IsDeleted','Age'\n",
    "    \"\"\"\n",
    "\n",
    "    x_df = dfx.iloc[:, [7,8,14,15,16,19]] #features\n",
    "    tmp_age = dfx.iloc[:,28].as_matrix() #age feature, convert numpy array\n",
    "    x_age = tmp_age.reshape(tmp_age.size,1)\n",
    "    \n",
    "\n",
    "    y = dfx.iloc[:,target_loc].as_matrix() #target convert numpy array\n",
    "\n",
    "\n",
    "    #  lable encoder. It encodes the data into integers\n",
    "    le = LabelEncoder()\n",
    "\n",
    "    Sex_Code_Text_cat = le.fit_transform(x_df.Sex_Code_Text)\n",
    "    Ethnic_Code_Text_cat = le.fit_transform(x_df.Ethnic_Code_Text)\n",
    "    LegalStatus_cat = le.fit_transform(x_df.LegalStatus)\n",
    "    CustodyStatus_cat = le.fit_transform(x_df.CustodyStatus)\n",
    "    MaritalStatus_cat = le.fit_transform(x_df.MaritalStatus)\n",
    "    RecSupervisionLevelText_cat = le.fit_transform(x_df.RecSupervisionLevelText)\n",
    "\n",
    "    Sex_Code_Text_cat = Sex_Code_Text_cat.reshape(len(Sex_Code_Text_cat),1)\n",
    "    Ethnic_Code_Text_cat = Ethnic_Code_Text_cat.reshape(len(Ethnic_Code_Text_cat),1)\n",
    "    LegalStatus_cat = LegalStatus_cat.reshape(len(LegalStatus_cat),1)\n",
    "    CustodyStatus_cat = CustodyStatus_cat.reshape(len(CustodyStatus_cat),1)\n",
    "    MaritalStatus_cat = MaritalStatus_cat.reshape(len(MaritalStatus_cat),1)\n",
    "    RecSupervisionLevelText_cat = RecSupervisionLevelText_cat.reshape(len(RecSupervisionLevelText_cat),1)\n",
    "\n",
    "#  One-Hot encoder. It encodes the data into binary format\n",
    "    onehote = OneHotEncoder(sparse=False)\n",
    "    \n",
    "    Sex_Code_Text_oh = onehote.fit_transform(Sex_Code_Text_cat)\n",
    "    Ethnic_Code_Text_oh = onehote.fit_transform(Ethnic_Code_Text_cat)\n",
    "    LegalStatus_oh = onehote.fit_transform(LegalStatus_cat)\n",
    "    CustodyStatus_oh = onehote.fit_transform(CustodyStatus_cat)\n",
    "    MaritalStatus_oh = onehote.fit_transform(MaritalStatus_cat)\n",
    "    RecSupervisionLevelText_oh = onehote.fit_transform(RecSupervisionLevelText_cat)\n",
    "\n",
    "# Build out feature dataset as numpy array, since One-Hot encoder creates numpy array\n",
    "    X_feature =  Sex_Code_Text_oh\n",
    "    X_feature = np.concatenate((X_feature,Ethnic_Code_Text_oh), axis=1)\n",
    "    X_feature = np.concatenate((X_feature,LegalStatus_oh), axis=1)\n",
    "    X_feature = np.concatenate((X_feature,CustodyStatus_oh), axis=1)\n",
    "    X_feature = np.concatenate((X_feature,MaritalStatus_oh), axis=1)\n",
    "    X_feature = np.concatenate((X_feature,RecSupervisionLevelText_oh), axis=1)\n",
    "    X_feature = np.concatenate((X_feature,x_age), axis=1)\n",
    "\n",
    "# Split data train and test\n",
    "    X_train, X_test, y_train, y_test = train_test_split(X_feature, y, test_size=0.2)\n",
    "    print('Length for X_train:', len(X_train), ' X_test:',len(X_test), ' y_train:',len(y_train) ,' y_test:',len(y_test))\n",
    "\n",
    "    return X_train, X_test, y_train, y_test"
   ]
  },
  {
   "cell_type": "code",
   "execution_count": 48,
   "metadata": {
    "collapsed": true
   },
   "outputs": [],
   "source": [
    "# Define ml_model_1:\n",
    "# takes in model Instantiate model (model)\n",
    "# fits, predicts, and evaluates (prints results)\n",
    "def ml_model_1(model, modelnm, dfnm, X_train, X_test, y_train, y_test, target):\n",
    "    print('Running ', modelnm, ' model for :', dfnm, ' using target: ', target)\n",
    "\n",
    "    model.fit(X_train, y_train)\n",
    "    y_pred = model.predict(X_test)\n",
    "\n",
    "    #Evaluate\n",
    "    print(modelnm,' score: ',model.score(X_test, y_test))\n",
    "    print(' ')\n",
    "    print('first 10 predicted values: ',y_pred[0:10])\n",
    "    print('first 10 values of target: ')\n",
    "    print(y_test[0:10])\n",
    "    print(' ')\n",
    "\n",
    "    print('mean of predicted of values: ',np.mean(y_pred), ' STD of predicted of values : ', np.std(y_pred) )\n",
    "    print('describe of target')\n",
    "    print('mean of predicted of values: ',np.mean(y_test), ' STD of predicted of values : ', np.std(y_test) )\n",
    "\n",
    "    return y_pred"
   ]
  },
  {
   "cell_type": "code",
   "execution_count": null,
   "metadata": {
    "collapsed": true
   },
   "outputs": [],
   "source": [
    "# MLPRegressor"
   ]
  },
  {
   "cell_type": "code",
   "execution_count": 49,
   "metadata": {
    "collapsed": true
   },
   "outputs": [],
   "source": [
    "from sklearn.neural_network import MLPRegressor\n",
    "\n",
    "clf = MLPRegressor(alpha=0.001, hidden_layer_sizes = (10,), max_iter = 50000, \n",
    "                 activation = 'logistic', verbose = 'True', learning_rate = 'adaptive')"
   ]
  },
  {
   "cell_type": "code",
   "execution_count": 50,
   "metadata": {},
   "outputs": [
    {
     "name": "stdout",
     "output_type": "stream",
     "text": [
      "Length for X_train: 12808  X_test: 3202  y_train: 12808  y_test: 3202\n"
     ]
    }
   ],
   "source": [
    "# MLPRegressor - RiskViolence dataset target RawScore (22)\n",
    "# Preparing the data\n",
    "X_train, X_test, y_train, y_test = prepare_data_for_ml_model_1(RiskViolence,22)"
   ]
  },
  {
   "cell_type": "code",
   "execution_count": 51,
   "metadata": {},
   "outputs": [
    {
     "name": "stdout",
     "output_type": "stream",
     "text": [
      "Running  MLPRegressor  model for : RiskViolence  using target:  RawScore\n",
      "Iteration 1, loss = 2.08621372\n",
      "Iteration 2, loss = 0.64900681\n",
      "Iteration 3, loss = 0.27194653\n",
      "Iteration 4, loss = 0.25274068\n",
      "Iteration 5, loss = 0.23733573\n",
      "Iteration 6, loss = 0.21079300\n",
      "Iteration 7, loss = 0.18292073\n",
      "Iteration 8, loss = 0.15713627\n",
      "Iteration 9, loss = 0.13478836\n",
      "Iteration 10, loss = 0.11700994\n",
      "Iteration 11, loss = 0.10356468\n",
      "Iteration 12, loss = 0.09361889\n",
      "Iteration 13, loss = 0.08642701\n",
      "Iteration 14, loss = 0.08121584\n",
      "Iteration 15, loss = 0.07720991\n",
      "Iteration 16, loss = 0.07445236\n",
      "Iteration 17, loss = 0.07229519\n",
      "Iteration 18, loss = 0.07065360\n",
      "Iteration 19, loss = 0.06933459\n",
      "Iteration 20, loss = 0.06840406\n",
      "Iteration 21, loss = 0.06749435\n",
      "Iteration 22, loss = 0.06676693\n",
      "Iteration 23, loss = 0.06617134\n",
      "Iteration 24, loss = 0.06573268\n",
      "Iteration 25, loss = 0.06523605\n",
      "Iteration 26, loss = 0.06497891\n",
      "Iteration 27, loss = 0.06449973\n",
      "Iteration 28, loss = 0.06425165\n",
      "Iteration 29, loss = 0.06375961\n",
      "Iteration 30, loss = 0.06349019\n",
      "Iteration 31, loss = 0.06320403\n",
      "Iteration 32, loss = 0.06297377\n",
      "Iteration 33, loss = 0.06278527\n",
      "Iteration 34, loss = 0.06270395\n",
      "Iteration 35, loss = 0.06226800\n",
      "Iteration 36, loss = 0.06209166\n",
      "Iteration 37, loss = 0.06203126\n",
      "Iteration 38, loss = 0.06216794\n",
      "Iteration 39, loss = 0.06169655\n",
      "Iteration 40, loss = 0.06153646\n",
      "Iteration 41, loss = 0.06140486\n",
      "Iteration 42, loss = 0.06120719\n",
      "Iteration 43, loss = 0.06126911\n",
      "Iteration 44, loss = 0.06098760\n",
      "Iteration 45, loss = 0.06110679\n",
      "Iteration 46, loss = 0.06071722\n",
      "Iteration 47, loss = 0.06073379\n",
      "Iteration 48, loss = 0.06054813\n",
      "Iteration 49, loss = 0.06052702\n",
      "Iteration 50, loss = 0.06042512\n",
      "Iteration 51, loss = 0.06049930\n",
      "Iteration 52, loss = 0.06022535\n",
      "Iteration 53, loss = 0.06026177\n",
      "Iteration 54, loss = 0.06038212\n",
      "Iteration 55, loss = 0.06026331\n",
      "Training loss did not improve more than tol=0.000100 for two consecutive epochs. Stopping.\n",
      "MLPRegressor  score:  0.7991285969829444\n",
      " \n",
      "first 10 predicted values:  [-2.28008133 -2.39941825 -1.75093232 -1.68871306 -2.38184326 -2.47579521\n",
      " -2.12789553 -2.72571937 -2.85349706 -2.28612533]\n",
      "first 10 values of target: \n",
      "[-2.11 -1.74 -1.86 -1.25 -2.06 -2.64 -1.76 -3.17 -3.08 -2.33]\n",
      " \n",
      "mean of predicted of values:  -2.250263562381364  STD of predicted of values :  0.6888873766405289\n",
      "describe of target\n",
      "mean of predicted of values:  -2.2779856339787634  STD of predicted of values :  0.7680425054885245\n"
     ]
    },
    {
     "data": {
      "text/plain": [
       "array([-2.28008133, -2.39941825, -1.75093232, ..., -2.18279423,\n",
       "       -3.38399673, -1.36211774])"
      ]
     },
     "execution_count": 51,
     "metadata": {},
     "output_type": "execute_result"
    }
   ],
   "source": [
    "# Predicting and getting score\n",
    "ml_model_1(clf, 'MLPRegressor', 'RiskViolence', X_train, X_test, y_train, y_test, 'RawScore')"
   ]
  },
  {
   "cell_type": "code",
   "execution_count": null,
   "metadata": {
    "collapsed": true
   },
   "outputs": [],
   "source": [
    "# Running  MLPRegressor  model for : RiskViolence  using target:  RawScore\n",
    "#  score:  0.7991285969829444"
   ]
  },
  {
   "cell_type": "code",
   "execution_count": 52,
   "metadata": {
    "scrolled": true
   },
   "outputs": [
    {
     "name": "stdout",
     "output_type": "stream",
     "text": [
      "Length for X_train: 12792  X_test: 3198  y_train: 12792  y_test: 3198\n"
     ]
    }
   ],
   "source": [
    "# MLPRegressor - RiskRecidivism dataset target RawScore (22)\n",
    "X_train, X_test, y_train, y_test = prepare_data_for_ml_model_1(RiskRecidivism,22)"
   ]
  },
  {
   "cell_type": "code",
   "execution_count": 53,
   "metadata": {
    "scrolled": true
   },
   "outputs": [
    {
     "name": "stdout",
     "output_type": "stream",
     "text": [
      "Running  MLPRegressor  model for : RiskRecidivism  using target:  RawScore\n",
      "Iteration 1, loss = 0.26672495\n",
      "Iteration 2, loss = 0.21064967\n",
      "Iteration 3, loss = 0.16216172\n",
      "Iteration 4, loss = 0.13225670\n",
      "Iteration 5, loss = 0.11163707\n",
      "Iteration 6, loss = 0.09636202\n",
      "Iteration 7, loss = 0.08435888\n",
      "Iteration 8, loss = 0.07454403\n",
      "Iteration 9, loss = 0.06963847\n",
      "Iteration 10, loss = 0.06754194\n",
      "Iteration 11, loss = 0.06649270\n",
      "Iteration 12, loss = 0.06583040\n",
      "Iteration 13, loss = 0.06556066\n",
      "Iteration 14, loss = 0.06555123\n",
      "Iteration 15, loss = 0.06524557\n",
      "Iteration 16, loss = 0.06514484\n",
      "Iteration 17, loss = 0.06510033\n",
      "Iteration 18, loss = 0.06553975\n",
      "Iteration 19, loss = 0.06491469\n",
      "Iteration 20, loss = 0.06498886\n",
      "Iteration 21, loss = 0.06468869\n",
      "Iteration 22, loss = 0.06465106\n",
      "Iteration 23, loss = 0.06450404\n",
      "Iteration 24, loss = 0.06462371\n",
      "Iteration 25, loss = 0.06470707\n",
      "Iteration 26, loss = 0.06456066\n",
      "Training loss did not improve more than tol=0.000100 for two consecutive epochs. Stopping.\n",
      "MLPRegressor  score:  0.7623471847337094\n",
      " \n",
      "first 10 predicted values:  [-1.04940271 -0.71585198 -1.32141611 -0.91866495 -1.12016371  0.43583414\n",
      " -1.10102144 -0.18049342 -0.95191002 -0.98267576]\n",
      "first 10 values of target: \n",
      "[-0.97 -0.39 -1.73 -0.96 -1.3   0.9  -1.17 -0.17 -0.91 -1.18]\n",
      " \n",
      "mean of predicted of values:  -0.5464029557036786  STD of predicted of values :  0.6520080129528434\n",
      "describe of target\n",
      "mean of predicted of values:  -0.5824484052532833  STD of predicted of values :  0.7524062980409776\n"
     ]
    },
    {
     "data": {
      "text/plain": [
       "array([-1.04940271, -0.71585198, -1.32141611, ..., -0.10569741,\n",
       "       -1.01694912,  0.41985795])"
      ]
     },
     "execution_count": 53,
     "metadata": {},
     "output_type": "execute_result"
    }
   ],
   "source": [
    "# Predicting and getting score\n",
    "ml_model_1(clf, 'MLPRegressor', 'RiskRecidivism', X_train, X_test, y_train, y_test, 'RawScore')"
   ]
  },
  {
   "cell_type": "code",
   "execution_count": null,
   "metadata": {
    "collapsed": true
   },
   "outputs": [],
   "source": [
    "# MLPRegressor  model for : RiskRecidivism  using target:  RawScore\n",
    "#  score:  0.7623471847337094"
   ]
  },
  {
   "cell_type": "code",
   "execution_count": 55,
   "metadata": {},
   "outputs": [
    {
     "name": "stdout",
     "output_type": "stream",
     "text": [
      "Length for X_train: 12808  X_test: 3202  y_train: 12808  y_test: 3202\n",
      "Running  MLPRegressor  model for : RiskViolence  using target:  DecileScore\n",
      "Iteration 1, loss = 7.20353259\n",
      "Iteration 2, loss = 5.22078987\n",
      "Iteration 3, loss = 4.02220266\n",
      "Iteration 4, loss = 3.55016279\n",
      "Iteration 5, loss = 3.30301570\n",
      "Iteration 6, loss = 3.17578622\n",
      "Iteration 7, loss = 3.11325690\n",
      "Iteration 8, loss = 3.08440802\n",
      "Iteration 9, loss = 3.07075305\n",
      "Iteration 10, loss = 3.06546669\n",
      "Iteration 11, loss = 3.06267385\n",
      "Iteration 12, loss = 3.06084106\n",
      "Iteration 13, loss = 3.05951934\n",
      "Iteration 14, loss = 3.05827900\n",
      "Iteration 15, loss = 3.05655018\n",
      "Iteration 16, loss = 3.05413697\n",
      "Iteration 17, loss = 3.04721674\n",
      "Iteration 18, loss = 2.90081035\n",
      "Iteration 19, loss = 2.65998526\n",
      "Iteration 20, loss = 2.53197800\n",
      "Iteration 21, loss = 2.41706377\n",
      "Iteration 22, loss = 2.30460678\n",
      "Iteration 23, loss = 2.19467593\n",
      "Iteration 24, loss = 2.08681178\n",
      "Iteration 25, loss = 1.98589664\n",
      "Iteration 26, loss = 1.89191376\n",
      "Iteration 27, loss = 1.80426559\n",
      "Iteration 28, loss = 1.72358363\n",
      "Iteration 29, loss = 1.64970843\n",
      "Iteration 30, loss = 1.58267079\n",
      "Iteration 31, loss = 1.51921680\n",
      "Iteration 32, loss = 1.46303820\n",
      "Iteration 33, loss = 1.40889856\n",
      "Iteration 34, loss = 1.36032665\n",
      "Iteration 35, loss = 1.31570372\n",
      "Iteration 36, loss = 1.27507127\n",
      "Iteration 37, loss = 1.23638017\n",
      "Iteration 38, loss = 1.20153775\n",
      "Iteration 39, loss = 1.16944446\n",
      "Iteration 40, loss = 1.13835842\n",
      "Iteration 41, loss = 1.11088633\n",
      "Iteration 42, loss = 1.08379436\n",
      "Iteration 43, loss = 1.05987748\n",
      "Iteration 44, loss = 1.03798443\n",
      "Iteration 45, loss = 1.01552478\n",
      "Iteration 46, loss = 0.99502104\n",
      "Iteration 47, loss = 0.97613041\n",
      "Iteration 48, loss = 0.95647616\n",
      "Iteration 49, loss = 0.94016965\n",
      "Iteration 50, loss = 0.92238408\n",
      "Iteration 51, loss = 0.90625102\n",
      "Iteration 52, loss = 0.89071531\n",
      "Iteration 53, loss = 0.87625479\n",
      "Iteration 54, loss = 0.86094132\n",
      "Iteration 55, loss = 0.84589232\n",
      "Iteration 56, loss = 0.83008352\n",
      "Iteration 57, loss = 0.80489205\n",
      "Iteration 58, loss = 0.77416317\n",
      "Iteration 59, loss = 0.74358125\n",
      "Iteration 60, loss = 0.71828807\n",
      "Iteration 61, loss = 0.69562051\n",
      "Iteration 62, loss = 0.67755512\n",
      "Iteration 63, loss = 0.66200446\n",
      "Iteration 64, loss = 0.64812548\n",
      "Iteration 65, loss = 0.63625623\n",
      "Iteration 66, loss = 0.62613206\n",
      "Iteration 67, loss = 0.61767180\n",
      "Iteration 68, loss = 0.60947431\n",
      "Iteration 69, loss = 0.60352969\n",
      "Iteration 70, loss = 0.59725061\n",
      "Iteration 71, loss = 0.59284207\n",
      "Iteration 72, loss = 0.58889482\n",
      "Iteration 73, loss = 0.58404441\n",
      "Iteration 74, loss = 0.58238112\n",
      "Iteration 75, loss = 0.57920151\n",
      "Iteration 76, loss = 0.57607859\n",
      "Iteration 77, loss = 0.57438783\n",
      "Iteration 78, loss = 0.57335572\n",
      "Iteration 79, loss = 0.57148524\n",
      "Iteration 80, loss = 0.57046011\n",
      "Iteration 81, loss = 0.56843598\n",
      "Iteration 82, loss = 0.56745196\n",
      "Iteration 83, loss = 0.56693401\n",
      "Iteration 84, loss = 0.56654490\n",
      "Iteration 85, loss = 0.56505750\n",
      "Iteration 86, loss = 0.56515567\n",
      "Iteration 87, loss = 0.56758288\n",
      "Iteration 88, loss = 0.56345884\n",
      "Iteration 89, loss = 0.56325049\n",
      "Iteration 90, loss = 0.56332833\n",
      "Iteration 91, loss = 0.56312598\n",
      "Iteration 92, loss = 0.56271496\n",
      "Iteration 93, loss = 0.56282867\n",
      "Iteration 94, loss = 0.56275440\n",
      "Iteration 95, loss = 0.56171338\n",
      "Iteration 96, loss = 0.56220330\n",
      "Iteration 97, loss = 0.56195231\n",
      "Iteration 98, loss = 0.56145135\n",
      "Iteration 99, loss = 0.56241992\n",
      "Iteration 100, loss = 0.56127203\n",
      "Iteration 101, loss = 0.56141014\n",
      "Iteration 102, loss = 0.56196993\n",
      "Iteration 103, loss = 0.56125661\n",
      "Training loss did not improve more than tol=0.000100 for two consecutive epochs. Stopping.\n",
      "MLPRegressor  score:  0.8189767335097896\n",
      " \n",
      "first 10 predicted values:  [4.9227644  4.63290985 4.8743944  7.25394449 4.56093065 4.87442604\n",
      " 1.82667282 1.32770193 1.73751411 1.40903595]\n",
      "first 10 values of target: \n",
      "[4 3 3 7 3 6 1 1 1 1]\n",
      " \n",
      "mean of predicted of values:  3.7674651984094965  STD of predicted of values :  2.2102948049668547\n",
      "describe of target\n",
      "mean of predicted of values:  3.7866958151155528  STD of predicted of values :  2.470520333621938\n"
     ]
    },
    {
     "data": {
      "text/plain": [
       "array([4.9227644 , 4.63290985, 4.8743944 , ..., 8.96950544, 2.64896815,\n",
       "       3.99204643])"
      ]
     },
     "execution_count": 55,
     "metadata": {},
     "output_type": "execute_result"
    }
   ],
   "source": [
    "# MLPRegressor - RiskViolence dataset target DecileScore (23)\n",
    "X_train, X_test, y_train, y_test = prepare_data_for_ml_model_1(RiskViolence,23)\n",
    "ml_model_1(clf, 'MLPRegressor','RiskViolence', X_train, X_test, y_train, y_test, 'DecileScore')"
   ]
  },
  {
   "cell_type": "code",
   "execution_count": null,
   "metadata": {
    "collapsed": true
   },
   "outputs": [],
   "source": [
    "# Running  MLPRegressor  model for : RiskViolence  using target:  DecileScore\n",
    "# score 0.8189767335097896"
   ]
  },
  {
   "cell_type": "code",
   "execution_count": 56,
   "metadata": {},
   "outputs": [
    {
     "name": "stdout",
     "output_type": "stream",
     "text": [
      "Length for X_train: 12792  X_test: 3198  y_train: 12792  y_test: 3198\n",
      "Running  MLPRegressor  model for : RiskRecidivism  using target:  DecileScore\n",
      "Iteration 1, loss = 12.85544492\n",
      "Iteration 2, loss = 8.25033617\n",
      "Iteration 3, loss = 5.66191719\n",
      "Iteration 4, loss = 4.89177071\n",
      "Iteration 5, loss = 4.47713028\n",
      "Iteration 6, loss = 4.22695786\n",
      "Iteration 7, loss = 4.07597966\n",
      "Iteration 8, loss = 3.98806505\n",
      "Iteration 9, loss = 3.93889828\n",
      "Iteration 10, loss = 3.91195802\n",
      "Iteration 11, loss = 3.89766728\n",
      "Iteration 12, loss = 3.89018947\n",
      "Iteration 13, loss = 3.88548218\n",
      "Iteration 14, loss = 3.88189357\n",
      "Iteration 15, loss = 3.87719125\n",
      "Iteration 16, loss = 3.86560696\n",
      "Iteration 17, loss = 3.75481872\n",
      "Iteration 18, loss = 3.50736904\n",
      "Iteration 19, loss = 3.38205811\n",
      "Iteration 20, loss = 3.28916306\n",
      "Iteration 21, loss = 3.21116204\n",
      "Iteration 22, loss = 3.13937530\n",
      "Iteration 23, loss = 3.06440399\n",
      "Iteration 24, loss = 2.83423427\n",
      "Iteration 25, loss = 2.68104704\n",
      "Iteration 26, loss = 2.36365840\n",
      "Iteration 27, loss = 2.09345299\n",
      "Iteration 28, loss = 1.92760372\n",
      "Iteration 29, loss = 1.80015785\n",
      "Iteration 30, loss = 1.69635189\n",
      "Iteration 31, loss = 1.60848776\n",
      "Iteration 32, loss = 1.53072776\n",
      "Iteration 33, loss = 1.46092519\n",
      "Iteration 34, loss = 1.39713844\n",
      "Iteration 35, loss = 1.33870847\n",
      "Iteration 36, loss = 1.28542893\n",
      "Iteration 37, loss = 1.23483538\n",
      "Iteration 38, loss = 1.18848262\n",
      "Iteration 39, loss = 1.14365452\n",
      "Iteration 40, loss = 1.09988193\n",
      "Iteration 41, loss = 1.05141318\n",
      "Iteration 42, loss = 1.00190111\n",
      "Iteration 43, loss = 0.96226782\n",
      "Iteration 44, loss = 0.92358920\n",
      "Iteration 45, loss = 0.88533918\n",
      "Iteration 46, loss = 0.85273675\n",
      "Iteration 47, loss = 0.82642585\n",
      "Iteration 48, loss = 0.80317468\n",
      "Iteration 49, loss = 0.78329690\n",
      "Iteration 50, loss = 0.76579691\n",
      "Iteration 51, loss = 0.75087473\n",
      "Iteration 52, loss = 0.73839580\n",
      "Iteration 53, loss = 0.72762426\n",
      "Iteration 54, loss = 0.71869440\n",
      "Iteration 55, loss = 0.71086587\n",
      "Iteration 56, loss = 0.70470658\n",
      "Iteration 57, loss = 0.69841475\n",
      "Iteration 58, loss = 0.69395999\n",
      "Iteration 59, loss = 0.68948063\n",
      "Iteration 60, loss = 0.68599642\n",
      "Iteration 61, loss = 0.68134306\n",
      "Iteration 62, loss = 0.67741137\n",
      "Iteration 63, loss = 0.67427153\n",
      "Iteration 64, loss = 0.67072129\n",
      "Iteration 65, loss = 0.66882414\n",
      "Iteration 66, loss = 0.66650337\n",
      "Iteration 67, loss = 0.66321368\n",
      "Iteration 68, loss = 0.66069828\n",
      "Iteration 69, loss = 0.65871778\n",
      "Iteration 70, loss = 0.65631725\n",
      "Iteration 71, loss = 0.65377361\n",
      "Iteration 72, loss = 0.65153908\n",
      "Iteration 73, loss = 0.65015542\n",
      "Iteration 74, loss = 0.64752284\n",
      "Iteration 75, loss = 0.64659784\n",
      "Iteration 76, loss = 0.64419702\n",
      "Iteration 77, loss = 0.64273892\n",
      "Iteration 78, loss = 0.64099993\n",
      "Iteration 79, loss = 0.64018331\n",
      "Iteration 80, loss = 0.63821942\n",
      "Iteration 81, loss = 0.63697035\n",
      "Iteration 82, loss = 0.63571232\n",
      "Iteration 83, loss = 0.63480243\n",
      "Iteration 84, loss = 0.63379148\n",
      "Iteration 85, loss = 0.63209600\n",
      "Iteration 86, loss = 0.63137876\n",
      "Iteration 87, loss = 0.63005223\n",
      "Iteration 88, loss = 0.62918630\n",
      "Iteration 89, loss = 0.62763806\n",
      "Iteration 90, loss = 0.62550831\n",
      "Iteration 91, loss = 0.62323823\n",
      "Iteration 92, loss = 0.62055833\n",
      "Iteration 93, loss = 0.61875834\n",
      "Iteration 94, loss = 0.61776174\n",
      "Iteration 95, loss = 0.61654844\n",
      "Iteration 96, loss = 0.61592236\n",
      "Iteration 97, loss = 0.61564632\n",
      "Iteration 98, loss = 0.61445755\n",
      "Iteration 99, loss = 0.61344968\n",
      "Iteration 100, loss = 0.61398268\n",
      "Iteration 101, loss = 0.61228599\n",
      "Iteration 102, loss = 0.61133806\n",
      "Iteration 103, loss = 0.61068975\n",
      "Iteration 104, loss = 0.61027875\n",
      "Iteration 105, loss = 0.60981289\n",
      "Iteration 106, loss = 0.60873905\n",
      "Iteration 107, loss = 0.60921913\n",
      "Iteration 108, loss = 0.60941988\n",
      "Iteration 109, loss = 0.60826412\n",
      "Iteration 110, loss = 0.60742811\n",
      "Iteration 111, loss = 0.60668059\n",
      "Iteration 112, loss = 0.60651254\n",
      "Iteration 113, loss = 0.60640264\n",
      "Iteration 114, loss = 0.60570533\n",
      "Iteration 115, loss = 0.60512604\n",
      "Iteration 116, loss = 0.60519731\n",
      "Iteration 117, loss = 0.60454160\n",
      "Iteration 118, loss = 0.60483421\n",
      "Iteration 119, loss = 0.60433122\n",
      "Iteration 120, loss = 0.60398228\n",
      "Iteration 121, loss = 0.60424480\n",
      "Iteration 122, loss = 0.60397660\n",
      "Iteration 123, loss = 0.60402815\n",
      "Training loss did not improve more than tol=0.000100 for two consecutive epochs. Stopping.\n",
      "MLPRegressor  score:  0.839306183826078\n",
      " \n",
      "first 10 predicted values:  [2.82645097 3.22657958 2.52913782 2.93342039 9.14737793 2.60984411\n",
      " 3.57766882 3.0157062  3.56041721 2.29224246]\n",
      "first 10 values of target: \n",
      "[2 3 3 5 9 1 3 2 5 2]\n",
      " \n",
      "mean of predicted of values:  4.698471189321101  STD of predicted of values :  2.5334743677088154\n",
      "describe of target\n",
      "mean of predicted of values:  4.6898061288305195  STD of predicted of values :  2.7734044525814228\n"
     ]
    }
   ],
   "source": [
    "# MLPRegressor - RiskRecidivism dataset target DecileScore (23)\n",
    "X_train, X_test, y_train, y_test = prepare_data_for_ml_model_1(RiskRecidivism,23)\n",
    "# Predicting and getting score\n",
    "y_pred_MLPR = ml_model_1(clf, 'MLPRegressor', 'RiskRecidivism', X_train, X_test, y_train, y_test, 'DecileScore')\n"
   ]
  },
  {
   "cell_type": "code",
   "execution_count": null,
   "metadata": {
    "collapsed": true
   },
   "outputs": [],
   "source": [
    "# Running  MLPRegressor  model for : RiskRecidivism  using target:  DecileScore\n",
    "# score:  0.839306183826078"
   ]
  },
  {
   "cell_type": "code",
   "execution_count": 57,
   "metadata": {
    "collapsed": true
   },
   "outputs": [],
   "source": [
    "# LinearRegression\n",
    "from sklearn.linear_model import LinearRegression\n",
    "lr1 = LinearRegression()"
   ]
  },
  {
   "cell_type": "code",
   "execution_count": 58,
   "metadata": {},
   "outputs": [
    {
     "name": "stdout",
     "output_type": "stream",
     "text": [
      "Length for X_train: 12792  X_test: 3198  y_train: 12792  y_test: 3198\n",
      "Running  Linear  model for : RiskRecidivism  using target:  RawScore\n",
      "Linear  score:  0.7671065492720913\n",
      " \n",
      "first 10 predicted values:  [ 0.29931641 -0.15527344  0.43212891 -1.10009766 -1.13867188 -0.76123047\n",
      " -1.01757812 -1.01464844 -1.07421875 -0.88818359]\n",
      "first 10 values of target: \n",
      "[ 0.64 -0.16  0.75 -0.65 -1.6  -0.62 -1.28 -1.35 -0.64 -0.34]\n",
      " \n",
      "mean of predicted of values:  -0.5789477340574187  STD of predicted of values :  0.6510778969239339\n",
      "describe of target\n",
      "mean of predicted of values:  -0.5834146341463415  STD of predicted of values :  0.7484217106495393\n"
     ]
    },
    {
     "data": {
      "text/plain": [
       "array([ 0.29931641, -0.15527344,  0.43212891, ..., -0.95214844,\n",
       "       -0.26171875,  0.3815918 ])"
      ]
     },
     "execution_count": 58,
     "metadata": {},
     "output_type": "execute_result"
    }
   ],
   "source": [
    "# LinearRegression - RiskRecidivism dataset target RawScore (22)\n",
    "X_train, X_test, y_train, y_test = prepare_data_for_ml_model_1(RiskRecidivism,22)\n",
    "# Predicting and getting score\n",
    "ml_model_1(lr1, 'Linear', 'RiskRecidivism', X_train, X_test, y_train, y_test, 'RawScore')"
   ]
  },
  {
   "cell_type": "code",
   "execution_count": null,
   "metadata": {
    "collapsed": true
   },
   "outputs": [],
   "source": [
    "# Running  Linear  model for : RiskRecidivism  using target:  RawScore\n",
    "# score:  0.7671065492720913"
   ]
  },
  {
   "cell_type": "code",
   "execution_count": 59,
   "metadata": {},
   "outputs": [
    {
     "name": "stdout",
     "output_type": "stream",
     "text": [
      "Length for X_train: 12792  X_test: 3198  y_train: 12792  y_test: 3198\n",
      "Running  Linear  model for : RiskRecidivism  using target:  DecileScore\n",
      "Linear  score:  0.827406348277057\n",
      " \n",
      "first 10 predicted values:  [9.23974609 6.72851562 3.24316406 8.10107422 2.81445312 2.87402344\n",
      " 8.55810547 3.25634766 8.3671875  2.75488281]\n",
      "first 10 values of target: \n",
      "[9 6 2 9 5 2 5 2 8 2]\n",
      " \n",
      "mean of predicted of values:  4.776425359844043  STD of predicted of values :  2.5360231481670517\n",
      "describe of target\n",
      "mean of predicted of values:  4.749218261413383  STD of predicted of values :  2.801370669026598\n"
     ]
    },
    {
     "data": {
      "text/plain": [
       "array([9.23974609, 6.72851562, 3.24316406, ..., 2.07568359, 2.83398438,\n",
       "       2.84667969])"
      ]
     },
     "execution_count": 59,
     "metadata": {},
     "output_type": "execute_result"
    }
   ],
   "source": [
    "# LinearRegression - RiskRecidivism dataset target DecileScore (23)\n",
    "X_train, X_test, y_train, y_test = prepare_data_for_ml_model_1(RiskRecidivism,23)\n",
    "# Predicting and getting score\n",
    "ml_model_1(lr1, 'Linear', 'RiskRecidivism', X_train, X_test, y_train, y_test, 'DecileScore')"
   ]
  },
  {
   "cell_type": "code",
   "execution_count": 60,
   "metadata": {
    "collapsed": true
   },
   "outputs": [],
   "source": [
    "# Running  Linear  model for : RiskRecidivism  using target:  DecileScore\n",
    "# score:  0.827406348277057"
   ]
  },
  {
   "cell_type": "code",
   "execution_count": 61,
   "metadata": {
    "collapsed": true
   },
   "outputs": [],
   "source": [
    "# RandomForestRegressor\n",
    "# Import the model we are using\n",
    "from sklearn.ensemble import RandomForestRegressor\n",
    "\n",
    "# Instantiate model with 1000 decision trees\n",
    "rf = RandomForestRegressor(n_estimators = 1000, random_state = 42)"
   ]
  },
  {
   "cell_type": "code",
   "execution_count": 62,
   "metadata": {},
   "outputs": [
    {
     "name": "stdout",
     "output_type": "stream",
     "text": [
      "Length for X_train: 12792  X_test: 3198  y_train: 12792  y_test: 3198\n",
      "Running  RandomForestRegressor  model for : RiskRecidivism  using target:  DecileScore\n",
      "RandomForestRegressor  score:  0.8267277428935579\n",
      " \n",
      "first 10 predicted values:  [8.65465489 3.09882811 6.23816017 1.32383426 2.63270437 3.63569604\n",
      " 8.46940511 3.56385477 1.32363285 8.16574185]\n",
      "first 10 values of target: \n",
      "[10  2  4  5  2  4  9  5  1  9]\n",
      " \n",
      "mean of predicted of values:  4.790910426835234  STD of predicted of values :  2.584506865208442\n",
      "describe of target\n",
      "mean of predicted of values:  4.7636022514071295  STD of predicted of values :  2.7671396234116186\n"
     ]
    },
    {
     "data": {
      "text/plain": [
       "array([8.65465489, 3.09882811, 6.23816017, ..., 6.45114081, 2.40050517,\n",
       "       2.08397577])"
      ]
     },
     "execution_count": 62,
     "metadata": {},
     "output_type": "execute_result"
    }
   ],
   "source": [
    "# RandomForestRegressor - RiskRecidivism dataset target DecileScore (23)\n",
    "X_train, X_test, y_train, y_test = prepare_data_for_ml_model_1(RiskRecidivism,23)\n",
    "ml_model_1(rf, 'RandomForestRegressor', 'RiskRecidivism', X_train, X_test, y_train, y_test, 'DecileScore')\n"
   ]
  },
  {
   "cell_type": "code",
   "execution_count": null,
   "metadata": {
    "collapsed": true
   },
   "outputs": [],
   "source": [
    "# Running  RandomForestRegressor  model for : RiskRecidivism  using target:  DecileScore\n",
    "# score:  0.8267277428935579"
   ]
  },
  {
   "cell_type": "code",
   "execution_count": 63,
   "metadata": {},
   "outputs": [
    {
     "name": "stdout",
     "output_type": "stream",
     "text": [
      "Length for X_train: 12792  X_test: 3198  y_train: 12792  y_test: 3198\n",
      "Running  RandomForestRegressor  model for : RiskRecidivism  using target:  RawScore\n",
      "RandomForestRegressor  score:  0.7659148065359824\n",
      " \n",
      "first 10 predicted values:  [-1.42196634 -1.21726591 -0.96996057 -1.69437275 -1.09818838 -1.083798\n",
      " -1.44916898  0.69718419 -1.39898619 -1.37823091]\n",
      "first 10 values of target: \n",
      "[-2.22 -1.51 -1.02 -0.67 -1.3  -1.42 -1.69  0.95 -1.97 -1.96]\n",
      " \n",
      "mean of predicted of values:  -0.5766601315079414  STD of predicted of values :  0.6734249541578053\n",
      "describe of target\n",
      "mean of predicted of values:  -0.5864634146341463  STD of predicted of values :  0.740559914691666\n"
     ]
    },
    {
     "data": {
      "text/plain": [
       "array([-1.42196634, -1.21726591, -0.96996057, ..., -0.95669646,\n",
       "        0.20727962, -1.22911306])"
      ]
     },
     "execution_count": 63,
     "metadata": {},
     "output_type": "execute_result"
    }
   ],
   "source": [
    "# RandomForestRegressor - RiskRecidivism dataset target RawScore (22)\n",
    "X_train, X_test, y_train, y_test = prepare_data_for_ml_model_1(RiskRecidivism,22)\n",
    "ml_model_1(rf, 'RandomForestRegressor', 'RiskRecidivism', X_train, X_test, y_train, y_test, 'RawScore')"
   ]
  },
  {
   "cell_type": "code",
   "execution_count": null,
   "metadata": {
    "collapsed": true
   },
   "outputs": [],
   "source": [
    "# Running  RandomForestRegressor  model for : RiskRecidivism  using target:  RawScore\n",
    "# score:  0.7659148065359824"
   ]
  },
  {
   "cell_type": "code",
   "execution_count": 64,
   "metadata": {
    "collapsed": true
   },
   "outputs": [],
   "source": [
    "# Gaussian Naive Bayes Classifier\n",
    "# \n",
    "from sklearn.naive_bayes import GaussianNB\n",
    "Gclf = GaussianNB()\n"
   ]
  },
  {
   "cell_type": "code",
   "execution_count": 65,
   "metadata": {
    "scrolled": true
   },
   "outputs": [
    {
     "name": "stdout",
     "output_type": "stream",
     "text": [
      "Length for X_train: 12792  X_test: 3198  y_train: 12792  y_test: 3198\n",
      "Running  GaussianNB  model for : RiskRecidivism  using target:  DecileScore\n",
      "GaussianNB  score:  0.2858036272670419\n",
      " \n",
      "first 10 predicted values:  [1 1 1 8 1 1 1 6 1 7]\n",
      "first 10 values of target: \n",
      "[ 2  4  2 10  5  3  1  7  2  6]\n",
      " \n",
      "mean of predicted of values:  3.7432770481550968  STD of predicted of values :  3.1822006565117373\n",
      "describe of target\n",
      "mean of predicted of values:  4.774859287054409  STD of predicted of values :  2.780139218345568\n"
     ]
    },
    {
     "data": {
      "text/plain": [
       "array([1, 1, 1, ..., 8, 8, 1], dtype=int64)"
      ]
     },
     "execution_count": 65,
     "metadata": {},
     "output_type": "execute_result"
    }
   ],
   "source": [
    "# GaussianNB - RiskRecidivism dataset target DecileScore (23)\n",
    "X_train, X_test, y_train, y_test = prepare_data_for_ml_model_1(RiskRecidivism,23)\n",
    "ml_model_1(Gclf,'GaussianNB', 'RiskRecidivism', X_train, X_test, y_train, y_test, 'DecileScore')\n"
   ]
  },
  {
   "cell_type": "code",
   "execution_count": null,
   "metadata": {
    "collapsed": true
   },
   "outputs": [],
   "source": [
    "# Running  GaussianNB  model for : RiskRecidivism  using target:  DecileScore\n",
    "# score:  0.2858036272670419"
   ]
  },
  {
   "cell_type": "markdown",
   "metadata": {},
   "source": [
    "# Best score for Model MLPRegressor\n",
    "Running  MLPRegressor  model for : RiskRecidivism  using target:  DecileScore\n",
    " score:  0.839306183826078"
   ]
  }
 ],
 "metadata": {
  "kernelspec": {
   "display_name": "Python 3",
   "language": "python",
   "name": "python3"
  },
  "language_info": {
   "codemirror_mode": {
    "name": "ipython",
    "version": 3
   },
   "file_extension": ".py",
   "mimetype": "text/x-python",
   "name": "python",
   "nbconvert_exporter": "python",
   "pygments_lexer": "ipython3",
   "version": "3.6.3"
  }
 },
 "nbformat": 4,
 "nbformat_minor": 2
}
