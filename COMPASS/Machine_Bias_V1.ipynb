{
 "cells": [
  {
   "cell_type": "markdown",
   "metadata": {},
   "source": [
    "# Machine Bias\n",
    "# \n",
    "\"\"\"\n",
    "https://www.propublica.org/article/how-we-analyzed-the-compas-recidivism-algorithm\n",
    "\n",
    "Context\n",
    "COMPAS (Correctional Offender Management Profiling for Alternative Sanctions) is a popular commercial algorithm used by judges\n",
    "and parole officers for scoring criminal defendant’s likelihood of reoffending (recidivism). It has been shown that the algorithm\n",
    "is biased in favor of white defendants, and against black inmates, based on a 2 year follow up study (i.e who actually committed\n",
    "crimes or violent crimes after 2 years). The pattern of mistakes, as measured by precision/sensitivity is notable.\n",
    "\n",
    "Quoting from ProPublica: \n",
    "\n",
    "Black defendants were often predicted to be at a higher risk of recidivism than they actually were. Our analysis found that black defendants\n",
    "who did not recidivate over a two-year period were nearly twice as likely to be misclassified as higher risk compared to their white counterparts\n",
    "(45 percent vs. 23 percent). White defendants were often predicted to be less risky than they were. Our analysis found that white defendants who\n",
    "re-offended within the next two years were mistakenly labeled low risk almost twice as often as black re-offenders (48 percent vs. 28 percent).\n",
    "The analysis also showed that even when controlling for prior crimes, future recidivism, age, and gender, black defendants were 45 percent more\n",
    "likely to be assigned higher risk scores than white defendants.\n",
    "\n",
    "Black defendants were also twice as likely as white defendants to be misclassified as being a higher risk of violent recidivism. And white violent\n",
    "recidivists were 63 percent more likely to have been misclassified as a low risk of violent recidivism, compared with black violent recidivists.\n",
    "The violent recidivism analysis also showed that even when controlling for prior crimes, future recidivism, age, and gender, black defendants were\n",
    "77 percent more likely to be assigned higher risk scores than white defendants. \"\n",
    "\n",
    "Content\n",
    "Data contains variables used by the COMPAS algorithm in scoring defendants, along with their outcomes within 2 years of the decision, for over\n",
    "10,000 criminal defendants in Broward County, Florida. 3 subsets of the data are provided, including a subset of only violent\n",
    "recividism (as opposed to, e.g. being reincarcerated for non violent offenses such as vagrancy or Marijuana).\n",
    "\n",
    "Indepth analysis by ProPublica can be found in their data methodology article.\n",
    "\n",
    "\n",
    "\n",
    "Each pretrial defendant received at least three COMPAS scores:  (DisplayText)\n",
    "“Risk of Recidivism,”\n",
    "“Risk of Violence” \n",
    "“Risk of Failure to Appear.”\n",
    "\n",
    "COMPAS scores for each defendant ranged from1 to 10, with ten being the highest risk. Scores (ScoreTex)\n",
    "1 to 4 were labeled by COMPAS as “Low”;\n",
    "5 to 7 were labeled “Medium”; and\n",
    "8 to 10 were labeled “High.”\n",
    "\n",
    "\n",
    "Columns\n",
    "0 - 4  : 'Person_ID','AssessmentID','Case_ID','Agency_Text', 'LastName',\n",
    "5 - 9  : 'FirstName', 'MiddleName', 'Sex_Code_Text', 'Ethnic_Code_Text','DateOfBirth',\n",
    "10 - 14: 'ScaleSet_ID', 'ScaleSet', 'AssessmentReason','Language', 'LegalStatus',\n",
    "15 - 19: 'CustodyStatus', 'MaritalStatus','Screening_Date', 'RecSupervisionLevel', 'RecSupervisionLevelText',\n",
    "20 - 24: 'Scale_ID', 'DisplayText', 'RawScore', 'DecileScore', 'ScoreText',\n",
    "25 - 27: 'AssessmentType', 'IsCompleted', 'IsDeleted'"
   ]
  },
  {
   "cell_type": "code",
   "execution_count": 1,
   "metadata": {
    "collapsed": true
   },
   "outputs": [],
   "source": [
    "# loading libraries\n",
    "import pandas as pd\n",
    "import numpy as np\n",
    "import matplotlib.pyplot as plt\n",
    "# For preprocessing the data\n",
    "from sklearn.preprocessing import Imputer\n",
    "from sklearn import preprocessing\n",
    "# Standardizing\n",
    "from sklearn.preprocessing import StandardScaler\n",
    "# To split the dataset into train and test datasets\n",
    "from sklearn.model_selection import train_test_split\n",
    "# To calculate the accuracy score of the model\n",
    "from sklearn.metrics import classification_report, confusion_matrix, accuracy_score\n",
    "#\n",
    "from datetime import datetime\n",
    "from datetime import date\n",
    "#\n",
    "import collections\n"
   ]
  },
  {
   "cell_type": "code",
   "execution_count": 4,
   "metadata": {
    "collapsed": true
   },
   "outputs": [],
   "source": [
    "# load dataset\n",
    "pthfnm = \"./compas-scores-raw.csv\"\n",
    "df = pd.read_csv(pthfnm)"
   ]
  },
  {
   "cell_type": "code",
   "execution_count": 5,
   "metadata": {},
   "outputs": [
    {
     "name": "stdout",
     "output_type": "stream",
     "text": [
      "(60843, 28)\n",
      "<class 'pandas.core.frame.DataFrame'>\n",
      "RangeIndex: 60843 entries, 0 to 60842\n",
      "Data columns (total 28 columns):\n",
      "Person_ID                  60843 non-null int64\n",
      "AssessmentID               60843 non-null int64\n",
      "Case_ID                    60843 non-null int64\n",
      "Agency_Text                60843 non-null object\n",
      "LastName                   60843 non-null object\n",
      "FirstName                  60843 non-null object\n",
      "MiddleName                 15648 non-null object\n",
      "Sex_Code_Text              60843 non-null object\n",
      "Ethnic_Code_Text           60843 non-null object\n",
      "DateOfBirth                60843 non-null object\n",
      "ScaleSet_ID                60843 non-null int64\n",
      "ScaleSet                   60843 non-null object\n",
      "AssessmentReason           60843 non-null object\n",
      "Language                   60843 non-null object\n",
      "LegalStatus                60843 non-null object\n",
      "CustodyStatus              60843 non-null object\n",
      "MaritalStatus              60843 non-null object\n",
      "Screening_Date             60843 non-null object\n",
      "RecSupervisionLevel        60843 non-null int64\n",
      "RecSupervisionLevelText    60843 non-null object\n",
      "Scale_ID                   60843 non-null int64\n",
      "DisplayText                60843 non-null object\n",
      "RawScore                   60843 non-null float64\n",
      "DecileScore                60843 non-null int64\n",
      "ScoreText                  60798 non-null object\n",
      "AssessmentType             60843 non-null object\n",
      "IsCompleted                60843 non-null int64\n",
      "IsDeleted                  60843 non-null int64\n",
      "dtypes: float64(1), int64(9), object(18)\n",
      "memory usage: 13.0+ MB\n",
      "None\n"
     ]
    }
   ],
   "source": [
    "# initial EDA\n",
    "print(df.shape)\n",
    "print(df.info())"
   ]
  },
  {
   "cell_type": "code",
   "execution_count": 6,
   "metadata": {},
   "outputs": [
    {
     "name": "stdout",
     "output_type": "stream",
     "text": [
      "['Caucasian' 'African-American' 'Hispanic' 'Other' 'Asian' 'African-Am'\n",
      " 'Native American' 'Oriental' 'Arabic']\n"
     ]
    }
   ],
   "source": [
    "# Review data and Manipulate Data\n",
    "\n",
    "# Ethnic_Code_Text\n",
    "print(df.Ethnic_Code_Text.unique())"
   ]
  },
  {
   "cell_type": "code",
   "execution_count": 7,
   "metadata": {},
   "outputs": [
    {
     "name": "stdout",
     "output_type": "stream",
     "text": [
      "African-American    27069\n",
      "Caucasian           21783\n",
      "Hispanic             8742\n",
      "Other                2592\n",
      "Asian                 324\n",
      "Native American       219\n",
      "Arabic                 75\n",
      "Oriental               39\n",
      "Name: Ethnic_Code_Text, dtype: int64\n"
     ]
    }
   ],
   "source": [
    "# update 'Ethnic_Code_Text' to have conistent values for African Americans\n",
    "df.loc[df['Ethnic_Code_Text'] == 'African-Am', 'Ethnic_Code_Text'] = 'African-American'\n",
    "print(pd.value_counts(df['Ethnic_Code_Text']))"
   ]
  },
  {
   "cell_type": "code",
   "execution_count": 8,
   "metadata": {},
   "outputs": [
    {
     "name": "stdout",
     "output_type": "stream",
     "text": [
      "45\n"
     ]
    }
   ],
   "source": [
    "# DecileScore should be between 1 & 10, delete otherwise\n",
    "df.DecileScore.unique()\n",
    "print((df['DecileScore'] < 1).sum())"
   ]
  },
  {
   "cell_type": "code",
   "execution_count": 9,
   "metadata": {},
   "outputs": [
    {
     "name": "stdout",
     "output_type": "stream",
     "text": [
      "1     18465\n",
      "2      9192\n",
      "3      8492\n",
      "4      5338\n",
      "5      4831\n",
      "6      4319\n",
      "7      3338\n",
      "8      2799\n",
      "9      2386\n",
      "10     1638\n",
      "Name: DecileScore, dtype: int64\n"
     ]
    }
   ],
   "source": [
    "# remove DecileScore < 1\n",
    "df = df[df.DecileScore >= 1]\n",
    "print(pd.value_counts(df['DecileScore']))"
   ]
  },
  {
   "cell_type": "code",
   "execution_count": 11,
   "metadata": {
    "collapsed": true
   },
   "outputs": [],
   "source": [
    "# Add column 'Age' from DateofBirth\n",
    "agelist = []\n",
    "currdate = date.today()\n",
    "for dte in df['DateOfBirth']:\n",
    "    brthdte = datetime.strptime(dte, '%m/%d/%y')\n",
    "    mnthday = (currdate.month, currdate.day) < (brthdte.month, brthdte.day)\n",
    "    if currdate.year > brthdte.year:\n",
    "        agelist.append(currdate.year - brthdte.year - (mnthday))\n",
    "    else:\n",
    "        agelist.append(-1)\n",
    "        "
   ]
  },
  {
   "cell_type": "code",
   "execution_count": 12,
   "metadata": {},
   "outputs": [
    {
     "name": "stdout",
     "output_type": "stream",
     "text": [
      "60798 60798\n",
      "Index(['Person_ID', 'AssessmentID', 'Case_ID', 'Agency_Text', 'LastName',\n",
      "       'FirstName', 'MiddleName', 'Sex_Code_Text', 'Ethnic_Code_Text',\n",
      "       'DateOfBirth', 'ScaleSet_ID', 'ScaleSet', 'AssessmentReason',\n",
      "       'Language', 'LegalStatus', 'CustodyStatus', 'MaritalStatus',\n",
      "       'Screening_Date', 'RecSupervisionLevel', 'RecSupervisionLevelText',\n",
      "       'Scale_ID', 'DisplayText', 'RawScore', 'DecileScore', 'ScoreText',\n",
      "       'AssessmentType', 'IsCompleted', 'IsDeleted', 'Age'],\n",
      "      dtype='object')\n"
     ]
    }
   ],
   "source": [
    "print(len(agelist), len(df))\n",
    "df['Age'] = agelist\n",
    "print(df.columns)"
   ]
  },
  {
   "cell_type": "code",
   "execution_count": 14,
   "metadata": {},
   "outputs": [
    {
     "data": {
      "text/plain": [
       "12782"
      ]
     },
     "execution_count": 14,
     "metadata": {},
     "output_type": "execute_result"
    }
   ],
   "source": [
    "# cleanup bad Ages\n",
    "# remove DecileScore < 1\n",
    "(df['Age'] < 1).sum()"
   ]
  },
  {
   "cell_type": "code",
   "execution_count": 15,
   "metadata": {},
   "outputs": [
    {
     "data": {
      "text/plain": [
       "0"
      ]
     },
     "execution_count": 15,
     "metadata": {},
     "output_type": "execute_result"
    }
   ],
   "source": [
    "df = df[df.Age >= 1]\n",
    "(df['Age'] < 1).sum()"
   ]
  },
  {
   "cell_type": "code",
   "execution_count": 16,
   "metadata": {},
   "outputs": [
    {
     "data": {
      "text/plain": [
       "count    48016.000000\n",
       "mean        32.902741\n",
       "std          7.184841\n",
       "min         20.000000\n",
       "25%         27.000000\n",
       "50%         32.000000\n",
       "75%         38.000000\n",
       "max         49.000000\n",
       "Name: Age, dtype: float64"
      ]
     },
     "execution_count": 16,
     "metadata": {},
     "output_type": "execute_result"
    }
   ],
   "source": [
    "df['Age'].describe()"
   ]
  },
  {
   "cell_type": "code",
   "execution_count": 17,
   "metadata": {},
   "outputs": [
    {
     "name": "stdout",
     "output_type": "stream",
     "text": [
      "black : (23169, 29)  white:  (15290, 29)  joint:  (38459, 29)\n"
     ]
    }
   ],
   "source": [
    "# slice and dice\n",
    "\n",
    "# Slice by 'Ethnic_Code_Text' for blacks & whites\n",
    "black = df.loc[df['Ethnic_Code_Text'] == 'African-American']\n",
    "white = df.loc[df['Ethnic_Code_Text'] == 'Caucasian']\n",
    "joint = df.loc[df['Ethnic_Code_Text'].isin (['Caucasian','African-American'])]\n",
    "print('black :', black.shape, ' white: ', white.shape, ' joint: ', joint.shape)"
   ]
  },
  {
   "cell_type": "code",
   "execution_count": 18,
   "metadata": {},
   "outputs": [
    {
     "name": "stdout",
     "output_type": "stream",
     "text": [
      "male : (37308, 29)  female:  (10708, 29)\n"
     ]
    }
   ],
   "source": [
    "# Slice by 'Sex_Code_Text' for males & females\n",
    "male = df.loc[df['Sex_Code_Text'] == 'Male']\n",
    "female = df.loc[df['Sex_Code_Text'] == 'Female']\n",
    "print('male :', male.shape, ' female: ', female.shape)"
   ]
  },
  {
   "cell_type": "code",
   "execution_count": 19,
   "metadata": {},
   "outputs": [
    {
     "name": "stdout",
     "output_type": "stream",
     "text": [
      "Appear: (16016, 29)  Violence:  (16010, 29)  Recidivism: (15990, 29)\n"
     ]
    }
   ],
   "source": [
    "# Slice by 'DisplayText' for Risk\n",
    "RiskAppear = df.loc[df['DisplayText'] == 'Risk of Failure to Appear']\n",
    "RiskViolence = df.loc[df['DisplayText'] == 'Risk of Violence']\n",
    "RiskRecidivism = df.loc[df['DisplayText'] == 'Risk of Recidivism']\n",
    "print('Appear:', RiskAppear.shape, ' Violence: ', RiskViolence.shape,  ' Recidivism:',RiskRecidivism.shape)"
   ]
  },
  {
   "cell_type": "code",
   "execution_count": 20,
   "metadata": {},
   "outputs": [
    {
     "name": "stdout",
     "output_type": "stream",
     "text": [
      "Race:  (8, 28)  Gender: (2, 28)\n"
     ]
    }
   ],
   "source": [
    "# Aggregate\n",
    "grprace = df.groupby(['Ethnic_Code_Text']).count()\n",
    "grpgender = df.groupby(['Sex_Code_Text']).count()\n",
    "print('Race: ',grprace.shape, ' Gender:', grpgender.shape)"
   ]
  },
  {
   "cell_type": "markdown",
   "metadata": {},
   "source": [
    "# Looking at some bias in the data set by Ethncity and sex"
   ]
  },
  {
   "cell_type": "code",
   "execution_count": 21,
   "metadata": {},
   "outputs": [
    {
     "data": {
      "text/html": [
       "<div>\n",
       "<style>\n",
       "    .dataframe thead tr:only-child th {\n",
       "        text-align: right;\n",
       "    }\n",
       "\n",
       "    .dataframe thead th {\n",
       "        text-align: left;\n",
       "    }\n",
       "\n",
       "    .dataframe tbody tr th {\n",
       "        vertical-align: top;\n",
       "    }\n",
       "</style>\n",
       "<table border=\"1\" class=\"dataframe\">\n",
       "  <thead>\n",
       "    <tr style=\"text-align: right;\">\n",
       "      <th></th>\n",
       "      <th>DecileScore</th>\n",
       "    </tr>\n",
       "    <tr>\n",
       "      <th>Ethnic_Code_Text</th>\n",
       "      <th></th>\n",
       "    </tr>\n",
       "  </thead>\n",
       "  <tbody>\n",
       "    <tr>\n",
       "      <th>African-American</th>\n",
       "      <td>48.25</td>\n",
       "    </tr>\n",
       "    <tr>\n",
       "      <th>Arabic</th>\n",
       "      <td>0.12</td>\n",
       "    </tr>\n",
       "    <tr>\n",
       "      <th>Asian</th>\n",
       "      <td>0.48</td>\n",
       "    </tr>\n",
       "    <tr>\n",
       "      <th>Caucasian</th>\n",
       "      <td>31.84</td>\n",
       "    </tr>\n",
       "    <tr>\n",
       "      <th>Hispanic</th>\n",
       "      <td>14.60</td>\n",
       "    </tr>\n",
       "    <tr>\n",
       "      <th>Native American</th>\n",
       "      <td>0.39</td>\n",
       "    </tr>\n",
       "    <tr>\n",
       "      <th>Oriental</th>\n",
       "      <td>0.07</td>\n",
       "    </tr>\n",
       "    <tr>\n",
       "      <th>Other</th>\n",
       "      <td>4.25</td>\n",
       "    </tr>\n",
       "  </tbody>\n",
       "</table>\n",
       "</div>"
      ],
      "text/plain": [
       "                  DecileScore\n",
       "Ethnic_Code_Text             \n",
       "African-American        48.25\n",
       "Arabic                   0.12\n",
       "Asian                    0.48\n",
       "Caucasian               31.84\n",
       "Hispanic                14.60\n",
       "Native American          0.39\n",
       "Oriental                 0.07\n",
       "Other                    4.25"
      ]
     },
     "execution_count": 21,
     "metadata": {},
     "output_type": "execute_result"
    }
   ],
   "source": [
    "## Display distribution of group data\n",
    "# % data distribution by Ethnic_Code_Text\n",
    "round(grprace[['DecileScore']]/len(df),4)*100"
   ]
  },
  {
   "cell_type": "code",
   "execution_count": null,
   "metadata": {
    "collapsed": true
   },
   "outputs": [],
   "source": [
    "# There are more African Americans (48%) in the dataset, eventhough in the county African American only make \n",
    "# up (30%) of the population"
   ]
  },
  {
   "cell_type": "code",
   "execution_count": 22,
   "metadata": {},
   "outputs": [
    {
     "data": {
      "text/html": [
       "<div>\n",
       "<style>\n",
       "    .dataframe thead tr:only-child th {\n",
       "        text-align: right;\n",
       "    }\n",
       "\n",
       "    .dataframe thead th {\n",
       "        text-align: left;\n",
       "    }\n",
       "\n",
       "    .dataframe tbody tr th {\n",
       "        vertical-align: top;\n",
       "    }\n",
       "</style>\n",
       "<table border=\"1\" class=\"dataframe\">\n",
       "  <thead>\n",
       "    <tr style=\"text-align: right;\">\n",
       "      <th></th>\n",
       "      <th>DecileScore</th>\n",
       "    </tr>\n",
       "    <tr>\n",
       "      <th>Sex_Code_Text</th>\n",
       "      <th></th>\n",
       "    </tr>\n",
       "  </thead>\n",
       "  <tbody>\n",
       "    <tr>\n",
       "      <th>Female</th>\n",
       "      <td>22.3</td>\n",
       "    </tr>\n",
       "    <tr>\n",
       "      <th>Male</th>\n",
       "      <td>77.7</td>\n",
       "    </tr>\n",
       "  </tbody>\n",
       "</table>\n",
       "</div>"
      ],
      "text/plain": [
       "               DecileScore\n",
       "Sex_Code_Text             \n",
       "Female                22.3\n",
       "Male                  77.7"
      ]
     },
     "execution_count": 22,
     "metadata": {},
     "output_type": "execute_result"
    }
   ],
   "source": [
    "# % data distribution by Sex_Code_Text\n",
    "round(grpgender[['DecileScore']]/len(df),4)*100\n"
   ]
  },
  {
   "cell_type": "code",
   "execution_count": null,
   "metadata": {
    "collapsed": true
   },
   "outputs": [],
   "source": [
    "# There are more males (78%) in the dataset, eventhough in the county males make \n",
    "# up (49%) of the population"
   ]
  },
  {
   "cell_type": "code",
   "execution_count": 23,
   "metadata": {},
   "outputs": [
    {
     "name": "stdout",
     "output_type": "stream",
     "text": [
      "Mean DecileScore by Race\n",
      "Caucasian -  3.49\n",
      "African-American -  4.44\n",
      "Hispanic -  3.1\n",
      "Other -  2.77\n",
      "Asian -  2.66\n",
      "Native American -  4.15\n",
      "Oriental -  2.91\n",
      "Arabic -  3.58\n"
     ]
    }
   ],
   "source": [
    "# DecileScore Mean by race\n",
    "race=df.Ethnic_Code_Text.unique()\n",
    "print('Mean DecileScore by Race')\n",
    "for i in race:\n",
    "    mn = round(df.loc[df['Ethnic_Code_Text'] == i]['DecileScore'].mean(), 2)\n",
    "    print(i,'- ',mn)"
   ]
  },
  {
   "cell_type": "code",
   "execution_count": null,
   "metadata": {
    "collapsed": true
   },
   "outputs": [],
   "source": []
  },
  {
   "cell_type": "code",
   "execution_count": null,
   "metadata": {
    "collapsed": true
   },
   "outputs": [],
   "source": [
    "# Mean DecileScore is highest for African Americans"
   ]
  },
  {
   "cell_type": "code",
   "execution_count": 24,
   "metadata": {},
   "outputs": [
    {
     "name": "stdout",
     "output_type": "stream",
     "text": [
      "Mean DecileScore by Gender\n",
      "Male -  3.95\n",
      "Female -  3.53\n"
     ]
    }
   ],
   "source": [
    "# DecileScore Mean by gender\n",
    "gender=df.Sex_Code_Text.unique()\n",
    "print('Mean DecileScore by Gender')\n",
    "for i in gender:\n",
    "    mn = round(df.loc[df['Sex_Code_Text'] == i]['DecileScore'].mean(), 2)\n",
    "    print(i,'- ',mn)"
   ]
  },
  {
   "cell_type": "code",
   "execution_count": null,
   "metadata": {
    "collapsed": true
   },
   "outputs": [],
   "source": [
    "# Mean DecileScore is highest for males"
   ]
  },
  {
   "cell_type": "code",
   "execution_count": null,
   "metadata": {
    "collapsed": true
   },
   "outputs": [],
   "source": [
    "# Visualize"
   ]
  },
  {
   "cell_type": "code",
   "execution_count": 25,
   "metadata": {
    "collapsed": true
   },
   "outputs": [],
   "source": [
    "# Define grp_plot_compare:\n",
    "# creates groups and then plot them to compare them\n",
    "def grp_plot_compare(df1, df2, xlabel1, colnm1, total_pop, multby, title,label1, label2):\n",
    "    grp1 = df1.groupby([xlabel1]).count()\n",
    "    grp2 = df2.groupby([xlabel1]).count()\n",
    "    \n",
    "#   to be used for weighted average  \n",
    "    div1 = len(df1)\n",
    "    div2 = len(df2)\n",
    "    \n",
    "    n_groups = len(grp1)\n",
    "# create plot\n",
    "    fig, ax = plt.subplots()\n",
    "    index = np.arange(n_groups)\n",
    "    bar_width = 0.35\n",
    "    opacity = 0.8\n",
    "\n",
    "    rects1 = plt.bar(grp1.index,(round(grp1[colnm1]/div1,2)*multby), bar_width,\n",
    "                 alpha=opacity,\n",
    "                 color='b',\n",
    "                 label=label1)\n",
    "\n",
    "    rects2 = plt.bar(grp2.index+ bar_width, (round(grp2[colnm1]/div2,2)*multby), bar_width,\n",
    "                 alpha=opacity,\n",
    "                 color='g',\n",
    "                 label=label2)\n",
    "\n",
    "    plt.xlabel(xlabel1)\n",
    "    if total_pop > 1:\n",
    "        plt.ylabel('Percentage')\n",
    "    else:\n",
    "        plt.ylabel('Count')\n",
    "    plt.title(title)\n",
    "    plt.legend()\n",
    "    plt.tight_layout()\n",
    "    plt.show()\n",
    "    plt.clf()"
   ]
  },
  {
   "cell_type": "code",
   "execution_count": 26,
   "metadata": {},
   "outputs": [
    {
     "data": {
      "image/png": "[encoded data removed]",
      "text/plain": [
       "<matplotlib.figure.Figure at 0x207bb0486d8>"
      ]
     },
     "metadata": {},
     "output_type": "display_data"
    }
   ],
   "source": [
    "# Comparing White & Black defendants on the  'DecileScore'\n",
    "grp_plot_compare(white, black, 'DecileScore','Ethnic_Code_Text', len(df), 100, \\\n",
    "                 'DecileScore by Blacks & Whites ', \\\n",
    "                 'white','black')"
   ]
  },
  {
   "cell_type": "code",
   "execution_count": 27,
   "metadata": {},
   "outputs": [
    {
     "data": {
      "text/plain": [
       "<matplotlib.figure.Figure at 0x207bb109320>"
      ]
     },
     "metadata": {},
     "output_type": "display_data"
    },
    {
     "data": {
      "image/png": "[encoded data removed]",
      "text/plain": [
       "<matplotlib.figure.Figure at 0x207bb1245f8>"
      ]
     },
     "metadata": {},
     "output_type": "display_data"
    }
   ],
   "source": [
    "# Comparing Male & Female defendants on the  'DecileScore'\n",
    "grp_plot_compare(female, male, 'DecileScore','Sex_Code_Text', len(df), 100, \\\n",
    "                 'Scores by Females & Males ', \\\n",
    "                 'Females','Males')\n"
   ]
  },
  {
   "cell_type": "code",
   "execution_count": 28,
   "metadata": {},
   "outputs": [
    {
     "data": {
      "text/plain": [
       "<matplotlib.figure.Figure at 0x207baff81d0>"
      ]
     },
     "metadata": {},
     "output_type": "display_data"
    },
    {
     "data": {
      "image/png": "[encoded data removed]",
      "text/plain": [
       "<matplotlib.figure.Figure at 0x207bb0f2940>"
      ]
     },
     "metadata": {},
     "output_type": "display_data"
    }
   ],
   "source": [
    "####################################################################################\n",
    "# Histogram overlay\n",
    "fig, ax = plt.subplots()\n",
    "black['DecileScore'].hist(bins=10, figsize=[14,6],color='g',alpha=.8 )\n",
    "white['DecileScore'].hist(bins=10, figsize=[14,6],color='b',alpha=.5 )\n",
    "plt.title('Histogram overlay of Blacks (green) & Whites (blue)')\n",
    "plt.legend()\n",
    "plt.xlabel('DecileScore')\n",
    "plt.ylabel('Count')\n",
    "plt.show()\n",
    "plt.clf()"
   ]
  },
  {
   "cell_type": "markdown",
   "metadata": {},
   "source": [
    "# Running ML models"
   ]
  },
  {
   "cell_type": "code",
   "execution_count": 29,
   "metadata": {
    "collapsed": true
   },
   "outputs": [],
   "source": [
    "# Define prepare_data_for_ml_model_1:\n",
    "def prepare_data_for_ml_model_1(dfx, target_loc):\n",
    "    # Create new DataFrame of selected columns\n",
    "     \n",
    "    \"\"\"\n",
    "    Columns\n",
    "    0 - 4  : 'Person_ID','AssessmentID','Case_ID','Agency_Text', 'LastName',\n",
    "    5 - 9  : 'FirstName', 'MiddleName', 'Sex_Code_Text', 'Ethnic_Code_Text','DateOfBirth',\n",
    "    10 - 14: 'ScaleSet_ID', 'ScaleSet', 'AssessmentReason','Language', 'LegalStatus',\n",
    "    15 - 19: 'CustodyStatus', 'MaritalStatus','Screening_Date', 'RecSupervisionLevel', 'RecSupervisionLevelText',\n",
    "    20 - 24: 'Scale_ID', 'DisplayText', 'RawScore', 'DecileScore', 'ScoreText',\n",
    "    25 - 28: 'AssessmentType', 'IsCompleted', 'IsDeleted','Age'\n",
    "    \"\"\"\n",
    "    \"\"\"\n",
    "    race, age, criminal history, future recidivism, charge degree, gender and age.\n",
    "    \"\"\"\n",
    "    # slice for subset data features and targets\n",
    "    df_new = dfx.iloc[:, [7,8,14,15,16,19,28]] #features\n",
    "    y = dfx.iloc[:,target_loc] #target\n",
    "\n",
    "    \n",
    "    #  One-Hot encoder. It encodes the data into binary format\n",
    "    le = preprocessing.LabelEncoder()\n",
    "\n",
    "    Sex_Code_Text_cat = le.fit_transform(df_new.Sex_Code_Text)\n",
    "    Ethnic_Code_Text_cat = le.fit_transform(df_new.Ethnic_Code_Text)\n",
    "    LegalStatus_cat = le.fit_transform(df_new.LegalStatus)\n",
    "    CustodyStatus_cat = le.fit_transform(df_new.CustodyStatus)\n",
    "    MaritalStatus_cat = le.fit_transform(df_new.MaritalStatus)\n",
    "    RecSupervisionLevelText_cat = le.fit_transform(df_new.RecSupervisionLevelText) \n",
    " \n",
    "    df_new['Sex_Code_Text_cat'] = Sex_Code_Text_cat\n",
    "    df_new['Ethnic_Code_Text_cat'] = Ethnic_Code_Text_cat\n",
    "    df_new['LegalStatus_cat'] = LegalStatus_cat\n",
    "    df_new['CustodyStatus_cat'] = CustodyStatus_cat\n",
    "    df_new['MaritalStatus_cat'] = MaritalStatus_cat\n",
    "    df_new['RecSupervisionLevelText_cat'] = RecSupervisionLevelText_cat\n",
    "\n",
    "\n",
    "\n",
    "    #drop the old categorical columns from dataframe\n",
    "\n",
    "    dummy_fields = ['Sex_Code_Text',\n",
    "                  'Ethnic_Code_Text',  'LegalStatus', 'CustodyStatus',\n",
    "                  'MaritalStatus','RecSupervisionLevelText' ]\n",
    "    \n",
    "\n",
    "    df_new = df_new.drop(dummy_fields, axis = 1)\n",
    "    print('columns:',df_new.columns)\n",
    "\n",
    "    # Standardizing\n",
    "    #X_std = StandardScaler().fit_transform(X_rev)\n",
    "\n",
    "\n",
    "    # Split data train and test, first import library\n",
    "    X_train, X_test, y_train, y_test = train_test_split(df_new, y, test_size=0.2)\n",
    "    print('Length for X_train:', len(X_train), ' X_test:',len(X_test), ' y_train:',len(y_train) ,' y_test:',len(y_test))\n",
    "\n",
    "    return X_train, X_test, y_train, y_test\n"
   ]
  },
  {
   "cell_type": "code",
   "execution_count": 30,
   "metadata": {
    "collapsed": true
   },
   "outputs": [],
   "source": [
    "# Define ml_model_1:\n",
    "# takes in model Instantiate model (model)\n",
    "# fits, predicts, and evaluates (prints results)\n",
    "def ml_model_1(model, modelnm, dfnm, X_train, X_test, y_train, y_test, target):\n",
    "    print('Running ', modelnm, ' model for :', dfnm, ' using target: ', target)\n",
    "\n",
    "    model.fit(X_train, y_train)\n",
    "    y_pred = model.predict(X_test)\n",
    "\n",
    "    #Evaluate\n",
    "    print(modelnm,' score: ',model.score(X_test, y_test))\n",
    "    print(' ')\n",
    "    print('first 10 predicted values: ',y_pred[0:10])\n",
    "    print('first 10 values of target: ')\n",
    "    print(y_test.head(10))\n",
    "    print(' ')\n",
    "\n",
    "    print('mean of predicted of values: ',np.mean(y_pred), ' STD of predicted of values : ', np.std(y_pred) )\n",
    "    print('describe of target')\n",
    "    print(y_test.describe())\n",
    "\n",
    "    return y_pred"
   ]
  },
  {
   "cell_type": "code",
   "execution_count": null,
   "metadata": {
    "collapsed": true
   },
   "outputs": [],
   "source": [
    "# MLPRegressor"
   ]
  },
  {
   "cell_type": "code",
   "execution_count": 31,
   "metadata": {
    "collapsed": true
   },
   "outputs": [],
   "source": [
    "from sklearn.neural_network import MLPRegressor\n",
    "\n",
    "clf = MLPRegressor(alpha=0.001, hidden_layer_sizes = (10,), max_iter = 50000, \n",
    "                 activation = 'logistic', verbose = 'True', learning_rate = 'adaptive')"
   ]
  },
  {
   "cell_type": "code",
   "execution_count": 32,
   "metadata": {},
   "outputs": [
    {
     "name": "stderr",
     "output_type": "stream",
     "text": [
      "C:\\Users\\rivas\\Anaconda3\\lib\\site-packages\\ipykernel_launcher.py:32: SettingWithCopyWarning: \n",
      "A value is trying to be set on a copy of a slice from a DataFrame.\n",
      "Try using .loc[row_indexer,col_indexer] = value instead\n",
      "\n",
      "See the caveats in the documentation: http://pandas.pydata.org/pandas-docs/stable/indexing.html#indexing-view-versus-copy\n",
      "C:\\Users\\rivas\\Anaconda3\\lib\\site-packages\\ipykernel_launcher.py:33: SettingWithCopyWarning: \n",
      "A value is trying to be set on a copy of a slice from a DataFrame.\n",
      "Try using .loc[row_indexer,col_indexer] = value instead\n",
      "\n",
      "See the caveats in the documentation: http://pandas.pydata.org/pandas-docs/stable/indexing.html#indexing-view-versus-copy\n",
      "C:\\Users\\rivas\\Anaconda3\\lib\\site-packages\\ipykernel_launcher.py:34: SettingWithCopyWarning: \n",
      "A value is trying to be set on a copy of a slice from a DataFrame.\n",
      "Try using .loc[row_indexer,col_indexer] = value instead\n",
      "\n",
      "See the caveats in the documentation: http://pandas.pydata.org/pandas-docs/stable/indexing.html#indexing-view-versus-copy\n",
      "C:\\Users\\rivas\\Anaconda3\\lib\\site-packages\\ipykernel_launcher.py:35: SettingWithCopyWarning: \n",
      "A value is trying to be set on a copy of a slice from a DataFrame.\n",
      "Try using .loc[row_indexer,col_indexer] = value instead\n",
      "\n",
      "See the caveats in the documentation: http://pandas.pydata.org/pandas-docs/stable/indexing.html#indexing-view-versus-copy\n"
     ]
    },
    {
     "name": "stdout",
     "output_type": "stream",
     "text": [
      "columns: Index(['Age', 'Sex_Code_Text_cat', 'Ethnic_Code_Text_cat', 'LegalStatus_cat',\n",
      "       'CustodyStatus_cat', 'MaritalStatus_cat',\n",
      "       'RecSupervisionLevelText_cat'],\n",
      "      dtype='object')\n",
      "Length for X_train: 12808  X_test: 3202  y_train: 12808  y_test: 3202\n"
     ]
    },
    {
     "name": "stderr",
     "output_type": "stream",
     "text": [
      "C:\\Users\\rivas\\Anaconda3\\lib\\site-packages\\ipykernel_launcher.py:36: SettingWithCopyWarning: \n",
      "A value is trying to be set on a copy of a slice from a DataFrame.\n",
      "Try using .loc[row_indexer,col_indexer] = value instead\n",
      "\n",
      "See the caveats in the documentation: http://pandas.pydata.org/pandas-docs/stable/indexing.html#indexing-view-versus-copy\n",
      "C:\\Users\\rivas\\Anaconda3\\lib\\site-packages\\ipykernel_launcher.py:37: SettingWithCopyWarning: \n",
      "A value is trying to be set on a copy of a slice from a DataFrame.\n",
      "Try using .loc[row_indexer,col_indexer] = value instead\n",
      "\n",
      "See the caveats in the documentation: http://pandas.pydata.org/pandas-docs/stable/indexing.html#indexing-view-versus-copy\n"
     ]
    }
   ],
   "source": [
    "# MLPRegressor - RiskViolence dataset target RawScore (22)\n",
    "# Preparing the data\n",
    "X_train, X_test, y_train, y_test = prepare_data_for_ml_model_1(RiskViolence,22)"
   ]
  },
  {
   "cell_type": "code",
   "execution_count": 33,
   "metadata": {},
   "outputs": [
    {
     "name": "stdout",
     "output_type": "stream",
     "text": [
      "Running  MLPRegressor  model for : RiskViolence  using target:  RawScore\n",
      "Iteration 1, loss = 3.38473830\n",
      "Iteration 2, loss = 1.91331564\n",
      "Iteration 3, loss = 0.70592092\n",
      "Iteration 4, loss = 0.42301826\n",
      "Iteration 5, loss = 0.34769019\n",
      "Iteration 6, loss = 0.31499223\n",
      "Iteration 7, loss = 0.30014298\n",
      "Iteration 8, loss = 0.27427751\n",
      "Iteration 9, loss = 0.24851338\n",
      "Iteration 10, loss = 0.23077670\n",
      "Iteration 11, loss = 0.21755039\n",
      "Iteration 12, loss = 0.20256543\n",
      "Iteration 13, loss = 0.18837050\n",
      "Iteration 14, loss = 0.17842074\n",
      "Iteration 15, loss = 0.17221949\n",
      "Iteration 16, loss = 0.16788929\n",
      "Iteration 17, loss = 0.16499476\n",
      "Iteration 18, loss = 0.16272286\n",
      "Iteration 19, loss = 0.16095215\n",
      "Iteration 20, loss = 0.15970266\n",
      "Iteration 21, loss = 0.15845635\n",
      "Iteration 22, loss = 0.15748293\n",
      "Iteration 23, loss = 0.15658164\n",
      "Iteration 24, loss = 0.15604925\n",
      "Iteration 25, loss = 0.15509973\n",
      "Iteration 26, loss = 0.15454831\n",
      "Iteration 27, loss = 0.15403340\n",
      "Iteration 28, loss = 0.15353148\n",
      "Iteration 29, loss = 0.15327126\n",
      "Iteration 30, loss = 0.15283131\n",
      "Iteration 31, loss = 0.15216855\n",
      "Iteration 32, loss = 0.15186367\n",
      "Iteration 33, loss = 0.15142223\n",
      "Iteration 34, loss = 0.15099924\n",
      "Iteration 35, loss = 0.15062337\n",
      "Iteration 36, loss = 0.15033802\n",
      "Iteration 37, loss = 0.14986122\n",
      "Iteration 38, loss = 0.14963790\n",
      "Iteration 39, loss = 0.14914867\n",
      "Iteration 40, loss = 0.14822717\n",
      "Iteration 41, loss = 0.14727580\n",
      "Iteration 42, loss = 0.14624802\n",
      "Iteration 43, loss = 0.14460791\n",
      "Iteration 44, loss = 0.14261696\n",
      "Iteration 45, loss = 0.14007720\n",
      "Iteration 46, loss = 0.13714735\n",
      "Iteration 47, loss = 0.13377737\n",
      "Iteration 48, loss = 0.13002791\n",
      "Iteration 49, loss = 0.12628373\n",
      "Iteration 50, loss = 0.12229835\n",
      "Iteration 51, loss = 0.11803319\n",
      "Iteration 52, loss = 0.11399617\n",
      "Iteration 53, loss = 0.10977900\n",
      "Iteration 54, loss = 0.10589246\n",
      "Iteration 55, loss = 0.10156563\n",
      "Iteration 56, loss = 0.09790956\n",
      "Iteration 57, loss = 0.09453844\n",
      "Iteration 58, loss = 0.09106431\n",
      "Iteration 59, loss = 0.08789655\n",
      "Iteration 60, loss = 0.08481240\n",
      "Iteration 61, loss = 0.08214549\n",
      "Iteration 62, loss = 0.07957707\n",
      "Iteration 63, loss = 0.07721117\n",
      "Iteration 64, loss = 0.07492058\n",
      "Iteration 65, loss = 0.07296248\n",
      "Iteration 66, loss = 0.07114777\n",
      "Iteration 67, loss = 0.06949580\n",
      "Iteration 68, loss = 0.06809051\n",
      "Iteration 69, loss = 0.06669570\n",
      "Iteration 70, loss = 0.06570545\n",
      "Iteration 71, loss = 0.06487051\n",
      "Iteration 72, loss = 0.06405346\n",
      "Iteration 73, loss = 0.06330408\n",
      "Iteration 74, loss = 0.06257165\n",
      "Iteration 75, loss = 0.06213049\n",
      "Iteration 76, loss = 0.06178519\n",
      "Iteration 77, loss = 0.06162969\n",
      "Iteration 78, loss = 0.06095315\n",
      "Iteration 79, loss = 0.06087207\n",
      "Iteration 80, loss = 0.06043031\n",
      "Iteration 81, loss = 0.06004692\n",
      "Iteration 82, loss = 0.05975638\n",
      "Iteration 83, loss = 0.05966718\n",
      "Iteration 84, loss = 0.05947949\n",
      "Iteration 85, loss = 0.05937850\n",
      "Iteration 86, loss = 0.05946909\n",
      "Iteration 87, loss = 0.05896872\n",
      "Iteration 88, loss = 0.05888978\n",
      "Iteration 89, loss = 0.05866570\n",
      "Iteration 90, loss = 0.05864616\n",
      "Iteration 91, loss = 0.05831381\n",
      "Iteration 92, loss = 0.05828446\n",
      "Iteration 93, loss = 0.05833165\n",
      "Iteration 94, loss = 0.05809419\n",
      "Iteration 95, loss = 0.05791498\n",
      "Iteration 96, loss = 0.05792587\n",
      "Iteration 97, loss = 0.05791667\n",
      "Iteration 98, loss = 0.05784863\n",
      "Training loss did not improve more than tol=0.000100 for two consecutive epochs. Stopping.\n",
      "MLPRegressor  score:  0.7974618120468234\n",
      " \n",
      "first 10 predicted values:  [-1.95118069 -3.06207915 -1.399232   -0.972433   -2.30537954 -2.17121621\n",
      " -3.00157    -3.39102848 -1.35746306 -1.90590899]\n",
      "first 10 values of target: \n",
      "59031   -2.03\n",
      "15219   -3.05\n",
      "23562   -1.56\n",
      "38181   -0.70\n",
      "54324   -2.32\n",
      "19683   -1.80\n",
      "16458   -2.86\n",
      "37902   -3.87\n",
      "46812   -1.11\n",
      "8724    -2.12\n",
      "Name: RawScore, dtype: float64\n",
      " \n",
      "mean of predicted of values:  -2.3322246895571017  STD of predicted of values :  0.6962256699965171\n",
      "describe of target\n",
      "count    3202.000000\n",
      "mean       -2.290572\n",
      "std         0.772024\n",
      "min        -3.940000\n",
      "25%        -2.880000\n",
      "50%        -2.320000\n",
      "75%        -1.760000\n",
      "max         0.280000\n",
      "Name: RawScore, dtype: float64\n"
     ]
    },
    {
     "data": {
      "text/plain": [
       "array([-1.95118069, -3.06207915, -1.399232  , ..., -2.74960106,\n",
       "       -2.77638613, -2.46603081])"
      ]
     },
     "execution_count": 33,
     "metadata": {},
     "output_type": "execute_result"
    }
   ],
   "source": [
    "# Predicting and getting score\n",
    "ml_model_1(clf, 'MLPRegressor', 'RiskViolence', X_train, X_test, y_train, y_test, 'RawScore')"
   ]
  },
  {
   "cell_type": "code",
   "execution_count": null,
   "metadata": {
    "collapsed": true
   },
   "outputs": [],
   "source": [
    "# MLPRegressor  score:  0.7974618120468234"
   ]
  },
  {
   "cell_type": "code",
   "execution_count": 34,
   "metadata": {},
   "outputs": [
    {
     "name": "stderr",
     "output_type": "stream",
     "text": [
      "C:\\Users\\rivas\\Anaconda3\\lib\\site-packages\\ipykernel_launcher.py:32: SettingWithCopyWarning: \n",
      "A value is trying to be set on a copy of a slice from a DataFrame.\n",
      "Try using .loc[row_indexer,col_indexer] = value instead\n",
      "\n",
      "See the caveats in the documentation: http://pandas.pydata.org/pandas-docs/stable/indexing.html#indexing-view-versus-copy\n",
      "C:\\Users\\rivas\\Anaconda3\\lib\\site-packages\\ipykernel_launcher.py:33: SettingWithCopyWarning: \n",
      "A value is trying to be set on a copy of a slice from a DataFrame.\n",
      "Try using .loc[row_indexer,col_indexer] = value instead\n",
      "\n",
      "See the caveats in the documentation: http://pandas.pydata.org/pandas-docs/stable/indexing.html#indexing-view-versus-copy\n",
      "C:\\Users\\rivas\\Anaconda3\\lib\\site-packages\\ipykernel_launcher.py:34: SettingWithCopyWarning: \n",
      "A value is trying to be set on a copy of a slice from a DataFrame.\n",
      "Try using .loc[row_indexer,col_indexer] = value instead\n",
      "\n",
      "See the caveats in the documentation: http://pandas.pydata.org/pandas-docs/stable/indexing.html#indexing-view-versus-copy\n",
      "C:\\Users\\rivas\\Anaconda3\\lib\\site-packages\\ipykernel_launcher.py:35: SettingWithCopyWarning: \n",
      "A value is trying to be set on a copy of a slice from a DataFrame.\n",
      "Try using .loc[row_indexer,col_indexer] = value instead\n",
      "\n",
      "See the caveats in the documentation: http://pandas.pydata.org/pandas-docs/stable/indexing.html#indexing-view-versus-copy\n"
     ]
    },
    {
     "name": "stdout",
     "output_type": "stream",
     "text": [
      "columns: Index(['Age', 'Sex_Code_Text_cat', 'Ethnic_Code_Text_cat', 'LegalStatus_cat',\n",
      "       'CustodyStatus_cat', 'MaritalStatus_cat',\n",
      "       'RecSupervisionLevelText_cat'],\n",
      "      dtype='object')\n",
      "Length for X_train: 12792  X_test: 3198  y_train: 12792  y_test: 3198\n"
     ]
    },
    {
     "name": "stderr",
     "output_type": "stream",
     "text": [
      "C:\\Users\\rivas\\Anaconda3\\lib\\site-packages\\ipykernel_launcher.py:36: SettingWithCopyWarning: \n",
      "A value is trying to be set on a copy of a slice from a DataFrame.\n",
      "Try using .loc[row_indexer,col_indexer] = value instead\n",
      "\n",
      "See the caveats in the documentation: http://pandas.pydata.org/pandas-docs/stable/indexing.html#indexing-view-versus-copy\n",
      "C:\\Users\\rivas\\Anaconda3\\lib\\site-packages\\ipykernel_launcher.py:37: SettingWithCopyWarning: \n",
      "A value is trying to be set on a copy of a slice from a DataFrame.\n",
      "Try using .loc[row_indexer,col_indexer] = value instead\n",
      "\n",
      "See the caveats in the documentation: http://pandas.pydata.org/pandas-docs/stable/indexing.html#indexing-view-versus-copy\n"
     ]
    }
   ],
   "source": [
    "# MLPRegressor - RiskRecidivism dataset target RawScore (22)\n",
    "X_train, X_test, y_train, y_test = prepare_data_for_ml_model_1(RiskRecidivism,22)"
   ]
  },
  {
   "cell_type": "code",
   "execution_count": 35,
   "metadata": {},
   "outputs": [
    {
     "name": "stdout",
     "output_type": "stream",
     "text": [
      "Running  MLPRegressor  model for : RiskRecidivism  using target:  RawScore\n",
      "Iteration 1, loss = 0.27373409\n",
      "Iteration 2, loss = 0.24869807\n",
      "Iteration 3, loss = 0.21224413\n",
      "Iteration 4, loss = 0.19475817\n",
      "Iteration 5, loss = 0.18851556\n",
      "Iteration 6, loss = 0.18556436\n",
      "Iteration 7, loss = 0.18367241\n",
      "Iteration 8, loss = 0.18242032\n",
      "Iteration 9, loss = 0.18111654\n",
      "Iteration 10, loss = 0.18039743\n",
      "Iteration 11, loss = 0.17972123\n",
      "Iteration 12, loss = 0.17892674\n",
      "Iteration 13, loss = 0.17820237\n",
      "Iteration 14, loss = 0.17731568\n",
      "Iteration 15, loss = 0.17649056\n",
      "Iteration 16, loss = 0.17573058\n",
      "Iteration 17, loss = 0.17477251\n",
      "Iteration 18, loss = 0.17367931\n",
      "Iteration 19, loss = 0.17255673\n",
      "Iteration 20, loss = 0.17069238\n",
      "Iteration 21, loss = 0.16646077\n",
      "Iteration 22, loss = 0.16138607\n",
      "Iteration 23, loss = 0.15595698\n",
      "Iteration 24, loss = 0.14900248\n",
      "Iteration 25, loss = 0.14283990\n",
      "Iteration 26, loss = 0.13655233\n",
      "Iteration 27, loss = 0.13079293\n",
      "Iteration 28, loss = 0.12481162\n",
      "Iteration 29, loss = 0.11897979\n",
      "Iteration 30, loss = 0.11356527\n",
      "Iteration 31, loss = 0.10852467\n",
      "Iteration 32, loss = 0.10392247\n",
      "Iteration 33, loss = 0.09939850\n",
      "Iteration 34, loss = 0.09527205\n",
      "Iteration 35, loss = 0.09135774\n",
      "Iteration 36, loss = 0.08795840\n",
      "Iteration 37, loss = 0.08499636\n",
      "Iteration 38, loss = 0.08220418\n",
      "Iteration 39, loss = 0.07950787\n",
      "Iteration 40, loss = 0.07729981\n",
      "Iteration 41, loss = 0.07539752\n",
      "Iteration 42, loss = 0.07335655\n",
      "Iteration 43, loss = 0.07184056\n",
      "Iteration 44, loss = 0.07040326\n",
      "Iteration 45, loss = 0.06913685\n",
      "Iteration 46, loss = 0.06817705\n",
      "Iteration 47, loss = 0.06706934\n",
      "Iteration 48, loss = 0.06652397\n",
      "Iteration 49, loss = 0.06573051\n",
      "Iteration 50, loss = 0.06521779\n",
      "Iteration 51, loss = 0.06483671\n",
      "Iteration 52, loss = 0.06431352\n",
      "Iteration 53, loss = 0.06396153\n",
      "Iteration 54, loss = 0.06381433\n",
      "Iteration 55, loss = 0.06333981\n",
      "Iteration 56, loss = 0.06332192\n",
      "Iteration 57, loss = 0.06320474\n",
      "Iteration 58, loss = 0.06282469\n",
      "Iteration 59, loss = 0.06278453\n",
      "Iteration 60, loss = 0.06261034\n",
      "Iteration 61, loss = 0.06250100\n",
      "Iteration 62, loss = 0.06241265\n",
      "Iteration 63, loss = 0.06215320\n",
      "Iteration 64, loss = 0.06225995\n",
      "Iteration 65, loss = 0.06212570\n",
      "Iteration 66, loss = 0.06205440\n",
      "Training loss did not improve more than tol=0.000100 for two consecutive epochs. Stopping.\n",
      "MLPRegressor  score:  0.7778680496718294\n",
      " \n",
      "first 10 predicted values:  [-0.97476077  0.43814779 -0.91055668 -1.10883513  0.70517499 -0.2765606\n",
      " -1.13811546 -1.08254344 -1.22824678 -0.89776453]\n",
      "first 10 values of target: \n",
      "23974   -0.61\n",
      "26275    1.56\n",
      "53356   -0.84\n",
      "40768   -0.95\n",
      "47707    0.70\n",
      "21604   -0.13\n",
      "30661   -1.23\n",
      "45829   -1.17\n",
      "59176   -1.72\n",
      "19330   -0.85\n",
      "Name: RawScore, dtype: float64\n",
      " \n",
      "mean of predicted of values:  -0.5839045728257514  STD of predicted of values :  0.6380638961709363\n",
      "describe of target\n",
      "count    3198.000000\n",
      "mean       -0.603815\n",
      "std         0.743588\n",
      "min        -2.410000\n",
      "25%        -1.147500\n",
      "50%        -0.620000\n",
      "75%        -0.080000\n",
      "max         1.690000\n",
      "Name: RawScore, dtype: float64\n"
     ]
    },
    {
     "data": {
      "text/plain": [
       "array([-0.97476077,  0.43814779, -0.91055668, ..., -1.03100571,\n",
       "       -0.25597387, -1.01683345])"
      ]
     },
     "execution_count": 35,
     "metadata": {},
     "output_type": "execute_result"
    }
   ],
   "source": [
    "# Predicting and getting score\n",
    "ml_model_1(clf, 'MLPRegressor', 'RiskRecidivism', X_train, X_test, y_train, y_test, 'RawScore')"
   ]
  },
  {
   "cell_type": "code",
   "execution_count": null,
   "metadata": {
    "collapsed": true
   },
   "outputs": [],
   "source": [
    "# MLPRegressor  score:  0.7778680496718294"
   ]
  },
  {
   "cell_type": "code",
   "execution_count": 36,
   "metadata": {},
   "outputs": [
    {
     "name": "stderr",
     "output_type": "stream",
     "text": [
      "C:\\Users\\rivas\\Anaconda3\\lib\\site-packages\\ipykernel_launcher.py:32: SettingWithCopyWarning: \n",
      "A value is trying to be set on a copy of a slice from a DataFrame.\n",
      "Try using .loc[row_indexer,col_indexer] = value instead\n",
      "\n",
      "See the caveats in the documentation: http://pandas.pydata.org/pandas-docs/stable/indexing.html#indexing-view-versus-copy\n",
      "C:\\Users\\rivas\\Anaconda3\\lib\\site-packages\\ipykernel_launcher.py:33: SettingWithCopyWarning: \n",
      "A value is trying to be set on a copy of a slice from a DataFrame.\n",
      "Try using .loc[row_indexer,col_indexer] = value instead\n",
      "\n",
      "See the caveats in the documentation: http://pandas.pydata.org/pandas-docs/stable/indexing.html#indexing-view-versus-copy\n",
      "C:\\Users\\rivas\\Anaconda3\\lib\\site-packages\\ipykernel_launcher.py:34: SettingWithCopyWarning: \n",
      "A value is trying to be set on a copy of a slice from a DataFrame.\n",
      "Try using .loc[row_indexer,col_indexer] = value instead\n",
      "\n",
      "See the caveats in the documentation: http://pandas.pydata.org/pandas-docs/stable/indexing.html#indexing-view-versus-copy\n",
      "C:\\Users\\rivas\\Anaconda3\\lib\\site-packages\\ipykernel_launcher.py:35: SettingWithCopyWarning: \n",
      "A value is trying to be set on a copy of a slice from a DataFrame.\n",
      "Try using .loc[row_indexer,col_indexer] = value instead\n",
      "\n",
      "See the caveats in the documentation: http://pandas.pydata.org/pandas-docs/stable/indexing.html#indexing-view-versus-copy\n"
     ]
    },
    {
     "name": "stdout",
     "output_type": "stream",
     "text": [
      "columns: Index(['Age', 'Sex_Code_Text_cat', 'Ethnic_Code_Text_cat', 'LegalStatus_cat',\n",
      "       'CustodyStatus_cat', 'MaritalStatus_cat',\n",
      "       'RecSupervisionLevelText_cat'],\n",
      "      dtype='object')\n",
      "Length for X_train: 12792  X_test: 3198  y_train: 12792  y_test: 3198\n"
     ]
    },
    {
     "name": "stderr",
     "output_type": "stream",
     "text": [
      "C:\\Users\\rivas\\Anaconda3\\lib\\site-packages\\ipykernel_launcher.py:36: SettingWithCopyWarning: \n",
      "A value is trying to be set on a copy of a slice from a DataFrame.\n",
      "Try using .loc[row_indexer,col_indexer] = value instead\n",
      "\n",
      "See the caveats in the documentation: http://pandas.pydata.org/pandas-docs/stable/indexing.html#indexing-view-versus-copy\n",
      "C:\\Users\\rivas\\Anaconda3\\lib\\site-packages\\ipykernel_launcher.py:37: SettingWithCopyWarning: \n",
      "A value is trying to be set on a copy of a slice from a DataFrame.\n",
      "Try using .loc[row_indexer,col_indexer] = value instead\n",
      "\n",
      "See the caveats in the documentation: http://pandas.pydata.org/pandas-docs/stable/indexing.html#indexing-view-versus-copy\n"
     ]
    }
   ],
   "source": [
    "#  Running again but using DecileScore as the target\n",
    "# MLPRegressor - RiskRecidivism dataset target DecileScore (23)\n",
    "X_train, X_test, y_train, y_test = prepare_data_for_ml_model_1(RiskRecidivism,23)"
   ]
  },
  {
   "cell_type": "code",
   "execution_count": 37,
   "metadata": {},
   "outputs": [
    {
     "name": "stdout",
     "output_type": "stream",
     "text": [
      "Running  MLPRegressor  model for : RiskRecidivism  using target:  DecileScore\n",
      "Iteration 1, loss = 16.90451270\n",
      "Iteration 2, loss = 12.12520511\n",
      "Iteration 3, loss = 8.89732783\n",
      "Iteration 4, loss = 7.79945122\n",
      "Iteration 5, loss = 7.02020527\n",
      "Iteration 6, loss = 6.39127812\n",
      "Iteration 7, loss = 5.87511932\n",
      "Iteration 8, loss = 5.45103258\n",
      "Iteration 9, loss = 5.10457033\n",
      "Iteration 10, loss = 4.82433363\n",
      "Iteration 11, loss = 4.59865969\n",
      "Iteration 12, loss = 4.42109845\n",
      "Iteration 13, loss = 4.28188842\n",
      "Iteration 14, loss = 4.17446095\n",
      "Iteration 15, loss = 4.09331884\n",
      "Iteration 16, loss = 4.03260054\n",
      "Iteration 17, loss = 3.98812106\n",
      "Iteration 18, loss = 3.95573412\n",
      "Iteration 19, loss = 3.93294511\n",
      "Iteration 20, loss = 3.91712207\n",
      "Iteration 21, loss = 3.90613362\n",
      "Iteration 22, loss = 3.89891720\n",
      "Iteration 23, loss = 3.89396762\n",
      "Iteration 24, loss = 3.89078714\n",
      "Iteration 25, loss = 3.88874744\n",
      "Iteration 26, loss = 3.88747570\n",
      "Iteration 27, loss = 3.88669484\n",
      "Iteration 28, loss = 3.88614296\n",
      "Iteration 29, loss = 3.88576486\n",
      "Iteration 30, loss = 3.86671659\n",
      "Iteration 31, loss = 3.70932426\n",
      "Iteration 32, loss = 3.56849212\n",
      "Iteration 33, loss = 3.46354764\n",
      "Iteration 34, loss = 3.37067975\n",
      "Iteration 35, loss = 3.29354042\n",
      "Iteration 36, loss = 3.22594752\n",
      "Iteration 37, loss = 3.16687668\n",
      "Iteration 38, loss = 3.11396598\n",
      "Iteration 39, loss = 3.06611444\n",
      "Iteration 40, loss = 3.01646937\n",
      "Iteration 41, loss = 2.97252129\n",
      "Iteration 42, loss = 2.93813978\n",
      "Iteration 43, loss = 2.90771120\n",
      "Iteration 44, loss = 2.87999264\n",
      "Iteration 45, loss = 2.85678038\n",
      "Iteration 46, loss = 2.83806065\n",
      "Iteration 47, loss = 2.82011060\n",
      "Iteration 48, loss = 2.80434510\n",
      "Iteration 49, loss = 2.79072668\n",
      "Iteration 50, loss = 2.77934720\n",
      "Iteration 51, loss = 2.76898296\n",
      "Iteration 52, loss = 2.75807626\n",
      "Iteration 53, loss = 2.74934313\n",
      "Iteration 54, loss = 2.74049597\n",
      "Iteration 55, loss = 2.73210039\n",
      "Iteration 56, loss = 2.72239512\n",
      "Iteration 57, loss = 2.71121811\n",
      "Iteration 58, loss = 2.69962168\n",
      "Iteration 59, loss = 2.68810165\n",
      "Iteration 60, loss = 2.67443346\n",
      "Iteration 61, loss = 2.65977222\n",
      "Iteration 62, loss = 2.64283494\n",
      "Iteration 63, loss = 2.62269917\n",
      "Iteration 64, loss = 2.60125777\n",
      "Iteration 65, loss = 2.57604050\n",
      "Iteration 66, loss = 2.55141915\n",
      "Iteration 67, loss = 2.52354729\n",
      "Iteration 68, loss = 2.49580720\n",
      "Iteration 69, loss = 2.46699679\n",
      "Iteration 70, loss = 2.43856335\n",
      "Iteration 71, loss = 2.41017205\n",
      "Iteration 72, loss = 2.38233497\n",
      "Iteration 73, loss = 2.35535258\n",
      "Iteration 74, loss = 2.33062482\n",
      "Iteration 75, loss = 2.30461083\n",
      "Iteration 76, loss = 2.28167455\n",
      "Iteration 77, loss = 2.25913581\n",
      "Iteration 78, loss = 2.23863672\n",
      "Iteration 79, loss = 2.22005952\n",
      "Iteration 80, loss = 2.20192525\n",
      "Iteration 81, loss = 2.18560144\n",
      "Iteration 82, loss = 2.17054464\n",
      "Iteration 83, loss = 2.15690362\n",
      "Iteration 84, loss = 2.14442537\n",
      "Iteration 85, loss = 2.13187776\n",
      "Iteration 86, loss = 2.12146957\n",
      "Iteration 87, loss = 2.11182186\n",
      "Iteration 88, loss = 2.10309791\n",
      "Iteration 89, loss = 2.09348162\n",
      "Iteration 90, loss = 2.08528325\n",
      "Iteration 91, loss = 2.07746785\n",
      "Iteration 92, loss = 2.06934277\n",
      "Iteration 93, loss = 2.06331069\n",
      "Iteration 94, loss = 2.05702830\n",
      "Iteration 95, loss = 2.04955375\n",
      "Iteration 96, loss = 2.04340898\n",
      "Iteration 97, loss = 2.03663515\n",
      "Iteration 98, loss = 2.03076089\n",
      "Iteration 99, loss = 2.02493178\n",
      "Iteration 100, loss = 2.01920154\n",
      "Iteration 101, loss = 2.01383300\n",
      "Iteration 102, loss = 2.00718186\n",
      "Iteration 103, loss = 2.00097068\n",
      "Iteration 104, loss = 1.98382232\n",
      "Iteration 105, loss = 1.93697151\n",
      "Iteration 106, loss = 1.89249455\n",
      "Iteration 107, loss = 1.84901703\n",
      "Iteration 108, loss = 1.80749844\n",
      "Iteration 109, loss = 1.76366202\n",
      "Iteration 110, loss = 1.72134043\n",
      "Iteration 111, loss = 1.67648905\n",
      "Iteration 112, loss = 1.62890605\n",
      "Iteration 113, loss = 1.58104410\n",
      "Iteration 114, loss = 1.53464782\n",
      "Iteration 115, loss = 1.49035357\n",
      "Iteration 116, loss = 1.44838719\n",
      "Iteration 117, loss = 1.40847627\n",
      "Iteration 118, loss = 1.37013331\n",
      "Iteration 119, loss = 1.33386287\n",
      "Iteration 120, loss = 1.29920428\n",
      "Iteration 121, loss = 1.26530180\n",
      "Iteration 122, loss = 1.23259444\n",
      "Iteration 123, loss = 1.20183471\n",
      "Iteration 124, loss = 1.17198624\n",
      "Iteration 125, loss = 1.14246834\n",
      "Iteration 126, loss = 1.11611586\n",
      "Iteration 127, loss = 1.08888196\n",
      "Iteration 128, loss = 1.06423015\n",
      "Iteration 129, loss = 1.03970808\n",
      "Iteration 130, loss = 1.01592027\n",
      "Iteration 131, loss = 0.99369877\n",
      "Iteration 132, loss = 0.97338330\n",
      "Iteration 133, loss = 0.95278394\n",
      "Iteration 134, loss = 0.93411083\n",
      "Iteration 135, loss = 0.91630700\n",
      "Iteration 136, loss = 0.89921737\n",
      "Iteration 137, loss = 0.88226156\n",
      "Iteration 138, loss = 0.86621354\n",
      "Iteration 139, loss = 0.85263321\n",
      "Iteration 140, loss = 0.83715304\n",
      "Iteration 141, loss = 0.82370034\n",
      "Iteration 142, loss = 0.81102510\n",
      "Iteration 143, loss = 0.79887938\n",
      "Iteration 144, loss = 0.78893156\n",
      "Iteration 145, loss = 0.77831505\n",
      "Iteration 146, loss = 0.76856992\n",
      "Iteration 147, loss = 0.76078302\n",
      "Iteration 148, loss = 0.75181172\n",
      "Iteration 149, loss = 0.74420268\n",
      "Iteration 150, loss = 0.73675779\n",
      "Iteration 151, loss = 0.73070262\n",
      "Iteration 152, loss = 0.72403741\n",
      "Iteration 153, loss = 0.71810761\n",
      "Iteration 154, loss = 0.71320363\n",
      "Iteration 155, loss = 0.70764251\n",
      "Iteration 156, loss = 0.70282232\n",
      "Iteration 157, loss = 0.70003406\n",
      "Iteration 158, loss = 0.69220580\n",
      "Iteration 159, loss = 0.68964235\n",
      "Iteration 160, loss = 0.68506567\n",
      "Iteration 161, loss = 0.68247907\n",
      "Iteration 162, loss = 0.68050934\n",
      "Iteration 163, loss = 0.67699906\n",
      "Iteration 164, loss = 0.67408923\n",
      "Iteration 165, loss = 0.67215431\n",
      "Iteration 166, loss = 0.67055051\n",
      "Iteration 167, loss = 0.66880700\n",
      "Iteration 168, loss = 0.66644661\n",
      "Iteration 169, loss = 0.66542005\n",
      "Iteration 170, loss = 0.66428984\n",
      "Iteration 171, loss = 0.66263000\n",
      "Iteration 172, loss = 0.66109889\n",
      "Iteration 173, loss = 0.66052434\n",
      "Iteration 174, loss = 0.65877769\n",
      "Iteration 175, loss = 0.65836046\n",
      "Iteration 176, loss = 0.65790000\n",
      "Iteration 177, loss = 0.65591947\n",
      "Iteration 178, loss = 0.65462428\n",
      "Iteration 179, loss = 0.65400355\n",
      "Iteration 180, loss = 0.65417790\n",
      "Iteration 181, loss = 0.65204384\n",
      "Iteration 182, loss = 0.65041874\n",
      "Iteration 183, loss = 0.65133283\n",
      "Iteration 184, loss = 0.64987909\n",
      "Iteration 185, loss = 0.64888695\n",
      "Iteration 186, loss = 0.64866276\n",
      "Iteration 187, loss = 0.64810711\n",
      "Iteration 188, loss = 0.64795425\n",
      "Iteration 189, loss = 0.64620789\n",
      "Iteration 190, loss = 0.64670524\n",
      "Iteration 191, loss = 0.64608436\n",
      "Iteration 192, loss = 0.64547851\n",
      "Iteration 193, loss = 0.64502182\n",
      "Iteration 194, loss = 0.64325566\n",
      "Iteration 195, loss = 0.64400383\n",
      "Iteration 196, loss = 0.64181295\n",
      "Iteration 197, loss = 0.64281093\n",
      "Iteration 198, loss = 0.64143340\n",
      "Iteration 199, loss = 0.64227541\n",
      "Iteration 200, loss = 0.64125049\n",
      "Iteration 201, loss = 0.64014138\n",
      "Iteration 202, loss = 0.64032397\n",
      "Iteration 203, loss = 0.63966515\n",
      "Iteration 204, loss = 0.63979710\n",
      "Iteration 205, loss = 0.63921637\n",
      "Iteration 206, loss = 0.63755920\n",
      "Iteration 207, loss = 0.63778424\n",
      "Iteration 208, loss = 0.63864105\n",
      "Iteration 209, loss = 0.63858939\n",
      "Training loss did not improve more than tol=0.000100 for two consecutive epochs. Stopping.\n",
      "MLPRegressor  score:  0.8300451961620092\n",
      " \n",
      "first 10 predicted values:  [2.60246215 2.47759905 3.03840141 2.9969687  3.44471629 8.26310945\n",
      " 3.152163   2.1866236  8.46590959 6.79109962]\n",
      "first 10 values of target: \n",
      "44683    5\n",
      "43987    1\n",
      "46735    2\n",
      "18310    5\n",
      "55414    2\n",
      "18574    9\n",
      "16912    5\n",
      "13702    1\n",
      "20161    8\n",
      "9478     6\n",
      "Name: DecileScore, dtype: int64\n",
      " \n",
      "mean of predicted of values:  4.671800490908733  STD of predicted of values :  2.519463065101459\n",
      "describe of target\n",
      "count    3198.000000\n",
      "mean        4.714196\n",
      "std         2.762793\n",
      "min         1.000000\n",
      "25%         2.000000\n",
      "50%         4.000000\n",
      "75%         7.000000\n",
      "max        10.000000\n",
      "Name: DecileScore, dtype: float64\n"
     ]
    }
   ],
   "source": [
    "# Predicting and getting score\n",
    "y_pred_MLPR = ml_model_1(clf, 'MLPRegressor', 'RiskRecidivism', X_train, X_test, y_train, y_test, 'DecileScore')"
   ]
  },
  {
   "cell_type": "code",
   "execution_count": null,
   "metadata": {
    "collapsed": true
   },
   "outputs": [],
   "source": [
    "# MLPRegressor  score:  0.8300451961620092"
   ]
  },
  {
   "cell_type": "markdown",
   "metadata": {},
   "source": [
    "# Test Bias by substituting 'Caucasian' to 'African-American' in the RiskRecidivism dataset"
   ]
  },
  {
   "cell_type": "code",
   "execution_count": 38,
   "metadata": {
    "collapsed": true
   },
   "outputs": [],
   "source": [
    "# getting subset data from RiskRecidivism dataset\n",
    "whiteRR = RiskRecidivism.loc[RiskRecidivism['Ethnic_Code_Text'] == 'Caucasian']\n",
    "blackRR = RiskRecidivism.loc[RiskRecidivism['Ethnic_Code_Text'] == 'Caucasian']"
   ]
  },
  {
   "cell_type": "code",
   "execution_count": 39,
   "metadata": {},
   "outputs": [
    {
     "name": "stderr",
     "output_type": "stream",
     "text": [
      "C:\\Users\\rivas\\Anaconda3\\lib\\site-packages\\pandas\\core\\indexing.py:517: SettingWithCopyWarning: \n",
      "A value is trying to be set on a copy of a slice from a DataFrame.\n",
      "Try using .loc[row_indexer,col_indexer] = value instead\n",
      "\n",
      "See the caveats in the documentation: http://pandas.pydata.org/pandas-docs/stable/indexing.html#indexing-view-versus-copy\n",
      "  self.obj[item] = s\n"
     ]
    }
   ],
   "source": [
    "# substituting 'Caucasian' to 'African-American' in the dataset\n",
    "blackRR.loc[blackRR['Ethnic_Code_Text'] != 'African-American', 'Ethnic_Code_Text'] = 'African-American'"
   ]
  },
  {
   "cell_type": "code",
   "execution_count": 40,
   "metadata": {},
   "outputs": [
    {
     "data": {
      "text/plain": [
       "Caucasian    5092\n",
       "Name: Ethnic_Code_Text, dtype: int64"
      ]
     },
     "execution_count": 40,
     "metadata": {},
     "output_type": "execute_result"
    }
   ],
   "source": [
    "# Validating data\n",
    "pd.value_counts(whiteRR['Ethnic_Code_Text'])"
   ]
  },
  {
   "cell_type": "code",
   "execution_count": 41,
   "metadata": {},
   "outputs": [
    {
     "data": {
      "text/plain": [
       "African-American    5092\n",
       "Name: Ethnic_Code_Text, dtype: int64"
      ]
     },
     "execution_count": 41,
     "metadata": {},
     "output_type": "execute_result"
    }
   ],
   "source": [
    "pd.value_counts(blackRR['Ethnic_Code_Text'])"
   ]
  },
  {
   "cell_type": "code",
   "execution_count": null,
   "metadata": {
    "collapsed": true
   },
   "outputs": [],
   "source": [
    "# Using the DecileScore for the target"
   ]
  },
  {
   "cell_type": "code",
   "execution_count": 42,
   "metadata": {},
   "outputs": [
    {
     "name": "stderr",
     "output_type": "stream",
     "text": [
      "C:\\Users\\rivas\\Anaconda3\\lib\\site-packages\\ipykernel_launcher.py:32: SettingWithCopyWarning: \n",
      "A value is trying to be set on a copy of a slice from a DataFrame.\n",
      "Try using .loc[row_indexer,col_indexer] = value instead\n",
      "\n",
      "See the caveats in the documentation: http://pandas.pydata.org/pandas-docs/stable/indexing.html#indexing-view-versus-copy\n",
      "C:\\Users\\rivas\\Anaconda3\\lib\\site-packages\\ipykernel_launcher.py:33: SettingWithCopyWarning: \n",
      "A value is trying to be set on a copy of a slice from a DataFrame.\n",
      "Try using .loc[row_indexer,col_indexer] = value instead\n",
      "\n",
      "See the caveats in the documentation: http://pandas.pydata.org/pandas-docs/stable/indexing.html#indexing-view-versus-copy\n",
      "C:\\Users\\rivas\\Anaconda3\\lib\\site-packages\\ipykernel_launcher.py:34: SettingWithCopyWarning: \n",
      "A value is trying to be set on a copy of a slice from a DataFrame.\n",
      "Try using .loc[row_indexer,col_indexer] = value instead\n",
      "\n",
      "See the caveats in the documentation: http://pandas.pydata.org/pandas-docs/stable/indexing.html#indexing-view-versus-copy\n",
      "C:\\Users\\rivas\\Anaconda3\\lib\\site-packages\\ipykernel_launcher.py:35: SettingWithCopyWarning: \n",
      "A value is trying to be set on a copy of a slice from a DataFrame.\n",
      "Try using .loc[row_indexer,col_indexer] = value instead\n",
      "\n",
      "See the caveats in the documentation: http://pandas.pydata.org/pandas-docs/stable/indexing.html#indexing-view-versus-copy\n"
     ]
    },
    {
     "name": "stdout",
     "output_type": "stream",
     "text": [
      "columns: Index(['Age', 'Sex_Code_Text_cat', 'Ethnic_Code_Text_cat', 'LegalStatus_cat',\n",
      "       'CustodyStatus_cat', 'MaritalStatus_cat',\n",
      "       'RecSupervisionLevelText_cat'],\n",
      "      dtype='object')\n",
      "Length for X_train: 4073  X_test: 1019  y_train: 4073  y_test: 1019\n"
     ]
    },
    {
     "name": "stderr",
     "output_type": "stream",
     "text": [
      "C:\\Users\\rivas\\Anaconda3\\lib\\site-packages\\ipykernel_launcher.py:36: SettingWithCopyWarning: \n",
      "A value is trying to be set on a copy of a slice from a DataFrame.\n",
      "Try using .loc[row_indexer,col_indexer] = value instead\n",
      "\n",
      "See the caveats in the documentation: http://pandas.pydata.org/pandas-docs/stable/indexing.html#indexing-view-versus-copy\n",
      "C:\\Users\\rivas\\Anaconda3\\lib\\site-packages\\ipykernel_launcher.py:37: SettingWithCopyWarning: \n",
      "A value is trying to be set on a copy of a slice from a DataFrame.\n",
      "Try using .loc[row_indexer,col_indexer] = value instead\n",
      "\n",
      "See the caveats in the documentation: http://pandas.pydata.org/pandas-docs/stable/indexing.html#indexing-view-versus-copy\n"
     ]
    }
   ],
   "source": [
    "# Prepare data for model for whiteRR dataset \n",
    "Xwht_train, Xwht_test, ywht_train, ywht_test =  prepare_data_for_ml_model_1(whiteRR,23)"
   ]
  },
  {
   "cell_type": "code",
   "execution_count": 43,
   "metadata": {},
   "outputs": [
    {
     "name": "stderr",
     "output_type": "stream",
     "text": [
      "C:\\Users\\rivas\\Anaconda3\\lib\\site-packages\\ipykernel_launcher.py:32: SettingWithCopyWarning: \n",
      "A value is trying to be set on a copy of a slice from a DataFrame.\n",
      "Try using .loc[row_indexer,col_indexer] = value instead\n",
      "\n",
      "See the caveats in the documentation: http://pandas.pydata.org/pandas-docs/stable/indexing.html#indexing-view-versus-copy\n",
      "C:\\Users\\rivas\\Anaconda3\\lib\\site-packages\\ipykernel_launcher.py:33: SettingWithCopyWarning: \n",
      "A value is trying to be set on a copy of a slice from a DataFrame.\n",
      "Try using .loc[row_indexer,col_indexer] = value instead\n",
      "\n",
      "See the caveats in the documentation: http://pandas.pydata.org/pandas-docs/stable/indexing.html#indexing-view-versus-copy\n",
      "C:\\Users\\rivas\\Anaconda3\\lib\\site-packages\\ipykernel_launcher.py:34: SettingWithCopyWarning: \n",
      "A value is trying to be set on a copy of a slice from a DataFrame.\n",
      "Try using .loc[row_indexer,col_indexer] = value instead\n",
      "\n",
      "See the caveats in the documentation: http://pandas.pydata.org/pandas-docs/stable/indexing.html#indexing-view-versus-copy\n",
      "C:\\Users\\rivas\\Anaconda3\\lib\\site-packages\\ipykernel_launcher.py:35: SettingWithCopyWarning: \n",
      "A value is trying to be set on a copy of a slice from a DataFrame.\n",
      "Try using .loc[row_indexer,col_indexer] = value instead\n",
      "\n",
      "See the caveats in the documentation: http://pandas.pydata.org/pandas-docs/stable/indexing.html#indexing-view-versus-copy\n"
     ]
    },
    {
     "name": "stdout",
     "output_type": "stream",
     "text": [
      "columns: Index(['Age', 'Sex_Code_Text_cat', 'Ethnic_Code_Text_cat', 'LegalStatus_cat',\n",
      "       'CustodyStatus_cat', 'MaritalStatus_cat',\n",
      "       'RecSupervisionLevelText_cat'],\n",
      "      dtype='object')\n",
      "Length for X_train: 4073  X_test: 1019  y_train: 4073  y_test: 1019\n"
     ]
    },
    {
     "name": "stderr",
     "output_type": "stream",
     "text": [
      "C:\\Users\\rivas\\Anaconda3\\lib\\site-packages\\ipykernel_launcher.py:36: SettingWithCopyWarning: \n",
      "A value is trying to be set on a copy of a slice from a DataFrame.\n",
      "Try using .loc[row_indexer,col_indexer] = value instead\n",
      "\n",
      "See the caveats in the documentation: http://pandas.pydata.org/pandas-docs/stable/indexing.html#indexing-view-versus-copy\n",
      "C:\\Users\\rivas\\Anaconda3\\lib\\site-packages\\ipykernel_launcher.py:37: SettingWithCopyWarning: \n",
      "A value is trying to be set on a copy of a slice from a DataFrame.\n",
      "Try using .loc[row_indexer,col_indexer] = value instead\n",
      "\n",
      "See the caveats in the documentation: http://pandas.pydata.org/pandas-docs/stable/indexing.html#indexing-view-versus-copy\n"
     ]
    }
   ],
   "source": [
    "# Prepare data for model for blackRR dataset \n",
    "Xblk_train, Xblk_test, yblk_train, yblk_test = prepare_data_for_ml_model_1(blackRR,23)"
   ]
  },
  {
   "cell_type": "code",
   "execution_count": 44,
   "metadata": {},
   "outputs": [
    {
     "name": "stdout",
     "output_type": "stream",
     "text": [
      "Iteration 1, loss = 13.70782848\n",
      "Iteration 2, loss = 13.01468627\n",
      "Iteration 3, loss = 12.05988298\n",
      "Iteration 4, loss = 10.54569115\n",
      "Iteration 5, loss = 8.85629037\n",
      "Iteration 6, loss = 7.75220948\n",
      "Iteration 7, loss = 7.16908433\n",
      "Iteration 8, loss = 6.78768430\n",
      "Iteration 9, loss = 6.48747554\n",
      "Iteration 10, loss = 6.22821711\n",
      "Iteration 11, loss = 5.99369520\n",
      "Iteration 12, loss = 5.77871260\n",
      "Iteration 13, loss = 5.58076191\n",
      "Iteration 14, loss = 5.39737378\n",
      "Iteration 15, loss = 5.22947621\n",
      "Iteration 16, loss = 5.07187750\n",
      "Iteration 17, loss = 4.92543576\n",
      "Iteration 18, loss = 4.79157513\n",
      "Iteration 19, loss = 4.66633517\n",
      "Iteration 20, loss = 4.54975592\n",
      "Iteration 21, loss = 4.44304165\n",
      "Iteration 22, loss = 4.34496699\n",
      "Iteration 23, loss = 4.25380891\n",
      "Iteration 24, loss = 4.16941265\n",
      "Iteration 25, loss = 4.09271250\n",
      "Iteration 26, loss = 4.02082441\n",
      "Iteration 27, loss = 3.95590284\n",
      "Iteration 28, loss = 3.89653645\n",
      "Iteration 29, loss = 3.84106411\n",
      "Iteration 30, loss = 3.79123691\n",
      "Iteration 31, loss = 3.74524293\n",
      "Iteration 32, loss = 3.70361163\n",
      "Iteration 33, loss = 3.66610218\n",
      "Iteration 34, loss = 3.63139111\n",
      "Iteration 35, loss = 3.60061452\n",
      "Iteration 36, loss = 3.57366944\n",
      "Iteration 37, loss = 3.54788932\n",
      "Iteration 38, loss = 3.52673704\n",
      "Iteration 39, loss = 3.50535066\n",
      "Iteration 40, loss = 3.48757589\n",
      "Iteration 41, loss = 3.47167564\n",
      "Iteration 42, loss = 3.45685051\n",
      "Iteration 43, loss = 3.44417019\n",
      "Iteration 44, loss = 3.43250323\n",
      "Iteration 45, loss = 3.42181721\n",
      "Iteration 46, loss = 3.41316106\n",
      "Iteration 47, loss = 3.40480783\n",
      "Iteration 48, loss = 3.39748672\n",
      "Iteration 49, loss = 3.39153845\n",
      "Iteration 50, loss = 3.38541207\n",
      "Iteration 51, loss = 3.38042684\n",
      "Iteration 52, loss = 3.37561446\n",
      "Iteration 53, loss = 3.37101971\n",
      "Iteration 54, loss = 3.36612199\n",
      "Iteration 55, loss = 3.36104943\n",
      "Iteration 56, loss = 3.35538152\n",
      "Iteration 57, loss = 3.34842087\n",
      "Iteration 58, loss = 3.33895493\n",
      "Iteration 59, loss = 3.32615346\n",
      "Iteration 60, loss = 3.30945428\n",
      "Iteration 61, loss = 3.28610558\n",
      "Iteration 62, loss = 3.25229788\n",
      "Iteration 63, loss = 3.21180614\n",
      "Iteration 64, loss = 3.18373536\n",
      "Iteration 65, loss = 3.15961960\n",
      "Iteration 66, loss = 3.13647083\n",
      "Iteration 67, loss = 3.11438737\n",
      "Iteration 68, loss = 3.09360490\n",
      "Iteration 69, loss = 3.07341247\n",
      "Iteration 70, loss = 3.05387348\n",
      "Iteration 71, loss = 3.03612334\n",
      "Iteration 72, loss = 3.01855302\n",
      "Iteration 73, loss = 3.00124289\n",
      "Iteration 74, loss = 2.98529957\n",
      "Iteration 75, loss = 2.96943500\n",
      "Iteration 76, loss = 2.95474207\n",
      "Iteration 77, loss = 2.94036107\n",
      "Iteration 78, loss = 2.92658368\n",
      "Iteration 79, loss = 2.91311308\n",
      "Iteration 80, loss = 2.90001612\n",
      "Iteration 81, loss = 2.88778940\n",
      "Iteration 82, loss = 2.87538745\n",
      "Iteration 83, loss = 2.86299682\n",
      "Iteration 84, loss = 2.85083683\n",
      "Iteration 85, loss = 2.83826515\n",
      "Iteration 86, loss = 2.82552143\n",
      "Iteration 87, loss = 2.81258461\n",
      "Iteration 88, loss = 2.79992044\n",
      "Iteration 89, loss = 2.78762999\n",
      "Iteration 90, loss = 2.77584151\n",
      "Iteration 91, loss = 2.76528483\n",
      "Iteration 92, loss = 2.75377207\n",
      "Iteration 93, loss = 2.74463042\n",
      "Iteration 94, loss = 2.73250769\n",
      "Iteration 95, loss = 2.72213106\n",
      "Iteration 96, loss = 2.71325591\n",
      "Iteration 97, loss = 2.70141882\n",
      "Iteration 98, loss = 2.69141906\n",
      "Iteration 99, loss = 2.68266004\n",
      "Iteration 100, loss = 2.67172963\n",
      "Iteration 101, loss = 2.66176814\n",
      "Iteration 102, loss = 2.65195038\n",
      "Iteration 103, loss = 2.64227055\n",
      "Iteration 104, loss = 2.63246486\n",
      "Iteration 105, loss = 2.62276285\n",
      "Iteration 106, loss = 2.61487449\n",
      "Iteration 107, loss = 2.60396819\n",
      "Iteration 108, loss = 2.59317981\n",
      "Iteration 109, loss = 2.58413962\n",
      "Iteration 110, loss = 2.57436789\n",
      "Iteration 111, loss = 2.56513429\n",
      "Iteration 112, loss = 2.55641335\n",
      "Iteration 113, loss = 2.54644366\n",
      "Iteration 114, loss = 2.53465992\n",
      "Iteration 115, loss = 2.52597483\n",
      "Iteration 116, loss = 2.51877206\n",
      "Iteration 117, loss = 2.50597775\n",
      "Iteration 118, loss = 2.49627101\n",
      "Iteration 119, loss = 2.48634422\n",
      "Iteration 120, loss = 2.47566875\n",
      "Iteration 121, loss = 2.46639358\n",
      "Iteration 122, loss = 2.45647215\n",
      "Iteration 123, loss = 2.44555496\n",
      "Iteration 124, loss = 2.43551562\n",
      "Iteration 125, loss = 2.42545380\n",
      "Iteration 126, loss = 2.41477215\n",
      "Iteration 127, loss = 2.40484147\n",
      "Iteration 128, loss = 2.39510224\n",
      "Iteration 129, loss = 2.38380030\n",
      "Iteration 130, loss = 2.37360817\n",
      "Iteration 131, loss = 2.36390729\n",
      "Iteration 132, loss = 2.35274382\n",
      "Iteration 133, loss = 2.34332024\n",
      "Iteration 134, loss = 2.33267585\n",
      "Iteration 135, loss = 2.32292607\n",
      "Iteration 136, loss = 2.31266732\n",
      "Iteration 137, loss = 2.30158510\n",
      "Iteration 138, loss = 2.29149527\n",
      "Iteration 139, loss = 2.28154419\n",
      "Iteration 140, loss = 2.27178663\n",
      "Iteration 141, loss = 2.26131012\n",
      "Iteration 142, loss = 2.25180379\n",
      "Iteration 143, loss = 2.24254234\n",
      "Iteration 144, loss = 2.23234194\n",
      "Iteration 145, loss = 2.22431035\n",
      "Iteration 146, loss = 2.21256398\n",
      "Iteration 147, loss = 2.20312309\n",
      "Iteration 148, loss = 2.19445118\n",
      "Iteration 149, loss = 2.18517831\n",
      "Iteration 150, loss = 2.17607090\n",
      "Iteration 151, loss = 2.16694101\n",
      "Iteration 152, loss = 2.15870515\n",
      "Iteration 153, loss = 2.14904743\n",
      "Iteration 154, loss = 2.14006030\n",
      "Iteration 155, loss = 2.13153142\n",
      "Iteration 156, loss = 2.12343980\n",
      "Iteration 157, loss = 2.11525161\n",
      "Iteration 158, loss = 2.10659322\n",
      "Iteration 159, loss = 2.09869884\n",
      "Iteration 160, loss = 2.09090933\n",
      "Iteration 161, loss = 2.08284658\n",
      "Iteration 162, loss = 2.07537650\n",
      "Iteration 163, loss = 2.06806658\n",
      "Iteration 164, loss = 2.05941702\n",
      "Iteration 165, loss = 2.05242282\n",
      "Iteration 166, loss = 2.04356461\n",
      "Iteration 167, loss = 2.02282501\n",
      "Iteration 168, loss = 1.99914671\n",
      "Iteration 169, loss = 1.98435521\n",
      "Iteration 170, loss = 1.97176635\n",
      "Iteration 171, loss = 1.95945623\n",
      "Iteration 172, loss = 1.94946273\n",
      "Iteration 173, loss = 1.93761643\n",
      "Iteration 174, loss = 1.92790292\n",
      "Iteration 175, loss = 1.91981969\n",
      "Iteration 176, loss = 1.91000670\n",
      "Iteration 177, loss = 1.90172019\n",
      "Iteration 178, loss = 1.89365863\n",
      "Iteration 179, loss = 1.88419098\n",
      "Iteration 180, loss = 1.87589700\n",
      "Iteration 181, loss = 1.86863381\n",
      "Iteration 182, loss = 1.86147090\n",
      "Iteration 183, loss = 1.85396401\n",
      "Iteration 184, loss = 1.84691696\n",
      "Iteration 185, loss = 1.83998775\n",
      "Iteration 186, loss = 1.83288444\n",
      "Iteration 187, loss = 1.82680727\n",
      "Iteration 188, loss = 1.82091951\n",
      "Iteration 189, loss = 1.81331702\n",
      "Iteration 190, loss = 1.80803823\n",
      "Iteration 191, loss = 1.80143507\n",
      "Iteration 192, loss = 1.79599642\n",
      "Iteration 193, loss = 1.79000790\n",
      "Iteration 194, loss = 1.78421458\n",
      "Iteration 195, loss = 1.77938984\n",
      "Iteration 196, loss = 1.77331245\n",
      "Iteration 197, loss = 1.76844262\n",
      "Iteration 198, loss = 1.76331827\n",
      "Iteration 199, loss = 1.75882032\n",
      "Iteration 200, loss = 1.75401437\n",
      "Iteration 201, loss = 1.74806932\n",
      "Iteration 202, loss = 1.74389542\n",
      "Iteration 203, loss = 1.73988703\n",
      "Iteration 204, loss = 1.73457559\n",
      "Iteration 205, loss = 1.73029309\n",
      "Iteration 206, loss = 1.72674722\n",
      "Iteration 207, loss = 1.72228475\n",
      "Iteration 208, loss = 1.71806660\n",
      "Iteration 209, loss = 1.71352178\n",
      "Iteration 210, loss = 1.71030178\n",
      "Iteration 211, loss = 1.70620734\n",
      "Iteration 212, loss = 1.70353061\n",
      "Iteration 213, loss = 1.70123640\n",
      "Iteration 214, loss = 1.69633027\n",
      "Iteration 215, loss = 1.69206456\n",
      "Iteration 216, loss = 1.68972499\n",
      "Iteration 217, loss = 1.68633977\n",
      "Iteration 218, loss = 1.68243457\n",
      "Iteration 219, loss = 1.67941311\n",
      "Iteration 220, loss = 1.67828067\n",
      "Iteration 221, loss = 1.67572395\n",
      "Iteration 222, loss = 1.67179554\n",
      "Iteration 223, loss = 1.66781057\n",
      "Iteration 224, loss = 1.66557090\n",
      "Iteration 225, loss = 1.66319871\n",
      "Iteration 226, loss = 1.66074285\n",
      "Iteration 227, loss = 1.65748338\n",
      "Iteration 228, loss = 1.65553090\n",
      "Iteration 229, loss = 1.65341330\n",
      "Iteration 230, loss = 1.65017277\n",
      "Iteration 231, loss = 1.64802478\n",
      "Iteration 232, loss = 1.64563595\n",
      "Iteration 233, loss = 1.64314253\n",
      "Iteration 234, loss = 1.64117479\n",
      "Iteration 235, loss = 1.63951477\n",
      "Iteration 236, loss = 1.63730411\n",
      "Iteration 237, loss = 1.63478359\n",
      "Iteration 238, loss = 1.63381976\n",
      "Iteration 239, loss = 1.63100285\n",
      "Iteration 240, loss = 1.62956634\n",
      "Iteration 241, loss = 1.62946148\n",
      "Iteration 242, loss = 1.62605486\n",
      "Iteration 243, loss = 1.62459260\n",
      "Iteration 244, loss = 1.62190315\n",
      "Iteration 245, loss = 1.62066798\n",
      "Iteration 246, loss = 1.61939898\n",
      "Iteration 247, loss = 1.61713678\n",
      "Iteration 248, loss = 1.61582938\n",
      "Iteration 249, loss = 1.61420069\n",
      "Iteration 250, loss = 1.61319434\n",
      "Iteration 251, loss = 1.61123941\n",
      "Iteration 252, loss = 1.61219118\n",
      "Iteration 253, loss = 1.60919368\n",
      "Iteration 254, loss = 1.60940349\n",
      "Iteration 255, loss = 1.60605866\n",
      "Iteration 256, loss = 1.60457163\n",
      "Iteration 257, loss = 1.60421564\n",
      "Iteration 258, loss = 1.60231956\n",
      "Iteration 259, loss = 1.60098632\n",
      "Iteration 260, loss = 1.59977237\n",
      "Iteration 261, loss = 1.59911590\n",
      "Iteration 262, loss = 1.59716553\n",
      "Iteration 263, loss = 1.59686963\n",
      "Iteration 264, loss = 1.59647965\n"
     ]
    },
    {
     "name": "stdout",
     "output_type": "stream",
     "text": [
      "Iteration 265, loss = 1.59637785\n",
      "Iteration 266, loss = 1.59568559\n",
      "Iteration 267, loss = 1.59221102\n",
      "Iteration 268, loss = 1.59104099\n",
      "Iteration 269, loss = 1.59018319\n",
      "Iteration 270, loss = 1.58914627\n",
      "Iteration 271, loss = 1.58810055\n",
      "Iteration 272, loss = 1.58780994\n",
      "Iteration 273, loss = 1.58664786\n",
      "Iteration 274, loss = 1.58633819\n",
      "Iteration 275, loss = 1.58486723\n",
      "Iteration 276, loss = 1.58413326\n",
      "Iteration 277, loss = 1.58265002\n",
      "Iteration 278, loss = 1.58213725\n",
      "Iteration 279, loss = 1.58114622\n",
      "Iteration 280, loss = 1.58055843\n",
      "Iteration 281, loss = 1.58008669\n",
      "Iteration 282, loss = 1.57926952\n",
      "Iteration 283, loss = 1.57833863\n",
      "Iteration 284, loss = 1.57813777\n",
      "Iteration 285, loss = 1.57705654\n",
      "Iteration 286, loss = 1.57586216\n",
      "Iteration 287, loss = 1.57570877\n",
      "Iteration 288, loss = 1.57476512\n",
      "Iteration 289, loss = 1.57453861\n",
      "Iteration 290, loss = 1.57410766\n",
      "Iteration 291, loss = 1.57346540\n",
      "Iteration 292, loss = 1.57243051\n",
      "Iteration 293, loss = 1.57373586\n",
      "Iteration 294, loss = 1.57081914\n",
      "Iteration 295, loss = 1.57040016\n",
      "Iteration 296, loss = 1.56971452\n",
      "Iteration 297, loss = 1.56898599\n",
      "Iteration 298, loss = 1.56792488\n",
      "Iteration 299, loss = 1.56757374\n",
      "Iteration 300, loss = 1.56683319\n",
      "Iteration 301, loss = 1.56668731\n",
      "Iteration 302, loss = 1.56611648\n",
      "Iteration 303, loss = 1.56632954\n",
      "Iteration 304, loss = 1.56472501\n",
      "Iteration 305, loss = 1.56439726\n",
      "Iteration 306, loss = 1.56431528\n",
      "Iteration 307, loss = 1.56366311\n",
      "Iteration 308, loss = 1.56257617\n",
      "Iteration 309, loss = 1.56292593\n",
      "Iteration 310, loss = 1.56318817\n",
      "Iteration 311, loss = 1.56173397\n",
      "Iteration 312, loss = 1.56104818\n",
      "Iteration 313, loss = 1.55990995\n",
      "Iteration 314, loss = 1.56004002\n",
      "Iteration 315, loss = 1.55991390\n",
      "Iteration 316, loss = 1.55975855\n",
      "Iteration 317, loss = 1.55791249\n",
      "Iteration 318, loss = 1.55770812\n",
      "Iteration 319, loss = 1.55657562\n",
      "Iteration 320, loss = 1.55658826\n",
      "Iteration 321, loss = 1.55593212\n",
      "Iteration 322, loss = 1.55535064\n",
      "Iteration 323, loss = 1.55528839\n",
      "Iteration 324, loss = 1.55434157\n",
      "Iteration 325, loss = 1.55366296\n",
      "Iteration 326, loss = 1.55302171\n",
      "Iteration 327, loss = 1.55288886\n",
      "Iteration 328, loss = 1.55295159\n",
      "Iteration 329, loss = 1.55452287\n",
      "Iteration 330, loss = 1.55235501\n",
      "Iteration 331, loss = 1.55080483\n",
      "Iteration 332, loss = 1.55053404\n",
      "Iteration 333, loss = 1.55011474\n",
      "Iteration 334, loss = 1.55156435\n",
      "Iteration 335, loss = 1.54947315\n",
      "Iteration 336, loss = 1.55112222\n",
      "Iteration 337, loss = 1.54986510\n",
      "Iteration 338, loss = 1.54795214\n",
      "Iteration 339, loss = 1.54843947\n",
      "Iteration 340, loss = 1.54663437\n",
      "Iteration 341, loss = 1.54839448\n",
      "Iteration 342, loss = 1.54734692\n",
      "Iteration 343, loss = 1.54440411\n",
      "Iteration 344, loss = 1.53367213\n",
      "Iteration 345, loss = 1.52433805\n",
      "Iteration 346, loss = 1.51943388\n",
      "Iteration 347, loss = 1.51065955\n",
      "Iteration 348, loss = 1.50320636\n",
      "Iteration 349, loss = 1.49613541\n",
      "Iteration 350, loss = 1.48788458\n",
      "Iteration 351, loss = 1.48127788\n",
      "Iteration 352, loss = 1.47399644\n",
      "Iteration 353, loss = 1.46837017\n",
      "Iteration 354, loss = 1.45949140\n",
      "Iteration 355, loss = 1.45438175\n",
      "Iteration 356, loss = 1.44915575\n",
      "Iteration 357, loss = 1.43876810\n",
      "Iteration 358, loss = 1.43373227\n",
      "Iteration 359, loss = 1.42420651\n",
      "Iteration 360, loss = 1.41816225\n",
      "Iteration 361, loss = 1.41171977\n",
      "Iteration 362, loss = 1.40597366\n",
      "Iteration 363, loss = 1.39731799\n",
      "Iteration 364, loss = 1.39092289\n",
      "Iteration 365, loss = 1.38863174\n",
      "Iteration 366, loss = 1.37986809\n",
      "Iteration 367, loss = 1.37399112\n",
      "Iteration 368, loss = 1.36641044\n",
      "Iteration 369, loss = 1.35987712\n",
      "Iteration 370, loss = 1.35290850\n",
      "Iteration 371, loss = 1.34804572\n",
      "Iteration 372, loss = 1.34008140\n",
      "Iteration 373, loss = 1.33347443\n",
      "Iteration 374, loss = 1.33015560\n",
      "Iteration 375, loss = 1.32232892\n",
      "Iteration 376, loss = 1.31040399\n",
      "Iteration 377, loss = 1.30187552\n",
      "Iteration 378, loss = 1.29501342\n",
      "Iteration 379, loss = 1.28605705\n",
      "Iteration 380, loss = 1.27846802\n",
      "Iteration 381, loss = 1.27377988\n",
      "Iteration 382, loss = 1.26739934\n",
      "Iteration 383, loss = 1.25928042\n",
      "Iteration 384, loss = 1.25175179\n",
      "Iteration 385, loss = 1.24624942\n",
      "Iteration 386, loss = 1.24269020\n",
      "Iteration 387, loss = 1.23555102\n",
      "Iteration 388, loss = 1.22770044\n",
      "Iteration 389, loss = 1.22271013\n",
      "Iteration 390, loss = 1.21694413\n",
      "Iteration 391, loss = 1.21242867\n",
      "Iteration 392, loss = 1.20610215\n",
      "Iteration 393, loss = 1.19971397\n",
      "Iteration 394, loss = 1.19516128\n",
      "Iteration 395, loss = 1.18930765\n",
      "Iteration 396, loss = 1.18411972\n",
      "Iteration 397, loss = 1.17766318\n",
      "Iteration 398, loss = 1.17270571\n",
      "Iteration 399, loss = 1.16712843\n",
      "Iteration 400, loss = 1.16878818\n",
      "Iteration 401, loss = 1.15823400\n",
      "Iteration 402, loss = 1.15259904\n",
      "Iteration 403, loss = 1.14861371\n",
      "Iteration 404, loss = 1.14243108\n",
      "Iteration 405, loss = 1.13858698\n",
      "Iteration 406, loss = 1.13272872\n",
      "Iteration 407, loss = 1.12815156\n",
      "Iteration 408, loss = 1.12432280\n",
      "Iteration 409, loss = 1.11891601\n",
      "Iteration 410, loss = 1.11377879\n",
      "Iteration 411, loss = 1.10959793\n",
      "Iteration 412, loss = 1.10534446\n",
      "Iteration 413, loss = 1.10169380\n",
      "Iteration 414, loss = 1.09852977\n",
      "Iteration 415, loss = 1.09286530\n",
      "Iteration 416, loss = 1.08873558\n",
      "Iteration 417, loss = 1.08625535\n",
      "Iteration 418, loss = 1.07861071\n",
      "Iteration 419, loss = 1.07468022\n",
      "Iteration 420, loss = 1.07339315\n",
      "Iteration 421, loss = 1.06622921\n",
      "Iteration 422, loss = 1.06460118\n",
      "Iteration 423, loss = 1.05887338\n",
      "Iteration 424, loss = 1.05410614\n",
      "Iteration 425, loss = 1.05188252\n",
      "Iteration 426, loss = 1.04791728\n",
      "Iteration 427, loss = 1.04313577\n",
      "Iteration 428, loss = 1.03851242\n",
      "Iteration 429, loss = 1.03690708\n",
      "Iteration 430, loss = 1.03290239\n",
      "Iteration 431, loss = 1.02779626\n",
      "Iteration 432, loss = 1.02304931\n",
      "Iteration 433, loss = 1.01958919\n",
      "Iteration 434, loss = 1.01426506\n",
      "Iteration 435, loss = 1.00913430\n",
      "Iteration 436, loss = 1.00568030\n",
      "Iteration 437, loss = 1.00331645\n",
      "Iteration 438, loss = 0.99851496\n",
      "Iteration 439, loss = 0.99441398\n",
      "Iteration 440, loss = 0.99041721\n",
      "Iteration 441, loss = 0.98715529\n",
      "Iteration 442, loss = 0.98222345\n",
      "Iteration 443, loss = 0.98044009\n",
      "Iteration 444, loss = 0.97632799\n",
      "Iteration 445, loss = 0.97168822\n",
      "Iteration 446, loss = 0.96797838\n",
      "Iteration 447, loss = 0.96659027\n",
      "Iteration 448, loss = 0.96111028\n",
      "Iteration 449, loss = 0.95627172\n",
      "Iteration 450, loss = 0.95221585\n",
      "Iteration 451, loss = 0.94829743\n",
      "Iteration 452, loss = 0.94311642\n",
      "Iteration 453, loss = 0.94084300\n",
      "Iteration 454, loss = 0.93554882\n",
      "Iteration 455, loss = 0.93333451\n",
      "Iteration 456, loss = 0.92810768\n",
      "Iteration 457, loss = 0.92520759\n",
      "Iteration 458, loss = 0.92144091\n",
      "Iteration 459, loss = 0.91718197\n",
      "Iteration 460, loss = 0.91289200\n",
      "Iteration 461, loss = 0.90930599\n",
      "Iteration 462, loss = 0.90556911\n",
      "Iteration 463, loss = 0.90367781\n",
      "Iteration 464, loss = 0.89983462\n",
      "Iteration 465, loss = 0.89564935\n",
      "Iteration 466, loss = 0.89120741\n",
      "Iteration 467, loss = 0.88776268\n",
      "Iteration 468, loss = 0.88653906\n",
      "Iteration 469, loss = 0.88210161\n",
      "Iteration 470, loss = 0.87844133\n",
      "Iteration 471, loss = 0.87425937\n",
      "Iteration 472, loss = 0.87349166\n",
      "Iteration 473, loss = 0.86834149\n",
      "Iteration 474, loss = 0.86563126\n",
      "Iteration 475, loss = 0.86170415\n",
      "Iteration 476, loss = 0.85863394\n",
      "Iteration 477, loss = 0.85702207\n",
      "Iteration 478, loss = 0.85388479\n",
      "Iteration 479, loss = 0.85083225\n",
      "Iteration 480, loss = 0.84689245\n",
      "Iteration 481, loss = 0.84439605\n",
      "Iteration 482, loss = 0.84230509\n",
      "Iteration 483, loss = 0.83926561\n",
      "Iteration 484, loss = 0.83689873\n",
      "Iteration 485, loss = 0.83355077\n",
      "Iteration 486, loss = 0.83061428\n",
      "Iteration 487, loss = 0.82899560\n",
      "Iteration 488, loss = 0.82716370\n",
      "Iteration 489, loss = 0.82438653\n",
      "Iteration 490, loss = 0.82211892\n",
      "Iteration 491, loss = 0.81904615\n",
      "Iteration 492, loss = 0.81526658\n",
      "Iteration 493, loss = 0.81289393\n",
      "Iteration 494, loss = 0.81183222\n",
      "Iteration 495, loss = 0.80896636\n",
      "Iteration 496, loss = 0.80572371\n",
      "Iteration 497, loss = 0.80437829\n",
      "Iteration 498, loss = 0.80149465\n",
      "Iteration 499, loss = 0.80218464\n",
      "Iteration 500, loss = 0.79949296\n",
      "Iteration 501, loss = 0.79546636\n",
      "Iteration 502, loss = 0.79295425\n",
      "Iteration 503, loss = 0.79107882\n",
      "Iteration 504, loss = 0.78846672\n",
      "Iteration 505, loss = 0.78680747\n",
      "Iteration 506, loss = 0.78435617\n",
      "Iteration 507, loss = 0.78203180\n",
      "Iteration 508, loss = 0.78071962\n",
      "Iteration 509, loss = 0.77768934\n",
      "Iteration 510, loss = 0.77767152\n",
      "Iteration 511, loss = 0.77549173\n",
      "Iteration 512, loss = 0.77370186\n",
      "Iteration 513, loss = 0.77289003\n",
      "Iteration 514, loss = 0.77038570\n",
      "Iteration 515, loss = 0.76972489\n",
      "Iteration 516, loss = 0.76679037\n",
      "Iteration 517, loss = 0.76405637\n",
      "Iteration 518, loss = 0.76349675\n",
      "Iteration 519, loss = 0.76253256\n",
      "Iteration 520, loss = 0.76015239\n",
      "Iteration 521, loss = 0.75797268\n",
      "Iteration 522, loss = 0.75678542\n",
      "Iteration 523, loss = 0.75527653\n",
      "Iteration 524, loss = 0.75409924\n",
      "Iteration 525, loss = 0.75227736\n",
      "Iteration 526, loss = 0.75101115\n",
      "Iteration 527, loss = 0.75006551\n",
      "Iteration 528, loss = 0.74817163\n",
      "Iteration 529, loss = 0.74689519\n",
      "Iteration 530, loss = 0.74561312\n"
     ]
    },
    {
     "name": "stdout",
     "output_type": "stream",
     "text": [
      "Iteration 531, loss = 0.74561856\n",
      "Iteration 532, loss = 0.74656830\n",
      "Iteration 533, loss = 0.74222340\n",
      "Iteration 534, loss = 0.74057056\n",
      "Iteration 535, loss = 0.74149677\n",
      "Iteration 536, loss = 0.73858326\n",
      "Iteration 537, loss = 0.73879467\n",
      "Iteration 538, loss = 0.73839838\n",
      "Iteration 539, loss = 0.73494092\n",
      "Iteration 540, loss = 0.73467712\n",
      "Iteration 541, loss = 0.73567784\n",
      "Iteration 542, loss = 0.73312925\n",
      "Iteration 543, loss = 0.73218299\n",
      "Iteration 544, loss = 0.73100024\n",
      "Iteration 545, loss = 0.72861433\n",
      "Iteration 546, loss = 0.72775497\n",
      "Iteration 547, loss = 0.72697903\n",
      "Iteration 548, loss = 0.72703636\n",
      "Iteration 549, loss = 0.72528057\n",
      "Iteration 550, loss = 0.72450307\n",
      "Iteration 551, loss = 0.72378681\n",
      "Iteration 552, loss = 0.72240115\n",
      "Iteration 553, loss = 0.72139427\n",
      "Iteration 554, loss = 0.72086711\n",
      "Iteration 555, loss = 0.72053392\n",
      "Iteration 556, loss = 0.72046969\n",
      "Iteration 557, loss = 0.71771978\n",
      "Iteration 558, loss = 0.71976357\n",
      "Iteration 559, loss = 0.71686108\n",
      "Iteration 560, loss = 0.71729720\n",
      "Iteration 561, loss = 0.71634018\n",
      "Iteration 562, loss = 0.71485136\n",
      "Iteration 563, loss = 0.71402422\n",
      "Iteration 564, loss = 0.71279104\n",
      "Iteration 565, loss = 0.71365123\n",
      "Iteration 566, loss = 0.71266565\n",
      "Iteration 567, loss = 0.71149370\n",
      "Iteration 568, loss = 0.71208537\n",
      "Iteration 569, loss = 0.71034565\n",
      "Iteration 570, loss = 0.70987381\n",
      "Iteration 571, loss = 0.70878076\n",
      "Iteration 572, loss = 0.70786346\n",
      "Iteration 573, loss = 0.70767833\n",
      "Iteration 574, loss = 0.70657142\n",
      "Iteration 575, loss = 0.70873882\n",
      "Iteration 576, loss = 0.70545347\n",
      "Iteration 577, loss = 0.70693565\n",
      "Iteration 578, loss = 0.70544440\n",
      "Iteration 579, loss = 0.70587883\n",
      "Training loss did not improve more than tol=0.000100 for two consecutive epochs. Stopping.\n"
     ]
    },
    {
     "data": {
      "text/plain": [
       "MLPRegressor(activation='logistic', alpha=0.001, batch_size='auto',\n",
       "       beta_1=0.9, beta_2=0.999, early_stopping=False, epsilon=1e-08,\n",
       "       hidden_layer_sizes=(10,), learning_rate='adaptive',\n",
       "       learning_rate_init=0.001, max_iter=50000, momentum=0.9,\n",
       "       nesterovs_momentum=True, power_t=0.5, random_state=None,\n",
       "       shuffle=True, solver='adam', tol=0.0001, validation_fraction=0.1,\n",
       "       verbose='True', warm_start=False)"
      ]
     },
     "execution_count": 44,
     "metadata": {},
     "output_type": "execute_result"
    }
   ],
   "source": [
    "# Using MLPRegressor using the WhiteRR training data\n",
    "clf.fit(Xwht_train, ywht_train)"
   ]
  },
  {
   "cell_type": "code",
   "execution_count": 45,
   "metadata": {
    "collapsed": true
   },
   "outputs": [],
   "source": [
    "# Predict for whiteRR dataset \n",
    "ywht_pred = clf.predict(Xwht_test)"
   ]
  },
  {
   "cell_type": "code",
   "execution_count": 49,
   "metadata": {
    "collapsed": true
   },
   "outputs": [],
   "source": [
    "# Predict for blackRR dataset \n",
    "yblk_pred = clf.predict(Xblk_test)"
   ]
  },
  {
   "cell_type": "code",
   "execution_count": 47,
   "metadata": {
    "collapsed": true
   },
   "outputs": [],
   "source": [
    "# rounding predicted results and converting into integers\n",
    "rndwht = (np.round(ywht_pred,0)).astype(int)"
   ]
  },
  {
   "cell_type": "code",
   "execution_count": 50,
   "metadata": {
    "collapsed": true
   },
   "outputs": [],
   "source": [
    "rndblk = (np.round(yblk_pred,0)).astype(int)"
   ]
  },
  {
   "cell_type": "code",
   "execution_count": 51,
   "metadata": {},
   "outputs": [
    {
     "data": {
      "text/plain": [
       "Counter({1: 161,\n",
       "         2: 171,\n",
       "         3: 144,\n",
       "         4: 138,\n",
       "         5: 111,\n",
       "         6: 80,\n",
       "         7: 71,\n",
       "         8: 59,\n",
       "         9: 52,\n",
       "         10: 32})"
      ]
     },
     "execution_count": 51,
     "metadata": {},
     "output_type": "execute_result"
    }
   ],
   "source": [
    "# comparing results\n",
    "collections.Counter(ywht_test) # base test target"
   ]
  },
  {
   "cell_type": "code",
   "execution_count": 52,
   "metadata": {},
   "outputs": [
    {
     "data": {
      "text/plain": [
       "Counter({2: 226, 3: 416, 4: 43, 5: 19, 6: 122, 7: 37, 8: 94, 9: 62})"
      ]
     },
     "execution_count": 52,
     "metadata": {},
     "output_type": "execute_result"
    }
   ],
   "source": [
    "collections.Counter(rndwht)    # white predict"
   ]
  },
  {
   "cell_type": "code",
   "execution_count": 53,
   "metadata": {},
   "outputs": [
    {
     "data": {
      "text/plain": [
       "Counter({1: 1, 2: 238, 3: 407, 4: 39, 5: 15, 6: 112, 7: 38, 8: 94, 9: 75})"
      ]
     },
     "execution_count": 53,
     "metadata": {},
     "output_type": "execute_result"
    }
   ],
   "source": [
    "collections.Counter(rndblk)    # black predict"
   ]
  },
  {
   "cell_type": "code",
   "execution_count": null,
   "metadata": {
    "collapsed": true
   },
   "outputs": [],
   "source": []
  }
 ],
 "metadata": {
  "kernelspec": {
   "display_name": "Python 3",
   "language": "python",
   "name": "python3"
  },
  "language_info": {
   "codemirror_mode": {
    "name": "ipython",
    "version": 3
   },
   "file_extension": ".py",
   "mimetype": "text/x-python",
   "name": "python",
   "nbconvert_exporter": "python",
   "pygments_lexer": "ipython3",
   "version": "3.6.3"
  }
 },
 "nbformat": 4,
 "nbformat_minor": 2
}
