{
 "cells": [
  {
   "cell_type": "markdown",
   "metadata": {},
   "source": [
    "\n",
    "Machine learning is producing increase advantages in business values and efficiencies.  However, we need to be alert of bias in machine learning models that are producing inequalities to large portions of the population.  These bias models can target gender, race, age, income levels, …   The effect can include lost opportunities for employment, financial services, housing, fair judicial system, …\n",
    "\n",
    "This bias and potential inequality can be an unnoticed process but have a powerful impact.  It is up to us to include in our development and maintenance process to look for bias in eradicate it.\n",
    "Machine learning by default is bias, since it relies on statistical bias. This is required to make predictions, classifications, and correlations on new data the model has never seen before. However, focus needs to be put on the bias on the algorithms and training data used to create the models in the first place.\n",
    "\n",
    "We will focus on  research conducted by ProPublica, a non-profit research institution, it was found that COMPAS, a machine learning algorithm used to determine criminal defendants’ likelihood to recommit crimes.  \n",
    "We will:\n",
    "1.\tGet data \n",
    "2.\tInitial - Exploratory data analysis (EDA)\n",
    "3.\tInitial – Data Wrangling\n",
    "4.\tExploratory data analysis (EDA)\n",
    "5.\tFeature Engineering - Prepare the data for Machine Learning Algorithms\n",
    "6.\tTrain, Evaluate, and Select a Model\n",
    "\n",
    "Work in progress\n",
    "\n",
    "7.\tUsing Variant Autoencoder (VAE - tensorflow) \n",
    "   Build  ML transformer of original  dataset , but removes sensitivity (race) while keeping almost    all data\n",
    "   \n",
    "8.\tUsing Variant Fair Autoencoder (VFAE - tensorflow) \n",
    "   Bias is removed\n",
    "\n",
    "\n",
    "Data:\n",
    "•\tCompass dataset - The data set tracks Broward county Florida \n",
    "•\tUS census data for some initial data comparisons\n",
    "\n"
   ]
  },
  {
   "cell_type": "markdown",
   "metadata": {},
   "source": [
    "# Machine Bias\n",
    "# \n",
    "\"\"\"\n",
    "https://www.propublica.org/article/how-we-analyzed-the-compas-recidivism-algorithm\n",
    "\n",
    "Context\n",
    "COMPAS (Correctional Offender Management Profiling for Alternative Sanctions) is a popular commercial algorithm used by judges\n",
    "and parole officers for scoring criminal defendant’s likelihood of reoffending (recidivism). It has been shown that the algorithm\n",
    "is biased in favor of white defendants, and against black inmates, based on a 2 year follow up study (i.e who actually committed\n",
    "crimes or violent crimes after 2 years). The pattern of mistakes, as measured by precision/sensitivity is notable.\n",
    "\n",
    "Quoting from ProPublica: \n",
    "\n",
    "Black defendants were often predicted to be at a higher risk of recidivism than they actually were. Our analysis found that black defendants\n",
    "who did not recidivate over a two-year period were nearly twice as likely to be misclassified as higher risk compared to their white counterparts\n",
    "(45 percent vs. 23 percent). White defendants were often predicted to be less risky than they were. Our analysis found that white defendants who\n",
    "re-offended within the next two years were mistakenly labeled low risk almost twice as often as black re-offenders (48 percent vs. 28 percent).\n",
    "The analysis also showed that even when controlling for prior crimes, future recidivism, age, and gender, black defendants were 45 percent more\n",
    "likely to be assigned higher risk scores than white defendants.\n",
    "\n",
    "Black defendants were also twice as likely as white defendants to be misclassified as being a higher risk of violent recidivism. And white violent\n",
    "recidivists were 63 percent more likely to have been misclassified as a low risk of violent recidivism, compared with black violent recidivists.\n",
    "The violent recidivism analysis also showed that even when controlling for prior crimes, future recidivism, age, and gender, black defendants were\n",
    "77 percent more likely to be assigned higher risk scores than white defendants. \"\n",
    "\n",
    "Content\n",
    "Data contains variables used by the COMPAS algorithm in scoring defendants, along with their outcomes within 2 years of the decision, for over\n",
    "10,000 criminal defendants in Broward County, Florida. 3 subsets of the data are provided, including a subset of only violent\n",
    "recividism (as opposed to, e.g. being reincarcerated for non violent offenses such as vagrancy or Marijuana).\n",
    "\n",
    "Indepth analysis by ProPublica can be found in their data methodology article.\n",
    "\n",
    "\n",
    "\n",
    "Each pretrial defendant received at least three COMPAS scores:  (DisplayText)\n",
    "“Risk of Recidivism,”\n",
    "“Risk of Violence” \n",
    "“Risk of Failure to Appear.”\n",
    "\n",
    "COMPAS scores for each defendant ranged from1 to 10, with ten being the highest risk. Scores (ScoreTex)\n",
    "1 to 4 were labeled by COMPAS as “Low”;\n",
    "5 to 7 were labeled “Medium”; and\n",
    "8 to 10 were labeled “High.”\n",
    "\n",
    "\n",
    "Columns\n",
    "0 - 4  : 'Person_ID','AssessmentID','Case_ID','Agency_Text', 'LastName',\n",
    "5 - 9  : 'FirstName', 'MiddleName', 'Sex_Code_Text', 'Ethnic_Code_Text','DateOfBirth',\n",
    "10 - 14: 'ScaleSet_ID', 'ScaleSet', 'AssessmentReason','Language', 'LegalStatus',\n",
    "15 - 19: 'CustodyStatus', 'MaritalStatus','Screening_Date', 'RecSupervisionLevel', 'RecSupervisionLevelText',\n",
    "20 - 24: 'Scale_ID', 'DisplayText', 'RawScore', 'DecileScore', 'ScoreText',\n",
    "25 - 27: 'AssessmentType', 'IsCompleted', 'IsDeleted'"
   ]
  },
  {
   "cell_type": "code",
   "execution_count": 1,
   "metadata": {
    "collapsed": true
   },
   "outputs": [],
   "source": [
    "# loading libraries\n",
    "import pandas as pd\n",
    "import numpy as np\n",
    "import matplotlib.pyplot as plt\n",
    "# For preprocessing the data\n",
    "from sklearn.preprocessing import Imputer\n",
    "from sklearn import preprocessing\n",
    "# Standardizing\n",
    "from sklearn.preprocessing import StandardScaler\n",
    "# To split the dataset into train and test datasets\n",
    "from sklearn.model_selection import train_test_split\n",
    "# To calculate the accuracy score of the model\n",
    "from sklearn.metrics import classification_report, confusion_matrix, accuracy_score\n",
    "#\n",
    "from datetime import datetime\n",
    "from datetime import date\n",
    "#\n",
    "from sklearn.preprocessing import LabelEncoder\n",
    "from sklearn.preprocessing import OneHotEncoder\n",
    "#\n",
    "import collections\n"
   ]
  },
  {
   "cell_type": "code",
   "execution_count": null,
   "metadata": {
    "collapsed": true
   },
   "outputs": [],
   "source": []
  },
  {
   "cell_type": "code",
   "execution_count": 2,
   "metadata": {
    "collapsed": true
   },
   "outputs": [],
   "source": [
    "# load dataset\n",
    "pthfnm = \"./compas-scores-raw.csv\"\n",
    "df = pd.read_csv(pthfnm)"
   ]
  },
  {
   "cell_type": "code",
   "execution_count": 3,
   "metadata": {},
   "outputs": [
    {
     "name": "stdout",
     "output_type": "stream",
     "text": [
      "(60843, 28)\n",
      "<class 'pandas.core.frame.DataFrame'>\n",
      "RangeIndex: 60843 entries, 0 to 60842\n",
      "Data columns (total 28 columns):\n",
      "Person_ID                  60843 non-null int64\n",
      "AssessmentID               60843 non-null int64\n",
      "Case_ID                    60843 non-null int64\n",
      "Agency_Text                60843 non-null object\n",
      "LastName                   60843 non-null object\n",
      "FirstName                  60843 non-null object\n",
      "MiddleName                 15648 non-null object\n",
      "Sex_Code_Text              60843 non-null object\n",
      "Ethnic_Code_Text           60843 non-null object\n",
      "DateOfBirth                60843 non-null object\n",
      "ScaleSet_ID                60843 non-null int64\n",
      "ScaleSet                   60843 non-null object\n",
      "AssessmentReason           60843 non-null object\n",
      "Language                   60843 non-null object\n",
      "LegalStatus                60843 non-null object\n",
      "CustodyStatus              60843 non-null object\n",
      "MaritalStatus              60843 non-null object\n",
      "Screening_Date             60843 non-null object\n",
      "RecSupervisionLevel        60843 non-null int64\n",
      "RecSupervisionLevelText    60843 non-null object\n",
      "Scale_ID                   60843 non-null int64\n",
      "DisplayText                60843 non-null object\n",
      "RawScore                   60843 non-null float64\n",
      "DecileScore                60843 non-null int64\n",
      "ScoreText                  60798 non-null object\n",
      "AssessmentType             60843 non-null object\n",
      "IsCompleted                60843 non-null int64\n",
      "IsDeleted                  60843 non-null int64\n",
      "dtypes: float64(1), int64(9), object(18)\n",
      "memory usage: 13.0+ MB\n",
      "None\n"
     ]
    }
   ],
   "source": [
    "# initial EDA\n",
    "print(df.shape)\n",
    "print(df.info())"
   ]
  },
  {
   "cell_type": "code",
   "execution_count": 4,
   "metadata": {},
   "outputs": [
    {
     "name": "stdout",
     "output_type": "stream",
     "text": [
      "['Caucasian' 'African-American' 'Hispanic' 'Other' 'Asian' 'African-Am'\n",
      " 'Native American' 'Oriental' 'Arabic']\n"
     ]
    }
   ],
   "source": [
    "# Review data and Manipulate Data\n",
    "\n",
    "# Ethnic_Code_Text\n",
    "print(df.Ethnic_Code_Text.unique())"
   ]
  },
  {
   "cell_type": "code",
   "execution_count": 5,
   "metadata": {},
   "outputs": [
    {
     "name": "stdout",
     "output_type": "stream",
     "text": [
      "African-American    27069\n",
      "Caucasian           21783\n",
      "Hispanic             8742\n",
      "Other                2592\n",
      "Asian                 324\n",
      "Native American       219\n",
      "Arabic                 75\n",
      "Oriental               39\n",
      "Name: Ethnic_Code_Text, dtype: int64\n"
     ]
    }
   ],
   "source": [
    "# update 'Ethnic_Code_Text' to have conistent values for African Americans\n",
    "df.loc[df['Ethnic_Code_Text'] == 'African-Am', 'Ethnic_Code_Text'] = 'African-American'\n",
    "print(pd.value_counts(df['Ethnic_Code_Text']))"
   ]
  },
  {
   "cell_type": "code",
   "execution_count": 6,
   "metadata": {},
   "outputs": [
    {
     "name": "stdout",
     "output_type": "stream",
     "text": [
      "45\n"
     ]
    }
   ],
   "source": [
    "# DecileScore should be between 1 & 10, delete otherwise\n",
    "df.DecileScore.unique()\n",
    "print((df['DecileScore'] < 1).sum())"
   ]
  },
  {
   "cell_type": "code",
   "execution_count": 7,
   "metadata": {
    "scrolled": true
   },
   "outputs": [
    {
     "name": "stdout",
     "output_type": "stream",
     "text": [
      "1     18465\n",
      "2      9192\n",
      "3      8492\n",
      "4      5338\n",
      "5      4831\n",
      "6      4319\n",
      "7      3338\n",
      "8      2799\n",
      "9      2386\n",
      "10     1638\n",
      "Name: DecileScore, dtype: int64\n"
     ]
    }
   ],
   "source": [
    "# remove DecileScore < 1\n",
    "df = df[df.DecileScore >= 1]\n",
    "print(pd.value_counts(df['DecileScore']))"
   ]
  },
  {
   "cell_type": "code",
   "execution_count": 8,
   "metadata": {},
   "outputs": [
    {
     "name": "stdout",
     "output_type": "stream",
     "text": [
      "black : (27053, 28)  white:  (21765, 28)  joint:  (48818, 28)\n"
     ]
    }
   ],
   "source": [
    "# slice and dice\n",
    "\n",
    "# Slice by 'Ethnic_Code_Text' for blacks & whites\n",
    "black = df.loc[df['Ethnic_Code_Text'] == 'African-American']\n",
    "white = df.loc[df['Ethnic_Code_Text'] == 'Caucasian']\n",
    "joint = df.loc[df['Ethnic_Code_Text'].isin (['Caucasian','African-American'])]\n",
    "print('black :', black.shape, ' white: ', white.shape, ' joint: ', joint.shape)"
   ]
  },
  {
   "cell_type": "code",
   "execution_count": 9,
   "metadata": {},
   "outputs": [
    {
     "name": "stdout",
     "output_type": "stream",
     "text": [
      "male : (47479, 28)  female:  (13319, 28)\n"
     ]
    }
   ],
   "source": [
    "# Slice by 'Sex_Code_Text' for males & females\n",
    "male = df.loc[df['Sex_Code_Text'] == 'Male']\n",
    "female = df.loc[df['Sex_Code_Text'] == 'Female']\n",
    "print('male :', male.shape, ' female: ', female.shape)"
   ]
  },
  {
   "cell_type": "code",
   "execution_count": 10,
   "metadata": {},
   "outputs": [
    {
     "name": "stdout",
     "output_type": "stream",
     "text": [
      "Appear: (20281, 28)  Violence:  (20272, 28)  Recidivism: (20245, 28)\n"
     ]
    }
   ],
   "source": [
    "# Slice by 'DisplayText' for Risk\n",
    "RiskAppear = df.loc[df['DisplayText'] == 'Risk of Failure to Appear']\n",
    "RiskViolence = df.loc[df['DisplayText'] == 'Risk of Violence']\n",
    "RiskRecidivism = df.loc[df['DisplayText'] == 'Risk of Recidivism']\n",
    "print('Appear:', RiskAppear.shape, ' Violence: ', RiskViolence.shape,  ' Recidivism:',RiskRecidivism.shape)"
   ]
  },
  {
   "cell_type": "code",
   "execution_count": 11,
   "metadata": {},
   "outputs": [
    {
     "name": "stdout",
     "output_type": "stream",
     "text": [
      "Race:  (8, 27)  Gender: (2, 27)\n"
     ]
    }
   ],
   "source": [
    "# Aggregate\n",
    "grprace = df.groupby(['Ethnic_Code_Text']).count()\n",
    "grpgender = df.groupby(['Sex_Code_Text']).count()\n",
    "print('Race: ',grprace.shape, ' Gender:', grpgender.shape)"
   ]
  },
  {
   "cell_type": "code",
   "execution_count": null,
   "metadata": {
    "collapsed": true
   },
   "outputs": [],
   "source": []
  },
  {
   "cell_type": "markdown",
   "metadata": {},
   "source": [
    "# EDA  - looking at potential bias\n",
    "\n"
   ]
  },
  {
   "cell_type": "code",
   "execution_count": 12,
   "metadata": {},
   "outputs": [
    {
     "data": {
      "text/html": [
       "<div>\n",
       "<style>\n",
       "    .dataframe thead tr:only-child th {\n",
       "        text-align: right;\n",
       "    }\n",
       "\n",
       "    .dataframe thead th {\n",
       "        text-align: left;\n",
       "    }\n",
       "\n",
       "    .dataframe tbody tr th {\n",
       "        vertical-align: top;\n",
       "    }\n",
       "</style>\n",
       "<table border=\"1\" class=\"dataframe\">\n",
       "  <thead>\n",
       "    <tr style=\"text-align: right;\">\n",
       "      <th></th>\n",
       "      <th>DecileScore</th>\n",
       "    </tr>\n",
       "    <tr>\n",
       "      <th>Ethnic_Code_Text</th>\n",
       "      <th></th>\n",
       "    </tr>\n",
       "  </thead>\n",
       "  <tbody>\n",
       "    <tr>\n",
       "      <th>African-American</th>\n",
       "      <td>44.50</td>\n",
       "    </tr>\n",
       "    <tr>\n",
       "      <th>Arabic</th>\n",
       "      <td>0.12</td>\n",
       "    </tr>\n",
       "    <tr>\n",
       "      <th>Asian</th>\n",
       "      <td>0.53</td>\n",
       "    </tr>\n",
       "    <tr>\n",
       "      <th>Caucasian</th>\n",
       "      <td>35.80</td>\n",
       "    </tr>\n",
       "    <tr>\n",
       "      <th>Hispanic</th>\n",
       "      <td>14.36</td>\n",
       "    </tr>\n",
       "    <tr>\n",
       "      <th>Native American</th>\n",
       "      <td>0.36</td>\n",
       "    </tr>\n",
       "    <tr>\n",
       "      <th>Oriental</th>\n",
       "      <td>0.06</td>\n",
       "    </tr>\n",
       "    <tr>\n",
       "      <th>Other</th>\n",
       "      <td>4.26</td>\n",
       "    </tr>\n",
       "  </tbody>\n",
       "</table>\n",
       "</div>"
      ],
      "text/plain": [
       "                  DecileScore\n",
       "Ethnic_Code_Text             \n",
       "African-American        44.50\n",
       "Arabic                   0.12\n",
       "Asian                    0.53\n",
       "Caucasian               35.80\n",
       "Hispanic                14.36\n",
       "Native American          0.36\n",
       "Oriental                 0.06\n",
       "Other                    4.26"
      ]
     },
     "execution_count": 12,
     "metadata": {},
     "output_type": "execute_result"
    }
   ],
   "source": [
    "## Display distribution of group data\n",
    "# % data distribution by Ethnic_Code_Text\n",
    "round(grprace[['DecileScore']]/len(df),4)*100"
   ]
  },
  {
   "cell_type": "code",
   "execution_count": 13,
   "metadata": {
    "collapsed": true
   },
   "outputs": [],
   "source": [
    "# There are more African Americans (45%) in the dataset, eventhough in the county African American only make \n",
    "# up (30%) of the population"
   ]
  },
  {
   "cell_type": "code",
   "execution_count": 14,
   "metadata": {},
   "outputs": [
    {
     "data": {
      "text/html": [
       "<div>\n",
       "<style>\n",
       "    .dataframe thead tr:only-child th {\n",
       "        text-align: right;\n",
       "    }\n",
       "\n",
       "    .dataframe thead th {\n",
       "        text-align: left;\n",
       "    }\n",
       "\n",
       "    .dataframe tbody tr th {\n",
       "        vertical-align: top;\n",
       "    }\n",
       "</style>\n",
       "<table border=\"1\" class=\"dataframe\">\n",
       "  <thead>\n",
       "    <tr style=\"text-align: right;\">\n",
       "      <th></th>\n",
       "      <th>DecileScore</th>\n",
       "    </tr>\n",
       "    <tr>\n",
       "      <th>Sex_Code_Text</th>\n",
       "      <th></th>\n",
       "    </tr>\n",
       "  </thead>\n",
       "  <tbody>\n",
       "    <tr>\n",
       "      <th>Female</th>\n",
       "      <td>21.91</td>\n",
       "    </tr>\n",
       "    <tr>\n",
       "      <th>Male</th>\n",
       "      <td>78.09</td>\n",
       "    </tr>\n",
       "  </tbody>\n",
       "</table>\n",
       "</div>"
      ],
      "text/plain": [
       "               DecileScore\n",
       "Sex_Code_Text             \n",
       "Female               21.91\n",
       "Male                 78.09"
      ]
     },
     "execution_count": 14,
     "metadata": {},
     "output_type": "execute_result"
    }
   ],
   "source": [
    "# % data distribution by Sex_Code_Text\n",
    "round(grpgender[['DecileScore']]/len(df),4)*100\n"
   ]
  },
  {
   "cell_type": "code",
   "execution_count": 15,
   "metadata": {
    "collapsed": true
   },
   "outputs": [],
   "source": [
    "# There are more males (78%) in the dataset, eventhough in the county males make \n",
    "# up (49%) of the population"
   ]
  },
  {
   "cell_type": "code",
   "execution_count": 16,
   "metadata": {},
   "outputs": [
    {
     "name": "stdout",
     "output_type": "stream",
     "text": [
      "Mean DecileScore by Race\n",
      "Caucasian -  3.11\n",
      "African-American -  4.29\n",
      "Hispanic -  2.86\n",
      "Other -  2.51\n",
      "Asian -  2.37\n",
      "Native American -  4.05\n",
      "Oriental -  2.74\n",
      "Arabic -  3.13\n"
     ]
    }
   ],
   "source": [
    "# DecileScore Mean by race\n",
    "race=df.Ethnic_Code_Text.unique()\n",
    "print('Mean DecileScore by Race')\n",
    "for i in race:\n",
    "    mn = round(df.loc[df['Ethnic_Code_Text'] == i]['DecileScore'].mean(), 2)\n",
    "    print(i,'- ',mn)"
   ]
  },
  {
   "cell_type": "code",
   "execution_count": 17,
   "metadata": {
    "collapsed": true
   },
   "outputs": [],
   "source": [
    "# Mean DecileScore is highest for African Americans"
   ]
  },
  {
   "cell_type": "code",
   "execution_count": 18,
   "metadata": {},
   "outputs": [
    {
     "name": "stdout",
     "output_type": "stream",
     "text": [
      "Mean DecileScore by Gender\n",
      "Male -  3.66\n",
      "Female -  3.26\n"
     ]
    }
   ],
   "source": [
    "# DecileScore Mean by gender\n",
    "gender=df.Sex_Code_Text.unique()\n",
    "print('Mean DecileScore by Gender')\n",
    "for i in gender:\n",
    "    mn = round(df.loc[df['Sex_Code_Text'] == i]['DecileScore'].mean(), 2)\n",
    "    print(i,'- ',mn)"
   ]
  },
  {
   "cell_type": "code",
   "execution_count": 19,
   "metadata": {
    "collapsed": true
   },
   "outputs": [],
   "source": [
    "# Mean DecileScore is highest for males"
   ]
  },
  {
   "cell_type": "code",
   "execution_count": 20,
   "metadata": {
    "collapsed": true
   },
   "outputs": [],
   "source": [
    "# Visualize"
   ]
  },
  {
   "cell_type": "code",
   "execution_count": 19,
   "metadata": {
    "collapsed": true
   },
   "outputs": [],
   "source": [
    "# Define grp_plot_compare:\n",
    "# creates groups and then plot them to compare them\n",
    "def grp_plot_compare(df1, df2, xlabel1, colnm1, total_pop, multby, title,label1, label2):\n",
    "    grp1 = df1.groupby([xlabel1]).count()\n",
    "    grp2 = df2.groupby([xlabel1]).count()\n",
    "    \n",
    "#   to be used for weighted average  \n",
    "    div1 = len(df1)\n",
    "    div2 = len(df2)\n",
    "    \n",
    "    n_groups = len(grp1)\n",
    "# create plot\n",
    "    fig, ax = plt.subplots()\n",
    "    index = np.arange(n_groups)\n",
    "    bar_width = 0.35\n",
    "    opacity = 0.8\n",
    "\n",
    "    rects1 = plt.bar(grp1.index,(round(grp1[colnm1]/div1,2)*multby), bar_width,\n",
    "                 alpha=opacity,\n",
    "                 color='b',\n",
    "                 label=label1)\n",
    "\n",
    "    rects2 = plt.bar(grp2.index+ bar_width, (round(grp2[colnm1]/div2,2)*multby), bar_width,\n",
    "                 alpha=opacity,\n",
    "                 color='g',\n",
    "                 label=label2)\n",
    "\n",
    "    plt.xlabel(xlabel1)\n",
    "    if total_pop > 1:\n",
    "        plt.ylabel('Percentage')\n",
    "    else:\n",
    "        plt.ylabel('Count')\n",
    "    plt.title(title)\n",
    "    plt.legend()\n",
    "    plt.tight_layout()\n",
    "    plt.show()\n",
    "    plt.clf()"
   ]
  },
  {
   "cell_type": "code",
   "execution_count": 20,
   "metadata": {},
   "outputs": [
    {
     "data": {
      "image/png": "[encoded data removed]",
      "text/plain": [
       "<matplotlib.figure.Figure at 0x1710d171ba8>"
      ]
     },
     "metadata": {},
     "output_type": "display_data"
    }
   ],
   "source": [
    "# Comparing White & Black defendants on the  'DecileScore'\n",
    "grp_plot_compare(white, black, 'DecileScore','Ethnic_Code_Text', len(df), 100, \\\n",
    "                 'DecileScore by Blacks & Whites ', \\\n",
    "                 'white','black')"
   ]
  },
  {
   "cell_type": "code",
   "execution_count": 23,
   "metadata": {
    "collapsed": true
   },
   "outputs": [],
   "source": [
    "# Whites have lower Decile Scores and Blacks have higher Decile Scores"
   ]
  },
  {
   "cell_type": "code",
   "execution_count": 21,
   "metadata": {},
   "outputs": [
    {
     "data": {
      "text/plain": [
       "<matplotlib.figure.Figure at 0x1710d171da0>"
      ]
     },
     "metadata": {},
     "output_type": "display_data"
    },
    {
     "data": {
      "image/png": "[encoded data removed]",
      "text/plain": [
       "<matplotlib.figure.Figure at 0x1710dda1ef0>"
      ]
     },
     "metadata": {},
     "output_type": "display_data"
    }
   ],
   "source": [
    "# Comparing Male & Female defendants on the  'DecileScore'\n",
    "grp_plot_compare(female, male, 'DecileScore','Sex_Code_Text', len(df), 100, \\\n",
    "                 'Scores by Females & Males ', \\\n",
    "                 'Females','Males')\n"
   ]
  },
  {
   "cell_type": "code",
   "execution_count": 25,
   "metadata": {
    "collapsed": true
   },
   "outputs": [],
   "source": [
    "# Females have lower Decile Scores and Males have higher Decile Scores"
   ]
  },
  {
   "cell_type": "code",
   "execution_count": 22,
   "metadata": {
    "scrolled": true
   },
   "outputs": [
    {
     "data": {
      "text/plain": [
       "<matplotlib.figure.Figure at 0x1710df71fd0>"
      ]
     },
     "metadata": {},
     "output_type": "display_data"
    },
    {
     "data": {
      "image/png": "[encoded data removed]",
      "text/plain": [
       "<matplotlib.figure.Figure at 0x1710df85f98>"
      ]
     },
     "metadata": {},
     "output_type": "display_data"
    }
   ],
   "source": [
    "####################################################################################\n",
    "# Histogram overlay\n",
    "fig, ax = plt.subplots()\n",
    "black['DecileScore'].hist(bins=10, figsize=[14,6],color='g',alpha=.8 )\n",
    "white['DecileScore'].hist(bins=10, figsize=[14,6],color='b',alpha=.5 )\n",
    "plt.title('Histogram overlay of Blacks (green) & Whites (blue)')\n",
    "plt.legend()\n",
    "plt.xlabel('DecileScore')\n",
    "plt.ylabel('Count')\n",
    "plt.show()\n",
    "plt.clf()"
   ]
  },
  {
   "cell_type": "markdown",
   "metadata": {},
   "source": [
    "# Feature Engineering"
   ]
  },
  {
   "cell_type": "code",
   "execution_count": 23,
   "metadata": {
    "collapsed": true
   },
   "outputs": [],
   "source": [
    "# Add column 'Age' from DateofBirth\n",
    "agelist = []\n",
    "currdate = date.today()\n",
    "for dte in df['DateOfBirth']:\n",
    "    brthdte = datetime.strptime(dte, '%m/%d/%y')\n",
    "    mnthday = (currdate.month, currdate.day) < (brthdte.month, brthdte.day)\n",
    "    if currdate.year > brthdte.year:\n",
    "        agelist.append(currdate.year - brthdte.year - (mnthday))\n",
    "    else:\n",
    "        agelist.append(-1)\n",
    "        "
   ]
  },
  {
   "cell_type": "code",
   "execution_count": 24,
   "metadata": {},
   "outputs": [
    {
     "name": "stdout",
     "output_type": "stream",
     "text": [
      "60798 60798\n",
      "Index(['Person_ID', 'AssessmentID', 'Case_ID', 'Agency_Text', 'LastName',\n",
      "       'FirstName', 'MiddleName', 'Sex_Code_Text', 'Ethnic_Code_Text',\n",
      "       'DateOfBirth', 'ScaleSet_ID', 'ScaleSet', 'AssessmentReason',\n",
      "       'Language', 'LegalStatus', 'CustodyStatus', 'MaritalStatus',\n",
      "       'Screening_Date', 'RecSupervisionLevel', 'RecSupervisionLevelText',\n",
      "       'Scale_ID', 'DisplayText', 'RawScore', 'DecileScore', 'ScoreText',\n",
      "       'AssessmentType', 'IsCompleted', 'IsDeleted', 'Age'],\n",
      "      dtype='object')\n"
     ]
    }
   ],
   "source": [
    "print(len(agelist), len(df))\n",
    "df['Age'] = agelist\n",
    "print(df.columns)"
   ]
  },
  {
   "cell_type": "code",
   "execution_count": 25,
   "metadata": {},
   "outputs": [
    {
     "data": {
      "text/plain": [
       "12782"
      ]
     },
     "execution_count": 25,
     "metadata": {},
     "output_type": "execute_result"
    }
   ],
   "source": [
    "# cleanup bad Ages\n",
    "# remove DecileScore < 1\n",
    "(df['Age'] < 1).sum()"
   ]
  },
  {
   "cell_type": "code",
   "execution_count": 26,
   "metadata": {},
   "outputs": [
    {
     "data": {
      "text/plain": [
       "0"
      ]
     },
     "execution_count": 26,
     "metadata": {},
     "output_type": "execute_result"
    }
   ],
   "source": [
    "df = df[df.Age >= 1]\n",
    "(df['Age'] < 1).sum()"
   ]
  },
  {
   "cell_type": "code",
   "execution_count": 27,
   "metadata": {
    "scrolled": true
   },
   "outputs": [
    {
     "data": {
      "text/plain": [
       "count    48016.000000\n",
       "mean        33.105090\n",
       "std          7.189823\n",
       "min         20.000000\n",
       "25%         27.000000\n",
       "50%         32.000000\n",
       "75%         38.000000\n",
       "max         49.000000\n",
       "Name: Age, dtype: float64"
      ]
     },
     "execution_count": 27,
     "metadata": {},
     "output_type": "execute_result"
    }
   ],
   "source": [
    "df['Age'].describe()"
   ]
  },
  {
   "cell_type": "code",
   "execution_count": 28,
   "metadata": {},
   "outputs": [
    {
     "name": "stdout",
     "output_type": "stream",
     "text": [
      "Appear: (16016, 29)  Violence:  (16010, 29)  Recidivism: (15990, 29)\n"
     ]
    }
   ],
   "source": [
    "# Slice by 'DisplayText' for Risk\n",
    "RiskAppear = df.loc[df['DisplayText'] == 'Risk of Failure to Appear']\n",
    "RiskViolence = df.loc[df['DisplayText'] == 'Risk of Violence']\n",
    "RiskRecidivism = df.loc[df['DisplayText'] == 'Risk of Recidivism']\n",
    "print('Appear:', RiskAppear.shape, ' Violence: ', RiskViolence.shape,  ' Recidivism:',RiskRecidivism.shape)"
   ]
  },
  {
   "cell_type": "code",
   "execution_count": null,
   "metadata": {
    "collapsed": true
   },
   "outputs": [],
   "source": []
  },
  {
   "cell_type": "code",
   "execution_count": 42,
   "metadata": {
    "collapsed": true
   },
   "outputs": [],
   "source": [
    "# More feature engineering using Label encoder and One-Hot encoder"
   ]
  },
  {
   "cell_type": "markdown",
   "metadata": {},
   "source": [
    "# Running ML models"
   ]
  },
  {
   "cell_type": "markdown",
   "metadata": {},
   "source": [
    "# Train, Evaluate, and Select a Model"
   ]
  },
  {
   "cell_type": "code",
   "execution_count": 29,
   "metadata": {
    "collapsed": true
   },
   "outputs": [],
   "source": [
    "# Define prepare_data_for_ml_model_1:\n",
    "def prepare_data_for_ml_model_1(dfx, target_loc):\n",
    "    # Create new Dataset of selected columns to get prepare TEST and Training data for  ML model \n",
    "     \n",
    "    \"\"\"\n",
    "    Columns\n",
    "    0 - 4  : 'Person_ID','AssessmentID','Case_ID','Agency_Text', 'LastName',\n",
    "    5 - 9  : 'FirstName', 'MiddleName', 'Sex_Code_Text', 'Ethnic_Code_Text','DateOfBirth',\n",
    "    10 - 14: 'ScaleSet_ID', 'ScaleSet', 'AssessmentReason','Language', 'LegalStatus',\n",
    "    15 - 19: 'CustodyStatus', 'MaritalStatus','Screening_Date', 'RecSupervisionLevel', 'RecSupervisionLevelText',\n",
    "    20 - 24: 'Scale_ID', 'DisplayText', 'RawScore', 'DecileScore', 'ScoreText',\n",
    "    25 - 28: 'AssessmentType', 'IsCompleted', 'IsDeleted','Age'\n",
    "    \"\"\"\n",
    "\n",
    "    x_df = dfx.iloc[:, [7,8,14,15,16,19]] #features\n",
    "    tmp_age = dfx.iloc[:,28].as_matrix() #age feature, convert numpy array\n",
    "    x_age = tmp_age.reshape(tmp_age.size,1)\n",
    "    \n",
    "\n",
    "    y = dfx.iloc[:,target_loc].as_matrix() #target convert numpy array\n",
    "\n",
    "\n",
    "    #  lable encoder. It encodes the data into integers\n",
    "    le = LabelEncoder()\n",
    "\n",
    "    Sex_Code_Text_cat = le.fit_transform(x_df.Sex_Code_Text)\n",
    "    Ethnic_Code_Text_cat = le.fit_transform(x_df.Ethnic_Code_Text)\n",
    "    LegalStatus_cat = le.fit_transform(x_df.LegalStatus)\n",
    "    CustodyStatus_cat = le.fit_transform(x_df.CustodyStatus)\n",
    "    MaritalStatus_cat = le.fit_transform(x_df.MaritalStatus)\n",
    "    RecSupervisionLevelText_cat = le.fit_transform(x_df.RecSupervisionLevelText)\n",
    "\n",
    "    Sex_Code_Text_cat = Sex_Code_Text_cat.reshape(len(Sex_Code_Text_cat),1)\n",
    "    Ethnic_Code_Text_cat = Ethnic_Code_Text_cat.reshape(len(Ethnic_Code_Text_cat),1)\n",
    "    LegalStatus_cat = LegalStatus_cat.reshape(len(LegalStatus_cat),1)\n",
    "    CustodyStatus_cat = CustodyStatus_cat.reshape(len(CustodyStatus_cat),1)\n",
    "    MaritalStatus_cat = MaritalStatus_cat.reshape(len(MaritalStatus_cat),1)\n",
    "    RecSupervisionLevelText_cat = RecSupervisionLevelText_cat.reshape(len(RecSupervisionLevelText_cat),1)\n",
    "\n",
    "#  One-Hot encoder. It encodes the data into binary format\n",
    "    onehote = OneHotEncoder(sparse=False)\n",
    "    \n",
    "    Sex_Code_Text_oh = onehote.fit_transform(Sex_Code_Text_cat)\n",
    "    Ethnic_Code_Text_oh = onehote.fit_transform(Ethnic_Code_Text_cat)\n",
    "    LegalStatus_oh = onehote.fit_transform(LegalStatus_cat)\n",
    "    CustodyStatus_oh = onehote.fit_transform(CustodyStatus_cat)\n",
    "    MaritalStatus_oh = onehote.fit_transform(MaritalStatus_cat)\n",
    "    RecSupervisionLevelText_oh = onehote.fit_transform(RecSupervisionLevelText_cat)\n",
    "\n",
    "# Build out feature dataset as numpy array, since One-Hot encoder creates numpy array\n",
    "    X_feature =  Sex_Code_Text_oh\n",
    "    X_feature = np.concatenate((X_feature,Ethnic_Code_Text_oh), axis=1)\n",
    "    X_feature = np.concatenate((X_feature,LegalStatus_oh), axis=1)\n",
    "    X_feature = np.concatenate((X_feature,CustodyStatus_oh), axis=1)\n",
    "    X_feature = np.concatenate((X_feature,MaritalStatus_oh), axis=1)\n",
    "    X_feature = np.concatenate((X_feature,RecSupervisionLevelText_oh), axis=1)\n",
    "    X_feature = np.concatenate((X_feature,x_age), axis=1)\n",
    "\n",
    "# Split data train and test\n",
    "    X_train, X_test, y_train, y_test = train_test_split(X_feature, y, test_size=0.2)\n",
    "    print('Length for X_train:', len(X_train), ' X_test:',len(X_test), ' y_train:',len(y_train) ,' y_test:',len(y_test))\n",
    "\n",
    "    return X_train, X_test, y_train, y_test"
   ]
  },
  {
   "cell_type": "code",
   "execution_count": 30,
   "metadata": {
    "collapsed": true
   },
   "outputs": [],
   "source": [
    "# Define ml_model_1:\n",
    "# takes in model Instantiate model (model)\n",
    "# fits, predicts, and evaluates (prints results)\n",
    "def ml_model_1(model, modelnm, dfnm, X_train, X_test, y_train, y_test, target):\n",
    "    print('Running ', modelnm, ' model for :', dfnm, ' using target: ', target)\n",
    "\n",
    "    model.fit(X_train, y_train)\n",
    "    y_pred = model.predict(X_test)\n",
    "\n",
    "    #Evaluate\n",
    "    print(modelnm,' score: ',model.score(X_test, y_test))\n",
    "    print(' ')\n",
    "    print('first 10 predicted values: ',y_pred[0:10])\n",
    "    print('first 10 values of target: ')\n",
    "    print(y_test[0:10])\n",
    "    print(' ')\n",
    "\n",
    "    print('mean of predicted of values: ',np.mean(y_pred), ' STD of predicted of values : ', np.std(y_pred) )\n",
    "    print('describe of target')\n",
    "    print('mean of predicted of values: ',np.mean(y_test), ' STD of predicted of values : ', np.std(y_test) )\n",
    "\n",
    "    return y_pred"
   ]
  },
  {
   "cell_type": "code",
   "execution_count": 31,
   "metadata": {
    "collapsed": true
   },
   "outputs": [],
   "source": [
    "# MLPRegressor"
   ]
  },
  {
   "cell_type": "code",
   "execution_count": 32,
   "metadata": {
    "collapsed": true
   },
   "outputs": [],
   "source": [
    "from sklearn.neural_network import MLPRegressor\n",
    "\n",
    "clf = MLPRegressor(alpha=0.001, hidden_layer_sizes = (10,), max_iter = 50000, \n",
    "                 activation = 'logistic', verbose = 'True', learning_rate = 'adaptive')"
   ]
  },
  {
   "cell_type": "code",
   "execution_count": 33,
   "metadata": {},
   "outputs": [
    {
     "name": "stdout",
     "output_type": "stream",
     "text": [
      "Length for X_train: 12808  X_test: 3202  y_train: 12808  y_test: 3202\n"
     ]
    }
   ],
   "source": [
    "# MLPRegressor - RiskViolence dataset target RawScore (22)\n",
    "# Preparing the data\n",
    "X_train, X_test, y_train, y_test = prepare_data_for_ml_model_1(RiskViolence,22)"
   ]
  },
  {
   "cell_type": "code",
   "execution_count": 34,
   "metadata": {},
   "outputs": [
    {
     "name": "stdout",
     "output_type": "stream",
     "text": [
      "Running  MLPRegressor  model for : RiskViolence  using target:  RawScore\n",
      "Iteration 1, loss = 2.31215575\n",
      "Iteration 2, loss = 0.67545936\n",
      "Iteration 3, loss = 0.25391329\n",
      "Iteration 4, loss = 0.23153549\n",
      "Iteration 5, loss = 0.20882537\n",
      "Iteration 6, loss = 0.16323103\n",
      "Iteration 7, loss = 0.12258844\n",
      "Iteration 8, loss = 0.09826693\n",
      "Iteration 9, loss = 0.08385181\n",
      "Iteration 10, loss = 0.07632427\n",
      "Iteration 11, loss = 0.07200236\n",
      "Iteration 12, loss = 0.06966134\n",
      "Iteration 13, loss = 0.06764632\n",
      "Iteration 14, loss = 0.06660264\n",
      "Iteration 15, loss = 0.06593033\n",
      "Iteration 16, loss = 0.06534268\n",
      "Iteration 17, loss = 0.06464936\n",
      "Iteration 18, loss = 0.06425643\n",
      "Iteration 19, loss = 0.06403874\n",
      "Iteration 20, loss = 0.06353387\n",
      "Iteration 21, loss = 0.06352928\n",
      "Iteration 22, loss = 0.06306643\n",
      "Iteration 23, loss = 0.06286638\n",
      "Iteration 24, loss = 0.06294748\n",
      "Iteration 25, loss = 0.06253498\n",
      "Iteration 26, loss = 0.06222204\n",
      "Iteration 27, loss = 0.06200214\n",
      "Iteration 28, loss = 0.06171177\n",
      "Iteration 29, loss = 0.06190838\n",
      "Iteration 30, loss = 0.06150142\n",
      "Iteration 31, loss = 0.06130840\n",
      "Iteration 32, loss = 0.06115038\n",
      "Iteration 33, loss = 0.06121325\n",
      "Iteration 34, loss = 0.06085375\n",
      "Iteration 35, loss = 0.06067312\n",
      "Iteration 36, loss = 0.06052237\n",
      "Iteration 37, loss = 0.06026623\n",
      "Iteration 38, loss = 0.06028573\n",
      "Iteration 39, loss = 0.06022818\n",
      "Iteration 40, loss = 0.06002902\n",
      "Iteration 41, loss = 0.06018103\n",
      "Iteration 42, loss = 0.05974501\n",
      "Iteration 43, loss = 0.05994043\n",
      "Iteration 44, loss = 0.05993057\n",
      "Iteration 45, loss = 0.05950318\n",
      "Iteration 46, loss = 0.05937571\n",
      "Iteration 47, loss = 0.05948852\n",
      "Iteration 48, loss = 0.05920573\n",
      "Iteration 49, loss = 0.05920706\n",
      "Iteration 50, loss = 0.05910221\n",
      "Iteration 51, loss = 0.05914239\n",
      "Iteration 52, loss = 0.05920773\n",
      "Iteration 53, loss = 0.05891380\n",
      "Iteration 54, loss = 0.05881727\n",
      "Iteration 55, loss = 0.05880615\n",
      "Iteration 56, loss = 0.05881325\n",
      "Training loss did not improve more than tol=0.000100 for two consecutive epochs. Stopping.\n",
      "MLPRegressor  score:  0.7949989265389572\n",
      " \n",
      "first 10 predicted values:  [-2.33907622 -2.09601027 -2.05882862 -1.78745374 -1.93965995 -1.5876561\n",
      " -2.51393708 -3.25455489 -3.2262611  -1.7128451 ]\n",
      "first 10 values of target: \n",
      "[-2.16 -2.24 -1.78 -1.77 -1.86 -1.54 -2.19 -3.27 -3.44 -1.55]\n",
      " \n",
      "mean of predicted of values:  -2.325584677282476  STD of predicted of values :  0.6918257019167395\n",
      "describe of target\n",
      "mean of predicted of values:  -2.278728919425359  STD of predicted of values :  0.7672878097428836\n"
     ]
    },
    {
     "data": {
      "text/plain": [
       "array([-2.33907622, -2.09601027, -2.05882862, ..., -2.92534171,\n",
       "       -2.44201917, -1.42836332])"
      ]
     },
     "execution_count": 34,
     "metadata": {},
     "output_type": "execute_result"
    }
   ],
   "source": [
    "# Predicting and getting score\n",
    "ml_model_1(clf, 'MLPRegressor', 'RiskViolence', X_train, X_test, y_train, y_test, 'RawScore')"
   ]
  },
  {
   "cell_type": "code",
   "execution_count": 35,
   "metadata": {
    "collapsed": true
   },
   "outputs": [],
   "source": [
    "# Running  MLPRegressor  model for : RiskViolence  using target:  RawScore\n",
    "#  score:  0.8007348392629005"
   ]
  },
  {
   "cell_type": "code",
   "execution_count": 36,
   "metadata": {
    "scrolled": false
   },
   "outputs": [
    {
     "name": "stdout",
     "output_type": "stream",
     "text": [
      "Length for X_train: 12792  X_test: 3198  y_train: 12792  y_test: 3198\n"
     ]
    }
   ],
   "source": [
    "# MLPRegressor - RiskRecidivism dataset target RawScore (22)\n",
    "X_train, X_test, y_train, y_test = prepare_data_for_ml_model_1(RiskRecidivism,22)"
   ]
  },
  {
   "cell_type": "code",
   "execution_count": 37,
   "metadata": {
    "scrolled": true
   },
   "outputs": [
    {
     "name": "stdout",
     "output_type": "stream",
     "text": [
      "Running  MLPRegressor  model for : RiskRecidivism  using target:  RawScore\n",
      "Iteration 1, loss = 0.27876187\n",
      "Iteration 2, loss = 0.21708268\n",
      "Iteration 3, loss = 0.16986971\n",
      "Iteration 4, loss = 0.13798626\n",
      "Iteration 5, loss = 0.11521034\n",
      "Iteration 6, loss = 0.09840374\n",
      "Iteration 7, loss = 0.08401097\n",
      "Iteration 8, loss = 0.07586699\n",
      "Iteration 9, loss = 0.07160267\n",
      "Iteration 10, loss = 0.06912477\n",
      "Iteration 11, loss = 0.06791188\n",
      "Iteration 12, loss = 0.06725879\n",
      "Iteration 13, loss = 0.06692494\n",
      "Iteration 14, loss = 0.06657382\n",
      "Iteration 15, loss = 0.06637183\n",
      "Iteration 16, loss = 0.06616046\n",
      "Iteration 17, loss = 0.06611753\n",
      "Iteration 18, loss = 0.06596459\n",
      "Iteration 19, loss = 0.06577505\n",
      "Iteration 20, loss = 0.06587346\n",
      "Iteration 21, loss = 0.06556513\n",
      "Iteration 22, loss = 0.06576179\n",
      "Iteration 23, loss = 0.06595386\n",
      "Iteration 24, loss = 0.06538523\n",
      "Iteration 25, loss = 0.06538642\n",
      "Iteration 26, loss = 0.06515448\n",
      "Iteration 27, loss = 0.06498680\n",
      "Iteration 28, loss = 0.06493893\n",
      "Iteration 29, loss = 0.06501275\n",
      "Iteration 30, loss = 0.06489841\n",
      "Training loss did not improve more than tol=0.000100 for two consecutive epochs. Stopping.\n",
      "MLPRegressor  score:  0.7665131825140262\n",
      " \n",
      "first 10 predicted values:  [ 0.0908285   0.33501662 -1.12287382  0.52510859  0.26275741 -0.95882478\n",
      " -0.38339773 -1.14570981 -1.10559439 -1.06434766]\n",
      "first 10 values of target: \n",
      "[ 0.96  0.29 -1.84  0.72  0.04 -1.31  0.01 -1.74 -0.87 -1.19]\n",
      " \n",
      "mean of predicted of values:  -0.5828266218823314  STD of predicted of values :  0.6473488824753872\n",
      "describe of target\n",
      "mean of predicted of values:  -0.5906253908692933  STD of predicted of values :  0.7461325235639488\n"
     ]
    },
    {
     "data": {
      "text/plain": [
       "array([ 0.0908285 ,  0.33501662, -1.12287382, ...,  0.19820428,\n",
       "        0.37891308, -1.1033755 ])"
      ]
     },
     "execution_count": 37,
     "metadata": {},
     "output_type": "execute_result"
    }
   ],
   "source": [
    "# Predicting and getting score\n",
    "ml_model_1(clf, 'MLPRegressor', 'RiskRecidivism', X_train, X_test, y_train, y_test, 'RawScore')"
   ]
  },
  {
   "cell_type": "code",
   "execution_count": 38,
   "metadata": {},
   "outputs": [
    {
     "name": "stdout",
     "output_type": "stream",
     "text": [
      "Length for X_train: 12792  X_test: 3198  y_train: 12792  y_test: 3198\n"
     ]
    }
   ],
   "source": [
    "# MLPRegressor - RiskRecidivism dataset target DecileScore\n",
    "X_train, X_test, y_train, y_test = prepare_data_for_ml_model_1(RiskRecidivism,23)"
   ]
  },
  {
   "cell_type": "code",
   "execution_count": 39,
   "metadata": {},
   "outputs": [
    {
     "name": "stdout",
     "output_type": "stream",
     "text": [
      "Running  MLPRegressor  model for : RiskRecidivism  using target:  DecileScore\n",
      "Iteration 1, loss = 15.20314262\n",
      "Iteration 2, loss = 10.58155255\n",
      "Iteration 3, loss = 8.11864329\n",
      "Iteration 4, loss = 7.04692890\n",
      "Iteration 5, loss = 5.88850869\n",
      "Iteration 6, loss = 5.06862723\n",
      "Iteration 7, loss = 4.63399323\n",
      "Iteration 8, loss = 4.35335169\n",
      "Iteration 9, loss = 4.17179125\n",
      "Iteration 10, loss = 4.05597166\n",
      "Iteration 11, loss = 3.98410162\n",
      "Iteration 12, loss = 3.94046867\n",
      "Iteration 13, loss = 3.91515816\n",
      "Iteration 14, loss = 3.90019545\n",
      "Iteration 15, loss = 3.89195482\n",
      "Iteration 16, loss = 3.88715605\n",
      "Iteration 17, loss = 3.88437861\n",
      "Iteration 18, loss = 3.88169430\n",
      "Iteration 19, loss = 3.87396496\n",
      "Iteration 20, loss = 3.58283346\n",
      "Iteration 21, loss = 3.34150241\n",
      "Iteration 22, loss = 3.21725603\n",
      "Iteration 23, loss = 3.11930507\n",
      "Iteration 24, loss = 3.03488190\n",
      "Iteration 25, loss = 2.95817254\n",
      "Iteration 26, loss = 2.88620751\n",
      "Iteration 27, loss = 2.81680232\n",
      "Iteration 28, loss = 2.74906780\n",
      "Iteration 29, loss = 2.68110393\n",
      "Iteration 30, loss = 2.58877624\n",
      "Iteration 31, loss = 2.48253098\n",
      "Iteration 32, loss = 2.39546132\n",
      "Iteration 33, loss = 2.30706337\n",
      "Iteration 34, loss = 2.20829032\n",
      "Iteration 35, loss = 2.10344705\n",
      "Iteration 36, loss = 2.00449833\n",
      "Iteration 37, loss = 1.90739013\n",
      "Iteration 38, loss = 1.81264786\n",
      "Iteration 39, loss = 1.72324310\n",
      "Iteration 40, loss = 1.63951474\n",
      "Iteration 41, loss = 1.56089756\n",
      "Iteration 42, loss = 1.48880130\n",
      "Iteration 43, loss = 1.42318892\n",
      "Iteration 44, loss = 1.36289345\n",
      "Iteration 45, loss = 1.30800779\n",
      "Iteration 46, loss = 1.25790028\n",
      "Iteration 47, loss = 1.21142124\n",
      "Iteration 48, loss = 1.16860245\n",
      "Iteration 49, loss = 1.12853415\n",
      "Iteration 50, loss = 1.09115917\n",
      "Iteration 51, loss = 1.05573635\n",
      "Iteration 52, loss = 1.02273031\n",
      "Iteration 53, loss = 0.99184536\n",
      "Iteration 54, loss = 0.96262243\n",
      "Iteration 55, loss = 0.93587170\n",
      "Iteration 56, loss = 0.91061753\n",
      "Iteration 57, loss = 0.88743192\n",
      "Iteration 58, loss = 0.86598799\n",
      "Iteration 59, loss = 0.84691271\n",
      "Iteration 60, loss = 0.82984886\n",
      "Iteration 61, loss = 0.81240523\n",
      "Iteration 62, loss = 0.79752033\n",
      "Iteration 63, loss = 0.78407018\n",
      "Iteration 64, loss = 0.77069569\n",
      "Iteration 65, loss = 0.75612452\n",
      "Iteration 66, loss = 0.73377260\n",
      "Iteration 67, loss = 0.71583228\n",
      "Iteration 68, loss = 0.70179034\n",
      "Iteration 69, loss = 0.69348840\n",
      "Iteration 70, loss = 0.68673614\n",
      "Iteration 71, loss = 0.68186157\n",
      "Iteration 72, loss = 0.67936312\n",
      "Iteration 73, loss = 0.67535435\n",
      "Iteration 74, loss = 0.67282133\n",
      "Iteration 75, loss = 0.67073581\n",
      "Iteration 76, loss = 0.66830242\n",
      "Iteration 77, loss = 0.66663792\n",
      "Iteration 78, loss = 0.66463233\n",
      "Iteration 79, loss = 0.66246400\n",
      "Iteration 80, loss = 0.66155474\n",
      "Iteration 81, loss = 0.65971441\n",
      "Iteration 82, loss = 0.65752830\n",
      "Iteration 83, loss = 0.65624857\n",
      "Iteration 84, loss = 0.65424712\n",
      "Iteration 85, loss = 0.65353507\n",
      "Iteration 86, loss = 0.65177465\n",
      "Iteration 87, loss = 0.65159492\n",
      "Iteration 88, loss = 0.64880933\n",
      "Iteration 89, loss = 0.64852646\n",
      "Iteration 90, loss = 0.64627756\n",
      "Iteration 91, loss = 0.64578586\n",
      "Iteration 92, loss = 0.64443694\n",
      "Iteration 93, loss = 0.64302198\n",
      "Iteration 94, loss = 0.64116984\n",
      "Iteration 95, loss = 0.64035950\n",
      "Iteration 96, loss = 0.63792935\n",
      "Iteration 97, loss = 0.63437110\n",
      "Iteration 98, loss = 0.63377943\n",
      "Iteration 99, loss = 0.62986447\n",
      "Iteration 100, loss = 0.62659544\n",
      "Iteration 101, loss = 0.62549302\n",
      "Iteration 102, loss = 0.62300811\n",
      "Iteration 103, loss = 0.62125248\n",
      "Iteration 104, loss = 0.62041509\n",
      "Iteration 105, loss = 0.62020418\n",
      "Iteration 106, loss = 0.61841765\n",
      "Iteration 107, loss = 0.61827642\n",
      "Iteration 108, loss = 0.61731846\n",
      "Iteration 109, loss = 0.61609223\n",
      "Iteration 110, loss = 0.61575908\n",
      "Iteration 111, loss = 0.61552252\n",
      "Iteration 112, loss = 0.61463034\n",
      "Iteration 113, loss = 0.61350051\n",
      "Iteration 114, loss = 0.61420808\n",
      "Iteration 115, loss = 0.61296244\n",
      "Iteration 116, loss = 0.61280932\n",
      "Iteration 117, loss = 0.61292899\n",
      "Iteration 118, loss = 0.61142036\n",
      "Iteration 119, loss = 0.61145696\n",
      "Iteration 120, loss = 0.61109856\n",
      "Iteration 121, loss = 0.61079343\n",
      "Iteration 122, loss = 0.61119716\n",
      "Iteration 123, loss = 0.61050630\n",
      "Iteration 124, loss = 0.60937023\n",
      "Iteration 125, loss = 0.61021859\n",
      "Iteration 126, loss = 0.60984281\n",
      "Iteration 127, loss = 0.60957285\n",
      "Training loss did not improve more than tol=0.000100 for two consecutive epochs. Stopping.\n",
      "MLPRegressor  score:  0.8460724924825792\n",
      " \n",
      "first 10 predicted values:  [2.9275341  6.22178997 5.87951947 9.17124932 2.50825571 3.16531178\n",
      " 6.63151889 3.18508157 2.94242222 6.4722371 ]\n",
      "first 10 values of target: \n",
      "[ 5  6  7 10  1  3  7  2  4  5]\n",
      " \n",
      "mean of predicted of values:  4.8069587202051  STD of predicted of values :  2.508603422863498\n",
      "describe of target\n",
      "mean of predicted of values:  4.765791119449656  STD of predicted of values :  2.7729133847445984\n"
     ]
    },
    {
     "data": {
      "text/plain": [
       "array([2.9275341 , 6.22178997, 5.87951947, ..., 8.4277045 , 8.25037201,\n",
       "       2.85537161])"
      ]
     },
     "execution_count": 39,
     "metadata": {},
     "output_type": "execute_result"
    }
   ],
   "source": [
    "# Predicting and getting score\n",
    "ml_model_1(clf, 'MLPRegressor', 'RiskRecidivism', X_train, X_test, y_train, y_test, 'DecileScore')"
   ]
  },
  {
   "cell_type": "markdown",
   "metadata": {},
   "source": [
    "# Model Best Score \n",
    "Running MLPRegressor model for : RiskRecidivism using target: DecileScore score:  0.8414744125013081"
   ]
  },
  {
   "cell_type": "code",
   "execution_count": null,
   "metadata": {
    "collapsed": true
   },
   "outputs": [],
   "source": [
    "# create to new subsets from RiskRecidivism\n",
    "# non-sensitive features:  sex_code_text, legal_status,  Custody_status, \n",
    "#                           Marital_status,Age\n",
    "#  sensitive features : Ethnic_code_text"
   ]
  },
  {
   "cell_type": "code",
   "execution_count": 40,
   "metadata": {},
   "outputs": [
    {
     "name": "stdout",
     "output_type": "stream",
     "text": [
      "(15990, 29)\n",
      "<class 'pandas.core.frame.DataFrame'>\n",
      "Int64Index: 15990 entries, 1 to 60841\n",
      "Data columns (total 29 columns):\n",
      "Person_ID                  15990 non-null int64\n",
      "AssessmentID               15990 non-null int64\n",
      "Case_ID                    15990 non-null int64\n",
      "Agency_Text                15990 non-null object\n",
      "LastName                   15990 non-null object\n",
      "FirstName                  15990 non-null object\n",
      "MiddleName                 4227 non-null object\n",
      "Sex_Code_Text              15990 non-null object\n",
      "Ethnic_Code_Text           15990 non-null object\n",
      "DateOfBirth                15990 non-null object\n",
      "ScaleSet_ID                15990 non-null int64\n",
      "ScaleSet                   15990 non-null object\n",
      "AssessmentReason           15990 non-null object\n",
      "Language                   15990 non-null object\n",
      "LegalStatus                15990 non-null object\n",
      "CustodyStatus              15990 non-null object\n",
      "MaritalStatus              15990 non-null object\n",
      "Screening_Date             15990 non-null object\n",
      "RecSupervisionLevel        15990 non-null int64\n",
      "RecSupervisionLevelText    15990 non-null object\n",
      "Scale_ID                   15990 non-null int64\n",
      "DisplayText                15990 non-null object\n",
      "RawScore                   15990 non-null float64\n",
      "DecileScore                15990 non-null int64\n",
      "ScoreText                  15990 non-null object\n",
      "AssessmentType             15990 non-null object\n",
      "IsCompleted                15990 non-null int64\n",
      "IsDeleted                  15990 non-null int64\n",
      "Age                        15990 non-null int64\n",
      "dtypes: float64(1), int64(10), object(18)\n",
      "memory usage: 3.7+ MB\n",
      "None\n"
     ]
    }
   ],
   "source": [
    "print(RiskRecidivism.shape)\n",
    "print(RiskRecidivism.info())"
   ]
  },
  {
   "cell_type": "code",
   "execution_count": 41,
   "metadata": {},
   "outputs": [
    {
     "name": "stdout",
     "output_type": "stream",
     "text": [
      "(12792, 35)\n",
      "12792\n"
     ]
    }
   ],
   "source": [
    "print(X_train.shape)\n",
    "print(len(X_train))\n",
    "\n"
   ]
  },
  {
   "cell_type": "code",
   "execution_count": 42,
   "metadata": {
    "collapsed": true
   },
   "outputs": [],
   "source": [
    "# Define prepare_data_for_ml_model_1:\n",
    "def prepare_data_for_ml_model_1(dfx, target_loc):\n",
    "    # Create new Dataset of selected columns to get prepare TEST and Training data for  ML model \n",
    "     \n",
    "    \"\"\"\n",
    "    Columns\n",
    "    0 - 4  : 'Person_ID','AssessmentID','Case_ID','Agency_Text', 'LastName',\n",
    "    5 - 9  : 'FirstName', 'MiddleName', 'Sex_Code_Text', 'Ethnic_Code_Text','DateOfBirth',\n",
    "    10 - 14: 'ScaleSet_ID', 'ScaleSet', 'AssessmentReason','Language', 'LegalStatus',\n",
    "    15 - 19: 'CustodyStatus', 'MaritalStatus','Screening_Date', 'RecSupervisionLevel', 'RecSupervisionLevelText',\n",
    "    20 - 24: 'Scale_ID', 'DisplayText', 'RawScore', 'DecileScore', 'ScoreText',\n",
    "    25 - 28: 'AssessmentType', 'IsCompleted', 'IsDeleted','Age'\n",
    "    \"\"\"\n",
    "\n",
    "    #x_df = dfx.iloc[:, [7,8,14,15,16,19]] #features\n",
    "    x_df = dfx.iloc[:, [7,14,15,16,19]] #features\n",
    "    tmp_age = dfx.iloc[:,28].as_matrix() #age feature, convert numpy array\n",
    "    x_age = tmp_age.reshape(tmp_age.size,1)\n",
    "    \n",
    "\n",
    "    y = dfx.iloc[:,target_loc].as_matrix() #target convert numpy array\n",
    "\n",
    "\n",
    "    #  lable encoder. It encodes the data into integers\n",
    "    le = LabelEncoder()\n",
    "\n",
    "    Sex_Code_Text_cat = le.fit_transform(x_df.Sex_Code_Text)\n",
    "    # Ethnic_Code_Text_cat = le.fit_transform(x_df.Ethnic_Code_Text)\n",
    "    LegalStatus_cat = le.fit_transform(x_df.LegalStatus)\n",
    "    CustodyStatus_cat = le.fit_transform(x_df.CustodyStatus)\n",
    "    MaritalStatus_cat = le.fit_transform(x_df.MaritalStatus)\n",
    "    RecSupervisionLevelText_cat = le.fit_transform(x_df.RecSupervisionLevelText)\n",
    "\n",
    "    Sex_Code_Text_cat = Sex_Code_Text_cat.reshape(len(Sex_Code_Text_cat),1)\n",
    "    # Ethnic_Code_Text_cat = Ethnic_Code_Text_cat.reshape(len(Ethnic_Code_Text_cat),1)\n",
    "    LegalStatus_cat = LegalStatus_cat.reshape(len(LegalStatus_cat),1)\n",
    "    CustodyStatus_cat = CustodyStatus_cat.reshape(len(CustodyStatus_cat),1)\n",
    "    MaritalStatus_cat = MaritalStatus_cat.reshape(len(MaritalStatus_cat),1)\n",
    "    RecSupervisionLevelText_cat = RecSupervisionLevelText_cat.reshape(len(RecSupervisionLevelText_cat),1)\n",
    "\n",
    "#  One-Hot encoder. It encodes the data into binary format\n",
    "    onehote = OneHotEncoder(sparse=False)\n",
    "    \n",
    "    Sex_Code_Text_oh = onehote.fit_transform(Sex_Code_Text_cat)\n",
    "    # Ethnic_Code_Text_oh = onehote.fit_transform(Ethnic_Code_Text_cat)\n",
    "    LegalStatus_oh = onehote.fit_transform(LegalStatus_cat)\n",
    "    CustodyStatus_oh = onehote.fit_transform(CustodyStatus_cat)\n",
    "    MaritalStatus_oh = onehote.fit_transform(MaritalStatus_cat)\n",
    "    RecSupervisionLevelText_oh = onehote.fit_transform(RecSupervisionLevelText_cat)\n",
    "\n",
    "# Build out feature dataset as numpy array, since One-Hot encoder creates numpy array\n",
    "    X_feature =  Sex_Code_Text_oh\n",
    "    # X_feature = np.concatenate((X_feature,Ethnic_Code_Text_oh), axis=1)\n",
    "    X_feature = np.concatenate((X_feature,LegalStatus_oh), axis=1)\n",
    "    X_feature = np.concatenate((X_feature,CustodyStatus_oh), axis=1)\n",
    "    X_feature = np.concatenate((X_feature,MaritalStatus_oh), axis=1)\n",
    "    X_feature = np.concatenate((X_feature,RecSupervisionLevelText_oh), axis=1)\n",
    "    X_feature = np.concatenate((X_feature,x_age), axis=1)\n",
    "\n",
    "# Split data train and test\n",
    "    X_train, X_test, y_train, y_test = train_test_split(X_feature, y, test_size=0.2)\n",
    "    print('Length for X_train:', len(X_train), ' X_test:',len(X_test), ' y_train:',len(y_train) ,' y_test:',len(y_test))\n",
    "\n",
    "    return X_train, X_test, y_train, y_test"
   ]
  },
  {
   "cell_type": "markdown",
   "metadata": {
    "collapsed": true
   },
   "source": [
    "# Preparing for VAE using tensorflow"
   ]
  },
  {
   "cell_type": "code",
   "execution_count": 43,
   "metadata": {
    "collapsed": true
   },
   "outputs": [],
   "source": [
    "class dataReader(object):\n",
    "    # Code provided by Andrei Fajardo\n",
    "    # to substitude for ...train.next_batch\n",
    "\n",
    "    def __init__(self,*arrays,batch_size=1):\n",
    "        self.arrays = arrays\n",
    "        self.__check_equal_shape()\n",
    "        self.num_examples = self.arrays[0].shape[0]\n",
    "        self.batch_number = 0\n",
    "        self.batch_size = batch_size\n",
    "        self.num_batches = int(np.ceil(self.num_examples / batch_size))\n",
    "\n",
    "    def __check_equal_shape(self):\n",
    "        if any(self.arrays[0].shape[0] != arr.shape[0] for arr in self.arrays[1:]):\n",
    "            raise ValueError(\"all arrays must be equal along first dimension\")\n",
    "\n",
    "    def next_batch(self):\n",
    "        low_ix = self.batch_number*self.batch_size\n",
    "        up_ix = (self.batch_number + 1)*self.batch_size\n",
    "        if up_ix >= self.num_examples:\n",
    "            up_ix = self.num_examples\n",
    "            self.batch_number = 0 # reset batch_number to zero\n",
    "        else:\n",
    "            self.batch_number = self.batch_number + 1\n",
    "\n",
    "        return [arr[low_ix:up_ix,:] for arr in self.arrays]\n"
   ]
  },
  {
   "cell_type": "code",
   "execution_count": 44,
   "metadata": {
    "collapsed": true
   },
   "outputs": [],
   "source": [
    "#  Tensorflow  Implementation \n",
    "\n",
    "import tensorflow as tf\n",
    "import os\n",
    "import sys\n",
    "from functools import partial\n",
    "from sklearn.preprocessing import StandardScaler"
   ]
  },
  {
   "cell_type": "code",
   "execution_count": 45,
   "metadata": {
    "collapsed": true
   },
   "outputs": [],
   "source": [
    "# to make this notebook's output stable across runs\n",
    "def reset_graph(seed=42):\n",
    "    tf.reset_default_graph()\n",
    "    tf.set_random_seed(seed)\n",
    "    np.random.seed(seed)"
   ]
  },
  {
   "cell_type": "code",
   "execution_count": 46,
   "metadata": {},
   "outputs": [
    {
     "name": "stdout",
     "output_type": "stream",
     "text": [
      "Length for X_train: 12792  X_test: 3198  y_train: 12792  y_test: 3198\n"
     ]
    }
   ],
   "source": [
    "# RiskRecidivism dataset target RawScore (22)\n",
    "# X_train.shape (12792, 35)\n",
    "X_train, X_test, y_train, y_test = prepare_data_for_ml_model_1(RiskRecidivism,22)"
   ]
  },
  {
   "cell_type": "code",
   "execution_count": 47,
   "metadata": {
    "scrolled": true
   },
   "outputs": [
    {
     "name": "stdout",
     "output_type": "stream",
     "text": [
      "(12792, 27)\n"
     ]
    }
   ],
   "source": [
    "print(X_train.shape)"
   ]
  },
  {
   "cell_type": "code",
   "execution_count": 53,
   "metadata": {},
   "outputs": [],
   "source": [
    "scaler = StandardScaler()\n",
    "X_scaler = scaler.fit_transform(X_train)\n",
    "# X = tf.constant(X_scaler, dtype=tf.float32, name=\"X\")\n",
    "X = tf.placeholder(tf.float32, shape=[None, 27], name=\"X\")\n",
    "\n",
    "\n",
    "n_inputs = 27 # 28 * 28\n",
    "n_hidden1 = 300\n",
    "n_hidden2 = 150  \n",
    "n_hidden3 = n_hidden1\n",
    "n_outputs = n_inputs\n",
    "\n",
    "learning_rate = 0.01\n",
    "l2_reg = 0.0001\n",
    "\n",
    "he_init = tf.contrib.layers.variance_scaling_initializer() # He initialization\n",
    "#Equivalent to:\n",
    "#he_init = lambda shape, dtype=tf.float32: tf.truncated_normal(shape, 0., stddev=np.sqrt(2/shape[0]))\n",
    "l2_regularizer = tf.contrib.layers.l2_regularizer(l2_reg)\n",
    "my_dense_layer = partial(tf.layers.dense,\n",
    "                         activation=tf.nn.elu,\n",
    "                         kernel_initializer=he_init,\n",
    "                         kernel_regularizer=l2_regularizer)\n",
    "\n",
    "hidden1 = my_dense_layer(X, n_hidden1)\n",
    "hidden2 = my_dense_layer(hidden1, n_hidden2)\n",
    "hidden3 = my_dense_layer(hidden2, n_hidden3)\n",
    "outputs = my_dense_layer(hidden3, n_outputs, activation=None)\n",
    "\n",
    "reconstruction_loss = tf.reduce_mean(tf.square(outputs - X))\n",
    "\n",
    "reg_losses = tf.get_collection(tf.GraphKeys.REGULARIZATION_LOSSES)\n",
    "loss = tf.add_n([reconstruction_loss] + reg_losses)\n",
    "\n",
    "optimizer = tf.train.AdamOptimizer(learning_rate)\n",
    "training_op = optimizer.minimize(loss)\n",
    "\n",
    "init = tf.global_variables_initializer()\n",
    "saver = tf.train.Saver()"
   ]
  },
  {
   "cell_type": "code",
   "execution_count": 54,
   "metadata": {
    "collapsed": true
   },
   "outputs": [],
   "source": [
    "# instatianate\n",
    "data_reader = dataReader(X_scaler,y_train[:,np.newaxis]\n",
    ", batch_size=150)"
   ]
  },
  {
   "cell_type": "code",
   "execution_count": 55,
   "metadata": {},
   "outputs": [
    {
     "name": "stdout",
     "output_type": "stream",
     "text": [
      "86\n"
     ]
    }
   ],
   "source": [
    "print(data_reader.num_batches)"
   ]
  },
  {
   "cell_type": "code",
   "execution_count": 56,
   "metadata": {},
   "outputs": [
    {
     "name": "stdout",
     "output_type": "stream",
     "text": [
      "08% Train MSE: 0.030686384\n",
      "18% Train MSE: 0.04635204\n",
      "2 Train MSE: 0.012763539\n",
      "3 Train MSE: 0.010931872\n",
      "4 Train MSE: 0.026008682\n",
      "5 Train MSE: 0.009271162\n",
      "6 Train MSE: 0.6512807\n",
      "7 Train MSE: 0.03371185\n",
      "8 Train MSE: 0.017180419\n",
      "98% Train MSE: 0.0066630775\n",
      "10 Train MSE: 0.0038525949\n",
      "11 Train MSE: 0.002831241\n",
      "12 Train MSE: 0.0036277599\n",
      "13 Train MSE: 0.007861103\n",
      "14 Train MSE: 0.0039398195\n",
      "15 Train MSE: 0.002703605\n",
      "16 Train MSE: 0.0039192694\n",
      "17 Train MSE: 0.0067845783\n",
      "18 Train MSE: 0.004408289\n",
      "19 Train MSE: 0.0065379078\n",
      "20 Train MSE: 0.011140018\n",
      "21% Train MSE: 0.004182887\n",
      "22 Train MSE: 0.006605484\n",
      "23 Train MSE: 0.0037944333\n",
      "24 Train MSE: 0.0055763614\n",
      "25 Train MSE: 0.0075460942\n",
      "26 Train MSE: 0.015376168\n",
      "27% Train MSE: 0.009692282\n",
      "28 Train MSE: 0.025449881\n",
      "29 Train MSE: 0.005599982\n",
      "30 Train MSE: 877.78723\n",
      "31% Train MSE: 23.390484\n",
      "32 Train MSE: 6.5299625\n",
      "33 Train MSE: 4.109535\n",
      "34 Train MSE: 2.969798\n",
      "35 Train MSE: 2.289897\n",
      "36% Train MSE: 1.9238572\n",
      "37% Train MSE: 1.6555434\n",
      "38 Train MSE: 1.4796733\n",
      "39% Train MSE: 1.3033314\n",
      "40 Train MSE: 1.1132497\n",
      "41 Train MSE: 0.80990094\n",
      "42 Train MSE: 0.71130186\n",
      "43 Train MSE: 0.67012763\n",
      "44 Train MSE: 0.6525178\n",
      "45 Train MSE: 0.64471835\n",
      "46 Train MSE: 0.6406595\n",
      "47 Train MSE: 0.63767374\n",
      "48 Train MSE: 0.634565\n",
      "49 Train MSE: 0.6330663\n"
     ]
    }
   ],
   "source": [
    "n_epochs = 50\n",
    "batch_size = 150\n",
    "\n",
    "with tf.Session() as sess:\n",
    "    init.run()\n",
    "    for epoch in range(n_epochs):\n",
    "        #n_batches = mnist.train.num_examples // batch_size\n",
    "        n_batches = data_reader.num_batches\n",
    "        for iteration in range(n_batches):\n",
    "            print(\"\\r{}%\".format(100 * iteration // n_batches), end=\"\")\n",
    "            sys.stdout.flush()                                          \n",
    "            X_batch, y_batch = data_reader.next_batch()\n",
    "            sess.run(training_op, feed_dict={X: X_batch})\n",
    "\n",
    "        loss_train = reconstruction_loss.eval(feed_dict={X: X_batch})   \n",
    "        print(\"\\r{}\".format(epoch), \"Train MSE:\", loss_train)           \n",
    "        saver.save(sess, \"./my_model_all_layers.ckpt\")\n"
   ]
  },
  {
   "cell_type": "code",
   "execution_count": null,
   "metadata": {
    "collapsed": true
   },
   "outputs": [],
   "source": [
    "# Variational Autoencoder (VAE)"
   ]
  },
  {
   "cell_type": "code",
   "execution_count": 63,
   "metadata": {},
   "outputs": [],
   "source": [
    "reset_graph()\n",
    "\n",
    "from functools import partial\n",
    "\n",
    "\n",
    "n_inputs = 27\n",
    "n_hidden1 = 500\n",
    "n_hidden2 = 500\n",
    "n_hidden3 = 20  # codings\n",
    "n_hidden4 = n_hidden2\n",
    "n_hidden5 = n_hidden1\n",
    "n_outputs = n_inputs\n",
    "learning_rate = 0.001\n",
    "\n",
    "initializer = tf.contrib.layers.variance_scaling_initializer()\n",
    "\n",
    "my_dense_layer = partial(\n",
    "    tf.layers.dense,\n",
    "    activation=tf.nn.elu,\n",
    "    kernel_initializer=initializer)\n",
    "\n",
    "#\n",
    "scaler = StandardScaler()\n",
    "X_scaler = scaler.fit_transform(X_train)\n",
    "X = tf.placeholder(tf.float32, shape=[None, 27], name=\"X\")\n",
    "#X = tf.placeholder(tf.float32, [None, n_inputs])\n",
    "\n",
    "#\n",
    "hidden1 = my_dense_layer(X, n_hidden1)\n",
    "hidden2 = my_dense_layer(hidden1, n_hidden2)\n",
    "hidden3_mean = my_dense_layer(hidden2, n_hidden3, activation=None)\n",
    "hidden3_sigma = my_dense_layer(hidden2, n_hidden3, activation=None)\n",
    "noise = tf.random_normal(tf.shape(hidden3_sigma), dtype=tf.float32)\n",
    "hidden3 = hidden3_mean + hidden3_sigma * noise\n",
    "hidden4 = my_dense_layer(hidden3, n_hidden4)\n",
    "hidden5 = my_dense_layer(hidden4, n_hidden5)\n",
    "logits = my_dense_layer(hidden5, n_outputs, activation=None)\n",
    "outputs = tf.sigmoid(logits)\n",
    "\n",
    "xentropy = tf.nn.sigmoid_cross_entropy_with_logits(labels=X, logits=logits)\n",
    "reconstruction_loss = tf.reduce_sum(xentropy)"
   ]
  },
  {
   "cell_type": "code",
   "execution_count": 64,
   "metadata": {
    "collapsed": true
   },
   "outputs": [],
   "source": [
    "# instatianate\n",
    "data_reader = dataReader(X_scaler,y_train[:,np.newaxis]\n",
    ", batch_size=150)"
   ]
  },
  {
   "cell_type": "code",
   "execution_count": 65,
   "metadata": {
    "collapsed": true
   },
   "outputs": [],
   "source": [
    "eps = 1e-10 # smoothing term to avoid computing log(0) which is NaN\n",
    "latent_loss = 0.5 * tf.reduce_sum(\n",
    "    tf.square(hidden3_sigma) + tf.square(hidden3_mean)\n",
    "    - 1 - tf.log(eps + tf.square(hidden3_sigma)))"
   ]
  },
  {
   "cell_type": "code",
   "execution_count": 66,
   "metadata": {
    "collapsed": true
   },
   "outputs": [],
   "source": [
    "loss = reconstruction_loss + latent_loss\n",
    "\n",
    "optimizer = tf.train.AdamOptimizer(learning_rate=learning_rate)\n",
    "training_op = optimizer.minimize(loss)\n",
    "\n",
    "init = tf.global_variables_initializer()\n",
    "saver = tf.train.Saver()"
   ]
  },
  {
   "cell_type": "code",
   "execution_count": 67,
   "metadata": {},
   "outputs": [
    {
     "name": "stdout",
     "output_type": "stream",
     "text": [
      "0 Train total loss: -63862800.0 \tReconstruction loss: -115972600.0 \tLatent loss: 52109800.0\n",
      "1 Train total loss: -21893798000.0 \tReconstruction loss: -41029820000.0 \tLatent loss: 19136023000.0\n",
      "2 Train total loss: -575724650000.0 \tReconstruction loss: -1085993600000.0 \tLatent loss: 510268930000.0\n",
      "38% Train total loss: -5061218400000.0 \tReconstruction loss: -9559709000000.0 \tLatent loss: 4498490700000.0\n",
      "4 Train total loss: -25432525000000.0 \tReconstruction loss: -48159313000000.0 \tLatent loss: 22726788000000.0\n",
      "5 Train total loss: -89768155000000.0 \tReconstruction loss: -171026030000000.0 \tLatent loss: 81257880000000.0\n",
      "68% Train total loss: -252515370000000.0 \tReconstruction loss: -483680860000000.0 \tLatent loss: 231165490000000.0\n",
      "7 Train total loss: -600747800000000.0 \tReconstruction loss: -1153963600000000.0 \tLatent loss: 553215850000000.0\n",
      "88% Train total loss: -1270055100000000.0 \tReconstruction loss: -2441074700000000.0 \tLatent loss: 1171019600000000.0\n",
      "98% Train total loss: -2439029500000000.0 \tReconstruction loss: -4711402500000000.0 \tLatent loss: 2272373000000000.0\n",
      "10 Train total loss: -4363465900000000.0 \tReconstruction loss: -8427952000000000.0 \tLatent loss: 4064486200000000.0\n",
      "11% Train total loss: -7344008600000000.0 \tReconstruction loss: -1.4219694e+16 \tLatent loss: 6875685400000000.0\n",
      "12 Train total loss: -1.1764261e+16 \tReconstruction loss: -2.2815203e+16 \tLatent loss: 1.1050942e+16\n",
      "13 Train total loss: -1.8084149e+16 \tReconstruction loss: -3.508306e+16 \tLatent loss: 1.6998911e+16\n",
      "14 Train total loss: -2.6808056e+16 \tReconstruction loss: -5.2095917e+16 \tLatent loss: 2.5287861e+16\n",
      "15 Train total loss: -3.86447e+16 \tReconstruction loss: -7.51397e+16 \tLatent loss: 3.6495e+16\n",
      "16 Train total loss: -5.419517e+16 \tReconstruction loss: -1.053672e+17 \tLatent loss: 5.1172027e+16\n",
      "17% Train total loss: -7.418304e+16 \tReconstruction loss: -1.444376e+17 \tLatent loss: 7.0254562e+16\n",
      "18 Train total loss: -9.988074e+16 \tReconstruction loss: -1.94407e+17 \tLatent loss: 9.452627e+16\n",
      "19 Train total loss: -1.3162293e+17 \tReconstruction loss: -2.5629867e+17 \tLatent loss: 1.2467574e+17\n",
      "20 Train total loss: -1.7084232e+17 \tReconstruction loss: -3.3297163e+17 \tLatent loss: 1.6212931e+17\n",
      "21 Train total loss: -2.1879991e+17 \tReconstruction loss: -4.2658172e+17 \tLatent loss: 2.077818e+17\n",
      "22% Train total loss: -2.7667856e+17 \tReconstruction loss: -5.3944954e+17 \tLatent loss: 2.6277098e+17\n",
      "23 Train total loss: -3.4539285e+17 \tReconstruction loss: -6.733258e+17 \tLatent loss: 3.2793295e+17\n",
      "24% Train total loss: -4.2681578e+17 \tReconstruction loss: -8.323525e+17 \tLatent loss: 4.0553672e+17\n",
      "25 Train total loss: -5.22269e+17 \tReconstruction loss: -1.0187879e+18 \tLatent loss: 4.965189e+17\n",
      "26 Train total loss: -6.340319e+17 \tReconstruction loss: -1.236436e+18 \tLatent loss: 6.0240414e+17\n",
      "27 Train total loss: -7.625192e+17 \tReconstruction loss: -1.486981e+18 \tLatent loss: 7.244618e+17\n",
      "28 Train total loss: -9.09351e+17 \tReconstruction loss: -1.7744783e+18 \tLatent loss: 8.651273e+17\n",
      "29 Train total loss: -1.07832596e+18 \tReconstruction loss: -2.1041524e+18 \tLatent loss: 1.0258265e+18\n",
      "30 Train total loss: -1.26845e+18 \tReconstruction loss: -2.4769867e+18 \tLatent loss: 1.2085367e+18\n",
      "31 Train total loss: -1.4862308e+18 \tReconstruction loss: -2.9012415e+18 \tLatent loss: 1.4150107e+18\n",
      "32 Train total loss: -1.7296687e+18 \tReconstruction loss: -3.3771236e+18 \tLatent loss: 1.6474549e+18\n",
      "33 Train total loss: -2.0022479e+18 \tReconstruction loss: -3.9103884e+18 \tLatent loss: 1.9081404e+18\n",
      "34% Train total loss: -2.3081756e+18 \tReconstruction loss: -4.50698e+18 \tLatent loss: 2.1988046e+18\n",
      "35 Train total loss: -2.6491166e+18 \tReconstruction loss: -5.17132e+18 \tLatent loss: 2.5222033e+18\n",
      "36% Train total loss: -3.0201023e+18 \tReconstruction loss: -5.900656e+18 \tLatent loss: 2.880554e+18\n",
      "37 Train total loss: -3.4388273e+18 \tReconstruction loss: -6.715152e+18 \tLatent loss: 3.2763245e+18\n",
      "38 Train total loss: -3.899556e+18 \tReconstruction loss: -7.61216e+18 \tLatent loss: 3.7126038e+18\n",
      "39 Train total loss: -4.3939464e+18 \tReconstruction loss: -8.5848873e+18 \tLatent loss: 4.1909409e+18\n",
      "40 Train total loss: -4.939707e+18 \tReconstruction loss: -9.654341e+18 \tLatent loss: 4.714634e+18\n",
      "41 Train total loss: -5.544021e+18 \tReconstruction loss: -1.083046e+19 \tLatent loss: 5.286439e+18\n",
      "42 Train total loss: -6.1953753e+18 \tReconstruction loss: -1.2104835e+19 \tLatent loss: 5.9094594e+18\n",
      "43 Train total loss: -6.9066527e+18 \tReconstruction loss: -1.3493357e+19 \tLatent loss: 6.5867047e+18\n",
      "44 Train total loss: -7.6694334e+18 \tReconstruction loss: -1.4990795e+19 \tLatent loss: 7.321362e+18\n",
      "45 Train total loss: -8.501797e+18 \tReconstruction loss: -1.6618649e+19 \tLatent loss: 8.1168516e+18\n",
      "46 Train total loss: -9.409075e+18 \tReconstruction loss: -1.8384685e+19 \tLatent loss: 8.9756103e+18\n",
      "47 Train total loss: -1.0377379e+19 \tReconstruction loss: -2.027961e+19 \tLatent loss: 9.902231e+18\n",
      "48 Train total loss: -1.1425111e+19 \tReconstruction loss: -2.2325045e+19 \tLatent loss: 1.0899934e+19\n",
      "49 Train total loss: -1.2538395e+19 \tReconstruction loss: -2.4509442e+19 \tLatent loss: 1.1971047e+19\n"
     ]
    }
   ],
   "source": [
    "n_epochs = 50\n",
    "batch_size = 150\n",
    "\n",
    "with tf.Session() as sess:\n",
    "    init.run()\n",
    "    for epoch in range(n_epochs):\n",
    "        #n_batches = mnist.train.num_examples // batch_size\n",
    "        n_batches = data_reader.num_batches\n",
    "        for iteration in range(n_batches):\n",
    "            print(\"\\r{}%\".format(100 * iteration // n_batches), end=\"\")\n",
    "            sys.stdout.flush()\n",
    "            X_batch, y_batch = data_reader.next_batch()\n",
    "            #X_batch, y_batch = mnist.train.next_batch(batch_size)\n",
    "            sess.run(training_op, feed_dict={X: X_batch})\n",
    "        loss_val, reconstruction_loss_val, latent_loss_val = sess.run([loss, reconstruction_loss, latent_loss], feed_dict={X: X_batch})\n",
    "        print(\"\\r{}\".format(epoch), \"Train total loss:\", loss_val, \"\\tReconstruction loss:\", reconstruction_loss_val, \"\\tLatent loss:\", latent_loss_val)\n",
    "        saver.save(sess, \"./my_model_variational.ckpt\")"
   ]
  },
  {
   "cell_type": "code",
   "execution_count": null,
   "metadata": {
    "collapsed": true
   },
   "outputs": [],
   "source": [
    "# VFAE"
   ]
  },
  {
   "cell_type": "code",
   "execution_count": 68,
   "metadata": {},
   "outputs": [],
   "source": [
    "from tensorflow.contrib.layers import fully_connected, batch_norm\n",
    "from datetime import datetime"
   ]
  },
  {
   "cell_type": "markdown",
   "metadata": {},
   "source": [
    "###  Functions"
   ]
  },
  {
   "cell_type": "code",
   "execution_count": 69,
   "metadata": {
    "collapsed": true
   },
   "outputs": [],
   "source": [
    "def show_reconstructed_digits(X, outputs, model_path = None, n_test_digits = 2):\n",
    "    with tf.Session() as sess:\n",
    "        if model_path:\n",
    "            saver.restore(sess, model_path)\n",
    "        X_test = mnist.test.images[:n_test_digits]\n",
    "        outputs_val = outputs.eval(feed_dict={X: X_test})\n",
    "\n",
    "    fig = plt.figure(figsize=(8, 3 * n_test_digits))\n",
    "    for digit_index in range(n_test_digits):\n",
    "        plt.subplot(n_test_digits, 2, digit_index * 2 + 1)\n",
    "        plot_image(X_test[digit_index])\n",
    "        plt.subplot(n_test_digits, 2, digit_index * 2 + 2)\n",
    "        plot_image(outputs_val[digit_index])"
   ]
  },
  {
   "cell_type": "markdown",
   "metadata": {},
   "source": [
    "### Construction Phase\n",
    "\n",
    "We will construct the graph for the VFAE architecture:\n",
    "\n",
    "    Input: X = [X_without_s, s], where s is the sensitive feature\n",
    "\n",
    "    Middle Encodings: We're learning the parameters for the distribution of the encodings. What's different here is that we inject both the response y and the sensitive features in the middle layers.\n",
    "\n",
    "    Output: X_copy"
   ]
  },
  {
   "cell_type": "code",
   "execution_count": 70,
   "metadata": {
    "collapsed": true
   },
   "outputs": [],
   "source": [
    "# instatianate\n",
    "data_reader = dataReader(X_scaler,y_train[:,np.newaxis]\n",
    ", batch_size=150)"
   ]
  },
  {
   "cell_type": "code",
   "execution_count": 71,
   "metadata": {
    "collapsed": true
   },
   "outputs": [],
   "source": [
    "# Construction phase\n",
    "# n_s = 10 # number of sensitive features\n",
    "# n_inputs = 28*28 - n_s # number of non-sensitive features\n",
    "n_s = 1 # number of sensitive features\n",
    "n_inputs = 27 - n_s # number of non-sensitive features\n",
    "\n",
    "# encoders\n",
    "n_hidden1 = 500\n",
    "n_hidden2 = 20 # codings\n",
    "n_hidden3 = 500\n",
    "n_hidden4 = 20\n",
    "\n",
    "# decoders\n",
    "n_hidden5 = 500\n",
    "n_hidden6 = 20\n",
    "n_hidden7 = 500\n",
    "\n",
    "# final output can take a random sample from the posterior\n",
    "n_outputs = n_inputs + n_s"
   ]
  },
  {
   "cell_type": "code",
   "execution_count": 72,
   "metadata": {
    "collapsed": true
   },
   "outputs": [],
   "source": [
    "### Training rates\n",
    "alpha = 1\n",
    "learning_rate = 0.001"
   ]
  },
  {
   "cell_type": "code",
   "execution_count": 73,
   "metadata": {
    "collapsed": true
   },
   "outputs": [],
   "source": [
    "### Setting up the graph\n",
    "with tf.contrib.framework.arg_scope(\n",
    "        [fully_connected],\n",
    "        activation_fn = tf.nn.elu,\n",
    "        weights_initializer = tf.contrib.layers.variance_scaling_initializer()):\n",
    "    X = tf.placeholder(tf.float32, shape = [None, n_inputs], name=\"X_wo_s\")\n",
    "    s = tf.placeholder(tf.float32, shape = [None, n_s], name=\"s\")\n",
    "    X_full = tf.concat([X,s], axis=1)\n",
    "    y = tf.placeholder(tf.int32, shape = [None, 1], name=\"y\") # for your example, switch this to tf.float32 bc you'll be doing reg\n",
    "    is_unlabelled = tf.placeholder(tf.bool, shape=(), name='is_training') # don't worry about this\n",
    "    with tf.name_scope(\"X_encoder\"):\n",
    "        hidden1 = fully_connected(tf.concat([X, s], axis=1), n_hidden1)\n",
    "        hidden2_mean = fully_connected(hidden1, n_hidden2, activation_fn = None)\n",
    "        hidden2_gamma = fully_connected(hidden1, n_hidden2, activation_fn = None)\n",
    "        hidden2_sigma = tf.exp(0.5 * hidden2_gamma)\n",
    "    noise1 = tf.random_normal(tf.shape(hidden2_sigma), dtype=tf.float32)\n",
    "    hidden2 = hidden2_mean + hidden2_sigma * noise1         # z1\n",
    "    with tf.name_scope(\"Z1_encoder\"):\n",
    "        hidden3_ygz1 = fully_connected(hidden2, n_hidden4, activation_fn = tf.nn.tanh)\n",
    "        hidden4_softmax_mean = fully_connected(hidden3_ygz1, 10, activation_fn = tf.nn.softmax)\n",
    "        if is_unlabelled == True:\n",
    "            # impute by sampling from q(y|z1)\n",
    "            y = tf.assign(y, tf.multinomial(hidden4_softmax_mean, 1,\n",
    "                                output_type = tf.int32))\n",
    "        hidden3 = fully_connected(tf.concat([hidden2, tf.cast(y, tf.float32)], axis=1),\n",
    "                        n_hidden3, activation_fn=tf.nn.tanh)\n",
    "        hidden4_mean = fully_connected(hidden3, n_hidden4, activation_fn = None)\n",
    "        hidden4_gamma = fully_connected(hidden3, n_hidden4, activation_fn = None)\n",
    "        hidden4_sigma = tf.exp(0.5 * hidden4_gamma)\n",
    "    noise2 = tf.random_normal(tf.shape(hidden4_sigma), dtype=tf.float32)\n",
    "    hidden4 = hidden4_mean + hidden4_sigma * noise2     # z2\n",
    "    with tf.name_scope(\"Z1_decoder\"):\n",
    "        hidden5 = fully_connected(tf.concat([hidden4, tf.cast(y, tf.float32)], axis=1 ),\n",
    "                    n_hidden5, activation_fn = tf.nn.tanh)\n",
    "        hidden6_mean = fully_connected(hidden5, n_hidden6, activation_fn = None)\n",
    "        hidden6_gamma = fully_connected(hidden5, n_hidden6, activation_fn = None)\n",
    "        hidden6_sigma = tf.exp(0.5 * hidden6_gamma)\n",
    "    noise3 = tf.random_normal(tf.shape(hidden6_sigma), dtype=tf.float32)\n",
    "    hidden6 = hidden6_mean + hidden6_sigma * noise3     # z1 (decoded)\n",
    "    with tf.name_scope(\"X_decoder\"):\n",
    "        hidden7 = fully_connected(tf.concat([hidden6, s], axis=1), n_hidden7,\n",
    "                                 activation_fn = tf.nn.tanh)\n",
    "        hidden8 = fully_connected(hidden7, n_outputs, activation_fn = None)\n",
    "    outputs = tf.sigmoid(hidden8, name=\"decoded_X\")"
   ]
  },
  {
   "cell_type": "markdown",
   "metadata": {},
   "source": [
    "### Loss Function: ELBO"
   ]
  },
  {
   "cell_type": "code",
   "execution_count": 74,
   "metadata": {
    "collapsed": true
   },
   "outputs": [],
   "source": [
    "# instatianate\n",
    "data_reader = dataReader(X_scaler,y_train[:,np.newaxis]\n",
    ", batch_size=150)"
   ]
  },
  {
   "cell_type": "code",
   "execution_count": 75,
   "metadata": {
    "collapsed": true
   },
   "outputs": [],
   "source": [
    "# expected lower bound\n",
    "with tf.name_scope(\"ELB\"):\n",
    "    kl_z2 = 0.5 * tf.reduce_sum(\n",
    "                    tf.exp(hidden4_gamma)\n",
    "                    + tf.square(hidden4_mean)\n",
    "                    - 1\n",
    "                    - hidden4_gamma\n",
    "                    )\n",
    "\n",
    "    kl_z1 = 0.5 * (tf.reduce_sum(\n",
    "                    (1 / (1e-10 + tf.exp(hidden6_gamma))) * tf.exp(hidden2_gamma)\n",
    "                    - 1\n",
    "                    + hidden6_gamma\n",
    "                    - hidden2_gamma\n",
    "                    ) + tf.einsum('ij,ji -> i', # this might not work for you depending on version of tflow\n",
    "                        (hidden6_mean-hidden2_mean) * (1 / (1e-10 + tf.exp(hidden6_gamma))),\n",
    "                        tf.transpose((hidden6_mean-hidden2_mean))))\n",
    "\n",
    "    indices = tf.range(tf.shape(y)[0])\n",
    "    indices = tf.concat([indices[:, tf.newaxis], y], axis=1)\n",
    "    eps = 1e-10\n",
    "    log_q_y_z1 = tf.reduce_sum(tf.log(eps + tf.gather_nd(hidden4_softmax_mean, indices)))\n",
    "\n",
    "    # Bernoulli log-likelihood\n",
    "    reconstruction_loss = -(tf.reduce_sum(X_full * tf.log(outputs)\n",
    "                            + (1 - X_full) * tf.log(1 - outputs)))\n",
    "    cost = kl_z2 + kl_z1 + reconstruction_loss + alpha * log_q_y_z1"
   ]
  },
  {
   "cell_type": "code",
   "execution_count": 76,
   "metadata": {
    "collapsed": true
   },
   "outputs": [],
   "source": [
    "optimizer = tf.train.AdamOptimizer(learning_rate=learning_rate)\n",
    "training_op = optimizer.minimize(cost)"
   ]
  },
  {
   "cell_type": "markdown",
   "metadata": {},
   "source": [
    "### Initialize Graph & Load Data"
   ]
  },
  {
   "cell_type": "code",
   "execution_count": 77,
   "metadata": {
    "collapsed": true
   },
   "outputs": [],
   "source": [
    "# instatianate\n",
    "data_reader = dataReader(X_scaler,y_train[:,np.newaxis]\n",
    ", batch_size=150)"
   ]
  },
  {
   "cell_type": "code",
   "execution_count": 78,
   "metadata": {
    "collapsed": true
   },
   "outputs": [],
   "source": [
    "init = tf.global_variables_initializer()"
   ]
  },
  {
   "cell_type": "code",
   "execution_count": 79,
   "metadata": {},
   "outputs": [
    {
     "name": "stdout",
     "output_type": "stream",
     "text": [
      "\r",
      "0%"
     ]
    },
    {
     "ename": "InvalidArgumentError",
     "evalue": "flat indices[146, :] = [146, -1] does not index into param (shape: [150,10]).\n\t [[Node: ELB/GatherNd = GatherNd[Tindices=DT_INT32, Tparams=DT_FLOAT, _device=\"/job:localhost/replica:0/task:0/cpu:0\"](Z1_encoder/fully_connected_1/Softmax, ELB/concat)]]\n\nCaused by op 'ELB/GatherNd', defined at:\n  File \"C:\\Users\\rivas\\Anaconda3\\lib\\runpy.py\", line 193, in _run_module_as_main\n    \"__main__\", mod_spec)\n  File \"C:\\Users\\rivas\\Anaconda3\\lib\\runpy.py\", line 85, in _run_code\n    exec(code, run_globals)\n  File \"C:\\Users\\rivas\\Anaconda3\\lib\\site-packages\\ipykernel_launcher.py\", line 16, in <module>\n    app.launch_new_instance()\n  File \"C:\\Users\\rivas\\Anaconda3\\lib\\site-packages\\traitlets\\config\\application.py\", line 658, in launch_instance\n    app.start()\n  File \"C:\\Users\\rivas\\Anaconda3\\lib\\site-packages\\ipykernel\\kernelapp.py\", line 477, in start\n    ioloop.IOLoop.instance().start()\n  File \"C:\\Users\\rivas\\Anaconda3\\lib\\site-packages\\zmq\\eventloop\\ioloop.py\", line 177, in start\n    super(ZMQIOLoop, self).start()\n  File \"C:\\Users\\rivas\\Anaconda3\\lib\\site-packages\\tornado\\ioloop.py\", line 888, in start\n    handler_func(fd_obj, events)\n  File \"C:\\Users\\rivas\\Anaconda3\\lib\\site-packages\\tornado\\stack_context.py\", line 277, in null_wrapper\n    return fn(*args, **kwargs)\n  File \"C:\\Users\\rivas\\Anaconda3\\lib\\site-packages\\zmq\\eventloop\\zmqstream.py\", line 440, in _handle_events\n    self._handle_recv()\n  File \"C:\\Users\\rivas\\Anaconda3\\lib\\site-packages\\zmq\\eventloop\\zmqstream.py\", line 472, in _handle_recv\n    self._run_callback(callback, msg)\n  File \"C:\\Users\\rivas\\Anaconda3\\lib\\site-packages\\zmq\\eventloop\\zmqstream.py\", line 414, in _run_callback\n    callback(*args, **kwargs)\n  File \"C:\\Users\\rivas\\Anaconda3\\lib\\site-packages\\tornado\\stack_context.py\", line 277, in null_wrapper\n    return fn(*args, **kwargs)\n  File \"C:\\Users\\rivas\\Anaconda3\\lib\\site-packages\\ipykernel\\kernelbase.py\", line 283, in dispatcher\n    return self.dispatch_shell(stream, msg)\n  File \"C:\\Users\\rivas\\Anaconda3\\lib\\site-packages\\ipykernel\\kernelbase.py\", line 235, in dispatch_shell\n    handler(stream, idents, msg)\n  File \"C:\\Users\\rivas\\Anaconda3\\lib\\site-packages\\ipykernel\\kernelbase.py\", line 399, in execute_request\n    user_expressions, allow_stdin)\n  File \"C:\\Users\\rivas\\Anaconda3\\lib\\site-packages\\ipykernel\\ipkernel.py\", line 196, in do_execute\n    res = shell.run_cell(code, store_history=store_history, silent=silent)\n  File \"C:\\Users\\rivas\\Anaconda3\\lib\\site-packages\\ipykernel\\zmqshell.py\", line 533, in run_cell\n    return super(ZMQInteractiveShell, self).run_cell(*args, **kwargs)\n  File \"C:\\Users\\rivas\\Anaconda3\\lib\\site-packages\\IPython\\core\\interactiveshell.py\", line 2698, in run_cell\n    interactivity=interactivity, compiler=compiler, result=result)\n  File \"C:\\Users\\rivas\\Anaconda3\\lib\\site-packages\\IPython\\core\\interactiveshell.py\", line 2802, in run_ast_nodes\n    if self.run_code(code, result):\n  File \"C:\\Users\\rivas\\Anaconda3\\lib\\site-packages\\IPython\\core\\interactiveshell.py\", line 2862, in run_code\n    exec(code_obj, self.user_global_ns, self.user_ns)\n  File \"<ipython-input-75-059e85a2f474>\", line 22, in <module>\n    log_q_y_z1 = tf.reduce_sum(tf.log(eps + tf.gather_nd(hidden4_softmax_mean, indices)))\n  File \"C:\\Users\\rivas\\Anaconda3\\lib\\site-packages\\tensorflow\\python\\ops\\gen_array_ops.py\", line 1288, in gather_nd\n    name=name)\n  File \"C:\\Users\\rivas\\Anaconda3\\lib\\site-packages\\tensorflow\\python\\framework\\op_def_library.py\", line 767, in apply_op\n    op_def=op_def)\n  File \"C:\\Users\\rivas\\Anaconda3\\lib\\site-packages\\tensorflow\\python\\framework\\ops.py\", line 2506, in create_op\n    original_op=self._default_original_op, op_def=op_def)\n  File \"C:\\Users\\rivas\\Anaconda3\\lib\\site-packages\\tensorflow\\python\\framework\\ops.py\", line 1269, in __init__\n    self._traceback = _extract_stack()\n\nInvalidArgumentError (see above for traceback): flat indices[146, :] = [146, -1] does not index into param (shape: [150,10]).\n\t [[Node: ELB/GatherNd = GatherNd[Tindices=DT_INT32, Tparams=DT_FLOAT, _device=\"/job:localhost/replica:0/task:0/cpu:0\"](Z1_encoder/fully_connected_1/Softmax, ELB/concat)]]\n",
     "output_type": "error",
     "traceback": [
      "\u001b[1;31m---------------------------------------------------------------------------\u001b[0m",
      "\u001b[1;31mInvalidArgumentError\u001b[0m                      Traceback (most recent call last)",
      "\u001b[1;32m~\\Anaconda3\\lib\\site-packages\\tensorflow\\python\\client\\session.py\u001b[0m in \u001b[0;36m_do_call\u001b[1;34m(self, fn, *args)\u001b[0m\n\u001b[0;32m   1138\u001b[0m     \u001b[1;32mtry\u001b[0m\u001b[1;33m:\u001b[0m\u001b[1;33m\u001b[0m\u001b[0m\n\u001b[1;32m-> 1139\u001b[1;33m       \u001b[1;32mreturn\u001b[0m \u001b[0mfn\u001b[0m\u001b[1;33m(\u001b[0m\u001b[1;33m*\u001b[0m\u001b[0margs\u001b[0m\u001b[1;33m)\u001b[0m\u001b[1;33m\u001b[0m\u001b[0m\n\u001b[0m\u001b[0;32m   1140\u001b[0m     \u001b[1;32mexcept\u001b[0m \u001b[0merrors\u001b[0m\u001b[1;33m.\u001b[0m\u001b[0mOpError\u001b[0m \u001b[1;32mas\u001b[0m \u001b[0me\u001b[0m\u001b[1;33m:\u001b[0m\u001b[1;33m\u001b[0m\u001b[0m\n",
      "\u001b[1;32m~\\Anaconda3\\lib\\site-packages\\tensorflow\\python\\client\\session.py\u001b[0m in \u001b[0;36m_run_fn\u001b[1;34m(session, feed_dict, fetch_list, target_list, options, run_metadata)\u001b[0m\n\u001b[0;32m   1120\u001b[0m                                  \u001b[0mfeed_dict\u001b[0m\u001b[1;33m,\u001b[0m \u001b[0mfetch_list\u001b[0m\u001b[1;33m,\u001b[0m \u001b[0mtarget_list\u001b[0m\u001b[1;33m,\u001b[0m\u001b[1;33m\u001b[0m\u001b[0m\n\u001b[1;32m-> 1121\u001b[1;33m                                  status, run_metadata)\n\u001b[0m\u001b[0;32m   1122\u001b[0m \u001b[1;33m\u001b[0m\u001b[0m\n",
      "\u001b[1;32m~\\Anaconda3\\lib\\contextlib.py\u001b[0m in \u001b[0;36m__exit__\u001b[1;34m(self, type, value, traceback)\u001b[0m\n\u001b[0;32m     87\u001b[0m             \u001b[1;32mtry\u001b[0m\u001b[1;33m:\u001b[0m\u001b[1;33m\u001b[0m\u001b[0m\n\u001b[1;32m---> 88\u001b[1;33m                 \u001b[0mnext\u001b[0m\u001b[1;33m(\u001b[0m\u001b[0mself\u001b[0m\u001b[1;33m.\u001b[0m\u001b[0mgen\u001b[0m\u001b[1;33m)\u001b[0m\u001b[1;33m\u001b[0m\u001b[0m\n\u001b[0m\u001b[0;32m     89\u001b[0m             \u001b[1;32mexcept\u001b[0m \u001b[0mStopIteration\u001b[0m\u001b[1;33m:\u001b[0m\u001b[1;33m\u001b[0m\u001b[0m\n",
      "\u001b[1;32m~\\Anaconda3\\lib\\site-packages\\tensorflow\\python\\framework\\errors_impl.py\u001b[0m in \u001b[0;36mraise_exception_on_not_ok_status\u001b[1;34m()\u001b[0m\n\u001b[0;32m    465\u001b[0m           \u001b[0mcompat\u001b[0m\u001b[1;33m.\u001b[0m\u001b[0mas_text\u001b[0m\u001b[1;33m(\u001b[0m\u001b[0mpywrap_tensorflow\u001b[0m\u001b[1;33m.\u001b[0m\u001b[0mTF_Message\u001b[0m\u001b[1;33m(\u001b[0m\u001b[0mstatus\u001b[0m\u001b[1;33m)\u001b[0m\u001b[1;33m)\u001b[0m\u001b[1;33m,\u001b[0m\u001b[1;33m\u001b[0m\u001b[0m\n\u001b[1;32m--> 466\u001b[1;33m           pywrap_tensorflow.TF_GetCode(status))\n\u001b[0m\u001b[0;32m    467\u001b[0m   \u001b[1;32mfinally\u001b[0m\u001b[1;33m:\u001b[0m\u001b[1;33m\u001b[0m\u001b[0m\n",
      "\u001b[1;31mInvalidArgumentError\u001b[0m: flat indices[146, :] = [146, -1] does not index into param (shape: [150,10]).\n\t [[Node: ELB/GatherNd = GatherNd[Tindices=DT_INT32, Tparams=DT_FLOAT, _device=\"/job:localhost/replica:0/task:0/cpu:0\"](Z1_encoder/fully_connected_1/Softmax, ELB/concat)]]",
      "\nDuring handling of the above exception, another exception occurred:\n",
      "\u001b[1;31mInvalidArgumentError\u001b[0m                      Traceback (most recent call last)",
      "\u001b[1;32m<ipython-input-79-1e39550d3d92>\u001b[0m in \u001b[0;36m<module>\u001b[1;34m()\u001b[0m\n\u001b[0;32m     18\u001b[0m                                     \u001b[1;31m#y: y_batch[:,np.newaxis],\u001b[0m\u001b[1;33m\u001b[0m\u001b[1;33m\u001b[0m\u001b[0m\n\u001b[0;32m     19\u001b[0m                                     \u001b[0my\u001b[0m\u001b[1;33m:\u001b[0m \u001b[0my_batch\u001b[0m\u001b[1;33m,\u001b[0m\u001b[1;33m\u001b[0m\u001b[0m\n\u001b[1;32m---> 20\u001b[1;33m                                     is_unlabelled: False})\n\u001b[0m\u001b[0;32m     21\u001b[0m         kl_z2_val, kl_z1_val, log_q_y_z1_val, reconstruction_loss_val, loss_val = sess.run([\n\u001b[0;32m     22\u001b[0m                 \u001b[0mkl_z2\u001b[0m\u001b[1;33m,\u001b[0m\u001b[1;33m\u001b[0m\u001b[0m\n",
      "\u001b[1;32m~\\Anaconda3\\lib\\site-packages\\tensorflow\\python\\client\\session.py\u001b[0m in \u001b[0;36mrun\u001b[1;34m(self, fetches, feed_dict, options, run_metadata)\u001b[0m\n\u001b[0;32m    787\u001b[0m     \u001b[1;32mtry\u001b[0m\u001b[1;33m:\u001b[0m\u001b[1;33m\u001b[0m\u001b[0m\n\u001b[0;32m    788\u001b[0m       result = self._run(None, fetches, feed_dict, options_ptr,\n\u001b[1;32m--> 789\u001b[1;33m                          run_metadata_ptr)\n\u001b[0m\u001b[0;32m    790\u001b[0m       \u001b[1;32mif\u001b[0m \u001b[0mrun_metadata\u001b[0m\u001b[1;33m:\u001b[0m\u001b[1;33m\u001b[0m\u001b[0m\n\u001b[0;32m    791\u001b[0m         \u001b[0mproto_data\u001b[0m \u001b[1;33m=\u001b[0m \u001b[0mtf_session\u001b[0m\u001b[1;33m.\u001b[0m\u001b[0mTF_GetBuffer\u001b[0m\u001b[1;33m(\u001b[0m\u001b[0mrun_metadata_ptr\u001b[0m\u001b[1;33m)\u001b[0m\u001b[1;33m\u001b[0m\u001b[0m\n",
      "\u001b[1;32m~\\Anaconda3\\lib\\site-packages\\tensorflow\\python\\client\\session.py\u001b[0m in \u001b[0;36m_run\u001b[1;34m(self, handle, fetches, feed_dict, options, run_metadata)\u001b[0m\n\u001b[0;32m    995\u001b[0m     \u001b[1;32mif\u001b[0m \u001b[0mfinal_fetches\u001b[0m \u001b[1;32mor\u001b[0m \u001b[0mfinal_targets\u001b[0m\u001b[1;33m:\u001b[0m\u001b[1;33m\u001b[0m\u001b[0m\n\u001b[0;32m    996\u001b[0m       results = self._do_run(handle, final_targets, final_fetches,\n\u001b[1;32m--> 997\u001b[1;33m                              feed_dict_string, options, run_metadata)\n\u001b[0m\u001b[0;32m    998\u001b[0m     \u001b[1;32melse\u001b[0m\u001b[1;33m:\u001b[0m\u001b[1;33m\u001b[0m\u001b[0m\n\u001b[0;32m    999\u001b[0m       \u001b[0mresults\u001b[0m \u001b[1;33m=\u001b[0m \u001b[1;33m[\u001b[0m\u001b[1;33m]\u001b[0m\u001b[1;33m\u001b[0m\u001b[0m\n",
      "\u001b[1;32m~\\Anaconda3\\lib\\site-packages\\tensorflow\\python\\client\\session.py\u001b[0m in \u001b[0;36m_do_run\u001b[1;34m(self, handle, target_list, fetch_list, feed_dict, options, run_metadata)\u001b[0m\n\u001b[0;32m   1130\u001b[0m     \u001b[1;32mif\u001b[0m \u001b[0mhandle\u001b[0m \u001b[1;32mis\u001b[0m \u001b[1;32mNone\u001b[0m\u001b[1;33m:\u001b[0m\u001b[1;33m\u001b[0m\u001b[0m\n\u001b[0;32m   1131\u001b[0m       return self._do_call(_run_fn, self._session, feed_dict, fetch_list,\n\u001b[1;32m-> 1132\u001b[1;33m                            target_list, options, run_metadata)\n\u001b[0m\u001b[0;32m   1133\u001b[0m     \u001b[1;32melse\u001b[0m\u001b[1;33m:\u001b[0m\u001b[1;33m\u001b[0m\u001b[0m\n\u001b[0;32m   1134\u001b[0m       return self._do_call(_prun_fn, self._session, handle, feed_dict,\n",
      "\u001b[1;32m~\\Anaconda3\\lib\\site-packages\\tensorflow\\python\\client\\session.py\u001b[0m in \u001b[0;36m_do_call\u001b[1;34m(self, fn, *args)\u001b[0m\n\u001b[0;32m   1150\u001b[0m         \u001b[1;32mexcept\u001b[0m \u001b[0mKeyError\u001b[0m\u001b[1;33m:\u001b[0m\u001b[1;33m\u001b[0m\u001b[0m\n\u001b[0;32m   1151\u001b[0m           \u001b[1;32mpass\u001b[0m\u001b[1;33m\u001b[0m\u001b[0m\n\u001b[1;32m-> 1152\u001b[1;33m       \u001b[1;32mraise\u001b[0m \u001b[0mtype\u001b[0m\u001b[1;33m(\u001b[0m\u001b[0me\u001b[0m\u001b[1;33m)\u001b[0m\u001b[1;33m(\u001b[0m\u001b[0mnode_def\u001b[0m\u001b[1;33m,\u001b[0m \u001b[0mop\u001b[0m\u001b[1;33m,\u001b[0m \u001b[0mmessage\u001b[0m\u001b[1;33m)\u001b[0m\u001b[1;33m\u001b[0m\u001b[0m\n\u001b[0m\u001b[0;32m   1153\u001b[0m \u001b[1;33m\u001b[0m\u001b[0m\n\u001b[0;32m   1154\u001b[0m   \u001b[1;32mdef\u001b[0m \u001b[0m_extend_graph\u001b[0m\u001b[1;33m(\u001b[0m\u001b[0mself\u001b[0m\u001b[1;33m)\u001b[0m\u001b[1;33m:\u001b[0m\u001b[1;33m\u001b[0m\u001b[0m\n",
      "\u001b[1;31mInvalidArgumentError\u001b[0m: flat indices[146, :] = [146, -1] does not index into param (shape: [150,10]).\n\t [[Node: ELB/GatherNd = GatherNd[Tindices=DT_INT32, Tparams=DT_FLOAT, _device=\"/job:localhost/replica:0/task:0/cpu:0\"](Z1_encoder/fully_connected_1/Softmax, ELB/concat)]]\n\nCaused by op 'ELB/GatherNd', defined at:\n  File \"C:\\Users\\rivas\\Anaconda3\\lib\\runpy.py\", line 193, in _run_module_as_main\n    \"__main__\", mod_spec)\n  File \"C:\\Users\\rivas\\Anaconda3\\lib\\runpy.py\", line 85, in _run_code\n    exec(code, run_globals)\n  File \"C:\\Users\\rivas\\Anaconda3\\lib\\site-packages\\ipykernel_launcher.py\", line 16, in <module>\n    app.launch_new_instance()\n  File \"C:\\Users\\rivas\\Anaconda3\\lib\\site-packages\\traitlets\\config\\application.py\", line 658, in launch_instance\n    app.start()\n  File \"C:\\Users\\rivas\\Anaconda3\\lib\\site-packages\\ipykernel\\kernelapp.py\", line 477, in start\n    ioloop.IOLoop.instance().start()\n  File \"C:\\Users\\rivas\\Anaconda3\\lib\\site-packages\\zmq\\eventloop\\ioloop.py\", line 177, in start\n    super(ZMQIOLoop, self).start()\n  File \"C:\\Users\\rivas\\Anaconda3\\lib\\site-packages\\tornado\\ioloop.py\", line 888, in start\n    handler_func(fd_obj, events)\n  File \"C:\\Users\\rivas\\Anaconda3\\lib\\site-packages\\tornado\\stack_context.py\", line 277, in null_wrapper\n    return fn(*args, **kwargs)\n  File \"C:\\Users\\rivas\\Anaconda3\\lib\\site-packages\\zmq\\eventloop\\zmqstream.py\", line 440, in _handle_events\n    self._handle_recv()\n  File \"C:\\Users\\rivas\\Anaconda3\\lib\\site-packages\\zmq\\eventloop\\zmqstream.py\", line 472, in _handle_recv\n    self._run_callback(callback, msg)\n  File \"C:\\Users\\rivas\\Anaconda3\\lib\\site-packages\\zmq\\eventloop\\zmqstream.py\", line 414, in _run_callback\n    callback(*args, **kwargs)\n  File \"C:\\Users\\rivas\\Anaconda3\\lib\\site-packages\\tornado\\stack_context.py\", line 277, in null_wrapper\n    return fn(*args, **kwargs)\n  File \"C:\\Users\\rivas\\Anaconda3\\lib\\site-packages\\ipykernel\\kernelbase.py\", line 283, in dispatcher\n    return self.dispatch_shell(stream, msg)\n  File \"C:\\Users\\rivas\\Anaconda3\\lib\\site-packages\\ipykernel\\kernelbase.py\", line 235, in dispatch_shell\n    handler(stream, idents, msg)\n  File \"C:\\Users\\rivas\\Anaconda3\\lib\\site-packages\\ipykernel\\kernelbase.py\", line 399, in execute_request\n    user_expressions, allow_stdin)\n  File \"C:\\Users\\rivas\\Anaconda3\\lib\\site-packages\\ipykernel\\ipkernel.py\", line 196, in do_execute\n    res = shell.run_cell(code, store_history=store_history, silent=silent)\n  File \"C:\\Users\\rivas\\Anaconda3\\lib\\site-packages\\ipykernel\\zmqshell.py\", line 533, in run_cell\n    return super(ZMQInteractiveShell, self).run_cell(*args, **kwargs)\n  File \"C:\\Users\\rivas\\Anaconda3\\lib\\site-packages\\IPython\\core\\interactiveshell.py\", line 2698, in run_cell\n    interactivity=interactivity, compiler=compiler, result=result)\n  File \"C:\\Users\\rivas\\Anaconda3\\lib\\site-packages\\IPython\\core\\interactiveshell.py\", line 2802, in run_ast_nodes\n    if self.run_code(code, result):\n  File \"C:\\Users\\rivas\\Anaconda3\\lib\\site-packages\\IPython\\core\\interactiveshell.py\", line 2862, in run_code\n    exec(code_obj, self.user_global_ns, self.user_ns)\n  File \"<ipython-input-75-059e85a2f474>\", line 22, in <module>\n    log_q_y_z1 = tf.reduce_sum(tf.log(eps + tf.gather_nd(hidden4_softmax_mean, indices)))\n  File \"C:\\Users\\rivas\\Anaconda3\\lib\\site-packages\\tensorflow\\python\\ops\\gen_array_ops.py\", line 1288, in gather_nd\n    name=name)\n  File \"C:\\Users\\rivas\\Anaconda3\\lib\\site-packages\\tensorflow\\python\\framework\\op_def_library.py\", line 767, in apply_op\n    op_def=op_def)\n  File \"C:\\Users\\rivas\\Anaconda3\\lib\\site-packages\\tensorflow\\python\\framework\\ops.py\", line 2506, in create_op\n    original_op=self._default_original_op, op_def=op_def)\n  File \"C:\\Users\\rivas\\Anaconda3\\lib\\site-packages\\tensorflow\\python\\framework\\ops.py\", line 1269, in __init__\n    self._traceback = _extract_stack()\n\nInvalidArgumentError (see above for traceback): flat indices[146, :] = [146, -1] does not index into param (shape: [150,10]).\n\t [[Node: ELB/GatherNd = GatherNd[Tindices=DT_INT32, Tparams=DT_FLOAT, _device=\"/job:localhost/replica:0/task:0/cpu:0\"](Z1_encoder/fully_connected_1/Softmax, ELB/concat)]]\n"
     ]
    }
   ],
   "source": [
    "# Training\n",
    "n_epochs = 50\n",
    "batch_size = 100\n",
    "n_digits = 60\n",
    "\n",
    "with tf.Session() as sess:\n",
    "    init.run()\n",
    "    for epoch in range(n_epochs):\n",
    "        # n_batches = mnist.train.num_examples // batch_size\n",
    "        n_batches = data_reader.num_batches\n",
    "        for iteration in range(n_batches):\n",
    "            print(\"\\r{}%\".format(100 * iteration // n_batches), end=\"\")\n",
    "            X_batch, y_batch = data_reader.next_batch()\n",
    "            # X_batch, y_batch = mnist.train.next_batch(batch_size)\n",
    "            sess.run(training_op, feed_dict={X: X_batch[:,:-n_s],\n",
    "                                    s: X_batch[:,-n_s:],\n",
    "                                    #you replace y_batch[:,np.newaxis] with just y_batch          \n",
    "                                    #y: y_batch[:,np.newaxis],        \n",
    "                                    y: y_batch,\n",
    "                                    is_unlabelled: False})\n",
    "        kl_z2_val, kl_z1_val, log_q_y_z1_val, reconstruction_loss_val, loss_val = sess.run([\n",
    "                kl_z2,\n",
    "                kl_z1,\n",
    "                log_q_y_z1,\n",
    "                reconstruction_loss,\n",
    "                cost],\n",
    "                feed_dict={X: X_batch[:,:-n_s],\n",
    "                        s: X_batch[:,-n_s:],\n",
    "                        #you replace y_batch[:,np.newaxis] with just y_batch \n",
    "                        #y: y_batch[:,np.newaxis]\n",
    "                        y: y_batch})\n",
    "        print(\"\\r{}\".format(epoch), \"Train total loss:\", loss_val,\n",
    "         \"\\tReconstruction loss:\", reconstruction_loss_val,\n",
    "          \"\\tKL-z1:\", kl_z1_val,\n",
    "          \"\\tKL-z2:\", kl_z2_val,\n",
    "          \"\\tlog_q(y|z1):\", log_q_y_z1_val)"
   ]
  }
 ],
 "metadata": {
  "kernelspec": {
   "display_name": "Python 3",
   "language": "python",
   "name": "python3"
  },
  "language_info": {
   "codemirror_mode": {
    "name": "ipython",
    "version": 3
   },
   "file_extension": ".py",
   "mimetype": "text/x-python",
   "name": "python",
   "nbconvert_exporter": "python",
   "pygments_lexer": "ipython3",
   "version": "3.6.3"
  }
 },
 "nbformat": 4,
 "nbformat_minor": 2
}
