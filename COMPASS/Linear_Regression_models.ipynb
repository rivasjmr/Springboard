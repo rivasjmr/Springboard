{
 "cells": [
  {
   "cell_type": "code",
   "execution_count": 1,
   "metadata": {},
   "outputs": [
    {
     "data": {
      "text/plain": [
       "(60843, 28)"
      ]
     },
     "execution_count": 1,
     "metadata": {},
     "output_type": "execute_result"
    }
   ],
   "source": [
    "# loading libraries\n",
    "import pandas as pd\n",
    "import numpy as np\n",
    "import matplotlib.pyplot as plt\n",
    "\n",
    "# load dataset\n",
    "path = 'C:\\\\Users\\\\rivas\\\\OneDrive\\\\Documents\\\\JMR\\\\Education\\\\Springboard\\\\Projects\\\\Capstone2\\\\'\n",
    "int_fnm = path + 'data\\\\compass\\\\compas-scores-raw.csv'\n",
    "df = pd.read_csv(int_fnm)\n",
    "\n",
    "# initial EDA\n",
    "df.shape"
   ]
  },
  {
   "cell_type": "code",
   "execution_count": 2,
   "metadata": {},
   "outputs": [
    {
     "name": "stdout",
     "output_type": "stream",
     "text": [
      "['Caucasian' 'African-American' 'Hispanic' 'Other' 'Asian' 'African-Am'\n",
      " 'Native American' 'Oriental' 'Arabic']\n",
      "African-American    27069\n",
      "Caucasian           21783\n",
      "Hispanic             8742\n",
      "Other                2592\n",
      "Asian                 324\n",
      "Native American       219\n",
      "Arabic                 75\n",
      "Oriental               39\n",
      "Name: Ethnic_Code_Text, dtype: int64\n"
     ]
    }
   ],
   "source": [
    "# Data Cleanup\n",
    "\n",
    "#  update 'Ethnic_Code_Text' to have conistent values for African Americans\n",
    "print(df.Ethnic_Code_Text.unique())\n",
    "df.loc[df['Ethnic_Code_Text'] == 'African-Am', 'Ethnic_Code_Text'] = 'African-American'\n",
    "print(pd.value_counts(df['Ethnic_Code_Text']))"
   ]
  },
  {
   "cell_type": "code",
   "execution_count": 3,
   "metadata": {},
   "outputs": [
    {
     "name": "stdout",
     "output_type": "stream",
     "text": [
      "45\n",
      "1     18465\n",
      "2      9192\n",
      "3      8492\n",
      "4      5338\n",
      "5      4831\n",
      "6      4319\n",
      "7      3338\n",
      "8      2799\n",
      "9      2386\n",
      "10     1638\n",
      "Name: DecileScore, dtype: int64\n"
     ]
    }
   ],
   "source": [
    "# DecileScore should be between 1 & 10, delete otherwise\n",
    "df.DecileScore.unique()\n",
    "print((df['DecileScore'] < 1).sum())\n",
    "# remove DecileScore < 1\n",
    "df = df[df.DecileScore >= 1]\n",
    "(df['DecileScore'] < 1).sum()\n",
    "print(pd.value_counts(df['DecileScore']))"
   ]
  },
  {
   "cell_type": "code",
   "execution_count": 4,
   "metadata": {},
   "outputs": [
    {
     "name": "stdout",
     "output_type": "stream",
     "text": [
      "Appear: (20281, 28)  Violence:  (20272, 28)  Recidivism: (20245, 28)\n"
     ]
    }
   ],
   "source": [
    "# Slice by 'DisplayText' for Risk\n",
    "RiskAppear = df.loc[df['DisplayText'] == 'Risk of Failure to Appear']\n",
    "RiskViolence = df.loc[df['DisplayText'] == 'Risk of Violence']\n",
    "RiskRecidivism = df.loc[df['DisplayText'] == 'Risk of Recidivism']\n",
    "print('Appear:', RiskAppear.shape, ' Violence: ', RiskViolence.shape,  ' Recidivism:',RiskRecidivism.shape)"
   ]
  },
  {
   "cell_type": "code",
   "execution_count": 5,
   "metadata": {
    "collapsed": true
   },
   "outputs": [],
   "source": [
    "####################################################################################\n",
    "# Define prepare_data_for_regression_model:\n",
    "def prepare_data_for_regression_model(dfx, target_loc):\n",
    "\n",
    "    # Create new DataFrame of selected columns\n",
    "    \"\"\"\n",
    "    Columns\n",
    "    0 - 4  : 'Person_ID','AssessmentID','Case_ID','Agency_Text', 'LastName',\n",
    "    5 - 9  : 'FirstName', 'MiddleName', 'Sex_Code_Text', 'Ethnic_Code_Text','DateOfBirth',\n",
    "    10 - 14: 'ScaleSet_ID', 'ScaleSet', 'AssessmentReason','Language', 'LegalStatus',\n",
    "    15 - 19: 'CustodyStatus', 'MaritalStatus','Screening_Date', 'RecSupervisionLevel', 'RecSupervisionLevelText',\n",
    "    20 - 24: 'Scale_ID', 'DisplayText', 'RawScore', 'DecileScore', 'ScoreText',\n",
    "    25 - 27: 'AssessmentType', 'IsCompleted', 'IsDeleted'\n",
    "    \"\"\"\n",
    "\n",
    "    # slice for subset data features and targets\n",
    "    df_new = dfx.iloc[:, [0,1,2,3,4,5,7,8,9,11,12,13,14,15,16,17,19]] #features\n",
    "    y = dfx.iloc[:,target_loc] #target\n",
    "\n",
    "    #  One-Hot encoder. It encodes the data into binary format\n",
    "    le = preprocessing.LabelEncoder()\n",
    "    Agency_Text_cat = le.fit_transform(df_new.Agency_Text)\n",
    "    LastName_cat = le.fit_transform(df_new.LastName)\n",
    "    FirstName_cat = le.fit_transform(df_new.FirstName)\n",
    "    Sex_Code_Text_cat = le.fit_transform(df_new.Sex_Code_Text)\n",
    "    Ethnic_Code_Text_cat = le.fit_transform(df_new.Ethnic_Code_Text)\n",
    "    DateOfBirth_cat = le.fit_transform(df_new.DateOfBirth)\n",
    "    ScaleSet_cat = le.fit_transform(df_new.ScaleSet)\n",
    "    AssessmentReason_cat = le.fit_transform(df_new.AssessmentReason)\n",
    "    Language_cat = le.fit_transform(df_new.Language)\n",
    "    LegalStatus_cat = le.fit_transform(df_new.LegalStatus)\n",
    "    CustodyStatus_cat = le.fit_transform(df_new.CustodyStatus)\n",
    "    MaritalStatus_cat = le.fit_transform(df_new.MaritalStatus)\n",
    "    Screening_Date_cat = le.fit_transform(df_new.Screening_Date)\n",
    "    RecSupervisionLevelText_cat = le.fit_transform(df_new.RecSupervisionLevelText) \n",
    "\n",
    "    X_rev = df_new\n",
    "    X_rev['Agency_Text_cat'] = Agency_Text_cat\n",
    "    X_rev['LastName_cat'] = LastName_cat\n",
    "    X_rev['FirstName_cat'] = FirstName_cat\n",
    "    X_rev['Sex_Code_Text_cat'] = Sex_Code_Text_cat\n",
    "    X_rev['Ethnic_Code_Text_cat'] = Ethnic_Code_Text_cat\n",
    "    X_rev['DateOfBirth_cat'] = DateOfBirth_cat\n",
    "    X_rev['ScaleSet_cat'] = ScaleSet_cat\n",
    "    X_rev['AssessmentReason_cat'] = AssessmentReason_cat\n",
    "    X_rev['Language_cat'] = Language_cat\n",
    "    X_rev['LegalStatus_cat'] = LegalStatus_cat\n",
    "    X_rev['CustodyStatus_cat'] = CustodyStatus_cat\n",
    "    X_rev['MaritalStatus_cat'] = MaritalStatus_cat\n",
    "    X_rev['Screening_Date_cat'] = Screening_Date_cat\n",
    "    X_rev['RecSupervisionLevelText_cat'] = RecSupervisionLevelText_cat\n",
    "\n",
    "\n",
    "    #drop the old categorical columns from dataframe\n",
    "    dummy_fields = ['Agency_Text', 'LastName', 'FirstName', 'Sex_Code_Text',\n",
    "                  'Ethnic_Code_Text', 'DateOfBirth', 'ScaleSet',\n",
    "                  'AssessmentReason', 'Language', 'LegalStatus', 'CustodyStatus',\n",
    "                  'MaritalStatus', 'Screening_Date', 'RecSupervisionLevelText' ]\n",
    "    X_rev = X_rev.drop(dummy_fields, axis = 1)\n",
    "    X_rev.columns\n",
    "\n",
    "    # Standardizing\n",
    "    X_std = StandardScaler().fit_transform(X_rev)\n",
    "\n",
    "\n",
    "    # Split data train and test, first import library\n",
    "    X_train, X_test, y_train, y_test = train_test_split(X_std, y, test_size=0.2)\n",
    "    print('Length for X_train:', len(X_train), ' X_test:',len(X_test), ' y_train:',len(y_train) ,' y_test:',len(y_test))\n",
    "\n",
    "    return X_train, X_test, y_train, y_test\n",
    "\n"
   ]
  },
  {
   "cell_type": "code",
   "execution_count": 6,
   "metadata": {
    "collapsed": true
   },
   "outputs": [],
   "source": [
    "######\n",
    "# Define linear_regression_model:\n",
    "def linear_regression_model(dfx,dfnm, X_train, X_test, y_train, y_test, target):\n",
    "    print('Running linear regression model for :', dfnm, ' using target: ', target)\n",
    "\n",
    "    lm = LinearRegression()\n",
    "    lm.fit(X_train, y_train)\n",
    "    y_lm_pred = lm.predict(X_test)\n",
    "\n",
    "    #Evaluate\n",
    "    print('lm.score: ',lm.score(X_test, y_test))\n",
    "    print(' ')\n",
    "    print('first 10 predicted values: ',y_lm_pred[0:10])\n",
    "    print('first 10 values of target: ')\n",
    "    print(y_train.head(10))\n",
    "    print(' ')\n",
    "\n",
    "    print('mean of predicted of values: ',np.mean(y_lm_pred), ' STD of predicted of values : ', np.std(y_lm_pred) )\n",
    "    print('describe of target')\n",
    "    print(y_train.describe())"
   ]
  },
  {
   "cell_type": "code",
   "execution_count": 7,
   "metadata": {
    "collapsed": true
   },
   "outputs": [],
   "source": [
    "# LinearRegression\n",
    "\n",
    "# Import libraries\n",
    "\n",
    "# For preprocessing the data\n",
    "from sklearn.preprocessing import Imputer\n",
    "from sklearn import preprocessing\n",
    "# Standardizing\n",
    "from sklearn.preprocessing import StandardScaler\n",
    "# To split the dataset into train and test datasets\n",
    "from sklearn.model_selection import train_test_split\n",
    "# To calculate the accuracy score of the model\n",
    "from sklearn.metrics import classification_report, confusion_matrix, accuracy_score\n",
    "# Linear Regression\n",
    "from sklearn.linear_model import LinearRegression"
   ]
  },
  {
   "cell_type": "markdown",
   "metadata": {},
   "source": [
    "\"\"\"\n",
    "Columns\n",
    "0 - 4  : 'Person_ID','AssessmentID','Case_ID','Agency_Text', 'LastName',\n",
    "5 - 9  : 'FirstName', 'MiddleName', 'Sex_Code_Text', 'Ethnic_Code_Text','DateOfBirth',\n",
    "10 - 14: 'ScaleSet_ID', 'ScaleSet', 'AssessmentReason','Language', 'LegalStatus',\n",
    "15 - 19: 'CustodyStatus', 'MaritalStatus','Screening_Date', 'RecSupervisionLevel', 'RecSupervisionLevelText',\n",
    "20 - 24: 'Scale_ID', 'DisplayText', 'RawScore', 'DecileScore', 'ScoreText',\n",
    "25 - 27: 'AssessmentType', 'IsCompleted', 'IsDeleted'\n",
    "RiskAppear = df.loc[df['DisplayText'] == 'Risk of Failure to Appear']\n",
    "RiskViolence = df.loc[df['DisplayText'] == 'Risk of Violence']\n",
    "RiskRecidivism = df.loc[df['DisplayText'] == 'Risk of Recidivism']\n",
    "\"\"\""
   ]
  },
  {
   "cell_type": "code",
   "execution_count": 9,
   "metadata": {},
   "outputs": [
    {
     "name": "stderr",
     "output_type": "stream",
     "text": [
      "C:\\Users\\rivas\\Anaconda3\\lib\\site-packages\\ipykernel_launcher.py:38: SettingWithCopyWarning: \n",
      "A value is trying to be set on a copy of a slice from a DataFrame.\n",
      "Try using .loc[row_indexer,col_indexer] = value instead\n",
      "\n",
      "See the caveats in the documentation: http://pandas.pydata.org/pandas-docs/stable/indexing.html#indexing-view-versus-copy\n",
      "C:\\Users\\rivas\\Anaconda3\\lib\\site-packages\\ipykernel_launcher.py:39: SettingWithCopyWarning: \n",
      "A value is trying to be set on a copy of a slice from a DataFrame.\n",
      "Try using .loc[row_indexer,col_indexer] = value instead\n",
      "\n",
      "See the caveats in the documentation: http://pandas.pydata.org/pandas-docs/stable/indexing.html#indexing-view-versus-copy\n",
      "C:\\Users\\rivas\\Anaconda3\\lib\\site-packages\\ipykernel_launcher.py:40: SettingWithCopyWarning: \n",
      "A value is trying to be set on a copy of a slice from a DataFrame.\n",
      "Try using .loc[row_indexer,col_indexer] = value instead\n",
      "\n",
      "See the caveats in the documentation: http://pandas.pydata.org/pandas-docs/stable/indexing.html#indexing-view-versus-copy\n",
      "C:\\Users\\rivas\\Anaconda3\\lib\\site-packages\\ipykernel_launcher.py:41: SettingWithCopyWarning: \n",
      "A value is trying to be set on a copy of a slice from a DataFrame.\n",
      "Try using .loc[row_indexer,col_indexer] = value instead\n",
      "\n",
      "See the caveats in the documentation: http://pandas.pydata.org/pandas-docs/stable/indexing.html#indexing-view-versus-copy\n",
      "C:\\Users\\rivas\\Anaconda3\\lib\\site-packages\\ipykernel_launcher.py:42: SettingWithCopyWarning: \n",
      "A value is trying to be set on a copy of a slice from a DataFrame.\n",
      "Try using .loc[row_indexer,col_indexer] = value instead\n",
      "\n",
      "See the caveats in the documentation: http://pandas.pydata.org/pandas-docs/stable/indexing.html#indexing-view-versus-copy\n",
      "C:\\Users\\rivas\\Anaconda3\\lib\\site-packages\\ipykernel_launcher.py:43: SettingWithCopyWarning: \n",
      "A value is trying to be set on a copy of a slice from a DataFrame.\n",
      "Try using .loc[row_indexer,col_indexer] = value instead\n",
      "\n",
      "See the caveats in the documentation: http://pandas.pydata.org/pandas-docs/stable/indexing.html#indexing-view-versus-copy\n",
      "C:\\Users\\rivas\\Anaconda3\\lib\\site-packages\\ipykernel_launcher.py:44: SettingWithCopyWarning: \n",
      "A value is trying to be set on a copy of a slice from a DataFrame.\n",
      "Try using .loc[row_indexer,col_indexer] = value instead\n",
      "\n",
      "See the caveats in the documentation: http://pandas.pydata.org/pandas-docs/stable/indexing.html#indexing-view-versus-copy\n",
      "C:\\Users\\rivas\\Anaconda3\\lib\\site-packages\\ipykernel_launcher.py:45: SettingWithCopyWarning: \n",
      "A value is trying to be set on a copy of a slice from a DataFrame.\n",
      "Try using .loc[row_indexer,col_indexer] = value instead\n",
      "\n",
      "See the caveats in the documentation: http://pandas.pydata.org/pandas-docs/stable/indexing.html#indexing-view-versus-copy\n"
     ]
    },
    {
     "name": "stdout",
     "output_type": "stream",
     "text": [
      "Length for X_train: 16224  X_test: 4057  y_train: 16224  y_test: 4057\n",
      "Running linear regression model for : RiskAppear  using target:  RawScore\n",
      "lm.score:  0.12033069087084336\n",
      " \n",
      "first 10 predicted values:  [18.30440886 18.25648485 18.27028714 18.19986398 16.93111757 20.28808422\n",
      " 17.49305886 17.13248453 15.85898209 16.67252579]\n",
      "first 10 values of target: \n",
      "2495     26.0\n",
      "31166    15.0\n",
      "7559     19.0\n",
      "34085    16.0\n",
      "20258    21.0\n",
      "8954     20.0\n",
      "5492     16.0\n",
      "16505    11.0\n",
      "53897    22.0\n",
      "17075    24.0\n",
      "Name: RawScore, dtype: float64\n",
      " \n",
      "mean of predicted of values:  18.516545005653402  STD of predicted of values :  1.8552913898739534\n",
      "describe of target\n",
      "count    16224.000000\n",
      "mean        18.528353\n",
      "std          5.487013\n",
      "min         11.000000\n",
      "25%         14.000000\n",
      "50%         17.000000\n",
      "75%         22.000000\n",
      "max         51.000000\n",
      "Name: RawScore, dtype: float64\n"
     ]
    },
    {
     "name": "stderr",
     "output_type": "stream",
     "text": [
      "C:\\Users\\rivas\\Anaconda3\\lib\\site-packages\\ipykernel_launcher.py:46: SettingWithCopyWarning: \n",
      "A value is trying to be set on a copy of a slice from a DataFrame.\n",
      "Try using .loc[row_indexer,col_indexer] = value instead\n",
      "\n",
      "See the caveats in the documentation: http://pandas.pydata.org/pandas-docs/stable/indexing.html#indexing-view-versus-copy\n",
      "C:\\Users\\rivas\\Anaconda3\\lib\\site-packages\\ipykernel_launcher.py:47: SettingWithCopyWarning: \n",
      "A value is trying to be set on a copy of a slice from a DataFrame.\n",
      "Try using .loc[row_indexer,col_indexer] = value instead\n",
      "\n",
      "See the caveats in the documentation: http://pandas.pydata.org/pandas-docs/stable/indexing.html#indexing-view-versus-copy\n"
     ]
    }
   ],
   "source": [
    "# RiskAppear\n",
    "X_train, X_test, y_train, y_test = prepare_data_for_regression_model(RiskAppear, 22)\n",
    "linear_regression_model(RiskAppear,'RiskAppear', X_train, X_test, y_train, y_test, 'RawScore')"
   ]
  },
  {
   "cell_type": "code",
   "execution_count": null,
   "metadata": {
    "collapsed": true
   },
   "outputs": [],
   "source": []
  },
  {
   "cell_type": "code",
   "execution_count": 10,
   "metadata": {},
   "outputs": [
    {
     "name": "stderr",
     "output_type": "stream",
     "text": [
      "C:\\Users\\rivas\\Anaconda3\\lib\\site-packages\\ipykernel_launcher.py:38: SettingWithCopyWarning: \n",
      "A value is trying to be set on a copy of a slice from a DataFrame.\n",
      "Try using .loc[row_indexer,col_indexer] = value instead\n",
      "\n",
      "See the caveats in the documentation: http://pandas.pydata.org/pandas-docs/stable/indexing.html#indexing-view-versus-copy\n",
      "C:\\Users\\rivas\\Anaconda3\\lib\\site-packages\\ipykernel_launcher.py:39: SettingWithCopyWarning: \n",
      "A value is trying to be set on a copy of a slice from a DataFrame.\n",
      "Try using .loc[row_indexer,col_indexer] = value instead\n",
      "\n",
      "See the caveats in the documentation: http://pandas.pydata.org/pandas-docs/stable/indexing.html#indexing-view-versus-copy\n",
      "C:\\Users\\rivas\\Anaconda3\\lib\\site-packages\\ipykernel_launcher.py:40: SettingWithCopyWarning: \n",
      "A value is trying to be set on a copy of a slice from a DataFrame.\n",
      "Try using .loc[row_indexer,col_indexer] = value instead\n",
      "\n",
      "See the caveats in the documentation: http://pandas.pydata.org/pandas-docs/stable/indexing.html#indexing-view-versus-copy\n",
      "C:\\Users\\rivas\\Anaconda3\\lib\\site-packages\\ipykernel_launcher.py:41: SettingWithCopyWarning: \n",
      "A value is trying to be set on a copy of a slice from a DataFrame.\n",
      "Try using .loc[row_indexer,col_indexer] = value instead\n",
      "\n",
      "See the caveats in the documentation: http://pandas.pydata.org/pandas-docs/stable/indexing.html#indexing-view-versus-copy\n",
      "C:\\Users\\rivas\\Anaconda3\\lib\\site-packages\\ipykernel_launcher.py:42: SettingWithCopyWarning: \n",
      "A value is trying to be set on a copy of a slice from a DataFrame.\n",
      "Try using .loc[row_indexer,col_indexer] = value instead\n",
      "\n",
      "See the caveats in the documentation: http://pandas.pydata.org/pandas-docs/stable/indexing.html#indexing-view-versus-copy\n",
      "C:\\Users\\rivas\\Anaconda3\\lib\\site-packages\\ipykernel_launcher.py:43: SettingWithCopyWarning: \n",
      "A value is trying to be set on a copy of a slice from a DataFrame.\n",
      "Try using .loc[row_indexer,col_indexer] = value instead\n",
      "\n",
      "See the caveats in the documentation: http://pandas.pydata.org/pandas-docs/stable/indexing.html#indexing-view-versus-copy\n",
      "C:\\Users\\rivas\\Anaconda3\\lib\\site-packages\\ipykernel_launcher.py:44: SettingWithCopyWarning: \n",
      "A value is trying to be set on a copy of a slice from a DataFrame.\n",
      "Try using .loc[row_indexer,col_indexer] = value instead\n",
      "\n",
      "See the caveats in the documentation: http://pandas.pydata.org/pandas-docs/stable/indexing.html#indexing-view-versus-copy\n"
     ]
    },
    {
     "name": "stdout",
     "output_type": "stream",
     "text": [
      "Length for X_train: 16217  X_test: 4055  y_train: 16217  y_test: 4055\n",
      "Running linear regression model for : RiskViolence  using target:  RawScore\n",
      "lm.score:  0.3035364737217241\n",
      " \n",
      "first 10 predicted values:  [-3.46316964 -1.78287782 -3.22033745 -3.41497973 -2.09105337 -2.0784668\n",
      " -2.20659107 -2.24494573 -1.26379528 -2.2948914 ]\n",
      "first 10 values of target: \n",
      "52908   -2.57\n",
      "38394   -2.56\n",
      "39333   -3.00\n",
      "57720   -1.92\n",
      "51081   -3.60\n",
      "34728   -1.60\n",
      "28578   -2.37\n",
      "37473   -1.98\n",
      "15987   -3.26\n",
      "56688   -4.16\n",
      "Name: RawScore, dtype: float64\n",
      " \n",
      "mean of predicted of values:  -2.529075696862802  STD of predicted of values :  0.49774427274333577\n",
      "describe of target\n",
      "count    16217.000000\n",
      "mean        -2.521001\n",
      "std          0.890216\n",
      "min         -4.790000\n",
      "25%         -3.180000\n",
      "50%         -2.530000\n",
      "75%         -1.890000\n",
      "max          1.520000\n",
      "Name: RawScore, dtype: float64\n"
     ]
    },
    {
     "name": "stderr",
     "output_type": "stream",
     "text": [
      "C:\\Users\\rivas\\Anaconda3\\lib\\site-packages\\ipykernel_launcher.py:45: SettingWithCopyWarning: \n",
      "A value is trying to be set on a copy of a slice from a DataFrame.\n",
      "Try using .loc[row_indexer,col_indexer] = value instead\n",
      "\n",
      "See the caveats in the documentation: http://pandas.pydata.org/pandas-docs/stable/indexing.html#indexing-view-versus-copy\n",
      "C:\\Users\\rivas\\Anaconda3\\lib\\site-packages\\ipykernel_launcher.py:46: SettingWithCopyWarning: \n",
      "A value is trying to be set on a copy of a slice from a DataFrame.\n",
      "Try using .loc[row_indexer,col_indexer] = value instead\n",
      "\n",
      "See the caveats in the documentation: http://pandas.pydata.org/pandas-docs/stable/indexing.html#indexing-view-versus-copy\n",
      "C:\\Users\\rivas\\Anaconda3\\lib\\site-packages\\ipykernel_launcher.py:47: SettingWithCopyWarning: \n",
      "A value is trying to be set on a copy of a slice from a DataFrame.\n",
      "Try using .loc[row_indexer,col_indexer] = value instead\n",
      "\n",
      "See the caveats in the documentation: http://pandas.pydata.org/pandas-docs/stable/indexing.html#indexing-view-versus-copy\n"
     ]
    }
   ],
   "source": [
    "# RiskViolence\n",
    "X_train, X_test, y_train, y_test = prepare_data_for_regression_model(RiskViolence, 22)\n",
    "linear_regression_model(RiskViolence,'RiskViolence', X_train, X_test, y_train, y_test, 'RawScore')"
   ]
  },
  {
   "cell_type": "code",
   "execution_count": 11,
   "metadata": {},
   "outputs": [
    {
     "name": "stderr",
     "output_type": "stream",
     "text": [
      "C:\\Users\\rivas\\Anaconda3\\lib\\site-packages\\ipykernel_launcher.py:38: SettingWithCopyWarning: \n",
      "A value is trying to be set on a copy of a slice from a DataFrame.\n",
      "Try using .loc[row_indexer,col_indexer] = value instead\n",
      "\n",
      "See the caveats in the documentation: http://pandas.pydata.org/pandas-docs/stable/indexing.html#indexing-view-versus-copy\n",
      "C:\\Users\\rivas\\Anaconda3\\lib\\site-packages\\ipykernel_launcher.py:39: SettingWithCopyWarning: \n",
      "A value is trying to be set on a copy of a slice from a DataFrame.\n",
      "Try using .loc[row_indexer,col_indexer] = value instead\n",
      "\n",
      "See the caveats in the documentation: http://pandas.pydata.org/pandas-docs/stable/indexing.html#indexing-view-versus-copy\n",
      "C:\\Users\\rivas\\Anaconda3\\lib\\site-packages\\ipykernel_launcher.py:40: SettingWithCopyWarning: \n",
      "A value is trying to be set on a copy of a slice from a DataFrame.\n",
      "Try using .loc[row_indexer,col_indexer] = value instead\n",
      "\n",
      "See the caveats in the documentation: http://pandas.pydata.org/pandas-docs/stable/indexing.html#indexing-view-versus-copy\n",
      "C:\\Users\\rivas\\Anaconda3\\lib\\site-packages\\ipykernel_launcher.py:41: SettingWithCopyWarning: \n",
      "A value is trying to be set on a copy of a slice from a DataFrame.\n",
      "Try using .loc[row_indexer,col_indexer] = value instead\n",
      "\n",
      "See the caveats in the documentation: http://pandas.pydata.org/pandas-docs/stable/indexing.html#indexing-view-versus-copy\n",
      "C:\\Users\\rivas\\Anaconda3\\lib\\site-packages\\ipykernel_launcher.py:42: SettingWithCopyWarning: \n",
      "A value is trying to be set on a copy of a slice from a DataFrame.\n",
      "Try using .loc[row_indexer,col_indexer] = value instead\n",
      "\n",
      "See the caveats in the documentation: http://pandas.pydata.org/pandas-docs/stable/indexing.html#indexing-view-versus-copy\n",
      "C:\\Users\\rivas\\Anaconda3\\lib\\site-packages\\ipykernel_launcher.py:43: SettingWithCopyWarning: \n",
      "A value is trying to be set on a copy of a slice from a DataFrame.\n",
      "Try using .loc[row_indexer,col_indexer] = value instead\n",
      "\n",
      "See the caveats in the documentation: http://pandas.pydata.org/pandas-docs/stable/indexing.html#indexing-view-versus-copy\n",
      "C:\\Users\\rivas\\Anaconda3\\lib\\site-packages\\ipykernel_launcher.py:44: SettingWithCopyWarning: \n",
      "A value is trying to be set on a copy of a slice from a DataFrame.\n",
      "Try using .loc[row_indexer,col_indexer] = value instead\n",
      "\n",
      "See the caveats in the documentation: http://pandas.pydata.org/pandas-docs/stable/indexing.html#indexing-view-versus-copy\n",
      "C:\\Users\\rivas\\Anaconda3\\lib\\site-packages\\ipykernel_launcher.py:45: SettingWithCopyWarning: \n",
      "A value is trying to be set on a copy of a slice from a DataFrame.\n",
      "Try using .loc[row_indexer,col_indexer] = value instead\n",
      "\n",
      "See the caveats in the documentation: http://pandas.pydata.org/pandas-docs/stable/indexing.html#indexing-view-versus-copy\n"
     ]
    },
    {
     "name": "stdout",
     "output_type": "stream",
     "text": [
      "Length for X_train: 16196  X_test: 4049  y_train: 16196  y_test: 4049\n",
      "Running linear regression model for : RiskRecidivism  using target:  RawScore\n",
      "lm.score:  0.3583396459232592\n",
      " \n",
      "first 10 predicted values:  [-1.06350478 -0.26338379 -1.37580727 -0.95914639 -0.87504597 -0.67935778\n",
      " -0.59492577 -0.81226281 -1.43489892 -1.01544237]\n",
      "first 10 values of target: \n",
      "6988    -1.03\n",
      "11707    0.13\n",
      "54424   -1.93\n",
      "30472   -0.05\n",
      "45100    0.44\n",
      "757     -0.69\n",
      "52690   -0.73\n",
      "7204    -0.78\n",
      "59716   -0.24\n",
      "49918   -0.49\n",
      "Name: RawScore, dtype: float64\n",
      " \n",
      "mean of predicted of values:  -0.7557637665563441  STD of predicted of values :  0.5031698458879453\n",
      "describe of target\n",
      "count    16196.000000\n",
      "mean        -0.768313\n",
      "std          0.851797\n",
      "min         -3.050000\n",
      "25%         -1.390000\n",
      "50%         -0.760000\n",
      "75%         -0.140000\n",
      "max          2.360000\n",
      "Name: RawScore, dtype: float64\n"
     ]
    },
    {
     "name": "stderr",
     "output_type": "stream",
     "text": [
      "C:\\Users\\rivas\\Anaconda3\\lib\\site-packages\\ipykernel_launcher.py:46: SettingWithCopyWarning: \n",
      "A value is trying to be set on a copy of a slice from a DataFrame.\n",
      "Try using .loc[row_indexer,col_indexer] = value instead\n",
      "\n",
      "See the caveats in the documentation: http://pandas.pydata.org/pandas-docs/stable/indexing.html#indexing-view-versus-copy\n",
      "C:\\Users\\rivas\\Anaconda3\\lib\\site-packages\\ipykernel_launcher.py:47: SettingWithCopyWarning: \n",
      "A value is trying to be set on a copy of a slice from a DataFrame.\n",
      "Try using .loc[row_indexer,col_indexer] = value instead\n",
      "\n",
      "See the caveats in the documentation: http://pandas.pydata.org/pandas-docs/stable/indexing.html#indexing-view-versus-copy\n"
     ]
    }
   ],
   "source": [
    "# RiskRecidivism\n",
    "X_train, X_test, y_train, y_test = prepare_data_for_regression_model(RiskRecidivism,22)\n",
    "linear_regression_model(RiskRecidivism,'RiskRecidivism', X_train, X_test, y_train, y_test, 'RawScore')\n",
    "\n"
   ]
  },
  {
   "cell_type": "code",
   "execution_count": null,
   "metadata": {
    "collapsed": true
   },
   "outputs": [],
   "source": []
  }
 ],
 "metadata": {
  "kernelspec": {
   "display_name": "Python 3",
   "language": "python",
   "name": "python3"
  },
  "language_info": {
   "codemirror_mode": {
    "name": "ipython",
    "version": 3
   },
   "file_extension": ".py",
   "mimetype": "text/x-python",
   "name": "python",
   "nbconvert_exporter": "python",
   "pygments_lexer": "ipython3",
   "version": "3.6.3"
  }
 },
 "nbformat": 4,
 "nbformat_minor": 2
}
