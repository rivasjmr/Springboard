{
 "cells": [
  {
   "cell_type": "markdown",
   "metadata": {},
   "source": [
    "# Machine Bias\n",
    "# \n",
    "\"\"\"\n",
    "https://www.propublica.org/article/how-we-analyzed-the-compas-recidivism-algorithm\n",
    "\n",
    "Context\n",
    "COMPAS (Correctional Offender Management Profiling for Alternative Sanctions) is a popular commercial algorithm used by judges\n",
    "and parole officers for scoring criminal defendant’s likelihood of reoffending (recidivism). It has been shown that the algorithm\n",
    "is biased in favor of white defendants, and against black inmates, based on a 2 year follow up study (i.e who actually committed\n",
    "crimes or violent crimes after 2 years). The pattern of mistakes, as measured by precision/sensitivity is notable.\n",
    "\n",
    "Quoting from ProPublica: \n",
    "\n",
    "Black defendants were often predicted to be at a higher risk of recidivism than they actually were. Our analysis found that black defendants\n",
    "who did not recidivate over a two-year period were nearly twice as likely to be misclassified as higher risk compared to their white counterparts\n",
    "(45 percent vs. 23 percent). White defendants were often predicted to be less risky than they were. Our analysis found that white defendants who\n",
    "re-offended within the next two years were mistakenly labeled low risk almost twice as often as black re-offenders (48 percent vs. 28 percent).\n",
    "The analysis also showed that even when controlling for prior crimes, future recidivism, age, and gender, black defendants were 45 percent more\n",
    "likely to be assigned higher risk scores than white defendants.\n",
    "\n",
    "Black defendants were also twice as likely as white defendants to be misclassified as being a higher risk of violent recidivism. And white violent\n",
    "recidivists were 63 percent more likely to have been misclassified as a low risk of violent recidivism, compared with black violent recidivists.\n",
    "The violent recidivism analysis also showed that even when controlling for prior crimes, future recidivism, age, and gender, black defendants were\n",
    "77 percent more likely to be assigned higher risk scores than white defendants. \"\n",
    "\n",
    "Content\n",
    "Data contains variables used by the COMPAS algorithm in scoring defendants, along with their outcomes within 2 years of the decision, for over\n",
    "10,000 criminal defendants in Broward County, Florida. 3 subsets of the data are provided, including a subset of only violent\n",
    "recividism (as opposed to, e.g. being reincarcerated for non violent offenses such as vagrancy or Marijuana).\n",
    "\n",
    "Indepth analysis by ProPublica can be found in their data methodology article.\n",
    "\n",
    "\n",
    "\n",
    "Each pretrial defendant received at least three COMPAS scores:  (DisplayText)\n",
    "“Risk of Recidivism,”\n",
    "“Risk of Violence” \n",
    "“Risk of Failure to Appear.”\n",
    "\n",
    "COMPAS scores for each defendant ranged from1 to 10, with ten being the highest risk. Scores (ScoreTex)\n",
    "1 to 4 were labeled by COMPAS as “Low”;\n",
    "5 to 7 were labeled “Medium”; and\n",
    "8 to 10 were labeled “High.”\n",
    "\n",
    "\n",
    "Columns\n",
    "0 - 4  : 'Person_ID','AssessmentID','Case_ID','Agency_Text', 'LastName',\n",
    "5 - 9  : 'FirstName', 'MiddleName', 'Sex_Code_Text', 'Ethnic_Code_Text','DateOfBirth',\n",
    "10 - 14: 'ScaleSet_ID', 'ScaleSet', 'AssessmentReason','Language', 'LegalStatus',\n",
    "15 - 19: 'CustodyStatus', 'MaritalStatus','Screening_Date', 'RecSupervisionLevel', 'RecSupervisionLevelText',\n",
    "20 - 24: 'Scale_ID', 'DisplayText', 'RawScore', 'DecileScore', 'ScoreText',\n",
    "25 - 27: 'AssessmentType', 'IsCompleted', 'IsDeleted'"
   ]
  },
  {
   "cell_type": "code",
   "execution_count": 1,
   "metadata": {
    "collapsed": true
   },
   "outputs": [],
   "source": [
    "# loading libraries\n",
    "import pandas as pd\n",
    "import numpy as np\n",
    "import matplotlib.pyplot as plt\n",
    "# For preprocessing the data\n",
    "from sklearn.preprocessing import Imputer\n",
    "from sklearn import preprocessing\n",
    "# Standardizing\n",
    "from sklearn.preprocessing import StandardScaler\n",
    "# To split the dataset into train and test datasets\n",
    "from sklearn.model_selection import train_test_split\n",
    "# To calculate the accuracy score of the model\n",
    "from sklearn.metrics import classification_report, confusion_matrix, accuracy_score\n",
    "#\n",
    "from datetime import datetime\n",
    "from datetime import date\n",
    "#\n",
    "import collections\n"
   ]
  },
  {
   "cell_type": "code",
   "execution_count": 2,
   "metadata": {
    "collapsed": true
   },
   "outputs": [],
   "source": [
    "# load dataset\n",
    "pthfnm = \"./compas-scores-raw.csv\"\n",
    "df = pd.read_csv(pthfnm)"
   ]
  },
  {
   "cell_type": "code",
   "execution_count": 3,
   "metadata": {},
   "outputs": [
    {
     "name": "stdout",
     "output_type": "stream",
     "text": [
      "(60843, 28)\n",
      "<class 'pandas.core.frame.DataFrame'>\n",
      "RangeIndex: 60843 entries, 0 to 60842\n",
      "Data columns (total 28 columns):\n",
      "Person_ID                  60843 non-null int64\n",
      "AssessmentID               60843 non-null int64\n",
      "Case_ID                    60843 non-null int64\n",
      "Agency_Text                60843 non-null object\n",
      "LastName                   60843 non-null object\n",
      "FirstName                  60843 non-null object\n",
      "MiddleName                 15648 non-null object\n",
      "Sex_Code_Text              60843 non-null object\n",
      "Ethnic_Code_Text           60843 non-null object\n",
      "DateOfBirth                60843 non-null object\n",
      "ScaleSet_ID                60843 non-null int64\n",
      "ScaleSet                   60843 non-null object\n",
      "AssessmentReason           60843 non-null object\n",
      "Language                   60843 non-null object\n",
      "LegalStatus                60843 non-null object\n",
      "CustodyStatus              60843 non-null object\n",
      "MaritalStatus              60843 non-null object\n",
      "Screening_Date             60843 non-null object\n",
      "RecSupervisionLevel        60843 non-null int64\n",
      "RecSupervisionLevelText    60843 non-null object\n",
      "Scale_ID                   60843 non-null int64\n",
      "DisplayText                60843 non-null object\n",
      "RawScore                   60843 non-null float64\n",
      "DecileScore                60843 non-null int64\n",
      "ScoreText                  60798 non-null object\n",
      "AssessmentType             60843 non-null object\n",
      "IsCompleted                60843 non-null int64\n",
      "IsDeleted                  60843 non-null int64\n",
      "dtypes: float64(1), int64(9), object(18)\n",
      "memory usage: 13.0+ MB\n",
      "None\n"
     ]
    }
   ],
   "source": [
    "# initial EDA\n",
    "print(df.shape)\n",
    "print(df.info())"
   ]
  },
  {
   "cell_type": "code",
   "execution_count": 4,
   "metadata": {},
   "outputs": [
    {
     "name": "stdout",
     "output_type": "stream",
     "text": [
      "['Caucasian' 'African-American' 'Hispanic' 'Other' 'Asian' 'African-Am'\n",
      " 'Native American' 'Oriental' 'Arabic']\n"
     ]
    }
   ],
   "source": [
    "# Review data and Manipulate Data\n",
    "\n",
    "# Ethnic_Code_Text\n",
    "print(df.Ethnic_Code_Text.unique())"
   ]
  },
  {
   "cell_type": "code",
   "execution_count": 5,
   "metadata": {},
   "outputs": [
    {
     "name": "stdout",
     "output_type": "stream",
     "text": [
      "African-American    27069\n",
      "Caucasian           21783\n",
      "Hispanic             8742\n",
      "Other                2592\n",
      "Asian                 324\n",
      "Native American       219\n",
      "Arabic                 75\n",
      "Oriental               39\n",
      "Name: Ethnic_Code_Text, dtype: int64\n"
     ]
    }
   ],
   "source": [
    "# update 'Ethnic_Code_Text' to have conistent values for African Americans\n",
    "df.loc[df['Ethnic_Code_Text'] == 'African-Am', 'Ethnic_Code_Text'] = 'African-American'\n",
    "print(pd.value_counts(df['Ethnic_Code_Text']))"
   ]
  },
  {
   "cell_type": "code",
   "execution_count": 6,
   "metadata": {},
   "outputs": [
    {
     "name": "stdout",
     "output_type": "stream",
     "text": [
      "45\n"
     ]
    }
   ],
   "source": [
    "# DecileScore should be between 1 & 10, delete otherwise\n",
    "df.DecileScore.unique()\n",
    "print((df['DecileScore'] < 1).sum())"
   ]
  },
  {
   "cell_type": "code",
   "execution_count": 7,
   "metadata": {},
   "outputs": [
    {
     "name": "stdout",
     "output_type": "stream",
     "text": [
      "1     18465\n",
      "2      9192\n",
      "3      8492\n",
      "4      5338\n",
      "5      4831\n",
      "6      4319\n",
      "7      3338\n",
      "8      2799\n",
      "9      2386\n",
      "10     1638\n",
      "Name: DecileScore, dtype: int64\n"
     ]
    }
   ],
   "source": [
    "# remove DecileScore < 1\n",
    "df = df[df.DecileScore >= 1]\n",
    "print(pd.value_counts(df['DecileScore']))"
   ]
  },
  {
   "cell_type": "code",
   "execution_count": 8,
   "metadata": {
    "collapsed": true
   },
   "outputs": [],
   "source": [
    "# Add column 'Age' from DateofBirth\n",
    "agelist = []\n",
    "currdate = date.today()\n",
    "for dte in df['DateOfBirth']:\n",
    "    brthdte = datetime.strptime(dte, '%m/%d/%y')\n",
    "    mnthday = (currdate.month, currdate.day) < (brthdte.month, brthdte.day)\n",
    "    if currdate.year > brthdte.year:\n",
    "        agelist.append(currdate.year - brthdte.year - (mnthday))\n",
    "    else:\n",
    "        agelist.append(-1)\n",
    "        "
   ]
  },
  {
   "cell_type": "code",
   "execution_count": 9,
   "metadata": {},
   "outputs": [
    {
     "name": "stdout",
     "output_type": "stream",
     "text": [
      "60798 60798\n",
      "Index(['Person_ID', 'AssessmentID', 'Case_ID', 'Agency_Text', 'LastName',\n",
      "       'FirstName', 'MiddleName', 'Sex_Code_Text', 'Ethnic_Code_Text',\n",
      "       'DateOfBirth', 'ScaleSet_ID', 'ScaleSet', 'AssessmentReason',\n",
      "       'Language', 'LegalStatus', 'CustodyStatus', 'MaritalStatus',\n",
      "       'Screening_Date', 'RecSupervisionLevel', 'RecSupervisionLevelText',\n",
      "       'Scale_ID', 'DisplayText', 'RawScore', 'DecileScore', 'ScoreText',\n",
      "       'AssessmentType', 'IsCompleted', 'IsDeleted', 'Age'],\n",
      "      dtype='object')\n"
     ]
    }
   ],
   "source": [
    "print(len(agelist), len(df))\n",
    "df['Age'] = agelist\n",
    "print(df.columns)"
   ]
  },
  {
   "cell_type": "code",
   "execution_count": 10,
   "metadata": {},
   "outputs": [
    {
     "data": {
      "text/plain": [
       "12782"
      ]
     },
     "execution_count": 10,
     "metadata": {},
     "output_type": "execute_result"
    }
   ],
   "source": [
    "# cleanup bad Ages\n",
    "# remove DecileScore < 1\n",
    "(df['Age'] < 1).sum()"
   ]
  },
  {
   "cell_type": "code",
   "execution_count": 11,
   "metadata": {},
   "outputs": [
    {
     "data": {
      "text/plain": [
       "0"
      ]
     },
     "execution_count": 11,
     "metadata": {},
     "output_type": "execute_result"
    }
   ],
   "source": [
    "df = df[df.Age >= 1]\n",
    "(df['Age'] < 1).sum()"
   ]
  },
  {
   "cell_type": "code",
   "execution_count": 12,
   "metadata": {},
   "outputs": [
    {
     "data": {
      "text/plain": [
       "count    48016.000000\n",
       "mean        32.949850\n",
       "std          7.187846\n",
       "min         20.000000\n",
       "25%         27.000000\n",
       "50%         32.000000\n",
       "75%         38.000000\n",
       "max         49.000000\n",
       "Name: Age, dtype: float64"
      ]
     },
     "execution_count": 12,
     "metadata": {},
     "output_type": "execute_result"
    }
   ],
   "source": [
    "df['Age'].describe()"
   ]
  },
  {
   "cell_type": "code",
   "execution_count": 13,
   "metadata": {},
   "outputs": [
    {
     "name": "stdout",
     "output_type": "stream",
     "text": [
      "black : (23169, 29)  white:  (15290, 29)  joint:  (38459, 29)\n"
     ]
    }
   ],
   "source": [
    "# slice and dice\n",
    "\n",
    "# Slice by 'Ethnic_Code_Text' for blacks & whites\n",
    "black = df.loc[df['Ethnic_Code_Text'] == 'African-American']\n",
    "white = df.loc[df['Ethnic_Code_Text'] == 'Caucasian']\n",
    "joint = df.loc[df['Ethnic_Code_Text'].isin (['Caucasian','African-American'])]\n",
    "print('black :', black.shape, ' white: ', white.shape, ' joint: ', joint.shape)"
   ]
  },
  {
   "cell_type": "code",
   "execution_count": 14,
   "metadata": {},
   "outputs": [
    {
     "name": "stdout",
     "output_type": "stream",
     "text": [
      "male : (37308, 29)  female:  (10708, 29)\n"
     ]
    }
   ],
   "source": [
    "# Slice by 'Sex_Code_Text' for males & females\n",
    "male = df.loc[df['Sex_Code_Text'] == 'Male']\n",
    "female = df.loc[df['Sex_Code_Text'] == 'Female']\n",
    "print('male :', male.shape, ' female: ', female.shape)"
   ]
  },
  {
   "cell_type": "code",
   "execution_count": 15,
   "metadata": {},
   "outputs": [
    {
     "name": "stdout",
     "output_type": "stream",
     "text": [
      "Appear: (16016, 29)  Violence:  (16010, 29)  Recidivism: (15990, 29)\n"
     ]
    }
   ],
   "source": [
    "# Slice by 'DisplayText' for Risk\n",
    "RiskAppear = df.loc[df['DisplayText'] == 'Risk of Failure to Appear']\n",
    "RiskViolence = df.loc[df['DisplayText'] == 'Risk of Violence']\n",
    "RiskRecidivism = df.loc[df['DisplayText'] == 'Risk of Recidivism']\n",
    "print('Appear:', RiskAppear.shape, ' Violence: ', RiskViolence.shape,  ' Recidivism:',RiskRecidivism.shape)"
   ]
  },
  {
   "cell_type": "code",
   "execution_count": 16,
   "metadata": {},
   "outputs": [
    {
     "name": "stdout",
     "output_type": "stream",
     "text": [
      "Race:  (8, 28)  Gender: (2, 28)\n"
     ]
    }
   ],
   "source": [
    "# Aggregate\n",
    "grprace = df.groupby(['Ethnic_Code_Text']).count()\n",
    "grpgender = df.groupby(['Sex_Code_Text']).count()\n",
    "print('Race: ',grprace.shape, ' Gender:', grpgender.shape)"
   ]
  },
  {
   "cell_type": "markdown",
   "metadata": {},
   "source": [
    "# Looking at some bias in the data set by Ethncity and sex"
   ]
  },
  {
   "cell_type": "code",
   "execution_count": 17,
   "metadata": {},
   "outputs": [
    {
     "data": {
      "text/html": [
       "<div>\n",
       "<style>\n",
       "    .dataframe thead tr:only-child th {\n",
       "        text-align: right;\n",
       "    }\n",
       "\n",
       "    .dataframe thead th {\n",
       "        text-align: left;\n",
       "    }\n",
       "\n",
       "    .dataframe tbody tr th {\n",
       "        vertical-align: top;\n",
       "    }\n",
       "</style>\n",
       "<table border=\"1\" class=\"dataframe\">\n",
       "  <thead>\n",
       "    <tr style=\"text-align: right;\">\n",
       "      <th></th>\n",
       "      <th>DecileScore</th>\n",
       "    </tr>\n",
       "    <tr>\n",
       "      <th>Ethnic_Code_Text</th>\n",
       "      <th></th>\n",
       "    </tr>\n",
       "  </thead>\n",
       "  <tbody>\n",
       "    <tr>\n",
       "      <th>African-American</th>\n",
       "      <td>48.25</td>\n",
       "    </tr>\n",
       "    <tr>\n",
       "      <th>Arabic</th>\n",
       "      <td>0.12</td>\n",
       "    </tr>\n",
       "    <tr>\n",
       "      <th>Asian</th>\n",
       "      <td>0.48</td>\n",
       "    </tr>\n",
       "    <tr>\n",
       "      <th>Caucasian</th>\n",
       "      <td>31.84</td>\n",
       "    </tr>\n",
       "    <tr>\n",
       "      <th>Hispanic</th>\n",
       "      <td>14.60</td>\n",
       "    </tr>\n",
       "    <tr>\n",
       "      <th>Native American</th>\n",
       "      <td>0.39</td>\n",
       "    </tr>\n",
       "    <tr>\n",
       "      <th>Oriental</th>\n",
       "      <td>0.07</td>\n",
       "    </tr>\n",
       "    <tr>\n",
       "      <th>Other</th>\n",
       "      <td>4.25</td>\n",
       "    </tr>\n",
       "  </tbody>\n",
       "</table>\n",
       "</div>"
      ],
      "text/plain": [
       "                  DecileScore\n",
       "Ethnic_Code_Text             \n",
       "African-American        48.25\n",
       "Arabic                   0.12\n",
       "Asian                    0.48\n",
       "Caucasian               31.84\n",
       "Hispanic                14.60\n",
       "Native American          0.39\n",
       "Oriental                 0.07\n",
       "Other                    4.25"
      ]
     },
     "execution_count": 17,
     "metadata": {},
     "output_type": "execute_result"
    }
   ],
   "source": [
    "## Display distribution of group data\n",
    "# % data distribution by Ethnic_Code_Text\n",
    "round(grprace[['DecileScore']]/len(df),4)*100"
   ]
  },
  {
   "cell_type": "code",
   "execution_count": null,
   "metadata": {
    "collapsed": true
   },
   "outputs": [],
   "source": [
    "# There are more African Americans (48%) in the dataset, eventhough in the county African American only make \n",
    "# up (30%) of the population"
   ]
  },
  {
   "cell_type": "code",
   "execution_count": 18,
   "metadata": {},
   "outputs": [
    {
     "data": {
      "text/html": [
       "<div>\n",
       "<style>\n",
       "    .dataframe thead tr:only-child th {\n",
       "        text-align: right;\n",
       "    }\n",
       "\n",
       "    .dataframe thead th {\n",
       "        text-align: left;\n",
       "    }\n",
       "\n",
       "    .dataframe tbody tr th {\n",
       "        vertical-align: top;\n",
       "    }\n",
       "</style>\n",
       "<table border=\"1\" class=\"dataframe\">\n",
       "  <thead>\n",
       "    <tr style=\"text-align: right;\">\n",
       "      <th></th>\n",
       "      <th>DecileScore</th>\n",
       "    </tr>\n",
       "    <tr>\n",
       "      <th>Sex_Code_Text</th>\n",
       "      <th></th>\n",
       "    </tr>\n",
       "  </thead>\n",
       "  <tbody>\n",
       "    <tr>\n",
       "      <th>Female</th>\n",
       "      <td>22.3</td>\n",
       "    </tr>\n",
       "    <tr>\n",
       "      <th>Male</th>\n",
       "      <td>77.7</td>\n",
       "    </tr>\n",
       "  </tbody>\n",
       "</table>\n",
       "</div>"
      ],
      "text/plain": [
       "               DecileScore\n",
       "Sex_Code_Text             \n",
       "Female                22.3\n",
       "Male                  77.7"
      ]
     },
     "execution_count": 18,
     "metadata": {},
     "output_type": "execute_result"
    }
   ],
   "source": [
    "# % data distribution by Sex_Code_Text\n",
    "round(grpgender[['DecileScore']]/len(df),4)*100\n"
   ]
  },
  {
   "cell_type": "code",
   "execution_count": null,
   "metadata": {
    "collapsed": true
   },
   "outputs": [],
   "source": [
    "# There are more males (78%) in the dataset, eventhough in the county males make \n",
    "# up (49%) of the population"
   ]
  },
  {
   "cell_type": "code",
   "execution_count": 19,
   "metadata": {},
   "outputs": [
    {
     "name": "stdout",
     "output_type": "stream",
     "text": [
      "Mean DecileScore by Race\n",
      "Caucasian -  3.49\n",
      "African-American -  4.44\n",
      "Hispanic -  3.1\n",
      "Other -  2.77\n",
      "Asian -  2.66\n",
      "Native American -  4.15\n",
      "Oriental -  2.91\n",
      "Arabic -  3.58\n"
     ]
    }
   ],
   "source": [
    "# DecileScore Mean by race\n",
    "race=df.Ethnic_Code_Text.unique()\n",
    "print('Mean DecileScore by Race')\n",
    "for i in race:\n",
    "    mn = round(df.loc[df['Ethnic_Code_Text'] == i]['DecileScore'].mean(), 2)\n",
    "    print(i,'- ',mn)"
   ]
  },
  {
   "cell_type": "code",
   "execution_count": null,
   "metadata": {
    "collapsed": true
   },
   "outputs": [],
   "source": [
    "# Mean DecileScore is highest for African Americans"
   ]
  },
  {
   "cell_type": "code",
   "execution_count": 20,
   "metadata": {},
   "outputs": [
    {
     "name": "stdout",
     "output_type": "stream",
     "text": [
      "Mean DecileScore by Gender\n",
      "Male -  3.95\n",
      "Female -  3.53\n"
     ]
    }
   ],
   "source": [
    "# DecileScore Mean by gender\n",
    "gender=df.Sex_Code_Text.unique()\n",
    "print('Mean DecileScore by Gender')\n",
    "for i in gender:\n",
    "    mn = round(df.loc[df['Sex_Code_Text'] == i]['DecileScore'].mean(), 2)\n",
    "    print(i,'- ',mn)"
   ]
  },
  {
   "cell_type": "code",
   "execution_count": null,
   "metadata": {
    "collapsed": true
   },
   "outputs": [],
   "source": [
    "# Mean DecileScore is highest for males"
   ]
  },
  {
   "cell_type": "code",
   "execution_count": null,
   "metadata": {
    "collapsed": true
   },
   "outputs": [],
   "source": [
    "# Visualize"
   ]
  },
  {
   "cell_type": "code",
   "execution_count": 21,
   "metadata": {
    "collapsed": true
   },
   "outputs": [],
   "source": [
    "# Define grp_plot_compare:\n",
    "# creates groups and then plot them to compare them\n",
    "def grp_plot_compare(df1, df2, xlabel1, colnm1, total_pop, multby, title,label1, label2):\n",
    "    grp1 = df1.groupby([xlabel1]).count()\n",
    "    grp2 = df2.groupby([xlabel1]).count()\n",
    "    \n",
    "#   to be used for weighted average  \n",
    "    div1 = len(df1)\n",
    "    div2 = len(df2)\n",
    "    \n",
    "    n_groups = len(grp1)\n",
    "# create plot\n",
    "    fig, ax = plt.subplots()\n",
    "    index = np.arange(n_groups)\n",
    "    bar_width = 0.35\n",
    "    opacity = 0.8\n",
    "\n",
    "    rects1 = plt.bar(grp1.index,(round(grp1[colnm1]/div1,2)*multby), bar_width,\n",
    "                 alpha=opacity,\n",
    "                 color='b',\n",
    "                 label=label1)\n",
    "\n",
    "    rects2 = plt.bar(grp2.index+ bar_width, (round(grp2[colnm1]/div2,2)*multby), bar_width,\n",
    "                 alpha=opacity,\n",
    "                 color='g',\n",
    "                 label=label2)\n",
    "\n",
    "    plt.xlabel(xlabel1)\n",
    "    if total_pop > 1:\n",
    "        plt.ylabel('Percentage')\n",
    "    else:\n",
    "        plt.ylabel('Count')\n",
    "    plt.title(title)\n",
    "    plt.legend()\n",
    "    plt.tight_layout()\n",
    "    plt.show()\n",
    "    plt.clf()"
   ]
  },
  {
   "cell_type": "code",
   "execution_count": 22,
   "metadata": {},
   "outputs": [
    {
     "data": {
      "image/png": "[encoded data removed]",
      "text/plain": [
       "<matplotlib.figure.Figure at 0x1d85b301e80>"
      ]
     },
     "metadata": {},
     "output_type": "display_data"
    }
   ],
   "source": [
    "# Comparing White & Black defendants on the  'DecileScore'\n",
    "grp_plot_compare(white, black, 'DecileScore','Ethnic_Code_Text', len(df), 100, \\\n",
    "                 'DecileScore by Blacks & Whites ', \\\n",
    "                 'white','black')"
   ]
  },
  {
   "cell_type": "code",
   "execution_count": null,
   "metadata": {
    "collapsed": true
   },
   "outputs": [],
   "source": [
    "# Whites have lower Decile Scores and Blacks have higher Decile Scores"
   ]
  },
  {
   "cell_type": "code",
   "execution_count": 23,
   "metadata": {},
   "outputs": [
    {
     "data": {
      "text/plain": [
       "<matplotlib.figure.Figure at 0x1d85b2a91d0>"
      ]
     },
     "metadata": {},
     "output_type": "display_data"
    },
    {
     "data": {
      "image/png": "[encoded data removed]",
      "text/plain": [
       "<matplotlib.figure.Figure at 0x1d85b2b7f28>"
      ]
     },
     "metadata": {},
     "output_type": "display_data"
    }
   ],
   "source": [
    "# Comparing Male & Female defendants on the  'DecileScore'\n",
    "grp_plot_compare(female, male, 'DecileScore','Sex_Code_Text', len(df), 100, \\\n",
    "                 'Scores by Females & Males ', \\\n",
    "                 'Females','Males')\n"
   ]
  },
  {
   "cell_type": "code",
   "execution_count": null,
   "metadata": {
    "collapsed": true
   },
   "outputs": [],
   "source": [
    "# Females have lower Decile Scores and Males have higher Decile Scores"
   ]
  },
  {
   "cell_type": "code",
   "execution_count": 24,
   "metadata": {},
   "outputs": [
    {
     "data": {
      "text/plain": [
       "<matplotlib.figure.Figure at 0x1d85b1722e8>"
      ]
     },
     "metadata": {},
     "output_type": "display_data"
    },
    {
     "data": {
      "image/png": "[encoded data removed]",
      "text/plain": [
       "<matplotlib.figure.Figure at 0x1d85b277fd0>"
      ]
     },
     "metadata": {},
     "output_type": "display_data"
    }
   ],
   "source": [
    "####################################################################################\n",
    "# Histogram overlay\n",
    "fig, ax = plt.subplots()\n",
    "black['DecileScore'].hist(bins=10, figsize=[14,6],color='g',alpha=.8 )\n",
    "white['DecileScore'].hist(bins=10, figsize=[14,6],color='b',alpha=.5 )\n",
    "plt.title('Histogram overlay of Blacks (green) & Whites (blue)')\n",
    "plt.legend()\n",
    "plt.xlabel('DecileScore')\n",
    "plt.ylabel('Count')\n",
    "plt.show()\n",
    "plt.clf()"
   ]
  },
  {
   "cell_type": "markdown",
   "metadata": {},
   "source": [
    "# Running ML models"
   ]
  },
  {
   "cell_type": "code",
   "execution_count": 25,
   "metadata": {
    "collapsed": true
   },
   "outputs": [],
   "source": [
    "# Define prepare_data_for_ml_model_1:\n",
    "def prepare_data_for_ml_model_1(dfx, target_loc):\n",
    "    # Create new DataFrame of selected columns\n",
    "     \n",
    "    \"\"\"\n",
    "    Columns\n",
    "    0 - 4  : 'Person_ID','AssessmentID','Case_ID','Agency_Text', 'LastName',\n",
    "    5 - 9  : 'FirstName', 'MiddleName', 'Sex_Code_Text', 'Ethnic_Code_Text','DateOfBirth',\n",
    "    10 - 14: 'ScaleSet_ID', 'ScaleSet', 'AssessmentReason','Language', 'LegalStatus',\n",
    "    15 - 19: 'CustodyStatus', 'MaritalStatus','Screening_Date', 'RecSupervisionLevel', 'RecSupervisionLevelText',\n",
    "    20 - 24: 'Scale_ID', 'DisplayText', 'RawScore', 'DecileScore', 'ScoreText',\n",
    "    25 - 28: 'AssessmentType', 'IsCompleted', 'IsDeleted','Age'\n",
    "    \"\"\"\n",
    "    \"\"\"\n",
    "    race, age, criminal history, future recidivism, charge degree, gender and age.\n",
    "    \"\"\"\n",
    "    # slice for subset data features and targets\n",
    "    df_new = dfx.iloc[:, [7,8,14,15,16,19,28]] #features\n",
    "    y = dfx.iloc[:,target_loc] #target\n",
    "\n",
    "    \n",
    "    #  One-Hot encoder. It encodes the data into binary format\n",
    "    le = preprocessing.LabelEncoder()\n",
    "\n",
    "    Sex_Code_Text_cat = le.fit_transform(df_new.Sex_Code_Text)\n",
    "    Ethnic_Code_Text_cat = le.fit_transform(df_new.Ethnic_Code_Text)\n",
    "    LegalStatus_cat = le.fit_transform(df_new.LegalStatus)\n",
    "    CustodyStatus_cat = le.fit_transform(df_new.CustodyStatus)\n",
    "    MaritalStatus_cat = le.fit_transform(df_new.MaritalStatus)\n",
    "    RecSupervisionLevelText_cat = le.fit_transform(df_new.RecSupervisionLevelText) \n",
    " \n",
    "    df_new['Sex_Code_Text_cat'] = Sex_Code_Text_cat\n",
    "    df_new['Ethnic_Code_Text_cat'] = Ethnic_Code_Text_cat\n",
    "    df_new['LegalStatus_cat'] = LegalStatus_cat\n",
    "    df_new['CustodyStatus_cat'] = CustodyStatus_cat\n",
    "    df_new['MaritalStatus_cat'] = MaritalStatus_cat\n",
    "    df_new['RecSupervisionLevelText_cat'] = RecSupervisionLevelText_cat\n",
    "\n",
    "\n",
    "\n",
    "    #drop the old categorical columns from dataframe\n",
    "\n",
    "    dummy_fields = ['Sex_Code_Text',\n",
    "                  'Ethnic_Code_Text',  'LegalStatus', 'CustodyStatus',\n",
    "                  'MaritalStatus','RecSupervisionLevelText' ]\n",
    "    \n",
    "\n",
    "    df_new = df_new.drop(dummy_fields, axis = 1)\n",
    "    print('columns:',df_new.columns)\n",
    "\n",
    "    # Standardizing\n",
    "    #X_std = StandardScaler().fit_transform(X_rev)\n",
    "\n",
    "\n",
    "    # Split data train and test, first import library\n",
    "    X_train, X_test, y_train, y_test = train_test_split(df_new, y, test_size=0.2)\n",
    "    print('Length for X_train:', len(X_train), ' X_test:',len(X_test), ' y_train:',len(y_train) ,' y_test:',len(y_test))\n",
    "\n",
    "    return X_train, X_test, y_train, y_test\n"
   ]
  },
  {
   "cell_type": "code",
   "execution_count": 26,
   "metadata": {
    "collapsed": true
   },
   "outputs": [],
   "source": [
    "# Define ml_model_1:\n",
    "# takes in model Instantiate model (model)\n",
    "# fits, predicts, and evaluates (prints results)\n",
    "def ml_model_1(model, modelnm, dfnm, X_train, X_test, y_train, y_test, target):\n",
    "    print('Running ', modelnm, ' model for :', dfnm, ' using target: ', target)\n",
    "\n",
    "    model.fit(X_train, y_train)\n",
    "    y_pred = model.predict(X_test)\n",
    "\n",
    "    #Evaluate\n",
    "    print(modelnm,' score: ',model.score(X_test, y_test))\n",
    "    print(' ')\n",
    "    print('first 10 predicted values: ',y_pred[0:10])\n",
    "    print('first 10 values of target: ')\n",
    "    print(y_test.head(10))\n",
    "    print(' ')\n",
    "\n",
    "    print('mean of predicted of values: ',np.mean(y_pred), ' STD of predicted of values : ', np.std(y_pred) )\n",
    "    print('describe of target')\n",
    "    print(y_test.describe())\n",
    "\n",
    "    return y_pred"
   ]
  },
  {
   "cell_type": "code",
   "execution_count": null,
   "metadata": {
    "collapsed": true
   },
   "outputs": [],
   "source": [
    "# MLPRegressor"
   ]
  },
  {
   "cell_type": "code",
   "execution_count": 27,
   "metadata": {
    "collapsed": true
   },
   "outputs": [],
   "source": [
    "from sklearn.neural_network import MLPRegressor\n",
    "\n",
    "clf = MLPRegressor(alpha=0.001, hidden_layer_sizes = (10,), max_iter = 50000, \n",
    "                 activation = 'logistic', verbose = 'True', learning_rate = 'adaptive')"
   ]
  },
  {
   "cell_type": "code",
   "execution_count": 28,
   "metadata": {},
   "outputs": [
    {
     "name": "stderr",
     "output_type": "stream",
     "text": [
      "C:\\Users\\rivas\\Anaconda3\\lib\\site-packages\\ipykernel_launcher.py:32: SettingWithCopyWarning: \n",
      "A value is trying to be set on a copy of a slice from a DataFrame.\n",
      "Try using .loc[row_indexer,col_indexer] = value instead\n",
      "\n",
      "See the caveats in the documentation: http://pandas.pydata.org/pandas-docs/stable/indexing.html#indexing-view-versus-copy\n",
      "C:\\Users\\rivas\\Anaconda3\\lib\\site-packages\\ipykernel_launcher.py:33: SettingWithCopyWarning: \n",
      "A value is trying to be set on a copy of a slice from a DataFrame.\n",
      "Try using .loc[row_indexer,col_indexer] = value instead\n",
      "\n",
      "See the caveats in the documentation: http://pandas.pydata.org/pandas-docs/stable/indexing.html#indexing-view-versus-copy\n",
      "C:\\Users\\rivas\\Anaconda3\\lib\\site-packages\\ipykernel_launcher.py:34: SettingWithCopyWarning: \n",
      "A value is trying to be set on a copy of a slice from a DataFrame.\n",
      "Try using .loc[row_indexer,col_indexer] = value instead\n",
      "\n",
      "See the caveats in the documentation: http://pandas.pydata.org/pandas-docs/stable/indexing.html#indexing-view-versus-copy\n"
     ]
    },
    {
     "name": "stdout",
     "output_type": "stream",
     "text": [
      "columns: Index(['Age', 'Sex_Code_Text_cat', 'Ethnic_Code_Text_cat', 'LegalStatus_cat',\n",
      "       'CustodyStatus_cat', 'MaritalStatus_cat',\n",
      "       'RecSupervisionLevelText_cat'],\n",
      "      dtype='object')\n",
      "Length for X_train: 12808  X_test: 3202  y_train: 12808  y_test: 3202\n"
     ]
    },
    {
     "name": "stderr",
     "output_type": "stream",
     "text": [
      "C:\\Users\\rivas\\Anaconda3\\lib\\site-packages\\ipykernel_launcher.py:35: SettingWithCopyWarning: \n",
      "A value is trying to be set on a copy of a slice from a DataFrame.\n",
      "Try using .loc[row_indexer,col_indexer] = value instead\n",
      "\n",
      "See the caveats in the documentation: http://pandas.pydata.org/pandas-docs/stable/indexing.html#indexing-view-versus-copy\n",
      "C:\\Users\\rivas\\Anaconda3\\lib\\site-packages\\ipykernel_launcher.py:36: SettingWithCopyWarning: \n",
      "A value is trying to be set on a copy of a slice from a DataFrame.\n",
      "Try using .loc[row_indexer,col_indexer] = value instead\n",
      "\n",
      "See the caveats in the documentation: http://pandas.pydata.org/pandas-docs/stable/indexing.html#indexing-view-versus-copy\n",
      "C:\\Users\\rivas\\Anaconda3\\lib\\site-packages\\ipykernel_launcher.py:37: SettingWithCopyWarning: \n",
      "A value is trying to be set on a copy of a slice from a DataFrame.\n",
      "Try using .loc[row_indexer,col_indexer] = value instead\n",
      "\n",
      "See the caveats in the documentation: http://pandas.pydata.org/pandas-docs/stable/indexing.html#indexing-view-versus-copy\n"
     ]
    }
   ],
   "source": [
    "# MLPRegressor - RiskViolence dataset target RawScore (22)\n",
    "# Preparing the data\n",
    "X_train, X_test, y_train, y_test = prepare_data_for_ml_model_1(RiskViolence,22)"
   ]
  },
  {
   "cell_type": "code",
   "execution_count": 29,
   "metadata": {},
   "outputs": [
    {
     "name": "stdout",
     "output_type": "stream",
     "text": [
      "Running  MLPRegressor  model for : RiskViolence  using target:  RawScore\n",
      "Iteration 1, loss = 2.57075474\n",
      "Iteration 2, loss = 1.35167946\n",
      "Iteration 3, loss = 0.43336228\n",
      "Iteration 4, loss = 0.29861297\n",
      "Iteration 5, loss = 0.27943571\n",
      "Iteration 6, loss = 0.26387229\n",
      "Iteration 7, loss = 0.24982849\n",
      "Iteration 8, loss = 0.23357787\n",
      "Iteration 9, loss = 0.21584765\n",
      "Iteration 10, loss = 0.20348476\n",
      "Iteration 11, loss = 0.19429114\n",
      "Iteration 12, loss = 0.18747223\n",
      "Iteration 13, loss = 0.18203836\n",
      "Iteration 14, loss = 0.17744479\n",
      "Iteration 15, loss = 0.17363013\n",
      "Iteration 16, loss = 0.17046117\n",
      "Iteration 17, loss = 0.16786487\n",
      "Iteration 18, loss = 0.16569671\n",
      "Iteration 19, loss = 0.16385280\n",
      "Iteration 20, loss = 0.16227297\n",
      "Iteration 21, loss = 0.16101371\n",
      "Iteration 22, loss = 0.15935204\n",
      "Iteration 23, loss = 0.15812210\n",
      "Iteration 24, loss = 0.15678398\n",
      "Iteration 25, loss = 0.15550778\n",
      "Iteration 26, loss = 0.15435694\n",
      "Iteration 27, loss = 0.15270251\n",
      "Iteration 28, loss = 0.15100390\n",
      "Iteration 29, loss = 0.14940425\n",
      "Iteration 30, loss = 0.14785736\n",
      "Iteration 31, loss = 0.14596133\n",
      "Iteration 32, loss = 0.14404425\n",
      "Iteration 33, loss = 0.14266465\n",
      "Iteration 34, loss = 0.14014278\n",
      "Iteration 35, loss = 0.13790355\n",
      "Iteration 36, loss = 0.13566825\n",
      "Iteration 37, loss = 0.13319989\n",
      "Iteration 38, loss = 0.13056132\n",
      "Iteration 39, loss = 0.12780624\n",
      "Iteration 40, loss = 0.12482932\n",
      "Iteration 41, loss = 0.12205316\n",
      "Iteration 42, loss = 0.11952640\n",
      "Iteration 43, loss = 0.11650100\n",
      "Iteration 44, loss = 0.11349830\n",
      "Iteration 45, loss = 0.11047974\n",
      "Iteration 46, loss = 0.10774780\n",
      "Iteration 47, loss = 0.10494494\n",
      "Iteration 48, loss = 0.10227958\n",
      "Iteration 49, loss = 0.09971799\n",
      "Iteration 50, loss = 0.09694924\n",
      "Iteration 51, loss = 0.09448745\n",
      "Iteration 52, loss = 0.09211519\n",
      "Iteration 53, loss = 0.08990185\n",
      "Iteration 54, loss = 0.08755330\n",
      "Iteration 55, loss = 0.08561982\n",
      "Iteration 56, loss = 0.08348351\n",
      "Iteration 57, loss = 0.08162280\n",
      "Iteration 58, loss = 0.08022191\n",
      "Iteration 59, loss = 0.07854982\n",
      "Iteration 60, loss = 0.07669934\n",
      "Iteration 61, loss = 0.07547358\n",
      "Iteration 62, loss = 0.07399290\n",
      "Iteration 63, loss = 0.07282923\n",
      "Iteration 64, loss = 0.07183453\n",
      "Iteration 65, loss = 0.07089669\n",
      "Iteration 66, loss = 0.06986446\n",
      "Iteration 67, loss = 0.06894186\n",
      "Iteration 68, loss = 0.06797648\n",
      "Iteration 69, loss = 0.06735311\n",
      "Iteration 70, loss = 0.06732982\n",
      "Iteration 71, loss = 0.06597992\n",
      "Iteration 72, loss = 0.06543416\n",
      "Iteration 73, loss = 0.06512249\n",
      "Iteration 74, loss = 0.06457805\n",
      "Iteration 75, loss = 0.06387552\n",
      "Iteration 76, loss = 0.06354573\n",
      "Iteration 77, loss = 0.06310397\n",
      "Iteration 78, loss = 0.06309179\n",
      "Iteration 79, loss = 0.06253457\n",
      "Iteration 80, loss = 0.06212774\n",
      "Iteration 81, loss = 0.06186520\n",
      "Iteration 82, loss = 0.06167197\n",
      "Iteration 83, loss = 0.06146933\n",
      "Iteration 84, loss = 0.06119638\n",
      "Iteration 85, loss = 0.06106502\n",
      "Iteration 86, loss = 0.06078358\n",
      "Iteration 87, loss = 0.06060289\n",
      "Iteration 88, loss = 0.06056412\n",
      "Iteration 89, loss = 0.06033244\n",
      "Iteration 90, loss = 0.06011936\n",
      "Iteration 91, loss = 0.05996292\n",
      "Iteration 92, loss = 0.06016073\n",
      "Iteration 93, loss = 0.05977037\n",
      "Iteration 94, loss = 0.06035793\n",
      "Iteration 95, loss = 0.05967094\n",
      "Iteration 96, loss = 0.05958198\n",
      "Training loss did not improve more than tol=0.000100 for two consecutive epochs. Stopping.\n",
      "MLPRegressor  score:  0.8027709017197646\n",
      " \n",
      "first 10 predicted values:  [-1.54026987 -2.44516306 -2.52255805 -3.17089053 -1.66971695 -2.73709063\n",
      " -0.60868171 -1.59820723 -2.52255805 -3.10260193]\n",
      "first 10 values of target: \n",
      "52197   -1.47\n",
      "46842   -2.39\n",
      "60324   -1.82\n",
      "46239   -3.10\n",
      "37110   -1.98\n",
      "6288    -3.09\n",
      "39363   -0.41\n",
      "54777   -1.64\n",
      "57390   -2.63\n",
      "44403   -2.60\n",
      "Name: RawScore, dtype: float64\n",
      " \n",
      "mean of predicted of values:  -2.287455599707363  STD of predicted of values :  0.6916150190796957\n",
      "describe of target\n",
      "count    3202.000000\n",
      "mean       -2.285937\n",
      "std         0.774073\n",
      "min        -3.910000\n",
      "25%        -2.870000\n",
      "50%        -2.325000\n",
      "75%        -1.750000\n",
      "max         1.520000\n",
      "Name: RawScore, dtype: float64\n"
     ]
    },
    {
     "data": {
      "text/plain": [
       "array([-1.54026987, -2.44516306, -2.52255805, ..., -3.31121711,\n",
       "       -1.82777074, -2.32550932])"
      ]
     },
     "execution_count": 29,
     "metadata": {},
     "output_type": "execute_result"
    }
   ],
   "source": [
    "# Predicting and getting score\n",
    "ml_model_1(clf, 'MLPRegressor', 'RiskViolence', X_train, X_test, y_train, y_test, 'RawScore')"
   ]
  },
  {
   "cell_type": "code",
   "execution_count": null,
   "metadata": {
    "collapsed": true
   },
   "outputs": [],
   "source": [
    "# MLPRegressor  score:  0.8027709017197646"
   ]
  },
  {
   "cell_type": "code",
   "execution_count": 30,
   "metadata": {
    "scrolled": true
   },
   "outputs": [
    {
     "name": "stderr",
     "output_type": "stream",
     "text": [
      "C:\\Users\\rivas\\Anaconda3\\lib\\site-packages\\ipykernel_launcher.py:32: SettingWithCopyWarning: \n",
      "A value is trying to be set on a copy of a slice from a DataFrame.\n",
      "Try using .loc[row_indexer,col_indexer] = value instead\n",
      "\n",
      "See the caveats in the documentation: http://pandas.pydata.org/pandas-docs/stable/indexing.html#indexing-view-versus-copy\n",
      "C:\\Users\\rivas\\Anaconda3\\lib\\site-packages\\ipykernel_launcher.py:33: SettingWithCopyWarning: \n",
      "A value is trying to be set on a copy of a slice from a DataFrame.\n",
      "Try using .loc[row_indexer,col_indexer] = value instead\n",
      "\n",
      "See the caveats in the documentation: http://pandas.pydata.org/pandas-docs/stable/indexing.html#indexing-view-versus-copy\n",
      "C:\\Users\\rivas\\Anaconda3\\lib\\site-packages\\ipykernel_launcher.py:34: SettingWithCopyWarning: \n",
      "A value is trying to be set on a copy of a slice from a DataFrame.\n",
      "Try using .loc[row_indexer,col_indexer] = value instead\n",
      "\n",
      "See the caveats in the documentation: http://pandas.pydata.org/pandas-docs/stable/indexing.html#indexing-view-versus-copy\n"
     ]
    },
    {
     "name": "stdout",
     "output_type": "stream",
     "text": [
      "columns: Index(['Age', 'Sex_Code_Text_cat', 'Ethnic_Code_Text_cat', 'LegalStatus_cat',\n",
      "       'CustodyStatus_cat', 'MaritalStatus_cat',\n",
      "       'RecSupervisionLevelText_cat'],\n",
      "      dtype='object')\n",
      "Length for X_train: 12792  X_test: 3198  y_train: 12792  y_test: 3198\n"
     ]
    },
    {
     "name": "stderr",
     "output_type": "stream",
     "text": [
      "C:\\Users\\rivas\\Anaconda3\\lib\\site-packages\\ipykernel_launcher.py:35: SettingWithCopyWarning: \n",
      "A value is trying to be set on a copy of a slice from a DataFrame.\n",
      "Try using .loc[row_indexer,col_indexer] = value instead\n",
      "\n",
      "See the caveats in the documentation: http://pandas.pydata.org/pandas-docs/stable/indexing.html#indexing-view-versus-copy\n",
      "C:\\Users\\rivas\\Anaconda3\\lib\\site-packages\\ipykernel_launcher.py:36: SettingWithCopyWarning: \n",
      "A value is trying to be set on a copy of a slice from a DataFrame.\n",
      "Try using .loc[row_indexer,col_indexer] = value instead\n",
      "\n",
      "See the caveats in the documentation: http://pandas.pydata.org/pandas-docs/stable/indexing.html#indexing-view-versus-copy\n",
      "C:\\Users\\rivas\\Anaconda3\\lib\\site-packages\\ipykernel_launcher.py:37: SettingWithCopyWarning: \n",
      "A value is trying to be set on a copy of a slice from a DataFrame.\n",
      "Try using .loc[row_indexer,col_indexer] = value instead\n",
      "\n",
      "See the caveats in the documentation: http://pandas.pydata.org/pandas-docs/stable/indexing.html#indexing-view-versus-copy\n"
     ]
    }
   ],
   "source": [
    "# MLPRegressor - RiskRecidivism dataset target RawScore (22)\n",
    "X_train, X_test, y_train, y_test = prepare_data_for_ml_model_1(RiskRecidivism,22)"
   ]
  },
  {
   "cell_type": "code",
   "execution_count": 31,
   "metadata": {
    "scrolled": true
   },
   "outputs": [
    {
     "name": "stdout",
     "output_type": "stream",
     "text": [
      "Running  MLPRegressor  model for : RiskRecidivism  using target:  RawScore\n",
      "Iteration 1, loss = 0.41842957\n",
      "Iteration 2, loss = 0.29270101\n",
      "Iteration 3, loss = 0.24702363\n",
      "Iteration 4, loss = 0.22433292\n",
      "Iteration 5, loss = 0.21147496\n",
      "Iteration 6, loss = 0.20315780\n",
      "Iteration 7, loss = 0.19768554\n",
      "Iteration 8, loss = 0.19358528\n",
      "Iteration 9, loss = 0.19034151\n",
      "Iteration 10, loss = 0.18787049\n",
      "Iteration 11, loss = 0.18537620\n",
      "Iteration 12, loss = 0.18288852\n",
      "Iteration 13, loss = 0.17991468\n",
      "Iteration 14, loss = 0.17670857\n",
      "Iteration 15, loss = 0.17306491\n",
      "Iteration 16, loss = 0.16917553\n",
      "Iteration 17, loss = 0.16477607\n",
      "Iteration 18, loss = 0.16012081\n",
      "Iteration 19, loss = 0.15475526\n",
      "Iteration 20, loss = 0.14884879\n",
      "Iteration 21, loss = 0.14219008\n",
      "Iteration 22, loss = 0.13542189\n",
      "Iteration 23, loss = 0.12873640\n",
      "Iteration 24, loss = 0.12240455\n",
      "Iteration 25, loss = 0.11586731\n",
      "Iteration 26, loss = 0.11012900\n",
      "Iteration 27, loss = 0.10495653\n",
      "Iteration 28, loss = 0.09977685\n",
      "Iteration 29, loss = 0.09518898\n",
      "Iteration 30, loss = 0.09104803\n",
      "Iteration 31, loss = 0.08750743\n",
      "Iteration 32, loss = 0.08412252\n",
      "Iteration 33, loss = 0.08140625\n",
      "Iteration 34, loss = 0.07877365\n",
      "Iteration 35, loss = 0.07649188\n",
      "Iteration 36, loss = 0.07467948\n",
      "Iteration 37, loss = 0.07309185\n",
      "Iteration 38, loss = 0.07152239\n",
      "Iteration 39, loss = 0.07071716\n",
      "Iteration 40, loss = 0.06942174\n",
      "Iteration 41, loss = 0.06827176\n",
      "Iteration 42, loss = 0.06738717\n",
      "Iteration 43, loss = 0.06695470\n",
      "Iteration 44, loss = 0.06617900\n",
      "Iteration 45, loss = 0.06556159\n",
      "Iteration 46, loss = 0.06527323\n",
      "Iteration 47, loss = 0.06490376\n",
      "Iteration 48, loss = 0.06421037\n",
      "Iteration 49, loss = 0.06392090\n",
      "Iteration 50, loss = 0.06366438\n",
      "Iteration 51, loss = 0.06346360\n",
      "Iteration 52, loss = 0.06320473\n",
      "Iteration 53, loss = 0.06302446\n",
      "Iteration 54, loss = 0.06279022\n",
      "Iteration 55, loss = 0.06281581\n",
      "Iteration 56, loss = 0.06275706\n",
      "Iteration 57, loss = 0.06254147\n",
      "Iteration 58, loss = 0.06249307\n",
      "Iteration 59, loss = 0.06232736\n",
      "Iteration 60, loss = 0.06218251\n",
      "Iteration 61, loss = 0.06203782\n",
      "Iteration 62, loss = 0.06204877\n",
      "Iteration 63, loss = 0.06204427\n",
      "Iteration 64, loss = 0.06182157\n",
      "Iteration 65, loss = 0.06180565\n",
      "Iteration 66, loss = 0.06168683\n",
      "Iteration 67, loss = 0.06162151\n",
      "Iteration 68, loss = 0.06159691\n",
      "Iteration 69, loss = 0.06140928\n",
      "Iteration 70, loss = 0.06166939\n",
      "Iteration 71, loss = 0.06146546\n",
      "Iteration 72, loss = 0.06138978\n",
      "Training loss did not improve more than tol=0.000100 for two consecutive epochs. Stopping.\n",
      "MLPRegressor  score:  0.7810058734617599\n",
      " \n",
      "first 10 predicted values:  [-0.37503614 -1.10831782 -0.87651244 -0.94538775 -1.38269168 -0.73401109\n",
      "  0.25186868 -0.19518057 -1.09298732  0.36775961]\n",
      "first 10 values of target: \n",
      "45823   -0.82\n",
      "8320    -1.29\n",
      "53533   -0.90\n",
      "30400   -0.59\n",
      "34102   -0.40\n",
      "34975   -1.04\n",
      "54274    0.85\n",
      "5584    -0.25\n",
      "20173   -1.49\n",
      "28792    0.12\n",
      "Name: RawScore, dtype: float64\n",
      " \n",
      "mean of predicted of values:  -0.6098661379440118  STD of predicted of values :  0.6446124464022899\n",
      "describe of target\n",
      "count    3198.000000\n",
      "mean       -0.606867\n",
      "std         0.748348\n",
      "min        -2.410000\n",
      "25%        -1.170000\n",
      "50%        -0.640000\n",
      "75%        -0.060000\n",
      "max         2.360000\n",
      "Name: RawScore, dtype: float64\n"
     ]
    },
    {
     "data": {
      "text/plain": [
       "array([-0.37503614, -1.10831782, -0.87651244, ..., -0.32543266,\n",
       "       -0.21957393,  0.11252159])"
      ]
     },
     "execution_count": 31,
     "metadata": {},
     "output_type": "execute_result"
    }
   ],
   "source": [
    "# Predicting and getting score\n",
    "ml_model_1(clf, 'MLPRegressor', 'RiskRecidivism', X_train, X_test, y_train, y_test, 'RawScore')"
   ]
  },
  {
   "cell_type": "code",
   "execution_count": null,
   "metadata": {
    "collapsed": true
   },
   "outputs": [],
   "source": [
    "# MLPRegressor  score: 0.7810058734617599"
   ]
  },
  {
   "cell_type": "code",
   "execution_count": 32,
   "metadata": {},
   "outputs": [
    {
     "name": "stderr",
     "output_type": "stream",
     "text": [
      "C:\\Users\\rivas\\Anaconda3\\lib\\site-packages\\ipykernel_launcher.py:32: SettingWithCopyWarning: \n",
      "A value is trying to be set on a copy of a slice from a DataFrame.\n",
      "Try using .loc[row_indexer,col_indexer] = value instead\n",
      "\n",
      "See the caveats in the documentation: http://pandas.pydata.org/pandas-docs/stable/indexing.html#indexing-view-versus-copy\n",
      "C:\\Users\\rivas\\Anaconda3\\lib\\site-packages\\ipykernel_launcher.py:33: SettingWithCopyWarning: \n",
      "A value is trying to be set on a copy of a slice from a DataFrame.\n",
      "Try using .loc[row_indexer,col_indexer] = value instead\n",
      "\n",
      "See the caveats in the documentation: http://pandas.pydata.org/pandas-docs/stable/indexing.html#indexing-view-versus-copy\n",
      "C:\\Users\\rivas\\Anaconda3\\lib\\site-packages\\ipykernel_launcher.py:34: SettingWithCopyWarning: \n",
      "A value is trying to be set on a copy of a slice from a DataFrame.\n",
      "Try using .loc[row_indexer,col_indexer] = value instead\n",
      "\n",
      "See the caveats in the documentation: http://pandas.pydata.org/pandas-docs/stable/indexing.html#indexing-view-versus-copy\n"
     ]
    },
    {
     "name": "stdout",
     "output_type": "stream",
     "text": [
      "columns: Index(['Age', 'Sex_Code_Text_cat', 'Ethnic_Code_Text_cat', 'LegalStatus_cat',\n",
      "       'CustodyStatus_cat', 'MaritalStatus_cat',\n",
      "       'RecSupervisionLevelText_cat'],\n",
      "      dtype='object')\n",
      "Length for X_train: 12792  X_test: 3198  y_train: 12792  y_test: 3198\n"
     ]
    },
    {
     "name": "stderr",
     "output_type": "stream",
     "text": [
      "C:\\Users\\rivas\\Anaconda3\\lib\\site-packages\\ipykernel_launcher.py:35: SettingWithCopyWarning: \n",
      "A value is trying to be set on a copy of a slice from a DataFrame.\n",
      "Try using .loc[row_indexer,col_indexer] = value instead\n",
      "\n",
      "See the caveats in the documentation: http://pandas.pydata.org/pandas-docs/stable/indexing.html#indexing-view-versus-copy\n",
      "C:\\Users\\rivas\\Anaconda3\\lib\\site-packages\\ipykernel_launcher.py:36: SettingWithCopyWarning: \n",
      "A value is trying to be set on a copy of a slice from a DataFrame.\n",
      "Try using .loc[row_indexer,col_indexer] = value instead\n",
      "\n",
      "See the caveats in the documentation: http://pandas.pydata.org/pandas-docs/stable/indexing.html#indexing-view-versus-copy\n",
      "C:\\Users\\rivas\\Anaconda3\\lib\\site-packages\\ipykernel_launcher.py:37: SettingWithCopyWarning: \n",
      "A value is trying to be set on a copy of a slice from a DataFrame.\n",
      "Try using .loc[row_indexer,col_indexer] = value instead\n",
      "\n",
      "See the caveats in the documentation: http://pandas.pydata.org/pandas-docs/stable/indexing.html#indexing-view-versus-copy\n"
     ]
    }
   ],
   "source": [
    "#  Running again but using DecileScore as the target\n",
    "# MLPRegressor - RiskRecidivism dataset target DecileScore (23)\n",
    "X_train, X_test, y_train, y_test = prepare_data_for_ml_model_1(RiskRecidivism,23)"
   ]
  },
  {
   "cell_type": "code",
   "execution_count": 34,
   "metadata": {
    "collapsed": true
   },
   "outputs": [],
   "source": [
    "from sklearn.neural_network import MLPRegressor\n",
    "\n",
    "clf = MLPRegressor(alpha=0.001, hidden_layer_sizes = (10,), max_iter = 50000, \n",
    "                 activation = 'logistic', verbose = 'True', learning_rate = 'adaptive')"
   ]
  },
  {
   "cell_type": "code",
   "execution_count": 35,
   "metadata": {},
   "outputs": [
    {
     "name": "stdout",
     "output_type": "stream",
     "text": [
      "Running  MLPRegressor  model for : RiskRecidivism  using target:  DecileScore\n",
      "Iteration 1, loss = 11.78775294\n",
      "Iteration 2, loss = 9.21958446\n",
      "Iteration 3, loss = 7.69955060\n",
      "Iteration 4, loss = 6.59796895\n",
      "Iteration 5, loss = 5.77993157\n",
      "Iteration 6, loss = 5.17883421\n",
      "Iteration 7, loss = 4.74746191\n",
      "Iteration 8, loss = 4.44528761\n",
      "Iteration 9, loss = 4.24121745\n",
      "Iteration 10, loss = 4.10702135\n",
      "Iteration 11, loss = 4.02230069\n",
      "Iteration 12, loss = 3.97020988\n",
      "Iteration 13, loss = 3.93959344\n",
      "Iteration 14, loss = 3.92222898\n",
      "Iteration 15, loss = 3.91265495\n",
      "Iteration 16, loss = 3.90777043\n",
      "Iteration 17, loss = 3.90513815\n",
      "Iteration 18, loss = 3.90371857\n",
      "Iteration 19, loss = 3.90305097\n",
      "Iteration 20, loss = 3.90262280\n",
      "Iteration 21, loss = 3.90194459\n",
      "Iteration 22, loss = 3.82547197\n",
      "Iteration 23, loss = 3.69124297\n",
      "Iteration 24, loss = 3.59025562\n",
      "Iteration 25, loss = 3.50775103\n",
      "Iteration 26, loss = 3.43817124\n",
      "Iteration 27, loss = 3.37879564\n",
      "Iteration 28, loss = 3.32651485\n",
      "Iteration 29, loss = 3.28007130\n",
      "Iteration 30, loss = 3.24211947\n",
      "Iteration 31, loss = 3.20503591\n",
      "Iteration 32, loss = 3.17076983\n",
      "Iteration 33, loss = 3.14070431\n",
      "Iteration 34, loss = 3.11294891\n",
      "Iteration 35, loss = 3.08700094\n",
      "Iteration 36, loss = 3.06430013\n",
      "Iteration 37, loss = 3.04459251\n",
      "Iteration 38, loss = 3.02333551\n",
      "Iteration 39, loss = 3.00656843\n",
      "Iteration 40, loss = 2.99058764\n",
      "Iteration 41, loss = 2.97271740\n",
      "Iteration 42, loss = 2.95854435\n",
      "Iteration 43, loss = 2.94641208\n",
      "Iteration 44, loss = 2.93310336\n",
      "Iteration 45, loss = 2.92173433\n",
      "Iteration 46, loss = 2.90877979\n",
      "Iteration 47, loss = 2.90105566\n",
      "Iteration 48, loss = 2.89189145\n",
      "Iteration 49, loss = 2.88160454\n",
      "Iteration 50, loss = 2.87251730\n",
      "Iteration 51, loss = 2.86587289\n",
      "Iteration 52, loss = 2.85929370\n",
      "Iteration 53, loss = 2.85186982\n",
      "Iteration 54, loss = 2.84614117\n",
      "Iteration 55, loss = 2.83833910\n",
      "Iteration 56, loss = 2.83422571\n",
      "Iteration 57, loss = 2.82656602\n",
      "Iteration 58, loss = 2.82267227\n",
      "Iteration 59, loss = 2.81757326\n",
      "Iteration 60, loss = 2.81247251\n",
      "Iteration 61, loss = 2.80816487\n",
      "Iteration 62, loss = 2.80478341\n",
      "Iteration 63, loss = 2.80073048\n",
      "Iteration 64, loss = 2.79818452\n",
      "Iteration 65, loss = 2.79242788\n",
      "Iteration 66, loss = 2.78988932\n",
      "Iteration 67, loss = 2.78606223\n",
      "Iteration 68, loss = 2.78347208\n",
      "Iteration 69, loss = 2.78073528\n",
      "Iteration 70, loss = 2.77654529\n",
      "Iteration 71, loss = 2.77551317\n",
      "Iteration 72, loss = 2.77290222\n",
      "Iteration 73, loss = 2.77013118\n",
      "Iteration 74, loss = 2.76766916\n",
      "Iteration 75, loss = 2.76539130\n",
      "Iteration 76, loss = 2.76404888\n",
      "Iteration 77, loss = 2.76082631\n",
      "Iteration 78, loss = 2.75892613\n",
      "Iteration 79, loss = 2.75678088\n",
      "Iteration 80, loss = 2.75390204\n",
      "Iteration 81, loss = 2.75496460\n",
      "Iteration 82, loss = 2.75171885\n",
      "Iteration 83, loss = 2.74815181\n",
      "Iteration 84, loss = 2.74575754\n",
      "Iteration 85, loss = 2.74544617\n",
      "Iteration 86, loss = 2.74189665\n",
      "Iteration 87, loss = 2.73959903\n",
      "Iteration 88, loss = 2.73914408\n",
      "Iteration 89, loss = 2.73667810\n",
      "Iteration 90, loss = 2.73446272\n",
      "Iteration 91, loss = 2.73374942\n",
      "Iteration 92, loss = 2.73098408\n",
      "Iteration 93, loss = 2.73043979\n",
      "Iteration 94, loss = 2.72832730\n",
      "Iteration 95, loss = 2.72641703\n",
      "Iteration 96, loss = 2.72363690\n",
      "Iteration 97, loss = 2.72492457\n",
      "Iteration 98, loss = 2.72028859\n",
      "Iteration 99, loss = 2.71787059\n",
      "Iteration 100, loss = 2.71957738\n",
      "Iteration 101, loss = 2.71507798\n",
      "Iteration 102, loss = 2.71446097\n",
      "Iteration 103, loss = 2.71224561\n",
      "Iteration 104, loss = 2.71000177\n",
      "Iteration 105, loss = 2.70940090\n",
      "Iteration 106, loss = 2.70962635\n",
      "Iteration 107, loss = 2.70637294\n",
      "Iteration 108, loss = 2.70649582\n",
      "Iteration 109, loss = 2.70368878\n",
      "Iteration 110, loss = 2.70147955\n",
      "Iteration 111, loss = 2.70125996\n",
      "Iteration 112, loss = 2.70037488\n",
      "Iteration 113, loss = 2.69717964\n",
      "Iteration 114, loss = 2.69519237\n",
      "Iteration 115, loss = 2.69346195\n",
      "Iteration 116, loss = 2.69308415\n",
      "Iteration 117, loss = 2.69242055\n",
      "Iteration 118, loss = 2.68972762\n",
      "Iteration 119, loss = 2.68828576\n",
      "Iteration 120, loss = 2.68938840\n",
      "Iteration 121, loss = 2.68562939\n",
      "Iteration 122, loss = 2.68471849\n",
      "Iteration 123, loss = 2.68255930\n",
      "Iteration 124, loss = 2.68117198\n",
      "Iteration 125, loss = 2.67425504\n",
      "Iteration 126, loss = 2.64871042\n",
      "Iteration 127, loss = 2.60471949\n",
      "Iteration 128, loss = 2.56110718\n",
      "Iteration 129, loss = 2.51165139\n",
      "Iteration 130, loss = 2.46082188\n",
      "Iteration 131, loss = 2.40870357\n",
      "Iteration 132, loss = 2.35630655\n",
      "Iteration 133, loss = 2.29747196\n",
      "Iteration 134, loss = 2.24250918\n",
      "Iteration 135, loss = 2.18523262\n",
      "Iteration 136, loss = 2.13070833\n",
      "Iteration 137, loss = 2.07414855\n",
      "Iteration 138, loss = 2.01881550\n",
      "Iteration 139, loss = 1.96600638\n",
      "Iteration 140, loss = 1.91406596\n",
      "Iteration 141, loss = 1.86513249\n",
      "Iteration 142, loss = 1.81820788\n",
      "Iteration 143, loss = 1.77340857\n",
      "Iteration 144, loss = 1.73054340\n",
      "Iteration 145, loss = 1.68947692\n",
      "Iteration 146, loss = 1.65078510\n",
      "Iteration 147, loss = 1.61293176\n",
      "Iteration 148, loss = 1.57679977\n",
      "Iteration 149, loss = 1.54322244\n",
      "Iteration 150, loss = 1.51071673\n",
      "Iteration 151, loss = 1.47983826\n",
      "Iteration 152, loss = 1.45003548\n",
      "Iteration 153, loss = 1.42017387\n",
      "Iteration 154, loss = 1.39387151\n",
      "Iteration 155, loss = 1.36706007\n",
      "Iteration 156, loss = 1.34136438\n",
      "Iteration 157, loss = 1.31673270\n",
      "Iteration 158, loss = 1.29385594\n",
      "Iteration 159, loss = 1.27087919\n",
      "Iteration 160, loss = 1.24990630\n",
      "Iteration 161, loss = 1.22888205\n",
      "Iteration 162, loss = 1.20861534\n",
      "Iteration 163, loss = 1.19028314\n",
      "Iteration 164, loss = 1.17110040\n",
      "Iteration 165, loss = 1.15360953\n",
      "Iteration 166, loss = 1.13498303\n",
      "Iteration 167, loss = 1.11887452\n",
      "Iteration 168, loss = 1.10205433\n",
      "Iteration 169, loss = 1.08677240\n",
      "Iteration 170, loss = 1.07155816\n",
      "Iteration 171, loss = 1.05695390\n",
      "Iteration 172, loss = 1.04357880\n",
      "Iteration 173, loss = 1.02975016\n",
      "Iteration 174, loss = 1.01589459\n",
      "Iteration 175, loss = 1.00265378\n",
      "Iteration 176, loss = 0.99003051\n",
      "Iteration 177, loss = 0.97854517\n",
      "Iteration 178, loss = 0.96592859\n",
      "Iteration 179, loss = 0.95522029\n",
      "Iteration 180, loss = 0.94438703\n",
      "Iteration 181, loss = 0.93339551\n",
      "Iteration 182, loss = 0.92382621\n",
      "Iteration 183, loss = 0.91073956\n",
      "Iteration 184, loss = 0.88917728\n",
      "Iteration 185, loss = 0.87744973\n",
      "Iteration 186, loss = 0.86013390\n",
      "Iteration 187, loss = 0.84203152\n",
      "Iteration 188, loss = 0.82952999\n",
      "Iteration 189, loss = 0.81907524\n",
      "Iteration 190, loss = 0.80875533\n",
      "Iteration 191, loss = 0.79939271\n",
      "Iteration 192, loss = 0.79035547\n",
      "Iteration 193, loss = 0.78195434\n",
      "Iteration 194, loss = 0.77371069\n",
      "Iteration 195, loss = 0.76545989\n",
      "Iteration 196, loss = 0.75755096\n",
      "Iteration 197, loss = 0.74993077\n",
      "Iteration 198, loss = 0.74487637\n",
      "Iteration 199, loss = 0.73778252\n",
      "Iteration 200, loss = 0.73249103\n",
      "Iteration 201, loss = 0.72654283\n",
      "Iteration 202, loss = 0.72143495\n",
      "Iteration 203, loss = 0.71633113\n",
      "Iteration 204, loss = 0.71243015\n",
      "Iteration 205, loss = 0.70839317\n",
      "Iteration 206, loss = 0.70411456\n",
      "Iteration 207, loss = 0.70117787\n",
      "Iteration 208, loss = 0.69805213\n",
      "Iteration 209, loss = 0.69354290\n",
      "Iteration 210, loss = 0.69134541\n",
      "Iteration 211, loss = 0.68822354\n",
      "Iteration 212, loss = 0.68578352\n",
      "Iteration 213, loss = 0.68383344\n",
      "Iteration 214, loss = 0.68109325\n",
      "Iteration 215, loss = 0.67922862\n",
      "Iteration 216, loss = 0.67742698\n",
      "Iteration 217, loss = 0.67644756\n",
      "Iteration 218, loss = 0.67520268\n",
      "Iteration 219, loss = 0.67239775\n",
      "Iteration 220, loss = 0.67113831\n",
      "Iteration 221, loss = 0.67086867\n",
      "Iteration 222, loss = 0.66855600\n",
      "Iteration 223, loss = 0.66845496\n",
      "Iteration 224, loss = 0.66707295\n",
      "Iteration 225, loss = 0.66632449\n",
      "Iteration 226, loss = 0.66559102\n",
      "Iteration 227, loss = 0.66503220\n",
      "Iteration 228, loss = 0.66390377\n",
      "Iteration 229, loss = 0.66394508\n",
      "Iteration 230, loss = 0.66207034\n",
      "Iteration 231, loss = 0.66209311\n",
      "Iteration 232, loss = 0.66067557\n",
      "Iteration 233, loss = 0.66065822\n",
      "Iteration 234, loss = 0.65977947\n",
      "Iteration 235, loss = 0.65971775\n",
      "Iteration 236, loss = 0.65861676\n",
      "Iteration 237, loss = 0.65958517\n",
      "Iteration 238, loss = 0.65881938\n",
      "Iteration 239, loss = 0.65734975\n",
      "Iteration 240, loss = 0.65750704\n",
      "Iteration 241, loss = 0.65647239\n",
      "Iteration 242, loss = 0.65662694\n",
      "Iteration 243, loss = 0.65503099\n",
      "Iteration 244, loss = 0.65567916\n",
      "Iteration 245, loss = 0.65520288\n",
      "Iteration 246, loss = 0.65399309\n",
      "Iteration 247, loss = 0.65414857\n",
      "Iteration 248, loss = 0.65340524\n",
      "Iteration 249, loss = 0.65352429\n",
      "Iteration 250, loss = 0.65280965\n",
      "Iteration 251, loss = 0.65265967\n",
      "Iteration 252, loss = 0.65138058\n",
      "Iteration 253, loss = 0.65132598\n",
      "Iteration 254, loss = 0.65182211\n",
      "Iteration 255, loss = 0.65042130\n"
     ]
    },
    {
     "name": "stdout",
     "output_type": "stream",
     "text": [
      "Iteration 256, loss = 0.65038393\n",
      "Iteration 257, loss = 0.65009711\n",
      "Iteration 258, loss = 0.64875851\n",
      "Iteration 259, loss = 0.64744780\n",
      "Iteration 260, loss = 0.64846323\n",
      "Iteration 261, loss = 0.64820546\n",
      "Iteration 262, loss = 0.64779234\n",
      "Training loss did not improve more than tol=0.000100 for two consecutive epochs. Stopping.\n",
      "MLPRegressor  score:  0.8319946400998878\n",
      " \n",
      "first 10 predicted values:  [6.0084011  9.06406658 9.30839838 2.97928132 6.60020398 5.13320797\n",
      " 2.94352241 2.40648588 5.7049092  9.13720043]\n",
      "first 10 values of target: \n",
      "14212     6\n",
      "39214     9\n",
      "1645      9\n",
      "44221     4\n",
      "19546     7\n",
      "25141     4\n",
      "55531     3\n",
      "26647     3\n",
      "42871     7\n",
      "18631    10\n",
      "Name: DecileScore, dtype: int64\n",
      " \n",
      "mean of predicted of values:  4.78076602612445  STD of predicted of values :  2.5263634973759888\n",
      "describe of target\n",
      "count    3198.000000\n",
      "mean        4.842402\n",
      "std         2.738674\n",
      "min         1.000000\n",
      "25%         2.000000\n",
      "50%         5.000000\n",
      "75%         7.000000\n",
      "max        10.000000\n",
      "Name: DecileScore, dtype: float64\n"
     ]
    }
   ],
   "source": [
    "# Predicting and getting score\n",
    "y_pred_MLPR = ml_model_1(clf, 'MLPRegressor', 'RiskRecidivism', X_train, X_test, y_train, y_test, 'DecileScore')"
   ]
  },
  {
   "cell_type": "code",
   "execution_count": null,
   "metadata": {
    "collapsed": true
   },
   "outputs": [],
   "source": [
    "# MLPRegressor  score:  0.8319946400998878"
   ]
  },
  {
   "cell_type": "markdown",
   "metadata": {},
   "source": [
    "# Test Bias by substituting 'Caucasian' to 'African-American' in the RiskRecidivism dataset"
   ]
  },
  {
   "cell_type": "code",
   "execution_count": 36,
   "metadata": {
    "collapsed": true
   },
   "outputs": [],
   "source": [
    "# getting subset data from RiskRecidivism dataset\n",
    "whiteRR = RiskRecidivism.loc[RiskRecidivism['Ethnic_Code_Text'] == 'Caucasian']\n",
    "blackRR = RiskRecidivism.loc[RiskRecidivism['Ethnic_Code_Text'] == 'Caucasian']"
   ]
  },
  {
   "cell_type": "code",
   "execution_count": 53,
   "metadata": {
    "collapsed": true
   },
   "outputs": [],
   "source": [
    "# getting subset data from RiskRecidivism dataset\n",
    "whiteRR = RiskRecidivism.loc[RiskRecidivism['Ethnic_Code_Text'] == 'Caucasian']\n",
    "blackRR = RiskRecidivism.loc[RiskRecidivism['Ethnic_Code_Text'] == 'African-American']"
   ]
  },
  {
   "cell_type": "code",
   "execution_count": 37,
   "metadata": {
    "scrolled": true
   },
   "outputs": [
    {
     "name": "stderr",
     "output_type": "stream",
     "text": [
      "C:\\Users\\rivas\\Anaconda3\\lib\\site-packages\\pandas\\core\\indexing.py:517: SettingWithCopyWarning: \n",
      "A value is trying to be set on a copy of a slice from a DataFrame.\n",
      "Try using .loc[row_indexer,col_indexer] = value instead\n",
      "\n",
      "See the caveats in the documentation: http://pandas.pydata.org/pandas-docs/stable/indexing.html#indexing-view-versus-copy\n",
      "  self.obj[item] = s\n"
     ]
    }
   ],
   "source": [
    "# substituting 'Caucasian' to 'African-American' in the dataset\n",
    "blackRR.loc[blackRR['Ethnic_Code_Text'] != 'African-American', 'Ethnic_Code_Text'] = 'African-American'"
   ]
  },
  {
   "cell_type": "code",
   "execution_count": 38,
   "metadata": {},
   "outputs": [
    {
     "data": {
      "text/plain": [
       "Caucasian    5092\n",
       "Name: Ethnic_Code_Text, dtype: int64"
      ]
     },
     "execution_count": 38,
     "metadata": {},
     "output_type": "execute_result"
    }
   ],
   "source": [
    "# Validating data\n",
    "pd.value_counts(whiteRR['Ethnic_Code_Text'])"
   ]
  },
  {
   "cell_type": "code",
   "execution_count": 39,
   "metadata": {},
   "outputs": [
    {
     "data": {
      "text/plain": [
       "African-American    5092\n",
       "Name: Ethnic_Code_Text, dtype: int64"
      ]
     },
     "execution_count": 39,
     "metadata": {},
     "output_type": "execute_result"
    }
   ],
   "source": [
    "pd.value_counts(blackRR['Ethnic_Code_Text'])"
   ]
  },
  {
   "cell_type": "code",
   "execution_count": 54,
   "metadata": {
    "collapsed": true
   },
   "outputs": [],
   "source": [
    "from sklearn.neural_network import MLPRegressor\n",
    "\n",
    "clf = MLPRegressor(alpha=0.001, hidden_layer_sizes = (10,), max_iter = 50000, \n",
    "                 activation = 'logistic', verbose = 'True', learning_rate = 'adaptive')"
   ]
  },
  {
   "cell_type": "code",
   "execution_count": null,
   "metadata": {
    "collapsed": true
   },
   "outputs": [],
   "source": [
    "# Using the DecileScore for the target"
   ]
  },
  {
   "cell_type": "code",
   "execution_count": 55,
   "metadata": {},
   "outputs": [
    {
     "name": "stderr",
     "output_type": "stream",
     "text": [
      "C:\\Users\\rivas\\Anaconda3\\lib\\site-packages\\ipykernel_launcher.py:32: SettingWithCopyWarning: \n",
      "A value is trying to be set on a copy of a slice from a DataFrame.\n",
      "Try using .loc[row_indexer,col_indexer] = value instead\n",
      "\n",
      "See the caveats in the documentation: http://pandas.pydata.org/pandas-docs/stable/indexing.html#indexing-view-versus-copy\n",
      "C:\\Users\\rivas\\Anaconda3\\lib\\site-packages\\ipykernel_launcher.py:33: SettingWithCopyWarning: \n",
      "A value is trying to be set on a copy of a slice from a DataFrame.\n",
      "Try using .loc[row_indexer,col_indexer] = value instead\n",
      "\n",
      "See the caveats in the documentation: http://pandas.pydata.org/pandas-docs/stable/indexing.html#indexing-view-versus-copy\n",
      "C:\\Users\\rivas\\Anaconda3\\lib\\site-packages\\ipykernel_launcher.py:34: SettingWithCopyWarning: \n",
      "A value is trying to be set on a copy of a slice from a DataFrame.\n",
      "Try using .loc[row_indexer,col_indexer] = value instead\n",
      "\n",
      "See the caveats in the documentation: http://pandas.pydata.org/pandas-docs/stable/indexing.html#indexing-view-versus-copy\n"
     ]
    },
    {
     "name": "stdout",
     "output_type": "stream",
     "text": [
      "columns: Index(['Age', 'Sex_Code_Text_cat', 'Ethnic_Code_Text_cat', 'LegalStatus_cat',\n",
      "       'CustodyStatus_cat', 'MaritalStatus_cat',\n",
      "       'RecSupervisionLevelText_cat'],\n",
      "      dtype='object')\n",
      "Length for X_train: 12792  X_test: 3198  y_train: 12792  y_test: 3198\n"
     ]
    },
    {
     "name": "stderr",
     "output_type": "stream",
     "text": [
      "C:\\Users\\rivas\\Anaconda3\\lib\\site-packages\\ipykernel_launcher.py:35: SettingWithCopyWarning: \n",
      "A value is trying to be set on a copy of a slice from a DataFrame.\n",
      "Try using .loc[row_indexer,col_indexer] = value instead\n",
      "\n",
      "See the caveats in the documentation: http://pandas.pydata.org/pandas-docs/stable/indexing.html#indexing-view-versus-copy\n",
      "C:\\Users\\rivas\\Anaconda3\\lib\\site-packages\\ipykernel_launcher.py:36: SettingWithCopyWarning: \n",
      "A value is trying to be set on a copy of a slice from a DataFrame.\n",
      "Try using .loc[row_indexer,col_indexer] = value instead\n",
      "\n",
      "See the caveats in the documentation: http://pandas.pydata.org/pandas-docs/stable/indexing.html#indexing-view-versus-copy\n",
      "C:\\Users\\rivas\\Anaconda3\\lib\\site-packages\\ipykernel_launcher.py:37: SettingWithCopyWarning: \n",
      "A value is trying to be set on a copy of a slice from a DataFrame.\n",
      "Try using .loc[row_indexer,col_indexer] = value instead\n",
      "\n",
      "See the caveats in the documentation: http://pandas.pydata.org/pandas-docs/stable/indexing.html#indexing-view-versus-copy\n"
     ]
    }
   ],
   "source": [
    "# Prepare data for model for RiskRecidivism dataset and Decile Score for Target\n",
    "X_train, X_test, y_train, y_test = prepare_data_for_ml_model_1(RiskRecidivism,23)"
   ]
  },
  {
   "cell_type": "code",
   "execution_count": 56,
   "metadata": {},
   "outputs": [
    {
     "name": "stderr",
     "output_type": "stream",
     "text": [
      "C:\\Users\\rivas\\Anaconda3\\lib\\site-packages\\ipykernel_launcher.py:32: SettingWithCopyWarning: \n",
      "A value is trying to be set on a copy of a slice from a DataFrame.\n",
      "Try using .loc[row_indexer,col_indexer] = value instead\n",
      "\n",
      "See the caveats in the documentation: http://pandas.pydata.org/pandas-docs/stable/indexing.html#indexing-view-versus-copy\n",
      "C:\\Users\\rivas\\Anaconda3\\lib\\site-packages\\ipykernel_launcher.py:33: SettingWithCopyWarning: \n",
      "A value is trying to be set on a copy of a slice from a DataFrame.\n",
      "Try using .loc[row_indexer,col_indexer] = value instead\n",
      "\n",
      "See the caveats in the documentation: http://pandas.pydata.org/pandas-docs/stable/indexing.html#indexing-view-versus-copy\n",
      "C:\\Users\\rivas\\Anaconda3\\lib\\site-packages\\ipykernel_launcher.py:34: SettingWithCopyWarning: \n",
      "A value is trying to be set on a copy of a slice from a DataFrame.\n",
      "Try using .loc[row_indexer,col_indexer] = value instead\n",
      "\n",
      "See the caveats in the documentation: http://pandas.pydata.org/pandas-docs/stable/indexing.html#indexing-view-versus-copy\n"
     ]
    },
    {
     "name": "stdout",
     "output_type": "stream",
     "text": [
      "columns: Index(['Age', 'Sex_Code_Text_cat', 'Ethnic_Code_Text_cat', 'LegalStatus_cat',\n",
      "       'CustodyStatus_cat', 'MaritalStatus_cat',\n",
      "       'RecSupervisionLevelText_cat'],\n",
      "      dtype='object')\n",
      "Length for X_train: 4073  X_test: 1019  y_train: 4073  y_test: 1019\n"
     ]
    },
    {
     "name": "stderr",
     "output_type": "stream",
     "text": [
      "C:\\Users\\rivas\\Anaconda3\\lib\\site-packages\\ipykernel_launcher.py:35: SettingWithCopyWarning: \n",
      "A value is trying to be set on a copy of a slice from a DataFrame.\n",
      "Try using .loc[row_indexer,col_indexer] = value instead\n",
      "\n",
      "See the caveats in the documentation: http://pandas.pydata.org/pandas-docs/stable/indexing.html#indexing-view-versus-copy\n",
      "C:\\Users\\rivas\\Anaconda3\\lib\\site-packages\\ipykernel_launcher.py:36: SettingWithCopyWarning: \n",
      "A value is trying to be set on a copy of a slice from a DataFrame.\n",
      "Try using .loc[row_indexer,col_indexer] = value instead\n",
      "\n",
      "See the caveats in the documentation: http://pandas.pydata.org/pandas-docs/stable/indexing.html#indexing-view-versus-copy\n",
      "C:\\Users\\rivas\\Anaconda3\\lib\\site-packages\\ipykernel_launcher.py:37: SettingWithCopyWarning: \n",
      "A value is trying to be set on a copy of a slice from a DataFrame.\n",
      "Try using .loc[row_indexer,col_indexer] = value instead\n",
      "\n",
      "See the caveats in the documentation: http://pandas.pydata.org/pandas-docs/stable/indexing.html#indexing-view-versus-copy\n"
     ]
    }
   ],
   "source": [
    "# Prepare data for model for whiteRR dataset \n",
    "Xwht_train, Xwht_test, ywht_train, ywht_test =  prepare_data_for_ml_model_1(whiteRR,23)"
   ]
  },
  {
   "cell_type": "code",
   "execution_count": 57,
   "metadata": {},
   "outputs": [
    {
     "name": "stderr",
     "output_type": "stream",
     "text": [
      "C:\\Users\\rivas\\Anaconda3\\lib\\site-packages\\ipykernel_launcher.py:32: SettingWithCopyWarning: \n",
      "A value is trying to be set on a copy of a slice from a DataFrame.\n",
      "Try using .loc[row_indexer,col_indexer] = value instead\n",
      "\n",
      "See the caveats in the documentation: http://pandas.pydata.org/pandas-docs/stable/indexing.html#indexing-view-versus-copy\n",
      "C:\\Users\\rivas\\Anaconda3\\lib\\site-packages\\ipykernel_launcher.py:33: SettingWithCopyWarning: \n",
      "A value is trying to be set on a copy of a slice from a DataFrame.\n",
      "Try using .loc[row_indexer,col_indexer] = value instead\n",
      "\n",
      "See the caveats in the documentation: http://pandas.pydata.org/pandas-docs/stable/indexing.html#indexing-view-versus-copy\n",
      "C:\\Users\\rivas\\Anaconda3\\lib\\site-packages\\ipykernel_launcher.py:34: SettingWithCopyWarning: \n",
      "A value is trying to be set on a copy of a slice from a DataFrame.\n",
      "Try using .loc[row_indexer,col_indexer] = value instead\n",
      "\n",
      "See the caveats in the documentation: http://pandas.pydata.org/pandas-docs/stable/indexing.html#indexing-view-versus-copy\n",
      "C:\\Users\\rivas\\Anaconda3\\lib\\site-packages\\ipykernel_launcher.py:35: SettingWithCopyWarning: \n",
      "A value is trying to be set on a copy of a slice from a DataFrame.\n",
      "Try using .loc[row_indexer,col_indexer] = value instead\n",
      "\n",
      "See the caveats in the documentation: http://pandas.pydata.org/pandas-docs/stable/indexing.html#indexing-view-versus-copy\n"
     ]
    },
    {
     "name": "stdout",
     "output_type": "stream",
     "text": [
      "columns: Index(['Age', 'Sex_Code_Text_cat', 'Ethnic_Code_Text_cat', 'LegalStatus_cat',\n",
      "       'CustodyStatus_cat', 'MaritalStatus_cat',\n",
      "       'RecSupervisionLevelText_cat'],\n",
      "      dtype='object')\n",
      "Length for X_train: 6173  X_test: 1544  y_train: 6173  y_test: 1544\n"
     ]
    },
    {
     "name": "stderr",
     "output_type": "stream",
     "text": [
      "C:\\Users\\rivas\\Anaconda3\\lib\\site-packages\\ipykernel_launcher.py:36: SettingWithCopyWarning: \n",
      "A value is trying to be set on a copy of a slice from a DataFrame.\n",
      "Try using .loc[row_indexer,col_indexer] = value instead\n",
      "\n",
      "See the caveats in the documentation: http://pandas.pydata.org/pandas-docs/stable/indexing.html#indexing-view-versus-copy\n",
      "C:\\Users\\rivas\\Anaconda3\\lib\\site-packages\\ipykernel_launcher.py:37: SettingWithCopyWarning: \n",
      "A value is trying to be set on a copy of a slice from a DataFrame.\n",
      "Try using .loc[row_indexer,col_indexer] = value instead\n",
      "\n",
      "See the caveats in the documentation: http://pandas.pydata.org/pandas-docs/stable/indexing.html#indexing-view-versus-copy\n"
     ]
    }
   ],
   "source": [
    "# Prepare data for model for blackRR dataset \n",
    "Xblk_train, Xblk_test, yblk_train, yblk_test = prepare_data_for_ml_model_1(blackRR,23)"
   ]
  },
  {
   "cell_type": "code",
   "execution_count": 58,
   "metadata": {},
   "outputs": [
    {
     "name": "stdout",
     "output_type": "stream",
     "text": [
      "Iteration 1, loss = 12.63920810\n",
      "Iteration 2, loss = 9.78284394\n",
      "Iteration 3, loss = 7.35773799\n",
      "Iteration 4, loss = 6.37894617\n",
      "Iteration 5, loss = 5.70048607\n",
      "Iteration 6, loss = 5.00850539\n",
      "Iteration 7, loss = 4.32150505\n",
      "Iteration 8, loss = 4.09223195\n",
      "Iteration 9, loss = 3.97759169\n",
      "Iteration 10, loss = 3.91739161\n",
      "Iteration 11, loss = 3.88672338\n",
      "Iteration 12, loss = 3.87111742\n",
      "Iteration 13, loss = 3.86349723\n",
      "Iteration 14, loss = 3.85732019\n",
      "Iteration 15, loss = 3.82577161\n",
      "Iteration 16, loss = 3.60962772\n",
      "Iteration 17, loss = 3.48058386\n",
      "Iteration 18, loss = 3.39851344\n",
      "Iteration 19, loss = 3.33861617\n",
      "Iteration 20, loss = 3.29143743\n",
      "Iteration 21, loss = 3.24992676\n",
      "Iteration 22, loss = 3.21436068\n",
      "Iteration 23, loss = 3.17968292\n",
      "Iteration 24, loss = 3.14859466\n",
      "Iteration 25, loss = 3.11922178\n",
      "Iteration 26, loss = 3.09060809\n",
      "Iteration 27, loss = 3.06308531\n",
      "Iteration 28, loss = 3.03807961\n",
      "Iteration 29, loss = 3.01278013\n",
      "Iteration 30, loss = 2.98971368\n",
      "Iteration 31, loss = 2.96827329\n",
      "Iteration 32, loss = 2.94725650\n",
      "Iteration 33, loss = 2.92792351\n",
      "Iteration 34, loss = 2.91003490\n",
      "Iteration 35, loss = 2.89299577\n",
      "Iteration 36, loss = 2.87549678\n",
      "Iteration 37, loss = 2.86229727\n",
      "Iteration 38, loss = 2.84742175\n",
      "Iteration 39, loss = 2.83388436\n",
      "Iteration 40, loss = 2.82302592\n",
      "Iteration 41, loss = 2.81085709\n",
      "Iteration 42, loss = 2.80151549\n",
      "Iteration 43, loss = 2.79217932\n",
      "Iteration 44, loss = 2.78263398\n",
      "Iteration 45, loss = 2.77444576\n",
      "Iteration 46, loss = 2.76746485\n",
      "Iteration 47, loss = 2.76104322\n",
      "Iteration 48, loss = 2.75389676\n",
      "Iteration 49, loss = 2.74847234\n",
      "Iteration 50, loss = 2.74388226\n",
      "Iteration 51, loss = 2.73835985\n",
      "Iteration 52, loss = 2.73472833\n",
      "Iteration 53, loss = 2.72951068\n",
      "Iteration 54, loss = 2.72497193\n",
      "Iteration 55, loss = 2.72269024\n",
      "Iteration 56, loss = 2.71636398\n",
      "Iteration 57, loss = 2.71321809\n",
      "Iteration 58, loss = 2.70927849\n",
      "Iteration 59, loss = 2.70186792\n",
      "Iteration 60, loss = 2.69762892\n",
      "Iteration 61, loss = 2.69144356\n",
      "Iteration 62, loss = 2.68645140\n",
      "Iteration 63, loss = 2.67999761\n",
      "Iteration 64, loss = 2.67505273\n",
      "Iteration 65, loss = 2.66823093\n",
      "Iteration 66, loss = 2.66212549\n",
      "Iteration 67, loss = 2.65258803\n",
      "Iteration 68, loss = 2.64418420\n",
      "Iteration 69, loss = 2.63478198\n",
      "Iteration 70, loss = 2.62295346\n",
      "Iteration 71, loss = 2.61136854\n",
      "Iteration 72, loss = 2.59774465\n",
      "Iteration 73, loss = 2.58117932\n",
      "Iteration 74, loss = 2.56509318\n",
      "Iteration 75, loss = 2.54391166\n",
      "Iteration 76, loss = 2.52497973\n",
      "Iteration 77, loss = 2.50064012\n",
      "Iteration 78, loss = 2.47837249\n",
      "Iteration 79, loss = 2.45347583\n",
      "Iteration 80, loss = 2.42837985\n",
      "Iteration 81, loss = 2.40370891\n",
      "Iteration 82, loss = 2.37987958\n",
      "Iteration 83, loss = 2.35645799\n",
      "Iteration 84, loss = 2.33300396\n",
      "Iteration 85, loss = 2.31024305\n",
      "Iteration 86, loss = 2.27450338\n",
      "Iteration 87, loss = 2.21609699\n",
      "Iteration 88, loss = 2.15927351\n",
      "Iteration 89, loss = 2.10303004\n",
      "Iteration 90, loss = 2.05222791\n",
      "Iteration 91, loss = 2.00030026\n",
      "Iteration 92, loss = 1.95086835\n",
      "Iteration 93, loss = 1.90610207\n",
      "Iteration 94, loss = 1.86051047\n",
      "Iteration 95, loss = 1.81786593\n",
      "Iteration 96, loss = 1.77817166\n",
      "Iteration 97, loss = 1.73599041\n",
      "Iteration 98, loss = 1.69579525\n",
      "Iteration 99, loss = 1.65948241\n",
      "Iteration 100, loss = 1.61856971\n",
      "Iteration 101, loss = 1.58497435\n",
      "Iteration 102, loss = 1.55029436\n",
      "Iteration 103, loss = 1.51539768\n",
      "Iteration 104, loss = 1.48358651\n",
      "Iteration 105, loss = 1.45124459\n",
      "Iteration 106, loss = 1.42176047\n",
      "Iteration 107, loss = 1.39367132\n",
      "Iteration 108, loss = 1.36383865\n",
      "Iteration 109, loss = 1.33746286\n",
      "Iteration 110, loss = 1.31188404\n",
      "Iteration 111, loss = 1.28455505\n",
      "Iteration 112, loss = 1.26051438\n",
      "Iteration 113, loss = 1.23709511\n",
      "Iteration 114, loss = 1.21430750\n",
      "Iteration 115, loss = 1.19256104\n",
      "Iteration 116, loss = 1.17141579\n",
      "Iteration 117, loss = 1.15026838\n",
      "Iteration 118, loss = 1.13011597\n",
      "Iteration 119, loss = 1.10921312\n",
      "Iteration 120, loss = 1.08871521\n",
      "Iteration 121, loss = 1.07040511\n",
      "Iteration 122, loss = 1.05418641\n",
      "Iteration 123, loss = 1.03813977\n",
      "Iteration 124, loss = 1.02016081\n",
      "Iteration 125, loss = 1.00433156\n",
      "Iteration 126, loss = 0.99011049\n",
      "Iteration 127, loss = 0.97469060\n",
      "Iteration 128, loss = 0.96269817\n",
      "Iteration 129, loss = 0.94852874\n",
      "Iteration 130, loss = 0.93549222\n",
      "Iteration 131, loss = 0.92323280\n",
      "Iteration 132, loss = 0.91112183\n",
      "Iteration 133, loss = 0.89986444\n",
      "Iteration 134, loss = 0.88864205\n",
      "Iteration 135, loss = 0.87850097\n",
      "Iteration 136, loss = 0.86901529\n",
      "Iteration 137, loss = 0.85823043\n",
      "Iteration 138, loss = 0.85003192\n",
      "Iteration 139, loss = 0.84034423\n",
      "Iteration 140, loss = 0.83288692\n",
      "Iteration 141, loss = 0.82327201\n",
      "Iteration 142, loss = 0.81529582\n",
      "Iteration 143, loss = 0.80823539\n",
      "Iteration 144, loss = 0.80103851\n",
      "Iteration 145, loss = 0.79467107\n",
      "Iteration 146, loss = 0.78689803\n",
      "Iteration 147, loss = 0.78051911\n",
      "Iteration 148, loss = 0.77448126\n",
      "Iteration 149, loss = 0.76974124\n",
      "Iteration 150, loss = 0.76369509\n",
      "Iteration 151, loss = 0.75886196\n",
      "Iteration 152, loss = 0.75365425\n",
      "Iteration 153, loss = 0.74865514\n",
      "Iteration 154, loss = 0.74397356\n",
      "Iteration 155, loss = 0.73988455\n",
      "Iteration 156, loss = 0.73599186\n",
      "Iteration 157, loss = 0.73436594\n",
      "Iteration 158, loss = 0.72936377\n",
      "Iteration 159, loss = 0.72511531\n",
      "Iteration 160, loss = 0.72186093\n",
      "Iteration 161, loss = 0.71777600\n",
      "Iteration 162, loss = 0.71455051\n",
      "Iteration 163, loss = 0.71094085\n",
      "Iteration 164, loss = 0.70827900\n",
      "Iteration 165, loss = 0.70556301\n",
      "Iteration 166, loss = 0.70284541\n",
      "Iteration 167, loss = 0.70021822\n",
      "Iteration 168, loss = 0.69801350\n",
      "Iteration 169, loss = 0.69612929\n",
      "Iteration 170, loss = 0.69404687\n",
      "Iteration 171, loss = 0.69258146\n",
      "Iteration 172, loss = 0.69011840\n",
      "Iteration 173, loss = 0.68866966\n",
      "Iteration 174, loss = 0.68700562\n",
      "Iteration 175, loss = 0.68515728\n",
      "Iteration 176, loss = 0.68394334\n",
      "Iteration 177, loss = 0.68211224\n",
      "Iteration 178, loss = 0.68048082\n",
      "Iteration 179, loss = 0.67881466\n",
      "Iteration 180, loss = 0.67914646\n",
      "Iteration 181, loss = 0.67680803\n",
      "Iteration 182, loss = 0.67572032\n",
      "Iteration 183, loss = 0.67428251\n",
      "Iteration 184, loss = 0.67362503\n",
      "Iteration 185, loss = 0.67165029\n",
      "Iteration 186, loss = 0.67039234\n",
      "Iteration 187, loss = 0.67006246\n",
      "Iteration 188, loss = 0.66864643\n",
      "Iteration 189, loss = 0.66825443\n",
      "Iteration 190, loss = 0.66729096\n",
      "Iteration 191, loss = 0.66580284\n",
      "Iteration 192, loss = 0.66502015\n",
      "Iteration 193, loss = 0.66400931\n",
      "Iteration 194, loss = 0.66445745\n",
      "Iteration 195, loss = 0.66299281\n",
      "Iteration 196, loss = 0.66242896\n",
      "Iteration 197, loss = 0.66241251\n",
      "Iteration 198, loss = 0.66226784\n",
      "Iteration 199, loss = 0.66163303\n",
      "Iteration 200, loss = 0.65948975\n",
      "Iteration 201, loss = 0.65906088\n",
      "Iteration 202, loss = 0.65770405\n",
      "Iteration 203, loss = 0.65799716\n",
      "Iteration 204, loss = 0.65846328\n",
      "Iteration 205, loss = 0.65625796\n",
      "Iteration 206, loss = 0.65609666\n",
      "Iteration 207, loss = 0.65562808\n",
      "Iteration 208, loss = 0.65623425\n",
      "Iteration 209, loss = 0.65478277\n",
      "Iteration 210, loss = 0.65319319\n",
      "Iteration 211, loss = 0.65347786\n",
      "Iteration 212, loss = 0.65417212\n",
      "Iteration 213, loss = 0.65309350\n",
      "Training loss did not improve more than tol=0.000100 for two consecutive epochs. Stopping.\n"
     ]
    },
    {
     "data": {
      "text/plain": [
       "MLPRegressor(activation='logistic', alpha=0.001, batch_size='auto',\n",
       "       beta_1=0.9, beta_2=0.999, early_stopping=False, epsilon=1e-08,\n",
       "       hidden_layer_sizes=(10,), learning_rate='adaptive',\n",
       "       learning_rate_init=0.001, max_iter=50000, momentum=0.9,\n",
       "       nesterovs_momentum=True, power_t=0.5, random_state=None,\n",
       "       shuffle=True, solver='adam', tol=0.0001, validation_fraction=0.1,\n",
       "       verbose='True', warm_start=False)"
      ]
     },
     "execution_count": 58,
     "metadata": {},
     "output_type": "execute_result"
    }
   ],
   "source": [
    "# Using MLPRegressor using the RiskRecidivism  training data\n",
    "clf.fit(X_train, y_train)"
   ]
  },
  {
   "cell_type": "code",
   "execution_count": 59,
   "metadata": {
    "collapsed": true
   },
   "outputs": [],
   "source": [
    "# Predict for whiteRR dataset \n",
    "ywht_pred = clf.predict(Xwht_test)"
   ]
  },
  {
   "cell_type": "code",
   "execution_count": 60,
   "metadata": {
    "collapsed": true
   },
   "outputs": [],
   "source": [
    "# Predict for blackRR dataset \n",
    "yblk_pred = clf.predict(Xblk_test)"
   ]
  },
  {
   "cell_type": "code",
   "execution_count": 61,
   "metadata": {
    "collapsed": true
   },
   "outputs": [],
   "source": [
    "# rounding predicted results and converting into integers\n",
    "rndwht = (np.round(ywht_pred,0)).astype(int)"
   ]
  },
  {
   "cell_type": "code",
   "execution_count": 62,
   "metadata": {
    "collapsed": true
   },
   "outputs": [],
   "source": [
    "rndblk = (np.round(yblk_pred,0)).astype(int)"
   ]
  },
  {
   "cell_type": "code",
   "execution_count": 63,
   "metadata": {},
   "outputs": [
    {
     "data": {
      "text/plain": [
       "Counter({1: 431,\n",
       "         2: 427,\n",
       "         3: 396,\n",
       "         4: 353,\n",
       "         5: 329,\n",
       "         6: 289,\n",
       "         7: 272,\n",
       "         8: 259,\n",
       "         9: 252,\n",
       "         10: 190})"
      ]
     },
     "execution_count": 63,
     "metadata": {},
     "output_type": "execute_result"
    }
   ],
   "source": [
    "# comparing results\n",
    "collections.Counter(y_test) # base test target"
   ]
  },
  {
   "cell_type": "code",
   "execution_count": 64,
   "metadata": {},
   "outputs": [
    {
     "data": {
      "text/plain": [
       "Counter({2: 179, 3: 493, 4: 19, 5: 8, 6: 124, 7: 56, 8: 66, 9: 71, 10: 3})"
      ]
     },
     "execution_count": 64,
     "metadata": {},
     "output_type": "execute_result"
    }
   ],
   "source": [
    "collections.Counter(rndwht)    # white predict"
   ]
  },
  {
   "cell_type": "code",
   "execution_count": 65,
   "metadata": {},
   "outputs": [
    {
     "data": {
      "text/plain": [
       "Counter({2: 159, 3: 495, 4: 22, 5: 2, 6: 23, 7: 324, 8: 319, 9: 200})"
      ]
     },
     "execution_count": 65,
     "metadata": {},
     "output_type": "execute_result"
    }
   ],
   "source": [
    "collections.Counter(rndblk)    # black predict"
   ]
  },
  {
   "cell_type": "code",
   "execution_count": 67,
   "metadata": {
    "collapsed": true
   },
   "outputs": [],
   "source": [
    "blackRR2 = whiteRR\n"
   ]
  },
  {
   "cell_type": "code",
   "execution_count": 69,
   "metadata": {},
   "outputs": [
    {
     "name": "stderr",
     "output_type": "stream",
     "text": [
      "C:\\Users\\rivas\\Anaconda3\\lib\\site-packages\\pandas\\core\\indexing.py:517: SettingWithCopyWarning: \n",
      "A value is trying to be set on a copy of a slice from a DataFrame.\n",
      "Try using .loc[row_indexer,col_indexer] = value instead\n",
      "\n",
      "See the caveats in the documentation: http://pandas.pydata.org/pandas-docs/stable/indexing.html#indexing-view-versus-copy\n",
      "  self.obj[item] = s\n"
     ]
    }
   ],
   "source": [
    "# substituting 'Caucasian' to 'African-American' in the dataset\n",
    "blackRR2.loc[blackRR2['Ethnic_Code_Text'] != 'African-American', 'Ethnic_Code_Text'] = 'African-American'"
   ]
  },
  {
   "cell_type": "code",
   "execution_count": 70,
   "metadata": {},
   "outputs": [
    {
     "name": "stderr",
     "output_type": "stream",
     "text": [
      "C:\\Users\\rivas\\Anaconda3\\lib\\site-packages\\ipykernel_launcher.py:32: SettingWithCopyWarning: \n",
      "A value is trying to be set on a copy of a slice from a DataFrame.\n",
      "Try using .loc[row_indexer,col_indexer] = value instead\n",
      "\n",
      "See the caveats in the documentation: http://pandas.pydata.org/pandas-docs/stable/indexing.html#indexing-view-versus-copy\n",
      "C:\\Users\\rivas\\Anaconda3\\lib\\site-packages\\ipykernel_launcher.py:33: SettingWithCopyWarning: \n",
      "A value is trying to be set on a copy of a slice from a DataFrame.\n",
      "Try using .loc[row_indexer,col_indexer] = value instead\n",
      "\n",
      "See the caveats in the documentation: http://pandas.pydata.org/pandas-docs/stable/indexing.html#indexing-view-versus-copy\n",
      "C:\\Users\\rivas\\Anaconda3\\lib\\site-packages\\ipykernel_launcher.py:34: SettingWithCopyWarning: \n",
      "A value is trying to be set on a copy of a slice from a DataFrame.\n",
      "Try using .loc[row_indexer,col_indexer] = value instead\n",
      "\n",
      "See the caveats in the documentation: http://pandas.pydata.org/pandas-docs/stable/indexing.html#indexing-view-versus-copy\n",
      "C:\\Users\\rivas\\Anaconda3\\lib\\site-packages\\ipykernel_launcher.py:35: SettingWithCopyWarning: \n",
      "A value is trying to be set on a copy of a slice from a DataFrame.\n",
      "Try using .loc[row_indexer,col_indexer] = value instead\n",
      "\n",
      "See the caveats in the documentation: http://pandas.pydata.org/pandas-docs/stable/indexing.html#indexing-view-versus-copy\n"
     ]
    },
    {
     "name": "stdout",
     "output_type": "stream",
     "text": [
      "columns: Index(['Age', 'Sex_Code_Text_cat', 'Ethnic_Code_Text_cat', 'LegalStatus_cat',\n",
      "       'CustodyStatus_cat', 'MaritalStatus_cat',\n",
      "       'RecSupervisionLevelText_cat'],\n",
      "      dtype='object')\n",
      "Length for X_train: 4073  X_test: 1019  y_train: 4073  y_test: 1019\n"
     ]
    },
    {
     "name": "stderr",
     "output_type": "stream",
     "text": [
      "C:\\Users\\rivas\\Anaconda3\\lib\\site-packages\\ipykernel_launcher.py:36: SettingWithCopyWarning: \n",
      "A value is trying to be set on a copy of a slice from a DataFrame.\n",
      "Try using .loc[row_indexer,col_indexer] = value instead\n",
      "\n",
      "See the caveats in the documentation: http://pandas.pydata.org/pandas-docs/stable/indexing.html#indexing-view-versus-copy\n",
      "C:\\Users\\rivas\\Anaconda3\\lib\\site-packages\\ipykernel_launcher.py:37: SettingWithCopyWarning: \n",
      "A value is trying to be set on a copy of a slice from a DataFrame.\n",
      "Try using .loc[row_indexer,col_indexer] = value instead\n",
      "\n",
      "See the caveats in the documentation: http://pandas.pydata.org/pandas-docs/stable/indexing.html#indexing-view-versus-copy\n"
     ]
    }
   ],
   "source": [
    "# Prepare data for model for blackRR dataset \n",
    "Xblk2_train, Xblk2_test, yblk2_train, yblk2_test = prepare_data_for_ml_model_1(blackRR2,23)"
   ]
  },
  {
   "cell_type": "code",
   "execution_count": 71,
   "metadata": {
    "collapsed": true
   },
   "outputs": [],
   "source": [
    "# Predict for blackRR2 dataset \n",
    "yblk2_pred = clf.predict(Xblk2_test)"
   ]
  },
  {
   "cell_type": "code",
   "execution_count": 73,
   "metadata": {
    "collapsed": true
   },
   "outputs": [],
   "source": [
    "rndblk2 = (np.round(yblk2_pred,0)).astype(int)"
   ]
  },
  {
   "cell_type": "code",
   "execution_count": 74,
   "metadata": {},
   "outputs": [
    {
     "data": {
      "text/plain": [
       "Counter({2: 159, 3: 516, 4: 19, 5: 6, 6: 94, 7: 63, 8: 76, 9: 83, 10: 3})"
      ]
     },
     "execution_count": 74,
     "metadata": {},
     "output_type": "execute_result"
    }
   ],
   "source": [
    "collections.Counter(rndblk2)    # black2 predict"
   ]
  }
 ],
 "metadata": {
  "kernelspec": {
   "display_name": "Python 3",
   "language": "python",
   "name": "python3"
  },
  "language_info": {
   "codemirror_mode": {
    "name": "ipython",
    "version": 3
   },
   "file_extension": ".py",
   "mimetype": "text/x-python",
   "name": "python",
   "nbconvert_exporter": "python",
   "pygments_lexer": "ipython3",
   "version": "3.6.3"
  }
 },
 "nbformat": 4,
 "nbformat_minor": 2
}
