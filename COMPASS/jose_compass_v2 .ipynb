{
 "cells": [
  {
   "cell_type": "markdown",
   "metadata": {},
   "source": [
    "\n",
    "Machine learning is producing increase advantages in business values and efficiencies.  However, we need to be alert of bias in machine learning models that are producing inequalities to large portions of the population.  These bias models can target gender, race, age, income levels, …   The effect can include lost opportunities for employment, financial services, housing, fair judicial system, …\n",
    "\n",
    "This bias and potential inequality can be an unnoticed process but have a powerful impact.  It is up to us to include in our development and maintenance process to look for bias in eradicate it.\n",
    "Machine learning by default is bias, since it relies on statistical bias. This is required to make predictions, classifications, and correlations on new data the model has never seen before. However, focus needs to be put on the bias on the algorithms and training data used to create the models in the first place.\n",
    "\n",
    "We will focus on  research conducted by ProPublica, a non-profit research institution, it was found that COMPAS, a machine learning algorithm used to determine criminal defendants’ likelihood to recommit crimes.  \n",
    "We will:\n",
    "1.\tGet data \n",
    "2.\tInitial - Exploratory data analysis (EDA)\n",
    "3.\tInitial – Data Wrangling\n",
    "4.\tExploratory data analysis (EDA)\n",
    "5.\tFeature Engineering - Prepare the data for Machine Learning Algorithms\n",
    "6.\tTrain, Evaluate, and Select a Model\n",
    "\n",
    "Work in progress\n",
    "\n",
    "7.\tUsing Variant Autoencoder (VAE - tensorflow) \n",
    "   Build  ML transformer of original  dataset , but removes sensitivity (race) while keeping almost    all data\n",
    "   \n",
    "8.\tUsing Variant Fair Autoencoder (VFAE - tensorflow) \n",
    "   Bias is removed\n",
    "\n",
    "\n",
    "Data:\n",
    "•\tCompass dataset - The data set tracks Broward county Florida \n",
    "•\tUS census data for some initial data comparisons\n",
    "\n"
   ]
  },
  {
   "cell_type": "markdown",
   "metadata": {},
   "source": [
    "# Machine Bias\n",
    "# \n",
    "\"\"\"\n",
    "https://www.propublica.org/article/how-we-analyzed-the-compas-recidivism-algorithm\n",
    "\n",
    "Context\n",
    "COMPAS (Correctional Offender Management Profiling for Alternative Sanctions) is a popular commercial algorithm used by judges\n",
    "and parole officers for scoring criminal defendant’s likelihood of reoffending (recidivism). It has been shown that the algorithm\n",
    "is biased in favor of white defendants, and against black inmates, based on a 2 year follow up study (i.e who actually committed\n",
    "crimes or violent crimes after 2 years). The pattern of mistakes, as measured by precision/sensitivity is notable.\n",
    "\n",
    "Quoting from ProPublica: \n",
    "\n",
    "Black defendants were often predicted to be at a higher risk of recidivism than they actually were. Our analysis found that black defendants\n",
    "who did not recidivate over a two-year period were nearly twice as likely to be misclassified as higher risk compared to their white counterparts\n",
    "(45 percent vs. 23 percent). White defendants were often predicted to be less risky than they were. Our analysis found that white defendants who\n",
    "re-offended within the next two years were mistakenly labeled low risk almost twice as often as black re-offenders (48 percent vs. 28 percent).\n",
    "The analysis also showed that even when controlling for prior crimes, future recidivism, age, and gender, black defendants were 45 percent more\n",
    "likely to be assigned higher risk scores than white defendants.\n",
    "\n",
    "Black defendants were also twice as likely as white defendants to be misclassified as being a higher risk of violent recidivism. And white violent\n",
    "recidivists were 63 percent more likely to have been misclassified as a low risk of violent recidivism, compared with black violent recidivists.\n",
    "The violent recidivism analysis also showed that even when controlling for prior crimes, future recidivism, age, and gender, black defendants were\n",
    "77 percent more likely to be assigned higher risk scores than white defendants. \"\n",
    "\n",
    "Content\n",
    "Data contains variables used by the COMPAS algorithm in scoring defendants, along with their outcomes within 2 years of the decision, for over\n",
    "10,000 criminal defendants in Broward County, Florida. 3 subsets of the data are provided, including a subset of only violent\n",
    "recividism (as opposed to, e.g. being reincarcerated for non violent offenses such as vagrancy or Marijuana).\n",
    "\n",
    "Indepth analysis by ProPublica can be found in their data methodology article.\n",
    "\n",
    "\n",
    "\n",
    "Each pretrial defendant received at least three COMPAS scores:  (DisplayText)\n",
    "“Risk of Recidivism,”\n",
    "“Risk of Violence” \n",
    "“Risk of Failure to Appear.”\n",
    "\n",
    "COMPAS scores for each defendant ranged from1 to 10, with ten being the highest risk. Scores (ScoreTex)\n",
    "1 to 4 were labeled by COMPAS as “Low”;\n",
    "5 to 7 were labeled “Medium”; and\n",
    "8 to 10 were labeled “High.”\n",
    "\n",
    "\n",
    "Columns\n",
    "0 - 4  : 'Person_ID','AssessmentID','Case_ID','Agency_Text', 'LastName',\n",
    "5 - 9  : 'FirstName', 'MiddleName', 'Sex_Code_Text', 'Ethnic_Code_Text','DateOfBirth',\n",
    "10 - 14: 'ScaleSet_ID', 'ScaleSet', 'AssessmentReason','Language', 'LegalStatus',\n",
    "15 - 19: 'CustodyStatus', 'MaritalStatus','Screening_Date', 'RecSupervisionLevel', 'RecSupervisionLevelText',\n",
    "20 - 24: 'Scale_ID', 'DisplayText', 'RawScore', 'DecileScore', 'ScoreText',\n",
    "25 - 27: 'AssessmentType', 'IsCompleted', 'IsDeleted'"
   ]
  },
  {
   "cell_type": "code",
   "execution_count": 1,
   "metadata": {
    "collapsed": true
   },
   "outputs": [],
   "source": [
    "# loading libraries\n",
    "import pandas as pd\n",
    "import numpy as np\n",
    "import matplotlib.pyplot as plt\n",
    "# For preprocessing the data\n",
    "from sklearn.preprocessing import Imputer\n",
    "from sklearn import preprocessing\n",
    "# Standardizing\n",
    "from sklearn.preprocessing import StandardScaler\n",
    "# To split the dataset into train and test datasets\n",
    "from sklearn.model_selection import train_test_split\n",
    "# To calculate the accuracy score of the model\n",
    "from sklearn.metrics import classification_report, confusion_matrix, accuracy_score\n",
    "#\n",
    "from datetime import datetime\n",
    "from datetime import date\n",
    "#\n",
    "from sklearn.preprocessing import LabelEncoder\n",
    "from sklearn.preprocessing import OneHotEncoder\n",
    "#\n",
    "import collections\n"
   ]
  },
  {
   "cell_type": "code",
   "execution_count": 2,
   "metadata": {
    "collapsed": true
   },
   "outputs": [],
   "source": [
    "# load dataset\n",
    "pthfnm = \"./compas-scores-raw.csv\"\n",
    "df = pd.read_csv(pthfnm)"
   ]
  },
  {
   "cell_type": "code",
   "execution_count": null,
   "metadata": {
    "collapsed": true
   },
   "outputs": [],
   "source": [
    "# Initial data cleanup"
   ]
  },
  {
   "cell_type": "code",
   "execution_count": 3,
   "metadata": {},
   "outputs": [
    {
     "name": "stdout",
     "output_type": "stream",
     "text": [
      "African-American    27069\n",
      "Caucasian           21783\n",
      "Hispanic             8742\n",
      "Other                2592\n",
      "Asian                 324\n",
      "Native American       219\n",
      "Arabic                 75\n",
      "Oriental               39\n",
      "Name: Ethnic_Code_Text, dtype: int64\n"
     ]
    }
   ],
   "source": [
    "# update 'Ethnic_Code_Text' to have conistent values for African Americans\n",
    "df.loc[df['Ethnic_Code_Text'] == 'African-Am', 'Ethnic_Code_Text'] = 'African-American'\n",
    "print(pd.value_counts(df['Ethnic_Code_Text']))"
   ]
  },
  {
   "cell_type": "code",
   "execution_count": 4,
   "metadata": {},
   "outputs": [
    {
     "name": "stdout",
     "output_type": "stream",
     "text": [
      "45\n"
     ]
    }
   ],
   "source": [
    "# DecileScore should be between 1 & 10, delete otherwise\n",
    "df.DecileScore.unique()\n",
    "print((df['DecileScore'] < 1).sum())"
   ]
  },
  {
   "cell_type": "code",
   "execution_count": 5,
   "metadata": {
    "scrolled": true
   },
   "outputs": [
    {
     "name": "stdout",
     "output_type": "stream",
     "text": [
      "1     18465\n",
      "2      9192\n",
      "3      8492\n",
      "4      5338\n",
      "5      4831\n",
      "6      4319\n",
      "7      3338\n",
      "8      2799\n",
      "9      2386\n",
      "10     1638\n",
      "Name: DecileScore, dtype: int64\n"
     ]
    }
   ],
   "source": [
    "# remove DecileScore < 1\n",
    "df = df[df.DecileScore >= 1]\n",
    "print(pd.value_counts(df['DecileScore']))"
   ]
  },
  {
   "cell_type": "markdown",
   "metadata": {},
   "source": [
    "# EDA  - looking at potential bias\n",
    "\n"
   ]
  },
  {
   "cell_type": "markdown",
   "metadata": {},
   "source": [
    "# Feature Engineering"
   ]
  },
  {
   "cell_type": "code",
   "execution_count": 6,
   "metadata": {
    "collapsed": true
   },
   "outputs": [],
   "source": [
    "# Add column 'Age' from DateofBirth\n",
    "agelist = []\n",
    "currdate = date.today()\n",
    "for dte in df['DateOfBirth']:\n",
    "    brthdte = datetime.strptime(dte, '%m/%d/%y')\n",
    "    mnthday = (currdate.month, currdate.day) < (brthdte.month, brthdte.day)\n",
    "    if currdate.year > brthdte.year:\n",
    "        agelist.append(currdate.year - brthdte.year - (mnthday))\n",
    "    else:\n",
    "        agelist.append(-1)\n",
    "        "
   ]
  },
  {
   "cell_type": "code",
   "execution_count": 7,
   "metadata": {},
   "outputs": [
    {
     "name": "stdout",
     "output_type": "stream",
     "text": [
      "60798 60798\n",
      "Index(['Person_ID', 'AssessmentID', 'Case_ID', 'Agency_Text', 'LastName',\n",
      "       'FirstName', 'MiddleName', 'Sex_Code_Text', 'Ethnic_Code_Text',\n",
      "       'DateOfBirth', 'ScaleSet_ID', 'ScaleSet', 'AssessmentReason',\n",
      "       'Language', 'LegalStatus', 'CustodyStatus', 'MaritalStatus',\n",
      "       'Screening_Date', 'RecSupervisionLevel', 'RecSupervisionLevelText',\n",
      "       'Scale_ID', 'DisplayText', 'RawScore', 'DecileScore', 'ScoreText',\n",
      "       'AssessmentType', 'IsCompleted', 'IsDeleted', 'Age'],\n",
      "      dtype='object')\n"
     ]
    }
   ],
   "source": [
    "print(len(agelist), len(df))\n",
    "df['Age'] = agelist\n",
    "print(df.columns)"
   ]
  },
  {
   "cell_type": "code",
   "execution_count": 8,
   "metadata": {},
   "outputs": [
    {
     "data": {
      "text/plain": [
       "12782"
      ]
     },
     "execution_count": 8,
     "metadata": {},
     "output_type": "execute_result"
    }
   ],
   "source": [
    "# cleanup bad Ages\n",
    "# remove DecileScore < 1\n",
    "(df['Age'] < 1).sum()"
   ]
  },
  {
   "cell_type": "code",
   "execution_count": 9,
   "metadata": {},
   "outputs": [
    {
     "data": {
      "text/plain": [
       "0"
      ]
     },
     "execution_count": 9,
     "metadata": {},
     "output_type": "execute_result"
    }
   ],
   "source": [
    "df = df[df.Age >= 1]\n",
    "(df['Age'] < 1).sum()"
   ]
  },
  {
   "cell_type": "code",
   "execution_count": 10,
   "metadata": {},
   "outputs": [
    {
     "name": "stdout",
     "output_type": "stream",
     "text": [
      "Appear: (16016, 29)  Violence:  (16010, 29)  Recidivism: (15990, 29)\n"
     ]
    }
   ],
   "source": [
    "# Slice by 'DisplayText' for Risk\n",
    "RiskAppear = df.loc[df['DisplayText'] == 'Risk of Failure to Appear']\n",
    "RiskViolence = df.loc[df['DisplayText'] == 'Risk of Violence']\n",
    "RiskRecidivism = df.loc[df['DisplayText'] == 'Risk of Recidivism']\n",
    "print('Appear:', RiskAppear.shape, ' Violence: ', RiskViolence.shape,  ' Recidivism:',RiskRecidivism.shape)"
   ]
  },
  {
   "cell_type": "code",
   "execution_count": 11,
   "metadata": {
    "collapsed": true
   },
   "outputs": [],
   "source": [
    "# Define prepare_data_for_ml_model_1:\n",
    "def prepare_data_for_ml_model_1(dfx, target_loc):\n",
    "    # Create new Dataset of selected columns to get prepare TEST and Training data for  ML model \n",
    "     \n",
    "    \"\"\"\n",
    "    Columns\n",
    "    0 - 4  : 'Person_ID','AssessmentID','Case_ID','Agency_Text', 'LastName',\n",
    "    5 - 9  : 'FirstName', 'MiddleName', 'Sex_Code_Text', 'Ethnic_Code_Text','DateOfBirth',\n",
    "    10 - 14: 'ScaleSet_ID', 'ScaleSet', 'AssessmentReason','Language', 'LegalStatus',\n",
    "    15 - 19: 'CustodyStatus', 'MaritalStatus','Screening_Date', 'RecSupervisionLevel', 'RecSupervisionLevelText',\n",
    "    20 - 24: 'Scale_ID', 'DisplayText', 'RawScore', 'DecileScore', 'ScoreText',\n",
    "    25 - 28: 'AssessmentType', 'IsCompleted', 'IsDeleted','Age'\n",
    "    \"\"\"\n",
    "\n",
    "    x_df = dfx.iloc[:, [7,8,14,15,16,19]] #features\n",
    "    #x_df = dfx.iloc[:, [7,14,15,16,19]] #features\n",
    "    tmp_age = dfx.iloc[:,28].as_matrix() #age feature, convert numpy array\n",
    "    x_age = tmp_age.reshape(tmp_age.size,1)\n",
    "    \n",
    "\n",
    "    y = dfx.iloc[:,target_loc].as_matrix() #target convert numpy array\n",
    "\n",
    "\n",
    "    #  lable encoder. It encodes the data into integers\n",
    "    le = LabelEncoder()\n",
    "\n",
    "\n",
    "    Sex_Code_Text_cat = le.fit_transform(x_df.Sex_Code_Text)\n",
    "    Ethnic_Code_Text_cat = le.fit_transform(x_df.Ethnic_Code_Text)\n",
    "    LegalStatus_cat = le.fit_transform(x_df.LegalStatus)\n",
    "    CustodyStatus_cat = le.fit_transform(x_df.CustodyStatus)\n",
    "    MaritalStatus_cat = le.fit_transform(x_df.MaritalStatus)\n",
    "    RecSupervisionLevelText_cat = le.fit_transform(x_df.RecSupervisionLevelText)\n",
    "\n",
    "    Sex_Code_Text_cat = Sex_Code_Text_cat.reshape(len(Sex_Code_Text_cat),1)\n",
    "    Ethnic_Code_Text_cat = Ethnic_Code_Text_cat.reshape(len(Ethnic_Code_Text_cat),1)\n",
    "    LegalStatus_cat = LegalStatus_cat.reshape(len(LegalStatus_cat),1)\n",
    "    CustodyStatus_cat = CustodyStatus_cat.reshape(len(CustodyStatus_cat),1)\n",
    "    MaritalStatus_cat = MaritalStatus_cat.reshape(len(MaritalStatus_cat),1)\n",
    "    RecSupervisionLevelText_cat = RecSupervisionLevelText_cat.reshape(len(RecSupervisionLevelText_cat),1)\n",
    "\n",
    "#  One-Hot encoder. It encodes the data into binary format\n",
    "    onehote = OneHotEncoder(sparse=False)\n",
    "    \n",
    "    Sex_Code_Text_oh = onehote.fit_transform(Sex_Code_Text_cat)\n",
    "    Ethnic_Code_Text_oh = onehote.fit_transform(Ethnic_Code_Text_cat)\n",
    "    LegalStatus_oh = onehote.fit_transform(LegalStatus_cat)\n",
    "    CustodyStatus_oh = onehote.fit_transform(CustodyStatus_cat)\n",
    "    MaritalStatus_oh = onehote.fit_transform(MaritalStatus_cat)\n",
    "    RecSupervisionLevelText_oh = onehote.fit_transform(RecSupervisionLevelText_cat)\n",
    "\n",
    "# Build out feature dataset as numpy array, since One-Hot encoder creates numpy array\n",
    "    X_feature =  Sex_Code_Text_oh\n",
    "    X_feature = np.concatenate((X_feature,LegalStatus_oh), axis=1)\n",
    "    X_feature = np.concatenate((X_feature,CustodyStatus_oh), axis=1)\n",
    "    X_feature = np.concatenate((X_feature,MaritalStatus_oh), axis=1)\n",
    "    X_feature = np.concatenate((X_feature,RecSupervisionLevelText_oh), axis=1)\n",
    "    X_feature = np.concatenate((X_feature,x_age), axis=1)\n",
    "    X_feature = np.concatenate((X_feature,Ethnic_Code_Text_oh), axis=1)\n",
    "\n",
    "# Split data train and test\n",
    "    X_train, X_test, y_train, y_test = train_test_split(X_feature, y, test_size=0.2)\n",
    "    print('Length for X_train:', len(X_train), ' X_test:',len(X_test), ' y_train:',len(y_train) ,' y_test:',len(y_test))\n",
    "\n",
    "    return X_train, X_test, y_train, y_test"
   ]
  },
  {
   "cell_type": "markdown",
   "metadata": {},
   "source": [
    "# Preparing for VAE using tensorflow"
   ]
  },
  {
   "cell_type": "code",
   "execution_count": 12,
   "metadata": {
    "collapsed": true
   },
   "outputs": [],
   "source": [
    "class dataReader(object):\n",
    "    # Code provided by Andrei Fajardo\n",
    "    # to substitude for ...train.next_batch\n",
    "\n",
    "    def __init__(self,*arrays,batch_size=1):\n",
    "        self.arrays = arrays\n",
    "        self.__check_equal_shape()\n",
    "        self.num_examples = self.arrays[0].shape[0]\n",
    "        self.batch_number = 0\n",
    "        self.batch_size = batch_size\n",
    "        self.num_batches = int(np.ceil(self.num_examples / batch_size))\n",
    "\n",
    "    def __check_equal_shape(self):\n",
    "        if any(self.arrays[0].shape[0] != arr.shape[0] for arr in self.arrays[1:]):\n",
    "            raise ValueError(\"all arrays must be equal along first dimension\")\n",
    "\n",
    "    def next_batch(self):\n",
    "        low_ix = self.batch_number*self.batch_size\n",
    "        up_ix = (self.batch_number + 1)*self.batch_size\n",
    "        if up_ix >= self.num_examples:\n",
    "            up_ix = self.num_examples\n",
    "            self.batch_number = 0 # reset batch_number to zero\n",
    "        else:\n",
    "            self.batch_number = self.batch_number + 1\n",
    "\n",
    "        return [arr[low_ix:up_ix,:] for arr in self.arrays]\n"
   ]
  },
  {
   "cell_type": "code",
   "execution_count": 13,
   "metadata": {
    "collapsed": true
   },
   "outputs": [],
   "source": [
    "#  Tensorflow  Implementation \n",
    "\n",
    "import tensorflow as tf\n",
    "import os\n",
    "import sys\n",
    "from functools import partial\n",
    "from sklearn.preprocessing import StandardScaler"
   ]
  },
  {
   "cell_type": "code",
   "execution_count": 14,
   "metadata": {
    "collapsed": true
   },
   "outputs": [],
   "source": [
    "# to make this notebook's output stable across runs\n",
    "def reset_graph(seed=42):\n",
    "    tf.reset_default_graph()\n",
    "    tf.set_random_seed(seed)\n",
    "    np.random.seed(seed)"
   ]
  },
  {
   "cell_type": "code",
   "execution_count": 15,
   "metadata": {},
   "outputs": [
    {
     "name": "stdout",
     "output_type": "stream",
     "text": [
      "Length for X_train: 12792  X_test: 3198  y_train: 12792  y_test: 3198\n"
     ]
    }
   ],
   "source": [
    "# RiskRecidivism dataset target RawScore (22)\n",
    "# X_train.shape (12792, 35)\n",
    "X_train, X_test, y_train, y_test = prepare_data_for_ml_model_1(RiskRecidivism,22)"
   ]
  },
  {
   "cell_type": "code",
   "execution_count": 16,
   "metadata": {
    "scrolled": false
   },
   "outputs": [
    {
     "name": "stdout",
     "output_type": "stream",
     "text": [
      "(12792, 35)\n"
     ]
    }
   ],
   "source": [
    "print(X_train.shape)"
   ]
  },
  {
   "cell_type": "code",
   "execution_count": 17,
   "metadata": {
    "collapsed": true
   },
   "outputs": [],
   "source": [
    "scaler = StandardScaler()\n",
    "X_scaler = scaler.fit_transform(X_train)"
   ]
  },
  {
   "cell_type": "markdown",
   "metadata": {
    "collapsed": true
   },
   "source": [
    "# VFAE"
   ]
  },
  {
   "cell_type": "code",
   "execution_count": 18,
   "metadata": {},
   "outputs": [
    {
     "name": "stderr",
     "output_type": "stream",
     "text": [
      "C:\\Users\\rivas\\Anaconda3\\lib\\site-packages\\h5py\\__init__.py:34: FutureWarning: Conversion of the second argument of issubdtype from `float` to `np.floating` is deprecated. In future, it will be treated as `np.float64 == np.dtype(float).type`.\n",
      "  from ._conv import register_converters as _register_converters\n"
     ]
    }
   ],
   "source": [
    "from tensorflow.contrib.layers import fully_connected, batch_norm\n",
    "from datetime import datetime"
   ]
  },
  {
   "cell_type": "markdown",
   "metadata": {},
   "source": [
    "###  Functions"
   ]
  },
  {
   "cell_type": "code",
   "execution_count": 19,
   "metadata": {
    "collapsed": true
   },
   "outputs": [],
   "source": [
    "def show_reconstructed_digits(X, outputs, model_path = None, n_test_digits = 2):\n",
    "    with tf.Session() as sess:\n",
    "        if model_path:\n",
    "            saver.restore(sess, model_path)\n",
    "        X_test = mnist.test.images[:n_test_digits]\n",
    "        outputs_val = outputs.eval(feed_dict={X: X_test})\n",
    "\n",
    "    fig = plt.figure(figsize=(8, 3 * n_test_digits))\n",
    "    for digit_index in range(n_test_digits):\n",
    "        plt.subplot(n_test_digits, 2, digit_index * 2 + 1)\n",
    "        plot_image(X_test[digit_index])\n",
    "        plt.subplot(n_test_digits, 2, digit_index * 2 + 2)\n",
    "        plot_image(outputs_val[digit_index])"
   ]
  },
  {
   "cell_type": "markdown",
   "metadata": {},
   "source": [
    "### Construction Phase\n",
    "\n",
    "We will construct the graph for the VFAE architecture:\n",
    "\n",
    "    Input: X = [X_without_s, s], where s is the sensitive feature\n",
    "\n",
    "    Middle Encodings: We're learning the parameters for the distribution of the encodings. What's different here is that we inject both the response y and the sensitive features in the middle layers.\n",
    "\n",
    "    Output: X_copy"
   ]
  },
  {
   "cell_type": "code",
   "execution_count": 20,
   "metadata": {
    "collapsed": true
   },
   "outputs": [],
   "source": [
    "# Construction phase\n",
    "# n_s = 10 # number of sensitive features\n",
    "# n_inputs = 28*28 - n_s # number of non-sensitive features\n",
    "n_s = 1 # number of sensitive features\n",
    "n_inputs = 35 - n_s # number of non-sensitive features\n",
    "\n",
    "# encoders\n",
    "n_hidden1 = 50\n",
    "n_hidden2 = 10 # codings\n",
    "n_hidden3 = 50\n",
    "n_hidden4 = 10\n",
    "\n",
    "# decoders\n",
    "n_hidden5 = 50\n",
    "n_hidden6 = 10\n",
    "n_hidden7 = 50\n",
    "\n",
    "# final output can take a random sample from the posterior\n",
    "n_outputs = n_inputs + n_s"
   ]
  },
  {
   "cell_type": "code",
   "execution_count": 21,
   "metadata": {
    "collapsed": true
   },
   "outputs": [],
   "source": [
    "### Training rates\n",
    "alpha = 1\n",
    "learning_rate = 0.0001"
   ]
  },
  {
   "cell_type": "code",
   "execution_count": 22,
   "metadata": {
    "collapsed": true
   },
   "outputs": [],
   "source": [
    "### Setting up the graph\n",
    "tf.reset_default_graph()\n",
    "with tf.contrib.framework.arg_scope(\n",
    "        [fully_connected],\n",
    "        activation_fn = tf.nn.elu,\n",
    "        weights_initializer = tf.contrib.layers.variance_scaling_initializer()):\n",
    "    X = tf.placeholder(tf.float32, shape = [None, n_inputs], name=\"X_wo_s\")\n",
    "    s = tf.placeholder(tf.float32, shape = [None, n_s], name=\"s\")\n",
    "    X_full = tf.concat([X,s], axis=1)\n",
    "    y = tf.placeholder(tf.int32, shape = [None, 1], name=\"y\") # for your example, switch this to tf.float32 bc you'll be doing reg\n",
    "    # is_unlabelled = tf.placeholder(tf.bool, shape=(), name='is_training') # don't worry about this\n",
    "    with tf.name_scope(\"X_encoder\"):\n",
    "        hidden1 = fully_connected(tf.concat([X, s], axis=1), n_hidden1)\n",
    "        hidden2_mean = fully_connected(hidden1, n_hidden2, activation_fn = None)\n",
    "        hidden2_gamma = fully_connected(hidden1, n_hidden2, activation_fn = None)\n",
    "        hidden2_sigma = tf.exp(0.5 * hidden2_gamma)\n",
    "    noise1 = tf.random_normal(tf.shape(hidden2_sigma), dtype=tf.float32)\n",
    "    hidden2 = hidden2_mean + hidden2_sigma * noise1         # z1\n",
    "    with tf.name_scope(\"Z1_encoder\"):\n",
    "        hidden3_ygz1 = fully_connected(hidden2, n_hidden4, activation_fn = tf.nn.tanh)\n",
    "        hidden4_softmax_mean = fully_connected(hidden3_ygz1, 10, activation_fn = tf.nn.softmax)\n",
    "   \n",
    "        #if is_unlabelled == True:\n",
    "            # impute by sampling from q(y|z1)\n",
    "        #    y = tf.assign(y, tf.multinomial(hidden4_softmax_mean, 1,\n",
    "        #                        output_type = tf.int32))\n",
    "    \n",
    "        hidden3 = fully_connected(tf.concat([hidden2, tf.cast(y, tf.float32)], axis=1),\n",
    "                        n_hidden3, activation_fn=tf.nn.tanh)\n",
    "        hidden4_mean = fully_connected(hidden3, n_hidden4, activation_fn = None)\n",
    "        hidden4_gamma = fully_connected(hidden3, n_hidden4, activation_fn = None)\n",
    "        hidden4_sigma = tf.exp(0.5 * hidden4_gamma)\n",
    "    noise2 = tf.random_normal(tf.shape(hidden4_sigma), dtype=tf.float32)\n",
    "    hidden4 = hidden4_mean + hidden4_sigma * noise2     # z2\n",
    "    with tf.name_scope(\"Z1_decoder\"):\n",
    "        hidden5 = fully_connected(tf.concat([hidden4, tf.cast(y, tf.float32)], axis=1 ),\n",
    "                    n_hidden5, activation_fn = tf.nn.tanh)\n",
    "        hidden6_mean = fully_connected(hidden5, n_hidden6, activation_fn = None)\n",
    "        hidden6_gamma = fully_connected(hidden5, n_hidden6, activation_fn = None)\n",
    "        hidden6_sigma = tf.exp(0.5 * hidden6_gamma)\n",
    "    noise3 = tf.random_normal(tf.shape(hidden6_sigma), dtype=tf.float32)\n",
    "    hidden6 = hidden6_mean + hidden6_sigma * noise3     # z1 (decoded)\n",
    "    with tf.name_scope(\"X_decoder\"):\n",
    "        hidden7 = fully_connected(tf.concat([hidden6, s], axis=1), n_hidden7,\n",
    "                                 activation_fn = tf.nn.tanh)\n",
    "        hidden8 = fully_connected(hidden7, n_outputs, activation_fn = None)\n",
    "    outputs = tf.sigmoid(hidden8, name=\"decoded_X\")"
   ]
  },
  {
   "cell_type": "markdown",
   "metadata": {},
   "source": [
    "### Loss Function: ELBO"
   ]
  },
  {
   "cell_type": "code",
   "execution_count": 23,
   "metadata": {
    "collapsed": true
   },
   "outputs": [],
   "source": [
    "# expected lower bound\n",
    "with tf.name_scope(\"ELB\"):\n",
    "    kl_z2 = 0.5 * tf.reduce_sum(\n",
    "                    tf.exp(hidden4_gamma)\n",
    "                    + tf.square(hidden4_mean)\n",
    "                    - 1\n",
    "                    - hidden4_gamma\n",
    "                    )\n",
    "\n",
    "    kl_z1 = 0.5 * (tf.reduce_sum(\n",
    "                    (1 / (1e-10 + tf.exp(hidden6_gamma))) * tf.exp(hidden2_gamma)\n",
    "                    - 1\n",
    "                    + hidden6_gamma\n",
    "                    - hidden2_gamma\n",
    "                    ) + tf.einsum('ij,ji -> i', # this might not work for you depending on version of tflow\n",
    "                        (hidden6_mean-hidden2_mean) * (1 / (1e-10 + tf.exp(hidden6_gamma))),\n",
    "                        tf.transpose((hidden6_mean-hidden2_mean))))\n",
    "\n",
    "    indices = tf.range(tf.shape(y)[0])\n",
    "    indices = tf.concat([indices[:, tf.newaxis], y], axis=1)\n",
    "    eps = 1e-10\n",
    "    log_q_y_z1 = tf.reduce_sum(tf.log(eps + tf.gather_nd(hidden4_softmax_mean, indices)))\n",
    "\n",
    "    # Bernoulli log-likelihood\n",
    "    reconstruction_loss = -(tf.reduce_sum(X_full * tf.log(outputs)\n",
    "                            + (1 - X_full) * tf.log(1 - outputs)))\n",
    "    cost = kl_z2 + kl_z1 + reconstruction_loss + alpha * log_q_y_z1"
   ]
  },
  {
   "cell_type": "code",
   "execution_count": 24,
   "metadata": {
    "collapsed": true
   },
   "outputs": [],
   "source": [
    "optimizer = tf.train.AdamOptimizer(learning_rate=learning_rate)\n",
    "training_op = optimizer.minimize(cost)\n",
    "saver = tf.train.Saver()"
   ]
  },
  {
   "cell_type": "markdown",
   "metadata": {},
   "source": [
    "### Initialize Graph & Load Data"
   ]
  },
  {
   "cell_type": "code",
   "execution_count": 25,
   "metadata": {
    "collapsed": true
   },
   "outputs": [],
   "source": [
    "upper_lim = 12600"
   ]
  },
  {
   "cell_type": "code",
   "execution_count": 26,
   "metadata": {},
   "outputs": [],
   "source": [
    "# instatianate\n",
    "y_bin = pd.cut(y_train, bins=10, labels=False) \n",
    "data_reader = dataReader(X_scaler,y_bin[:,np.newaxis], batch_size=150)"
   ]
  },
  {
   "cell_type": "code",
   "execution_count": 27,
   "metadata": {
    "collapsed": true
   },
   "outputs": [],
   "source": [
    "init = tf.global_variables_initializer()"
   ]
  },
  {
   "cell_type": "code",
   "execution_count": 28,
   "metadata": {},
   "outputs": [
    {
     "name": "stdout",
     "output_type": "stream",
     "text": [
      "0 Train total loss: 3779.1228 \tReconstruction loss: 1166.8595 \tKL-z1: 2279.962 \tKL-z2: 452.30466 \tlog_q(y|z1): -120.00319\n",
      "1 Train total loss: 3557.648 \tReconstruction loss: 1188.415 \tKL-z1: 2060.1553 \tKL-z2: 438.14215 \tlog_q(y|z1): -129.0644\n",
      "2 Train total loss: 3421.7678 \tReconstruction loss: 1023.75366 \tKL-z1: 2124.5479 \tKL-z2: 418.4137 \tlog_q(y|z1): -144.94716\n",
      "3 Train total loss: 4589.365 \tReconstruction loss: 943.99585 \tKL-z1: 3338.1914 \tKL-z2: 438.39874 \tlog_q(y|z1): -131.2208\n",
      "4 Train total loss: 2777.9712 \tReconstruction loss: 949.4848 \tKL-z1: 1515.62 \tKL-z2: 449.7776 \tlog_q(y|z1): -136.9111\n",
      "5 Train total loss: 3518.602 \tReconstruction loss: 809.0591 \tKL-z1: 2391.942 \tKL-z2: 440.69077 \tlog_q(y|z1): -123.08969\n",
      "6 Train total loss: 3136.638 \tReconstruction loss: 821.1722 \tKL-z1: 2008.4099 \tKL-z2: 432.47833 \tlog_q(y|z1): -125.422356\n",
      "7 Train total loss: 2457.142 \tReconstruction loss: 632.9341 \tKL-z1: 1516.9862 \tKL-z2: 455.12613 \tlog_q(y|z1): -147.90442\n",
      "8 Train total loss: 3271.323 \tReconstruction loss: 538.15137 \tKL-z1: 2460.982 \tKL-z2: 419.14914 \tlog_q(y|z1): -146.95941\n",
      "9 Train total loss: 2358.1226 \tReconstruction loss: 473.29797 \tKL-z1: 1586.8091 \tKL-z2: 435.69073 \tlog_q(y|z1): -137.6752\n",
      "10 Train total loss: 2479.6138 \tReconstruction loss: 516.5781 \tKL-z1: 1709.3638 \tKL-z2: 410.14548 \tlog_q(y|z1): -156.47372\n",
      "11 Train total loss: 2240.4902 \tReconstruction loss: 518.8399 \tKL-z1: 1468.428 \tKL-z2: 406.12848 \tlog_q(y|z1): -152.90605\n",
      "12 Train total loss: 2140.3464 \tReconstruction loss: 310.70914 \tKL-z1: 1536.2947 \tKL-z2: 448.46625 \tlog_q(y|z1): -155.12373\n",
      "13 Train total loss: 3042.7974 \tReconstruction loss: 227.4489 \tKL-z1: 2523.2808 \tKL-z2: 446.6815 \tlog_q(y|z1): -154.61365\n",
      "14 Train total loss: 2313.3167 \tReconstruction loss: 305.59195 \tKL-z1: 1693.0349 \tKL-z2: 466.10037 \tlog_q(y|z1): -151.4107\n",
      "15 Train total loss: 1752.3916 \tReconstruction loss: 226.46878 \tKL-z1: 1249.8383 \tKL-z2: 435.47382 \tlog_q(y|z1): -159.38913\n",
      "16 Train total loss: 2245.8623 \tReconstruction loss: 284.92575 \tKL-z1: 1710.8231 \tKL-z2: 422.2254 \tlog_q(y|z1): -172.11208\n",
      "17 Train total loss: 2598.7795 \tReconstruction loss: 186.91493 \tKL-z1: 2148.7979 \tKL-z2: 427.434 \tlog_q(y|z1): -164.36739\n",
      "18 Train total loss: 1838.748 \tReconstruction loss: 258.5519 \tKL-z1: 1311.2848 \tKL-z2: 463.1953 \tlog_q(y|z1): -194.284\n",
      "19 Train total loss: 2042.031 \tReconstruction loss: 95.47564 \tKL-z1: 1724.6145 \tKL-z2: 394.27652 \tlog_q(y|z1): -172.33565\n",
      "20 Train total loss: 2748.4998 \tReconstruction loss: 174.26117 \tKL-z1: 2249.7637 \tKL-z2: 473.27637 \tlog_q(y|z1): -148.8016\n",
      "21 Train total loss: 1835.8759 \tReconstruction loss: 118.09413 \tKL-z1: 1472.4211 \tKL-z2: 429.72134 \tlog_q(y|z1): -184.36075\n",
      "22 Train total loss: 2220.2458 \tReconstruction loss: 164.83487 \tKL-z1: 1816.6156 \tKL-z2: 422.18375 \tlog_q(y|z1): -183.38835\n",
      "23 Train total loss: 1593.74 \tReconstruction loss: 195.28865 \tKL-z1: 1219.302 \tKL-z2: 363.46698 \tlog_q(y|z1): -184.31775\n",
      "24 Train total loss: 2357.3835 \tReconstruction loss: 88.10096 \tKL-z1: 2071.3484 \tKL-z2: 388.9121 \tlog_q(y|z1): -190.97798\n",
      "25 Train total loss: 1718.7756 \tReconstruction loss: 38.833523 \tKL-z1: 1472.138 \tKL-z2: 399.85583 \tlog_q(y|z1): -192.0516\n",
      "26 Train total loss: 1700.7747 \tReconstruction loss: 82.69694 \tKL-z1: 1414.2163 \tKL-z2: 399.38086 \tlog_q(y|z1): -195.51936\n",
      "27 Train total loss: 1470.4241 \tReconstruction loss: 91.63742 \tKL-z1: 1176.0515 \tKL-z2: 409.55908 \tlog_q(y|z1): -206.82394\n",
      "28 Train total loss: 1765.8654 \tReconstruction loss: 52.5124 \tKL-z1: 1514.7773 \tKL-z2: 406.20438 \tlog_q(y|z1): -207.62878\n",
      "29 Train total loss: 1807.4481 \tReconstruction loss: 91.64821 \tKL-z1: 1486.4529 \tKL-z2: 430.16437 \tlog_q(y|z1): -200.81728\n",
      "30 Train total loss: 1505.9318 \tReconstruction loss: 77.65065 \tKL-z1: 1260.9996 \tKL-z2: 393.21915 \tlog_q(y|z1): -225.93764\n",
      "31 Train total loss: 1641.1967 \tReconstruction loss: 173.74283 \tKL-z1: 1269.6375 \tKL-z2: 423.45294 \tlog_q(y|z1): -225.63646\n",
      "32 Train total loss: 1642.7351 \tReconstruction loss: 93.84891 \tKL-z1: 1275.5527 \tKL-z2: 476.50723 \tlog_q(y|z1): -203.17377\n",
      "33 Train total loss: 1500.3268 \tReconstruction loss: 69.55138 \tKL-z1: 1197.6481 \tKL-z2: 448.34122 \tlog_q(y|z1): -215.21384\n",
      "34 Train total loss: 1693.6564 \tReconstruction loss: 73.363014 \tKL-z1: 1429.8899 \tKL-z2: 425.8984 \tlog_q(y|z1): -235.49495\n",
      "35 Train total loss: 2059.5933 \tReconstruction loss: 115.83765 \tKL-z1: 1796.3564 \tKL-z2: 394.14218 \tlog_q(y|z1): -246.74287\n",
      "36 Train total loss: 1723.5481 \tReconstruction loss: 82.18629 \tKL-z1: 1411.947 \tKL-z2: 466.99304 \tlog_q(y|z1): -237.57819\n",
      "37 Train total loss: 1635.7683 \tReconstruction loss: 82.193665 \tKL-z1: 1386.6586 \tKL-z2: 421.38324 \tlog_q(y|z1): -254.46703\n",
      "38 Train total loss: 1603.4141 \tReconstruction loss: 37.05638 \tKL-z1: 1395.2522 \tKL-z2: 431.49588 \tlog_q(y|z1): -260.39035\n",
      "39 Train total loss: 2256.2568 \tReconstruction loss: 98.094826 \tKL-z1: 1968.3735 \tKL-z2: 455.1697 \tlog_q(y|z1): -265.38098\n",
      "40 Train total loss: 1408.3334 \tReconstruction loss: -103.27058 \tKL-z1: 1391.9241 \tKL-z2: 398.37958 \tlog_q(y|z1): -278.6997\n",
      "41 Train total loss: 1614.7278 \tReconstruction loss: 127.9075 \tKL-z1: 1310.5166 \tKL-z2: 427.81763 \tlog_q(y|z1): -251.51393\n",
      "42 Train total loss: 1547.9729 \tReconstruction loss: -54.68268 \tKL-z1: 1496.2598 \tKL-z2: 385.60754 \tlog_q(y|z1): -279.21167\n",
      "43 Train total loss: 1649.9003 \tReconstruction loss: -34.721 \tKL-z1: 1526.5615 \tKL-z2: 415.87396 \tlog_q(y|z1): -257.81433\n",
      "44 Train total loss: 1258.8984 \tReconstruction loss: -135.65645 \tKL-z1: 1281.5728 \tKL-z2: 394.68686 \tlog_q(y|z1): -281.70477\n",
      "45 Train total loss: 4697.778 \tReconstruction loss: 27.990616 \tKL-z1: 4548.744 \tKL-z2: 408.39957 \tlog_q(y|z1): -287.35648\n",
      "46 Train total loss: 1888.8104 \tReconstruction loss: -99.76457 \tKL-z1: 1851.4401 \tKL-z2: 416.2738 \tlog_q(y|z1): -279.13876\n",
      "47 Train total loss: 1451.8538 \tReconstruction loss: -191.8088 \tKL-z1: 1509.495 \tKL-z2: 419.97522 \tlog_q(y|z1): -285.80756\n",
      "48 Train total loss: 1449.8894 \tReconstruction loss: 101.6907 \tKL-z1: 1213.5125 \tKL-z2: 430.0876 \tlog_q(y|z1): -295.4013\n",
      "49 Train total loss: 3333.314 \tReconstruction loss: -163.8625 \tKL-z1: 3354.5215 \tKL-z2: 465.55127 \tlog_q(y|z1): -322.89633\n"
     ]
    }
   ],
   "source": [
    "# Training\n",
    "n_epochs = 50\n",
    "batch_size = 100\n",
    "n_digits = 60\n",
    "\n",
    "with tf.Session() as sess:\n",
    "    init.run()\n",
    "    for epoch in range(n_epochs):\n",
    "        # n_batches = mnist.train.num_examples // batch_size\n",
    "        n_batches = data_reader.num_batches\n",
    "        for iteration in range(n_batches):\n",
    "            print(\"\\r{}%\".format(100 * iteration // n_batches), end=\"\")\n",
    "            X_batch, y_batch = data_reader.next_batch()\n",
    "            sess.run(training_op, feed_dict={X: X_batch[:,:-n_s],\n",
    "                                    s: X_batch[:,-n_s:],\n",
    "                                    #you replace y_batch[:,np.newaxis] with just y_batch          \n",
    "                                    #y: y_batch[:,np.newaxis],        \n",
    "                                    y: y_batch,\n",
    "                                   #is_unlabelled: False\n",
    "                                            })\n",
    "        kl_z2_val, kl_z1_val, log_q_y_z1_val, reconstruction_loss_val, loss_val = sess.run([\n",
    "                kl_z2,\n",
    "                kl_z1,\n",
    "                log_q_y_z1,\n",
    "                reconstruction_loss,\n",
    "                cost],\n",
    "                feed_dict={X: X_batch[:,:-n_s],\n",
    "                        s: X_batch[:,-n_s:],\n",
    "                        #you replace y_batch[:,np.newaxis] with just y_batch \n",
    "                        #y: y_batch[:,np.newaxis]\n",
    "                        y: y_batch})\n",
    "        saver.save(sess, \"./my_model_all_layers.ckpt\")\n",
    "        print(\"\\r{}\".format(epoch), \"Train total loss:\", loss_val,\n",
    "         \"\\tReconstruction loss:\", reconstruction_loss_val,\n",
    "          \"\\tKL-z1:\", kl_z1_val,\n",
    "          \"\\tKL-z2:\", kl_z2_val,\n",
    "          \"\\tlog_q(y|z1):\", log_q_y_z1_val)"
   ]
  },
  {
   "cell_type": "code",
   "execution_count": 29,
   "metadata": {
    "collapsed": true
   },
   "outputs": [],
   "source": [
    "def restore_session(path):\n",
    "    saver = tf.train.Saver()\n",
    "    sess = tf.Session()\n",
    "    saver.restore(sess, path)\n",
    "    return sess"
   ]
  },
  {
   "cell_type": "code",
   "execution_count": 30,
   "metadata": {},
   "outputs": [
    {
     "name": "stdout",
     "output_type": "stream",
     "text": [
      "INFO:tensorflow:Restoring parameters from ./my_model_all_layers.ckpt\n"
     ]
    }
   ],
   "source": [
    "data_reader = dataReader(X_scaler[:upper_lim,:],y_bin[:upper_lim,np.newaxis], batch_size=150)\n",
    "sess = restore_session(\"./my_model_all_layers.ckpt\")"
   ]
  },
  {
   "cell_type": "code",
   "execution_count": 31,
   "metadata": {
    "collapsed": true
   },
   "outputs": [],
   "source": [
    "n_batches = data_reader.num_batches\n",
    "encodings = None\n",
    "for iteration in range(n_batches):\n",
    "    X_batch, y_batch = data_reader.next_batch()\n",
    "    codings_rnd = np.random.normal(scale=2,size=[n_digits, n_hidden2])\n",
    "    s_rnd = X_batch[:, -n_s:]\n",
    "    if encodings is None:\n",
    "        encodings = sess.run(hidden2,feed_dict={X: X_batch[:,:-n_s],\n",
    "                                            s: s_rnd,\n",
    "                                            y: y_batch,\n",
    "                                            })\n",
    "    else:\n",
    "        new_encodings = sess.run(hidden2,feed_dict={X: X_batch[:,:-n_s],\n",
    "                                            s: s_rnd,\n",
    "                                            y: y_batch,\n",
    "                                            })\n",
    "        encodings = np.concatenate((encodings, new_encodings))\n",
    "sess.close()"
   ]
  },
  {
   "cell_type": "code",
   "execution_count": 32,
   "metadata": {},
   "outputs": [
    {
     "data": {
      "text/plain": [
       "array([[ 1.0124654 , -0.68345124, -2.3004704 , ...,  0.12640376,\n",
       "        -0.21199988, -0.1584189 ],\n",
       "       [ 1.0563194 , -0.9180748 ,  2.2737067 , ...,  2.141169  ,\n",
       "         0.65167594, -1.0904669 ],\n",
       "       [-0.13431466,  0.06996489,  3.9947982 , ..., -2.2501543 ,\n",
       "         0.84560174,  2.5790262 ],\n",
       "       ...,\n",
       "       [-1.6773155 , -2.1915684 , -2.7678638 , ...,  1.6158307 ,\n",
       "        -1.4345584 ,  0.9333562 ],\n",
       "       [ 0.5645692 ,  1.8341246 , -1.6351135 , ...,  1.209703  ,\n",
       "         0.704249  ,  0.02950668],\n",
       "       [ 0.66798586,  1.4976501 ,  0.95820415, ..., -0.7433622 ,\n",
       "         1.8012375 ,  0.83766854]], dtype=float32)"
      ]
     },
     "execution_count": 32,
     "metadata": {},
     "output_type": "execute_result"
    }
   ],
   "source": [
    "\n",
    "\n",
    "encodings # train regression model on encodings now"
   ]
  },
  {
   "cell_type": "markdown",
   "metadata": {},
   "source": [
    "# Using Test data"
   ]
  },
  {
   "cell_type": "code",
   "execution_count": 33,
   "metadata": {
    "collapsed": true
   },
   "outputs": [],
   "source": [
    "scaler = StandardScaler()\n",
    "X_scaler = scaler.fit_transform(X_test)"
   ]
  },
  {
   "cell_type": "code",
   "execution_count": 34,
   "metadata": {
    "collapsed": true
   },
   "outputs": [],
   "source": [
    "# instatianate\n",
    "y_bin = pd.cut(y_test, bins=10, labels=False) \n",
    "data_reader = dataReader(X_scaler,y_bin[:,np.newaxis], batch_size=150)"
   ]
  },
  {
   "cell_type": "code",
   "execution_count": 35,
   "metadata": {
    "collapsed": true
   },
   "outputs": [],
   "source": [
    "init = tf.global_variables_initializer()"
   ]
  },
  {
   "cell_type": "code",
   "execution_count": 36,
   "metadata": {},
   "outputs": [
    {
     "name": "stdout",
     "output_type": "stream",
     "text": [
      "0 Train total loss: 4290.7095 \tReconstruction loss: 1317.669 \tKL-z1: 2607.9128 \tKL-z2: 506.19717 \tlog_q(y|z1): -141.06984\n",
      "1 Train total loss: 4015.814 \tReconstruction loss: 1368.6458 \tKL-z1: 2273.9487 \tKL-z2: 524.29285 \tlog_q(y|z1): -151.07372\n",
      "2 Train total loss: 4089.7366 \tReconstruction loss: 1316.7373 \tKL-z1: 2441.7095 \tKL-z2: 482.20908 \tlog_q(y|z1): -150.91922\n",
      "3 Train total loss: 3745.1907 \tReconstruction loss: 1301.5696 \tKL-z1: 2143.1902 \tKL-z2: 439.28406 \tlog_q(y|z1): -138.85306\n",
      "4 Train total loss: 4085.4014 \tReconstruction loss: 1243.2041 \tKL-z1: 2452.7698 \tKL-z2: 535.386 \tlog_q(y|z1): -145.95839\n",
      "5 Train total loss: 3719.594 \tReconstruction loss: 1189.7146 \tKL-z1: 2149.7273 \tKL-z2: 532.7524 \tlog_q(y|z1): -152.60031\n",
      "6 Train total loss: 3733.166 \tReconstruction loss: 1286.5837 \tKL-z1: 2104.411 \tKL-z2: 498.56818 \tlog_q(y|z1): -156.39668\n",
      "7 Train total loss: 3729.8933 \tReconstruction loss: 1156.4026 \tKL-z1: 2193.3066 \tKL-z2: 535.4926 \tlog_q(y|z1): -155.30853\n",
      "8 Train total loss: 3170.7585 \tReconstruction loss: 1112.8784 \tKL-z1: 1688.2681 \tKL-z2: 525.1798 \tlog_q(y|z1): -155.56763\n",
      "9 Train total loss: 3505.07 \tReconstruction loss: 1090.544 \tKL-z1: 2060.3088 \tKL-z2: 508.0137 \tlog_q(y|z1): -153.79634\n",
      "10 Train total loss: 3326.5186 \tReconstruction loss: 1186.9044 \tKL-z1: 1794.1685 \tKL-z2: 491.03336 \tlog_q(y|z1): -145.58798\n",
      "11 Train total loss: 3188.8225 \tReconstruction loss: 1087.6069 \tKL-z1: 1687.3057 \tKL-z2: 568.62494 \tlog_q(y|z1): -154.71509\n",
      "12 Train total loss: 3147.6973 \tReconstruction loss: 1030.3806 \tKL-z1: 1725.1013 \tKL-z2: 539.5455 \tlog_q(y|z1): -147.33008\n",
      "13 Train total loss: 3104.746 \tReconstruction loss: 1014.2276 \tKL-z1: 1693.4915 \tKL-z2: 539.0835 \tlog_q(y|z1): -142.05627\n",
      "14 Train total loss: 3206.6418 \tReconstruction loss: 1073.6504 \tKL-z1: 1830.0754 \tKL-z2: 451.392 \tlog_q(y|z1): -148.47607\n",
      "15 Train total loss: 2871.575 \tReconstruction loss: 933.0079 \tKL-z1: 1618.3895 \tKL-z2: 450.85138 \tlog_q(y|z1): -130.67386\n",
      "16 Train total loss: 3018.168 \tReconstruction loss: 982.3218 \tKL-z1: 1705.1726 \tKL-z2: 477.40714 \tlog_q(y|z1): -146.73355\n",
      "17 Train total loss: 2920.8748 \tReconstruction loss: 877.71735 \tKL-z1: 1714.8156 \tKL-z2: 488.67102 \tlog_q(y|z1): -160.32901\n",
      "18 Train total loss: 3023.3384 \tReconstruction loss: 905.5718 \tKL-z1: 1783.7362 \tKL-z2: 480.18884 \tlog_q(y|z1): -146.15833\n",
      "19 Train total loss: 2658.2002 \tReconstruction loss: 837.0652 \tKL-z1: 1489.5469 \tKL-z2: 497.20526 \tlog_q(y|z1): -165.61728\n",
      "20 Train total loss: 2521.2542 \tReconstruction loss: 843.0387 \tKL-z1: 1343.698 \tKL-z2: 488.08047 \tlog_q(y|z1): -153.56308\n",
      "21 Train total loss: 2913.9202 \tReconstruction loss: 823.56586 \tKL-z1: 1739.847 \tKL-z2: 511.73584 \tlog_q(y|z1): -161.22874\n",
      "22 Train total loss: 2570.4346 \tReconstruction loss: 773.3547 \tKL-z1: 1447.4961 \tKL-z2: 497.16373 \tlog_q(y|z1): -147.57977\n",
      "23 Train total loss: 2542.802 \tReconstruction loss: 728.505 \tKL-z1: 1466.1531 \tKL-z2: 508.9248 \tlog_q(y|z1): -160.78098\n",
      "24 Train total loss: 2715.5032 \tReconstruction loss: 872.51117 \tKL-z1: 1496.0425 \tKL-z2: 513.8691 \tlog_q(y|z1): -166.91963\n",
      "25 Train total loss: 2610.5972 \tReconstruction loss: 624.3428 \tKL-z1: 1635.0464 \tKL-z2: 509.3374 \tlog_q(y|z1): -158.12927\n",
      "26 Train total loss: 2612.936 \tReconstruction loss: 730.3444 \tKL-z1: 1519.0991 \tKL-z2: 526.9965 \tlog_q(y|z1): -163.50406\n",
      "27 Train total loss: 2631.8215 \tReconstruction loss: 676.893 \tKL-z1: 1595.8176 \tKL-z2: 513.24506 \tlog_q(y|z1): -154.13437\n",
      "28 Train total loss: 2317.6306 \tReconstruction loss: 616.745 \tKL-z1: 1377.533 \tKL-z2: 478.57846 \tlog_q(y|z1): -155.22588\n",
      "29 Train total loss: 2248.1787 \tReconstruction loss: 548.8702 \tKL-z1: 1362.1674 \tKL-z2: 479.0774 \tlog_q(y|z1): -141.93634\n",
      "30 Train total loss: 2220.9185 \tReconstruction loss: 482.4989 \tKL-z1: 1359.1477 \tKL-z2: 536.61084 \tlog_q(y|z1): -157.33887\n",
      "31 Train total loss: 2279.9995 \tReconstruction loss: 538.5879 \tKL-z1: 1448.5009 \tKL-z2: 463.35654 \tlog_q(y|z1): -170.4458\n",
      "32 Train total loss: 2469.275 \tReconstruction loss: 571.239 \tKL-z1: 1572.6985 \tKL-z2: 484.76138 \tlog_q(y|z1): -159.42416\n",
      "33 Train total loss: 2334.7588 \tReconstruction loss: 533.0397 \tKL-z1: 1493.0356 \tKL-z2: 477.15958 \tlog_q(y|z1): -168.47595\n",
      "34 Train total loss: 2077.3606 \tReconstruction loss: 415.7519 \tKL-z1: 1348.6377 \tKL-z2: 492.92828 \tlog_q(y|z1): -179.95732\n",
      "35 Train total loss: 2476.707 \tReconstruction loss: 455.597 \tKL-z1: 1656.132 \tKL-z2: 524.7997 \tlog_q(y|z1): -159.82164\n",
      "36 Train total loss: 2337.5266 \tReconstruction loss: 465.481 \tKL-z1: 1511.0709 \tKL-z2: 522.8294 \tlog_q(y|z1): -161.85475\n",
      "37 Train total loss: 2136.4187 \tReconstruction loss: 364.65503 \tKL-z1: 1388.0406 \tKL-z2: 538.04 \tlog_q(y|z1): -154.3169\n",
      "38 Train total loss: 2162.1843 \tReconstruction loss: 396.3352 \tKL-z1: 1410.061 \tKL-z2: 518.9627 \tlog_q(y|z1): -163.17451\n",
      "39 Train total loss: 1997.5164 \tReconstruction loss: 383.13153 \tKL-z1: 1305.3296 \tKL-z2: 483.22525 \tlog_q(y|z1): -174.1699\n",
      "40 Train total loss: 2253.683 \tReconstruction loss: 357.87247 \tKL-z1: 1556.5664 \tKL-z2: 528.7702 \tlog_q(y|z1): -189.52625\n",
      "41 Train total loss: 2177.1084 \tReconstruction loss: 387.90274 \tKL-z1: 1467.5935 \tKL-z2: 492.3079 \tlog_q(y|z1): -170.6957\n",
      "42 Train total loss: 1840.4104 \tReconstruction loss: 296.9203 \tKL-z1: 1178.6741 \tKL-z2: 542.7111 \tlog_q(y|z1): -177.89511\n",
      "43 Train total loss: 1931.1565 \tReconstruction loss: 275.96176 \tKL-z1: 1317.9866 \tKL-z2: 515.83777 \tlog_q(y|z1): -178.62961\n",
      "44 Train total loss: 1871.1763 \tReconstruction loss: 273.45306 \tKL-z1: 1265.7864 \tKL-z2: 517.3821 \tlog_q(y|z1): -185.44537\n",
      "45 Train total loss: 1859.2452 \tReconstruction loss: 298.91254 \tKL-z1: 1196.4056 \tKL-z2: 547.0801 \tlog_q(y|z1): -183.15292\n",
      "46 Train total loss: 1820.2405 \tReconstruction loss: 150.06982 \tKL-z1: 1323.9062 \tKL-z2: 534.5039 \tlog_q(y|z1): -188.23952\n",
      "47 Train total loss: 1789.9971 \tReconstruction loss: 233.01129 \tKL-z1: 1213.51 \tKL-z2: 517.58484 \tlog_q(y|z1): -174.10916\n",
      "48 Train total loss: 1729.5823 \tReconstruction loss: 86.57312 \tKL-z1: 1340.3569 \tKL-z2: 476.47348 \tlog_q(y|z1): -173.82129\n",
      "49 Train total loss: 1831.8354 \tReconstruction loss: 245.4569 \tKL-z1: 1278.617 \tKL-z2: 488.7597 \tlog_q(y|z1): -180.99811\n"
     ]
    }
   ],
   "source": [
    "# Training  using Test Data\n",
    "n_epochs = 50\n",
    "batch_size = 100\n",
    "n_digits = 60\n",
    "\n",
    "with tf.Session() as sess:\n",
    "    init.run()\n",
    "    for epoch in range(n_epochs):\n",
    "        # n_batches = mnist.train.num_examples // batch_size\n",
    "        n_batches = data_reader.num_batches\n",
    "        for iteration in range(n_batches):\n",
    "            print(\"\\r{}%\".format(100 * iteration // n_batches), end=\"\")\n",
    "            X_batch, y_batch = data_reader.next_batch()\n",
    "            sess.run(training_op, feed_dict={X: X_batch[:,:-n_s],\n",
    "                                    s: X_batch[:,-n_s:],\n",
    "                                    #you replace y_batch[:,np.newaxis] with just y_batch          \n",
    "                                    #y: y_batch[:,np.newaxis],        \n",
    "                                    y: y_batch,\n",
    "                                   #is_unlabelled: False\n",
    "                                            })\n",
    "        kl_z2_val, kl_z1_val, log_q_y_z1_val, reconstruction_loss_val, loss_val = sess.run([\n",
    "                kl_z2,\n",
    "                kl_z1,\n",
    "                log_q_y_z1,\n",
    "                reconstruction_loss,\n",
    "                cost],\n",
    "                feed_dict={X: X_batch[:,:-n_s],\n",
    "                        s: X_batch[:,-n_s:],\n",
    "                        #you replace y_batch[:,np.newaxis] with just y_batch \n",
    "                        #y: y_batch[:,np.newaxis]\n",
    "                        y: y_batch})\n",
    "        saver.save(sess, \"./mytest_model_all_layers.ckpt\")\n",
    "        print(\"\\r{}\".format(epoch), \"Train total loss:\", loss_val,\n",
    "         \"\\tReconstruction loss:\", reconstruction_loss_val,\n",
    "          \"\\tKL-z1:\", kl_z1_val,\n",
    "          \"\\tKL-z2:\", kl_z2_val,\n",
    "          \"\\tlog_q(y|z1):\", log_q_y_z1_val)"
   ]
  },
  {
   "cell_type": "code",
   "execution_count": 38,
   "metadata": {},
   "outputs": [
    {
     "name": "stdout",
     "output_type": "stream",
     "text": [
      "INFO:tensorflow:Restoring parameters from ./mytest_model_all_layers.ckpt\n"
     ]
    }
   ],
   "source": [
    "data_reader = dataReader(X_scaler[:upper_lim,:],y_bin[:upper_lim,np.newaxis], batch_size=150)\n",
    "#sess = restore_session(\"./my_model_all_layers.ckpt\")\n",
    "sess = restore_session(\"./mytest_model_all_layers.ckpt\")"
   ]
  },
  {
   "cell_type": "code",
   "execution_count": 39,
   "metadata": {
    "collapsed": true
   },
   "outputs": [],
   "source": [
    "n_batches = data_reader.num_batches\n",
    "encodings = None\n",
    "for iteration in range(n_batches):\n",
    "    X_batch, y_batch = data_reader.next_batch()\n",
    "    codings_rnd = np.random.normal(scale=2,size=[n_digits, n_hidden2])\n",
    "    s_rnd = X_batch[:, -n_s:]\n",
    "    if encodings is None:\n",
    "        encodings = sess.run(hidden2,feed_dict={X: X_batch[:,:-n_s],\n",
    "                                            s: s_rnd,\n",
    "                                            y: y_batch,\n",
    "                                            })\n",
    "    else:\n",
    "        new_encodings = sess.run(hidden2,feed_dict={X: X_batch[:,:-n_s],\n",
    "                                            s: s_rnd,\n",
    "                                            y: y_batch,\n",
    "                                            })\n",
    "        encodings = np.concatenate((encodings, new_encodings))\n",
    "sess.close()"
   ]
  },
  {
   "cell_type": "code",
   "execution_count": 40,
   "metadata": {},
   "outputs": [
    {
     "data": {
      "text/plain": [
       "array([[ 5.1388073e-01,  1.1245508e+00,  1.6173003e+00, ...,\n",
       "         8.9260030e-01, -1.2240034e-01,  1.5899843e-01],\n",
       "       [ 1.2821453e+00,  2.1456480e+00,  2.1543977e+00, ...,\n",
       "         2.8752856e+00, -3.3987420e+00,  1.5216279e-01],\n",
       "       [ 1.0283835e+00,  1.1371301e+00,  3.7215955e+00, ...,\n",
       "         2.3477726e+00, -9.6792531e-01, -1.7790174e-01],\n",
       "       ...,\n",
       "       [ 2.8108841e-01,  8.6981964e-01,  1.7604111e-01, ...,\n",
       "        -2.7629605e-01,  1.6088486e-03,  2.7655661e+00],\n",
       "       [ 1.7274559e+00,  9.4036657e-01,  1.3196875e-01, ...,\n",
       "        -2.6386590e+00,  4.7366416e-01, -4.4455914e+00],\n",
       "       [ 9.1038942e-02,  8.9013159e-01, -3.6004763e+00, ...,\n",
       "        -1.2782619e+00,  1.1992254e+01, -1.0526474e+00]], dtype=float32)"
      ]
     },
     "execution_count": 40,
     "metadata": {},
     "output_type": "execute_result"
    }
   ],
   "source": [
    "\n",
    "encodings # train regression model on encodings now"
   ]
  }
 ],
 "metadata": {
  "kernelspec": {
   "display_name": "Python 3",
   "language": "python",
   "name": "python3"
  },
  "language_info": {
   "codemirror_mode": {
    "name": "ipython",
    "version": 3
   },
   "file_extension": ".py",
   "mimetype": "text/x-python",
   "name": "python",
   "nbconvert_exporter": "python",
   "pygments_lexer": "ipython3",
   "version": "3.6.3"
  }
 },
 "nbformat": 4,
 "nbformat_minor": 2
}
