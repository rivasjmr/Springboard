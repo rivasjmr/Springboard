{
 "cells": [
  {
   "cell_type": "markdown",
   "metadata": {},
   "source": [
    "https://www.propublica.org/article/how-we-analyzed-the-compas-recidivism-algorithm\n",
    "\n",
    "Context\n",
    "COMPAS (Correctional Offender Management Profiling for Alternative Sanctions) is a popular commercial algorithm used by judges\n",
    "and parole officers for scoring criminal defendant’s likelihood of reoffending (recidivism). It has been shown that the algorithm\n",
    "is biased in favor of white defendants, and against black inmates, based on a 2 year follow up study (i.e who actually committed\n",
    "crimes or violent crimes after 2 years). The pattern of mistakes, as measured by precision/sensitivity is notable.\n",
    "\n",
    "Quoting from ProPublica: \n",
    "\n",
    "Black defendants were often predicted to be at a higher risk of recidivism than they actually were. Our analysis found that black defendants\n",
    "who did not recidivate over a two-year period were nearly twice as likely to be misclassified as higher risk compared to their white counterparts\n",
    "(45 percent vs. 23 percent). White defendants were often predicted to be less risky than they were. Our analysis found that white defendants who\n",
    "re-offended within the next two years were mistakenly labeled low risk almost twice as often as black re-offenders (48 percent vs. 28 percent).\n",
    "The analysis also showed that even when controlling for prior crimes, future recidivism, age, and gender, black defendants were 45 percent more\n",
    "likely to be assigned higher risk scores than white defendants.\n",
    "\n",
    "Black defendants were also twice as likely as white defendants to be misclassified as being a higher risk of violent recidivism. And white violent\n",
    "recidivists were 63 percent more likely to have been misclassified as a low risk of violent recidivism, compared with black violent recidivists.\n",
    "The violent recidivism analysis also showed that even when controlling for prior crimes, future recidivism, age, and gender, black defendants were\n",
    "77 percent more likely to be assigned higher risk scores than white defendants. \"\n",
    "\n",
    "Content\n",
    "Data contains variables used by the COMPAS algorithm in scoring defendants, along with their outcomes within 2 years of the decision, for over\n",
    "10,000 criminal defendants in Broward County, Florida. 3 subsets of the data are provided, including a subset of only violent\n",
    "recividism (as opposed to, e.g. being reincarcerated for non violent offenses such as vagrancy or Marijuana).\n",
    "\n",
    "Indepth analysis by ProPublica can be found in their data methodology article.\n",
    "\n",
    "\n",
    "\n",
    "Each pretrial defendant received at least three COMPAS scores:  (DisplayText)\n",
    "“Risk of Recidivism,”\n",
    "“Risk of Violence” \n",
    "“Risk of Failure to Appear.”\n",
    "\n",
    "COMPAS scores for each defendant ranged from1 to 10, with ten being the highest risk. Scores (ScoreTex)\n",
    "1 to 4 were labeled by COMPAS as “Low”;\n",
    "5 to 7 were labeled “Medium”; and\n",
    "8 to 10 were labeled “High.”\n",
    "\n",
    "\n",
    "Columns\n",
    "0 - 4  : 'Person_ID','AssessmentID','Case_ID','Agency_Text', 'LastName',\n",
    "5 - 9  : 'FirstName', 'MiddleName', 'Sex_Code_Text', 'Ethnic_Code_Text','DateOfBirth',\n",
    "10 - 14: 'ScaleSet_ID', 'ScaleSet', 'AssessmentReason','Language', 'LegalStatus',\n",
    "15 - 19: 'CustodyStatus', 'MaritalStatus','Screening_Date', 'RecSupervisionLevel', 'RecSupervisionLevelText',\n",
    "20 - 24: 'Scale_ID', 'DisplayText', 'RawScore', 'DecileScore', 'ScoreText',\n",
    "25 - 27: 'AssessmentType', 'IsCompleted', 'IsDeleted'"
   ]
  },
  {
   "cell_type": "code",
   "execution_count": 1,
   "metadata": {
    "collapsed": true
   },
   "outputs": [],
   "source": [
    "# loading libraries\n",
    "import pandas as pd\n",
    "import numpy as np\n",
    "import matplotlib.pyplot as plt"
   ]
  },
  {
   "cell_type": "code",
   "execution_count": 2,
   "metadata": {
    "collapsed": true
   },
   "outputs": [],
   "source": [
    "# load dataset\n",
    "path = 'C:\\\\Users\\\\rivas\\\\OneDrive\\\\Documents\\\\JMR\\\\Education\\\\Springboard\\\\Projects\\\\Capstone2\\\\'\n",
    "int_fnm = path + 'data\\\\compass\\\\compas-scores-raw.csv'\n",
    "df = pd.read_csv(int_fnm)"
   ]
  },
  {
   "cell_type": "code",
   "execution_count": 3,
   "metadata": {},
   "outputs": [
    {
     "name": "stdout",
     "output_type": "stream",
     "text": [
      "(60843, 28)\n",
      "<class 'pandas.core.frame.DataFrame'>\n",
      "RangeIndex: 60843 entries, 0 to 60842\n",
      "Data columns (total 28 columns):\n",
      "Person_ID                  60843 non-null int64\n",
      "AssessmentID               60843 non-null int64\n",
      "Case_ID                    60843 non-null int64\n",
      "Agency_Text                60843 non-null object\n",
      "LastName                   60843 non-null object\n",
      "FirstName                  60843 non-null object\n",
      "MiddleName                 15648 non-null object\n",
      "Sex_Code_Text              60843 non-null object\n",
      "Ethnic_Code_Text           60843 non-null object\n",
      "DateOfBirth                60843 non-null object\n",
      "ScaleSet_ID                60843 non-null int64\n",
      "ScaleSet                   60843 non-null object\n",
      "AssessmentReason           60843 non-null object\n",
      "Language                   60843 non-null object\n",
      "LegalStatus                60843 non-null object\n",
      "CustodyStatus              60843 non-null object\n",
      "MaritalStatus              60843 non-null object\n",
      "Screening_Date             60843 non-null object\n",
      "RecSupervisionLevel        60843 non-null int64\n",
      "RecSupervisionLevelText    60843 non-null object\n",
      "Scale_ID                   60843 non-null int64\n",
      "DisplayText                60843 non-null object\n",
      "RawScore                   60843 non-null float64\n",
      "DecileScore                60843 non-null int64\n",
      "ScoreText                  60798 non-null object\n",
      "AssessmentType             60843 non-null object\n",
      "IsCompleted                60843 non-null int64\n",
      "IsDeleted                  60843 non-null int64\n",
      "dtypes: float64(1), int64(9), object(18)\n",
      "memory usage: 13.0+ MB\n",
      "None\n"
     ]
    }
   ],
   "source": [
    "# initial EDA\n",
    "print(df.shape)\n",
    "print(df.info())"
   ]
  },
  {
   "cell_type": "code",
   "execution_count": 4,
   "metadata": {},
   "outputs": [
    {
     "name": "stdout",
     "output_type": "stream",
     "text": [
      "African-American    27018\n",
      "Caucasian           21783\n",
      "Hispanic             8742\n",
      "Other                2592\n",
      "Asian                 324\n",
      "Native American       219\n",
      "Arabic                 75\n",
      "African-Am             51\n",
      "Oriental               39\n",
      "Name: Ethnic_Code_Text, dtype: int64\n",
      " 1     18465\n",
      " 2      9192\n",
      " 3      8492\n",
      " 4      5338\n",
      " 5      4831\n",
      " 6      4319\n",
      " 7      3338\n",
      " 8      2799\n",
      " 9      2386\n",
      " 10     1638\n",
      "-1        45\n",
      "Name: DecileScore, dtype: int64\n"
     ]
    }
   ],
   "source": [
    "print(pd.value_counts(df['Ethnic_Code_Text']))\n",
    "print(pd.value_counts(df['DecileScore']))"
   ]
  },
  {
   "cell_type": "code",
   "execution_count": 5,
   "metadata": {},
   "outputs": [
    {
     "data": {
      "text/plain": [
       "African-American    27069\n",
       "Caucasian           21783\n",
       "Hispanic             8742\n",
       "Other                2592\n",
       "Asian                 324\n",
       "Native American       219\n",
       "Arabic                 75\n",
       "Oriental               39\n",
       "Name: Ethnic_Code_Text, dtype: int64"
      ]
     },
     "execution_count": 5,
     "metadata": {},
     "output_type": "execute_result"
    }
   ],
   "source": [
    "# Data Cleanup\n",
    "\n",
    "#  update 'Ethnic_Code_Text' to have conistent values for African Americans\n",
    "df.Ethnic_Code_Text.unique()\n",
    "df.loc[df['Ethnic_Code_Text'] == 'African-Am', 'Ethnic_Code_Text'] = 'African-American'\n",
    "pd.value_counts(df['Ethnic_Code_Text'])\n",
    "          "
   ]
  },
  {
   "cell_type": "code",
   "execution_count": 6,
   "metadata": {},
   "outputs": [
    {
     "data": {
      "text/plain": [
       "1     18465\n",
       "2      9192\n",
       "3      8492\n",
       "4      5338\n",
       "5      4831\n",
       "6      4319\n",
       "7      3338\n",
       "8      2799\n",
       "9      2386\n",
       "10     1638\n",
       "Name: DecileScore, dtype: int64"
      ]
     },
     "execution_count": 6,
     "metadata": {},
     "output_type": "execute_result"
    }
   ],
   "source": [
    "# DecileScore should be between 1 & 10, delete otherwise\n",
    "df.DecileScore.unique()\n",
    "(df['DecileScore'] < 1).sum()\n",
    "# remove DecileScore < 1\n",
    "df = df[df.DecileScore >= 1]\n",
    "(df['DecileScore'] < 1).sum()\n",
    "pd.value_counts(df['DecileScore'])"
   ]
  },
  {
   "cell_type": "code",
   "execution_count": 7,
   "metadata": {},
   "outputs": [
    {
     "name": "stdout",
     "output_type": "stream",
     "text": [
      "black : (27053, 28)  white:  (21765, 28)  joint:  (48818, 28)\n"
     ]
    }
   ],
   "source": [
    "# Slice by 'Ethnic_Code_Text' for blacks & whites\n",
    "black = df.loc[df['Ethnic_Code_Text'] == 'African-American']\n",
    "white = df.loc[df['Ethnic_Code_Text'] == 'Caucasian']\n",
    "joint = df.loc[df['Ethnic_Code_Text'].isin (['Caucasian','African-American'])]\n",
    "print('black :', black.shape, ' white: ', white.shape, ' joint: ', joint.shape)"
   ]
  },
  {
   "cell_type": "code",
   "execution_count": 8,
   "metadata": {},
   "outputs": [
    {
     "name": "stdout",
     "output_type": "stream",
     "text": [
      "male : (47479, 28)  female:  (13319, 28)\n"
     ]
    }
   ],
   "source": [
    "# Slice by 'Sex_Code_Text' for males & females\n",
    "male = df.loc[df['Sex_Code_Text'] == 'Male']\n",
    "female = df.loc[df['Sex_Code_Text'] == 'Female']\n",
    "print('male :', male.shape, ' female: ', female.shape)"
   ]
  },
  {
   "cell_type": "code",
   "execution_count": 9,
   "metadata": {},
   "outputs": [
    {
     "name": "stdout",
     "output_type": "stream",
     "text": [
      "Race:  (8, 27)  Gender: (2, 27)\n"
     ]
    }
   ],
   "source": [
    "# Aggregate\n",
    "grprace = df.groupby(['Ethnic_Code_Text']).count()\n",
    "grpgender = df.groupby(['Sex_Code_Text']).count()\n",
    "print('Race: ',grprace.shape, ' Gender:', grpgender.shape)"
   ]
  },
  {
   "cell_type": "code",
   "execution_count": 10,
   "metadata": {},
   "outputs": [
    {
     "data": {
      "text/html": [
       "<div>\n",
       "<style>\n",
       "    .dataframe thead tr:only-child th {\n",
       "        text-align: right;\n",
       "    }\n",
       "\n",
       "    .dataframe thead th {\n",
       "        text-align: left;\n",
       "    }\n",
       "\n",
       "    .dataframe tbody tr th {\n",
       "        vertical-align: top;\n",
       "    }\n",
       "</style>\n",
       "<table border=\"1\" class=\"dataframe\">\n",
       "  <thead>\n",
       "    <tr style=\"text-align: right;\">\n",
       "      <th></th>\n",
       "      <th>DecileScore</th>\n",
       "    </tr>\n",
       "    <tr>\n",
       "      <th>Ethnic_Code_Text</th>\n",
       "      <th></th>\n",
       "    </tr>\n",
       "  </thead>\n",
       "  <tbody>\n",
       "    <tr>\n",
       "      <th>African-American</th>\n",
       "      <td>44.50</td>\n",
       "    </tr>\n",
       "    <tr>\n",
       "      <th>Arabic</th>\n",
       "      <td>0.12</td>\n",
       "    </tr>\n",
       "    <tr>\n",
       "      <th>Asian</th>\n",
       "      <td>0.53</td>\n",
       "    </tr>\n",
       "    <tr>\n",
       "      <th>Caucasian</th>\n",
       "      <td>35.80</td>\n",
       "    </tr>\n",
       "    <tr>\n",
       "      <th>Hispanic</th>\n",
       "      <td>14.36</td>\n",
       "    </tr>\n",
       "    <tr>\n",
       "      <th>Native American</th>\n",
       "      <td>0.36</td>\n",
       "    </tr>\n",
       "    <tr>\n",
       "      <th>Oriental</th>\n",
       "      <td>0.06</td>\n",
       "    </tr>\n",
       "    <tr>\n",
       "      <th>Other</th>\n",
       "      <td>4.26</td>\n",
       "    </tr>\n",
       "  </tbody>\n",
       "</table>\n",
       "</div>"
      ],
      "text/plain": [
       "                  DecileScore\n",
       "Ethnic_Code_Text             \n",
       "African-American        44.50\n",
       "Arabic                   0.12\n",
       "Asian                    0.53\n",
       "Caucasian               35.80\n",
       "Hispanic                14.36\n",
       "Native American          0.36\n",
       "Oriental                 0.06\n",
       "Other                    4.26"
      ]
     },
     "execution_count": 10,
     "metadata": {},
     "output_type": "execute_result"
    }
   ],
   "source": [
    "## Display group data\n",
    "# % data distribution by Ethnic_Code_Text\n",
    "round(grprace[['DecileScore']]/len(df),4)*100"
   ]
  },
  {
   "cell_type": "code",
   "execution_count": 11,
   "metadata": {},
   "outputs": [
    {
     "data": {
      "text/html": [
       "<div>\n",
       "<style>\n",
       "    .dataframe thead tr:only-child th {\n",
       "        text-align: right;\n",
       "    }\n",
       "\n",
       "    .dataframe thead th {\n",
       "        text-align: left;\n",
       "    }\n",
       "\n",
       "    .dataframe tbody tr th {\n",
       "        vertical-align: top;\n",
       "    }\n",
       "</style>\n",
       "<table border=\"1\" class=\"dataframe\">\n",
       "  <thead>\n",
       "    <tr style=\"text-align: right;\">\n",
       "      <th></th>\n",
       "      <th>DecileScore</th>\n",
       "    </tr>\n",
       "    <tr>\n",
       "      <th>Sex_Code_Text</th>\n",
       "      <th></th>\n",
       "    </tr>\n",
       "  </thead>\n",
       "  <tbody>\n",
       "    <tr>\n",
       "      <th>Female</th>\n",
       "      <td>21.91</td>\n",
       "    </tr>\n",
       "    <tr>\n",
       "      <th>Male</th>\n",
       "      <td>78.09</td>\n",
       "    </tr>\n",
       "  </tbody>\n",
       "</table>\n",
       "</div>"
      ],
      "text/plain": [
       "               DecileScore\n",
       "Sex_Code_Text             \n",
       "Female               21.91\n",
       "Male                 78.09"
      ]
     },
     "execution_count": 11,
     "metadata": {},
     "output_type": "execute_result"
    }
   ],
   "source": [
    "# % data distribution by Sex_Code_Text\n",
    "round(grpgender[['DecileScore']]/len(df),4)*100"
   ]
  },
  {
   "cell_type": "code",
   "execution_count": 12,
   "metadata": {},
   "outputs": [
    {
     "name": "stdout",
     "output_type": "stream",
     "text": [
      "Mean DecileScore by Race\n",
      "Caucasian -  3.11\n",
      "African-American -  4.29\n",
      "Hispanic -  2.86\n",
      "Other -  2.51\n",
      "Asian -  2.37\n",
      "Native American -  4.05\n",
      "Oriental -  2.74\n",
      "Arabic -  3.13\n"
     ]
    }
   ],
   "source": [
    "#########################################################################################\n",
    "# EDA\n",
    "\n",
    "# DecileScore Mean by race\n",
    "race=df.Ethnic_Code_Text.unique()\n",
    "print('Mean DecileScore by Race')\n",
    "for i in race:\n",
    "    mn = round(df.loc[df['Ethnic_Code_Text'] == i]['DecileScore'].mean(), 2)\n",
    "    print(i,'- ',mn)"
   ]
  },
  {
   "cell_type": "code",
   "execution_count": 13,
   "metadata": {},
   "outputs": [
    {
     "name": "stdout",
     "output_type": "stream",
     "text": [
      "Mean DecileScore by Gender\n",
      "Male -  3.66\n",
      "Female -  3.26\n"
     ]
    }
   ],
   "source": [
    "# DecileScore Mean by gender\n",
    "gender=df.Sex_Code_Text.unique()\n",
    "print('Mean DecileScore by Gender')\n",
    "for i in gender:\n",
    "    mn = round(df.loc[df['Sex_Code_Text'] == i]['DecileScore'].mean(), 2)\n",
    "    print(i,'- ',mn)"
   ]
  },
  {
   "cell_type": "code",
   "execution_count": 14,
   "metadata": {
    "collapsed": true
   },
   "outputs": [],
   "source": [
    "####################################################################################\n",
    "# Define grp_plot_compare:\n",
    "# creates groups and then plot them to compare them\n",
    "def grp_plot_compare(df1, df2, xlabel1, colnm1, total_pop, multby, title,label1, label2):\n",
    "    grp1 = df1.groupby([xlabel1]).count()\n",
    "    grp2 = df2.groupby([xlabel1]).count()\n",
    "    \n",
    "#   to be used for weighted average  \n",
    "    div1 = len(df1)\n",
    "    div2 = len(df2)\n",
    "    \n",
    "    n_groups = len(grp1)\n",
    "# create plot\n",
    "    fig, ax = plt.subplots()\n",
    "    index = np.arange(n_groups)\n",
    "    bar_width = 0.35\n",
    "    opacity = 0.8\n",
    "\n",
    "    rects1 = plt.bar(grp1.index,(round(grp1[colnm1]/div1,2)*multby), bar_width,\n",
    "                 alpha=opacity,\n",
    "                 color='b',\n",
    "                 label=label1)\n",
    "\n",
    "    rects2 = plt.bar(grp2.index+ bar_width, (round(grp2[colnm1]/div2,2)*multby), bar_width,\n",
    "                 alpha=opacity,\n",
    "                 color='g',\n",
    "                 label=label2)\n",
    "\n",
    "    plt.xlabel(xlabel1)\n",
    "    if total_pop > 1:\n",
    "        plt.ylabel('Percentage')\n",
    "    else:\n",
    "        plt.ylabel('Count')\n",
    "    plt.title(title)\n",
    "    plt.legend()\n",
    "    plt.tight_layout()\n",
    "    plt.show()\n",
    "    plt.clf()"
   ]
  },
  {
   "cell_type": "code",
   "execution_count": 16,
   "metadata": {},
   "outputs": [
    {
     "data": {
      "text/plain": [
       "<matplotlib.figure.Figure at 0x27a8dadccc0>"
      ]
     },
     "metadata": {},
     "output_type": "display_data"
    },
    {
     "data": {
      "image/png": "[encoded data removed]",
      "text/plain": [
       "<matplotlib.figure.Figure at 0x27a8da37630>"
      ]
     },
     "metadata": {},
     "output_type": "display_data"
    }
   ],
   "source": [
    "# Comparing White & Black defendants on the  'DecileScore'\n",
    "grp_plot_compare(white, black, 'DecileScore','Ethnic_Code_Text', len(df), 100, \\\n",
    "                 'DecileScore by Blacks & Whites ', \\\n",
    "                 'white','black')"
   ]
  },
  {
   "cell_type": "code",
   "execution_count": 17,
   "metadata": {},
   "outputs": [
    {
     "data": {
      "text/plain": [
       "<matplotlib.figure.Figure at 0x27a8dcaef28>"
      ]
     },
     "metadata": {},
     "output_type": "display_data"
    },
    {
     "data": {
      "image/png": "[encoded data removed]",
      "text/plain": [
       "<matplotlib.figure.Figure at 0x27a83d6b6d8>"
      ]
     },
     "metadata": {},
     "output_type": "display_data"
    }
   ],
   "source": [
    "# Comparing Male & Female defendants on the  'DecileScore'\n",
    "grp_plot_compare(female, male, 'DecileScore','Sex_Code_Text', len(df), 100, \\\n",
    "                 'Scores by Females & Males ', \\\n",
    "                 'Females','Males')"
   ]
  },
  {
   "cell_type": "code",
   "execution_count": 18,
   "metadata": {},
   "outputs": [
    {
     "data": {
      "text/plain": [
       "<matplotlib.figure.Figure at 0x27a8dc5a860>"
      ]
     },
     "metadata": {},
     "output_type": "display_data"
    },
    {
     "data": {
      "image/png": "[encoded data removed]",
      "text/plain": [
       "<matplotlib.figure.Figure at 0x27a8dbe9b00>"
      ]
     },
     "metadata": {},
     "output_type": "display_data"
    }
   ],
   "source": [
    "# Histogram overlay\n",
    "fig, ax = plt.subplots()\n",
    "black['DecileScore'].hist(bins=10, figsize=[14,6],color='g',alpha=.8 )\n",
    "white['DecileScore'].hist(bins=10, figsize=[14,6],color='b',alpha=.5 )\n",
    "plt.title('Histogram overlay of Blacks (green) & Whites (blue)')\n",
    "plt.legend()\n",
    "plt.xlabel('DecileScore')\n",
    "plt.ylabel('Count')\n",
    "plt.show()\n",
    "plt.clf()"
   ]
  },
  {
   "cell_type": "code",
   "execution_count": 19,
   "metadata": {
    "collapsed": true
   },
   "outputs": [],
   "source": [
    "# Prepare data to for ML: Gaussian Naive Bayes Classifier\n",
    "\n",
    "# Import libraries\n",
    "\n",
    "# For preprocessing the data\n",
    "from sklearn.preprocessing import Imputer\n",
    "from sklearn import preprocessing\n",
    "# To split the dataset into train and test datasets\n",
    "from sklearn.model_selection import train_test_split\n",
    "# To model the Gaussian Navie Bayes classifier\n",
    "from sklearn.naive_bayes import GaussianNB\n",
    "# To calculate the accuracy score of the model\n",
    "from sklearn.metrics import classification_report, confusion_matrix, accuracy_score"
   ]
  },
  {
   "cell_type": "code",
   "execution_count": 20,
   "metadata": {
    "collapsed": true
   },
   "outputs": [],
   "source": [
    "# Create new DataFrame of selected columns\n",
    "\"\"\"\n",
    "Columns\n",
    "0 - 4  : 'Person_ID','AssessmentID','Case_ID','Agency_Text', 'LastName',\n",
    "5 - 9  : 'FirstName', 'MiddleName', 'Sex_Code_Text', 'Ethnic_Code_Text','DateOfBirth',\n",
    "10 - 14: 'ScaleSet_ID', 'ScaleSet', 'AssessmentReason','Language', 'LegalStatus',\n",
    "15 - 19: 'CustodyStatus', 'MaritalStatus','Screening_Date', 'RecSupervisionLevel', 'RecSupervisionLevelText',\n",
    "20 - 24: 'Scale_ID', 'DisplayText', 'RawScore', 'DecileScore', 'ScoreText',\n",
    "25 - 27: 'AssessmentType', 'IsCompleted', 'IsDeleted'\n",
    "\"\"\"\n",
    "\n",
    "# slice for subset data features and targets\n",
    "df_subset = df.iloc[:, [0,1,2,3,4,5,7,8,9,11,12,13,14,15,16,17,19,21]] #features\n",
    "y = df.iloc[:,23] #target"
   ]
  },
  {
   "cell_type": "code",
   "execution_count": 21,
   "metadata": {
    "collapsed": true
   },
   "outputs": [],
   "source": [
    "#  One-Hot encoder. It encodes the data into binary format\n",
    "le = preprocessing.LabelEncoder()\n",
    "Agency_Text_cat = le.fit_transform(df_subset.Agency_Text)\n",
    "LastName_cat = le.fit_transform(df_subset.LastName)\n",
    "FirstName_cat = le.fit_transform(df_subset.FirstName)\n",
    "Sex_Code_Text_cat = le.fit_transform(df_subset.Sex_Code_Text)\n",
    "Ethnic_Code_Text_cat = le.fit_transform(df_subset.Ethnic_Code_Text)\n",
    "DateOfBirth_cat = le.fit_transform(df_subset.DateOfBirth)\n",
    "ScaleSet_cat = le.fit_transform(df_subset.ScaleSet)\n",
    "AssessmentReason_cat = le.fit_transform(df_subset.AssessmentReason)\n",
    "Language_cat = le.fit_transform(df_subset.Language)\n",
    "LegalStatus_cat = le.fit_transform(df_subset.LegalStatus)\n",
    "CustodyStatus_cat = le.fit_transform(df_subset.CustodyStatus)\n",
    "MaritalStatus_cat = le.fit_transform(df_subset.MaritalStatus)\n",
    "Screening_Date_cat = le.fit_transform(df_subset.Screening_Date)\n",
    "RecSupervisionLevelText_cat = le.fit_transform(df_subset.RecSupervisionLevelText)\n",
    "DisplayText_cat = le.fit_transform(df_subset.DisplayText)\n",
    "#"
   ]
  },
  {
   "cell_type": "code",
   "execution_count": 22,
   "metadata": {},
   "outputs": [
    {
     "name": "stderr",
     "output_type": "stream",
     "text": [
      "C:\\Users\\rivas\\Anaconda3\\lib\\site-packages\\ipykernel_launcher.py:3: SettingWithCopyWarning: \n",
      "A value is trying to be set on a copy of a slice from a DataFrame.\n",
      "Try using .loc[row_indexer,col_indexer] = value instead\n",
      "\n",
      "See the caveats in the documentation: http://pandas.pydata.org/pandas-docs/stable/indexing.html#indexing-view-versus-copy\n",
      "  This is separate from the ipykernel package so we can avoid doing imports until\n",
      "C:\\Users\\rivas\\Anaconda3\\lib\\site-packages\\ipykernel_launcher.py:4: SettingWithCopyWarning: \n",
      "A value is trying to be set on a copy of a slice from a DataFrame.\n",
      "Try using .loc[row_indexer,col_indexer] = value instead\n",
      "\n",
      "See the caveats in the documentation: http://pandas.pydata.org/pandas-docs/stable/indexing.html#indexing-view-versus-copy\n",
      "  after removing the cwd from sys.path.\n",
      "C:\\Users\\rivas\\Anaconda3\\lib\\site-packages\\ipykernel_launcher.py:5: SettingWithCopyWarning: \n",
      "A value is trying to be set on a copy of a slice from a DataFrame.\n",
      "Try using .loc[row_indexer,col_indexer] = value instead\n",
      "\n",
      "See the caveats in the documentation: http://pandas.pydata.org/pandas-docs/stable/indexing.html#indexing-view-versus-copy\n",
      "  \"\"\"\n",
      "C:\\Users\\rivas\\Anaconda3\\lib\\site-packages\\ipykernel_launcher.py:6: SettingWithCopyWarning: \n",
      "A value is trying to be set on a copy of a slice from a DataFrame.\n",
      "Try using .loc[row_indexer,col_indexer] = value instead\n",
      "\n",
      "See the caveats in the documentation: http://pandas.pydata.org/pandas-docs/stable/indexing.html#indexing-view-versus-copy\n",
      "  \n",
      "C:\\Users\\rivas\\Anaconda3\\lib\\site-packages\\ipykernel_launcher.py:7: SettingWithCopyWarning: \n",
      "A value is trying to be set on a copy of a slice from a DataFrame.\n",
      "Try using .loc[row_indexer,col_indexer] = value instead\n",
      "\n",
      "See the caveats in the documentation: http://pandas.pydata.org/pandas-docs/stable/indexing.html#indexing-view-versus-copy\n",
      "  import sys\n",
      "C:\\Users\\rivas\\Anaconda3\\lib\\site-packages\\ipykernel_launcher.py:8: SettingWithCopyWarning: \n",
      "A value is trying to be set on a copy of a slice from a DataFrame.\n",
      "Try using .loc[row_indexer,col_indexer] = value instead\n",
      "\n",
      "See the caveats in the documentation: http://pandas.pydata.org/pandas-docs/stable/indexing.html#indexing-view-versus-copy\n",
      "  \n",
      "C:\\Users\\rivas\\Anaconda3\\lib\\site-packages\\ipykernel_launcher.py:9: SettingWithCopyWarning: \n",
      "A value is trying to be set on a copy of a slice from a DataFrame.\n",
      "Try using .loc[row_indexer,col_indexer] = value instead\n",
      "\n",
      "See the caveats in the documentation: http://pandas.pydata.org/pandas-docs/stable/indexing.html#indexing-view-versus-copy\n",
      "  if __name__ == '__main__':\n",
      "C:\\Users\\rivas\\Anaconda3\\lib\\site-packages\\ipykernel_launcher.py:10: SettingWithCopyWarning: \n",
      "A value is trying to be set on a copy of a slice from a DataFrame.\n",
      "Try using .loc[row_indexer,col_indexer] = value instead\n",
      "\n",
      "See the caveats in the documentation: http://pandas.pydata.org/pandas-docs/stable/indexing.html#indexing-view-versus-copy\n",
      "  # Remove the CWD from sys.path while we load stuff.\n",
      "C:\\Users\\rivas\\Anaconda3\\lib\\site-packages\\ipykernel_launcher.py:11: SettingWithCopyWarning: \n",
      "A value is trying to be set on a copy of a slice from a DataFrame.\n",
      "Try using .loc[row_indexer,col_indexer] = value instead\n",
      "\n",
      "See the caveats in the documentation: http://pandas.pydata.org/pandas-docs/stable/indexing.html#indexing-view-versus-copy\n",
      "  # This is added back by InteractiveShellApp.init_path()\n"
     ]
    }
   ],
   "source": [
    "#initialize the encoded categorical columns\n",
    "df_rev = df_subset\n",
    "df_rev['Agency_Text_cat'] = Agency_Text_cat\n",
    "df_rev['LastName_cat'] = LastName_cat\n",
    "df_rev['FirstName_cat'] = FirstName_cat\n",
    "df_rev['Sex_Code_Text_cat'] = Sex_Code_Text_cat\n",
    "df_rev['Ethnic_Code_Text_cat'] = Ethnic_Code_Text_cat\n",
    "df_rev['DateOfBirth_cat'] = DateOfBirth_cat\n",
    "df_rev['ScaleSet_cat'] = ScaleSet_cat\n",
    "df_rev['AssessmentReason_cat'] = AssessmentReason_cat\n",
    "df_rev['Language_cat'] = Language_cat\n",
    "df_rev['LegalStatus_cat'] = LegalStatus_cat\n",
    "df_rev['CustodyStatus_cat'] = CustodyStatus_cat\n",
    "df_rev['MaritalStatus_cat'] = MaritalStatus_cat\n",
    "df_rev['Screening_Date_cat'] = Screening_Date_cat\n",
    "df_rev['RecSupervisionLevelText_cat'] = RecSupervisionLevelText_cat\n",
    "df_rev['DisplayText_cat'] = DisplayText_cat"
   ]
  },
  {
   "cell_type": "code",
   "execution_count": 23,
   "metadata": {},
   "outputs": [
    {
     "data": {
      "text/plain": [
       "Index(['Person_ID', 'AssessmentID', 'Case_ID', 'Agency_Text_cat',\n",
       "       'LastName_cat', 'FirstName_cat', 'Sex_Code_Text_cat',\n",
       "       'Ethnic_Code_Text_cat', 'DateOfBirth_cat', 'ScaleSet_cat',\n",
       "       'AssessmentReason_cat', 'Language_cat', 'LegalStatus_cat',\n",
       "       'CustodyStatus_cat', 'MaritalStatus_cat', 'Screening_Date_cat',\n",
       "       'RecSupervisionLevelText_cat', 'DisplayText_cat'],\n",
       "      dtype='object')"
      ]
     },
     "execution_count": 23,
     "metadata": {},
     "output_type": "execute_result"
    }
   ],
   "source": [
    "#drop the old categorical columns from dataframe\n",
    "dummy_fields = ['Agency_Text', 'LastName', 'FirstName', 'Sex_Code_Text',\n",
    "                  'Ethnic_Code_Text', 'DateOfBirth', 'ScaleSet',\n",
    "                  'AssessmentReason', 'Language', 'LegalStatus', 'CustodyStatus',\n",
    "                  'MaritalStatus', 'Screening_Date', 'RecSupervisionLevelText', 'DisplayText' ]\n",
    "df_rev = df_rev.drop(dummy_fields, axis = 1)\n",
    "df_rev.columns"
   ]
  },
  {
   "cell_type": "code",
   "execution_count": 24,
   "metadata": {
    "collapsed": true
   },
   "outputs": [],
   "source": [
    "# Standardizing\n",
    "from sklearn.preprocessing import StandardScaler\n",
    "X_std = StandardScaler().fit_transform(df_rev)"
   ]
  },
  {
   "cell_type": "code",
   "execution_count": 25,
   "metadata": {},
   "outputs": [
    {
     "name": "stdout",
     "output_type": "stream",
     "text": [
      "Length for X_train: 48638  X_test: 12160  y_train: 48638  y_test: 12160\n"
     ]
    }
   ],
   "source": [
    "# Split data train and test, first import library\n",
    "X_train, X_test, y_train, y_test = train_test_split(X_std, y, test_size=0.2)\n",
    "print('Length for X_train:', len(X_train), ' X_test:',len(X_test), ' y_train:',len(y_train) ,' y_test:',len(y_test)) "
   ]
  },
  {
   "cell_type": "code",
   "execution_count": 26,
   "metadata": {
    "collapsed": true
   },
   "outputs": [],
   "source": [
    "#  GaussianNB \n",
    "Gclf = GaussianNB()\n",
    "Gclf.fit(X_train, y_train)\n",
    "y_pred = Gclf.predict(X_test)\n"
   ]
  },
  {
   "cell_type": "code",
   "execution_count": 27,
   "metadata": {},
   "outputs": [
    {
     "name": "stdout",
     "output_type": "stream",
     "text": [
      "0.0859375\n",
      "[[ 471    0    0    0    0    0    0 3233    0   85]\n",
      " [ 129    0    0    0    0    0    0 1685    0   78]\n",
      " [  78    0    0    0    0    0    0 1534    0  101]\n",
      " [  34    0    0    0    0    0    0  914    0   70]\n",
      " [  17    0    0    0    0    0    0  835    0   79]\n",
      " [   9    0    0    0    0    0    0  745    0   65]\n",
      " [   6    0    0    0    0    0    0  584    0   67]\n",
      " [   5    0    0    0    0    0    0  438    0  118]\n",
      " [   1    0    0    0    0    0    0  318    0  143]\n",
      " [   1    0    0    0    0    0    0  181    0  136]]\n",
      "             precision    recall  f1-score   support\n",
      "\n",
      "          1       0.63      0.12      0.21      3789\n",
      "          2       0.00      0.00      0.00      1892\n",
      "          3       0.00      0.00      0.00      1713\n",
      "          4       0.00      0.00      0.00      1018\n",
      "          5       0.00      0.00      0.00       931\n",
      "          6       0.00      0.00      0.00       819\n",
      "          7       0.00      0.00      0.00       657\n",
      "          8       0.04      0.78      0.08       561\n",
      "          9       0.00      0.00      0.00       462\n",
      "         10       0.14      0.43      0.22       318\n",
      "\n",
      "avg / total       0.20      0.09      0.07     12160\n",
      "\n"
     ]
    },
    {
     "name": "stderr",
     "output_type": "stream",
     "text": [
      "C:\\Users\\rivas\\Anaconda3\\lib\\site-packages\\sklearn\\metrics\\classification.py:1135: UndefinedMetricWarning: Precision and F-score are ill-defined and being set to 0.0 in labels with no predicted samples.\n",
      "  'precision', 'predicted', average, warn_for)\n"
     ]
    }
   ],
   "source": [
    "# Evaluate\n",
    "print(accuracy_score(y_test, y_pred, normalize = True))\n",
    "print(confusion_matrix(y_test, y_pred))  \n",
    "print(classification_report(y_test, y_pred))"
   ]
  },
  {
   "cell_type": "code",
   "execution_count": 28,
   "metadata": {
    "collapsed": true
   },
   "outputs": [],
   "source": [
    "# KNN\n",
    "from sklearn.neighbors import KNeighborsClassifier  \n",
    "KNclf = KNeighborsClassifier(n_neighbors=5)  \n",
    "KNclf.fit(X_train, y_train)\n",
    "y_pred = KNclf.predict(X_test)"
   ]
  },
  {
   "cell_type": "code",
   "execution_count": 29,
   "metadata": {},
   "outputs": [
    {
     "name": "stdout",
     "output_type": "stream",
     "text": [
      "0.33248355263157897\n",
      "[[2787  481  297   83   68   28   23   10    8    4]\n",
      " [1097  309  243   93   54   49   24   12    8    3]\n",
      " [ 884  276  232  105   78   64   34   22   12    6]\n",
      " [ 455  168  132   90   52   65   32    8   11    5]\n",
      " [ 373  139  126   62   70   73   46   24   12    6]\n",
      " [ 185   91   83   52   64  178  107   37   15    7]\n",
      " [ 103   75   79   53   50  145   95   40   11    6]\n",
      " [ 105   56   33   30   22   32   32  129   95   27]\n",
      " [  54   28   42   14   17   24   25   97  104   57]\n",
      " [  40   27   24   20    4   10   18   56   70   49]]\n",
      "             precision    recall  f1-score   support\n",
      "\n",
      "          1       0.46      0.74      0.56      3789\n",
      "          2       0.19      0.16      0.17      1892\n",
      "          3       0.18      0.14      0.15      1713\n",
      "          4       0.15      0.09      0.11      1018\n",
      "          5       0.15      0.08      0.10       931\n",
      "          6       0.27      0.22      0.24       819\n",
      "          7       0.22      0.14      0.17       657\n",
      "          8       0.30      0.23      0.26       561\n",
      "          9       0.30      0.23      0.26       462\n",
      "         10       0.29      0.15      0.20       318\n",
      "\n",
      "avg / total       0.28      0.33      0.29     12160\n",
      "\n"
     ]
    }
   ],
   "source": [
    "# Evaluate\n",
    "print(accuracy_score(y_test, y_pred, normalize = True))\n",
    "print(confusion_matrix(y_test, y_pred))  \n",
    "print(classification_report(y_test, y_pred))"
   ]
  },
  {
   "cell_type": "code",
   "execution_count": null,
   "metadata": {
    "collapsed": true
   },
   "outputs": [],
   "source": []
  }
 ],
 "metadata": {
  "kernelspec": {
   "display_name": "Python 3",
   "language": "python",
   "name": "python3"
  },
  "language_info": {
   "codemirror_mode": {
    "name": "ipython",
    "version": 3
   },
   "file_extension": ".py",
   "mimetype": "text/x-python",
   "name": "python",
   "nbconvert_exporter": "python",
   "pygments_lexer": "ipython3",
   "version": "3.6.3"
  }
 },
 "nbformat": 4,
 "nbformat_minor": 2
}
