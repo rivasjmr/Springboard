{
 "cells": [
  {
   "cell_type": "markdown",
   "metadata": {},
   "source": [
    "\n",
    "Machine learning is producing increase advantages in business values and efficiencies.  However, we need to be alert of bias in machine learning models that are producing inequalities to large portions of the population.  These bias models can target gender, race, age, income levels, …   The effect can include lost opportunities for employment, financial services, housing, fair judicial system, …\n",
    "\n",
    "This bias and potential inequality can be an unnoticed process but have a powerful impact.  It is up to us to include in our development and maintenance process to look for bias in eradicate it.\n",
    "Machine learning by default is bias, since it relies on statistical bias. This is required to make predictions, classifications, and correlations on new data the model has never seen before. However, focus needs to be put on the bias on the algorithms and training data used to create the models in the first place.\n",
    "\n",
    "We will focus on  research conducted by ProPublica, a non-profit research institution, it was found that COMPAS, a machine learning algorithm used to determine criminal defendants’ likelihood to recommit crimes.  \n",
    "We will:\n",
    "1.\tGet data \n",
    "2.\tInitial - Exploratory data analysis (EDA)\n",
    "3.\tInitial – Data Wrangling\n",
    "4.\tExploratory data analysis (EDA)\n",
    "5.\tFeature Engineering - Prepare the data for Machine Learning Algorithms\n",
    "6.\tTrain, Evaluate, and Select a Model\n",
    "\n",
    "Work in progress\n",
    "\n",
    "7.\tUsing Variant Autoencoder (VAE - tensorflow) \n",
    "   Build  ML transformer of original  dataset , but removes sensitivity (race) while keeping almost    all data\n",
    "   \n",
    "8.\tUsing Variant Fair Autoencoder (VFAE - tensorflow) \n",
    "   Bias is removed\n",
    "\n",
    "\n",
    "Data:\n",
    "•\tCompass dataset - The data set tracks Broward county Florida \n",
    "•\tUS census data for some initial data comparisons\n",
    "\n"
   ]
  },
  {
   "cell_type": "markdown",
   "metadata": {},
   "source": [
    "# Machine Bias\n",
    "# \n",
    "\"\"\"\n",
    "https://www.propublica.org/article/how-we-analyzed-the-compas-recidivism-algorithm\n",
    "\n",
    "Context\n",
    "COMPAS (Correctional Offender Management Profiling for Alternative Sanctions) is a popular commercial algorithm used by judges\n",
    "and parole officers for scoring criminal defendant’s likelihood of reoffending (recidivism). It has been shown that the algorithm\n",
    "is biased in favor of white defendants, and against black inmates, based on a 2 year follow up study (i.e who actually committed\n",
    "crimes or violent crimes after 2 years). The pattern of mistakes, as measured by precision/sensitivity is notable.\n",
    "\n",
    "Quoting from ProPublica: \n",
    "\n",
    "Black defendants were often predicted to be at a higher risk of recidivism than they actually were. Our analysis found that black defendants\n",
    "who did not recidivate over a two-year period were nearly twice as likely to be misclassified as higher risk compared to their white counterparts\n",
    "(45 percent vs. 23 percent). White defendants were often predicted to be less risky than they were. Our analysis found that white defendants who\n",
    "re-offended within the next two years were mistakenly labeled low risk almost twice as often as black re-offenders (48 percent vs. 28 percent).\n",
    "The analysis also showed that even when controlling for prior crimes, future recidivism, age, and gender, black defendants were 45 percent more\n",
    "likely to be assigned higher risk scores than white defendants.\n",
    "\n",
    "Black defendants were also twice as likely as white defendants to be misclassified as being a higher risk of violent recidivism. And white violent\n",
    "recidivists were 63 percent more likely to have been misclassified as a low risk of violent recidivism, compared with black violent recidivists.\n",
    "The violent recidivism analysis also showed that even when controlling for prior crimes, future recidivism, age, and gender, black defendants were\n",
    "77 percent more likely to be assigned higher risk scores than white defendants. \"\n",
    "\n",
    "Content\n",
    "Data contains variables used by the COMPAS algorithm in scoring defendants, along with their outcomes within 2 years of the decision, for over\n",
    "10,000 criminal defendants in Broward County, Florida. 3 subsets of the data are provided, including a subset of only violent\n",
    "recividism (as opposed to, e.g. being reincarcerated for non violent offenses such as vagrancy or Marijuana).\n",
    "\n",
    "Indepth analysis by ProPublica can be found in their data methodology article.\n",
    "\n",
    "\n",
    "\n",
    "Each pretrial defendant received at least three COMPAS scores:  (DisplayText)\n",
    "“Risk of Recidivism,”\n",
    "“Risk of Violence” \n",
    "“Risk of Failure to Appear.”\n",
    "\n",
    "COMPAS scores for each defendant ranged from1 to 10, with ten being the highest risk. Scores (ScoreTex)\n",
    "1 to 4 were labeled by COMPAS as “Low”;\n",
    "5 to 7 were labeled “Medium”; and\n",
    "8 to 10 were labeled “High.”\n",
    "\n",
    "\n",
    "Columns\n",
    "0 - 4  : 'Person_ID','AssessmentID','Case_ID','Agency_Text', 'LastName',\n",
    "5 - 9  : 'FirstName', 'MiddleName', 'Sex_Code_Text', 'Ethnic_Code_Text','DateOfBirth',\n",
    "10 - 14: 'ScaleSet_ID', 'ScaleSet', 'AssessmentReason','Language', 'LegalStatus',\n",
    "15 - 19: 'CustodyStatus', 'MaritalStatus','Screening_Date', 'RecSupervisionLevel', 'RecSupervisionLevelText',\n",
    "20 - 24: 'Scale_ID', 'DisplayText', 'RawScore', 'DecileScore', 'ScoreText',\n",
    "25 - 27: 'AssessmentType', 'IsCompleted', 'IsDeleted'"
   ]
  },
  {
   "cell_type": "code",
   "execution_count": 1,
   "metadata": {
    "collapsed": true
   },
   "outputs": [],
   "source": [
    "# loading libraries\n",
    "import pandas as pd\n",
    "import numpy as np\n",
    "import matplotlib.pyplot as plt\n",
    "# For preprocessing the data\n",
    "from sklearn.preprocessing import Imputer\n",
    "from sklearn import preprocessing\n",
    "# Standardizing\n",
    "from sklearn.preprocessing import StandardScaler\n",
    "# To split the dataset into train and test datasets\n",
    "from sklearn.model_selection import train_test_split\n",
    "# To calculate the accuracy score of the model\n",
    "from sklearn.metrics import classification_report, confusion_matrix, accuracy_score\n",
    "#\n",
    "from datetime import datetime\n",
    "from datetime import date\n",
    "#\n",
    "from sklearn.preprocessing import LabelEncoder\n",
    "from sklearn.preprocessing import OneHotEncoder\n",
    "#\n",
    "import collections\n"
   ]
  },
  {
   "cell_type": "code",
   "execution_count": 2,
   "metadata": {
    "collapsed": true
   },
   "outputs": [],
   "source": [
    "# load dataset\n",
    "pthfnm = \"./compas-scores-raw.csv\"\n",
    "df = pd.read_csv(pthfnm)"
   ]
  },
  {
   "cell_type": "code",
   "execution_count": null,
   "metadata": {
    "collapsed": true
   },
   "outputs": [],
   "source": [
    "# Initial data cleanup"
   ]
  },
  {
   "cell_type": "code",
   "execution_count": 5,
   "metadata": {},
   "outputs": [
    {
     "name": "stdout",
     "output_type": "stream",
     "text": [
      "African-American    27069\n",
      "Caucasian           21783\n",
      "Hispanic             8742\n",
      "Other                2592\n",
      "Asian                 324\n",
      "Native American       219\n",
      "Arabic                 75\n",
      "Oriental               39\n",
      "Name: Ethnic_Code_Text, dtype: int64\n"
     ]
    }
   ],
   "source": [
    "# update 'Ethnic_Code_Text' to have conistent values for African Americans\n",
    "df.loc[df['Ethnic_Code_Text'] == 'African-Am', 'Ethnic_Code_Text'] = 'African-American'\n",
    "print(pd.value_counts(df['Ethnic_Code_Text']))"
   ]
  },
  {
   "cell_type": "code",
   "execution_count": 6,
   "metadata": {},
   "outputs": [
    {
     "name": "stdout",
     "output_type": "stream",
     "text": [
      "45\n"
     ]
    }
   ],
   "source": [
    "# DecileScore should be between 1 & 10, delete otherwise\n",
    "df.DecileScore.unique()\n",
    "print((df['DecileScore'] < 1).sum())"
   ]
  },
  {
   "cell_type": "code",
   "execution_count": 7,
   "metadata": {
    "scrolled": true
   },
   "outputs": [
    {
     "name": "stdout",
     "output_type": "stream",
     "text": [
      "1     18465\n",
      "2      9192\n",
      "3      8492\n",
      "4      5338\n",
      "5      4831\n",
      "6      4319\n",
      "7      3338\n",
      "8      2799\n",
      "9      2386\n",
      "10     1638\n",
      "Name: DecileScore, dtype: int64\n"
     ]
    }
   ],
   "source": [
    "# remove DecileScore < 1\n",
    "df = df[df.DecileScore >= 1]\n",
    "print(pd.value_counts(df['DecileScore']))"
   ]
  },
  {
   "cell_type": "markdown",
   "metadata": {},
   "source": [
    "# EDA  - looking at potential bias\n",
    "\n"
   ]
  },
  {
   "cell_type": "markdown",
   "metadata": {},
   "source": [
    "# Feature Engineering"
   ]
  },
  {
   "cell_type": "code",
   "execution_count": 8,
   "metadata": {
    "collapsed": true
   },
   "outputs": [],
   "source": [
    "# Add column 'Age' from DateofBirth\n",
    "agelist = []\n",
    "currdate = date.today()\n",
    "for dte in df['DateOfBirth']:\n",
    "    brthdte = datetime.strptime(dte, '%m/%d/%y')\n",
    "    mnthday = (currdate.month, currdate.day) < (brthdte.month, brthdte.day)\n",
    "    if currdate.year > brthdte.year:\n",
    "        agelist.append(currdate.year - brthdte.year - (mnthday))\n",
    "    else:\n",
    "        agelist.append(-1)\n",
    "        "
   ]
  },
  {
   "cell_type": "code",
   "execution_count": 9,
   "metadata": {},
   "outputs": [
    {
     "name": "stdout",
     "output_type": "stream",
     "text": [
      "60798 60798\n",
      "Index(['Person_ID', 'AssessmentID', 'Case_ID', 'Agency_Text', 'LastName',\n",
      "       'FirstName', 'MiddleName', 'Sex_Code_Text', 'Ethnic_Code_Text',\n",
      "       'DateOfBirth', 'ScaleSet_ID', 'ScaleSet', 'AssessmentReason',\n",
      "       'Language', 'LegalStatus', 'CustodyStatus', 'MaritalStatus',\n",
      "       'Screening_Date', 'RecSupervisionLevel', 'RecSupervisionLevelText',\n",
      "       'Scale_ID', 'DisplayText', 'RawScore', 'DecileScore', 'ScoreText',\n",
      "       'AssessmentType', 'IsCompleted', 'IsDeleted', 'Age'],\n",
      "      dtype='object')\n"
     ]
    }
   ],
   "source": [
    "print(len(agelist), len(df))\n",
    "df['Age'] = agelist\n",
    "print(df.columns)"
   ]
  },
  {
   "cell_type": "code",
   "execution_count": 10,
   "metadata": {},
   "outputs": [
    {
     "data": {
      "text/plain": [
       "12782"
      ]
     },
     "execution_count": 10,
     "metadata": {},
     "output_type": "execute_result"
    }
   ],
   "source": [
    "# cleanup bad Ages\n",
    "# remove DecileScore < 1\n",
    "(df['Age'] < 1).sum()"
   ]
  },
  {
   "cell_type": "code",
   "execution_count": 11,
   "metadata": {},
   "outputs": [
    {
     "data": {
      "text/plain": [
       "0"
      ]
     },
     "execution_count": 11,
     "metadata": {},
     "output_type": "execute_result"
    }
   ],
   "source": [
    "df = df[df.Age >= 1]\n",
    "(df['Age'] < 1).sum()"
   ]
  },
  {
   "cell_type": "code",
   "execution_count": 12,
   "metadata": {},
   "outputs": [
    {
     "name": "stdout",
     "output_type": "stream",
     "text": [
      "Appear: (16016, 29)  Violence:  (16010, 29)  Recidivism: (15990, 29)\n"
     ]
    }
   ],
   "source": [
    "# Slice by 'DisplayText' for Risk\n",
    "RiskAppear = df.loc[df['DisplayText'] == 'Risk of Failure to Appear']\n",
    "RiskViolence = df.loc[df['DisplayText'] == 'Risk of Violence']\n",
    "RiskRecidivism = df.loc[df['DisplayText'] == 'Risk of Recidivism']\n",
    "print('Appear:', RiskAppear.shape, ' Violence: ', RiskViolence.shape,  ' Recidivism:',RiskRecidivism.shape)"
   ]
  },
  {
   "cell_type": "code",
   "execution_count": 13,
   "metadata": {
    "collapsed": true
   },
   "outputs": [],
   "source": [
    "# Define prepare_data_for_ml_model_1:\n",
    "def prepare_data_for_ml_model_1(dfx, target_loc):\n",
    "    # Create new Dataset of selected columns to get prepare TEST and Training data for  ML model \n",
    "     \n",
    "    \"\"\"\n",
    "    Columns\n",
    "    0 - 4  : 'Person_ID','AssessmentID','Case_ID','Agency_Text', 'LastName',\n",
    "    5 - 9  : 'FirstName', 'MiddleName', 'Sex_Code_Text', 'Ethnic_Code_Text','DateOfBirth',\n",
    "    10 - 14: 'ScaleSet_ID', 'ScaleSet', 'AssessmentReason','Language', 'LegalStatus',\n",
    "    15 - 19: 'CustodyStatus', 'MaritalStatus','Screening_Date', 'RecSupervisionLevel', 'RecSupervisionLevelText',\n",
    "    20 - 24: 'Scale_ID', 'DisplayText', 'RawScore', 'DecileScore', 'ScoreText',\n",
    "    25 - 28: 'AssessmentType', 'IsCompleted', 'IsDeleted','Age'\n",
    "    \"\"\"\n",
    "\n",
    "    #x_df = dfx.iloc[:, [7,8,14,15,16,19]] #features\n",
    "    x_df = dfx.iloc[:, [7,14,15,16,19]] #features\n",
    "    tmp_age = dfx.iloc[:,28].as_matrix() #age feature, convert numpy array\n",
    "    x_age = tmp_age.reshape(tmp_age.size,1)\n",
    "    \n",
    "\n",
    "    y = dfx.iloc[:,target_loc].as_matrix() #target convert numpy array\n",
    "\n",
    "\n",
    "    #  lable encoder. It encodes the data into integers\n",
    "    le = LabelEncoder()\n",
    "\n",
    "    Sex_Code_Text_cat = le.fit_transform(x_df.Sex_Code_Text)\n",
    "    # Ethnic_Code_Text_cat = le.fit_transform(x_df.Ethnic_Code_Text)\n",
    "    LegalStatus_cat = le.fit_transform(x_df.LegalStatus)\n",
    "    CustodyStatus_cat = le.fit_transform(x_df.CustodyStatus)\n",
    "    MaritalStatus_cat = le.fit_transform(x_df.MaritalStatus)\n",
    "    RecSupervisionLevelText_cat = le.fit_transform(x_df.RecSupervisionLevelText)\n",
    "\n",
    "    Sex_Code_Text_cat = Sex_Code_Text_cat.reshape(len(Sex_Code_Text_cat),1)\n",
    "    # Ethnic_Code_Text_cat = Ethnic_Code_Text_cat.reshape(len(Ethnic_Code_Text_cat),1)\n",
    "    LegalStatus_cat = LegalStatus_cat.reshape(len(LegalStatus_cat),1)\n",
    "    CustodyStatus_cat = CustodyStatus_cat.reshape(len(CustodyStatus_cat),1)\n",
    "    MaritalStatus_cat = MaritalStatus_cat.reshape(len(MaritalStatus_cat),1)\n",
    "    RecSupervisionLevelText_cat = RecSupervisionLevelText_cat.reshape(len(RecSupervisionLevelText_cat),1)\n",
    "\n",
    "#  One-Hot encoder. It encodes the data into binary format\n",
    "    onehote = OneHotEncoder(sparse=False)\n",
    "    \n",
    "    Sex_Code_Text_oh = onehote.fit_transform(Sex_Code_Text_cat)\n",
    "    # Ethnic_Code_Text_oh = onehote.fit_transform(Ethnic_Code_Text_cat)\n",
    "    LegalStatus_oh = onehote.fit_transform(LegalStatus_cat)\n",
    "    CustodyStatus_oh = onehote.fit_transform(CustodyStatus_cat)\n",
    "    MaritalStatus_oh = onehote.fit_transform(MaritalStatus_cat)\n",
    "    RecSupervisionLevelText_oh = onehote.fit_transform(RecSupervisionLevelText_cat)\n",
    "\n",
    "# Build out feature dataset as numpy array, since One-Hot encoder creates numpy array\n",
    "    X_feature =  Sex_Code_Text_oh\n",
    "    # X_feature = np.concatenate((X_feature,Ethnic_Code_Text_oh), axis=1)\n",
    "    X_feature = np.concatenate((X_feature,LegalStatus_oh), axis=1)\n",
    "    X_feature = np.concatenate((X_feature,CustodyStatus_oh), axis=1)\n",
    "    X_feature = np.concatenate((X_feature,MaritalStatus_oh), axis=1)\n",
    "    X_feature = np.concatenate((X_feature,RecSupervisionLevelText_oh), axis=1)\n",
    "    X_feature = np.concatenate((X_feature,x_age), axis=1)\n",
    "\n",
    "# Split data train and test\n",
    "    X_train, X_test, y_train, y_test = train_test_split(X_feature, y, test_size=0.2)\n",
    "    print('Length for X_train:', len(X_train), ' X_test:',len(X_test), ' y_train:',len(y_train) ,' y_test:',len(y_test))\n",
    "\n",
    "    return X_train, X_test, y_train, y_test"
   ]
  },
  {
   "cell_type": "markdown",
   "metadata": {
    "collapsed": true
   },
   "source": [
    "# Preparing for VAE using tensorflow"
   ]
  },
  {
   "cell_type": "code",
   "execution_count": 14,
   "metadata": {
    "collapsed": true
   },
   "outputs": [],
   "source": [
    "class dataReader(object):\n",
    "    # Code provided by Andrei Fajardo\n",
    "    # to substitude for ...train.next_batch\n",
    "\n",
    "    def __init__(self,*arrays,batch_size=1):\n",
    "        self.arrays = arrays\n",
    "        self.__check_equal_shape()\n",
    "        self.num_examples = self.arrays[0].shape[0]\n",
    "        self.batch_number = 0\n",
    "        self.batch_size = batch_size\n",
    "        self.num_batches = int(np.ceil(self.num_examples / batch_size))\n",
    "\n",
    "    def __check_equal_shape(self):\n",
    "        if any(self.arrays[0].shape[0] != arr.shape[0] for arr in self.arrays[1:]):\n",
    "            raise ValueError(\"all arrays must be equal along first dimension\")\n",
    "\n",
    "    def next_batch(self):\n",
    "        low_ix = self.batch_number*self.batch_size\n",
    "        up_ix = (self.batch_number + 1)*self.batch_size\n",
    "        if up_ix >= self.num_examples:\n",
    "            up_ix = self.num_examples\n",
    "            self.batch_number = 0 # reset batch_number to zero\n",
    "        else:\n",
    "            self.batch_number = self.batch_number + 1\n",
    "\n",
    "        return [arr[low_ix:up_ix,:] for arr in self.arrays]\n"
   ]
  },
  {
   "cell_type": "code",
   "execution_count": 15,
   "metadata": {
    "collapsed": true
   },
   "outputs": [],
   "source": [
    "#  Tensorflow  Implementation \n",
    "\n",
    "import tensorflow as tf\n",
    "import os\n",
    "import sys\n",
    "from functools import partial\n",
    "from sklearn.preprocessing import StandardScaler"
   ]
  },
  {
   "cell_type": "code",
   "execution_count": 16,
   "metadata": {
    "collapsed": true
   },
   "outputs": [],
   "source": [
    "# to make this notebook's output stable across runs\n",
    "def reset_graph(seed=42):\n",
    "    tf.reset_default_graph()\n",
    "    tf.set_random_seed(seed)\n",
    "    np.random.seed(seed)"
   ]
  },
  {
   "cell_type": "code",
   "execution_count": 17,
   "metadata": {},
   "outputs": [
    {
     "name": "stdout",
     "output_type": "stream",
     "text": [
      "Length for X_train: 12792  X_test: 3198  y_train: 12792  y_test: 3198\n"
     ]
    }
   ],
   "source": [
    "# RiskRecidivism dataset target RawScore (22)\n",
    "# X_train.shape (12792, 35)\n",
    "X_train, X_test, y_train, y_test = prepare_data_for_ml_model_1(RiskRecidivism,22)"
   ]
  },
  {
   "cell_type": "code",
   "execution_count": 18,
   "metadata": {
    "scrolled": false
   },
   "outputs": [
    {
     "name": "stdout",
     "output_type": "stream",
     "text": [
      "(12792, 27)\n"
     ]
    }
   ],
   "source": [
    "print(X_train.shape)"
   ]
  },
  {
   "cell_type": "code",
   "execution_count": 19,
   "metadata": {
    "collapsed": true
   },
   "outputs": [],
   "source": [
    "scaler = StandardScaler()\n",
    "X_scaler = scaler.fit_transform(X_train)"
   ]
  },
  {
   "cell_type": "code",
   "execution_count": null,
   "metadata": {
    "collapsed": true
   },
   "outputs": [],
   "source": [
    "# VFAE"
   ]
  },
  {
   "cell_type": "code",
   "execution_count": 20,
   "metadata": {},
   "outputs": [
    {
     "name": "stderr",
     "output_type": "stream",
     "text": [
      "C:\\Users\\rivas\\Anaconda3\\lib\\site-packages\\h5py\\__init__.py:34: FutureWarning: Conversion of the second argument of issubdtype from `float` to `np.floating` is deprecated. In future, it will be treated as `np.float64 == np.dtype(float).type`.\n",
      "  from ._conv import register_converters as _register_converters\n"
     ]
    }
   ],
   "source": [
    "from tensorflow.contrib.layers import fully_connected, batch_norm\n",
    "from datetime import datetime"
   ]
  },
  {
   "cell_type": "markdown",
   "metadata": {},
   "source": [
    "###  Functions"
   ]
  },
  {
   "cell_type": "code",
   "execution_count": 21,
   "metadata": {
    "collapsed": true
   },
   "outputs": [],
   "source": [
    "def show_reconstructed_digits(X, outputs, model_path = None, n_test_digits = 2):\n",
    "    with tf.Session() as sess:\n",
    "        if model_path:\n",
    "            saver.restore(sess, model_path)\n",
    "        X_test = mnist.test.images[:n_test_digits]\n",
    "        outputs_val = outputs.eval(feed_dict={X: X_test})\n",
    "\n",
    "    fig = plt.figure(figsize=(8, 3 * n_test_digits))\n",
    "    for digit_index in range(n_test_digits):\n",
    "        plt.subplot(n_test_digits, 2, digit_index * 2 + 1)\n",
    "        plot_image(X_test[digit_index])\n",
    "        plt.subplot(n_test_digits, 2, digit_index * 2 + 2)\n",
    "        plot_image(outputs_val[digit_index])"
   ]
  },
  {
   "cell_type": "markdown",
   "metadata": {},
   "source": [
    "### Construction Phase\n",
    "\n",
    "We will construct the graph for the VFAE architecture:\n",
    "\n",
    "    Input: X = [X_without_s, s], where s is the sensitive feature\n",
    "\n",
    "    Middle Encodings: We're learning the parameters for the distribution of the encodings. What's different here is that we inject both the response y and the sensitive features in the middle layers.\n",
    "\n",
    "    Output: X_copy"
   ]
  },
  {
   "cell_type": "code",
   "execution_count": 22,
   "metadata": {
    "collapsed": true
   },
   "outputs": [],
   "source": [
    "# Construction phase\n",
    "# n_s = 10 # number of sensitive features\n",
    "# n_inputs = 28*28 - n_s # number of non-sensitive features\n",
    "n_s = 1 # number of sensitive features\n",
    "n_inputs = 27 - n_s # number of non-sensitive features\n",
    "\n",
    "# encoders\n",
    "n_hidden1 = 500\n",
    "n_hidden2 = 20 # codings\n",
    "n_hidden3 = 500\n",
    "n_hidden4 = 20\n",
    "\n",
    "# decoders\n",
    "n_hidden5 = 500\n",
    "n_hidden6 = 20\n",
    "n_hidden7 = 500\n",
    "\n",
    "# final output can take a random sample from the posterior\n",
    "n_outputs = n_inputs + n_s"
   ]
  },
  {
   "cell_type": "code",
   "execution_count": 23,
   "metadata": {
    "collapsed": true
   },
   "outputs": [],
   "source": [
    "### Training rates\n",
    "alpha = 1\n",
    "learning_rate = 0.001"
   ]
  },
  {
   "cell_type": "code",
   "execution_count": 24,
   "metadata": {
    "collapsed": true
   },
   "outputs": [],
   "source": [
    "### Setting up the graph\n",
    "tf.reset_default_graph()\n",
    "with tf.contrib.framework.arg_scope(\n",
    "        [fully_connected],\n",
    "        activation_fn = tf.nn.elu,\n",
    "        weights_initializer = tf.contrib.layers.variance_scaling_initializer()):\n",
    "    X = tf.placeholder(tf.float32, shape = [None, n_inputs], name=\"X_wo_s\")\n",
    "    s = tf.placeholder(tf.float32, shape = [None, n_s], name=\"s\")\n",
    "    X_full = tf.concat([X,s], axis=1)\n",
    "    y = tf.placeholder(tf.int32, shape = [None, 1], name=\"y\") # for your example, switch this to tf.float32 bc you'll be doing reg\n",
    "    # is_unlabelled = tf.placeholder(tf.bool, shape=(), name='is_training') # don't worry about this\n",
    "    with tf.name_scope(\"X_encoder\"):\n",
    "        hidden1 = fully_connected(tf.concat([X, s], axis=1), n_hidden1)\n",
    "        hidden2_mean = fully_connected(hidden1, n_hidden2, activation_fn = None)\n",
    "        hidden2_gamma = fully_connected(hidden1, n_hidden2, activation_fn = None)\n",
    "        hidden2_sigma = tf.exp(0.5 * hidden2_gamma)\n",
    "    noise1 = tf.random_normal(tf.shape(hidden2_sigma), dtype=tf.float32)\n",
    "    hidden2 = hidden2_mean + hidden2_sigma * noise1         # z1\n",
    "    with tf.name_scope(\"Z1_encoder\"):\n",
    "        hidden3_ygz1 = fully_connected(hidden2, n_hidden4, activation_fn = tf.nn.tanh)\n",
    "        hidden4_softmax_mean = fully_connected(hidden3_ygz1, 10, activation_fn = tf.nn.softmax)\n",
    "   \n",
    "        #if is_unlabelled == True:\n",
    "            # impute by sampling from q(y|z1)\n",
    "        #    y = tf.assign(y, tf.multinomial(hidden4_softmax_mean, 1,\n",
    "        #                        output_type = tf.int32))\n",
    "    \n",
    "        hidden3 = fully_connected(tf.concat([hidden2, tf.cast(y, tf.float32)], axis=1),\n",
    "                        n_hidden3, activation_fn=tf.nn.tanh)\n",
    "        hidden4_mean = fully_connected(hidden3, n_hidden4, activation_fn = None)\n",
    "        hidden4_gamma = fully_connected(hidden3, n_hidden4, activation_fn = None)\n",
    "        hidden4_sigma = tf.exp(0.5 * hidden4_gamma)\n",
    "    noise2 = tf.random_normal(tf.shape(hidden4_sigma), dtype=tf.float32)\n",
    "    hidden4 = hidden4_mean + hidden4_sigma * noise2     # z2\n",
    "    with tf.name_scope(\"Z1_decoder\"):\n",
    "        hidden5 = fully_connected(tf.concat([hidden4, tf.cast(y, tf.float32)], axis=1 ),\n",
    "                    n_hidden5, activation_fn = tf.nn.tanh)\n",
    "        hidden6_mean = fully_connected(hidden5, n_hidden6, activation_fn = None)\n",
    "        hidden6_gamma = fully_connected(hidden5, n_hidden6, activation_fn = None)\n",
    "        hidden6_sigma = tf.exp(0.5 * hidden6_gamma)\n",
    "    noise3 = tf.random_normal(tf.shape(hidden6_sigma), dtype=tf.float32)\n",
    "    hidden6 = hidden6_mean + hidden6_sigma * noise3     # z1 (decoded)\n",
    "    with tf.name_scope(\"X_decoder\"):\n",
    "        hidden7 = fully_connected(tf.concat([hidden6, s], axis=1), n_hidden7,\n",
    "                                 activation_fn = tf.nn.tanh)\n",
    "        hidden8 = fully_connected(hidden7, n_outputs, activation_fn = None)\n",
    "    outputs = tf.sigmoid(hidden8, name=\"decoded_X\")"
   ]
  },
  {
   "cell_type": "markdown",
   "metadata": {},
   "source": [
    "### Loss Function: ELBO"
   ]
  },
  {
   "cell_type": "code",
   "execution_count": 25,
   "metadata": {
    "collapsed": true
   },
   "outputs": [],
   "source": [
    "# expected lower bound\n",
    "with tf.name_scope(\"ELB\"):\n",
    "    kl_z2 = 0.5 * tf.reduce_sum(\n",
    "                    tf.exp(hidden4_gamma)\n",
    "                    + tf.square(hidden4_mean)\n",
    "                    - 1\n",
    "                    - hidden4_gamma\n",
    "                    )\n",
    "\n",
    "    kl_z1 = 0.5 * (tf.reduce_sum(\n",
    "                    (1 / (1e-10 + tf.exp(hidden6_gamma))) * tf.exp(hidden2_gamma)\n",
    "                    - 1\n",
    "                    + hidden6_gamma\n",
    "                    - hidden2_gamma\n",
    "                    ) + tf.einsum('ij,ji -> i', # this might not work for you depending on version of tflow\n",
    "                        (hidden6_mean-hidden2_mean) * (1 / (1e-10 + tf.exp(hidden6_gamma))),\n",
    "                        tf.transpose((hidden6_mean-hidden2_mean))))\n",
    "\n",
    "    indices = tf.range(tf.shape(y)[0])\n",
    "    indices = tf.concat([indices[:, tf.newaxis], y], axis=1)\n",
    "    eps = 1e-10\n",
    "    log_q_y_z1 = tf.reduce_sum(tf.log(eps + tf.gather_nd(hidden4_softmax_mean, indices)))\n",
    "\n",
    "    # Bernoulli log-likelihood\n",
    "    reconstruction_loss = -(tf.reduce_sum(X_full * tf.log(outputs)\n",
    "                            + (1 - X_full) * tf.log(1 - outputs)))\n",
    "    cost = kl_z2 + kl_z1 + reconstruction_loss + alpha * log_q_y_z1"
   ]
  },
  {
   "cell_type": "code",
   "execution_count": 26,
   "metadata": {
    "collapsed": true
   },
   "outputs": [],
   "source": [
    "optimizer = tf.train.AdamOptimizer(learning_rate=learning_rate)\n",
    "training_op = optimizer.minimize(cost)"
   ]
  },
  {
   "cell_type": "markdown",
   "metadata": {},
   "source": [
    "### Initialize Graph & Load Data"
   ]
  },
  {
   "cell_type": "code",
   "execution_count": 27,
   "metadata": {
    "collapsed": true
   },
   "outputs": [],
   "source": [
    "upper_lim = 12600\n"
   ]
  },
  {
   "cell_type": "code",
   "execution_count": 28,
   "metadata": {},
   "outputs": [
    {
     "name": "stdout",
     "output_type": "stream",
     "text": [
      "(12792,)\n"
     ]
    }
   ],
   "source": [
    "# instatianate\n",
    "y_bin = pd.cut(y_train, bins=10, labels=False) + 1\n",
    "print(y_bin.shape)\n",
    "#from collections import Counter\n",
    "#Counter(y_bin)\n",
    "#data_reader = dataReader(X_scaler,y_bin[:,np.newaxis]\n",
    "#, batch_size=150)\n",
    "data_reader =dataReader(X_scaler[:upper_lim,:],y_bin[:upper_lim,np.newaxis], batch_size=150)\n"
   ]
  },
  {
   "cell_type": "code",
   "execution_count": 29,
   "metadata": {
    "collapsed": true
   },
   "outputs": [],
   "source": [
    "init = tf.global_variables_initializer()"
   ]
  },
  {
   "cell_type": "code",
   "execution_count": 30,
   "metadata": {},
   "outputs": [
    {
     "name": "stdout",
     "output_type": "stream",
     "text": [
      "0%(150, 10)\n",
      "-423.6792\n",
      "1%(150, 10)\n",
      "-451.18707\n",
      "2%(150, 10)\n",
      "-435.26526\n",
      "3%(150, 10)\n",
      "-433.79434\n",
      "4%(150, 10)\n",
      "-456.4517\n",
      "5%(150, 10)\n",
      "-444.13614\n",
      "7%(150, 10)\n",
      "-433.22397\n",
      "8%(150, 10)\n",
      "-437.48492\n",
      "9%(150, 10)\n",
      "-475.3579\n",
      "10%(150, 10)\n",
      "-441.53406\n",
      "11%(150, 10)\n",
      "-451.70682\n",
      "13%(150, 10)\n",
      "-438.59174\n",
      "14%(150, 10)\n",
      "-458.73087\n",
      "15%(150, 10)\n",
      "-456.8221\n",
      "16%(150, 10)\n",
      "-465.7951\n",
      "17%(150, 10)\n",
      "-452.58182\n",
      "19%(150, 10)\n",
      "-467.07245\n",
      "20%(150, 10)\n",
      "-471.08978\n",
      "21%(150, 10)\n",
      "-460.66565\n",
      "22%(150, 10)\n",
      "-463.08585\n",
      "23%(150, 10)\n",
      "-451.58047\n",
      "25%(150, 10)\n",
      "-460.37674\n",
      "26%(150, 10)\n",
      "-478.7734\n",
      "27%(150, 10)\n",
      "-487.14856\n",
      "28%(150, 10)\n",
      "-457.47925\n",
      "29%(150, 10)\n",
      "-493.67102\n",
      "30%(150, 10)\n",
      "-501.87268\n",
      "32%(150, 10)\n",
      "-458.03497\n",
      "33%(150, 10)\n",
      "-494.63593\n",
      "34%(150, 10)\n",
      "-492.56305\n",
      "35%"
     ]
    },
    {
     "ename": "InvalidArgumentError",
     "evalue": "flat indices[79, :] = [79, 10] does not index into param (shape: [150,10]).\n\t [[Node: ELB/GatherNd = GatherNd[Tindices=DT_INT32, Tparams=DT_FLOAT, _device=\"/job:localhost/replica:0/task:0/cpu:0\"](Z1_encoder/fully_connected_1/Softmax, ELB/concat)]]\n\nCaused by op 'ELB/GatherNd', defined at:\n  File \"C:\\Users\\rivas\\Anaconda3\\lib\\runpy.py\", line 193, in _run_module_as_main\n    \"__main__\", mod_spec)\n  File \"C:\\Users\\rivas\\Anaconda3\\lib\\runpy.py\", line 85, in _run_code\n    exec(code, run_globals)\n  File \"C:\\Users\\rivas\\Anaconda3\\lib\\site-packages\\ipykernel_launcher.py\", line 16, in <module>\n    app.launch_new_instance()\n  File \"C:\\Users\\rivas\\Anaconda3\\lib\\site-packages\\traitlets\\config\\application.py\", line 658, in launch_instance\n    app.start()\n  File \"C:\\Users\\rivas\\Anaconda3\\lib\\site-packages\\ipykernel\\kernelapp.py\", line 477, in start\n    ioloop.IOLoop.instance().start()\n  File \"C:\\Users\\rivas\\Anaconda3\\lib\\site-packages\\zmq\\eventloop\\ioloop.py\", line 177, in start\n    super(ZMQIOLoop, self).start()\n  File \"C:\\Users\\rivas\\Anaconda3\\lib\\site-packages\\tornado\\ioloop.py\", line 888, in start\n    handler_func(fd_obj, events)\n  File \"C:\\Users\\rivas\\Anaconda3\\lib\\site-packages\\tornado\\stack_context.py\", line 277, in null_wrapper\n    return fn(*args, **kwargs)\n  File \"C:\\Users\\rivas\\Anaconda3\\lib\\site-packages\\zmq\\eventloop\\zmqstream.py\", line 440, in _handle_events\n    self._handle_recv()\n  File \"C:\\Users\\rivas\\Anaconda3\\lib\\site-packages\\zmq\\eventloop\\zmqstream.py\", line 472, in _handle_recv\n    self._run_callback(callback, msg)\n  File \"C:\\Users\\rivas\\Anaconda3\\lib\\site-packages\\zmq\\eventloop\\zmqstream.py\", line 414, in _run_callback\n    callback(*args, **kwargs)\n  File \"C:\\Users\\rivas\\Anaconda3\\lib\\site-packages\\tornado\\stack_context.py\", line 277, in null_wrapper\n    return fn(*args, **kwargs)\n  File \"C:\\Users\\rivas\\Anaconda3\\lib\\site-packages\\ipykernel\\kernelbase.py\", line 283, in dispatcher\n    return self.dispatch_shell(stream, msg)\n  File \"C:\\Users\\rivas\\Anaconda3\\lib\\site-packages\\ipykernel\\kernelbase.py\", line 235, in dispatch_shell\n    handler(stream, idents, msg)\n  File \"C:\\Users\\rivas\\Anaconda3\\lib\\site-packages\\ipykernel\\kernelbase.py\", line 399, in execute_request\n    user_expressions, allow_stdin)\n  File \"C:\\Users\\rivas\\Anaconda3\\lib\\site-packages\\ipykernel\\ipkernel.py\", line 196, in do_execute\n    res = shell.run_cell(code, store_history=store_history, silent=silent)\n  File \"C:\\Users\\rivas\\Anaconda3\\lib\\site-packages\\ipykernel\\zmqshell.py\", line 533, in run_cell\n    return super(ZMQInteractiveShell, self).run_cell(*args, **kwargs)\n  File \"C:\\Users\\rivas\\Anaconda3\\lib\\site-packages\\IPython\\core\\interactiveshell.py\", line 2698, in run_cell\n    interactivity=interactivity, compiler=compiler, result=result)\n  File \"C:\\Users\\rivas\\Anaconda3\\lib\\site-packages\\IPython\\core\\interactiveshell.py\", line 2802, in run_ast_nodes\n    if self.run_code(code, result):\n  File \"C:\\Users\\rivas\\Anaconda3\\lib\\site-packages\\IPython\\core\\interactiveshell.py\", line 2862, in run_code\n    exec(code_obj, self.user_global_ns, self.user_ns)\n  File \"<ipython-input-25-059e85a2f474>\", line 22, in <module>\n    log_q_y_z1 = tf.reduce_sum(tf.log(eps + tf.gather_nd(hidden4_softmax_mean, indices)))\n  File \"C:\\Users\\rivas\\Anaconda3\\lib\\site-packages\\tensorflow\\python\\ops\\gen_array_ops.py\", line 1288, in gather_nd\n    name=name)\n  File \"C:\\Users\\rivas\\Anaconda3\\lib\\site-packages\\tensorflow\\python\\framework\\op_def_library.py\", line 767, in apply_op\n    op_def=op_def)\n  File \"C:\\Users\\rivas\\Anaconda3\\lib\\site-packages\\tensorflow\\python\\framework\\ops.py\", line 2506, in create_op\n    original_op=self._default_original_op, op_def=op_def)\n  File \"C:\\Users\\rivas\\Anaconda3\\lib\\site-packages\\tensorflow\\python\\framework\\ops.py\", line 1269, in __init__\n    self._traceback = _extract_stack()\n\nInvalidArgumentError (see above for traceback): flat indices[79, :] = [79, 10] does not index into param (shape: [150,10]).\n\t [[Node: ELB/GatherNd = GatherNd[Tindices=DT_INT32, Tparams=DT_FLOAT, _device=\"/job:localhost/replica:0/task:0/cpu:0\"](Z1_encoder/fully_connected_1/Softmax, ELB/concat)]]\n",
     "output_type": "error",
     "traceback": [
      "\u001b[1;31m---------------------------------------------------------------------------\u001b[0m",
      "\u001b[1;31mInvalidArgumentError\u001b[0m                      Traceback (most recent call last)",
      "\u001b[1;32m~\\Anaconda3\\lib\\site-packages\\tensorflow\\python\\client\\session.py\u001b[0m in \u001b[0;36m_do_call\u001b[1;34m(self, fn, *args)\u001b[0m\n\u001b[0;32m   1138\u001b[0m     \u001b[1;32mtry\u001b[0m\u001b[1;33m:\u001b[0m\u001b[1;33m\u001b[0m\u001b[0m\n\u001b[1;32m-> 1139\u001b[1;33m       \u001b[1;32mreturn\u001b[0m \u001b[0mfn\u001b[0m\u001b[1;33m(\u001b[0m\u001b[1;33m*\u001b[0m\u001b[0margs\u001b[0m\u001b[1;33m)\u001b[0m\u001b[1;33m\u001b[0m\u001b[0m\n\u001b[0m\u001b[0;32m   1140\u001b[0m     \u001b[1;32mexcept\u001b[0m \u001b[0merrors\u001b[0m\u001b[1;33m.\u001b[0m\u001b[0mOpError\u001b[0m \u001b[1;32mas\u001b[0m \u001b[0me\u001b[0m\u001b[1;33m:\u001b[0m\u001b[1;33m\u001b[0m\u001b[0m\n",
      "\u001b[1;32m~\\Anaconda3\\lib\\site-packages\\tensorflow\\python\\client\\session.py\u001b[0m in \u001b[0;36m_run_fn\u001b[1;34m(session, feed_dict, fetch_list, target_list, options, run_metadata)\u001b[0m\n\u001b[0;32m   1120\u001b[0m                                  \u001b[0mfeed_dict\u001b[0m\u001b[1;33m,\u001b[0m \u001b[0mfetch_list\u001b[0m\u001b[1;33m,\u001b[0m \u001b[0mtarget_list\u001b[0m\u001b[1;33m,\u001b[0m\u001b[1;33m\u001b[0m\u001b[0m\n\u001b[1;32m-> 1121\u001b[1;33m                                  status, run_metadata)\n\u001b[0m\u001b[0;32m   1122\u001b[0m \u001b[1;33m\u001b[0m\u001b[0m\n",
      "\u001b[1;32m~\\Anaconda3\\lib\\contextlib.py\u001b[0m in \u001b[0;36m__exit__\u001b[1;34m(self, type, value, traceback)\u001b[0m\n\u001b[0;32m     87\u001b[0m             \u001b[1;32mtry\u001b[0m\u001b[1;33m:\u001b[0m\u001b[1;33m\u001b[0m\u001b[0m\n\u001b[1;32m---> 88\u001b[1;33m                 \u001b[0mnext\u001b[0m\u001b[1;33m(\u001b[0m\u001b[0mself\u001b[0m\u001b[1;33m.\u001b[0m\u001b[0mgen\u001b[0m\u001b[1;33m)\u001b[0m\u001b[1;33m\u001b[0m\u001b[0m\n\u001b[0m\u001b[0;32m     89\u001b[0m             \u001b[1;32mexcept\u001b[0m \u001b[0mStopIteration\u001b[0m\u001b[1;33m:\u001b[0m\u001b[1;33m\u001b[0m\u001b[0m\n",
      "\u001b[1;32m~\\Anaconda3\\lib\\site-packages\\tensorflow\\python\\framework\\errors_impl.py\u001b[0m in \u001b[0;36mraise_exception_on_not_ok_status\u001b[1;34m()\u001b[0m\n\u001b[0;32m    465\u001b[0m           \u001b[0mcompat\u001b[0m\u001b[1;33m.\u001b[0m\u001b[0mas_text\u001b[0m\u001b[1;33m(\u001b[0m\u001b[0mpywrap_tensorflow\u001b[0m\u001b[1;33m.\u001b[0m\u001b[0mTF_Message\u001b[0m\u001b[1;33m(\u001b[0m\u001b[0mstatus\u001b[0m\u001b[1;33m)\u001b[0m\u001b[1;33m)\u001b[0m\u001b[1;33m,\u001b[0m\u001b[1;33m\u001b[0m\u001b[0m\n\u001b[1;32m--> 466\u001b[1;33m           pywrap_tensorflow.TF_GetCode(status))\n\u001b[0m\u001b[0;32m    467\u001b[0m   \u001b[1;32mfinally\u001b[0m\u001b[1;33m:\u001b[0m\u001b[1;33m\u001b[0m\u001b[0m\n",
      "\u001b[1;31mInvalidArgumentError\u001b[0m: flat indices[79, :] = [79, 10] does not index into param (shape: [150,10]).\n\t [[Node: ELB/GatherNd = GatherNd[Tindices=DT_INT32, Tparams=DT_FLOAT, _device=\"/job:localhost/replica:0/task:0/cpu:0\"](Z1_encoder/fully_connected_1/Softmax, ELB/concat)]]",
      "\nDuring handling of the above exception, another exception occurred:\n",
      "\u001b[1;31mInvalidArgumentError\u001b[0m                      Traceback (most recent call last)",
      "\u001b[1;32m<ipython-input-30-701ee0ff0f9d>\u001b[0m in \u001b[0;36m<module>\u001b[1;34m()\u001b[0m\n\u001b[0;32m     16\u001b[0m                                     \u001b[1;31m#you replace y_batch[:,np.newaxis] with just y_batch\u001b[0m\u001b[1;33m\u001b[0m\u001b[1;33m\u001b[0m\u001b[0m\n\u001b[0;32m     17\u001b[0m                                     \u001b[1;31m#y: y_batch[:,np.newaxis],\u001b[0m\u001b[1;33m\u001b[0m\u001b[1;33m\u001b[0m\u001b[0m\n\u001b[1;32m---> 18\u001b[1;33m                                     \u001b[0my\u001b[0m\u001b[1;33m:\u001b[0m \u001b[0my_batch\u001b[0m\u001b[1;33m,\u001b[0m\u001b[1;33m\u001b[0m\u001b[0m\n\u001b[0m\u001b[0;32m     19\u001b[0m                                     \u001b[1;31m# is_unlabelled: False\u001b[0m\u001b[1;33m\u001b[0m\u001b[1;33m\u001b[0m\u001b[0m\n\u001b[0;32m     20\u001b[0m                                      })\n",
      "\u001b[1;32m~\\Anaconda3\\lib\\site-packages\\tensorflow\\python\\client\\session.py\u001b[0m in \u001b[0;36mrun\u001b[1;34m(self, fetches, feed_dict, options, run_metadata)\u001b[0m\n\u001b[0;32m    787\u001b[0m     \u001b[1;32mtry\u001b[0m\u001b[1;33m:\u001b[0m\u001b[1;33m\u001b[0m\u001b[0m\n\u001b[0;32m    788\u001b[0m       result = self._run(None, fetches, feed_dict, options_ptr,\n\u001b[1;32m--> 789\u001b[1;33m                          run_metadata_ptr)\n\u001b[0m\u001b[0;32m    790\u001b[0m       \u001b[1;32mif\u001b[0m \u001b[0mrun_metadata\u001b[0m\u001b[1;33m:\u001b[0m\u001b[1;33m\u001b[0m\u001b[0m\n\u001b[0;32m    791\u001b[0m         \u001b[0mproto_data\u001b[0m \u001b[1;33m=\u001b[0m \u001b[0mtf_session\u001b[0m\u001b[1;33m.\u001b[0m\u001b[0mTF_GetBuffer\u001b[0m\u001b[1;33m(\u001b[0m\u001b[0mrun_metadata_ptr\u001b[0m\u001b[1;33m)\u001b[0m\u001b[1;33m\u001b[0m\u001b[0m\n",
      "\u001b[1;32m~\\Anaconda3\\lib\\site-packages\\tensorflow\\python\\client\\session.py\u001b[0m in \u001b[0;36m_run\u001b[1;34m(self, handle, fetches, feed_dict, options, run_metadata)\u001b[0m\n\u001b[0;32m    995\u001b[0m     \u001b[1;32mif\u001b[0m \u001b[0mfinal_fetches\u001b[0m \u001b[1;32mor\u001b[0m \u001b[0mfinal_targets\u001b[0m\u001b[1;33m:\u001b[0m\u001b[1;33m\u001b[0m\u001b[0m\n\u001b[0;32m    996\u001b[0m       results = self._do_run(handle, final_targets, final_fetches,\n\u001b[1;32m--> 997\u001b[1;33m                              feed_dict_string, options, run_metadata)\n\u001b[0m\u001b[0;32m    998\u001b[0m     \u001b[1;32melse\u001b[0m\u001b[1;33m:\u001b[0m\u001b[1;33m\u001b[0m\u001b[0m\n\u001b[0;32m    999\u001b[0m       \u001b[0mresults\u001b[0m \u001b[1;33m=\u001b[0m \u001b[1;33m[\u001b[0m\u001b[1;33m]\u001b[0m\u001b[1;33m\u001b[0m\u001b[0m\n",
      "\u001b[1;32m~\\Anaconda3\\lib\\site-packages\\tensorflow\\python\\client\\session.py\u001b[0m in \u001b[0;36m_do_run\u001b[1;34m(self, handle, target_list, fetch_list, feed_dict, options, run_metadata)\u001b[0m\n\u001b[0;32m   1130\u001b[0m     \u001b[1;32mif\u001b[0m \u001b[0mhandle\u001b[0m \u001b[1;32mis\u001b[0m \u001b[1;32mNone\u001b[0m\u001b[1;33m:\u001b[0m\u001b[1;33m\u001b[0m\u001b[0m\n\u001b[0;32m   1131\u001b[0m       return self._do_call(_run_fn, self._session, feed_dict, fetch_list,\n\u001b[1;32m-> 1132\u001b[1;33m                            target_list, options, run_metadata)\n\u001b[0m\u001b[0;32m   1133\u001b[0m     \u001b[1;32melse\u001b[0m\u001b[1;33m:\u001b[0m\u001b[1;33m\u001b[0m\u001b[0m\n\u001b[0;32m   1134\u001b[0m       return self._do_call(_prun_fn, self._session, handle, feed_dict,\n",
      "\u001b[1;32m~\\Anaconda3\\lib\\site-packages\\tensorflow\\python\\client\\session.py\u001b[0m in \u001b[0;36m_do_call\u001b[1;34m(self, fn, *args)\u001b[0m\n\u001b[0;32m   1150\u001b[0m         \u001b[1;32mexcept\u001b[0m \u001b[0mKeyError\u001b[0m\u001b[1;33m:\u001b[0m\u001b[1;33m\u001b[0m\u001b[0m\n\u001b[0;32m   1151\u001b[0m           \u001b[1;32mpass\u001b[0m\u001b[1;33m\u001b[0m\u001b[0m\n\u001b[1;32m-> 1152\u001b[1;33m       \u001b[1;32mraise\u001b[0m \u001b[0mtype\u001b[0m\u001b[1;33m(\u001b[0m\u001b[0me\u001b[0m\u001b[1;33m)\u001b[0m\u001b[1;33m(\u001b[0m\u001b[0mnode_def\u001b[0m\u001b[1;33m,\u001b[0m \u001b[0mop\u001b[0m\u001b[1;33m,\u001b[0m \u001b[0mmessage\u001b[0m\u001b[1;33m)\u001b[0m\u001b[1;33m\u001b[0m\u001b[0m\n\u001b[0m\u001b[0;32m   1153\u001b[0m \u001b[1;33m\u001b[0m\u001b[0m\n\u001b[0;32m   1154\u001b[0m   \u001b[1;32mdef\u001b[0m \u001b[0m_extend_graph\u001b[0m\u001b[1;33m(\u001b[0m\u001b[0mself\u001b[0m\u001b[1;33m)\u001b[0m\u001b[1;33m:\u001b[0m\u001b[1;33m\u001b[0m\u001b[0m\n",
      "\u001b[1;31mInvalidArgumentError\u001b[0m: flat indices[79, :] = [79, 10] does not index into param (shape: [150,10]).\n\t [[Node: ELB/GatherNd = GatherNd[Tindices=DT_INT32, Tparams=DT_FLOAT, _device=\"/job:localhost/replica:0/task:0/cpu:0\"](Z1_encoder/fully_connected_1/Softmax, ELB/concat)]]\n\nCaused by op 'ELB/GatherNd', defined at:\n  File \"C:\\Users\\rivas\\Anaconda3\\lib\\runpy.py\", line 193, in _run_module_as_main\n    \"__main__\", mod_spec)\n  File \"C:\\Users\\rivas\\Anaconda3\\lib\\runpy.py\", line 85, in _run_code\n    exec(code, run_globals)\n  File \"C:\\Users\\rivas\\Anaconda3\\lib\\site-packages\\ipykernel_launcher.py\", line 16, in <module>\n    app.launch_new_instance()\n  File \"C:\\Users\\rivas\\Anaconda3\\lib\\site-packages\\traitlets\\config\\application.py\", line 658, in launch_instance\n    app.start()\n  File \"C:\\Users\\rivas\\Anaconda3\\lib\\site-packages\\ipykernel\\kernelapp.py\", line 477, in start\n    ioloop.IOLoop.instance().start()\n  File \"C:\\Users\\rivas\\Anaconda3\\lib\\site-packages\\zmq\\eventloop\\ioloop.py\", line 177, in start\n    super(ZMQIOLoop, self).start()\n  File \"C:\\Users\\rivas\\Anaconda3\\lib\\site-packages\\tornado\\ioloop.py\", line 888, in start\n    handler_func(fd_obj, events)\n  File \"C:\\Users\\rivas\\Anaconda3\\lib\\site-packages\\tornado\\stack_context.py\", line 277, in null_wrapper\n    return fn(*args, **kwargs)\n  File \"C:\\Users\\rivas\\Anaconda3\\lib\\site-packages\\zmq\\eventloop\\zmqstream.py\", line 440, in _handle_events\n    self._handle_recv()\n  File \"C:\\Users\\rivas\\Anaconda3\\lib\\site-packages\\zmq\\eventloop\\zmqstream.py\", line 472, in _handle_recv\n    self._run_callback(callback, msg)\n  File \"C:\\Users\\rivas\\Anaconda3\\lib\\site-packages\\zmq\\eventloop\\zmqstream.py\", line 414, in _run_callback\n    callback(*args, **kwargs)\n  File \"C:\\Users\\rivas\\Anaconda3\\lib\\site-packages\\tornado\\stack_context.py\", line 277, in null_wrapper\n    return fn(*args, **kwargs)\n  File \"C:\\Users\\rivas\\Anaconda3\\lib\\site-packages\\ipykernel\\kernelbase.py\", line 283, in dispatcher\n    return self.dispatch_shell(stream, msg)\n  File \"C:\\Users\\rivas\\Anaconda3\\lib\\site-packages\\ipykernel\\kernelbase.py\", line 235, in dispatch_shell\n    handler(stream, idents, msg)\n  File \"C:\\Users\\rivas\\Anaconda3\\lib\\site-packages\\ipykernel\\kernelbase.py\", line 399, in execute_request\n    user_expressions, allow_stdin)\n  File \"C:\\Users\\rivas\\Anaconda3\\lib\\site-packages\\ipykernel\\ipkernel.py\", line 196, in do_execute\n    res = shell.run_cell(code, store_history=store_history, silent=silent)\n  File \"C:\\Users\\rivas\\Anaconda3\\lib\\site-packages\\ipykernel\\zmqshell.py\", line 533, in run_cell\n    return super(ZMQInteractiveShell, self).run_cell(*args, **kwargs)\n  File \"C:\\Users\\rivas\\Anaconda3\\lib\\site-packages\\IPython\\core\\interactiveshell.py\", line 2698, in run_cell\n    interactivity=interactivity, compiler=compiler, result=result)\n  File \"C:\\Users\\rivas\\Anaconda3\\lib\\site-packages\\IPython\\core\\interactiveshell.py\", line 2802, in run_ast_nodes\n    if self.run_code(code, result):\n  File \"C:\\Users\\rivas\\Anaconda3\\lib\\site-packages\\IPython\\core\\interactiveshell.py\", line 2862, in run_code\n    exec(code_obj, self.user_global_ns, self.user_ns)\n  File \"<ipython-input-25-059e85a2f474>\", line 22, in <module>\n    log_q_y_z1 = tf.reduce_sum(tf.log(eps + tf.gather_nd(hidden4_softmax_mean, indices)))\n  File \"C:\\Users\\rivas\\Anaconda3\\lib\\site-packages\\tensorflow\\python\\ops\\gen_array_ops.py\", line 1288, in gather_nd\n    name=name)\n  File \"C:\\Users\\rivas\\Anaconda3\\lib\\site-packages\\tensorflow\\python\\framework\\op_def_library.py\", line 767, in apply_op\n    op_def=op_def)\n  File \"C:\\Users\\rivas\\Anaconda3\\lib\\site-packages\\tensorflow\\python\\framework\\ops.py\", line 2506, in create_op\n    original_op=self._default_original_op, op_def=op_def)\n  File \"C:\\Users\\rivas\\Anaconda3\\lib\\site-packages\\tensorflow\\python\\framework\\ops.py\", line 1269, in __init__\n    self._traceback = _extract_stack()\n\nInvalidArgumentError (see above for traceback): flat indices[79, :] = [79, 10] does not index into param (shape: [150,10]).\n\t [[Node: ELB/GatherNd = GatherNd[Tindices=DT_INT32, Tparams=DT_FLOAT, _device=\"/job:localhost/replica:0/task:0/cpu:0\"](Z1_encoder/fully_connected_1/Softmax, ELB/concat)]]\n"
     ]
    }
   ],
   "source": [
    "# Training\n",
    "n_epochs = 50\n",
    "batch_size = 100\n",
    "n_digits = 60\n",
    "\n",
    "with tf.Session() as sess:\n",
    "    init.run()\n",
    "    for epoch in range(n_epochs):\n",
    "        # n_batches = mnist.train.num_examples // batch_size\n",
    "        n_batches = data_reader.num_batches\n",
    "        for iteration in range(n_batches):\n",
    "            print(\"\\r{}%\".format(100 * iteration // n_batches), end=\"\")\n",
    "            X_batch, y_batch = data_reader.next_batch()\n",
    "            tt, tt_ind, tt_log = sess.run([hidden4_softmax_mean, indices, log_q_y_z1], feed_dict={X: X_batch[:,:-n_s],\n",
    "                                    s: X_batch[:,-n_s:],\n",
    "                                    #you replace y_batch[:,np.newaxis] with just y_batch          \n",
    "                                    #y: y_batch[:,np.newaxis],        \n",
    "                                    y: y_batch,\n",
    "                                    # is_unlabelled: False\n",
    "                                     })\n",
    "            print(tt.shape)\n",
    "            print(tt_log)\n",
    "            # X_batch, y_batch = mnist.train.next_batch(batch_size)\n",
    "            sess.run(training_op, feed_dict={X: X_batch[:,:-n_s],\n",
    "                                    s: X_batch[:,-n_s:],\n",
    "                                    #you replace y_batch[:,np.newaxis] with just y_batch          \n",
    "                                    #y: y_batch[:,np.newaxis],        \n",
    "                                    y: y_batch,\n",
    "                                   #is_unlabelled: False\n",
    "                                            })\n",
    "        kl_z2_val, kl_z1_val, log_q_y_z1_val, reconstruction_loss_val, loss_val = sess.run([\n",
    "                kl_z2,\n",
    "                kl_z1,\n",
    "                log_q_y_z1,\n",
    "                reconstruction_loss,\n",
    "                cost],\n",
    "                feed_dict={X: X_batch[:,:-n_s],\n",
    "                        s: X_batch[:,-n_s:],\n",
    "                        #you replace y_batch[:,np.newaxis] with just y_batch \n",
    "                        #y: y_batch[:,np.newaxis]\n",
    "                        y: y_batch})\n",
    "        print(\"\\r{}\".format(epoch), \"Train total loss:\", loss_val,\n",
    "         \"\\tReconstruction loss:\", reconstruction_loss_val,\n",
    "          \"\\tKL-z1:\", kl_z1_val,\n",
    "          \"\\tKL-z2:\", kl_z2_val,\n",
    "          \"\\tlog_q(y|z1):\", log_q_y_z1_val)"
   ]
  },
  {
   "cell_type": "code",
   "execution_count": 31,
   "metadata": {},
   "outputs": [
    {
     "data": {
      "text/plain": [
       "-492.56305"
      ]
     },
     "execution_count": 31,
     "metadata": {},
     "output_type": "execute_result"
    }
   ],
   "source": [
    "tt_log"
   ]
  },
  {
   "cell_type": "code",
   "execution_count": null,
   "metadata": {
    "collapsed": true
   },
   "outputs": [],
   "source": []
  }
 ],
 "metadata": {
  "kernelspec": {
   "display_name": "Python 3",
   "language": "python",
   "name": "python3"
  },
  "language_info": {
   "codemirror_mode": {
    "name": "ipython",
    "version": 3
   },
   "file_extension": ".py",
   "mimetype": "text/x-python",
   "name": "python",
   "nbconvert_exporter": "python",
   "pygments_lexer": "ipython3",
   "version": "3.6.3"
  }
 },
 "nbformat": 4,
 "nbformat_minor": 2
}
