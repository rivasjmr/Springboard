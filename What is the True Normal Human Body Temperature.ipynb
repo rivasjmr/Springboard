{
 "cells": [
  {
   "cell_type": "code",
   "execution_count": null,
   "metadata": {
    "collapsed": true
   },
   "outputs": [],
   "source": [
    "# What is the True Normal Human Body Temperature?\n",
    "\"\"\"\n",
    "Background\n",
    "The mean normal body temperature was held to be 37C or 98.6F\n",
    "for more than 120 years since it was first conceptualized and reported by Carl Wunderlich in\n",
    "a famous 1868 book. But, is this value statistically correct?\n",
    "\"\"\""
   ]
  },
  {
   "cell_type": "code",
   "execution_count": 1,
   "metadata": {
    "collapsed": true
   },
   "outputs": [],
   "source": [
    "# import libraries\n",
    "import pandas as pd\n",
    "import numpy as np\n",
    "import scipy.stats as stats\n",
    "import matplotlib.pyplot as plt\n"
   ]
  },
  {
   "cell_type": "code",
   "execution_count": 2,
   "metadata": {},
   "outputs": [
    {
     "name": "stdout",
     "output_type": "stream",
     "text": [
      "<class 'pandas.core.frame.DataFrame'>\n",
      "RangeIndex: 130 entries, 0 to 129\n",
      "Data columns (total 3 columns):\n",
      "temperature    130 non-null float64\n",
      "gender         130 non-null object\n",
      "heart_rate     130 non-null float64\n",
      "dtypes: float64(2), object(1)\n",
      "memory usage: 3.1+ KB\n",
      "None\n",
      "   temperature gender  heart_rate\n",
      "0         99.3      F        68.0\n",
      "1         98.4      F        81.0\n",
      "2         97.8      M        73.0\n",
      "3         99.2      F        66.0\n",
      "4         98.0      F        73.0\n",
      "       temperature  heart_rate\n",
      "count   130.000000  130.000000\n",
      "mean     98.249231   73.761538\n",
      "std       0.733183    7.062077\n",
      "min      96.300000   57.000000\n",
      "25%      97.800000   69.000000\n",
      "50%      98.300000   74.000000\n",
      "75%      98.700000   79.000000\n",
      "max     100.800000   89.000000\n"
     ]
    }
   ],
   "source": [
    "# Read data\n",
    "df_temp = pd.read_csv('C:/Users/rivas/OneDrive/Documents/JMR/Education/Springboard/Projects/EDA/human_body_temperature.csv')\n",
    "\n",
    "# Basic EDA\n",
    "print(df_temp.info())\n",
    "print(df_temp.head())\n",
    "print(df_temp.describe())"
   ]
  },
  {
   "cell_type": "code",
   "execution_count": null,
   "metadata": {
    "collapsed": true
   },
   "outputs": [],
   "source": [
    "##############################################\n",
    "#1 -  Is the distribution of body temperatures normal?"
   ]
  },
  {
   "cell_type": "code",
   "execution_count": 3,
   "metadata": {},
   "outputs": [
    {
     "data": {
      "image/png": "[encoded data removed]",
      "text/plain": [
       "<matplotlib.figure.Figure at 0x14f1e6d4da0>"
      ]
     },
     "metadata": {},
     "output_type": "display_data"
    }
   ],
   "source": [
    "#      Prepare to plot data as a histogram - Find bins size\n",
    "n_data = len(df_temp)\n",
    "n_bins = np.sqrt(n_data)\n",
    "n_bins = int(n_bins)\n",
    "\n",
    "# Plot the histogram\n",
    "_ =plt.hist(df_temp.temperature, bins=n_bins)\n",
    "_ =plt.xlabel('Temperature')\n",
    "_ =plt.ylabel('Count')\n",
    "plt.show()\n"
   ]
  },
  {
   "cell_type": "code",
   "execution_count": 4,
   "metadata": {},
   "outputs": [
    {
     "name": "stdout",
     "output_type": "stream",
     "text": [
      "2.70380143332 0.258747986349\n",
      "Normal Distribution\n"
     ]
    }
   ],
   "source": [
    "#\n",
    "chi,p_value = stats.normaltest(df_temp.temperature)\n",
    "print(chi,p_value)\n",
    "\n",
    "\n",
    "# \"H0 - Not Normal Distribution\"\n",
    "if p_value < 0.05:\n",
    "    print(\"Not Normal Distribution\")\n",
    "else:\n",
    "    print(\"Normal Distribution\")\n",
    "    "
   ]
  },
  {
   "cell_type": "code",
   "execution_count": null,
   "metadata": {
    "collapsed": true
   },
   "outputs": [],
   "source": [
    "#1 - Answer\n",
    "\"\"\"\n",
    "Is the distribution of body temperatures normal? Yes\n",
    "  Histogram resembles o a Bell Curve\n",
    "  Based on the p_value( 0.26)> 0.05 it is a Normal Distribution\n",
    "\"\"\"\n"
   ]
  },
  {
   "cell_type": "code",
   "execution_count": 5,
   "metadata": {},
   "outputs": [
    {
     "data": {
      "text/plain": [
       "130"
      ]
     },
     "execution_count": 5,
     "metadata": {},
     "output_type": "execute_result"
    }
   ],
   "source": [
    "##############################################\n",
    "#2 - Is the sample size large? Are the observations independent?\n",
    "len(df_temp)\n"
   ]
  },
  {
   "cell_type": "code",
   "execution_count": null,
   "metadata": {
    "collapsed": true
   },
   "outputs": [],
   "source": [
    "#2 - Answer\n",
    "\"\"\"\n",
    "Is the sample size large? Are the observations independent? Yes\n",
    "\n",
    "    len(df_temp) = 130\n",
    "    Central Limit Theorem (CLT) - Investopedia\n",
    "       As a general rule, sample sizes equal to or greater than 30 are considered\n",
    "       sufficient for the central limit theorem to hold, meaning the distribution of the\n",
    "       sample means is fairly normally distributed.\n",
    "\"\"\""
   ]
  },
  {
   "cell_type": "code",
   "execution_count": 6,
   "metadata": {
    "collapsed": true
   },
   "outputs": [],
   "source": [
    "##############################################\n",
    "# Define a function bootstrap_resample\n",
    "\n",
    "def bootstrap_resample(X, n=None):\n",
    "    \"\"\" Bootstrap resample an array_like\n",
    "    Parameters\n",
    "    ----------\n",
    "    X : array_like\n",
    "      data to resample\n",
    "    n : int, optional\n",
    "      length of resampled array, equal to len(X) if n==None\n",
    "    Results\n",
    "    -------\n",
    "    returns X_resamples\n",
    "    \"\"\"\n",
    "    if n == None:\n",
    "        n = len(X)\n",
    "        \n",
    "    resample_i = np.floor(np.random.rand(n)*len(X)).astype(int)\n",
    "    X_resample = X[resample_i]\n",
    "    return X_resample\n"
   ]
  },
  {
   "cell_type": "code",
   "execution_count": null,
   "metadata": {
    "collapsed": true
   },
   "outputs": [],
   "source": [
    "##############################################\n",
    "#3 - Is the true population mean really 98.6 degrees F?\n",
    "\"\"\"\n",
    "First, try a bootstrap hypothesis test.\n",
    "\n",
    "Now, let's try frequentist statistical testing. Would you use a one-sample or two-sample test? Why? \n",
    "\n",
    "In this situation, is it appropriate to use the t or z statistic?\n",
    "\n",
    "Now try using the other test. How is the result be different? Why?\n",
    "\"\"\"\n",
    "#\n"
   ]
  },
  {
   "cell_type": "code",
   "execution_count": 11,
   "metadata": {},
   "outputs": [
    {
     "name": "stdout",
     "output_type": "stream",
     "text": [
      "98.10769230769236 0.78288482795757 0.09710491184963532 -0.4923076923076337 -5.07\n"
     ]
    }
   ],
   "source": [
    "# Generating bootstrap replicates\n",
    "bs_sample = bootstrap_resample(df_temp.temperature, n=65)\n",
    "\n",
    "# Initialize\n",
    "mean_pop = 98.6\n",
    "mean=bs_sample.mean()\n",
    "std=bs_sample.std()\n",
    "size_n=bs_sample.size\n",
    "\n",
    "# Z_value \n",
    "mean_diff=mean-mean_pop\n",
    "SE=std/(size_n**0.5)\n",
    "Zval=round(float((mean_diff)/SE),3)\n",
    "print(mean, std, SE, mean_diff,Zval)\n"
   ]
  },
  {
   "cell_type": "code",
   "execution_count": 12,
   "metadata": {},
   "outputs": [
    {
     "name": "stdout",
     "output_type": "stream",
     "text": [
      "3.97815702207e-07\n"
     ]
    }
   ],
   "source": [
    "# p_value\n",
    "p_value=stats.norm.sf(abs(Zval))*2\n",
    "print(p_value)\n"
   ]
  },
  {
   "cell_type": "code",
   "execution_count": 13,
   "metadata": {},
   "outputs": [
    {
     "name": "stdout",
     "output_type": "stream",
     "text": [
      "98.24923076923078 0.7331831580389454 0.06430441683789101 -0.35076923076921673 -5.455\n"
     ]
    }
   ],
   "source": [
    "# Initialize\n",
    "mean_pop = 98.6\n",
    "mean=df_temp.temperature.mean()\n",
    "std=df_temp.temperature.std()\n",
    "size_n=df_temp.temperature.size\n",
    "\n",
    "# Z_value \n",
    "mean_diff=mean-mean_pop\n",
    "SE=std/(size_n**0.5)\n",
    "Zval=round(float((mean_diff)/SE),3)\n",
    "print(mean, std, SE, mean_diff,Zval)\n",
    "\n",
    "Tval=round(float((mean_diff)/SE),3)\n"
   ]
  },
  {
   "cell_type": "code",
   "execution_count": null,
   "metadata": {
    "collapsed": true
   },
   "outputs": [],
   "source": [
    "#Comparing Z-statistic and t-statistic\n"
   ]
  },
  {
   "cell_type": "code",
   "execution_count": 14,
   "metadata": {},
   "outputs": [
    {
     "name": "stdout",
     "output_type": "stream",
     "text": [
      "1.97852449146\n"
     ]
    }
   ],
   "source": [
    "#    Critical t-value MOE-margin of error\n",
    "critical_t=stats.t.ppf(0.975, size_n-1)\n",
    "print(critical_t)\n"
   ]
  },
  {
   "cell_type": "code",
   "execution_count": 15,
   "metadata": {},
   "outputs": [
    {
     "name": "stdout",
     "output_type": "stream",
     "text": [
      "0.127227863623\n"
     ]
    }
   ],
   "source": [
    "moe_t=critical_t*std/np.sqrt(size_n)\n",
    "print(moe_t)\n"
   ]
  },
  {
   "cell_type": "code",
   "execution_count": 16,
   "metadata": {
    "collapsed": true
   },
   "outputs": [],
   "source": [
    "# Range of true mean using t- statistic with 95% confidence level, n=130 so degrees of freedom=129\n",
    "mean_t1=mean+moe_t\n",
    "mean_t2=mean-moe_t\n"
   ]
  },
  {
   "cell_type": "code",
   "execution_count": 17,
   "metadata": {},
   "outputs": [
    {
     "name": "stdout",
     "output_type": "stream",
     "text": [
      "1.95996398454\n",
      "0.126034341049\n"
     ]
    }
   ],
   "source": [
    "#Critical z-value MOE-margin of error\n",
    "critical_z=stats.norm.ppf(0.975)\n",
    "print(critical_z)\n",
    "\n",
    "moe_z=std*critical_z/np.sqrt(size_n)\n",
    "print(moe_z)\n",
    "\n",
    "# Range of true mean using z-statistic with 95% confidence level\n",
    "mean_z1=mean+moe_z\n",
    "mean_z2=mean-moe_z\n"
   ]
  },
  {
   "cell_type": "code",
   "execution_count": 18,
   "metadata": {},
   "outputs": [
    {
     "name": "stdout",
     "output_type": "stream",
     "text": [
      "Range 95% confindence level, range of true mean for \n",
      "    z-statistic:  98.12 98.38\n",
      "    t-statistic:  98.12 98.38\n"
     ]
    }
   ],
   "source": [
    "print('Range 95% confindence level, range of true mean for ')\n",
    "print('    z-statistic: ', round(mean_z2,2), round(mean_z1,2))\n",
    "print('    t-statistic: ', round(mean_t2,2), round(mean_t1,2))\n"
   ]
  },
  {
   "cell_type": "code",
   "execution_count": 19,
   "metadata": {},
   "outputs": [
    {
     "name": "stdout",
     "output_type": "stream",
     "text": [
      "4.89728454795e-08\n",
      "False: H0 - Population Mean is 98.6 F \n"
     ]
    }
   ],
   "source": [
    "# H0 - Population Mean is 98.6 F  \n",
    "p_value=stats.norm.sf(abs(Zval))*2\n",
    "print(p_value)\n",
    "             \n",
    "if p_value<0.05:\n",
    "    print('False: H0 - Population Mean is 98.6 F ')\n",
    "else:\n",
    "    print('True : H0 - Population Mean is 98.6 F ')\n",
    "    "
   ]
  },
  {
   "cell_type": "code",
   "execution_count": null,
   "metadata": {
    "collapsed": true
   },
   "outputs": [],
   "source": [
    "#3 - Answer\n",
    "\"\"\"\n",
    "Is the true population mean really 98.6 degrees F? No\n",
    "  The sample mean of 98.25F is 5.18(Zval) standard error units below the given population mean of 98.6F\n",
    "  H0 - True Population Mean is 98.6 False \n",
    "\n",
    "One sample test is appropriate to use since a set of temperatures will be tested against the population mean of 98.6 F.\n",
    " 1-sample t-test compares one sample mean to a null hypothesis value\n",
    " \n",
    "\n",
    "Ideally t and z test will both work for large dataset. In this case, used the z test \n",
    "since the dataset is 130 > 30\n",
    "\n",
    "Now try using the other test.\n",
    "    How is the result be different?\n",
    "        95% confindence level, range of true mean is  98.12  F to  98.38  F.\n",
    "        for both tests\n",
    "    Why?\n",
    "\n",
    "If p_value is <  0.05, then H0 is False.\n",
    "   p_value = 4.89728454795e-08:  False: H0 - Population Mean is 98.6 F\n",
    "\n",
    "\"\"\"\n"
   ]
  },
  {
   "cell_type": "code",
   "execution_count": 21,
   "metadata": {},
   "outputs": [
    {
     "name": "stdout",
     "output_type": "stream",
     "text": [
      "[ 97.5  98.7  97.5  98.   97.7  98.5  98.4  98.8  99.   98.6]\n"
     ]
    }
   ],
   "source": [
    "##############################################\n",
    "#4 - Draw a small sample of size 10 from the data and repeat both frequentist tests.\n",
    "\n",
    "# Get subset of data (10)\n",
    "\n",
    "np10 = np.empty(10)\n",
    "for i in range(10):\n",
    "    np10[i]= np.random.choice(df_temp.temperature)\n",
    "\n",
    "print(np10)\n"
   ]
  },
  {
   "cell_type": "code",
   "execution_count": 22,
   "metadata": {},
   "outputs": [
    {
     "name": "stdout",
     "output_type": "stream",
     "text": [
      "98.27 0.525452186217 0.166162570996 -0.33 -1.986\n"
     ]
    }
   ],
   "source": [
    "# Initialize\n",
    "mean_pop = 98.6\n",
    "mean=np10.mean()\n",
    "std=np10.std()\n",
    "size_n=np10.size\n",
    "\n",
    "# Z_value\n",
    "mean_diff=mean-mean_pop\n",
    "SE=std/(size_n**0.5)\n",
    "Tval=round(float((mean_diff)/SE),3)\n",
    "print(mean, std, SE, mean_diff,Tval)\n"
   ]
  },
  {
   "cell_type": "code",
   "execution_count": 23,
   "metadata": {
    "scrolled": false
   },
   "outputs": [
    {
     "name": "stdout",
     "output_type": "stream",
     "text": [
      "2.26215716274\n",
      "0.375885850158\n",
      "1.95996398454\n",
      "0.325672654731\n",
      "Range 95% confindence level, range of true mean for \n",
      "    z-statistic:  97.94 98.6\n",
      "    t-statistic:  97.89 98.65\n"
     ]
    }
   ],
   "source": [
    "#Comparing Z-statistic and t-statistic\n",
    "#    Critical t-value MOE-margin of error\n",
    "critical_t=stats.t.ppf(0.975, size_n-1)\n",
    "print(critical_t)\n",
    "\n",
    "moe_t=critical_t*std/np.sqrt(size_n)\n",
    "print(moe_t)\n",
    "\n",
    "# Range of true mean using t- statistic with 95% confidence level, n=130 so degrees of freedom=129\n",
    "mean_t1=mean+moe_t\n",
    "mean_t2=mean-moe_t\n",
    "\n",
    "#Critical z-value MOE-margin of error\n",
    "critical_z=stats.norm.ppf(0.975)\n",
    "print(critical_z)\n",
    "\n",
    "moe_z=std*critical_z/np.sqrt(size_n)\n",
    "print(moe_z)\n",
    "\n",
    "# Range of true mean using z-statistic with 95% confidence level\n",
    "mean_z1=mean+moe_z\n",
    "mean_z2=mean-moe_z\n",
    "\n",
    "print('Range 95% confindence level, range of true mean for ')\n",
    "print('    z-statistic: ', round(mean_z2,2), round(mean_z1,2))\n",
    "print('    t-statistic: ', round(mean_t2,2), round(mean_t1,2))\n"
   ]
  },
  {
   "cell_type": "code",
   "execution_count": null,
   "metadata": {
    "collapsed": true
   },
   "outputs": [],
   "source": [
    "#4 - Answer\n",
    "\"\"\"\n",
    "Which one is the correct one to use?\n",
    "   There are very similar,  I would recommend to use the larger dataset\n",
    "   \n",
    "What do you notice? What does this tell you about the difference in\n",
    "    application of the t and z statistic? Smaller data sets creates more noise\n",
    "\n",
    "    Range 95% confindence level, range of true mean for \n",
    "    z-statistic:  97.94 98.6\n",
    "    t-statistic:  97.89 98.65\n",
    "\n",
    "    Original data\n",
    "mean \t std, \t\t             Zval     SE \t\t        mean_diff\n",
    "98.25      0.7331831580389454      -5.455   0.06430441683789101   -0.35076923076921673\n",
    "\n",
    "Data sample of 10\n",
    "mean     std,                       Tval       SE                       mean_diff\n",
    "98.27      0.525452186217         -1.986     0.166162570996            -0.33\n",
    "\n",
    "\"\"\"\n"
   ]
  },
  {
   "cell_type": "code",
   "execution_count": null,
   "metadata": {
    "collapsed": true
   },
   "outputs": [],
   "source": [
    "##############################################\n",
    "#5 - At what temperature should we consider someone's temperature to be \"abnormal\"?\n",
    "\"\"\"\n",
    "As in the previous example, try calculating everything using the boostrap approach,\n",
    "   as well as the frequentist approach.\n",
    "   \n",
    "Start by computing the margin of error and confidence interval. When calculating\n",
    "   the confidence interval, keep in mind that you should use the appropriate formula\n",
    "   for one draw, and not N draws.\n",
    "\"\"\"\n",
    "#"
   ]
  },
  {
   "cell_type": "code",
   "execution_count": 25,
   "metadata": {},
   "outputs": [
    {
     "name": "stdout",
     "output_type": "stream",
     "text": [
      "critical_z 1.95996398454\n",
      "moe_z 0.178879973645\n",
      "CI  [ 98.13803982  98.49580634] Mean 98.31692307692306\n",
      "Outside the range of  97.94  to  98.6  is abnormal\n"
     ]
    }
   ],
   "source": [
    "\n",
    "# Generating bootstrap replicates\n",
    "bs_sample = bootstrap_resample(df_temp.temperature, n=65)\n",
    "\n",
    "\n",
    "# Initialize\n",
    "mean=bs_sample.mean()\n",
    "std=bs_sample.std()\n",
    "size_n=bs_sample.size\n",
    "#\n",
    "#Critical z-value MOE-margin of error\n",
    "critical_z=stats.norm.ppf(0.975)\n",
    "print(\"critical_z\",critical_z)\n",
    "\n",
    "moe_z=std*critical_z/np.sqrt(size_n)\n",
    "print(\"moe_z\",moe_z)\n",
    "#\n",
    "moe_z = 1.96 * std/ np.sqrt(size_n)\n",
    "ci = mean + np.array([-1, 1]) * moe_z\n",
    "print(\"CI \",ci, \"Mean\", mean)\n",
    "print(\"Outside the range of \", round(mean_z2,2), \" to \", round(mean_z1,2), \" is abnormal\")\n"
   ]
  },
  {
   "cell_type": "code",
   "execution_count": 26,
   "metadata": {},
   "outputs": [
    {
     "name": "stdout",
     "output_type": "stream",
     "text": [
      "[ 98.12319411  98.37526743] 98.24923076923078\n",
      "Outside the range of  97.94  to  98.6  is abnormal\n"
     ]
    }
   ],
   "source": [
    "# Initialize\n",
    "mean=df_temp.temperature.mean()\n",
    "std=df_temp.temperature.std()\n",
    "size_n=df_temp.temperature.size\n",
    "#\n",
    "moe_z = 1.96 * std/ np.sqrt(size_n)\n",
    "ci = mean + np.array([-1, 1]) * moe_z\n",
    "print(ci, mean)\n",
    "print(\"Outside the range of \", round(mean_z2,2), \" to \", round(mean_z1,2), \" is abnormal\")\n"
   ]
  },
  {
   "cell_type": "code",
   "execution_count": null,
   "metadata": {
    "collapsed": true
   },
   "outputs": [],
   "source": [
    "#5 - Answer\n",
    "\"\"\"\n",
    "Using bootstrap approach: Outside the range of  97.94  to  98.6  is abnormal\n",
    "  CI  [ 98.13803982  98.49580634] Mean 98.31692307692306\n",
    "  Outside the range of  97.94  to  98.6  is abnormal\n",
    "\n",
    "Using frequentist approach Outside the range of  97.94  to  98.6  is abnormal\n",
    "  CI [ 98.12319411  98.37526743] Mean 98.24923076923078\n",
    "  Outside the range of  97.94  to  98.6  is abnormal\n",
    "\"\"\"\n"
   ]
  },
  {
   "cell_type": "code",
   "execution_count": null,
   "metadata": {
    "collapsed": true
   },
   "outputs": [],
   "source": [
    "##############################################\n",
    "# - 6 Is there a significant difference between males and females in normal temperature?\n"
   ]
  },
  {
   "cell_type": "code",
   "execution_count": 29,
   "metadata": {},
   "outputs": [
    {
     "name": "stdout",
     "output_type": "stream",
     "text": [
      "Female        temperature  heart_rate\n",
      "count    65.000000   65.000000\n",
      "mean     98.393846   74.153846\n",
      "std       0.743488    8.105227\n",
      "min      96.400000   57.000000\n",
      "25%      98.000000   68.000000\n",
      "50%      98.400000   76.000000\n",
      "75%      98.800000   80.000000\n",
      "max     100.800000   89.000000\n",
      "Female        temperature  heart_rate\n",
      "count    65.000000   65.000000\n",
      "mean     98.104615   73.369231\n",
      "std       0.698756    5.875184\n",
      "min      96.300000   58.000000\n",
      "25%      97.600000   70.000000\n",
      "50%      98.100000   73.000000\n",
      "75%      98.600000   78.000000\n",
      "max      99.500000   86.000000\n"
     ]
    }
   ],
   "source": [
    "# Get subset of data (Male and Female)\n",
    "df_F=df_temp[df_temp.gender=='F']\n",
    "df_M=df_temp[df_temp.gender=='M']\n",
    "\n",
    "# EDA\n",
    "print(\"Female\",df_F.describe())\n",
    "print(\"Female\",df_M.describe())\n"
   ]
  },
  {
   "cell_type": "code",
   "execution_count": 30,
   "metadata": {},
   "outputs": [
    {
     "name": "stdout",
     "output_type": "stream",
     "text": [
      "Zval:  2.285\n"
     ]
    }
   ],
   "source": [
    "# H0 - Female and Male temperatures are the same\n",
    "# null hypothesis for a 2-sample t-test is that the two groups are equal \n",
    "# Initialize\n",
    "mean_F=df_F.temperature.mean()\n",
    "std_F=df_F.temperature.std()\n",
    "size_F=df_F.temperature.size\n",
    "\n",
    "\n",
    "mean_M=df_M.temperature.mean()\n",
    "std_M=df_M.temperature.std()\n",
    "size_M=df_M.temperature.size\n",
    "\n",
    "\n",
    "# Z_value\n",
    "mean_diff=mean_F- mean_M\n",
    "SE=((std_M**2)/size_M + (std_F**2)/size_F)**0.5\n",
    "Zval=round(float((mean_diff)/SE),3)\n",
    "print(\"Zval: \",Zval)\n"
   ]
  },
  {
   "cell_type": "code",
   "execution_count": 31,
   "metadata": {},
   "outputs": [
    {
     "name": "stdout",
     "output_type": "stream",
     "text": [
      "Degrees of Freedom:  127.5103008303909\n"
     ]
    }
   ],
   "source": [
    "# Degrees of Freedom Calculation\n",
    "dg_f_F=std_F**2/size_F\n",
    "dg_f_M=std_M**2/size_M\n",
    "\n",
    "dg_f=((dg_f_F+dg_f_M)**2)/(((dg_f_F**2)/(size_F-1))+((dg_f_M**2)/(size_M-1)))\n",
    "print(\"Degrees of Freedom: \", dg_f)\n"
   ]
  },
  {
   "cell_type": "code",
   "execution_count": 34,
   "metadata": {},
   "outputs": [
    {
     "name": "stdout",
     "output_type": "stream",
     "text": [
      "p_value:  0.0491781809443\n",
      "False: H0 - Female and Male temperatures are the same \n"
     ]
    }
   ],
   "source": [
    "# # H0 - Female and Male temperatures are the same\n",
    "p_value = stats.t.sf(np.abs(Tval), dg_f)*2  \n",
    "print(\"p_value: \",p_value)\n",
    "           \n",
    "# H0 - Female and Male temperatures are the same \n",
    "if p_value<0.05:\n",
    "    print('False: H0 - Female and Male temperatures are the same ')\n",
    "else:\n",
    "    print('True : H0 - Female and Male temperatures are the same ')\n",
    "\n"
   ]
  },
  {
   "cell_type": "code",
   "execution_count": 36,
   "metadata": {
    "collapsed": true
   },
   "outputs": [],
   "source": [
    "#  Define ECDF \n",
    "def ecdf(data):\n",
    "    \"\"\"Compute ECDF for a one-dimensional array of measurements.\"\"\"\n",
    "\n",
    "    # Number of data points: n\n",
    "    n = len(data)\n",
    "\n",
    "    # x-data for the ECDF: x\n",
    "    x = np.sort(data)\n",
    "\n",
    "    # y-data for the ECDF: y\n",
    "    y = np.arange(1,n+1) / n\n",
    "    return x, y\n"
   ]
  },
  {
   "cell_type": "code",
   "execution_count": 37,
   "metadata": {},
   "outputs": [
    {
     "data": {
      "image/png": "[encoded data removed]",
      "text/plain": [
       "<matplotlib.figure.Figure at 0x14f1ea640b8>"
      ]
     },
     "metadata": {},
     "output_type": "display_data"
    }
   ],
   "source": [
    "# Compute x,y values for ECDFs\n",
    "x_M, y_M = ecdf(df_M.temperature)\n",
    "x_F, y_F = ecdf(df_F.temperature)\n",
    "\n",
    "# Plot the ECDFs\n",
    "plt.plot(x_M, y_M, marker='.', linestyle='none', color='blue')\n",
    "plt.plot(x_F, y_F, marker='.', linestyle='none',color='red')\n",
    "\n",
    "# Set the margins\n",
    "plt.margins(0.02)\n",
    "\n",
    "# Add a legend\n",
    "plt.legend(('Males', 'Females'), loc='lower right')\n",
    "\n",
    "# Label axes and show plot\n",
    "plt.xlabel('Temperatures')\n",
    "plt.ylabel('ECDF')\n",
    "plt.show()\n"
   ]
  },
  {
   "cell_type": "code",
   "execution_count": null,
   "metadata": {
    "collapsed": true
   },
   "outputs": [],
   "source": [
    "#6 - Answer\n",
    "\"\"\"\n",
    "Is there a significant difference between males and females in normal temperature? Yes,\n",
    "    There is a significant difference between males and females in normal temperature\n",
    "\n",
    "What testing approach did you use and why?\n",
    "    Two-Sample Z-scores\n",
    "    null hypothesis for a 2-sample Z-scores is that the two groups are equal \n",
    "    "
   ]
  },
  {
   "cell_type": "code",
   "execution_count": null,
   "metadata": {
    "collapsed": true
   },
   "outputs": [],
   "source": []
  }
 ],
 "metadata": {
  "kernelspec": {
   "display_name": "Python 3",
   "language": "python",
   "name": "python3"
  },
  "language_info": {
   "codemirror_mode": {
    "name": "ipython",
    "version": 3
   },
   "file_extension": ".py",
   "mimetype": "text/x-python",
   "name": "python",
   "nbconvert_exporter": "python",
   "pygments_lexer": "ipython3",
   "version": "3.6.3"
  }
 },
 "nbformat": 4,
 "nbformat_minor": 2
}
